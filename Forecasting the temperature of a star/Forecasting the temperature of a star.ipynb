{
 "cells": [
  {
   "cell_type": "markdown",
   "id": "13dc40ec",
   "metadata": {},
   "source": [
    "# Прогнозирование температуры звезды"
   ]
  },
  {
   "cell_type": "markdown",
   "id": "8d29c374",
   "metadata": {},
   "source": [
    "**Заказчик: обсерватория «Небо на ладони».**\n",
    "\n",
    "**Задача: разработать нейронную сеть, предсказывающую абсолютную температуру на поверхности звезды.**\n",
    "\n",
    "**Получены данные 240 звезд.**\n",
    "\n",
    "**Имеющиеся характеристики:**\n",
    "* Относительная светимость L/Lo — светимость звезды относительно Солнца.\n",
    "* Относительный радиус R/Ro — радиус звезды относительно радиуса Солнца.\n",
    "* Абсолютная звёздная величина Mv — физическая величина, характеризующая блеск звезды.\n",
    "* Звёздный цвет (white, red, blue, yellow, yellow-orange и др.) — цвет звезды, который определяют на основе спектрального анализа.\n",
    "* Тип звезды.\n",
    "\n",
    "\n",
    "*Тип звезды и номер, соответствующий типу: Коричневый карлик - 0, Красный карлик\t- 1, Белый карлик -\t2, Звёзды главной последовательности - 3, Сверхгигант - 4, Гипергигант - 5.*\n",
    "\n",
    "* Абсолютная температура T(K) — температура на поверхности звезды в Кельвинах.\n",
    "\n",
    "**Справочная информация:**\n",
    "* Светимость Солнца (англ. Average Luminosity of Sun) Lo = 3.828 * 10^26, Вт\n",
    "* Радиус Солнца (англ. Average Radius of Sun) Ro = 6.9551 * 10^8, м"
   ]
  },
  {
   "cell_type": "code",
   "execution_count": 2,
   "id": "4ec39722",
   "metadata": {},
   "outputs": [],
   "source": [
    "!pip install -U skorch >> None"
   ]
  },
  {
   "cell_type": "markdown",
   "id": "ab79f63b",
   "metadata": {
    "ExecuteTime": {
     "end_time": "2022-05-05T04:58:05.692448Z",
     "start_time": "2022-05-05T04:58:05.688565Z"
    }
   },
   "source": [
    "## Загрузка данных"
   ]
  },
  {
   "cell_type": "code",
   "execution_count": 2,
   "id": "56008184",
   "metadata": {},
   "outputs": [],
   "source": [
    "# Импортируем библиотеки\n",
    "import pandas as pd\n",
    "import numpy as np\n",
    "import matplotlib.pyplot as plt\n",
    "import seaborn as sns\n",
    "import torch\n",
    "import torch.nn as nn\n",
    "import itertools\n",
    "from skorch.callbacks import EpochScoring, EarlyStopping\n",
    "from skorch import NeuralNetRegressor\n",
    "from sklearn.model_selection import RandomizedSearchCV\n",
    "from math import ceil\n",
    "from sklearn.model_selection import train_test_split\n",
    "from sklearn.metrics import mean_squared_error\n",
    "from sklearn.preprocessing import OneHotEncoder\n",
    "from sklearn.preprocessing import StandardScaler\n",
    "from tqdm import tqdm\n",
    "import sys\n",
    "from sklearn.preprocessing import OrdinalEncoder\n",
    "from sklearn.metrics import make_scorer\n",
    "TEST_SIZE = 0.2"
   ]
  },
  {
   "cell_type": "code",
   "execution_count": 3,
   "id": "b8276b1c",
   "metadata": {},
   "outputs": [],
   "source": [
    "df = pd.read_csv('/datasets/6_class.csv')"
   ]
  },
  {
   "cell_type": "code",
   "execution_count": 4,
   "id": "f925b77b",
   "metadata": {},
   "outputs": [
    {
     "data": {
      "text/html": [
       "<div>\n",
       "<style scoped>\n",
       "    .dataframe tbody tr th:only-of-type {\n",
       "        vertical-align: middle;\n",
       "    }\n",
       "\n",
       "    .dataframe tbody tr th {\n",
       "        vertical-align: top;\n",
       "    }\n",
       "\n",
       "    .dataframe thead th {\n",
       "        text-align: right;\n",
       "    }\n",
       "</style>\n",
       "<table border=\"1\" class=\"dataframe\">\n",
       "  <thead>\n",
       "    <tr style=\"text-align: right;\">\n",
       "      <th></th>\n",
       "      <th>Unnamed: 0</th>\n",
       "      <th>Temperature (K)</th>\n",
       "      <th>Luminosity(L/Lo)</th>\n",
       "      <th>Radius(R/Ro)</th>\n",
       "      <th>Absolute magnitude(Mv)</th>\n",
       "      <th>Star type</th>\n",
       "      <th>Star color</th>\n",
       "    </tr>\n",
       "  </thead>\n",
       "  <tbody>\n",
       "    <tr>\n",
       "      <th>0</th>\n",
       "      <td>0</td>\n",
       "      <td>3068</td>\n",
       "      <td>0.002400</td>\n",
       "      <td>0.1700</td>\n",
       "      <td>16.12</td>\n",
       "      <td>0</td>\n",
       "      <td>Red</td>\n",
       "    </tr>\n",
       "    <tr>\n",
       "      <th>1</th>\n",
       "      <td>1</td>\n",
       "      <td>3042</td>\n",
       "      <td>0.000500</td>\n",
       "      <td>0.1542</td>\n",
       "      <td>16.60</td>\n",
       "      <td>0</td>\n",
       "      <td>Red</td>\n",
       "    </tr>\n",
       "    <tr>\n",
       "      <th>2</th>\n",
       "      <td>2</td>\n",
       "      <td>2600</td>\n",
       "      <td>0.000300</td>\n",
       "      <td>0.1020</td>\n",
       "      <td>18.70</td>\n",
       "      <td>0</td>\n",
       "      <td>Red</td>\n",
       "    </tr>\n",
       "    <tr>\n",
       "      <th>3</th>\n",
       "      <td>3</td>\n",
       "      <td>2800</td>\n",
       "      <td>0.000200</td>\n",
       "      <td>0.1600</td>\n",
       "      <td>16.65</td>\n",
       "      <td>0</td>\n",
       "      <td>Red</td>\n",
       "    </tr>\n",
       "    <tr>\n",
       "      <th>4</th>\n",
       "      <td>4</td>\n",
       "      <td>1939</td>\n",
       "      <td>0.000138</td>\n",
       "      <td>0.1030</td>\n",
       "      <td>20.06</td>\n",
       "      <td>0</td>\n",
       "      <td>Red</td>\n",
       "    </tr>\n",
       "  </tbody>\n",
       "</table>\n",
       "</div>"
      ],
      "text/plain": [
       "   Unnamed: 0  Temperature (K)  Luminosity(L/Lo)  Radius(R/Ro)  \\\n",
       "0           0             3068          0.002400        0.1700   \n",
       "1           1             3042          0.000500        0.1542   \n",
       "2           2             2600          0.000300        0.1020   \n",
       "3           3             2800          0.000200        0.1600   \n",
       "4           4             1939          0.000138        0.1030   \n",
       "\n",
       "   Absolute magnitude(Mv)  Star type Star color  \n",
       "0                   16.12          0        Red  \n",
       "1                   16.60          0        Red  \n",
       "2                   18.70          0        Red  \n",
       "3                   16.65          0        Red  \n",
       "4                   20.06          0        Red  "
      ]
     },
     "execution_count": 4,
     "metadata": {},
     "output_type": "execute_result"
    }
   ],
   "source": [
    "df.head()"
   ]
  },
  {
   "cell_type": "markdown",
   "id": "simple-subdivision",
   "metadata": {},
   "source": [
    "## Предобработка и анализ данных"
   ]
  },
  {
   "cell_type": "markdown",
   "id": "966a97f2",
   "metadata": {},
   "source": [
    "### Общая информация о данных"
   ]
  },
  {
   "cell_type": "code",
   "execution_count": 5,
   "id": "flush-dream",
   "metadata": {
    "scrolled": false
   },
   "outputs": [
    {
     "name": "stdout",
     "output_type": "stream",
     "text": [
      "Общая информация о данных\n",
      "<class 'pandas.core.frame.DataFrame'>\n",
      "RangeIndex: 240 entries, 0 to 239\n",
      "Data columns (total 7 columns):\n",
      " #   Column                  Non-Null Count  Dtype  \n",
      "---  ------                  --------------  -----  \n",
      " 0   Unnamed: 0              240 non-null    int64  \n",
      " 1   Temperature (K)         240 non-null    int64  \n",
      " 2   Luminosity(L/Lo)        240 non-null    float64\n",
      " 3   Radius(R/Ro)            240 non-null    float64\n",
      " 4   Absolute magnitude(Mv)  240 non-null    float64\n",
      " 5   Star type               240 non-null    int64  \n",
      " 6   Star color              240 non-null    object \n",
      "dtypes: float64(3), int64(3), object(1)\n",
      "memory usage: 13.2+ KB\n",
      "\n",
      "Количество пропусков в каждом столбце\n",
      "Unnamed: 0                0\n",
      "Temperature (K)           0\n",
      "Luminosity(L/Lo)          0\n",
      "Radius(R/Ro)              0\n",
      "Absolute magnitude(Mv)    0\n",
      "Star type                 0\n",
      "Star color                0\n",
      "dtype: int64\n",
      "\n",
      "Количество дубликатов\n",
      "0\n"
     ]
    }
   ],
   "source": [
    "def info(data):\n",
    "    print('Общая информация о данных')\n",
    "    data.info()\n",
    "    print()\n",
    "    print('Количество пропусков в каждом столбце')\n",
    "    print(data.isnull().sum())\n",
    "    print()\n",
    "    print('Количество дубликатов')\n",
    "    print(data.duplicated().sum())\n",
    "    return \n",
    "info(df)"
   ]
  },
  {
   "cell_type": "markdown",
   "id": "e8d7c4af",
   "metadata": {},
   "source": [
    "Как и было заявлено, в наличии характеристики о 240 звездах. Пропусков и дубликатов нет. В столбцах Temperature (K), Luminosity(L/Lo), Radius(R/Ro)\tнаходятся количественные переменные, а в Star type и Star color - категориальные. Столбец Unnamed: 0 не несет смысловой нагрузки, дублирует индексы, поэтому можем его удалить."
   ]
  },
  {
   "cell_type": "code",
   "execution_count": 6,
   "id": "11dc0114",
   "metadata": {},
   "outputs": [
    {
     "data": {
      "text/html": [
       "<div>\n",
       "<style scoped>\n",
       "    .dataframe tbody tr th:only-of-type {\n",
       "        vertical-align: middle;\n",
       "    }\n",
       "\n",
       "    .dataframe tbody tr th {\n",
       "        vertical-align: top;\n",
       "    }\n",
       "\n",
       "    .dataframe thead th {\n",
       "        text-align: right;\n",
       "    }\n",
       "</style>\n",
       "<table border=\"1\" class=\"dataframe\">\n",
       "  <thead>\n",
       "    <tr style=\"text-align: right;\">\n",
       "      <th></th>\n",
       "      <th>Temperature (K)</th>\n",
       "      <th>Luminosity(L/Lo)</th>\n",
       "      <th>Radius(R/Ro)</th>\n",
       "      <th>Absolute magnitude(Mv)</th>\n",
       "      <th>Star type</th>\n",
       "      <th>Star color</th>\n",
       "    </tr>\n",
       "  </thead>\n",
       "  <tbody>\n",
       "    <tr>\n",
       "      <th>0</th>\n",
       "      <td>3068</td>\n",
       "      <td>0.002400</td>\n",
       "      <td>0.1700</td>\n",
       "      <td>16.12</td>\n",
       "      <td>0</td>\n",
       "      <td>Red</td>\n",
       "    </tr>\n",
       "    <tr>\n",
       "      <th>1</th>\n",
       "      <td>3042</td>\n",
       "      <td>0.000500</td>\n",
       "      <td>0.1542</td>\n",
       "      <td>16.60</td>\n",
       "      <td>0</td>\n",
       "      <td>Red</td>\n",
       "    </tr>\n",
       "    <tr>\n",
       "      <th>2</th>\n",
       "      <td>2600</td>\n",
       "      <td>0.000300</td>\n",
       "      <td>0.1020</td>\n",
       "      <td>18.70</td>\n",
       "      <td>0</td>\n",
       "      <td>Red</td>\n",
       "    </tr>\n",
       "    <tr>\n",
       "      <th>3</th>\n",
       "      <td>2800</td>\n",
       "      <td>0.000200</td>\n",
       "      <td>0.1600</td>\n",
       "      <td>16.65</td>\n",
       "      <td>0</td>\n",
       "      <td>Red</td>\n",
       "    </tr>\n",
       "    <tr>\n",
       "      <th>4</th>\n",
       "      <td>1939</td>\n",
       "      <td>0.000138</td>\n",
       "      <td>0.1030</td>\n",
       "      <td>20.06</td>\n",
       "      <td>0</td>\n",
       "      <td>Red</td>\n",
       "    </tr>\n",
       "  </tbody>\n",
       "</table>\n",
       "</div>"
      ],
      "text/plain": [
       "   Temperature (K)  Luminosity(L/Lo)  Radius(R/Ro)  Absolute magnitude(Mv)  \\\n",
       "0             3068          0.002400        0.1700                   16.12   \n",
       "1             3042          0.000500        0.1542                   16.60   \n",
       "2             2600          0.000300        0.1020                   18.70   \n",
       "3             2800          0.000200        0.1600                   16.65   \n",
       "4             1939          0.000138        0.1030                   20.06   \n",
       "\n",
       "   Star type Star color  \n",
       "0          0        Red  \n",
       "1          0        Red  \n",
       "2          0        Red  \n",
       "3          0        Red  \n",
       "4          0        Red  "
      ]
     },
     "execution_count": 6,
     "metadata": {},
     "output_type": "execute_result"
    }
   ],
   "source": [
    "df = df.drop('Unnamed: 0', axis=1)\n",
    "df.head()"
   ]
  },
  {
   "cell_type": "code",
   "execution_count": 7,
   "id": "dc1650af",
   "metadata": {
    "scrolled": true
   },
   "outputs": [
    {
     "data": {
      "text/html": [
       "<div>\n",
       "<style scoped>\n",
       "    .dataframe tbody tr th:only-of-type {\n",
       "        vertical-align: middle;\n",
       "    }\n",
       "\n",
       "    .dataframe tbody tr th {\n",
       "        vertical-align: top;\n",
       "    }\n",
       "\n",
       "    .dataframe thead th {\n",
       "        text-align: right;\n",
       "    }\n",
       "</style>\n",
       "<table border=\"1\" class=\"dataframe\">\n",
       "  <thead>\n",
       "    <tr style=\"text-align: right;\">\n",
       "      <th></th>\n",
       "      <th>Temperature (K)</th>\n",
       "      <th>Luminosity(L/Lo)</th>\n",
       "      <th>Radius(R/Ro)</th>\n",
       "      <th>Absolute magnitude(Mv)</th>\n",
       "      <th>Star type</th>\n",
       "    </tr>\n",
       "  </thead>\n",
       "  <tbody>\n",
       "    <tr>\n",
       "      <th>count</th>\n",
       "      <td>240.000000</td>\n",
       "      <td>240.000000</td>\n",
       "      <td>240.000000</td>\n",
       "      <td>240.000000</td>\n",
       "      <td>240.000000</td>\n",
       "    </tr>\n",
       "    <tr>\n",
       "      <th>mean</th>\n",
       "      <td>10497.462500</td>\n",
       "      <td>107188.361635</td>\n",
       "      <td>237.157781</td>\n",
       "      <td>4.382396</td>\n",
       "      <td>2.500000</td>\n",
       "    </tr>\n",
       "    <tr>\n",
       "      <th>std</th>\n",
       "      <td>9552.425037</td>\n",
       "      <td>179432.244940</td>\n",
       "      <td>517.155763</td>\n",
       "      <td>10.532512</td>\n",
       "      <td>1.711394</td>\n",
       "    </tr>\n",
       "    <tr>\n",
       "      <th>min</th>\n",
       "      <td>1939.000000</td>\n",
       "      <td>0.000080</td>\n",
       "      <td>0.008400</td>\n",
       "      <td>-11.920000</td>\n",
       "      <td>0.000000</td>\n",
       "    </tr>\n",
       "    <tr>\n",
       "      <th>25%</th>\n",
       "      <td>3344.250000</td>\n",
       "      <td>0.000865</td>\n",
       "      <td>0.102750</td>\n",
       "      <td>-6.232500</td>\n",
       "      <td>1.000000</td>\n",
       "    </tr>\n",
       "    <tr>\n",
       "      <th>50%</th>\n",
       "      <td>5776.000000</td>\n",
       "      <td>0.070500</td>\n",
       "      <td>0.762500</td>\n",
       "      <td>8.313000</td>\n",
       "      <td>2.500000</td>\n",
       "    </tr>\n",
       "    <tr>\n",
       "      <th>75%</th>\n",
       "      <td>15055.500000</td>\n",
       "      <td>198050.000000</td>\n",
       "      <td>42.750000</td>\n",
       "      <td>13.697500</td>\n",
       "      <td>4.000000</td>\n",
       "    </tr>\n",
       "    <tr>\n",
       "      <th>max</th>\n",
       "      <td>40000.000000</td>\n",
       "      <td>849420.000000</td>\n",
       "      <td>1948.500000</td>\n",
       "      <td>20.060000</td>\n",
       "      <td>5.000000</td>\n",
       "    </tr>\n",
       "  </tbody>\n",
       "</table>\n",
       "</div>"
      ],
      "text/plain": [
       "       Temperature (K)  Luminosity(L/Lo)  Radius(R/Ro)  \\\n",
       "count       240.000000        240.000000    240.000000   \n",
       "mean      10497.462500     107188.361635    237.157781   \n",
       "std        9552.425037     179432.244940    517.155763   \n",
       "min        1939.000000          0.000080      0.008400   \n",
       "25%        3344.250000          0.000865      0.102750   \n",
       "50%        5776.000000          0.070500      0.762500   \n",
       "75%       15055.500000     198050.000000     42.750000   \n",
       "max       40000.000000     849420.000000   1948.500000   \n",
       "\n",
       "       Absolute magnitude(Mv)   Star type  \n",
       "count              240.000000  240.000000  \n",
       "mean                 4.382396    2.500000  \n",
       "std                 10.532512    1.711394  \n",
       "min                -11.920000    0.000000  \n",
       "25%                 -6.232500    1.000000  \n",
       "50%                  8.313000    2.500000  \n",
       "75%                 13.697500    4.000000  \n",
       "max                 20.060000    5.000000  "
      ]
     },
     "metadata": {},
     "output_type": "display_data"
    }
   ],
   "source": [
    "display(df.describe())"
   ]
  },
  {
   "cell_type": "markdown",
   "id": "89bcdf99",
   "metadata": {},
   "source": [
    "Удалять выбросы не будем, ввиду малого количества строк в датасете. "
   ]
  },
  {
   "cell_type": "markdown",
   "id": "283b833d",
   "metadata": {},
   "source": [
    "### Категориальные признаки"
   ]
  },
  {
   "cell_type": "code",
   "execution_count": 8,
   "id": "1f500cb3",
   "metadata": {},
   "outputs": [],
   "source": [
    "# изменим названия столбцов \n",
    "df.columns = ['temperature', 'luminosity', 'radius', 'absolute_magnitude', 'star_type', 'star_color']"
   ]
  },
  {
   "cell_type": "code",
   "execution_count": 9,
   "id": "ba793e2f",
   "metadata": {},
   "outputs": [
    {
     "data": {
      "text/plain": [
       "Red                   112\n",
       "Blue                   55\n",
       "Blue-white             26\n",
       "Blue White             10\n",
       "yellow-white            8\n",
       "White                   7\n",
       "Blue white              3\n",
       "Yellowish White         3\n",
       "white                   3\n",
       "Whitish                 2\n",
       "Orange                  2\n",
       "yellowish               2\n",
       "Blue                    1\n",
       "Blue white              1\n",
       "Pale yellow orange      1\n",
       "Blue-White              1\n",
       "Orange-Red              1\n",
       "White-Yellow            1\n",
       "Yellowish               1\n",
       "Name: star_color, dtype: int64"
      ]
     },
     "execution_count": 9,
     "metadata": {},
     "output_type": "execute_result"
    }
   ],
   "source": [
    "# посмотрим количество уникальных значений в столбце Star color\n",
    "df['star_color'].value_counts()"
   ]
  },
  {
   "cell_type": "markdown",
   "id": "d2f75ef4",
   "metadata": {},
   "source": [
    "В столбце Star color одинаковые цвета написаны в разном регистре и суммируются как разные. Исправим это."
   ]
  },
  {
   "cell_type": "code",
   "execution_count": 10,
   "id": "44a09275",
   "metadata": {},
   "outputs": [],
   "source": [
    "df['star_color'] = df['star_color'].str.lower()"
   ]
  },
  {
   "cell_type": "code",
   "execution_count": 11,
   "id": "626ab866",
   "metadata": {},
   "outputs": [
    {
     "data": {
      "text/plain": [
       "red                   112\n",
       "blue                   55\n",
       "blue-white             27\n",
       "blue white             13\n",
       "white                  10\n",
       "yellow-white            8\n",
       "yellowish white         3\n",
       "yellowish               3\n",
       "orange                  2\n",
       "whitish                 2\n",
       "pale yellow orange      1\n",
       "white-yellow            1\n",
       "orange-red              1\n",
       "blue                    1\n",
       "blue white              1\n",
       "Name: star_color, dtype: int64"
      ]
     },
     "execution_count": 11,
     "metadata": {},
     "output_type": "execute_result"
    }
   ],
   "source": [
    "# посмотрим количество уникальных значений в столбце Star color после их перевода в нижний регистр\n",
    "df['star_color'].value_counts()"
   ]
  },
  {
   "cell_type": "markdown",
   "id": "31d08365",
   "metadata": {},
   "source": [
    "Видим, что некоторые значения одинаковы по своей сути, но записаны по-разному. К примеру, blue-white и blue white. Исправим это."
   ]
  },
  {
   "cell_type": "code",
   "execution_count": 12,
   "id": "beebc335",
   "metadata": {
    "scrolled": true
   },
   "outputs": [],
   "source": [
    "df['star_color'] = df['star_color'].str.replace('blue white', 'blue-white')\n",
    "df['star_color'] = df['star_color'].str.replace('white-yellow', 'yellow-white')\n",
    "df['star_color'] = df['star_color'].str.replace('yellowish white', 'yellowish-white')\n",
    "df['star_color'] = df['star_color'].str.replace('pale yellow orange', 'pale-yellow-orange')"
   ]
  },
  {
   "cell_type": "code",
   "execution_count": 13,
   "id": "ae06fa4b",
   "metadata": {},
   "outputs": [
    {
     "data": {
      "text/plain": [
       "red                   112\n",
       "blue                   55\n",
       "blue-white             40\n",
       "white                  10\n",
       "yellow-white            9\n",
       "yellowish-white         3\n",
       "yellowish               3\n",
       "orange                  2\n",
       "whitish                 2\n",
       "blue-white              1\n",
       "orange-red              1\n",
       "blue                    1\n",
       "pale-yellow-orange      1\n",
       "Name: star_color, dtype: int64"
      ]
     },
     "execution_count": 13,
     "metadata": {},
     "output_type": "execute_result"
    }
   ],
   "source": [
    "# посмотрим количество уникальных значений в столбце Star color после их перевода в нижний регистр\n",
    "df['star_color'].value_counts()"
   ]
  },
  {
   "cell_type": "code",
   "execution_count": 14,
   "id": "71a3abdd",
   "metadata": {},
   "outputs": [],
   "source": [
    "# удаляем пробелы, которые мешают одинаковым значениям суммироваться\n",
    "df['star_color'] = df['star_color'].replace(r'\\s+','',regex=True)"
   ]
  },
  {
   "cell_type": "code",
   "execution_count": 15,
   "id": "a63ce33e",
   "metadata": {
    "scrolled": true
   },
   "outputs": [
    {
     "data": {
      "text/plain": [
       "red                   112\n",
       "blue                   56\n",
       "blue-white             41\n",
       "white                  10\n",
       "yellow-white            9\n",
       "yellowish-white         3\n",
       "yellowish               3\n",
       "orange                  2\n",
       "whitish                 2\n",
       "orange-red              1\n",
       "pale-yellow-orange      1\n",
       "Name: star_color, dtype: int64"
      ]
     },
     "execution_count": 15,
     "metadata": {},
     "output_type": "execute_result"
    }
   ],
   "source": [
    "df['star_color'].value_counts()"
   ]
  },
  {
   "cell_type": "markdown",
   "id": "3d6bd266",
   "metadata": {},
   "source": [
    "Удаляем из датасета строки, где количество звезд меньше 3, в зависимости от цвета - 'Star color', для лушего обучения модели:"
   ]
  },
  {
   "cell_type": "code",
   "execution_count": 16,
   "id": "ebb59ec5",
   "metadata": {},
   "outputs": [],
   "source": [
    "df = df.groupby('star_color').filter(lambda x : len(x)>3)"
   ]
  },
  {
   "cell_type": "code",
   "execution_count": 17,
   "id": "47f4320a",
   "metadata": {},
   "outputs": [
    {
     "data": {
      "text/plain": [
       "red             112\n",
       "blue             56\n",
       "blue-white       41\n",
       "white            10\n",
       "yellow-white      9\n",
       "Name: star_color, dtype: int64"
      ]
     },
     "execution_count": 17,
     "metadata": {},
     "output_type": "execute_result"
    }
   ],
   "source": [
    "df['star_color'].value_counts()"
   ]
  },
  {
   "cell_type": "code",
   "execution_count": 18,
   "id": "bfdf8706",
   "metadata": {
    "scrolled": false
   },
   "outputs": [
    {
     "data": {
      "text/plain": [
       "0    40\n",
       "1    40\n",
       "4    40\n",
       "5    38\n",
       "2    36\n",
       "3    34\n",
       "Name: star_type, dtype: int64"
      ]
     },
     "execution_count": 18,
     "metadata": {},
     "output_type": "execute_result"
    }
   ],
   "source": [
    "# посмотрим количество уникальных значений в столбце Star type\n",
    "df['star_type'].value_counts()"
   ]
  },
  {
   "cell_type": "markdown",
   "id": "d3163dc7",
   "metadata": {},
   "source": [
    "### Количественные признаки"
   ]
  },
  {
   "cell_type": "code",
   "execution_count": 19,
   "id": "5935cac4",
   "metadata": {
    "scrolled": true
   },
   "outputs": [
    {
     "data": {
      "image/png": "[encoded data removed]",
      "text/plain": [
       "<Figure size 360x360 with 1 Axes>"
      ]
     },
     "metadata": {
      "needs_background": "light"
     },
     "output_type": "display_data"
    }
   ],
   "source": [
    "df['absolute_magnitude'].plot(kind=\"hist\", figsize=(5,5)); "
   ]
  },
  {
   "cell_type": "markdown",
   "id": "6c0c9525",
   "metadata": {},
   "source": [
    "Абсолютная звездная величина (М) описывает собственную светимость, излучаемую объектом, и определяется как равная видимой звездной величине, которую имел бы объект, если бы он находился на определенном расстоянии от Земли, 10 парсеков для звезд. Звёздная величина самых ярких объектов отрицательна. По графику зависимости абсолютной звездной величины от частоты видим, что наибольшее количество \"светил\" имеют величину от -5 до -10 и от 11 до 20."
   ]
  },
  {
   "cell_type": "code",
   "execution_count": 20,
   "id": "c0f0d37d",
   "metadata": {
    "scrolled": true
   },
   "outputs": [
    {
     "data": {
      "image/png": "[encoded data removed]",
      "text/plain": [
       "<Figure size 720x360 with 1 Axes>"
      ]
     },
     "metadata": {
      "needs_background": "light"
     },
     "output_type": "display_data"
    }
   ],
   "source": [
    "df['radius'].plot(kind=\"hist\", figsize=(10,5)); "
   ]
  },
  {
   "cell_type": "markdown",
   "id": "f9b44ac9",
   "metadata": {},
   "source": [
    "Подавляющее большинство звезд имеют радиус до 200 * 10^8, м."
   ]
  },
  {
   "cell_type": "code",
   "execution_count": 21,
   "id": "032055bc",
   "metadata": {
    "scrolled": true
   },
   "outputs": [
    {
     "data": {
      "image/png": "[encoded data removed]",
      "text/plain": [
       "<Figure size 1080x360 with 1 Axes>"
      ]
     },
     "metadata": {
      "needs_background": "light"
     },
     "output_type": "display_data"
    }
   ],
   "source": [
    "df['luminosity'].plot(kind=\"hist\", figsize=(15,5)); "
   ]
  },
  {
   "cell_type": "markdown",
   "id": "28797933",
   "metadata": {},
   "source": [
    "Подавляющее большинство звезд имеют относительную светимость до 50 000 * 10^8 Вт. "
   ]
  },
  {
   "cell_type": "code",
   "execution_count": 22,
   "id": "b75b4bda",
   "metadata": {
    "scrolled": false
   },
   "outputs": [
    {
     "data": {
      "image/png": "[encoded data removed]",
      "text/plain": [
       "<Figure size 1080x360 with 1 Axes>"
      ]
     },
     "metadata": {
      "needs_background": "light"
     },
     "output_type": "display_data"
    }
   ],
   "source": [
    "df['temperature'].plot(kind=\"hist\", figsize=(15,5)); "
   ]
  },
  {
   "cell_type": "markdown",
   "id": "3c9a37a2",
   "metadata": {},
   "source": [
    "Большинство звезд имеют температуру до 6000 К."
   ]
  },
  {
   "cell_type": "markdown",
   "id": "e6856bf0",
   "metadata": {},
   "source": [
    "### Корреляция признаков между собой"
   ]
  },
  {
   "cell_type": "code",
   "execution_count": 32,
   "id": "e67a32aa",
   "metadata": {},
   "outputs": [
    {
     "data": {
      "text/html": [
       "<div>\n",
       "<style scoped>\n",
       "    .dataframe tbody tr th:only-of-type {\n",
       "        vertical-align: middle;\n",
       "    }\n",
       "\n",
       "    .dataframe tbody tr th {\n",
       "        vertical-align: top;\n",
       "    }\n",
       "\n",
       "    .dataframe thead th {\n",
       "        text-align: right;\n",
       "    }\n",
       "</style>\n",
       "<table border=\"1\" class=\"dataframe\">\n",
       "  <thead>\n",
       "    <tr style=\"text-align: right;\">\n",
       "      <th></th>\n",
       "      <th>temperature</th>\n",
       "      <th>luminosity</th>\n",
       "      <th>radius</th>\n",
       "      <th>absolute_magnitude</th>\n",
       "      <th>star_type</th>\n",
       "    </tr>\n",
       "  </thead>\n",
       "  <tbody>\n",
       "    <tr>\n",
       "      <th>temperature</th>\n",
       "      <td>1.000000</td>\n",
       "      <td>0.419711</td>\n",
       "      <td>0.074845</td>\n",
       "      <td>-0.433396</td>\n",
       "      <td>0.430042</td>\n",
       "    </tr>\n",
       "    <tr>\n",
       "      <th>luminosity</th>\n",
       "      <td>0.419711</td>\n",
       "      <td>1.000000</td>\n",
       "      <td>0.494683</td>\n",
       "      <td>-0.692119</td>\n",
       "      <td>0.678838</td>\n",
       "    </tr>\n",
       "    <tr>\n",
       "      <th>radius</th>\n",
       "      <td>0.074845</td>\n",
       "      <td>0.494683</td>\n",
       "      <td>1.000000</td>\n",
       "      <td>-0.603236</td>\n",
       "      <td>0.659026</td>\n",
       "    </tr>\n",
       "    <tr>\n",
       "      <th>absolute_magnitude</th>\n",
       "      <td>-0.433396</td>\n",
       "      <td>-0.692119</td>\n",
       "      <td>-0.603236</td>\n",
       "      <td>1.000000</td>\n",
       "      <td>-0.958825</td>\n",
       "    </tr>\n",
       "    <tr>\n",
       "      <th>star_type</th>\n",
       "      <td>0.430042</td>\n",
       "      <td>0.678838</td>\n",
       "      <td>0.659026</td>\n",
       "      <td>-0.958825</td>\n",
       "      <td>1.000000</td>\n",
       "    </tr>\n",
       "  </tbody>\n",
       "</table>\n",
       "</div>"
      ],
      "text/plain": [
       "                    temperature  luminosity    radius  absolute_magnitude  \\\n",
       "temperature            1.000000    0.419711  0.074845           -0.433396   \n",
       "luminosity             0.419711    1.000000  0.494683           -0.692119   \n",
       "radius                 0.074845    0.494683  1.000000           -0.603236   \n",
       "absolute_magnitude    -0.433396   -0.692119 -0.603236            1.000000   \n",
       "star_type              0.430042    0.678838  0.659026           -0.958825   \n",
       "\n",
       "                    star_type  \n",
       "temperature          0.430042  \n",
       "luminosity           0.678838  \n",
       "radius               0.659026  \n",
       "absolute_magnitude  -0.958825  \n",
       "star_type            1.000000  "
      ]
     },
     "metadata": {},
     "output_type": "display_data"
    }
   ],
   "source": [
    "display(df.corr()) "
   ]
  },
  {
   "cell_type": "code",
   "execution_count": 33,
   "id": "67dd4e7a",
   "metadata": {
    "scrolled": false
   },
   "outputs": [
    {
     "data": {
      "image/png": "[encoded data removed]",
      "text/plain": [
       "<Figure size 432x288 with 2 Axes>"
      ]
     },
     "metadata": {
      "needs_background": "light"
     },
     "output_type": "display_data"
    }
   ],
   "source": [
    "df_plot = sns.heatmap(df.corr(), cmap=\"YlGnBu\", annot=True)  \n",
    "plt.show()"
   ]
  },
  {
   "cell_type": "markdown",
   "id": "9c4db3b5",
   "metadata": {},
   "source": [
    "* **Наблюдается наибольшая отрицательная корреляция между абсолютной звездной величиной и типом звезды, коэф= -0.96.**\n",
    "* Температура не коррелирует ни с одной из представленных характеристик.\n",
    "* Относительная светимость коррелирует с типом звезды, коэф.= 0.68 и слабая корреляция с радиусом, коэф.= 0.53 и обратная корреляция с абсолютной звездной величиной,коэф.= -0.69.\n",
    "* Радиус коррелирует с типом звезды, коэф.= 0.66, и с абсолютной звездной величиной,коэф.= -0.61.\n",
    "* Абсолютная звездная величина имеет обратную корреляцию со светимостью, коэф.= -0.69, радиусом коэф.= -0.61,\n",
    "* Тип звезды коррелрует со светимостью коэф.= 0.68, радиусом коэф.= 0.66."
   ]
  },
  {
   "cell_type": "markdown",
   "id": "d28c17df",
   "metadata": {},
   "source": [
    "Изобразим на графике корреляцию между абсолютной звездной величиной и типом звезды:"
   ]
  },
  {
   "cell_type": "code",
   "execution_count": 34,
   "id": "e035de61",
   "metadata": {
    "scrolled": false
   },
   "outputs": [
    {
     "data": {
      "text/plain": [
       "[<matplotlib.lines.Line2D at 0x7fd001f6ec10>]"
      ]
     },
     "execution_count": 34,
     "metadata": {},
     "output_type": "execute_result"
    },
    {
     "data": {
      "image/png": "[encoded data removed]",
      "text/plain": [
       "<Figure size 432x288 with 1 Axes>"
      ]
     },
     "metadata": {
      "needs_background": "light"
     },
     "output_type": "display_data"
    }
   ],
   "source": [
    "plt.scatter(df['absolute_magnitude'], df['star_type']) \n",
    "plt.plot(np.unique(df['absolute_magnitude']), np.poly1d(np.polyfit(df['absolute_magnitude'], df['star_type'], 1))\n",
    "         (np.unique(df['absolute_magnitude'])), color='red')"
   ]
  },
  {
   "cell_type": "markdown",
   "id": "09edfe31",
   "metadata": {},
   "source": [
    "### Подготовка данных к построению модели"
   ]
  },
  {
   "cell_type": "code",
   "execution_count": 35,
   "id": "8b8c5e94",
   "metadata": {
    "scrolled": true
   },
   "outputs": [
    {
     "name": "stdout",
     "output_type": "stream",
     "text": [
      "<class 'pandas.core.frame.DataFrame'>\n",
      "Int64Index: 228 entries, 0 to 239\n",
      "Data columns (total 6 columns):\n",
      " #   Column              Non-Null Count  Dtype  \n",
      "---  ------              --------------  -----  \n",
      " 0   temperature         228 non-null    int64  \n",
      " 1   luminosity          228 non-null    float64\n",
      " 2   radius              228 non-null    float64\n",
      " 3   absolute_magnitude  228 non-null    float64\n",
      " 4   star_type           228 non-null    int64  \n",
      " 5   star_color          228 non-null    object \n",
      "dtypes: float64(3), int64(2), object(1)\n",
      "memory usage: 12.5+ KB\n"
     ]
    }
   ],
   "source": [
    "df.info()"
   ]
  },
  {
   "cell_type": "code",
   "execution_count": 36,
   "id": "d7c8ac81",
   "metadata": {},
   "outputs": [
    {
     "name": "stdout",
     "output_type": "stream",
     "text": [
      "<class 'pandas.core.frame.DataFrame'>\n",
      "Int64Index: 228 entries, 0 to 239\n",
      "Data columns (total 6 columns):\n",
      " #   Column              Non-Null Count  Dtype  \n",
      "---  ------              --------------  -----  \n",
      " 0   temperature         228 non-null    int64  \n",
      " 1   luminosity          228 non-null    float64\n",
      " 2   radius              228 non-null    float64\n",
      " 3   absolute_magnitude  228 non-null    float64\n",
      " 4   star_type           228 non-null    object \n",
      " 5   star_color          228 non-null    object \n",
      "dtypes: float64(3), int64(1), object(2)\n",
      "memory usage: 12.5+ KB\n"
     ]
    }
   ],
   "source": [
    "# так как признаки в столбце Star type категориальные, изменим тип данных на object\n",
    "df['star_type'] = df['star_type'].astype(object)\n",
    "df.info()"
   ]
  },
  {
   "cell_type": "code",
   "execution_count": 37,
   "id": "d2e25d78",
   "metadata": {},
   "outputs": [],
   "source": [
    "features_train, features_test, target_train, target_test = train_test_split(df.drop('temperature', axis=1), df['temperature'], test_size=TEST_SIZE, random_state=123)"
   ]
  },
  {
   "cell_type": "markdown",
   "id": "f757b13c",
   "metadata": {},
   "source": [
    "Закодируем признаки:"
   ]
  },
  {
   "cell_type": "code",
   "execution_count": 38,
   "id": "1be4e057",
   "metadata": {},
   "outputs": [],
   "source": [
    "# соберем в список категориальные данные\n",
    "cat_col = [\n",
    "        i for i in features_train.dtypes.index if features_train.dtypes[i] == 'object'\n",
    "    ]"
   ]
  },
  {
   "cell_type": "code",
   "execution_count": 39,
   "id": "a1193a80",
   "metadata": {},
   "outputs": [
    {
     "data": {
      "text/plain": [
       "['star_type', 'star_color']"
      ]
     },
     "execution_count": 39,
     "metadata": {},
     "output_type": "execute_result"
    }
   ],
   "source": [
    "cat_col"
   ]
  },
  {
   "cell_type": "code",
   "execution_count": 40,
   "id": "a6acd260",
   "metadata": {},
   "outputs": [],
   "source": [
    "# соберем в список количественные данные\n",
    "num_col = [\n",
    "        i for i in features_train.dtypes.index if features_train.dtypes[i] != 'object'\n",
    "    ]"
   ]
  },
  {
   "cell_type": "code",
   "execution_count": 41,
   "id": "ddd0d5d8",
   "metadata": {},
   "outputs": [
    {
     "data": {
      "text/plain": [
       "['luminosity', 'radius', 'absolute_magnitude']"
      ]
     },
     "execution_count": 41,
     "metadata": {},
     "output_type": "execute_result"
    }
   ],
   "source": [
    "num_col"
   ]
  },
  {
   "cell_type": "code",
   "execution_count": 42,
   "id": "24d95d2b",
   "metadata": {},
   "outputs": [
    {
     "data": {
      "text/plain": [
       "OneHotEncoder(handle_unknown='ignore')"
      ]
     },
     "execution_count": 42,
     "metadata": {},
     "output_type": "execute_result"
    }
   ],
   "source": [
    "# Инициализация \n",
    "enc = OneHotEncoder(handle_unknown='ignore')\n",
    "\n",
    "cat_features_train = features_train[cat_col]\n",
    "cat_features_test = features_test[cat_col]\n",
    "\n",
    "enc.fit(cat_features_train)"
   ]
  },
  {
   "cell_type": "code",
   "execution_count": 43,
   "id": "cf95be64",
   "metadata": {},
   "outputs": [
    {
     "data": {
      "text/html": [
       "<div>\n",
       "<style scoped>\n",
       "    .dataframe tbody tr th:only-of-type {\n",
       "        vertical-align: middle;\n",
       "    }\n",
       "\n",
       "    .dataframe tbody tr th {\n",
       "        vertical-align: top;\n",
       "    }\n",
       "\n",
       "    .dataframe thead th {\n",
       "        text-align: right;\n",
       "    }\n",
       "</style>\n",
       "<table border=\"1\" class=\"dataframe\">\n",
       "  <thead>\n",
       "    <tr style=\"text-align: right;\">\n",
       "      <th></th>\n",
       "      <th>star_type_0</th>\n",
       "      <th>star_type_1</th>\n",
       "      <th>star_type_2</th>\n",
       "      <th>star_type_3</th>\n",
       "      <th>star_type_4</th>\n",
       "      <th>star_type_5</th>\n",
       "      <th>star_color_blue</th>\n",
       "      <th>star_color_blue-white</th>\n",
       "      <th>star_color_red</th>\n",
       "      <th>star_color_white</th>\n",
       "      <th>star_color_yellow-white</th>\n",
       "    </tr>\n",
       "  </thead>\n",
       "  <tbody>\n",
       "    <tr>\n",
       "      <th>0</th>\n",
       "      <td>0.0</td>\n",
       "      <td>0.0</td>\n",
       "      <td>0.0</td>\n",
       "      <td>0.0</td>\n",
       "      <td>0.0</td>\n",
       "      <td>1.0</td>\n",
       "      <td>0.0</td>\n",
       "      <td>0.0</td>\n",
       "      <td>1.0</td>\n",
       "      <td>0.0</td>\n",
       "      <td>0.0</td>\n",
       "    </tr>\n",
       "    <tr>\n",
       "      <th>1</th>\n",
       "      <td>0.0</td>\n",
       "      <td>1.0</td>\n",
       "      <td>0.0</td>\n",
       "      <td>0.0</td>\n",
       "      <td>0.0</td>\n",
       "      <td>0.0</td>\n",
       "      <td>0.0</td>\n",
       "      <td>0.0</td>\n",
       "      <td>1.0</td>\n",
       "      <td>0.0</td>\n",
       "      <td>0.0</td>\n",
       "    </tr>\n",
       "    <tr>\n",
       "      <th>2</th>\n",
       "      <td>0.0</td>\n",
       "      <td>0.0</td>\n",
       "      <td>0.0</td>\n",
       "      <td>0.0</td>\n",
       "      <td>1.0</td>\n",
       "      <td>0.0</td>\n",
       "      <td>1.0</td>\n",
       "      <td>0.0</td>\n",
       "      <td>0.0</td>\n",
       "      <td>0.0</td>\n",
       "      <td>0.0</td>\n",
       "    </tr>\n",
       "  </tbody>\n",
       "</table>\n",
       "</div>"
      ],
      "text/plain": [
       "   star_type_0  star_type_1  star_type_2  star_type_3  star_type_4  \\\n",
       "0          0.0          0.0          0.0          0.0          0.0   \n",
       "1          0.0          1.0          0.0          0.0          0.0   \n",
       "2          0.0          0.0          0.0          0.0          1.0   \n",
       "\n",
       "   star_type_5  star_color_blue  star_color_blue-white  star_color_red  \\\n",
       "0          1.0              0.0                    0.0             1.0   \n",
       "1          0.0              0.0                    0.0             1.0   \n",
       "2          0.0              1.0                    0.0             0.0   \n",
       "\n",
       "   star_color_white  star_color_yellow-white  \n",
       "0               0.0                      0.0  \n",
       "1               0.0                      0.0  \n",
       "2               0.0                      0.0  "
      ]
     },
     "execution_count": 43,
     "metadata": {},
     "output_type": "execute_result"
    }
   ],
   "source": [
    "cat_features_train = pd.DataFrame(\n",
    "    enc.transform(cat_features_train).toarray(), \n",
    "    columns=enc.get_feature_names(cat_col)\n",
    "                                  )\n",
    "\n",
    "cat_features_train.head(3)"
   ]
  },
  {
   "cell_type": "code",
   "execution_count": 44,
   "id": "51c0fe80",
   "metadata": {},
   "outputs": [
    {
     "data": {
      "text/html": [
       "<div>\n",
       "<style scoped>\n",
       "    .dataframe tbody tr th:only-of-type {\n",
       "        vertical-align: middle;\n",
       "    }\n",
       "\n",
       "    .dataframe tbody tr th {\n",
       "        vertical-align: top;\n",
       "    }\n",
       "\n",
       "    .dataframe thead th {\n",
       "        text-align: right;\n",
       "    }\n",
       "</style>\n",
       "<table border=\"1\" class=\"dataframe\">\n",
       "  <thead>\n",
       "    <tr style=\"text-align: right;\">\n",
       "      <th></th>\n",
       "      <th>star_type_0</th>\n",
       "      <th>star_type_1</th>\n",
       "      <th>star_type_2</th>\n",
       "      <th>star_type_3</th>\n",
       "      <th>star_type_4</th>\n",
       "      <th>star_type_5</th>\n",
       "      <th>star_color_blue</th>\n",
       "      <th>star_color_blue-white</th>\n",
       "      <th>star_color_red</th>\n",
       "      <th>star_color_white</th>\n",
       "      <th>star_color_yellow-white</th>\n",
       "    </tr>\n",
       "  </thead>\n",
       "  <tbody>\n",
       "    <tr>\n",
       "      <th>0</th>\n",
       "      <td>0.0</td>\n",
       "      <td>0.0</td>\n",
       "      <td>0.0</td>\n",
       "      <td>0.0</td>\n",
       "      <td>0.0</td>\n",
       "      <td>1.0</td>\n",
       "      <td>0.0</td>\n",
       "      <td>0.0</td>\n",
       "      <td>1.0</td>\n",
       "      <td>0.0</td>\n",
       "      <td>0.0</td>\n",
       "    </tr>\n",
       "    <tr>\n",
       "      <th>1</th>\n",
       "      <td>0.0</td>\n",
       "      <td>1.0</td>\n",
       "      <td>0.0</td>\n",
       "      <td>0.0</td>\n",
       "      <td>0.0</td>\n",
       "      <td>0.0</td>\n",
       "      <td>0.0</td>\n",
       "      <td>0.0</td>\n",
       "      <td>1.0</td>\n",
       "      <td>0.0</td>\n",
       "      <td>0.0</td>\n",
       "    </tr>\n",
       "    <tr>\n",
       "      <th>2</th>\n",
       "      <td>0.0</td>\n",
       "      <td>0.0</td>\n",
       "      <td>1.0</td>\n",
       "      <td>0.0</td>\n",
       "      <td>0.0</td>\n",
       "      <td>0.0</td>\n",
       "      <td>1.0</td>\n",
       "      <td>0.0</td>\n",
       "      <td>0.0</td>\n",
       "      <td>0.0</td>\n",
       "      <td>0.0</td>\n",
       "    </tr>\n",
       "  </tbody>\n",
       "</table>\n",
       "</div>"
      ],
      "text/plain": [
       "   star_type_0  star_type_1  star_type_2  star_type_3  star_type_4  \\\n",
       "0          0.0          0.0          0.0          0.0          0.0   \n",
       "1          0.0          1.0          0.0          0.0          0.0   \n",
       "2          0.0          0.0          1.0          0.0          0.0   \n",
       "\n",
       "   star_type_5  star_color_blue  star_color_blue-white  star_color_red  \\\n",
       "0          1.0              0.0                    0.0             1.0   \n",
       "1          0.0              0.0                    0.0             1.0   \n",
       "2          0.0              1.0                    0.0             0.0   \n",
       "\n",
       "   star_color_white  star_color_yellow-white  \n",
       "0               0.0                      0.0  \n",
       "1               0.0                      0.0  \n",
       "2               0.0                      0.0  "
      ]
     },
     "execution_count": 44,
     "metadata": {},
     "output_type": "execute_result"
    }
   ],
   "source": [
    "cat_features_test = pd.DataFrame(\n",
    "    enc.transform(cat_features_test).toarray(), \n",
    "    columns=enc.get_feature_names(cat_col)\n",
    "                                 )\n",
    "\n",
    "cat_features_test.head(3)"
   ]
  },
  {
   "cell_type": "code",
   "execution_count": 45,
   "id": "6b34ea30",
   "metadata": {},
   "outputs": [],
   "source": [
    "# Инициализация стандартизатора\n",
    "scaler = StandardScaler()\n",
    "\n",
    "# Передача датасета и преобразование\n",
    "scaler.fit(features_train[num_col])\n",
    "features_train[num_col] = scaler.transform(features_train[num_col])\n",
    "features_test[num_col] = scaler.transform(features_test[num_col])"
   ]
  },
  {
   "cell_type": "code",
   "execution_count": 46,
   "id": "0b792bad",
   "metadata": {},
   "outputs": [
    {
     "data": {
      "text/html": [
       "<div>\n",
       "<style scoped>\n",
       "    .dataframe tbody tr th:only-of-type {\n",
       "        vertical-align: middle;\n",
       "    }\n",
       "\n",
       "    .dataframe tbody tr th {\n",
       "        vertical-align: top;\n",
       "    }\n",
       "\n",
       "    .dataframe thead th {\n",
       "        text-align: right;\n",
       "    }\n",
       "</style>\n",
       "<table border=\"1\" class=\"dataframe\">\n",
       "  <thead>\n",
       "    <tr style=\"text-align: right;\">\n",
       "      <th></th>\n",
       "      <th>luminosity</th>\n",
       "      <th>radius</th>\n",
       "      <th>absolute_magnitude</th>\n",
       "    </tr>\n",
       "  </thead>\n",
       "  <tbody>\n",
       "    <tr>\n",
       "      <th>59</th>\n",
       "      <td>0.426203</td>\n",
       "      <td>2.386272</td>\n",
       "      <td>-1.411382</td>\n",
       "    </tr>\n",
       "    <tr>\n",
       "      <th>10</th>\n",
       "      <td>-0.628782</td>\n",
       "      <td>-0.481951</td>\n",
       "      <td>0.636340</td>\n",
       "    </tr>\n",
       "    <tr>\n",
       "      <th>106</th>\n",
       "      <td>1.335113</td>\n",
       "      <td>-0.365978</td>\n",
       "      <td>-0.897827</td>\n",
       "    </tr>\n",
       "    <tr>\n",
       "      <th>101</th>\n",
       "      <td>3.769693</td>\n",
       "      <td>-0.456915</td>\n",
       "      <td>-0.934974</td>\n",
       "    </tr>\n",
       "    <tr>\n",
       "      <th>30</th>\n",
       "      <td>0.474894</td>\n",
       "      <td>-0.463225</td>\n",
       "      <td>-0.792887</td>\n",
       "    </tr>\n",
       "  </tbody>\n",
       "</table>\n",
       "</div>"
      ],
      "text/plain": [
       "     luminosity    radius  absolute_magnitude\n",
       "59     0.426203  2.386272           -1.411382\n",
       "10    -0.628782 -0.481951            0.636340\n",
       "106    1.335113 -0.365978           -0.897827\n",
       "101    3.769693 -0.456915           -0.934974\n",
       "30     0.474894 -0.463225           -0.792887"
      ]
     },
     "execution_count": 46,
     "metadata": {},
     "output_type": "execute_result"
    }
   ],
   "source": [
    "# удаляем категориальные данные из датафреймов для последующего объединения с кодированными признаками\n",
    "features_train = features_train.drop(cat_col, axis=1)\n",
    "features_test = features_test.drop(cat_col, axis=1)\n",
    "features_train.head()"
   ]
  },
  {
   "cell_type": "code",
   "execution_count": 47,
   "id": "7827cc9a",
   "metadata": {},
   "outputs": [
    {
     "data": {
      "text/html": [
       "<div>\n",
       "<style scoped>\n",
       "    .dataframe tbody tr th:only-of-type {\n",
       "        vertical-align: middle;\n",
       "    }\n",
       "\n",
       "    .dataframe tbody tr th {\n",
       "        vertical-align: top;\n",
       "    }\n",
       "\n",
       "    .dataframe thead th {\n",
       "        text-align: right;\n",
       "    }\n",
       "</style>\n",
       "<table border=\"1\" class=\"dataframe\">\n",
       "  <thead>\n",
       "    <tr style=\"text-align: right;\">\n",
       "      <th></th>\n",
       "      <th>luminosity</th>\n",
       "      <th>radius</th>\n",
       "      <th>absolute_magnitude</th>\n",
       "    </tr>\n",
       "  </thead>\n",
       "  <tbody>\n",
       "    <tr>\n",
       "      <th>0</th>\n",
       "      <td>0.426203</td>\n",
       "      <td>2.386272</td>\n",
       "      <td>-1.411382</td>\n",
       "    </tr>\n",
       "    <tr>\n",
       "      <th>1</th>\n",
       "      <td>-0.628782</td>\n",
       "      <td>-0.481951</td>\n",
       "      <td>0.636340</td>\n",
       "    </tr>\n",
       "    <tr>\n",
       "      <th>2</th>\n",
       "      <td>1.335113</td>\n",
       "      <td>-0.365978</td>\n",
       "      <td>-0.897827</td>\n",
       "    </tr>\n",
       "    <tr>\n",
       "      <th>3</th>\n",
       "      <td>3.769693</td>\n",
       "      <td>-0.456915</td>\n",
       "      <td>-0.934974</td>\n",
       "    </tr>\n",
       "    <tr>\n",
       "      <th>4</th>\n",
       "      <td>0.474894</td>\n",
       "      <td>-0.463225</td>\n",
       "      <td>-0.792887</td>\n",
       "    </tr>\n",
       "  </tbody>\n",
       "</table>\n",
       "</div>"
      ],
      "text/plain": [
       "   luminosity    radius  absolute_magnitude\n",
       "0    0.426203  2.386272           -1.411382\n",
       "1   -0.628782 -0.481951            0.636340\n",
       "2    1.335113 -0.365978           -0.897827\n",
       "3    3.769693 -0.456915           -0.934974\n",
       "4    0.474894 -0.463225           -0.792887"
      ]
     },
     "execution_count": 47,
     "metadata": {},
     "output_type": "execute_result"
    }
   ],
   "source": [
    "# сбросим индексы для последующего корректного объединения данных и удалим ненужный столбец \"index\"\n",
    "features_train = features_train.reset_index()\n",
    "features_train = features_train.drop(columns=['index'], axis=1)\n",
    "features_train.head()"
   ]
  },
  {
   "cell_type": "code",
   "execution_count": 48,
   "id": "a340f67c",
   "metadata": {},
   "outputs": [
    {
     "data": {
      "text/html": [
       "<div>\n",
       "<style scoped>\n",
       "    .dataframe tbody tr th:only-of-type {\n",
       "        vertical-align: middle;\n",
       "    }\n",
       "\n",
       "    .dataframe tbody tr th {\n",
       "        vertical-align: top;\n",
       "    }\n",
       "\n",
       "    .dataframe thead th {\n",
       "        text-align: right;\n",
       "    }\n",
       "</style>\n",
       "<table border=\"1\" class=\"dataframe\">\n",
       "  <thead>\n",
       "    <tr style=\"text-align: right;\">\n",
       "      <th></th>\n",
       "      <th>luminosity</th>\n",
       "      <th>radius</th>\n",
       "      <th>absolute_magnitude</th>\n",
       "    </tr>\n",
       "  </thead>\n",
       "  <tbody>\n",
       "    <tr>\n",
       "      <th>0</th>\n",
       "      <td>0.117823</td>\n",
       "      <td>2.152432</td>\n",
       "      <td>-1.116065</td>\n",
       "    </tr>\n",
       "    <tr>\n",
       "      <th>1</th>\n",
       "      <td>-0.628782</td>\n",
       "      <td>-0.482623</td>\n",
       "      <td>0.708776</td>\n",
       "    </tr>\n",
       "    <tr>\n",
       "      <th>2</th>\n",
       "      <td>-0.628782</td>\n",
       "      <td>-0.482877</td>\n",
       "      <td>0.713420</td>\n",
       "    </tr>\n",
       "    <tr>\n",
       "      <th>3</th>\n",
       "      <td>1.816618</td>\n",
       "      <td>-0.328861</td>\n",
       "      <td>-0.878325</td>\n",
       "    </tr>\n",
       "    <tr>\n",
       "      <th>4</th>\n",
       "      <td>-0.628782</td>\n",
       "      <td>-0.482881</td>\n",
       "      <td>0.682774</td>\n",
       "    </tr>\n",
       "  </tbody>\n",
       "</table>\n",
       "</div>"
      ],
      "text/plain": [
       "   luminosity    radius  absolute_magnitude\n",
       "0    0.117823  2.152432           -1.116065\n",
       "1   -0.628782 -0.482623            0.708776\n",
       "2   -0.628782 -0.482877            0.713420\n",
       "3    1.816618 -0.328861           -0.878325\n",
       "4   -0.628782 -0.482881            0.682774"
      ]
     },
     "execution_count": 48,
     "metadata": {},
     "output_type": "execute_result"
    }
   ],
   "source": [
    "# сбросим индексы для последующего корректного объединения данных и удалим ненужный столбец \"index\"\n",
    "features_test = features_test.reset_index()\n",
    "features_test = features_test.drop(columns=['index'], axis=1)\n",
    "features_test.head()"
   ]
  },
  {
   "cell_type": "code",
   "execution_count": 49,
   "id": "6522cdc0",
   "metadata": {},
   "outputs": [
    {
     "name": "stdout",
     "output_type": "stream",
     "text": [
      "luminosity                 0\n",
      "radius                     0\n",
      "absolute_magnitude         0\n",
      "star_type_0                0\n",
      "star_type_1                0\n",
      "star_type_2                0\n",
      "star_type_3                0\n",
      "star_type_4                0\n",
      "star_type_5                0\n",
      "star_color_blue            0\n",
      "star_color_blue-white      0\n",
      "star_color_red             0\n",
      "star_color_white           0\n",
      "star_color_yellow-white    0\n",
      "dtype: int64\n"
     ]
    }
   ],
   "source": [
    "# объединяем с кодированными категориальными признаками\n",
    "features_train = pd.concat((features_train, cat_features_train), axis=1)\n",
    "print(features_train.isnull().sum())"
   ]
  },
  {
   "cell_type": "code",
   "execution_count": 50,
   "id": "40c43fdc",
   "metadata": {
    "scrolled": false
   },
   "outputs": [
    {
     "name": "stdout",
     "output_type": "stream",
     "text": [
      "luminosity                 0\n",
      "radius                     0\n",
      "absolute_magnitude         0\n",
      "star_type_0                0\n",
      "star_type_1                0\n",
      "star_type_2                0\n",
      "star_type_3                0\n",
      "star_type_4                0\n",
      "star_type_5                0\n",
      "star_color_blue            0\n",
      "star_color_blue-white      0\n",
      "star_color_red             0\n",
      "star_color_white           0\n",
      "star_color_yellow-white    0\n",
      "dtype: int64\n"
     ]
    }
   ],
   "source": [
    "# объединяем с кодированными категориальными признаками\n",
    "features_test = pd.concat((features_test, cat_features_test), axis=1)\n",
    "print(features_test.isnull().sum())"
   ]
  },
  {
   "cell_type": "code",
   "execution_count": 51,
   "id": "b07c3332",
   "metadata": {},
   "outputs": [
    {
     "data": {
      "text/html": [
       "<div>\n",
       "<style scoped>\n",
       "    .dataframe tbody tr th:only-of-type {\n",
       "        vertical-align: middle;\n",
       "    }\n",
       "\n",
       "    .dataframe tbody tr th {\n",
       "        vertical-align: top;\n",
       "    }\n",
       "\n",
       "    .dataframe thead th {\n",
       "        text-align: right;\n",
       "    }\n",
       "</style>\n",
       "<table border=\"1\" class=\"dataframe\">\n",
       "  <thead>\n",
       "    <tr style=\"text-align: right;\">\n",
       "      <th></th>\n",
       "      <th>luminosity</th>\n",
       "      <th>radius</th>\n",
       "      <th>absolute_magnitude</th>\n",
       "      <th>star_type_0</th>\n",
       "      <th>star_type_1</th>\n",
       "      <th>star_type_2</th>\n",
       "      <th>star_type_3</th>\n",
       "      <th>star_type_4</th>\n",
       "      <th>star_type_5</th>\n",
       "      <th>star_color_blue</th>\n",
       "      <th>star_color_blue-white</th>\n",
       "      <th>star_color_red</th>\n",
       "      <th>star_color_white</th>\n",
       "      <th>star_color_yellow-white</th>\n",
       "    </tr>\n",
       "  </thead>\n",
       "  <tbody>\n",
       "    <tr>\n",
       "      <th>0</th>\n",
       "      <td>0.426203</td>\n",
       "      <td>2.386272</td>\n",
       "      <td>-1.411382</td>\n",
       "      <td>0.0</td>\n",
       "      <td>0.0</td>\n",
       "      <td>0.0</td>\n",
       "      <td>0.0</td>\n",
       "      <td>0.0</td>\n",
       "      <td>1.0</td>\n",
       "      <td>0.0</td>\n",
       "      <td>0.0</td>\n",
       "      <td>1.0</td>\n",
       "      <td>0.0</td>\n",
       "      <td>0.0</td>\n",
       "    </tr>\n",
       "    <tr>\n",
       "      <th>1</th>\n",
       "      <td>-0.628782</td>\n",
       "      <td>-0.481951</td>\n",
       "      <td>0.636340</td>\n",
       "      <td>0.0</td>\n",
       "      <td>1.0</td>\n",
       "      <td>0.0</td>\n",
       "      <td>0.0</td>\n",
       "      <td>0.0</td>\n",
       "      <td>0.0</td>\n",
       "      <td>0.0</td>\n",
       "      <td>0.0</td>\n",
       "      <td>1.0</td>\n",
       "      <td>0.0</td>\n",
       "      <td>0.0</td>\n",
       "    </tr>\n",
       "    <tr>\n",
       "      <th>2</th>\n",
       "      <td>1.335113</td>\n",
       "      <td>-0.365978</td>\n",
       "      <td>-0.897827</td>\n",
       "      <td>0.0</td>\n",
       "      <td>0.0</td>\n",
       "      <td>0.0</td>\n",
       "      <td>0.0</td>\n",
       "      <td>1.0</td>\n",
       "      <td>0.0</td>\n",
       "      <td>1.0</td>\n",
       "      <td>0.0</td>\n",
       "      <td>0.0</td>\n",
       "      <td>0.0</td>\n",
       "      <td>0.0</td>\n",
       "    </tr>\n",
       "    <tr>\n",
       "      <th>3</th>\n",
       "      <td>3.769693</td>\n",
       "      <td>-0.456915</td>\n",
       "      <td>-0.934974</td>\n",
       "      <td>0.0</td>\n",
       "      <td>0.0</td>\n",
       "      <td>0.0</td>\n",
       "      <td>0.0</td>\n",
       "      <td>1.0</td>\n",
       "      <td>0.0</td>\n",
       "      <td>1.0</td>\n",
       "      <td>0.0</td>\n",
       "      <td>0.0</td>\n",
       "      <td>0.0</td>\n",
       "      <td>0.0</td>\n",
       "    </tr>\n",
       "    <tr>\n",
       "      <th>4</th>\n",
       "      <td>0.474894</td>\n",
       "      <td>-0.463225</td>\n",
       "      <td>-0.792887</td>\n",
       "      <td>0.0</td>\n",
       "      <td>0.0</td>\n",
       "      <td>0.0</td>\n",
       "      <td>1.0</td>\n",
       "      <td>0.0</td>\n",
       "      <td>0.0</td>\n",
       "      <td>1.0</td>\n",
       "      <td>0.0</td>\n",
       "      <td>0.0</td>\n",
       "      <td>0.0</td>\n",
       "      <td>0.0</td>\n",
       "    </tr>\n",
       "  </tbody>\n",
       "</table>\n",
       "</div>"
      ],
      "text/plain": [
       "   luminosity    radius  absolute_magnitude  star_type_0  star_type_1  \\\n",
       "0    0.426203  2.386272           -1.411382          0.0          0.0   \n",
       "1   -0.628782 -0.481951            0.636340          0.0          1.0   \n",
       "2    1.335113 -0.365978           -0.897827          0.0          0.0   \n",
       "3    3.769693 -0.456915           -0.934974          0.0          0.0   \n",
       "4    0.474894 -0.463225           -0.792887          0.0          0.0   \n",
       "\n",
       "   star_type_2  star_type_3  star_type_4  star_type_5  star_color_blue  \\\n",
       "0          0.0          0.0          0.0          1.0              0.0   \n",
       "1          0.0          0.0          0.0          0.0              0.0   \n",
       "2          0.0          0.0          1.0          0.0              1.0   \n",
       "3          0.0          0.0          1.0          0.0              1.0   \n",
       "4          0.0          1.0          0.0          0.0              1.0   \n",
       "\n",
       "   star_color_blue-white  star_color_red  star_color_white  \\\n",
       "0                    0.0             1.0               0.0   \n",
       "1                    0.0             1.0               0.0   \n",
       "2                    0.0             0.0               0.0   \n",
       "3                    0.0             0.0               0.0   \n",
       "4                    0.0             0.0               0.0   \n",
       "\n",
       "   star_color_yellow-white  \n",
       "0                      0.0  \n",
       "1                      0.0  \n",
       "2                      0.0  \n",
       "3                      0.0  \n",
       "4                      0.0  "
      ]
     },
     "execution_count": 51,
     "metadata": {},
     "output_type": "execute_result"
    }
   ],
   "source": [
    "features_train.head(5)"
   ]
  },
  {
   "cell_type": "code",
   "execution_count": 52,
   "id": "479185dc",
   "metadata": {
    "scrolled": true
   },
   "outputs": [
    {
     "data": {
      "text/html": [
       "<div>\n",
       "<style scoped>\n",
       "    .dataframe tbody tr th:only-of-type {\n",
       "        vertical-align: middle;\n",
       "    }\n",
       "\n",
       "    .dataframe tbody tr th {\n",
       "        vertical-align: top;\n",
       "    }\n",
       "\n",
       "    .dataframe thead th {\n",
       "        text-align: right;\n",
       "    }\n",
       "</style>\n",
       "<table border=\"1\" class=\"dataframe\">\n",
       "  <thead>\n",
       "    <tr style=\"text-align: right;\">\n",
       "      <th></th>\n",
       "      <th>luminosity</th>\n",
       "      <th>radius</th>\n",
       "      <th>absolute_magnitude</th>\n",
       "      <th>star_type_0</th>\n",
       "      <th>star_type_1</th>\n",
       "      <th>star_type_2</th>\n",
       "      <th>star_type_3</th>\n",
       "      <th>star_type_4</th>\n",
       "      <th>star_type_5</th>\n",
       "      <th>star_color_blue</th>\n",
       "      <th>star_color_blue-white</th>\n",
       "      <th>star_color_red</th>\n",
       "      <th>star_color_white</th>\n",
       "      <th>star_color_yellow-white</th>\n",
       "    </tr>\n",
       "  </thead>\n",
       "  <tbody>\n",
       "    <tr>\n",
       "      <th>0</th>\n",
       "      <td>0.117823</td>\n",
       "      <td>2.152432</td>\n",
       "      <td>-1.116065</td>\n",
       "      <td>0.0</td>\n",
       "      <td>0.0</td>\n",
       "      <td>0.0</td>\n",
       "      <td>0.0</td>\n",
       "      <td>0.0</td>\n",
       "      <td>1.0</td>\n",
       "      <td>0.0</td>\n",
       "      <td>0.0</td>\n",
       "      <td>1.0</td>\n",
       "      <td>0.0</td>\n",
       "      <td>0.0</td>\n",
       "    </tr>\n",
       "    <tr>\n",
       "      <th>1</th>\n",
       "      <td>-0.628782</td>\n",
       "      <td>-0.482623</td>\n",
       "      <td>0.708776</td>\n",
       "      <td>0.0</td>\n",
       "      <td>1.0</td>\n",
       "      <td>0.0</td>\n",
       "      <td>0.0</td>\n",
       "      <td>0.0</td>\n",
       "      <td>0.0</td>\n",
       "      <td>0.0</td>\n",
       "      <td>0.0</td>\n",
       "      <td>1.0</td>\n",
       "      <td>0.0</td>\n",
       "      <td>0.0</td>\n",
       "    </tr>\n",
       "    <tr>\n",
       "      <th>2</th>\n",
       "      <td>-0.628782</td>\n",
       "      <td>-0.482877</td>\n",
       "      <td>0.713420</td>\n",
       "      <td>0.0</td>\n",
       "      <td>0.0</td>\n",
       "      <td>1.0</td>\n",
       "      <td>0.0</td>\n",
       "      <td>0.0</td>\n",
       "      <td>0.0</td>\n",
       "      <td>1.0</td>\n",
       "      <td>0.0</td>\n",
       "      <td>0.0</td>\n",
       "      <td>0.0</td>\n",
       "      <td>0.0</td>\n",
       "    </tr>\n",
       "    <tr>\n",
       "      <th>3</th>\n",
       "      <td>1.816618</td>\n",
       "      <td>-0.328861</td>\n",
       "      <td>-0.878325</td>\n",
       "      <td>0.0</td>\n",
       "      <td>0.0</td>\n",
       "      <td>0.0</td>\n",
       "      <td>0.0</td>\n",
       "      <td>1.0</td>\n",
       "      <td>0.0</td>\n",
       "      <td>1.0</td>\n",
       "      <td>0.0</td>\n",
       "      <td>0.0</td>\n",
       "      <td>0.0</td>\n",
       "      <td>0.0</td>\n",
       "    </tr>\n",
       "    <tr>\n",
       "      <th>4</th>\n",
       "      <td>-0.628782</td>\n",
       "      <td>-0.482881</td>\n",
       "      <td>0.682774</td>\n",
       "      <td>0.0</td>\n",
       "      <td>0.0</td>\n",
       "      <td>1.0</td>\n",
       "      <td>0.0</td>\n",
       "      <td>0.0</td>\n",
       "      <td>0.0</td>\n",
       "      <td>0.0</td>\n",
       "      <td>1.0</td>\n",
       "      <td>0.0</td>\n",
       "      <td>0.0</td>\n",
       "      <td>0.0</td>\n",
       "    </tr>\n",
       "  </tbody>\n",
       "</table>\n",
       "</div>"
      ],
      "text/plain": [
       "   luminosity    radius  absolute_magnitude  star_type_0  star_type_1  \\\n",
       "0    0.117823  2.152432           -1.116065          0.0          0.0   \n",
       "1   -0.628782 -0.482623            0.708776          0.0          1.0   \n",
       "2   -0.628782 -0.482877            0.713420          0.0          0.0   \n",
       "3    1.816618 -0.328861           -0.878325          0.0          0.0   \n",
       "4   -0.628782 -0.482881            0.682774          0.0          0.0   \n",
       "\n",
       "   star_type_2  star_type_3  star_type_4  star_type_5  star_color_blue  \\\n",
       "0          0.0          0.0          0.0          1.0              0.0   \n",
       "1          0.0          0.0          0.0          0.0              0.0   \n",
       "2          1.0          0.0          0.0          0.0              1.0   \n",
       "3          0.0          0.0          1.0          0.0              1.0   \n",
       "4          1.0          0.0          0.0          0.0              0.0   \n",
       "\n",
       "   star_color_blue-white  star_color_red  star_color_white  \\\n",
       "0                    0.0             1.0               0.0   \n",
       "1                    0.0             1.0               0.0   \n",
       "2                    0.0             0.0               0.0   \n",
       "3                    0.0             0.0               0.0   \n",
       "4                    1.0             0.0               0.0   \n",
       "\n",
       "   star_color_yellow-white  \n",
       "0                      0.0  \n",
       "1                      0.0  \n",
       "2                      0.0  \n",
       "3                      0.0  \n",
       "4                      0.0  "
      ]
     },
     "execution_count": 52,
     "metadata": {},
     "output_type": "execute_result"
    }
   ],
   "source": [
    "features_test.head(5)"
   ]
  },
  {
   "cell_type": "code",
   "execution_count": 53,
   "id": "e2d36c95",
   "metadata": {},
   "outputs": [],
   "source": [
    "features_train = torch.FloatTensor(features_train.values)\n",
    "features_test = torch.FloatTensor(features_test.values)\n",
    "target_train = torch.FloatTensor(target_train.values)\n",
    "target_test = torch.FloatTensor(target_test.values)"
   ]
  },
  {
   "cell_type": "markdown",
   "id": "funded-electric",
   "metadata": {},
   "source": [
    "## Построение базовой нейронной сети"
   ]
  },
  {
   "cell_type": "code",
   "execution_count": 54,
   "id": "bf7aaf2a",
   "metadata": {},
   "outputs": [],
   "source": [
    "n_in_neurons, n_out_neurons = features_train.shape[1], 1\n",
    "n_hidden_neurons_1 = 14\n",
    "n_hidden_neurons_2 = 35\n",
    "n_out_neurons = 1\n",
    "batch_size = 10\n",
    "num_batches = ceil(len(features_train)/batch_size)\n",
    "class Net(nn.Module):\n",
    "    def __init__(self, n_in_neurons, n_hidden_neurons_1, n_hidden_neurons_2, n_out_neurons):\n",
    "        super(Net, self).__init__()\n",
    "        \n",
    "        self.fc1 = nn.Linear(n_in_neurons, n_hidden_neurons_1)\n",
    "        self.act1 = nn.ReLU()\n",
    "        \n",
    "        self.fc2 = nn.Linear(n_hidden_neurons_1, n_hidden_neurons_2)\n",
    "        self.act2 = nn.ReLU()\n",
    "        \n",
    "        self.fc3 = nn.Linear(n_hidden_neurons_2, n_out_neurons)\n",
    "        \n",
    "    def forward(self, x):\n",
    "        x = self.fc1(x)\n",
    "        x = self.act1(x)\n",
    "       \n",
    "        x = self.fc2(x)\n",
    "        x = self.act2(x)\n",
    "       \n",
    "        x = self.fc3(x)\n",
    "        return x"
   ]
  },
  {
   "cell_type": "code",
   "execution_count": 55,
   "id": "ad4910d3",
   "metadata": {},
   "outputs": [],
   "source": [
    "def train(net, x_train, y_train, x_test, y_test, epoches, lr):\n",
    "    criterion = nn.MSELoss()\n",
    "    optimizer = torch.optim.Adam(net.parameters(), lr=lr)\n",
    "    epoches = epoches\n",
    "    train_losses = []\n",
    "    test_losses = []\n",
    "    test_preds = []\n",
    "    for i in range(epoches):\n",
    "        optimizer.zero_grad()\n",
    "        preds = net(x_train).flatten()\n",
    "        loss_train = torch.sqrt(criterion(preds, y_train))\n",
    "        loss_train.backward()\n",
    "        optimizer.step()\n",
    "        with torch.no_grad():\n",
    "            preds_test = net(x_test).flatten()\n",
    "            loss_test = torch.sqrt(criterion(preds_test, y_test))\n",
    "            sys.stdout.write('\\r Epoch: %d, loss_train: %.5f, loss_test: %.5f'\n",
    "                                %(i, loss_train.item(), loss_test.item()))\n",
    "            sys.stdout.flush()\n",
    "            train_losses.append(loss_train.item())\n",
    "            test_losses.append(loss_test.item())\n",
    "            if i == epoches - 1:\n",
    "                preds_t = net(x_test).flatten().detach().numpy()\n",
    "                test_preds.append(preds_t)\n",
    "    return train_losses, test_losses, test_preds"
   ]
  },
  {
   "cell_type": "code",
   "execution_count": 56,
   "id": "82fdee8d",
   "metadata": {},
   "outputs": [
    {
     "name": "stdout",
     "output_type": "stream",
     "text": [
      "Net(\n",
      "  (fc1): Linear(in_features=14, out_features=14, bias=True)\n",
      "  (act1): ReLU()\n",
      "  (fc2): Linear(in_features=14, out_features=35, bias=True)\n",
      "  (act2): ReLU()\n",
      "  (fc3): Linear(in_features=35, out_features=1, bias=True)\n",
      ")\n",
      " Epoch: 2499, loss_train: 5564.58691, loss_test: 4922.956052"
     ]
    }
   ],
   "source": [
    "net = Net(n_in_neurons, n_hidden_neurons_1, n_hidden_neurons_2, n_out_neurons)\n",
    "print(net)\n",
    "train_losses_final, test_losses_final, test_preds = train(net, features_train, target_train, \n",
    "                                                          features_test, target_test, 2500, 0.001)"
   ]
  },
  {
   "cell_type": "code",
   "execution_count": 57,
   "id": "0411b104",
   "metadata": {
    "scrolled": false
   },
   "outputs": [
    {
     "name": "stderr",
     "output_type": "stream",
     "text": [
      "/opt/conda/lib/python3.9/site-packages/seaborn/_decorators.py:36: FutureWarning: Pass the following variables as keyword args: x, y. From version 0.12, the only valid positional argument will be `data`, and passing other arguments without an explicit keyword will result in an error or misinterpretation.\n",
      "  warnings.warn(\n",
      "/opt/conda/lib/python3.9/site-packages/seaborn/_decorators.py:36: FutureWarning: Pass the following variables as keyword args: x, y. From version 0.12, the only valid positional argument will be `data`, and passing other arguments without an explicit keyword will result in an error or misinterpretation.\n",
      "  warnings.warn(\n"
     ]
    },
    {
     "data": {
      "image/png": "[encoded data removed]",
      "text/plain": [
       "<Figure size 1152x360 with 1 Axes>"
      ]
     },
     "metadata": {
      "needs_background": "light"
     },
     "output_type": "display_data"
    }
   ],
   "source": [
    "# Визуализация обучения нейросети\n",
    "fig = plt.figure(figsize=(16, 5))\n",
    "ax = sns.lineplot(np.arange(len(train_losses_final[:])), train_losses_final[:])\n",
    "ax = sns.lineplot(np.arange(len(test_losses_final[:])), test_losses_final[:])\n",
    "ax.set(xlabel='epoch', ylabel='RMSE Loss')\n",
    "plt.legend(['train loss', 'test_loss'])\n",
    "plt.title('RMSE Loss')\n",
    "plt.grid()\n",
    "ax.set_axisbelow(True)\n",
    "plt.show()"
   ]
  },
  {
   "cell_type": "code",
   "execution_count": 58,
   "id": "34553649",
   "metadata": {},
   "outputs": [],
   "source": [
    "rmse_first = min(test_losses_final)"
   ]
  },
  {
   "cell_type": "code",
   "execution_count": 59,
   "id": "9ff77158",
   "metadata": {
    "scrolled": true
   },
   "outputs": [
    {
     "name": "stdout",
     "output_type": "stream",
     "text": [
      "Значение RMSE: 4922.9560546875\n"
     ]
    }
   ],
   "source": [
    "print (f'Значение RMSE: {rmse_first}')"
   ]
  },
  {
   "cell_type": "code",
   "execution_count": 60,
   "id": "e95dc778",
   "metadata": {},
   "outputs": [],
   "source": [
    "def grafic(test_preds, target_test):\n",
    "    preds = list(test_preds[0])\n",
    "    fact = list(target_test.numpy())\n",
    "    \n",
    "    data = pd.DataFrame({'pred': preds, 'fact': fact})\n",
    "    \n",
    "    try:\n",
    "        bars2 = data.iloc[:,0].str.replace(',','.').astype('int')\n",
    "    except AttributeError:\n",
    "        bars2 = data.iloc[:,0].astype('int')\n",
    "        \n",
    "    try:\n",
    "        bars1 = data.iloc[:,1].str.replace(',','.').astype('int')\n",
    "    except AttributeError:\n",
    "        bars1 = data.iloc[:,1].astype('int')  \n",
    "        \n",
    "    xticks = data.index # задаем ось Х\n",
    "# зададим разную ширину для графиков, ведь один будет наложен на другой, оба столбца будут идти из одних точек.\n",
    "    barWidth1 = 0.065\n",
    "    barWidth2 = 0.032\n",
    "    x_range = np.arange(len(bars1) / 8, step=0.125)\n",
    "\n",
    "# отобразим столбцы на графике, задав им положение, ширину, значения, цвет, легенду и подписи к диаграммам:\n",
    "    plt.bar(x_range, bars1, color='#dce6f2', width=barWidth1/2, edgecolor='#c3d5e8', label='План')\n",
    "    plt.bar(x_range, bars2, color='#ffc001', width=barWidth2/2, edgecolor='#c3d5e8', label='Факт')\n",
    "    for i, bar in enumerate(bars2):\n",
    "        plt.text(i / 8 - 0.015, bar + 1, bar, fontsize=14)\n",
    "# отобразим столбцы на графике, задав им положение, ширину, значения, цвет, легенду \n",
    "    plt.xticks(x_range, xticks)\n",
    "    plt.tick_params(\n",
    "        bottom=False,\n",
    "        left=False,\n",
    "        labelsize=15\n",
    "                    )\n",
    "    plt.rcParams['figure.figsize'] = [25, 7]\n",
    "    plt.axhline(y=0, color='gray')\n",
    "    plt.legend(frameon=False, loc='lower center', bbox_to_anchor=(0.25, -0.3, 0.5, 0.5), prop={'size':20})\n",
    "    plt.box(False)\n",
    "    plt.savefig('plt', bbox_inches = \"tight\")\n",
    "    plt.show()"
   ]
  },
  {
   "cell_type": "code",
   "execution_count": 75,
   "id": "bf9fb0d8",
   "metadata": {
    "scrolled": true
   },
   "outputs": [
    {
     "data": {
      "image/png": "[encoded data removed]",
      "text/plain": [
       "<Figure size 1800x504 with 1 Axes>"
      ]
     },
     "metadata": {
      "needs_background": "light"
     },
     "output_type": "display_data"
    }
   ],
   "source": [
    "grafic(test_preds, target_test)"
   ]
  },
  {
   "cell_type": "markdown",
   "id": "07fa021a",
   "metadata": {},
   "source": [
    "## Улучшение нейронной сети"
   ]
  },
  {
   "cell_type": "markdown",
   "id": "4a484de7",
   "metadata": {},
   "source": [
    "Попробуем улучшить нашу сеть, добавив dropout. Воспользуемся библиотекой scorch (он поможет избежать подбора параметров на тестовых данных):"
   ]
  },
  {
   "cell_type": "code",
   "execution_count": 62,
   "id": "f88b2973",
   "metadata": {},
   "outputs": [],
   "source": [
    "class Model_improve(nn.Module):\n",
    "    def __init__(self, n_in_neurons, n_hidden_neurons_1, n_hidden_neurons_2, n_out_neurons, \n",
    "                 dropout_1, dropout_2, activation):\n",
    "        super(Model_improve, self).__init__()\n",
    "\n",
    "        self.fc1 = nn.Linear(n_in_neurons, n_hidden_neurons_1)\n",
    "        self.dp1 = nn.Dropout(p=dropout_1)\n",
    "        self.act1 = activation\n",
    "\n",
    "        self.fc2 = nn.Linear(n_hidden_neurons_1, n_hidden_neurons_2)\n",
    "        self.dp2 = nn.Dropout(p=dropout_2)\n",
    "        self.act2 = activation\n",
    "\n",
    "        self.fc3 = nn.Linear(n_hidden_neurons_2, n_out_neurons)\n",
    "\n",
    "    def forward(self, x):\n",
    "        x = self.fc1(x)\n",
    "        x = self.dp1(x)\n",
    "        x = self.act1(x)\n",
    "\n",
    "        x = self.fc2(x)\n",
    "        x = self.dp2(x)\n",
    "        x = self.act2(x)\n",
    "\n",
    "        x = self.fc3(x)\n",
    "\n",
    "        return x"
   ]
  },
  {
   "cell_type": "code",
   "execution_count": 63,
   "id": "dfd6203f",
   "metadata": {},
   "outputs": [],
   "source": [
    "# Определяем rmse_scorer\n",
    "def rmse(y_true, y_pred):\n",
    "    return mean_squared_error(y_true, y_pred, squared=False)\n",
    "\n",
    "rmse_scorer = make_scorer(rmse) "
   ]
  },
  {
   "cell_type": "markdown",
   "id": "da53db93",
   "metadata": {},
   "source": [
    "Чтобы подобрать лучшие параметры, воспользуемся связкой scorch и RandomizedSearchCV. Согласно условию задачи исследования, архитектуру нейронной сети (количество слоёв, нейронов, вид функции активации) оставляем как в базовой модели, чтобы сравнить результат."
   ]
  },
  {
   "cell_type": "code",
   "execution_count": 64,
   "id": "b90ddb32",
   "metadata": {},
   "outputs": [],
   "source": [
    "skorch_regressor = NeuralNetRegressor(module=Model_improve, \n",
    "                                      device='cpu',  \n",
    "                                      verbose=3,\n",
    "                                      batch_size=batch_size,\n",
    "                                      optimizer=torch.optim.Adam, \n",
    "                                      max_epochs=2500, \n",
    "                                      lr=1e-3,\n",
    "                                      criterion=nn.MSELoss,\n",
    "                                      callbacks=[\n",
    "                ('val_rmse', EpochScoring(scoring=rmse_scorer, lower_is_better=True, name='RMSE')),\n",
    "                ('estoper', EarlyStopping(lower_is_better=True, monitor='RMSE')),\n",
    "            ],\n",
    "                                     ) "
   ]
  },
  {
   "cell_type": "code",
   "execution_count": 65,
   "id": "4e1e7739",
   "metadata": {},
   "outputs": [],
   "source": [
    "# Зададим параметры\n",
    "params = {\n",
    "    'module__dropout_1': [0, 0.3],\n",
    "    'module__dropout_2': [0, 0.3],\n",
    "    'module__n_in_neurons': [features_train.shape[1]],\n",
    "    'module__n_hidden_neurons_1': [14],\n",
    "    'module__n_hidden_neurons_2': [35],\n",
    "    'module__n_out_neurons': [1],\n",
    "    'module__activation': [nn.ReLU()],\n",
    "    'lr': [0.01, 0.001],\n",
    "    'batch_size': range(10, 50, 10),\n",
    "    'max_epochs': [100, 9000, 100]\n",
    "}"
   ]
  },
  {
   "cell_type": "markdown",
   "id": "5210ce0a",
   "metadata": {},
   "source": [
    "Осуществим подбор параметров"
   ]
  },
  {
   "cell_type": "code",
   "execution_count": 66,
   "id": "cde171f2",
   "metadata": {},
   "outputs": [
    {
     "name": "stdout",
     "output_type": "stream",
     "text": [
      "Fitting 3 folds for each of 10 candidates, totalling 30 fits\n",
      "  epoch        RMSE      train_loss      valid_loss     dur\n",
      "-------  ----------  --------------  --------------  ------\n",
      "      1  \u001b[36m13152.7188\u001b[0m  \u001b[32m196067828.3333\u001b[0m  \u001b[35m172994016.0000\u001b[0m  0.0280\n",
      "      2  \u001b[36m13152.6514\u001b[0m  \u001b[32m196065499.5000\u001b[0m  \u001b[35m172992262.4000\u001b[0m  0.0230\n",
      "      3  \u001b[36m13152.5703\u001b[0m  \u001b[32m196063019.6667\u001b[0m  \u001b[35m172990118.4000\u001b[0m  0.0260\n",
      "      4  \u001b[36m13152.4707\u001b[0m  \u001b[32m196059633.8333\u001b[0m  \u001b[35m172987507.2000\u001b[0m  0.0190\n",
      "      5  \u001b[36m13152.3447\u001b[0m  \u001b[32m196056529.1667\u001b[0m  \u001b[35m172984172.8000\u001b[0m  0.0143\n",
      "Stopping since RMSE has not improved in the last 5 epochs.\n",
      "[CV 1/3] END batch_size=10, lr=0.001, max_epochs=100, module__activation=ReLU(), module__dropout_1=0.3, module__dropout_2=0, module__n_hidden_neurons_1=14, module__n_hidden_neurons_2=35, module__n_in_neurons=14, module__n_out_neurons=1; total time=   0.2s\n",
      "  epoch        RMSE      train_loss      valid_loss     dur\n",
      "-------  ----------  --------------  --------------  ------\n",
      "      1  \u001b[36m16916.3086\u001b[0m  \u001b[32m205228462.3333\u001b[0m  \u001b[35m286161484.8000\u001b[0m  0.0137\n",
      "      2  \u001b[36m16916.2520\u001b[0m  \u001b[32m205227041.5833\u001b[0m  \u001b[35m286159596.8000\u001b[0m  0.0141\n",
      "      3  \u001b[36m16916.1895\u001b[0m  \u001b[32m205225430.0000\u001b[0m  \u001b[35m286157446.4000\u001b[0m  0.0184\n",
      "      4  \u001b[36m16916.1133\u001b[0m  \u001b[32m205223376.5833\u001b[0m  \u001b[35m286154854.4000\u001b[0m  0.0144\n",
      "      5  \u001b[36m16916.0156\u001b[0m  \u001b[32m205221154.9167\u001b[0m  \u001b[35m286151609.6000\u001b[0m  0.0144\n",
      "Stopping since RMSE has not improved in the last 5 epochs.\n",
      "[CV 2/3] END batch_size=10, lr=0.001, max_epochs=100, module__activation=ReLU(), module__dropout_1=0.3, module__dropout_2=0, module__n_hidden_neurons_1=14, module__n_hidden_neurons_2=35, module__n_in_neurons=14, module__n_out_neurons=1; total time=   0.1s\n",
      "  epoch        RMSE      train_loss      valid_loss     dur\n",
      "-------  ----------  --------------  --------------  ------\n",
      "      1  \u001b[36m16916.3555\u001b[0m  \u001b[32m225568308.4536\u001b[0m  \u001b[35m286163078.4000\u001b[0m  0.0149\n",
      "      2  \u001b[36m16916.3086\u001b[0m  \u001b[32m225567090.9691\u001b[0m  \u001b[35m286161523.2000\u001b[0m  0.0259\n",
      "      3  \u001b[36m16916.2559\u001b[0m  \u001b[32m225565748.7835\u001b[0m  \u001b[35m286159705.6000\u001b[0m  0.0154\n",
      "      4  \u001b[36m16916.1875\u001b[0m  \u001b[32m225564258.3093\u001b[0m  \u001b[35m286157414.4000\u001b[0m  0.0145\n",
      "      5  \u001b[36m16916.0957\u001b[0m  \u001b[32m225561669.6082\u001b[0m  \u001b[35m286154265.6000\u001b[0m  0.0149\n",
      "Stopping since RMSE has not improved in the last 5 epochs.\n",
      "[CV 3/3] END batch_size=10, lr=0.001, max_epochs=100, module__activation=ReLU(), module__dropout_1=0.3, module__dropout_2=0, module__n_hidden_neurons_1=14, module__n_hidden_neurons_2=35, module__n_in_neurons=14, module__n_out_neurons=1; total time=   0.1s\n",
      "  epoch        RMSE      train_loss      valid_loss     dur\n",
      "-------  ----------  --------------  --------------  ------\n",
      "      1  \u001b[36m13152.6201\u001b[0m  \u001b[32m196065911.8333\u001b[0m  \u001b[35m172991411.2000\u001b[0m  0.0287\n",
      "      2  \u001b[36m13152.5293\u001b[0m  \u001b[32m196063285.9167\u001b[0m  \u001b[35m172989024.0000\u001b[0m  0.0143\n",
      "      3  \u001b[36m13152.4316\u001b[0m  \u001b[32m196060525.0000\u001b[0m  \u001b[35m172986483.2000\u001b[0m  0.0137\n",
      "      4  \u001b[36m13152.3252\u001b[0m  \u001b[32m196057487.8333\u001b[0m  \u001b[35m172983635.2000\u001b[0m  0.0137\n",
      "      5  \u001b[36m13152.1992\u001b[0m  \u001b[32m196054047.8333\u001b[0m  \u001b[35m172980352.0000\u001b[0m  0.0133\n",
      "Stopping since RMSE has not improved in the last 5 epochs.\n",
      "[CV 1/3] END batch_size=10, lr=0.001, max_epochs=100, module__activation=ReLU(), module__dropout_1=0, module__dropout_2=0, module__n_hidden_neurons_1=14, module__n_hidden_neurons_2=35, module__n_in_neurons=14, module__n_out_neurons=1; total time=   0.1s\n",
      "  epoch        RMSE      train_loss      valid_loss     dur\n",
      "-------  ----------  --------------  --------------  ------\n",
      "      1  \u001b[36m16916.5547\u001b[0m  \u001b[32m205235623.3333\u001b[0m  \u001b[35m286169785.6000\u001b[0m  0.0135\n",
      "      2  \u001b[36m16916.4766\u001b[0m  \u001b[32m205233653.4167\u001b[0m  \u001b[35m286167155.2000\u001b[0m  0.0137\n",
      "      3  \u001b[36m16916.3926\u001b[0m  \u001b[32m205231612.7500\u001b[0m  \u001b[35m286164332.8000\u001b[0m  0.0138\n",
      "      4  \u001b[36m16916.2949\u001b[0m  \u001b[32m205229289.5833\u001b[0m  \u001b[35m286161068.8000\u001b[0m  0.0137\n",
      "      5  \u001b[36m16916.1777\u001b[0m  \u001b[32m205226541.2500\u001b[0m  \u001b[35m286157088.0000\u001b[0m  0.0133\n",
      "Stopping since RMSE has not improved in the last 5 epochs.\n",
      "[CV 2/3] END batch_size=10, lr=0.001, max_epochs=100, module__activation=ReLU(), module__dropout_1=0, module__dropout_2=0, module__n_hidden_neurons_1=14, module__n_hidden_neurons_2=35, module__n_in_neurons=14, module__n_out_neurons=1; total time=   0.1s\n",
      "  epoch        RMSE      train_loss      valid_loss     dur\n",
      "-------  ----------  --------------  --------------  ------\n",
      "      1  \u001b[36m16916.3398\u001b[0m  \u001b[32m225568580.9485\u001b[0m  \u001b[35m286162585.6000\u001b[0m  0.0140\n",
      "      2  \u001b[36m16916.2559\u001b[0m  \u001b[32m225566082.8041\u001b[0m  \u001b[35m286159692.8000\u001b[0m  0.0140\n",
      "      3  \u001b[36m16916.1621\u001b[0m  \u001b[32m225563484.8660\u001b[0m  \u001b[35m286156518.4000\u001b[0m  0.0136\n",
      "      4  \u001b[36m16916.0508\u001b[0m  \u001b[32m225560551.0928\u001b[0m  \u001b[35m286152768.0000\u001b[0m  0.0140\n",
      "      5  \u001b[36m16915.9141\u001b[0m  \u001b[32m225556984.7423\u001b[0m  \u001b[35m286148147.2000\u001b[0m  0.0144\n",
      "Stopping since RMSE has not improved in the last 5 epochs.\n",
      "[CV 3/3] END batch_size=10, lr=0.001, max_epochs=100, module__activation=ReLU(), module__dropout_1=0, module__dropout_2=0, module__n_hidden_neurons_1=14, module__n_hidden_neurons_2=35, module__n_in_neurons=14, module__n_out_neurons=1; total time=   0.1s\n",
      "  epoch        RMSE      train_loss      valid_loss     dur\n",
      "-------  ----------  --------------  --------------  ------\n",
      "      1  \u001b[36m13152.7148\u001b[0m  \u001b[32m196067598.0000\u001b[0m  \u001b[35m172993952.0000\u001b[0m  0.0070\n",
      "      2  \u001b[36m13152.6924\u001b[0m  \u001b[32m196066656.0000\u001b[0m  \u001b[35m172993312.0000\u001b[0m  0.0070\n",
      "      3  \u001b[36m13152.6689\u001b[0m  \u001b[32m196066002.0000\u001b[0m  \u001b[35m172992704.0000\u001b[0m  0.0065\n",
      "      4  \u001b[36m13152.6426\u001b[0m  \u001b[32m196065541.0000\u001b[0m  \u001b[35m172992016.0000\u001b[0m  0.0071\n",
      "      5  \u001b[36m13152.6152\u001b[0m  \u001b[32m196064613.0000\u001b[0m  \u001b[35m172991296.0000\u001b[0m  0.0066\n",
      "Stopping since RMSE has not improved in the last 5 epochs.\n",
      "[CV 1/3] END batch_size=30, lr=0.001, max_epochs=100, module__activation=ReLU(), module__dropout_1=0.3, module__dropout_2=0, module__n_hidden_neurons_1=14, module__n_hidden_neurons_2=35, module__n_in_neurons=14, module__n_out_neurons=1; total time=   0.1s\n",
      "  epoch        RMSE      train_loss      valid_loss     dur\n",
      "-------  ----------  --------------  --------------  ------\n",
      "      1  \u001b[36m16916.5195\u001b[0m  \u001b[32m205234109.0000\u001b[0m  \u001b[35m286168608.0000\u001b[0m  0.0069\n",
      "      2  \u001b[36m16916.4902\u001b[0m  \u001b[32m205233176.0000\u001b[0m  \u001b[35m286167584.0000\u001b[0m  0.0068\n",
      "      3  \u001b[36m16916.4570\u001b[0m  \u001b[32m205232411.0000\u001b[0m  \u001b[35m286166528.0000\u001b[0m  0.0068\n",
      "      4  \u001b[36m16916.4238\u001b[0m  \u001b[32m205231542.0000\u001b[0m  \u001b[35m286165376.0000\u001b[0m  0.0074\n",
      "      5  \u001b[36m16916.3867\u001b[0m  \u001b[32m205230388.0000\u001b[0m  \u001b[35m286164192.0000\u001b[0m  0.0062\n",
      "Stopping since RMSE has not improved in the last 5 epochs.\n",
      "[CV 2/3] END batch_size=30, lr=0.001, max_epochs=100, module__activation=ReLU(), module__dropout_1=0.3, module__dropout_2=0, module__n_hidden_neurons_1=14, module__n_hidden_neurons_2=35, module__n_in_neurons=14, module__n_out_neurons=1; total time=   0.1s\n",
      "  epoch        RMSE      train_loss      valid_loss     dur\n",
      "-------  ----------  --------------  --------------  ------\n",
      "      1  \u001b[36m16916.2930\u001b[0m  \u001b[32m225566014.3505\u001b[0m  \u001b[35m286161024.0000\u001b[0m  0.0064\n",
      "      2  \u001b[36m16916.2695\u001b[0m  \u001b[32m225565347.9588\u001b[0m  \u001b[35m286160160.0000\u001b[0m  0.0072\n",
      "      3  \u001b[36m16916.2422\u001b[0m  \u001b[32m225564659.2990\u001b[0m  \u001b[35m286159296.0000\u001b[0m  0.0063\n",
      "      4  \u001b[36m16916.2148\u001b[0m  \u001b[32m225563864.9072\u001b[0m  \u001b[35m286158304.0000\u001b[0m  0.0073\n",
      "      5  \u001b[36m16916.1836\u001b[0m  \u001b[32m225563122.6392\u001b[0m  \u001b[35m286157280.0000\u001b[0m  0.0070\n",
      "Stopping since RMSE has not improved in the last 5 epochs.\n",
      "[CV 3/3] END batch_size=30, lr=0.001, max_epochs=100, module__activation=ReLU(), module__dropout_1=0.3, module__dropout_2=0, module__n_hidden_neurons_1=14, module__n_hidden_neurons_2=35, module__n_in_neurons=14, module__n_out_neurons=1; total time=   0.1s\n",
      "  epoch        RMSE      train_loss      valid_loss     dur\n",
      "-------  ----------  --------------  --------------  ------\n",
      "      1  \u001b[36m13152.4033\u001b[0m  \u001b[32m196066123.0000\u001b[0m  \u001b[35m172985696.0000\u001b[0m  0.0102\n",
      "      2  \u001b[36m13151.9023\u001b[0m  \u001b[32m196053208.0000\u001b[0m  \u001b[35m172972528.0000\u001b[0m  0.0428\n",
      "      3  \u001b[36m13151.0850\u001b[0m  \u001b[32m196035456.0000\u001b[0m  \u001b[35m172951024.0000\u001b[0m  0.0080\n",
      "      4  \u001b[36m13149.6582\u001b[0m  \u001b[32m196003903.0000\u001b[0m  \u001b[35m172913520.0000\u001b[0m  0.0077\n",
      "      5  \u001b[36m13147.3555\u001b[0m  \u001b[32m195948293.0000\u001b[0m  \u001b[35m172852960.0000\u001b[0m  0.0075\n",
      "      6  \u001b[36m13143.9199\u001b[0m  \u001b[32m195873514.0000\u001b[0m  \u001b[35m172762672.0000\u001b[0m  0.0090\n",
      "      7  \u001b[36m13138.8525\u001b[0m  \u001b[32m195720533.0000\u001b[0m  \u001b[35m172629440.0000\u001b[0m  0.0084\n",
      "      8  \u001b[36m13131.6416\u001b[0m  \u001b[32m195577895.0000\u001b[0m  \u001b[35m172440000.0000\u001b[0m  0.0080\n",
      "      9  \u001b[36m13121.7139\u001b[0m  \u001b[32m195349411.0000\u001b[0m  \u001b[35m172179376.0000\u001b[0m  0.0729\n",
      "     10  \u001b[36m13108.2900\u001b[0m  \u001b[32m194864231.0000\u001b[0m  \u001b[35m171827264.0000\u001b[0m  0.0073\n",
      "     11  \u001b[36m13090.7383\u001b[0m  \u001b[32m194476748.0000\u001b[0m  \u001b[35m171367408.0000\u001b[0m  0.0074\n",
      "     12  \u001b[36m13068.2939\u001b[0m  \u001b[32m193890398.0000\u001b[0m  \u001b[35m170780320.0000\u001b[0m  0.0080\n",
      "     13  \u001b[36m13039.5205\u001b[0m  \u001b[32m192813560.0000\u001b[0m  \u001b[35m170029104.0000\u001b[0m  0.0086\n",
      "     14  \u001b[36m13003.8057\u001b[0m  \u001b[32m191927846.0000\u001b[0m  \u001b[35m169098976.0000\u001b[0m  0.0083\n",
      "     15  \u001b[36m12960.4990\u001b[0m  \u001b[32m190853844.0000\u001b[0m  \u001b[35m167974528.0000\u001b[0m  0.0081\n",
      "     16  \u001b[36m12909.2744\u001b[0m  \u001b[32m189772612.5000\u001b[0m  \u001b[35m166649360.0000\u001b[0m  0.0737\n",
      "     17  \u001b[36m12848.5010\u001b[0m  \u001b[32m187657751.5000\u001b[0m  \u001b[35m165083968.0000\u001b[0m  0.0070\n",
      "     18  \u001b[36m12775.6748\u001b[0m  \u001b[32m185325398.0000\u001b[0m  \u001b[35m163217888.0000\u001b[0m  0.0074\n",
      "     19  \u001b[36m12689.6113\u001b[0m  \u001b[32m183038769.0000\u001b[0m  \u001b[35m161026240.0000\u001b[0m  0.0806\n",
      "     20  \u001b[36m12590.7969\u001b[0m  \u001b[32m179645069.5000\u001b[0m  \u001b[35m158528144.0000\u001b[0m  0.0072\n",
      "     21  \u001b[36m12476.6191\u001b[0m  \u001b[32m175659729.0000\u001b[0m  \u001b[35m155666032.0000\u001b[0m  0.0074\n",
      "     22  \u001b[36m12346.1143\u001b[0m  \u001b[32m172073676.5000\u001b[0m  \u001b[35m152426544.0000\u001b[0m  0.0072\n",
      "     23  \u001b[36m12202.1348\u001b[0m  \u001b[32m169656008.0000\u001b[0m  \u001b[35m148892096.0000\u001b[0m  0.0704\n",
      "     24  \u001b[36m12044.9072\u001b[0m  \u001b[32m161213467.0000\u001b[0m  \u001b[35m145079792.0000\u001b[0m  0.0081\n",
      "     25  \u001b[36m11873.8203\u001b[0m  \u001b[32m158669910.0000\u001b[0m  \u001b[35m140987584.0000\u001b[0m  0.0078\n",
      "     26  \u001b[36m11689.1113\u001b[0m  \u001b[32m150127761.0000\u001b[0m  \u001b[35m136635328.0000\u001b[0m  0.0741\n",
      "     27  \u001b[36m11496.0566\u001b[0m  \u001b[32m147290981.5000\u001b[0m  \u001b[35m132159328.0000\u001b[0m  0.0076\n",
      "     28  \u001b[36m11292.8896\u001b[0m  \u001b[32m137031539.5000\u001b[0m  \u001b[35m127529352.0000\u001b[0m  0.0076\n",
      "     29  \u001b[36m11087.1094\u001b[0m  141114174.0000  \u001b[35m122924000.0000\u001b[0m  0.0157\n",
      "     30  \u001b[36m10881.8086\u001b[0m  \u001b[32m127629425.5000\u001b[0m  \u001b[35m118413776.0000\u001b[0m  0.0080\n",
      "     31  \u001b[36m10676.9414\u001b[0m  \u001b[32m120803744.5000\u001b[0m  \u001b[35m113997080.0000\u001b[0m  0.0063\n",
      "     32  \u001b[36m10479.4268\u001b[0m  \u001b[32m115657461.0000\u001b[0m  \u001b[35m109818392.0000\u001b[0m  0.0069\n",
      "     33  \u001b[36m10289.6865\u001b[0m  \u001b[32m104725579.2500\u001b[0m  \u001b[35m105877664.0000\u001b[0m  0.0814\n",
      "     34  \u001b[36m10112.2061\u001b[0m  \u001b[32m95337828.7500\u001b[0m  \u001b[35m102256704.0000\u001b[0m  0.0102\n",
      "     35  \u001b[36m9952.2959\u001b[0m  104702341.0000  \u001b[35m99048184.0000\u001b[0m  0.0094\n",
      "     36  \u001b[36m9809.1475\u001b[0m  \u001b[32m92780449.2500\u001b[0m  \u001b[35m96219360.0000\u001b[0m  0.0629\n",
      "     37  \u001b[36m9682.0732\u001b[0m  \u001b[32m83435282.5000\u001b[0m  \u001b[35m93742544.0000\u001b[0m  0.0076\n",
      "     38  \u001b[36m9571.0195\u001b[0m  \u001b[32m79957361.0000\u001b[0m  \u001b[35m91604408.0000\u001b[0m  0.0079\n",
      "     39  \u001b[36m9477.0400\u001b[0m  \u001b[32m69277228.0000\u001b[0m  \u001b[35m89814280.0000\u001b[0m  0.0750\n",
      "     40  \u001b[36m9395.1758\u001b[0m  82128427.7500  \u001b[35m88269320.0000\u001b[0m  0.0084\n",
      "     41  \u001b[36m9320.4561\u001b[0m  77056714.7500  \u001b[35m86870904.0000\u001b[0m  0.0091\n",
      "     42  \u001b[36m9250.3965\u001b[0m  77551528.0000  \u001b[35m85569832.0000\u001b[0m  0.0795\n",
      "     43  \u001b[36m9185.5957\u001b[0m  \u001b[32m67586069.5000\u001b[0m  \u001b[35m84375168.0000\u001b[0m  0.0110\n",
      "     44  \u001b[36m9124.9697\u001b[0m  \u001b[32m62290036.2500\u001b[0m  \u001b[35m83265064.0000\u001b[0m  0.0105\n",
      "     45  \u001b[36m9068.6309\u001b[0m  \u001b[32m61072172.0000\u001b[0m  \u001b[35m82240064.0000\u001b[0m  0.0729\n",
      "     46  \u001b[36m9011.3525\u001b[0m  63451434.2500  \u001b[35m81204472.0000\u001b[0m  0.0110\n",
      "     47  \u001b[36m8949.1396\u001b[0m  69700918.5000  \u001b[35m80087104.0000\u001b[0m  0.0104\n",
      "     48  \u001b[36m8885.1064\u001b[0m  64162458.2500  \u001b[35m78945120.0000\u001b[0m  0.0690\n",
      "     49  \u001b[36m8817.5889\u001b[0m  72813999.5000  \u001b[35m77749880.0000\u001b[0m  0.0078\n",
      "     50  \u001b[36m8750.0254\u001b[0m  63614710.5000  \u001b[35m76562952.0000\u001b[0m  0.0077\n",
      "     51  \u001b[36m8686.8398\u001b[0m  \u001b[32m55690764.7500\u001b[0m  \u001b[35m75461192.0000\u001b[0m  0.0074\n",
      "     52  \u001b[36m8629.0977\u001b[0m  \u001b[32m52241216.8125\u001b[0m  \u001b[35m74461336.0000\u001b[0m  0.0079\n",
      "     53  \u001b[36m8573.9902\u001b[0m  57739244.2500  \u001b[35m73513312.0000\u001b[0m  0.0069\n",
      "     54  \u001b[36m8520.1074\u001b[0m  61134039.7500  \u001b[35m72592224.0000\u001b[0m  0.0073\n",
      "     55  \u001b[36m8465.4785\u001b[0m  63880232.2500  \u001b[35m71664320.0000\u001b[0m  0.0746\n",
      "     56  \u001b[36m8418.4922\u001b[0m  \u001b[32m44639890.7500\u001b[0m  \u001b[35m70871016.0000\u001b[0m  0.0077\n",
      "     57  \u001b[36m8360.7480\u001b[0m  59863037.2500  \u001b[35m69902112.0000\u001b[0m  0.0076\n",
      "     58  \u001b[36m8297.4570\u001b[0m  56930859.2500  \u001b[35m68847792.0000\u001b[0m  0.0777\n",
      "     59  \u001b[36m8231.9443\u001b[0m  51128719.0000  \u001b[35m67764904.0000\u001b[0m  0.0077\n",
      "     60  \u001b[36m8167.9707\u001b[0m  \u001b[32m43959295.7500\u001b[0m  \u001b[35m66715744.0000\u001b[0m  0.0073\n",
      "     61  \u001b[36m8095.7075\u001b[0m  56036734.7500  \u001b[35m65540476.0000\u001b[0m  0.0145\n",
      "     62  \u001b[36m8010.1152\u001b[0m  64073090.7500  \u001b[35m64161944.0000\u001b[0m  0.0085\n",
      "     63  \u001b[36m7927.5049\u001b[0m  52091327.0000  \u001b[35m62845332.0000\u001b[0m  0.0073\n",
      "     64  \u001b[36m7862.1846\u001b[0m  48858308.2500  \u001b[35m61813948.0000\u001b[0m  0.0073\n",
      "     65  \u001b[36m7804.2720\u001b[0m  48967936.2500  \u001b[35m60906672.0000\u001b[0m  0.0137\n",
      "     66  \u001b[36m7746.2754\u001b[0m  55083914.5000  \u001b[35m60004776.0000\u001b[0m  0.0079\n",
      "     67  \u001b[36m7694.0840\u001b[0m  45096491.3750  \u001b[35m59198936.0000\u001b[0m  0.0074\n",
      "     68  \u001b[36m7648.3423\u001b[0m  47336496.5000  \u001b[35m58497148.0000\u001b[0m  0.0110\n",
      "     69  \u001b[36m7609.5454\u001b[0m  47345436.2500  \u001b[35m57905176.0000\u001b[0m  0.0120\n",
      "     70  \u001b[36m7563.7842\u001b[0m  47391627.5000  \u001b[35m57210832.0000\u001b[0m  0.0115\n",
      "     71  \u001b[36m7515.6138\u001b[0m  52544038.2500  \u001b[35m56484448.0000\u001b[0m  0.0105\n",
      "     72  \u001b[36m7463.6860\u001b[0m  46877025.1250  \u001b[35m55706608.0000\u001b[0m  0.0077\n",
      "     73  \u001b[36m7401.8794\u001b[0m  \u001b[32m39487445.7500\u001b[0m  \u001b[35m54787816.0000\u001b[0m  0.0069\n",
      "     74  \u001b[36m7337.6978\u001b[0m  47262131.6250  \u001b[35m53841808.0000\u001b[0m  0.0073\n",
      "     75  \u001b[36m7283.4126\u001b[0m  53055606.1250  \u001b[35m53048096.0000\u001b[0m  0.0078\n",
      "     76  \u001b[36m7239.2139\u001b[0m  51643475.5000  \u001b[35m52406212.0000\u001b[0m  0.0081\n",
      "     77  \u001b[36m7207.4043\u001b[0m  40800053.2500  \u001b[35m51946680.0000\u001b[0m  0.0072\n",
      "     78  \u001b[36m7177.7661\u001b[0m  41976501.3750  \u001b[35m51520332.0000\u001b[0m  0.0080\n",
      "     79  \u001b[36m7146.5962\u001b[0m  43877790.5000  \u001b[35m51073832.0000\u001b[0m  0.0780\n",
      "     80  \u001b[36m7109.4614\u001b[0m  51046425.7500  \u001b[35m50544436.0000\u001b[0m  0.0085\n",
      "     81  \u001b[36m7075.6147\u001b[0m  45816506.0000  \u001b[35m50064316.0000\u001b[0m  0.0080\n",
      "     82  \u001b[36m7043.1489\u001b[0m  47370907.2500  \u001b[35m49605948.0000\u001b[0m  0.0088\n",
      "     83  \u001b[36m7011.3379\u001b[0m  41912706.2500  \u001b[35m49158856.0000\u001b[0m  0.0122\n",
      "     84  \u001b[36m6977.7666\u001b[0m  48492030.5000  \u001b[35m48689224.0000\u001b[0m  0.0112\n",
      "     85  \u001b[36m6938.0195\u001b[0m  46410107.6250  \u001b[35m48136120.0000\u001b[0m  0.0755\n",
      "     86  \u001b[36m6903.3149\u001b[0m  \u001b[32m35565891.0000\u001b[0m  \u001b[35m47655760.0000\u001b[0m  0.0083\n",
      "     87  \u001b[36m6877.1260\u001b[0m  45858224.7500  \u001b[35m47294864.0000\u001b[0m  0.0080\n",
      "     88  \u001b[36m6851.2915\u001b[0m  42729823.0000  \u001b[35m46940200.0000\u001b[0m  0.0743\n",
      "     89  \u001b[36m6830.9399\u001b[0m  49359337.5000  \u001b[35m46661740.0000\u001b[0m  0.0073\n",
      "     90  \u001b[36m6807.9888\u001b[0m  46676161.5000  \u001b[35m46348712.0000\u001b[0m  0.0072\n",
      "     91  \u001b[36m6786.6704\u001b[0m  42554410.3125  \u001b[35m46058884.0000\u001b[0m  0.0076\n",
      "     92  \u001b[36m6763.8745\u001b[0m  38523548.3750  \u001b[35m45749996.0000\u001b[0m  0.0071\n",
      "     93  \u001b[36m6738.4219\u001b[0m  46919431.7500  \u001b[35m45406332.0000\u001b[0m  0.0074\n",
      "     94  \u001b[36m6711.0400\u001b[0m  35770752.6250  \u001b[35m45038060.0000\u001b[0m  0.0072\n",
      "     95  \u001b[36m6683.6133\u001b[0m  54115606.5000  \u001b[35m44670688.0000\u001b[0m  0.0078\n",
      "     96  \u001b[36m6652.8770\u001b[0m  45995156.1250  \u001b[35m44260772.0000\u001b[0m  0.0784\n",
      "     97  \u001b[36m6623.4248\u001b[0m  37455466.8750  \u001b[35m43869756.0000\u001b[0m  0.0087\n",
      "     98  \u001b[36m6594.5615\u001b[0m  52648144.7500  \u001b[35m43488240.0000\u001b[0m  0.0076\n",
      "     99  \u001b[36m6566.8818\u001b[0m  52572320.8750  \u001b[35m43123932.0000\u001b[0m  0.0737\n",
      "    100  \u001b[36m6540.4766\u001b[0m  41516372.0000  \u001b[35m42777840.0000\u001b[0m  0.0086\n",
      "[CV 1/3] END batch_size=30, lr=0.01, max_epochs=100, module__activation=ReLU(), module__dropout_1=0.3, module__dropout_2=0.3, module__n_hidden_neurons_1=14, module__n_hidden_neurons_2=35, module__n_in_neurons=14, module__n_out_neurons=1; total time=   3.0s\n",
      "  epoch        RMSE      train_loss      valid_loss     dur\n",
      "-------  ----------  --------------  --------------  ------\n",
      "      1  \u001b[36m16916.3203\u001b[0m  \u001b[32m205235356.0000\u001b[0m  \u001b[35m286161888.0000\u001b[0m  0.0093\n",
      "      2  \u001b[36m16915.8359\u001b[0m  \u001b[32m205224626.0000\u001b[0m  \u001b[35m286145472.0000\u001b[0m  0.0714\n",
      "      3  \u001b[36m16915.0312\u001b[0m  \u001b[32m205208090.0000\u001b[0m  \u001b[35m286118304.0000\u001b[0m  0.0081\n",
      "      4  \u001b[36m16913.7090\u001b[0m  \u001b[32m205181181.0000\u001b[0m  \u001b[35m286073504.0000\u001b[0m  0.0076\n",
      "      5  \u001b[36m16911.5859\u001b[0m  \u001b[32m205126150.0000\u001b[0m  \u001b[35m286001760.0000\u001b[0m  0.0078\n",
      "      6  \u001b[36m16908.2715\u001b[0m  \u001b[32m205061961.0000\u001b[0m  \u001b[35m285889664.0000\u001b[0m  0.0711\n",
      "      7  \u001b[36m16903.2188\u001b[0m  \u001b[32m204970358.0000\u001b[0m  \u001b[35m285718816.0000\u001b[0m  0.0074\n",
      "      8  \u001b[36m16895.7402\u001b[0m  \u001b[32m204809337.0000\u001b[0m  \u001b[35m285466048.0000\u001b[0m  0.0080\n",
      "      9  \u001b[36m16884.9746\u001b[0m  \u001b[32m204609062.0000\u001b[0m  \u001b[35m285102336.0000\u001b[0m  0.0780\n",
      "     10  \u001b[36m16869.8984\u001b[0m  \u001b[32m204242708.0000\u001b[0m  \u001b[35m284593440.0000\u001b[0m  0.0082\n",
      "     11  \u001b[36m16849.0117\u001b[0m  \u001b[32m203835493.0000\u001b[0m  \u001b[35m283889184.0000\u001b[0m  0.0080\n",
      "     12  \u001b[36m16820.8496\u001b[0m  \u001b[32m203121139.0000\u001b[0m  \u001b[35m282940960.0000\u001b[0m  0.0753\n",
      "     13  \u001b[36m16783.7715\u001b[0m  \u001b[32m202441313.0000\u001b[0m  \u001b[35m281694976.0000\u001b[0m  0.0080\n",
      "     14  \u001b[36m16736.3633\u001b[0m  \u001b[32m201416171.0000\u001b[0m  \u001b[35m280105856.0000\u001b[0m  0.0077\n",
      "     15  \u001b[36m16675.5332\u001b[0m  \u001b[32m199620186.0000\u001b[0m  \u001b[35m278073376.0000\u001b[0m  0.0768\n",
      "     16  \u001b[36m16597.7676\u001b[0m  \u001b[32m197684834.5000\u001b[0m  \u001b[35m275485856.0000\u001b[0m  0.0074\n",
      "     17  \u001b[36m16502.3496\u001b[0m  \u001b[32m195960419.5000\u001b[0m  \u001b[35m272327552.0000\u001b[0m  0.0091\n",
      "     18  \u001b[36m16388.7891\u001b[0m  \u001b[32m194072513.5000\u001b[0m  \u001b[35m268592384.0000\u001b[0m  0.0749\n",
      "     19  \u001b[36m16253.5049\u001b[0m  \u001b[32m189849840.5000\u001b[0m  \u001b[35m264176448.0000\u001b[0m  0.0086\n",
      "     20  \u001b[36m16092.3877\u001b[0m  \u001b[32m187184942.5000\u001b[0m  \u001b[35m258964976.0000\u001b[0m  0.0091\n",
      "     21  \u001b[36m15904.6816\u001b[0m  \u001b[32m183478778.0000\u001b[0m  \u001b[35m252958912.0000\u001b[0m  0.0766\n",
      "     22  \u001b[36m15685.6709\u001b[0m  \u001b[32m178551671.5000\u001b[0m  \u001b[35m246040272.0000\u001b[0m  0.0113\n",
      "     23  \u001b[36m15429.6357\u001b[0m  \u001b[32m171046360.5000\u001b[0m  \u001b[35m238073648.0000\u001b[0m  0.0080\n",
      "     24  \u001b[36m15138.0664\u001b[0m  \u001b[32m166624313.5000\u001b[0m  \u001b[35m229161024.0000\u001b[0m  0.0738\n",
      "     25  \u001b[36m14812.8691\u001b[0m  \u001b[32m159105616.5000\u001b[0m  \u001b[35m219421104.0000\u001b[0m  0.0104\n",
      "     26  \u001b[36m14455.3203\u001b[0m  \u001b[32m155248648.0000\u001b[0m  \u001b[35m208956288.0000\u001b[0m  0.0108\n",
      "     27  \u001b[36m14064.2812\u001b[0m  \u001b[32m144664922.5000\u001b[0m  \u001b[35m197804016.0000\u001b[0m  0.0738\n",
      "     28  \u001b[36m13644.4287\u001b[0m  \u001b[32m136476150.5000\u001b[0m  \u001b[35m186170464.0000\u001b[0m  0.0073\n",
      "     29  \u001b[36m13192.0508\u001b[0m  \u001b[32m126995729.0000\u001b[0m  \u001b[35m174030192.0000\u001b[0m  0.0072\n",
      "     30  \u001b[36m12710.5391\u001b[0m  \u001b[32m119545403.5000\u001b[0m  \u001b[35m161557808.0000\u001b[0m  0.0775\n",
      "     31  \u001b[36m12211.1738\u001b[0m  \u001b[32m109827538.2500\u001b[0m  \u001b[35m149112768.0000\u001b[0m  0.0079\n",
      "     32  \u001b[36m11699.5518\u001b[0m  \u001b[32m106680984.0000\u001b[0m  \u001b[35m136879520.0000\u001b[0m  0.0084\n",
      "     33  \u001b[36m11182.5693\u001b[0m  \u001b[32m93926744.0000\u001b[0m  \u001b[35m125049832.0000\u001b[0m  0.0160\n",
      "     34  \u001b[36m10677.6240\u001b[0m  \u001b[32m87240006.2500\u001b[0m  \u001b[35m114011672.0000\u001b[0m  0.0085\n",
      "     35  \u001b[36m10189.3301\u001b[0m  \u001b[32m77655921.5000\u001b[0m  \u001b[35m103822456.0000\u001b[0m  0.0093\n",
      "     36  \u001b[36m9722.1904\u001b[0m  \u001b[32m72445665.2500\u001b[0m  \u001b[35m94520992.0000\u001b[0m  0.0826\n",
      "     37  \u001b[36m9305.1719\u001b[0m  81323649.2500  \u001b[35m86586224.0000\u001b[0m  0.0135\n",
      "     38  \u001b[36m8934.9336\u001b[0m  \u001b[32m58685595.2500\u001b[0m  \u001b[35m79833040.0000\u001b[0m  0.0132\n",
      "     39  \u001b[36m8611.7559\u001b[0m  65194404.2500  \u001b[35m74162336.0000\u001b[0m  0.0143\n",
      "     40  \u001b[36m8337.8486\u001b[0m  64699189.5000  \u001b[35m69519712.0000\u001b[0m  0.0106\n",
      "     41  \u001b[36m8115.0459\u001b[0m  \u001b[32m57898406.7500\u001b[0m  \u001b[35m65853972.0000\u001b[0m  0.0739\n",
      "     42  \u001b[36m7930.9272\u001b[0m  59043428.0000  \u001b[35m62899616.0000\u001b[0m  0.0093\n",
      "     43  \u001b[36m7776.4399\u001b[0m  \u001b[32m46890566.5000\u001b[0m  \u001b[35m60473016.0000\u001b[0m  0.0095\n",
      "     44  \u001b[36m7660.4888\u001b[0m  59951284.5000  \u001b[35m58683088.0000\u001b[0m  0.0745\n",
      "     45  \u001b[36m7566.0176\u001b[0m  49479012.5000  \u001b[35m57244620.0000\u001b[0m  0.0077\n",
      "     46  \u001b[36m7486.8018\u001b[0m  54573835.7500  \u001b[35m56052200.0000\u001b[0m  0.0080\n",
      "     47  \u001b[36m7422.1372\u001b[0m  \u001b[32m46743197.1250\u001b[0m  \u001b[35m55088124.0000\u001b[0m  0.0753\n",
      "     48  \u001b[36m7365.3086\u001b[0m  49511428.5000  \u001b[35m54247756.0000\u001b[0m  0.0086\n",
      "     49  \u001b[36m7311.8647\u001b[0m  \u001b[32m46150273.8750\u001b[0m  \u001b[35m53463368.0000\u001b[0m  0.0078\n",
      "     50  \u001b[36m7260.2070\u001b[0m  48960912.0000  \u001b[35m52710604.0000\u001b[0m  0.0078\n",
      "     51  \u001b[36m7208.9746\u001b[0m  53130946.0000  \u001b[35m51969312.0000\u001b[0m  0.0086\n",
      "     52  \u001b[36m7161.9658\u001b[0m  48333384.7500  \u001b[35m51293756.0000\u001b[0m  0.0083\n",
      "     53  \u001b[36m7117.5151\u001b[0m  \u001b[32m41575040.4375\u001b[0m  \u001b[35m50659024.0000\u001b[0m  0.0078\n",
      "     54  \u001b[36m7076.8843\u001b[0m  \u001b[32m36340311.7500\u001b[0m  \u001b[35m50082288.0000\u001b[0m  0.0723\n",
      "     55  \u001b[36m7037.8203\u001b[0m  37496896.2500  \u001b[35m49530912.0000\u001b[0m  0.0080\n",
      "     56  \u001b[36m6996.7725\u001b[0m  53721686.0000  \u001b[35m48954828.0000\u001b[0m  0.0075\n",
      "     57  \u001b[36m6959.3857\u001b[0m  38281246.7500  \u001b[35m48433056.0000\u001b[0m  0.0141\n",
      "     58  \u001b[36m6926.7378\u001b[0m  41668445.0000  \u001b[35m47979696.0000\u001b[0m  0.0084\n",
      "     59  \u001b[36m6895.4634\u001b[0m  \u001b[32m30881079.3750\u001b[0m  \u001b[35m47547424.0000\u001b[0m  0.0078\n",
      "     60  \u001b[36m6864.7476\u001b[0m  47668942.2500  \u001b[35m47124756.0000\u001b[0m  0.0080\n",
      "     61  \u001b[36m6834.7729\u001b[0m  44905285.1250  \u001b[35m46714124.0000\u001b[0m  0.0762\n",
      "     62  \u001b[36m6805.3521\u001b[0m  47544425.0000  \u001b[35m46312816.0000\u001b[0m  0.0091\n",
      "     63  \u001b[36m6776.6362\u001b[0m  47020760.8750  \u001b[35m45922796.0000\u001b[0m  0.0086\n",
      "     64  \u001b[36m6751.1182\u001b[0m  53930824.2500  \u001b[35m45577588.0000\u001b[0m  0.0754\n",
      "     65  \u001b[36m6727.4927\u001b[0m  53139311.7500  \u001b[35m45259152.0000\u001b[0m  0.0082\n",
      "     66  \u001b[36m6704.6943\u001b[0m  49138510.5000  \u001b[35m44952928.0000\u001b[0m  0.0080\n",
      "     67  \u001b[36m6683.4897\u001b[0m  42351055.2500  \u001b[35m44669032.0000\u001b[0m  0.0753\n",
      "     68  \u001b[36m6660.8799\u001b[0m  39687713.3750  \u001b[35m44367324.0000\u001b[0m  0.0081\n",
      "     69  \u001b[36m6638.1382\u001b[0m  38576871.1250  \u001b[35m44064876.0000\u001b[0m  0.0076\n",
      "     70  \u001b[36m6617.7310\u001b[0m  43991899.3750  \u001b[35m43794364.0000\u001b[0m  0.0750\n",
      "     71  \u001b[36m6598.7222\u001b[0m  46923820.0000  \u001b[35m43543132.0000\u001b[0m  0.0083\n",
      "     72  \u001b[36m6579.1934\u001b[0m  51914772.0000  \u001b[35m43285784.0000\u001b[0m  0.0081\n",
      "     73  \u001b[36m6558.1558\u001b[0m  38683870.6250  \u001b[35m43009396.0000\u001b[0m  0.0078\n",
      "     74  \u001b[36m6539.5176\u001b[0m  48708216.0000  \u001b[35m42765280.0000\u001b[0m  0.0715\n",
      "     75  \u001b[36m6520.8735\u001b[0m  43943097.5000  \u001b[35m42521788.0000\u001b[0m  0.0082\n",
      "     76  \u001b[36m6501.6436\u001b[0m  37215590.7500  \u001b[35m42271372.0000\u001b[0m  0.0081\n",
      "     77  \u001b[36m6480.8486\u001b[0m  51230354.3750  \u001b[35m42001396.0000\u001b[0m  0.0758\n",
      "     78  \u001b[36m6460.1040\u001b[0m  37267915.8750  \u001b[35m41732944.0000\u001b[0m  0.0082\n",
      "     79  \u001b[36m6441.6606\u001b[0m  39556945.3750  \u001b[35m41494992.0000\u001b[0m  0.0079\n",
      "     80  \u001b[36m6423.5576\u001b[0m  \u001b[32m27476580.7500\u001b[0m  \u001b[35m41262092.0000\u001b[0m  0.0772\n",
      "     81  \u001b[36m6405.6816\u001b[0m  45127820.6250  \u001b[35m41032756.0000\u001b[0m  0.0078\n",
      "     82  \u001b[36m6391.0190\u001b[0m  40863119.7500  \u001b[35m40845124.0000\u001b[0m  0.0077\n",
      "     83  \u001b[36m6378.1924\u001b[0m  38469946.3750  \u001b[35m40681340.0000\u001b[0m  0.0786\n",
      "     84  \u001b[36m6366.8550\u001b[0m  31124187.8750  \u001b[35m40536836.0000\u001b[0m  0.0083\n",
      "     85  \u001b[36m6353.7568\u001b[0m  38380203.7500  \u001b[35m40370228.0000\u001b[0m  0.0077\n",
      "     86  \u001b[36m6339.4619\u001b[0m  30517674.0000  \u001b[35m40188780.0000\u001b[0m  0.0078\n",
      "     87  \u001b[36m6324.4590\u001b[0m  44330134.3750  \u001b[35m39998780.0000\u001b[0m  0.0094\n",
      "     88  \u001b[36m6310.3213\u001b[0m  45283719.3750  \u001b[35m39820152.0000\u001b[0m  0.0080\n",
      "     89  \u001b[36m6295.8203\u001b[0m  32971034.5000  \u001b[35m39637352.0000\u001b[0m  0.0080\n",
      "     90  \u001b[36m6280.1245\u001b[0m  36347105.5000  \u001b[35m39439964.0000\u001b[0m  0.0736\n",
      "     91  \u001b[36m6264.6138\u001b[0m  31497486.0000  \u001b[35m39245388.0000\u001b[0m  0.0073\n",
      "     92  \u001b[36m6250.3765\u001b[0m  41911764.0000  \u001b[35m39067204.0000\u001b[0m  0.0072\n",
      "     93  \u001b[36m6233.1816\u001b[0m  35199784.5625  \u001b[35m38852556.0000\u001b[0m  0.0793\n",
      "     94  \u001b[36m6216.1650\u001b[0m  28982806.6250  \u001b[35m38640712.0000\u001b[0m  0.0084\n",
      "     95  \u001b[36m6200.2236\u001b[0m  39035045.4375  \u001b[35m38442776.0000\u001b[0m  0.0082\n",
      "     96  \u001b[36m6185.5649\u001b[0m  32774423.5000  \u001b[35m38261216.0000\u001b[0m  0.0068\n",
      "     97  \u001b[36m6170.5425\u001b[0m  41603739.0000  \u001b[35m38075600.0000\u001b[0m  0.0692\n",
      "     98  \u001b[36m6154.9683\u001b[0m  42249700.1250  \u001b[35m37883632.0000\u001b[0m  0.0073\n",
      "     99  \u001b[36m6141.2031\u001b[0m  32312420.3750  \u001b[35m37714380.0000\u001b[0m  0.0071\n",
      "    100  \u001b[36m6127.6577\u001b[0m  \u001b[32m27206019.0625\u001b[0m  \u001b[35m37548188.0000\u001b[0m  0.0777\n",
      "[CV 2/3] END batch_size=30, lr=0.01, max_epochs=100, module__activation=ReLU(), module__dropout_1=0.3, module__dropout_2=0.3, module__n_hidden_neurons_1=14, module__n_hidden_neurons_2=35, module__n_in_neurons=14, module__n_out_neurons=1; total time=   3.2s\n",
      "  epoch        RMSE      train_loss      valid_loss     dur\n",
      "-------  ----------  --------------  --------------  ------\n",
      "      1  \u001b[36m16916.2324\u001b[0m  \u001b[32m225570482.3093\u001b[0m  \u001b[35m286158944.0000\u001b[0m  0.0079\n",
      "      2  \u001b[36m16915.7480\u001b[0m  \u001b[32m225560595.9588\u001b[0m  \u001b[35m286142592.0000\u001b[0m  0.0074\n",
      "      3  \u001b[36m16914.8438\u001b[0m  \u001b[32m225547470.1856\u001b[0m  \u001b[35m286111936.0000\u001b[0m  0.0074\n",
      "      4  \u001b[36m16913.1816\u001b[0m  \u001b[32m225516731.2165\u001b[0m  \u001b[35m286055744.0000\u001b[0m  0.0079\n",
      "      5  \u001b[36m16910.2695\u001b[0m  \u001b[32m225460641.8144\u001b[0m  \u001b[35m285957184.0000\u001b[0m  0.0074\n",
      "      6  \u001b[36m16905.4590\u001b[0m  \u001b[32m225381494.9278\u001b[0m  \u001b[35m285794592.0000\u001b[0m  0.0072\n",
      "      7  \u001b[36m16898.0312\u001b[0m  \u001b[32m225237911.5876\u001b[0m  \u001b[35m285543488.0000\u001b[0m  0.0755\n",
      "      8  \u001b[36m16886.9023\u001b[0m  \u001b[32m225050019.4639\u001b[0m  \u001b[35m285167456.0000\u001b[0m  0.0083\n",
      "      9  \u001b[36m16870.8652\u001b[0m  \u001b[32m224721713.9794\u001b[0m  \u001b[35m284626112.0000\u001b[0m  0.0079\n",
      "     10  \u001b[36m16848.1270\u001b[0m  \u001b[32m224197479.4227\u001b[0m  \u001b[35m283859360.0000\u001b[0m  0.0780\n",
      "     11  \u001b[36m16817.1152\u001b[0m  \u001b[32m223520342.1031\u001b[0m  \u001b[35m282815360.0000\u001b[0m  0.0087\n",
      "     12  \u001b[36m16775.5508\u001b[0m  \u001b[32m222570151.7526\u001b[0m  \u001b[35m281419136.0000\u001b[0m  0.0081\n",
      "     13  \u001b[36m16721.2910\u001b[0m  \u001b[32m221371292.0412\u001b[0m  \u001b[35m279601632.0000\u001b[0m  0.0757\n",
      "     14  \u001b[36m16653.1055\u001b[0m  \u001b[32m220505375.1753\u001b[0m  \u001b[35m277325920.0000\u001b[0m  0.0087\n",
      "     15  \u001b[36m16568.5254\u001b[0m  \u001b[32m217967394.6392\u001b[0m  \u001b[35m274516032.0000\u001b[0m  0.0085\n",
      "     16  \u001b[36m16464.2598\u001b[0m  \u001b[32m216398609.4845\u001b[0m  \u001b[35m271071872.0000\u001b[0m  0.0713\n",
      "     17  \u001b[36m16338.8262\u001b[0m  \u001b[32m213899321.7320\u001b[0m  \u001b[35m266957232.0000\u001b[0m  0.0081\n",
      "     18  \u001b[36m16192.3291\u001b[0m  \u001b[32m211256692.6186\u001b[0m  \u001b[35m262191536.0000\u001b[0m  0.0080\n",
      "     19  \u001b[36m16018.1748\u001b[0m  \u001b[32m206425896.2474\u001b[0m  \u001b[35m256581920.0000\u001b[0m  0.0787\n",
      "     20  \u001b[36m15809.6709\u001b[0m  \u001b[32m201867106.8041\u001b[0m  \u001b[35m249945664.0000\u001b[0m  0.0080\n",
      "     21  \u001b[36m15570.9316\u001b[0m  \u001b[32m196812425.8969\u001b[0m  \u001b[35m242453888.0000\u001b[0m  0.0080\n",
      "     22  \u001b[36m15297.9297\u001b[0m  \u001b[32m192447599.0103\u001b[0m  \u001b[35m234026656.0000\u001b[0m  0.0749\n",
      "     23  \u001b[36m14992.1387\u001b[0m  \u001b[32m186038306.8041\u001b[0m  \u001b[35m224764208.0000\u001b[0m  0.0082\n",
      "     24  \u001b[36m14650.0879\u001b[0m  \u001b[32m178184850.3093\u001b[0m  \u001b[35m214625072.0000\u001b[0m  0.0080\n",
      "     25  \u001b[36m14274.2344\u001b[0m  \u001b[32m171650453.1134\u001b[0m  \u001b[35m203753776.0000\u001b[0m  0.0076\n",
      "     26  \u001b[36m13866.5508\u001b[0m  \u001b[32m164792259.9588\u001b[0m  \u001b[35m192281232.0000\u001b[0m  0.0702\n",
      "     27  \u001b[36m13434.8994\u001b[0m  \u001b[32m157593321.5670\u001b[0m  \u001b[35m180496528.0000\u001b[0m  0.0079\n",
      "     28  \u001b[36m12977.4619\u001b[0m  \u001b[32m150275584.6598\u001b[0m  \u001b[35m168414528.0000\u001b[0m  0.0080\n",
      "     29  \u001b[36m12487.9111\u001b[0m  \u001b[32m132845739.9588\u001b[0m  \u001b[35m155947936.0000\u001b[0m  0.0079\n",
      "     30  \u001b[36m11974.6406\u001b[0m  \u001b[32m124548645.0309\u001b[0m  \u001b[35m143392016.0000\u001b[0m  0.0083\n",
      "     31  \u001b[36m11467.0674\u001b[0m  126577649.9794  \u001b[35m131493624.0000\u001b[0m  0.0081\n",
      "     32  \u001b[36m10970.1338\u001b[0m  \u001b[32m114116293.8557\u001b[0m  \u001b[35m120343840.0000\u001b[0m  0.0074\n",
      "     33  \u001b[36m10490.5605\u001b[0m  \u001b[32m100871146.2268\u001b[0m  \u001b[35m110051864.0000\u001b[0m  0.0743\n",
      "     34  \u001b[36m10042.9668\u001b[0m  \u001b[32m99368086.5155\u001b[0m  \u001b[35m100861176.0000\u001b[0m  0.0075\n",
      "     35  \u001b[36m9623.9697\u001b[0m  \u001b[32m95341616.1649\u001b[0m  \u001b[35m92620800.0000\u001b[0m  0.0070\n",
      "     36  \u001b[36m9250.2949\u001b[0m  \u001b[32m85175744.0825\u001b[0m  \u001b[35m85567960.0000\u001b[0m  0.0146\n",
      "     37  \u001b[36m8942.5967\u001b[0m  \u001b[32m82101541.3608\u001b[0m  \u001b[35m79970040.0000\u001b[0m  0.0082\n",
      "     38  \u001b[36m8686.7266\u001b[0m  91480491.2990  \u001b[35m75459224.0000\u001b[0m  0.0078\n",
      "     39  \u001b[36m8491.7920\u001b[0m  89369729.3196  \u001b[35m72110528.0000\u001b[0m  0.0073\n",
      "     40  \u001b[36m8342.3516\u001b[0m  84489019.5876  \u001b[35m69594832.0000\u001b[0m  0.0742\n",
      "     41  \u001b[36m8218.6289\u001b[0m  \u001b[32m76894359.5052\u001b[0m  \u001b[35m67545864.0000\u001b[0m  0.0074\n",
      "     42  \u001b[36m8105.8496\u001b[0m  \u001b[32m64446261.8144\u001b[0m  \u001b[35m65704800.0000\u001b[0m  0.0071\n",
      "     43  \u001b[36m8013.2769\u001b[0m  64763639.5052  \u001b[35m64212604.0000\u001b[0m  0.0783\n",
      "     44  \u001b[36m7934.5308\u001b[0m  \u001b[32m63879264.8660\u001b[0m  \u001b[35m62956780.0000\u001b[0m  0.0076\n",
      "     45  \u001b[36m7870.4141\u001b[0m  64989470.1031  \u001b[35m61943420.0000\u001b[0m  0.0072\n",
      "     46  \u001b[36m7817.3877\u001b[0m  67084540.3299  \u001b[35m61111556.0000\u001b[0m  0.0074\n",
      "     47  \u001b[36m7773.9502\u001b[0m  68164755.1340  \u001b[35m60434304.0000\u001b[0m  0.0702\n",
      "     48  \u001b[36m7739.5288\u001b[0m  \u001b[32m59772385.4845\u001b[0m  \u001b[35m59900308.0000\u001b[0m  0.0070\n",
      "     49  \u001b[36m7718.6431\u001b[0m  66850179.0515  \u001b[35m59577456.0000\u001b[0m  0.0069\n",
      "     50  \u001b[36m7702.8936\u001b[0m  \u001b[32m57407101.2784\u001b[0m  \u001b[35m59334568.0000\u001b[0m  0.0785\n",
      "     51  \u001b[36m7681.8833\u001b[0m  62125088.8247  \u001b[35m59011332.0000\u001b[0m  0.0085\n",
      "     52  \u001b[36m7672.3521\u001b[0m  \u001b[32m56774849.6495\u001b[0m  \u001b[35m58864992.0000\u001b[0m  0.0077\n",
      "     53  \u001b[36m7649.0850\u001b[0m  \u001b[32m51761479.0103\u001b[0m  \u001b[35m58508496.0000\u001b[0m  0.0078\n",
      "     54  \u001b[36m7627.0161\u001b[0m  57063858.3093  \u001b[35m58171376.0000\u001b[0m  0.0711\n",
      "     55  \u001b[36m7608.0332\u001b[0m  53764781.7732  \u001b[35m57882180.0000\u001b[0m  0.0078\n",
      "     56  \u001b[36m7589.6074\u001b[0m  64922722.8041  \u001b[35m57602140.0000\u001b[0m  0.0088\n",
      "     57  \u001b[36m7561.8188\u001b[0m  57697708.7010  \u001b[35m57181108.0000\u001b[0m  0.0751\n",
      "     58  \u001b[36m7535.8457\u001b[0m  66378377.7320  \u001b[35m56788968.0000\u001b[0m  0.0102\n",
      "     59  \u001b[36m7521.7544\u001b[0m  59234778.1443  \u001b[35m56576788.0000\u001b[0m  0.0078\n",
      "     60  \u001b[36m7519.0908\u001b[0m  60327606.1856  \u001b[35m56536728.0000\u001b[0m  0.0749\n",
      "     61  \u001b[36m7508.6992\u001b[0m  56081417.8969  \u001b[35m56380568.0000\u001b[0m  0.0079\n",
      "     62  \u001b[36m7486.5723\u001b[0m  \u001b[32m50993888.7010\u001b[0m  \u001b[35m56048768.0000\u001b[0m  0.0080\n",
      "     63  \u001b[36m7461.1133\u001b[0m  \u001b[32m42264562.1546\u001b[0m  \u001b[35m55668200.0000\u001b[0m  0.0087\n",
      "     64  \u001b[36m7429.9985\u001b[0m  44769963.9175  \u001b[35m55204880.0000\u001b[0m  0.0696\n",
      "     65  \u001b[36m7398.8311\u001b[0m  53877800.8247  \u001b[35m54742704.0000\u001b[0m  0.0071\n",
      "     66  \u001b[36m7383.3169\u001b[0m  68018986.3918  \u001b[35m54513360.0000\u001b[0m  0.0068\n",
      "     67  7386.2573  45315546.5155  54556800.0000  0.0788\n",
      "     68  \u001b[36m7380.9424\u001b[0m  50751368.9485  \u001b[35m54478304.0000\u001b[0m  0.0080\n",
      "     69  \u001b[36m7356.9595\u001b[0m  56603718.1856  \u001b[35m54124848.0000\u001b[0m  0.0078\n",
      "     70  \u001b[36m7326.8599\u001b[0m  57547364.6186  \u001b[35m53682876.0000\u001b[0m  0.0077\n",
      "     71  \u001b[36m7288.1450\u001b[0m  47368916.5773  \u001b[35m53117056.0000\u001b[0m  0.0705\n",
      "     72  \u001b[36m7271.0835\u001b[0m  47589885.8144  \u001b[35m52868656.0000\u001b[0m  0.0079\n",
      "     73  \u001b[36m7249.1807\u001b[0m  49510606.9691  \u001b[35m52550620.0000\u001b[0m  0.0065\n",
      "     74  \u001b[36m7225.0283\u001b[0m  49306554.1856  \u001b[35m52201036.0000\u001b[0m  0.0774\n",
      "     75  \u001b[36m7194.0337\u001b[0m  48624004.8660  \u001b[35m51754124.0000\u001b[0m  0.0079\n",
      "     76  \u001b[36m7181.7192\u001b[0m  63813800.5361  \u001b[35m51577092.0000\u001b[0m  0.0080\n",
      "     77  \u001b[36m7166.2939\u001b[0m  43809435.5876  \u001b[35m51355776.0000\u001b[0m  0.0076\n",
      "     78  \u001b[36m7149.8643\u001b[0m  48184589.0722  \u001b[35m51120560.0000\u001b[0m  0.0099\n",
      "     79  \u001b[36m7134.9785\u001b[0m  50636182.3505  \u001b[35m50907920.0000\u001b[0m  0.0084\n",
      "     80  \u001b[36m7123.8945\u001b[0m  44171109.7320  \u001b[35m50749876.0000\u001b[0m  0.0085\n",
      "     81  \u001b[36m7112.3770\u001b[0m  50033555.2990  \u001b[35m50585908.0000\u001b[0m  0.0098\n",
      "     82  \u001b[36m7112.2959\u001b[0m  51190857.1546  \u001b[35m50584752.0000\u001b[0m  0.0101\n",
      "     83  \u001b[36m7112.1064\u001b[0m  49867916.9485  \u001b[35m50582056.0000\u001b[0m  0.0798\n",
      "     84  \u001b[36m7108.6279\u001b[0m  48530299.2577  \u001b[35m50532588.0000\u001b[0m  0.0095\n",
      "     85  \u001b[36m7087.9536\u001b[0m  \u001b[32m41461906.5155\u001b[0m  \u001b[35m50239092.0000\u001b[0m  0.0090\n",
      "     86  \u001b[36m7055.3984\u001b[0m  44880101.3608  \u001b[35m49778648.0000\u001b[0m  0.0709\n",
      "     87  \u001b[36m7033.2070\u001b[0m  45204323.1753  \u001b[35m49466004.0000\u001b[0m  0.0084\n",
      "     88  \u001b[36m7018.6079\u001b[0m  51457783.5670  \u001b[35m49260860.0000\u001b[0m  0.0079\n",
      "     89  \u001b[36m7007.3926\u001b[0m  45307311.8351  \u001b[35m49103548.0000\u001b[0m  0.0089\n",
      "     90  7021.0005  53507632.4948  49294448.0000  0.0717\n",
      "     91  7031.5791  \u001b[32m41173997.8144\u001b[0m  49443104.0000  0.0073\n",
      "     92  7019.9038  51728418.5155  49279052.0000  0.0076\n",
      "     93  \u001b[36m6991.8145\u001b[0m  47110913.5258  \u001b[35m48885472.0000\u001b[0m  0.0812\n",
      "     94  \u001b[36m6945.3828\u001b[0m  \u001b[32m40928264.2062\u001b[0m  \u001b[35m48238340.0000\u001b[0m  0.0119\n",
      "     95  \u001b[36m6896.4644\u001b[0m  43723229.0309  \u001b[35m47561220.0000\u001b[0m  0.0093\n",
      "     96  \u001b[36m6854.5669\u001b[0m  44742526.4330  \u001b[35m46985088.0000\u001b[0m  0.0593\n",
      "     97  \u001b[36m6825.6040\u001b[0m  \u001b[32m39669710.0206\u001b[0m  \u001b[35m46588868.0000\u001b[0m  0.0079\n",
      "     98  \u001b[36m6797.8442\u001b[0m  \u001b[32m35422802.8041\u001b[0m  \u001b[35m46210684.0000\u001b[0m  0.0077\n",
      "     99  \u001b[36m6761.1421\u001b[0m  48646920.2887  \u001b[35m45713040.0000\u001b[0m  0.0778\n",
      "    100  \u001b[36m6728.0181\u001b[0m  39896463.4227  \u001b[35m45266224.0000\u001b[0m  0.0078\n",
      "[CV 3/3] END batch_size=30, lr=0.01, max_epochs=100, module__activation=ReLU(), module__dropout_1=0.3, module__dropout_2=0.3, module__n_hidden_neurons_1=14, module__n_hidden_neurons_2=35, module__n_in_neurons=14, module__n_out_neurons=1; total time=   3.0s\n",
      "  epoch        RMSE      train_loss      valid_loss     dur\n",
      "-------  ----------  --------------  --------------  ------\n",
      "      1  \u001b[36m13152.7100\u001b[0m  \u001b[32m196067662.0000\u001b[0m  \u001b[35m172993798.4000\u001b[0m  0.0079\n",
      "      2  \u001b[36m13152.6846\u001b[0m  \u001b[32m196066682.0000\u001b[0m  \u001b[35m172993126.4000\u001b[0m  0.0084\n",
      "      3  \u001b[36m13152.6592\u001b[0m  \u001b[32m196066008.6667\u001b[0m  \u001b[35m172992428.8000\u001b[0m  0.0097\n",
      "      4  \u001b[36m13152.6299\u001b[0m  \u001b[32m196065119.3333\u001b[0m  \u001b[35m172991667.2000\u001b[0m  0.0080\n",
      "      5  \u001b[36m13152.5986\u001b[0m  \u001b[32m196064148.0000\u001b[0m  \u001b[35m172990841.6000\u001b[0m  0.0087\n",
      "Stopping since RMSE has not improved in the last 5 epochs.\n",
      "[CV 1/3] END batch_size=20, lr=0.001, max_epochs=100, module__activation=ReLU(), module__dropout_1=0.3, module__dropout_2=0, module__n_hidden_neurons_1=14, module__n_hidden_neurons_2=35, module__n_in_neurons=14, module__n_out_neurons=1; total time=   0.1s\n",
      "  epoch        RMSE      train_loss      valid_loss     dur\n",
      "-------  ----------  --------------  --------------  ------\n",
      "      1  \u001b[36m16916.4512\u001b[0m  \u001b[32m205233200.0000\u001b[0m  \u001b[35m286166304.0000\u001b[0m  0.0081\n",
      "      2  \u001b[36m16916.4043\u001b[0m  \u001b[32m205231436.6667\u001b[0m  \u001b[35m286164716.8000\u001b[0m  0.0084\n",
      "      3  \u001b[36m16916.3555\u001b[0m  \u001b[32m205230079.3333\u001b[0m  \u001b[35m286163046.4000\u001b[0m  0.0081\n",
      "      4  \u001b[36m16916.3008\u001b[0m  \u001b[32m205228890.6667\u001b[0m  \u001b[35m286161254.4000\u001b[0m  0.0078\n",
      "      5  \u001b[36m16916.2422\u001b[0m  \u001b[32m205227219.3333\u001b[0m  \u001b[35m286159264.0000\u001b[0m  0.0080\n",
      "Stopping since RMSE has not improved in the last 5 epochs.\n",
      "[CV 2/3] END batch_size=20, lr=0.001, max_epochs=100, module__activation=ReLU(), module__dropout_1=0.3, module__dropout_2=0, module__n_hidden_neurons_1=14, module__n_hidden_neurons_2=35, module__n_in_neurons=14, module__n_out_neurons=1; total time=   0.1s\n",
      "  epoch        RMSE      train_loss      valid_loss     dur\n",
      "-------  ----------  --------------  --------------  ------\n",
      "      1  \u001b[36m16916.5664\u001b[0m  \u001b[32m225574051.4639\u001b[0m  \u001b[35m286170265.6000\u001b[0m  0.0083\n",
      "      2  \u001b[36m16916.5215\u001b[0m  \u001b[32m225572502.9278\u001b[0m  \u001b[35m286168652.8000\u001b[0m  0.0079\n",
      "      3  \u001b[36m16916.4707\u001b[0m  \u001b[32m225571265.4845\u001b[0m  \u001b[35m286166969.6000\u001b[0m  0.0083\n",
      "      4  \u001b[36m16916.4199\u001b[0m  \u001b[32m225570110.3505\u001b[0m  \u001b[35m286165286.4000\u001b[0m  0.0083\n",
      "      5  \u001b[36m16916.3691\u001b[0m  \u001b[32m225568917.9381\u001b[0m  \u001b[35m286163577.6000\u001b[0m  0.0087\n",
      "Stopping since RMSE has not improved in the last 5 epochs.\n",
      "[CV 3/3] END batch_size=20, lr=0.001, max_epochs=100, module__activation=ReLU(), module__dropout_1=0.3, module__dropout_2=0, module__n_hidden_neurons_1=14, module__n_hidden_neurons_2=35, module__n_in_neurons=14, module__n_out_neurons=1; total time=   0.1s\n",
      "  epoch        RMSE      train_loss      valid_loss     dur\n",
      "-------  ----------  --------------  --------------  ------\n",
      "      1  \u001b[36m13152.5039\u001b[0m  \u001b[32m196061644.6667\u001b[0m  \u001b[35m172988396.8000\u001b[0m  0.0079\n",
      "      2  \u001b[36m13152.4736\u001b[0m  \u001b[32m196060908.6667\u001b[0m  \u001b[35m172987564.8000\u001b[0m  0.0238\n",
      "      3  \u001b[36m13152.4395\u001b[0m  \u001b[32m196059664.6667\u001b[0m  \u001b[35m172986688.0000\u001b[0m  0.0082\n",
      "      4  \u001b[36m13152.4043\u001b[0m  \u001b[32m196058974.6667\u001b[0m  \u001b[35m172985715.2000\u001b[0m  0.0083\n",
      "      5  \u001b[36m13152.3633\u001b[0m  \u001b[32m196057370.6667\u001b[0m  \u001b[35m172984691.2000\u001b[0m  0.0095\n",
      "Stopping since RMSE has not improved in the last 5 epochs.\n",
      "[CV 1/3] END batch_size=20, lr=0.001, max_epochs=100, module__activation=ReLU(), module__dropout_1=0, module__dropout_2=0.3, module__n_hidden_neurons_1=14, module__n_hidden_neurons_2=35, module__n_in_neurons=14, module__n_out_neurons=1; total time=   0.1s\n",
      "  epoch        RMSE      train_loss      valid_loss     dur\n",
      "-------  ----------  --------------  --------------  ------\n",
      "      1  \u001b[36m16916.5859\u001b[0m  \u001b[32m205235716.6667\u001b[0m  \u001b[35m286170841.6000\u001b[0m  0.0088\n",
      "      2  \u001b[36m16916.5586\u001b[0m  \u001b[32m205235152.6667\u001b[0m  \u001b[35m286169971.2000\u001b[0m  0.0083\n",
      "      3  \u001b[36m16916.5352\u001b[0m  \u001b[32m205234566.6667\u001b[0m  \u001b[35m286169152.0000\u001b[0m  0.0240\n",
      "      4  \u001b[36m16916.5078\u001b[0m  \u001b[32m205233983.3333\u001b[0m  \u001b[35m286168236.8000\u001b[0m  0.0088\n",
      "      5  \u001b[36m16916.4805\u001b[0m  \u001b[32m205232668.0000\u001b[0m  \u001b[35m286167283.2000\u001b[0m  0.0092\n",
      "Stopping since RMSE has not improved in the last 5 epochs.\n",
      "[CV 2/3] END batch_size=20, lr=0.001, max_epochs=100, module__activation=ReLU(), module__dropout_1=0, module__dropout_2=0.3, module__n_hidden_neurons_1=14, module__n_hidden_neurons_2=35, module__n_in_neurons=14, module__n_out_neurons=1; total time=   0.1s\n",
      "  epoch        RMSE      train_loss      valid_loss     dur\n",
      "-------  ----------  --------------  --------------  ------\n",
      "      1  \u001b[36m16916.4805\u001b[0m  \u001b[32m225571657.2371\u001b[0m  \u001b[35m286167283.2000\u001b[0m  0.0096\n",
      "      2  \u001b[36m16916.4434\u001b[0m  \u001b[32m225570478.1856\u001b[0m  \u001b[35m286166073.6000\u001b[0m  0.0085\n",
      "      3  \u001b[36m16916.4082\u001b[0m  \u001b[32m225569269.6082\u001b[0m  \u001b[35m286164870.4000\u001b[0m  0.0085\n",
      "      4  \u001b[36m16916.3750\u001b[0m  \u001b[32m225568148.7835\u001b[0m  \u001b[35m286163712.0000\u001b[0m  0.0096\n",
      "      5  \u001b[36m16916.3398\u001b[0m  \u001b[32m225567255.7526\u001b[0m  \u001b[35m286162528.0000\u001b[0m  0.0086\n",
      "Stopping since RMSE has not improved in the last 5 epochs.\n",
      "[CV 3/3] END batch_size=20, lr=0.001, max_epochs=100, module__activation=ReLU(), module__dropout_1=0, module__dropout_2=0.3, module__n_hidden_neurons_1=14, module__n_hidden_neurons_2=35, module__n_in_neurons=14, module__n_out_neurons=1; total time=   0.1s\n",
      "  epoch        RMSE      train_loss      valid_loss     dur\n",
      "-------  ----------  --------------  --------------  ------\n",
      "      1  \u001b[36m13152.2783\u001b[0m  \u001b[32m196064215.0000\u001b[0m  \u001b[35m172982432.0000\u001b[0m  0.0149\n",
      "      2  \u001b[36m13150.5195\u001b[0m  \u001b[32m196035226.5000\u001b[0m  \u001b[35m172936172.8000\u001b[0m  0.0150\n",
      "      3  \u001b[36m13144.7510\u001b[0m  \u001b[32m195937137.8333\u001b[0m  \u001b[35m172784467.2000\u001b[0m  0.0148\n",
      "      4  \u001b[36m13128.8613\u001b[0m  \u001b[32m195586718.7500\u001b[0m  \u001b[35m172366995.2000\u001b[0m  0.0143\n",
      "      5  \u001b[36m13093.7236\u001b[0m  \u001b[32m194757148.0000\u001b[0m  \u001b[35m171445600.0000\u001b[0m  0.0144\n",
      "      6  \u001b[36m13027.8369\u001b[0m  \u001b[32m193134747.6667\u001b[0m  \u001b[35m169724524.8000\u001b[0m  0.0153\n",
      "      7  \u001b[36m12916.7158\u001b[0m  \u001b[32m190281333.1667\u001b[0m  \u001b[35m166841523.2000\u001b[0m  0.0156\n",
      "      8  \u001b[36m12747.9941\u001b[0m  \u001b[32m186374245.5000\u001b[0m  \u001b[35m162511356.8000\u001b[0m  0.0151\n",
      "      9  \u001b[36m12509.5791\u001b[0m  \u001b[32m180053499.4167\u001b[0m  \u001b[35m156489552.0000\u001b[0m  0.0258\n",
      "     10  \u001b[36m12189.3184\u001b[0m  \u001b[32m170206068.4583\u001b[0m  \u001b[35m148579494.4000\u001b[0m  0.0145\n",
      "     11  \u001b[36m11781.0586\u001b[0m  \u001b[32m157355881.7083\u001b[0m  \u001b[35m138793353.6000\u001b[0m  0.0144\n",
      "     12  \u001b[36m11307.2324\u001b[0m  \u001b[32m144663104.2500\u001b[0m  \u001b[35m127853510.4000\u001b[0m  0.0172\n",
      "     13  \u001b[36m10808.4590\u001b[0m  \u001b[32m130199100.9583\u001b[0m  \u001b[35m116822777.6000\u001b[0m  0.0163\n",
      "     14  \u001b[36m10311.8301\u001b[0m  \u001b[32m113731644.2708\u001b[0m  \u001b[35m106333833.6000\u001b[0m  0.0272\n",
      "     15  \u001b[36m9861.0596\u001b[0m  \u001b[32m99518713.6667\u001b[0m  \u001b[35m97240502.4000\u001b[0m  0.0167\n",
      "     16  \u001b[36m9473.9141\u001b[0m  \u001b[32m89987258.2500\u001b[0m  \u001b[35m89755049.6000\u001b[0m  0.0145\n",
      "     17  \u001b[36m9159.4570\u001b[0m  \u001b[32m81548615.2083\u001b[0m  \u001b[35m83895641.6000\u001b[0m  0.0156\n",
      "     18  \u001b[36m8902.0771\u001b[0m  \u001b[32m67809569.4583\u001b[0m  \u001b[35m79246977.6000\u001b[0m  0.0150\n",
      "     19  \u001b[36m8694.7363\u001b[0m  \u001b[32m61638052.9583\u001b[0m  \u001b[35m75598456.0000\u001b[0m  0.0252\n",
      "     20  \u001b[36m8516.3574\u001b[0m  \u001b[32m56726524.7500\u001b[0m  \u001b[35m72528353.6000\u001b[0m  0.0142\n",
      "     21  \u001b[36m8351.6143\u001b[0m  58864506.1250  \u001b[35m69749460.8000\u001b[0m  0.0142\n",
      "     22  \u001b[36m8175.2295\u001b[0m  59498675.4167  \u001b[35m66834376.0000\u001b[0m  0.0145\n",
      "     23  \u001b[36m7986.9722\u001b[0m  59396565.7917  \u001b[35m63791731.2000\u001b[0m  0.0145\n",
      "     24  \u001b[36m7824.8755\u001b[0m  \u001b[32m43270502.5000\u001b[0m  \u001b[35m61228680.0000\u001b[0m  0.0262\n",
      "     25  \u001b[36m7686.9482\u001b[0m  43438270.5000  \u001b[35m59089180.8000\u001b[0m  0.0147\n",
      "     26  \u001b[36m7565.9629\u001b[0m  \u001b[32m39328755.4167\u001b[0m  \u001b[35m57243792.0000\u001b[0m  0.0146\n",
      "     27  \u001b[36m7450.4653\u001b[0m  46456307.5000  \u001b[35m55509440.0000\u001b[0m  0.0157\n",
      "     28  \u001b[36m7333.2061\u001b[0m  41794769.5833  \u001b[35m53775910.4000\u001b[0m  0.0150\n",
      "     29  \u001b[36m7216.1582\u001b[0m  41287985.6250  \u001b[35m52072936.8000\u001b[0m  0.0326\n",
      "     30  \u001b[36m7108.3574\u001b[0m  \u001b[32m37985679.2708\u001b[0m  \u001b[35m50528744.8000\u001b[0m  0.0154\n",
      "     31  \u001b[36m7002.5591\u001b[0m  40387783.7500  \u001b[35m49035834.4000\u001b[0m  0.0142\n",
      "     32  \u001b[36m6916.1431\u001b[0m  39662364.4167  \u001b[35m47833040.8000\u001b[0m  0.0150\n",
      "     33  \u001b[36m6828.2622\u001b[0m  44559934.9792  \u001b[35m46625165.6000\u001b[0m  0.0156\n",
      "     34  \u001b[36m6745.9990\u001b[0m  38379209.2917  \u001b[35m45508500.0000\u001b[0m  0.0302\n",
      "     35  \u001b[36m6655.0122\u001b[0m  \u001b[32m37888757.0833\u001b[0m  \u001b[35m44289188.0000\u001b[0m  0.0147\n",
      "     36  \u001b[36m6581.2168\u001b[0m  \u001b[32m36246332.5000\u001b[0m  \u001b[35m43312413.6000\u001b[0m  0.0148\n",
      "     37  \u001b[36m6504.6270\u001b[0m  \u001b[32m35254788.5000\u001b[0m  \u001b[35m42310169.6000\u001b[0m  0.0143\n",
      "     38  \u001b[36m6426.4663\u001b[0m  38924442.2917  \u001b[35m41299468.0000\u001b[0m  0.0146\n",
      "     39  \u001b[36m6347.4653\u001b[0m  38086865.1042  \u001b[35m40290316.8000\u001b[0m  0.0278\n",
      "     40  \u001b[36m6277.7090\u001b[0m  38552040.8750  \u001b[35m39409627.2000\u001b[0m  0.0140\n",
      "     41  \u001b[36m6213.8379\u001b[0m  \u001b[32m34681381.5417\u001b[0m  \u001b[35m38611776.0000\u001b[0m  0.0144\n",
      "     42  \u001b[36m6137.1733\u001b[0m  37466668.7083  \u001b[35m37664894.4000\u001b[0m  0.0145\n",
      "     43  \u001b[36m6075.0308\u001b[0m  38703411.2500  \u001b[35m36905992.0000\u001b[0m  0.0152\n",
      "     44  \u001b[36m6032.0928\u001b[0m  37561854.2500  \u001b[35m36386146.4000\u001b[0m  0.0268\n",
      "     45  \u001b[36m5982.1572\u001b[0m  39401817.7708  \u001b[35m35786204.8000\u001b[0m  0.0144\n",
      "     46  \u001b[36m5927.7168\u001b[0m  37104842.0208  \u001b[35m35137824.8000\u001b[0m  0.0146\n",
      "     47  \u001b[36m5858.6343\u001b[0m  37084472.3099  \u001b[35m34323596.0000\u001b[0m  0.0142\n",
      "     48  \u001b[36m5804.5322\u001b[0m  37245144.0208  \u001b[35m33692590.4000\u001b[0m  0.0148\n",
      "     49  \u001b[36m5760.3042\u001b[0m  \u001b[32m31006589.5521\u001b[0m  \u001b[35m33181102.4000\u001b[0m  0.0252\n",
      "     50  \u001b[36m5702.7847\u001b[0m  36493837.0000  \u001b[35m32521748.8000\u001b[0m  0.0147\n",
      "     51  \u001b[36m5659.6270\u001b[0m  \u001b[32m29502817.6667\u001b[0m  \u001b[35m32031379.2000\u001b[0m  0.0150\n",
      "     52  \u001b[36m5638.1533\u001b[0m  38852566.1667  \u001b[35m31788771.2000\u001b[0m  0.0149\n",
      "     53  \u001b[36m5604.4888\u001b[0m  \u001b[32m27079407.1146\u001b[0m  \u001b[35m31410292.8000\u001b[0m  0.0144\n",
      "     54  \u001b[36m5551.8535\u001b[0m  33543048.2865  \u001b[35m30823084.0000\u001b[0m  0.0148\n",
      "     55  \u001b[36m5475.4727\u001b[0m  35745983.9583  \u001b[35m29980802.4000\u001b[0m  0.0254\n",
      "     56  \u001b[36m5405.6543\u001b[0m  27774101.5729  \u001b[35m29221096.0000\u001b[0m  0.0149\n",
      "     57  \u001b[36m5368.9053\u001b[0m  29197098.6458  \u001b[35m28825141.6000\u001b[0m  0.0145\n",
      "     58  \u001b[36m5348.4595\u001b[0m  \u001b[32m23488780.1875\u001b[0m  \u001b[35m28606020.8000\u001b[0m  0.0153\n",
      "     59  \u001b[36m5319.3916\u001b[0m  30929882.4583  \u001b[35m28295928.4000\u001b[0m  0.0150\n",
      "     60  \u001b[36m5280.1851\u001b[0m  27875566.6667  \u001b[35m27880356.0000\u001b[0m  0.0250\n",
      "     61  \u001b[36m5252.2363\u001b[0m  28076910.3646  \u001b[35m27585984.4000\u001b[0m  0.0141\n",
      "     62  \u001b[36m5238.5557\u001b[0m  31543006.3385  \u001b[35m27442468.0000\u001b[0m  0.0145\n",
      "     63  \u001b[36m5218.4819\u001b[0m  33080917.1979  \u001b[35m27232552.0000\u001b[0m  0.0151\n",
      "     64  \u001b[36m5174.3413\u001b[0m  27175161.3073  \u001b[35m26773805.2000\u001b[0m  0.0143\n",
      "     65  \u001b[36m5135.2471\u001b[0m  28239795.6771  \u001b[35m26370766.8000\u001b[0m  0.0328\n",
      "     66  \u001b[36m5130.0908\u001b[0m  29962653.3958  \u001b[35m26317828.4000\u001b[0m  0.0167\n",
      "     67  5137.7568  30951710.4896  26396548.0000  0.0151\n",
      "     68  5132.5093  32544574.3646  26342654.0000  0.0161\n",
      "     69  \u001b[36m5105.2197\u001b[0m  34311042.6667  \u001b[35m26063270.8000\u001b[0m  0.0145\n",
      "     70  \u001b[36m5062.1987\u001b[0m  35690540.4427  \u001b[35m25625855.6000\u001b[0m  0.0144\n",
      "     71  \u001b[36m5007.7324\u001b[0m  24366798.4271  \u001b[35m25077385.6000\u001b[0m  0.0145\n",
      "     72  \u001b[36m4968.1519\u001b[0m  31581818.3021  \u001b[35m24682531.6000\u001b[0m  0.0146\n",
      "     73  \u001b[36m4939.9756\u001b[0m  29680338.6250  \u001b[35m24403358.8000\u001b[0m  0.0140\n",
      "     74  4949.8716  28475315.9375  24501230.8000  0.0141\n",
      "     75  \u001b[36m4924.1206\u001b[0m  26258449.0417  \u001b[35m24246959.6000\u001b[0m  0.0143\n",
      "     76  \u001b[36m4897.4497\u001b[0m  31157732.8385  \u001b[35m23985013.6000\u001b[0m  0.0295\n",
      "     77  \u001b[36m4884.0571\u001b[0m  28302833.6510  \u001b[35m23854015.6000\u001b[0m  0.0142\n",
      "     78  \u001b[36m4865.5366\u001b[0m  25633729.5990  \u001b[35m23673445.2000\u001b[0m  0.0143\n",
      "     79  \u001b[36m4849.8555\u001b[0m  30233766.9688  \u001b[35m23521097.2000\u001b[0m  0.0146\n",
      "     80  4857.9707  32773977.3542  23599877.2000  0.0154\n",
      "     81  4884.6694  32301713.2865  23859994.4000  0.0257\n",
      "     82  4881.9453  33529191.8542  23833393.6000  0.0152\n",
      "     83  4871.3555  24831866.8906  23730106.8000  0.0141\n",
      "     84  \u001b[36m4840.8247\u001b[0m  25866889.2812  \u001b[35m23433581.6000\u001b[0m  0.0143\n",
      "     85  \u001b[36m4834.3506\u001b[0m  24057452.8008  \u001b[35m23370950.4000\u001b[0m  0.0148\n",
      "     86  \u001b[36m4796.7637\u001b[0m  29958016.0156  \u001b[35m23008942.8000\u001b[0m  0.0254\n",
      "     87  \u001b[36m4768.3013\u001b[0m  24220349.8125  \u001b[35m22736696.0000\u001b[0m  0.0146\n",
      "     88  4775.8286  25218589.2839  22808537.6000  0.0146\n",
      "     89  4798.3208  \u001b[32m23012111.6354\u001b[0m  23023882.4000  0.0144\n",
      "     90  4786.2544  28947945.2812  22908230.0000  0.0144\n",
      "     91  4774.8291  23628625.0417  22798990.4000  0.0145\n",
      "     92  \u001b[36m4761.1904\u001b[0m  25382212.4323  \u001b[35m22668932.0000\u001b[0m  0.0259\n",
      "     93  \u001b[36m4748.6851\u001b[0m  28799716.0703  \u001b[35m22550011.6000\u001b[0m  0.0154\n",
      "     94  \u001b[36m4723.7227\u001b[0m  \u001b[32m19813414.1562\u001b[0m  \u001b[35m22313554.0000\u001b[0m  0.0149\n",
      "     95  \u001b[36m4719.4707\u001b[0m  25440559.6771  \u001b[35m22273404.8000\u001b[0m  0.0142\n",
      "     96  4725.7969  26121499.4479  22333154.8000  0.0143\n",
      "     97  \u001b[36m4719.3267\u001b[0m  25501595.1146  \u001b[35m22272042.0000\u001b[0m  0.0214\n",
      "     98  \u001b[36m4687.8208\u001b[0m  24965386.2604  \u001b[35m21975662.8000\u001b[0m  0.0175\n",
      "     99  \u001b[36m4685.5522\u001b[0m  25915234.7240  \u001b[35m21954400.4000\u001b[0m  0.0152\n",
      "    100  \u001b[36m4676.7100\u001b[0m  24813999.9635  \u001b[35m21871618.0000\u001b[0m  0.0144\n",
      "    101  4691.0352  25209145.4844  22005809.2000  0.0147\n",
      "    102  4686.8809  21998511.6823  21966854.0000  0.0253\n",
      "    103  \u001b[36m4656.3906\u001b[0m  26654404.8125  \u001b[35m21681969.2000\u001b[0m  0.0152\n",
      "    104  4672.2231  26505086.6146  21829668.0000  0.0146\n",
      "    105  4687.9746  \u001b[32m19629255.0938\u001b[0m  21977109.6000  0.0149\n",
      "    106  \u001b[36m4646.6113\u001b[0m  26084993.6771  \u001b[35m21590995.2000\u001b[0m  0.0146\n",
      "    107  \u001b[36m4607.3789\u001b[0m  26228483.1146  \u001b[35m21227942.0000\u001b[0m  0.0144\n",
      "    108  \u001b[36m4562.3057\u001b[0m  28618839.0833  \u001b[35m20814631.2000\u001b[0m  0.0281\n",
      "    109  \u001b[36m4546.2041\u001b[0m  22655254.7760  \u001b[35m20667973.2000\u001b[0m  0.0154\n",
      "    110  4567.8779  26912238.6979  20865511.2000  0.0155\n",
      "    111  4559.2202  28258460.8646  20786489.2000  0.0149\n",
      "    112  4562.8984  20868248.9740  20820044.4000  0.0146\n",
      "    113  4558.7241  34898223.6771  20781966.4000  0.0260\n",
      "Stopping since RMSE has not improved in the last 5 epochs.\n",
      "[CV 1/3] END batch_size=10, lr=0.01, max_epochs=9000, module__activation=ReLU(), module__dropout_1=0, module__dropout_2=0.3, module__n_hidden_neurons_1=14, module__n_hidden_neurons_2=35, module__n_in_neurons=14, module__n_out_neurons=1; total time=   2.2s\n",
      "  epoch        RMSE      train_loss      valid_loss     dur\n",
      "-------  ----------  --------------  --------------  ------\n",
      "      1  \u001b[36m16915.8164\u001b[0m  \u001b[32m205226266.8333\u001b[0m  \u001b[35m286144864.0000\u001b[0m  0.0161\n",
      "      2  \u001b[36m16913.6699\u001b[0m  \u001b[32m205195428.8333\u001b[0m  \u001b[35m286072281.6000\u001b[0m  0.0146\n",
      "      3  \u001b[36m16906.6797\u001b[0m  \u001b[32m205089170.2500\u001b[0m  \u001b[35m285835846.4000\u001b[0m  0.0141\n",
      "      4  \u001b[36m16887.4727\u001b[0m  \u001b[32m204769332.1667\u001b[0m  \u001b[35m285186707.2000\u001b[0m  0.0253\n",
      "      5  \u001b[36m16842.6367\u001b[0m  \u001b[32m203979650.1667\u001b[0m  \u001b[35m283674451.2000\u001b[0m  0.0145\n",
      "      6  \u001b[36m16753.0469\u001b[0m  \u001b[32m202226588.6667\u001b[0m  \u001b[35m280664576.0000\u001b[0m  0.0143\n",
      "      7  \u001b[36m16592.1855\u001b[0m  \u001b[32m199109621.5000\u001b[0m  \u001b[35m275300636.8000\u001b[0m  0.0149\n",
      "      8  \u001b[36m16331.8994\u001b[0m  \u001b[32m194000099.6667\u001b[0m  \u001b[35m266730928.0000\u001b[0m  0.0147\n",
      "      9  \u001b[36m15943.9775\u001b[0m  \u001b[32m185874104.2500\u001b[0m  \u001b[35m254210403.2000\u001b[0m  0.0250\n",
      "     10  \u001b[36m15402.8271\u001b[0m  \u001b[32m174916282.9167\u001b[0m  \u001b[35m237247088.0000\u001b[0m  0.0146\n",
      "     11  \u001b[36m14697.9365\u001b[0m  \u001b[32m161048622.2500\u001b[0m  \u001b[35m216029350.4000\u001b[0m  0.0147\n",
      "     12  \u001b[36m13825.8145\u001b[0m  \u001b[32m143481380.7083\u001b[0m  \u001b[35m191153120.0000\u001b[0m  0.0147\n",
      "     13  \u001b[36m12832.2041\u001b[0m  \u001b[32m126092414.4375\u001b[0m  \u001b[35m164665475.2000\u001b[0m  0.0149\n",
      "     14  \u001b[36m11767.5703\u001b[0m  \u001b[32m107671472.0000\u001b[0m  \u001b[35m138475729.6000\u001b[0m  0.0300\n",
      "     15  \u001b[36m10695.1221\u001b[0m  \u001b[32m91551105.9375\u001b[0m  \u001b[35m114385640.0000\u001b[0m  0.0151\n",
      "     16  \u001b[36m9699.9922\u001b[0m  \u001b[32m74570478.5208\u001b[0m  \u001b[35m94089842.4000\u001b[0m  0.0143\n",
      "     17  \u001b[36m8857.7285\u001b[0m  \u001b[32m61456377.2500\u001b[0m  \u001b[35m78459351.2000\u001b[0m  0.0139\n",
      "     18  \u001b[36m8247.9717\u001b[0m  62520412.4167  \u001b[35m68029034.4000\u001b[0m  0.0148\n",
      "     19  \u001b[36m7839.5640\u001b[0m  \u001b[32m44584588.8750\u001b[0m  \u001b[35m61458757.6000\u001b[0m  0.0141\n",
      "     20  \u001b[36m7578.9004\u001b[0m  50021604.8750  \u001b[35m57439725.6000\u001b[0m  0.0145\n",
      "     21  \u001b[36m7394.4541\u001b[0m  \u001b[32m43320067.5833\u001b[0m  \u001b[35m54677950.4000\u001b[0m  0.0144\n",
      "     22  \u001b[36m7245.5874\u001b[0m  \u001b[32m42711466.8125\u001b[0m  \u001b[35m52498536.0000\u001b[0m  0.0140\n",
      "     23  \u001b[36m7132.9849\u001b[0m  43724625.8958  \u001b[35m50879467.2000\u001b[0m  0.0214\n",
      "     24  \u001b[36m7048.6489\u001b[0m  \u001b[32m39998271.1667\u001b[0m  \u001b[35m49683448.8000\u001b[0m  0.0158\n",
      "     25  \u001b[36m6982.6431\u001b[0m  41408154.3958  \u001b[35m48757305.6000\u001b[0m  0.0150\n",
      "     26  \u001b[36m6919.2490\u001b[0m  \u001b[32m35486052.3333\u001b[0m  \u001b[35m47876012.0000\u001b[0m  0.0145\n",
      "     27  \u001b[36m6865.5308\u001b[0m  39056263.4167  \u001b[35m47135509.6000\u001b[0m  0.0148\n",
      "     28  \u001b[36m6806.7544\u001b[0m  \u001b[32m32568926.3542\u001b[0m  \u001b[35m46331904.8000\u001b[0m  0.0144\n",
      "     29  \u001b[36m6739.7720\u001b[0m  33469365.2500  \u001b[35m45424529.6000\u001b[0m  0.0146\n",
      "     30  \u001b[36m6690.6504\u001b[0m  42359464.4062  \u001b[35m44764796.8000\u001b[0m  0.0252\n",
      "     31  \u001b[36m6640.6060\u001b[0m  40286514.7188  \u001b[35m44097645.6000\u001b[0m  0.0143\n",
      "     32  \u001b[36m6605.4609\u001b[0m  39147569.5312  \u001b[35m43632113.6000\u001b[0m  0.0143\n",
      "     33  \u001b[36m6568.5244\u001b[0m  34390303.8438  \u001b[35m43145514.4000\u001b[0m  0.0141\n",
      "     34  \u001b[36m6539.1685\u001b[0m  33996336.7500  \u001b[35m42760723.2000\u001b[0m  0.0144\n",
      "     35  \u001b[36m6512.2651\u001b[0m  37184061.9167  \u001b[35m42409597.6000\u001b[0m  0.0253\n",
      "     36  \u001b[36m6479.7544\u001b[0m  \u001b[32m31809368.3333\u001b[0m  \u001b[35m41987218.4000\u001b[0m  0.0143\n",
      "     37  \u001b[36m6433.0679\u001b[0m  \u001b[32m28940331.2708\u001b[0m  \u001b[35m41384360.0000\u001b[0m  0.0147\n",
      "     38  \u001b[36m6401.6763\u001b[0m  33275864.8750  \u001b[35m40981461.2000\u001b[0m  0.0158\n",
      "     39  \u001b[36m6369.0508\u001b[0m  35664445.7292  \u001b[35m40564808.4000\u001b[0m  0.0150\n",
      "     40  \u001b[36m6325.9233\u001b[0m  \u001b[32m28393041.5000\u001b[0m  \u001b[35m40017310.4000\u001b[0m  0.0301\n",
      "     41  \u001b[36m6284.1953\u001b[0m  \u001b[32m27515392.5625\u001b[0m  \u001b[35m39491104.8000\u001b[0m  0.0149\n",
      "     42  \u001b[36m6249.5713\u001b[0m  27835311.8542  \u001b[35m39057141.6000\u001b[0m  0.0146\n",
      "     43  \u001b[36m6226.4229\u001b[0m  31740873.4167  \u001b[35m38768340.4000\u001b[0m  0.0146\n",
      "     44  \u001b[36m6189.1157\u001b[0m  29529843.6875  \u001b[35m38305152.0000\u001b[0m  0.0140\n",
      "     45  \u001b[36m6157.6338\u001b[0m  30042677.6458  \u001b[35m37916450.4000\u001b[0m  0.0147\n",
      "     46  \u001b[36m6140.5581\u001b[0m  \u001b[32m27002269.2604\u001b[0m  \u001b[35m37706457.2000\u001b[0m  0.0150\n",
      "     47  \u001b[36m6123.4336\u001b[0m  \u001b[32m26706316.4375\u001b[0m  \u001b[35m37496442.0000\u001b[0m  0.0142\n",
      "     48  \u001b[36m6095.5420\u001b[0m  \u001b[32m25746611.7917\u001b[0m  \u001b[35m37155635.2000\u001b[0m  0.0144\n",
      "     49  \u001b[36m6069.7847\u001b[0m  \u001b[32m24788204.8542\u001b[0m  \u001b[35m36842286.0000\u001b[0m  0.0193\n",
      "     50  \u001b[36m6056.0381\u001b[0m  27251617.8958  \u001b[35m36675597.6000\u001b[0m  0.0143\n",
      "     51  \u001b[36m6046.3257\u001b[0m  32263060.7292  \u001b[35m36558058.4000\u001b[0m  0.0252\n",
      "     52  \u001b[36m6019.3599\u001b[0m  31801395.1458  \u001b[35m36232691.2000\u001b[0m  0.0144\n",
      "     53  \u001b[36m5977.4673\u001b[0m  \u001b[32m24399764.1562\u001b[0m  \u001b[35m35730111.6000\u001b[0m  0.0147\n",
      "     54  \u001b[36m5949.9761\u001b[0m  30289990.2292  \u001b[35m35402212.8000\u001b[0m  0.0148\n",
      "     55  \u001b[36m5941.4727\u001b[0m  \u001b[32m21660199.3646\u001b[0m  \u001b[35m35301096.4000\u001b[0m  0.0151\n",
      "     56  \u001b[36m5917.4858\u001b[0m  24180460.0312  \u001b[35m35016639.2000\u001b[0m  0.0263\n",
      "     57  \u001b[36m5890.5098\u001b[0m  23973471.2604  \u001b[35m34698107.2000\u001b[0m  0.0157\n",
      "     58  \u001b[36m5880.3042\u001b[0m  26050143.7083  \u001b[35m34577980.4000\u001b[0m  0.0142\n",
      "     59  5883.8428  33737180.3646  34619607.2000  0.0146\n",
      "     60  \u001b[36m5877.4834\u001b[0m  23905332.9583  \u001b[35m34544809.6000\u001b[0m  0.0145\n",
      "     61  \u001b[36m5860.2397\u001b[0m  25507417.6771  \u001b[35m34342413.2000\u001b[0m  0.0276\n",
      "     62  \u001b[36m5824.2749\u001b[0m  \u001b[32m18021633.5000\u001b[0m  \u001b[35m33922174.8000\u001b[0m  0.0150\n",
      "     63  \u001b[36m5805.1265\u001b[0m  23238386.6667  \u001b[35m33699496.8000\u001b[0m  0.0147\n",
      "     64  \u001b[36m5794.0327\u001b[0m  22084410.8542  \u001b[35m33570815.2000\u001b[0m  0.0147\n",
      "     65  \u001b[36m5771.9077\u001b[0m  20708261.2292  \u001b[35m33314915.6000\u001b[0m  0.0147\n",
      "     66  \u001b[36m5749.7939\u001b[0m  25363231.5521  \u001b[35m33060131.6000\u001b[0m  0.0300\n",
      "     67  \u001b[36m5729.2158\u001b[0m  24733855.8333  \u001b[35m32823915.2000\u001b[0m  0.0152\n",
      "     68  5732.5620  22439412.6042  32862268.4000  0.0148\n",
      "     69  5732.5557  21010253.5625  32862194.4000  0.0146\n",
      "     70  \u001b[36m5720.2363\u001b[0m  19268517.4375  \u001b[35m32721106.4000\u001b[0m  0.0147\n",
      "     71  \u001b[36m5708.1626\u001b[0m  20231374.2917  \u001b[35m32583118.4000\u001b[0m  0.0299\n",
      "     72  \u001b[36m5695.8936\u001b[0m  22571993.6979  \u001b[35m32443204.0000\u001b[0m  0.0145\n",
      "     73  \u001b[36m5681.2358\u001b[0m  24583453.6354  \u001b[35m32276437.6000\u001b[0m  0.0145\n",
      "     74  \u001b[36m5675.8306\u001b[0m  23272063.5417  \u001b[35m32215049.6000\u001b[0m  0.0144\n",
      "     75  5685.3281  26409329.9688  32322960.0000  0.0149\n",
      "     76  \u001b[36m5675.8169\u001b[0m  20144122.1146  \u001b[35m32214897.2000\u001b[0m  0.0153\n",
      "     77  5688.0361  24395121.3698  32353754.4000  0.0152\n",
      "     78  5683.5967  27671967.8125  32303270.0000  0.0149\n",
      "Stopping since RMSE has not improved in the last 5 epochs.\n",
      "[CV 2/3] END batch_size=10, lr=0.01, max_epochs=9000, module__activation=ReLU(), module__dropout_1=0, module__dropout_2=0.3, module__n_hidden_neurons_1=14, module__n_hidden_neurons_2=35, module__n_in_neurons=14, module__n_out_neurons=1; total time=   1.5s\n",
      "  epoch        RMSE      train_loss      valid_loss     dur\n",
      "-------  ----------  --------------  --------------  ------\n",
      "      1  \u001b[36m16915.3066\u001b[0m  \u001b[32m225563580.2062\u001b[0m  \u001b[35m286127609.6000\u001b[0m  0.0141\n",
      "      2  \u001b[36m16910.8730\u001b[0m  \u001b[32m225507688.7423\u001b[0m  \u001b[35m285977600.0000\u001b[0m  0.0310\n",
      "      3  \u001b[36m16897.6484\u001b[0m  \u001b[32m225313571.7938\u001b[0m  \u001b[35m285530534.4000\u001b[0m  0.0150\n",
      "      4  \u001b[36m16865.6738\u001b[0m  \u001b[32m224834470.7629\u001b[0m  \u001b[35m284450937.6000\u001b[0m  0.0152\n",
      "      5  \u001b[36m16799.0176\u001b[0m  \u001b[32m223714336.3299\u001b[0m  \u001b[35m282206995.2000\u001b[0m  0.0147\n",
      "      6  \u001b[36m16677.1621\u001b[0m  \u001b[32m221639180.5361\u001b[0m  \u001b[35m278127728.0000\u001b[0m  0.0147\n",
      "      7  \u001b[36m16473.6816\u001b[0m  \u001b[32m217676006.1031\u001b[0m  \u001b[35m271382150.4000\u001b[0m  0.0304\n",
      "      8  \u001b[36m16157.8467\u001b[0m  \u001b[32m210939798.7629\u001b[0m  \u001b[35m261075984.0000\u001b[0m  0.0149\n",
      "      9  \u001b[36m15711.8350\u001b[0m  \u001b[32m203028086.4330\u001b[0m  \u001b[35m246861756.8000\u001b[0m  0.0150\n",
      "     10  \u001b[36m15121.1826\u001b[0m  \u001b[32m191734730.2268\u001b[0m  \u001b[35m228650172.8000\u001b[0m  0.0141\n",
      "     11  \u001b[36m14382.3193\u001b[0m  \u001b[32m176978847.3402\u001b[0m  \u001b[35m206851116.8000\u001b[0m  0.0143\n",
      "     12  \u001b[36m13483.7305\u001b[0m  \u001b[32m158924344.5773\u001b[0m  \u001b[35m181811011.2000\u001b[0m  0.0313\n",
      "     13  \u001b[36m12471.0400\u001b[0m  \u001b[32m142223128.2474\u001b[0m  \u001b[35m155526849.6000\u001b[0m  0.0173\n",
      "     14  \u001b[36m11427.1172\u001b[0m  \u001b[32m126833419.2990\u001b[0m  \u001b[35m130579028.8000\u001b[0m  0.0184\n",
      "     15  \u001b[36m10408.8789\u001b[0m  \u001b[32m111161694.5155\u001b[0m  \u001b[35m108344772.8000\u001b[0m  0.0150\n",
      "     16  \u001b[36m9501.6299\u001b[0m  \u001b[32m91641453.9381\u001b[0m  \u001b[35m90280960.8000\u001b[0m  0.0146\n",
      "     17  \u001b[36m8729.5117\u001b[0m  \u001b[32m80810801.4845\u001b[0m  \u001b[35m76204362.4000\u001b[0m  0.0253\n",
      "     18  \u001b[36m8152.2036\u001b[0m  \u001b[32m67133959.0515\u001b[0m  \u001b[35m66458425.6000\u001b[0m  0.0146\n",
      "     19  \u001b[36m7774.2256\u001b[0m  \u001b[32m66429256.5773\u001b[0m  \u001b[35m60438582.4000\u001b[0m  0.0139\n",
      "     20  \u001b[36m7575.1079\u001b[0m  68404472.5361  \u001b[35m57382260.8000\u001b[0m  0.0139\n",
      "     21  \u001b[36m7423.0435\u001b[0m  \u001b[32m58826848.5979\u001b[0m  \u001b[35m55101572.8000\u001b[0m  0.0139\n",
      "     22  \u001b[36m7295.5728\u001b[0m  61675034.1443  \u001b[35m53225392.0000\u001b[0m  0.0249\n",
      "     23  \u001b[36m7214.7427\u001b[0m  \u001b[32m50870957.2784\u001b[0m  \u001b[35m52052510.4000\u001b[0m  0.0145\n",
      "     24  \u001b[36m7137.3262\u001b[0m  \u001b[32m48034506.1649\u001b[0m  \u001b[35m50941419.2000\u001b[0m  0.0164\n",
      "     25  \u001b[36m7061.8091\u001b[0m  49812948.3093  \u001b[35m49869144.0000\u001b[0m  0.0140\n",
      "     26  \u001b[36m6998.5308\u001b[0m  48128999.0515  \u001b[35m48979428.0000\u001b[0m  0.0150\n",
      "     27  \u001b[36m6936.6494\u001b[0m  \u001b[32m42459591.8351\u001b[0m  \u001b[35m48117111.6000\u001b[0m  0.0145\n",
      "     28  \u001b[36m6861.5459\u001b[0m  45185853.7938  \u001b[35m47080810.8000\u001b[0m  0.0138\n",
      "     29  \u001b[36m6812.6777\u001b[0m  45125733.4021  \u001b[35m46412578.0000\u001b[0m  0.0187\n",
      "     30  \u001b[36m6768.0947\u001b[0m  50706792.4536  \u001b[35m45807109.6000\u001b[0m  0.0196\n",
      "     31  \u001b[36m6705.5713\u001b[0m  \u001b[32m39342066.1649\u001b[0m  \u001b[35m44964680.8000\u001b[0m  0.0178\n",
      "     32  \u001b[36m6680.4126\u001b[0m  40438872.3196  \u001b[35m44627908.8000\u001b[0m  0.0236\n",
      "     33  \u001b[36m6647.2046\u001b[0m  \u001b[32m37376643.1959\u001b[0m  \u001b[35m44185331.2000\u001b[0m  0.0194\n",
      "     34  \u001b[36m6602.1445\u001b[0m  42470688.2268  \u001b[35m43588311.2000\u001b[0m  0.0206\n",
      "     35  \u001b[36m6548.6377\u001b[0m  39820377.3196  \u001b[35m42884656.4000\u001b[0m  0.0188\n",
      "     36  \u001b[36m6517.5103\u001b[0m  \u001b[32m36456115.6598\u001b[0m  \u001b[35m42477941.6000\u001b[0m  0.0357\n",
      "     37  \u001b[36m6482.3223\u001b[0m  \u001b[32m34337958.9072\u001b[0m  \u001b[35m42020506.0000\u001b[0m  0.0188\n",
      "     38  \u001b[36m6433.7275\u001b[0m  40783086.6804  \u001b[35m41392850.4000\u001b[0m  0.0183\n",
      "     39  \u001b[36m6369.5913\u001b[0m  37948054.0206  \u001b[35m40571697.6000\u001b[0m  0.0189\n",
      "     40  \u001b[36m6315.1328\u001b[0m  37692136.1134  \u001b[35m39880899.6000\u001b[0m  0.0248\n",
      "     41  \u001b[36m6270.4785\u001b[0m  36713092.8041  \u001b[35m39318903.6000\u001b[0m  0.0216\n",
      "     42  \u001b[36m6236.1123\u001b[0m  36358880.1753  \u001b[35m38889095.2000\u001b[0m  0.0212\n",
      "     43  \u001b[36m6221.8774\u001b[0m  34554835.1753  \u001b[35m38711760.0000\u001b[0m  0.0176\n",
      "     44  \u001b[36m6205.8813\u001b[0m  \u001b[32m30013647.5619\u001b[0m  \u001b[35m38512962.0000\u001b[0m  0.0263\n",
      "     45  \u001b[36m6159.4868\u001b[0m  34279857.0412  \u001b[35m37939280.8000\u001b[0m  0.0145\n",
      "     46  \u001b[36m6130.4038\u001b[0m  32527749.1753  \u001b[35m37581851.2000\u001b[0m  0.0146\n",
      "     47  \u001b[36m6099.7329\u001b[0m  32143257.5464  \u001b[35m37206747.6000\u001b[0m  0.0141\n",
      "     48  \u001b[36m6068.1611\u001b[0m  37360055.4459  \u001b[35m36822579.6000\u001b[0m  0.0138\n",
      "     49  \u001b[36m6040.4614\u001b[0m  35503706.8041  \u001b[35m36487178.8000\u001b[0m  0.0141\n",
      "     50  \u001b[36m5996.4028\u001b[0m  33407757.4433  \u001b[35m35956848.4000\u001b[0m  0.0247\n",
      "     51  \u001b[36m5944.4941\u001b[0m  31207056.6546  \u001b[35m35337013.6000\u001b[0m  0.0144\n",
      "     52  5961.0620  32421251.0876  35534261.6000  0.0143\n",
      "     53  5987.5005  32427208.5361  35850164.8000  0.0140\n",
      "     54  5977.8428  \u001b[32m22144341.0670\u001b[0m  35734603.6000  0.0138\n",
      "     55  5962.0210  35117746.2577  35545694.8000  0.0346\n",
      "     56  \u001b[36m5929.5962\u001b[0m  24395254.3299  \u001b[35m35160111.2000\u001b[0m  0.0158\n",
      "     57  5944.5298  29504984.0412  35337433.6000  0.0148\n",
      "     58  5962.5142  29866011.8119  35551577.6000  0.0152\n",
      "     59  5940.5103  29333285.9794  35289660.8000  0.0143\n",
      "     60  \u001b[36m5905.8765\u001b[0m  26825097.5309  \u001b[35m34879379.2000\u001b[0m  0.0274\n",
      "     61  \u001b[36m5902.1875\u001b[0m  30927122.9485  \u001b[35m34835816.4000\u001b[0m  0.0147\n",
      "     62  \u001b[36m5894.1665\u001b[0m  23212991.8866  \u001b[35m34741200.4000\u001b[0m  0.0145\n",
      "     63  \u001b[36m5885.0562\u001b[0m  26655615.5361  \u001b[35m34633886.4000\u001b[0m  0.0140\n",
      "     64  5894.5142  26561358.6701  34745299.2000  0.0144\n",
      "     65  \u001b[36m5879.7017\u001b[0m  27224269.1753  \u001b[35m34570888.8000\u001b[0m  0.0258\n",
      "     66  5889.0518  31897366.0722  34680933.2000  0.0153\n",
      "     67  5905.6636  31244846.2577  34876862.4000  0.0146\n",
      "     68  \u001b[36m5863.0591\u001b[0m  27262129.1314  \u001b[35m34375465.6000\u001b[0m  0.0149\n",
      "     69  5872.9438  27597663.0773  34491470.4000  0.0150\n",
      "     70  5901.7744  29152931.5052  34830939.2000  0.0147\n",
      "     71  5931.9482  24260473.8763  35188008.4000  0.0144\n",
      "     72  5951.7285  27631319.6082  35423071.2000  0.0151\n",
      "Stopping since RMSE has not improved in the last 5 epochs.\n",
      "[CV 3/3] END batch_size=10, lr=0.01, max_epochs=9000, module__activation=ReLU(), module__dropout_1=0, module__dropout_2=0.3, module__n_hidden_neurons_1=14, module__n_hidden_neurons_2=35, module__n_in_neurons=14, module__n_out_neurons=1; total time=   1.5s\n",
      "  epoch        RMSE      train_loss      valid_loss     dur\n",
      "-------  ----------  --------------  --------------  ------\n",
      "      1  \u001b[36m13152.8291\u001b[0m  \u001b[32m196071048.0000\u001b[0m  \u001b[35m172996896.0000\u001b[0m  0.0057\n",
      "      2  \u001b[36m13152.8105\u001b[0m  \u001b[32m196070701.3333\u001b[0m  \u001b[35m172996416.0000\u001b[0m  0.0070\n",
      "      3  \u001b[36m13152.7930\u001b[0m  \u001b[32m196069897.3333\u001b[0m  \u001b[35m172995952.0000\u001b[0m  0.0070\n",
      "      4  \u001b[36m13152.7754\u001b[0m  \u001b[32m196069757.3333\u001b[0m  \u001b[35m172995488.0000\u001b[0m  0.0065\n",
      "      5  \u001b[36m13152.7568\u001b[0m  \u001b[32m196068541.3333\u001b[0m  \u001b[35m172995008.0000\u001b[0m  0.0065\n",
      "Stopping since RMSE has not improved in the last 5 epochs.\n",
      "[CV 1/3] END batch_size=40, lr=0.001, max_epochs=9000, module__activation=ReLU(), module__dropout_1=0, module__dropout_2=0.3, module__n_hidden_neurons_1=14, module__n_hidden_neurons_2=35, module__n_in_neurons=14, module__n_out_neurons=1; total time=   0.2s\n",
      "  epoch        RMSE      train_loss      valid_loss     dur\n",
      "-------  ----------  --------------  --------------  ------\n",
      "      1  \u001b[36m16916.6074\u001b[0m  \u001b[32m205236741.3333\u001b[0m  \u001b[35m286171584.0000\u001b[0m  0.0059\n",
      "      2  \u001b[36m16916.5859\u001b[0m  \u001b[32m205236045.3333\u001b[0m  \u001b[35m286170848.0000\u001b[0m  0.0072\n",
      "      3  \u001b[36m16916.5664\u001b[0m  \u001b[32m205235452.0000\u001b[0m  \u001b[35m286170208.0000\u001b[0m  0.0068\n",
      "      4  \u001b[36m16916.5449\u001b[0m  \u001b[32m205234905.3333\u001b[0m  \u001b[35m286169536.0000\u001b[0m  0.0066\n",
      "      5  \u001b[36m16916.5254\u001b[0m  \u001b[32m205234756.0000\u001b[0m  \u001b[35m286168864.0000\u001b[0m  0.0074\n",
      "Stopping since RMSE has not improved in the last 5 epochs.\n",
      "[CV 2/3] END batch_size=40, lr=0.001, max_epochs=9000, module__activation=ReLU(), module__dropout_1=0, module__dropout_2=0.3, module__n_hidden_neurons_1=14, module__n_hidden_neurons_2=35, module__n_in_neurons=14, module__n_out_neurons=1; total time=   0.1s\n",
      "  epoch        RMSE      train_loss      valid_loss     dur\n",
      "-------  ----------  --------------  --------------  ------\n",
      "      1  \u001b[36m16916.5020\u001b[0m  \u001b[32m225572927.3402\u001b[0m  \u001b[35m286168096.0000\u001b[0m  0.0068\n",
      "      2  \u001b[36m16916.4766\u001b[0m  \u001b[32m225572002.3093\u001b[0m  \u001b[35m286167168.0000\u001b[0m  0.0062\n",
      "      3  \u001b[36m16916.4512\u001b[0m  \u001b[32m225571826.8041\u001b[0m  \u001b[35m286166304.0000\u001b[0m  0.0066\n",
      "      4  \u001b[36m16916.4238\u001b[0m  \u001b[32m225570946.9691\u001b[0m  \u001b[35m286165376.0000\u001b[0m  0.0060\n",
      "      5  \u001b[36m16916.3965\u001b[0m  \u001b[32m225570153.8969\u001b[0m  \u001b[35m286164416.0000\u001b[0m  0.0064\n",
      "Stopping since RMSE has not improved in the last 5 epochs.\n",
      "[CV 3/3] END batch_size=40, lr=0.001, max_epochs=9000, module__activation=ReLU(), module__dropout_1=0, module__dropout_2=0.3, module__n_hidden_neurons_1=14, module__n_hidden_neurons_2=35, module__n_in_neurons=14, module__n_out_neurons=1; total time=   0.1s\n",
      "  epoch        RMSE      train_loss      valid_loss     dur\n",
      "-------  ----------  --------------  --------------  ------\n",
      "      1  \u001b[36m13152.7168\u001b[0m  \u001b[32m196068167.4167\u001b[0m  \u001b[35m172993971.2000\u001b[0m  0.0751\n",
      "      2  \u001b[36m13152.6475\u001b[0m  \u001b[32m196066388.2500\u001b[0m  \u001b[35m172992147.2000\u001b[0m  0.0162\n",
      "      3  \u001b[36m13152.5693\u001b[0m  \u001b[32m196063827.8333\u001b[0m  \u001b[35m172990086.4000\u001b[0m  0.0152\n",
      "      4  \u001b[36m13152.4785\u001b[0m  \u001b[32m196061687.3333\u001b[0m  \u001b[35m172987680.0000\u001b[0m  0.0150\n",
      "      5  \u001b[36m13152.3701\u001b[0m  \u001b[32m196057928.8333\u001b[0m  \u001b[35m172984819.2000\u001b[0m  0.0149\n",
      "Stopping since RMSE has not improved in the last 5 epochs.\n",
      "[CV 1/3] END batch_size=10, lr=0.001, max_epochs=100, module__activation=ReLU(), module__dropout_1=0, module__dropout_2=0.3, module__n_hidden_neurons_1=14, module__n_hidden_neurons_2=35, module__n_in_neurons=14, module__n_out_neurons=1; total time=   0.2s\n",
      "  epoch        RMSE      train_loss      valid_loss     dur\n",
      "-------  ----------  --------------  --------------  ------\n",
      "      1  \u001b[36m16916.3047\u001b[0m  \u001b[32m205229633.0000\u001b[0m  \u001b[35m286161331.2000\u001b[0m  0.0155\n",
      "      2  \u001b[36m16916.1973\u001b[0m  \u001b[32m205226742.4167\u001b[0m  \u001b[35m286157785.6000\u001b[0m  0.0161\n",
      "      3  \u001b[36m16916.0801\u001b[0m  \u001b[32m205223864.0000\u001b[0m  \u001b[35m286153804.8000\u001b[0m  0.0150\n",
      "      4  \u001b[36m16915.9395\u001b[0m  \u001b[32m205220375.8333\u001b[0m  \u001b[35m286149030.4000\u001b[0m  0.0263\n",
      "      5  \u001b[36m16915.7676\u001b[0m  \u001b[32m205217385.8333\u001b[0m  \u001b[35m286143219.2000\u001b[0m  0.0145\n",
      "Stopping since RMSE has not improved in the last 5 epochs.\n",
      "[CV 2/3] END batch_size=10, lr=0.001, max_epochs=100, module__activation=ReLU(), module__dropout_1=0, module__dropout_2=0.3, module__n_hidden_neurons_1=14, module__n_hidden_neurons_2=35, module__n_in_neurons=14, module__n_out_neurons=1; total time=   0.1s\n",
      "  epoch        RMSE      train_loss      valid_loss     dur\n",
      "-------  ----------  --------------  --------------  ------\n",
      "      1  \u001b[36m16916.3926\u001b[0m  \u001b[32m225569120.1649\u001b[0m  \u001b[35m286164332.8000\u001b[0m  0.0154\n",
      "      2  \u001b[36m16916.3320\u001b[0m  \u001b[32m225567460.9485\u001b[0m  \u001b[35m286162291.2000\u001b[0m  0.0155\n",
      "      3  \u001b[36m16916.2695\u001b[0m  \u001b[32m225565560.7423\u001b[0m  \u001b[35m286160204.8000\u001b[0m  0.0253\n",
      "      4  \u001b[36m16916.2070\u001b[0m  \u001b[32m225564196.9485\u001b[0m  \u001b[35m286158041.6000\u001b[0m  0.0152\n",
      "      5  \u001b[36m16916.1348\u001b[0m  \u001b[32m225561961.0722\u001b[0m  \u001b[35m286155635.2000\u001b[0m  0.0153\n",
      "Stopping since RMSE has not improved in the last 5 epochs.\n",
      "[CV 3/3] END batch_size=10, lr=0.001, max_epochs=100, module__activation=ReLU(), module__dropout_1=0, module__dropout_2=0.3, module__n_hidden_neurons_1=14, module__n_hidden_neurons_2=35, module__n_in_neurons=14, module__n_out_neurons=1; total time=   0.1s\n",
      "  epoch        RMSE      train_loss      valid_loss     dur\n",
      "-------  ----------  --------------  --------------  ------\n",
      "      1  \u001b[36m13152.6133\u001b[0m  \u001b[32m196069139.3333\u001b[0m  \u001b[35m172991232.0000\u001b[0m  0.0121\n",
      "      2  \u001b[36m13152.2061\u001b[0m  \u001b[32m196059904.0000\u001b[0m  \u001b[35m172980537.6000\u001b[0m  0.0270\n",
      "      3  \u001b[36m13151.3779\u001b[0m  \u001b[32m196040740.6667\u001b[0m  \u001b[35m172958720.0000\u001b[0m  0.0114\n",
      "      4  \u001b[36m13149.6953\u001b[0m  \u001b[32m196001389.3333\u001b[0m  \u001b[35m172914483.2000\u001b[0m  0.0136\n",
      "      5  \u001b[36m13146.4727\u001b[0m  \u001b[32m195931886.6667\u001b[0m  \u001b[35m172829734.4000\u001b[0m  0.0084\n",
      "      6  \u001b[36m13140.5879\u001b[0m  \u001b[32m195777654.6667\u001b[0m  \u001b[35m172675033.6000\u001b[0m  0.0080\n",
      "      7  \u001b[36m13130.7549\u001b[0m  \u001b[32m195544996.6667\u001b[0m  \u001b[35m172416729.6000\u001b[0m  0.0084\n",
      "      8  \u001b[36m13114.9043\u001b[0m  \u001b[32m195106014.6667\u001b[0m  \u001b[35m172000736.0000\u001b[0m  0.0094\n",
      "      9  \u001b[36m13090.8105\u001b[0m  \u001b[32m194463164.0000\u001b[0m  \u001b[35m171369331.2000\u001b[0m  0.0191\n",
      "     10  \u001b[36m13055.6855\u001b[0m  \u001b[32m193489950.6667\u001b[0m  \u001b[35m170450931.2000\u001b[0m  0.0086\n",
      "     11  \u001b[36m13006.1387\u001b[0m  \u001b[32m192095316.6667\u001b[0m  \u001b[35m169159648.0000\u001b[0m  0.0085\n",
      "     12  \u001b[36m12938.7725\u001b[0m  \u001b[32m190511554.0000\u001b[0m  \u001b[35m167411833.6000\u001b[0m  0.0092\n",
      "     13  \u001b[36m12850.4131\u001b[0m  \u001b[32m187584632.6667\u001b[0m  \u001b[35m165133132.8000\u001b[0m  0.0087\n",
      "     14  \u001b[36m12737.0029\u001b[0m  \u001b[32m184799660.0000\u001b[0m  \u001b[35m162231238.4000\u001b[0m  0.0083\n",
      "     15  \u001b[36m12595.2480\u001b[0m  \u001b[32m180007038.0000\u001b[0m  \u001b[35m158640281.6000\u001b[0m  0.0084\n",
      "     16  \u001b[36m12424.2588\u001b[0m  \u001b[32m176883282.6667\u001b[0m  \u001b[35m154362208.0000\u001b[0m  0.0328\n",
      "     17  \u001b[36m12221.6289\u001b[0m  \u001b[32m169675692.0000\u001b[0m  \u001b[35m149368224.0000\u001b[0m  0.0104\n",
      "     18  \u001b[36m11986.0439\u001b[0m  \u001b[32m162618304.0000\u001b[0m  \u001b[35m143665251.2000\u001b[0m  0.0093\n",
      "     19  \u001b[36m11720.6289\u001b[0m  \u001b[32m157005051.3333\u001b[0m  \u001b[35m137373155.2000\u001b[0m  0.0087\n",
      "     20  \u001b[36m11426.0166\u001b[0m  \u001b[32m146295597.6667\u001b[0m  \u001b[35m130553856.0000\u001b[0m  0.0110\n",
      "     21  \u001b[36m11106.2764\u001b[0m  \u001b[32m135063501.3333\u001b[0m  \u001b[35m123349382.4000\u001b[0m  0.0118\n",
      "     22  \u001b[36m10774.4121\u001b[0m  \u001b[32m127834481.0000\u001b[0m  \u001b[35m116087948.8000\u001b[0m  0.0124\n",
      "     23  \u001b[36m10442.3643\u001b[0m  \u001b[32m116084180.3333\u001b[0m  \u001b[35m109042976.0000\u001b[0m  0.0094\n",
      "     24  \u001b[36m10119.0830\u001b[0m  \u001b[32m109956043.3333\u001b[0m  \u001b[35m102395852.8000\u001b[0m  0.0085\n",
      "     25  \u001b[36m9814.5684\u001b[0m  \u001b[32m98317625.0000\u001b[0m  \u001b[35m96325737.6000\u001b[0m  0.0089\n",
      "     26  \u001b[36m9542.6631\u001b[0m  \u001b[32m94264068.0000\u001b[0m  \u001b[35m91062412.8000\u001b[0m  0.0096\n",
      "     27  \u001b[36m9304.1553\u001b[0m  \u001b[32m91485155.3333\u001b[0m  \u001b[35m86567305.6000\u001b[0m  0.0082\n",
      "     28  \u001b[36m9096.2822\u001b[0m  \u001b[32m77771680.8333\u001b[0m  \u001b[35m82742352.0000\u001b[0m  0.0124\n",
      "     29  \u001b[36m8918.3203\u001b[0m  \u001b[32m71039874.3333\u001b[0m  \u001b[35m79536427.2000\u001b[0m  0.0126\n",
      "     30  \u001b[36m8768.9268\u001b[0m  \u001b[32m65913725.6667\u001b[0m  \u001b[35m76894080.0000\u001b[0m  0.0131\n",
      "     31  \u001b[36m8629.6016\u001b[0m  \u001b[32m63946192.0000\u001b[0m  \u001b[35m74470017.6000\u001b[0m  0.0131\n",
      "     32  \u001b[36m8498.6465\u001b[0m  \u001b[32m52549666.1667\u001b[0m  \u001b[35m72226980.8000\u001b[0m  0.0106\n",
      "     33  \u001b[36m8363.0840\u001b[0m  53196391.7500  \u001b[35m69941177.6000\u001b[0m  0.0097\n",
      "     34  \u001b[36m8231.0508\u001b[0m  \u001b[32m47499923.9167\u001b[0m  \u001b[35m67750192.0000\u001b[0m  0.0102\n",
      "     35  \u001b[36m8101.6494\u001b[0m  57080390.6667  \u001b[35m65636720.0000\u001b[0m  0.0111\n",
      "     36  \u001b[36m7977.3804\u001b[0m  66939224.5000  \u001b[35m63638595.2000\u001b[0m  0.0260\n",
      "     37  \u001b[36m7860.4946\u001b[0m  50179403.7500  \u001b[35m61787376.0000\u001b[0m  0.0091\n",
      "     38  \u001b[36m7750.6060\u001b[0m  \u001b[32m46556313.7500\u001b[0m  \u001b[35m60071902.4000\u001b[0m  0.0112\n",
      "     39  \u001b[36m7642.4263\u001b[0m  54005753.8333  \u001b[35m58406681.6000\u001b[0m  0.0112\n",
      "     40  \u001b[36m7540.8745\u001b[0m  50343839.7500  \u001b[35m56864796.8000\u001b[0m  0.0097\n",
      "     41  \u001b[36m7446.3579\u001b[0m  \u001b[32m42487498.7500\u001b[0m  \u001b[35m55448254.4000\u001b[0m  0.0126\n",
      "     42  \u001b[36m7354.3545\u001b[0m  50599362.5000  \u001b[35m54086528.0000\u001b[0m  0.0112\n",
      "     43  \u001b[36m7270.8647\u001b[0m  52608202.5833  \u001b[35m52865473.6000\u001b[0m  0.0117\n",
      "     44  \u001b[36m7193.1494\u001b[0m  47503267.9167  \u001b[35m51741398.4000\u001b[0m  0.0082\n",
      "     45  \u001b[36m7116.9956\u001b[0m  43905716.9167  \u001b[35m50651623.2000\u001b[0m  0.0081\n",
      "     46  \u001b[36m7043.8545\u001b[0m  47292516.6667  \u001b[35m49615889.6000\u001b[0m  0.0091\n",
      "     47  \u001b[36m6973.5503\u001b[0m  \u001b[32m39666706.1667\u001b[0m  \u001b[35m48630404.8000\u001b[0m  0.0077\n",
      "     48  \u001b[36m6917.6260\u001b[0m  46361480.3333  \u001b[35m47853546.4000\u001b[0m  0.0074\n",
      "     49  \u001b[36m6860.3770\u001b[0m  47533865.0417  \u001b[35m47064765.6000\u001b[0m  0.0086\n",
      "     50  \u001b[36m6797.3989\u001b[0m  44612297.5000  \u001b[35m46204633.6000\u001b[0m  0.0086\n",
      "     51  \u001b[36m6732.3779\u001b[0m  42404243.0833  \u001b[35m45324914.4000\u001b[0m  0.0085\n",
      "     52  \u001b[36m6662.4746\u001b[0m  43877913.5833  \u001b[35m44388565.6000\u001b[0m  0.0084\n",
      "     53  \u001b[36m6592.1069\u001b[0m  39756839.5000  \u001b[35m43455874.4000\u001b[0m  0.0102\n",
      "     54  \u001b[36m6522.5352\u001b[0m  41843363.6667  \u001b[35m42543465.6000\u001b[0m  0.0086\n",
      "     55  \u001b[36m6462.4219\u001b[0m  40220960.3333  \u001b[35m41762897.6000\u001b[0m  0.0098\n",
      "     56  \u001b[36m6406.2666\u001b[0m  \u001b[32m37605829.4167\u001b[0m  \u001b[35m41040248.0000\u001b[0m  0.0081\n",
      "     57  \u001b[36m6349.2915\u001b[0m  41311176.0000  \u001b[35m40313504.8000\u001b[0m  0.0102\n",
      "     58  \u001b[36m6304.1890\u001b[0m  \u001b[32m33567493.9167\u001b[0m  \u001b[35m39742794.4000\u001b[0m  0.0285\n",
      "     59  \u001b[36m6256.6606\u001b[0m  43460862.5000  \u001b[35m39145803.2000\u001b[0m  0.0099\n",
      "     60  \u001b[36m6206.0972\u001b[0m  37935180.5000  \u001b[35m38515636.0000\u001b[0m  0.0090\n",
      "     61  \u001b[36m6166.8857\u001b[0m  39553943.4167  \u001b[35m38030481.6000\u001b[0m  0.0098\n",
      "     62  \u001b[36m6120.6519\u001b[0m  34521304.6667  \u001b[35m37462376.8000\u001b[0m  0.0086\n",
      "     63  \u001b[36m6081.1943\u001b[0m  38040765.8333  \u001b[35m36980924.0000\u001b[0m  0.0087\n",
      "     64  \u001b[36m6051.5410\u001b[0m  36091518.6667  \u001b[35m36621146.4000\u001b[0m  0.0107\n",
      "     65  \u001b[36m6019.8477\u001b[0m  \u001b[32m32135511.0417\u001b[0m  \u001b[35m36238564.0000\u001b[0m  0.0101\n",
      "     66  \u001b[36m5977.6113\u001b[0m  35842549.8333  \u001b[35m35731838.4000\u001b[0m  0.0089\n",
      "     67  \u001b[36m5930.3115\u001b[0m  \u001b[32m30361279.0000\u001b[0m  \u001b[35m35168596.8000\u001b[0m  0.0128\n",
      "     68  \u001b[36m5881.4697\u001b[0m  39767368.7500  \u001b[35m34591687.2000\u001b[0m  0.0103\n",
      "     69  \u001b[36m5839.3628\u001b[0m  43700976.9167  \u001b[35m34098160.0000\u001b[0m  0.0104\n",
      "     70  \u001b[36m5806.5278\u001b[0m  36322973.3333  \u001b[35m33715763.2000\u001b[0m  0.0104\n",
      "     71  \u001b[36m5766.8828\u001b[0m  38714782.5833  \u001b[35m33256940.0000\u001b[0m  0.0310\n",
      "     72  \u001b[36m5729.0791\u001b[0m  33513264.1250  \u001b[35m32822347.2000\u001b[0m  0.0118\n",
      "     73  \u001b[36m5695.3779\u001b[0m  37450330.0000  \u001b[35m32437326.4000\u001b[0m  0.0102\n",
      "     74  \u001b[36m5672.5171\u001b[0m  30833687.2917  \u001b[35m32177451.2000\u001b[0m  0.0111\n",
      "     75  \u001b[36m5643.9609\u001b[0m  31547282.7917  \u001b[35m31854292.8000\u001b[0m  0.0121\n",
      "     76  \u001b[36m5611.8872\u001b[0m  35365267.3750  \u001b[35m31493278.4000\u001b[0m  0.0101\n",
      "     77  \u001b[36m5594.7705\u001b[0m  36165757.6250  \u001b[35m31301456.0000\u001b[0m  0.0229\n",
      "     78  \u001b[36m5576.0024\u001b[0m  36743041.3750  \u001b[35m31091804.8000\u001b[0m  0.0114\n",
      "     79  \u001b[36m5558.4717\u001b[0m  \u001b[32m28401555.9792\u001b[0m  \u001b[35m30896614.4000\u001b[0m  0.0107\n",
      "     80  \u001b[36m5521.8955\u001b[0m  31605495.5833  \u001b[35m30491330.4000\u001b[0m  0.0098\n",
      "     81  \u001b[36m5491.6445\u001b[0m  37512222.5417  \u001b[35m30158162.4000\u001b[0m  0.0115\n",
      "     82  \u001b[36m5473.9985\u001b[0m  28402871.7500  \u001b[35m29964664.0000\u001b[0m  0.0114\n",
      "     83  \u001b[36m5446.7695\u001b[0m  33962450.7500  \u001b[35m29667297.6000\u001b[0m  0.0103\n",
      "     84  \u001b[36m5404.2178\u001b[0m  36022970.1667  \u001b[35m29205566.4000\u001b[0m  0.0111\n",
      "     85  \u001b[36m5375.7529\u001b[0m  35070625.7083  \u001b[35m28898718.4000\u001b[0m  0.0083\n",
      "     86  \u001b[36m5349.6606\u001b[0m  33216793.5833  \u001b[35m28618865.6000\u001b[0m  0.0103\n",
      "     87  \u001b[36m5312.1753\u001b[0m  38503961.4167  \u001b[35m28219208.0000\u001b[0m  0.0084\n",
      "     88  \u001b[36m5275.3467\u001b[0m  31397714.4167  \u001b[35m27829284.0000\u001b[0m  0.0095\n",
      "     89  \u001b[36m5252.0010\u001b[0m  33530537.5208  \u001b[35m27583514.4000\u001b[0m  0.0093\n",
      "     90  \u001b[36m5246.0474\u001b[0m  35295016.2500  \u001b[35m27521013.6000\u001b[0m  0.0281\n",
      "     91  \u001b[36m5232.7480\u001b[0m  29543536.4792  \u001b[35m27381650.4000\u001b[0m  0.0091\n",
      "     92  \u001b[36m5221.6631\u001b[0m  33914186.0000  \u001b[35m27265763.2000\u001b[0m  0.0090\n",
      "     93  \u001b[36m5213.2793\u001b[0m  33235095.7917  \u001b[35m27178281.6000\u001b[0m  0.0096\n",
      "     94  \u001b[36m5186.3359\u001b[0m  \u001b[32m26102772.5208\u001b[0m  \u001b[35m26898081.6000\u001b[0m  0.0086\n",
      "     95  \u001b[36m5150.6992\u001b[0m  30846238.1250  \u001b[35m26529706.4000\u001b[0m  0.0081\n",
      "     96  \u001b[36m5118.2642\u001b[0m  33396722.4167  \u001b[35m26196631.6000\u001b[0m  0.0088\n",
      "     97  \u001b[36m5081.3091\u001b[0m  29708508.2500  \u001b[35m25819702.8000\u001b[0m  0.0089\n",
      "     98  \u001b[36m5041.7578\u001b[0m  34579705.7500  \u001b[35m25419320.8000\u001b[0m  0.0256\n",
      "     99  \u001b[36m5002.4341\u001b[0m  30210150.9167  \u001b[35m25024343.6000\u001b[0m  0.0116\n",
      "    100  \u001b[36m4959.5967\u001b[0m  \u001b[32m24162079.6250\u001b[0m  \u001b[35m24597599.2000\u001b[0m  0.0133\n",
      "[CV 1/3] END batch_size=20, lr=0.01, max_epochs=100, module__activation=ReLU(), module__dropout_1=0.3, module__dropout_2=0, module__n_hidden_neurons_1=14, module__n_hidden_neurons_2=35, module__n_in_neurons=14, module__n_out_neurons=1; total time=   1.5s\n",
      "  epoch        RMSE      train_loss      valid_loss     dur\n",
      "-------  ----------  --------------  --------------  ------\n",
      "      1  \u001b[36m16916.0410\u001b[0m  \u001b[32m205229051.3333\u001b[0m  \u001b[35m286152454.4000\u001b[0m  0.0093\n",
      "      2  \u001b[36m16915.1504\u001b[0m  \u001b[32m205212556.0000\u001b[0m  \u001b[35m286122297.6000\u001b[0m  0.0094\n",
      "      3  \u001b[36m16913.3418\u001b[0m  \u001b[32m205179193.3333\u001b[0m  \u001b[35m286061139.2000\u001b[0m  0.0091\n",
      "      4  \u001b[36m16909.8301\u001b[0m  \u001b[32m205122072.6667\u001b[0m  \u001b[35m285942361.6000\u001b[0m  0.0093\n",
      "      5  \u001b[36m16903.4414\u001b[0m  \u001b[32m204993754.0000\u001b[0m  \u001b[35m285726342.4000\u001b[0m  0.0087\n",
      "      6  \u001b[36m16892.5254\u001b[0m  \u001b[32m204815338.0000\u001b[0m  \u001b[35m285357478.4000\u001b[0m  0.0086\n",
      "      7  \u001b[36m16874.7930\u001b[0m  \u001b[32m204450728.0000\u001b[0m  \u001b[35m284758643.2000\u001b[0m  0.0088\n",
      "      8  \u001b[36m16847.3633\u001b[0m  \u001b[32m203964825.3333\u001b[0m  \u001b[35m283833612.8000\u001b[0m  0.0089\n",
      "      9  \u001b[36m16806.7246\u001b[0m  \u001b[32m203114088.0000\u001b[0m  \u001b[35m282466009.6000\u001b[0m  0.0087\n",
      "     10  \u001b[36m16748.6738\u001b[0m  \u001b[32m201944024.0000\u001b[0m  \u001b[35m280518016.0000\u001b[0m  0.0085\n",
      "     11  \u001b[36m16666.8750\u001b[0m  \u001b[32m200168682.6667\u001b[0m  \u001b[35m277784697.6000\u001b[0m  0.0274\n",
      "     12  \u001b[36m16556.2695\u001b[0m  \u001b[32m197815746.6667\u001b[0m  \u001b[35m274110048.0000\u001b[0m  0.0083\n",
      "     13  \u001b[36m16409.4531\u001b[0m  \u001b[32m194452241.3333\u001b[0m  \u001b[35m269270153.6000\u001b[0m  0.0085\n",
      "     14  \u001b[36m16223.1650\u001b[0m  \u001b[32m190601310.6667\u001b[0m  \u001b[35m263191049.6000\u001b[0m  0.0084\n",
      "     15  \u001b[36m15992.5205\u001b[0m  \u001b[32m186527799.3333\u001b[0m  \u001b[35m255760720.0000\u001b[0m  0.0084\n",
      "     16  \u001b[36m15711.9277\u001b[0m  \u001b[32m179620392.6667\u001b[0m  \u001b[35m246864688.0000\u001b[0m  0.0087\n",
      "     17  \u001b[36m15373.5303\u001b[0m  \u001b[32m173310928.0000\u001b[0m  \u001b[35m236345417.6000\u001b[0m  0.0095\n",
      "     18  \u001b[36m14973.5117\u001b[0m  \u001b[32m164017801.3333\u001b[0m  \u001b[35m224206064.0000\u001b[0m  0.0291\n",
      "     19  \u001b[36m14508.5029\u001b[0m  \u001b[32m155055534.0000\u001b[0m  \u001b[35m210496646.4000\u001b[0m  0.0089\n",
      "     20  \u001b[36m13980.7480\u001b[0m  \u001b[32m142723210.3333\u001b[0m  \u001b[35m195461289.6000\u001b[0m  0.0093\n",
      "     21  \u001b[36m13395.5801\u001b[0m  \u001b[32m131772865.6667\u001b[0m  \u001b[35m179441571.2000\u001b[0m  0.0090\n",
      "     22  \u001b[36m12769.1504\u001b[0m  \u001b[32m126711760.6667\u001b[0m  \u001b[35m163051200.0000\u001b[0m  0.0089\n",
      "     23  \u001b[36m12113.9922\u001b[0m  \u001b[32m113256327.6667\u001b[0m  \u001b[35m146748782.4000\u001b[0m  0.0085\n",
      "     24  \u001b[36m11431.8828\u001b[0m  \u001b[32m98113139.3333\u001b[0m  \u001b[35m130687939.2000\u001b[0m  0.0091\n",
      "     25  \u001b[36m10751.9844\u001b[0m  \u001b[32m88871341.5000\u001b[0m  \u001b[35m115605163.2000\u001b[0m  0.0083\n",
      "     26  \u001b[36m10105.4717\u001b[0m  \u001b[32m80707239.8333\u001b[0m  \u001b[35m102120558.4000\u001b[0m  0.0277\n",
      "     27  \u001b[36m9507.3799\u001b[0m  \u001b[32m68695663.8333\u001b[0m  \u001b[35m90390272.0000\u001b[0m  0.0083\n",
      "     28  \u001b[36m9006.3936\u001b[0m  69250069.0000  \u001b[35m81115118.4000\u001b[0m  0.0081\n",
      "     29  \u001b[36m8575.0576\u001b[0m  \u001b[32m62010700.5000\u001b[0m  \u001b[35m73531613.6000\u001b[0m  0.0083\n",
      "     30  \u001b[36m8217.9092\u001b[0m  \u001b[32m55855778.0833\u001b[0m  \u001b[35m67534024.8000\u001b[0m  0.0080\n",
      "     31  \u001b[36m7951.3970\u001b[0m  \u001b[32m50037178.0000\u001b[0m  \u001b[35m63224715.2000\u001b[0m  0.0082\n",
      "     32  \u001b[36m7749.9907\u001b[0m  \u001b[32m44388719.9167\u001b[0m  \u001b[35m60062354.4000\u001b[0m  0.0086\n",
      "     33  \u001b[36m7577.1084\u001b[0m  46034325.6667  \u001b[35m57412566.4000\u001b[0m  0.0084\n",
      "     34  \u001b[36m7445.3008\u001b[0m  47110252.3333  \u001b[35m55432505.6000\u001b[0m  0.0090\n",
      "     35  \u001b[36m7370.3047\u001b[0m  46020466.6667  \u001b[35m54321385.6000\u001b[0m  0.0085\n",
      "     36  \u001b[36m7312.9312\u001b[0m  46217127.9167  \u001b[35m53478953.6000\u001b[0m  0.0082\n",
      "     37  \u001b[36m7268.1045\u001b[0m  \u001b[32m42029453.1667\u001b[0m  \u001b[35m52825336.0000\u001b[0m  0.0097\n",
      "     38  \u001b[36m7243.3828\u001b[0m  43349342.5000  \u001b[35m52466595.2000\u001b[0m  0.0082\n",
      "     39  \u001b[36m7204.2080\u001b[0m  43934784.9167  \u001b[35m51900624.8000\u001b[0m  0.0083\n",
      "     40  \u001b[36m7142.5327\u001b[0m  \u001b[32m39769433.8333\u001b[0m  \u001b[35m51015777.6000\u001b[0m  0.0085\n",
      "     41  \u001b[36m7078.6753\u001b[0m  \u001b[32m37167171.8333\u001b[0m  \u001b[35m50107637.6000\u001b[0m  0.0362\n",
      "     42  \u001b[36m7014.5122\u001b[0m  41934535.0833  \u001b[35m49203383.2000\u001b[0m  0.0125\n",
      "     43  \u001b[36m6975.7964\u001b[0m  \u001b[32m35417404.9583\u001b[0m  \u001b[35m48661736.0000\u001b[0m  0.0128\n",
      "     44  \u001b[36m6947.5894\u001b[0m  41097881.9167  \u001b[35m48268990.4000\u001b[0m  0.0129\n",
      "     45  \u001b[36m6911.8555\u001b[0m  41796354.6667  \u001b[35m47773744.8000\u001b[0m  0.0130\n",
      "     46  \u001b[36m6858.6294\u001b[0m  37627985.3333  \u001b[35m47040795.2000\u001b[0m  0.0126\n",
      "     47  \u001b[36m6801.5410\u001b[0m  \u001b[32m30461915.9167\u001b[0m  \u001b[35m46260961.6000\u001b[0m  0.0128\n",
      "     48  \u001b[36m6749.5649\u001b[0m  33930854.0833  \u001b[35m45556628.8000\u001b[0m  0.0133\n",
      "     49  \u001b[36m6713.4985\u001b[0m  37676794.8333  \u001b[35m45071064.8000\u001b[0m  0.0127\n",
      "     50  \u001b[36m6697.0229\u001b[0m  37986774.5000  \u001b[35m44850110.4000\u001b[0m  0.0091\n",
      "     51  \u001b[36m6692.6064\u001b[0m  33045775.6667  \u001b[35m44790982.4000\u001b[0m  0.0087\n",
      "     52  \u001b[36m6671.0527\u001b[0m  35786064.8333  \u001b[35m44502945.6000\u001b[0m  0.0085\n",
      "     53  \u001b[36m6638.3765\u001b[0m  35533917.3750  \u001b[35m44068044.0000\u001b[0m  0.0262\n",
      "     54  \u001b[36m6602.1968\u001b[0m  34523109.0833  \u001b[35m43589002.4000\u001b[0m  0.0091\n",
      "     55  \u001b[36m6557.7495\u001b[0m  31633884.7917  \u001b[35m43004075.2000\u001b[0m  0.0102\n",
      "     56  \u001b[36m6513.5972\u001b[0m  \u001b[32m28073173.0000\u001b[0m  \u001b[35m42426955.2000\u001b[0m  0.0095\n",
      "     57  \u001b[36m6479.0928\u001b[0m  33151939.0000  \u001b[35m41978646.4000\u001b[0m  0.0089\n",
      "     58  \u001b[36m6455.4048\u001b[0m  \u001b[32m27809392.2083\u001b[0m  \u001b[35m41672252.0000\u001b[0m  0.0090\n",
      "     59  \u001b[36m6426.1548\u001b[0m  31963699.0833  \u001b[35m41295472.8000\u001b[0m  0.0090\n",
      "     60  \u001b[36m6391.0259\u001b[0m  30672223.8333  \u001b[35m40845214.8000\u001b[0m  0.0250\n",
      "     61  \u001b[36m6357.7515\u001b[0m  \u001b[32m26546136.2500\u001b[0m  \u001b[35m40421000.8000\u001b[0m  0.0088\n",
      "     62  \u001b[36m6332.6997\u001b[0m  36574884.5000  \u001b[35m40103080.8000\u001b[0m  0.0091\n",
      "     63  \u001b[36m6310.2700\u001b[0m  28693404.1250  \u001b[35m39819505.2000\u001b[0m  0.0090\n",
      "     64  6312.6719  31095174.3333  39849824.8000  0.0094\n",
      "     65  \u001b[36m6293.1807\u001b[0m  32071965.9167  \u001b[35m39604121.6000\u001b[0m  0.0093\n",
      "     66  \u001b[36m6267.3525\u001b[0m  32403801.5833  \u001b[35m39279711.2000\u001b[0m  0.0103\n",
      "     67  \u001b[36m6236.2734\u001b[0m  27591870.6667  \u001b[35m38891107.2000\u001b[0m  0.0323\n",
      "     68  \u001b[36m6214.1177\u001b[0m  34703553.9167  \u001b[35m38615256.8000\u001b[0m  0.0088\n",
      "     69  \u001b[36m6195.2754\u001b[0m  35115086.6667  \u001b[35m38381433.6000\u001b[0m  0.0088\n",
      "     70  \u001b[36m6185.0239\u001b[0m  29683126.0833  \u001b[35m38254517.2000\u001b[0m  0.0088\n",
      "     71  6189.9766  30603992.5417  38315806.0000  0.0095\n",
      "     72  6194.3853  \u001b[32m25062391.9167\u001b[0m  38370406.4000  0.0091\n",
      "     73  \u001b[36m6184.6396\u001b[0m  30840669.6875  \u001b[35m38249773.6000\u001b[0m  0.0094\n",
      "     74  \u001b[36m6163.3315\u001b[0m  \u001b[32m24143853.5833\u001b[0m  \u001b[35m37986652.8000\u001b[0m  0.0279\n",
      "     75  \u001b[36m6118.0005\u001b[0m  27344719.8750  \u001b[35m37429931.6000\u001b[0m  0.0089\n",
      "     76  \u001b[36m6081.2583\u001b[0m  25776988.6250  \u001b[35m36981702.0000\u001b[0m  0.0085\n",
      "     77  \u001b[36m6056.3896\u001b[0m  31796325.5417  \u001b[35m36679852.8000\u001b[0m  0.0082\n",
      "     78  \u001b[36m6042.3018\u001b[0m  26794783.5417  \u001b[35m36509411.6000\u001b[0m  0.0083\n",
      "     79  6048.5967  \u001b[32m22750276.3750\u001b[0m  36585519.2000  0.0082\n",
      "     80  6074.4814  28222987.8333  36899326.4000  0.0085\n",
      "     81  6094.3711  \u001b[32m20650764.0833\u001b[0m  37141358.0000  0.0085\n",
      "     82  6098.8984  32183759.7083  37196560.8000  0.0228\n",
      "Stopping since RMSE has not improved in the last 5 epochs.\n",
      "[CV 2/3] END batch_size=20, lr=0.01, max_epochs=100, module__activation=ReLU(), module__dropout_1=0.3, module__dropout_2=0, module__n_hidden_neurons_1=14, module__n_hidden_neurons_2=35, module__n_in_neurons=14, module__n_out_neurons=1; total time=   1.2s\n",
      "  epoch        RMSE      train_loss      valid_loss     dur\n",
      "-------  ----------  --------------  --------------  ------\n",
      "      1  \u001b[36m16916.0781\u001b[0m  \u001b[32m225567043.6289\u001b[0m  \u001b[35m286153708.8000\u001b[0m  0.0086\n",
      "      2  \u001b[36m16915.4043\u001b[0m  \u001b[32m225552238.8454\u001b[0m  \u001b[35m286130880.0000\u001b[0m  0.0085\n",
      "      3  \u001b[36m16914.1328\u001b[0m  \u001b[32m225523735.2577\u001b[0m  \u001b[35m286087897.6000\u001b[0m  0.0083\n",
      "      4  \u001b[36m16911.7031\u001b[0m  \u001b[32m225475210.0619\u001b[0m  \u001b[35m286005708.8000\u001b[0m  0.0089\n",
      "      5  \u001b[36m16907.3418\u001b[0m  \u001b[32m225380516.1237\u001b[0m  \u001b[35m285858214.4000\u001b[0m  0.0091\n",
      "      6  \u001b[36m16899.6562\u001b[0m  \u001b[32m225215861.1134\u001b[0m  \u001b[35m285598406.4000\u001b[0m  0.0086\n",
      "      7  \u001b[36m16886.9688\u001b[0m  \u001b[32m224939230.1856\u001b[0m  \u001b[35m285169702.4000\u001b[0m  0.0099\n",
      "      8  \u001b[36m16866.9941\u001b[0m  \u001b[32m224521879.2577\u001b[0m  \u001b[35m284495475.2000\u001b[0m  0.0090\n",
      "      9  \u001b[36m16837.3691\u001b[0m  \u001b[32m223939918.6804\u001b[0m  \u001b[35m283496992.0000\u001b[0m  0.0091\n",
      "     10  \u001b[36m16794.9629\u001b[0m  \u001b[32m222972250.7216\u001b[0m  \u001b[35m282070742.4000\u001b[0m  0.0082\n",
      "     11  \u001b[36m16735.5293\u001b[0m  \u001b[32m221445068.2062\u001b[0m  \u001b[35m280077942.4000\u001b[0m  0.0087\n",
      "     12  \u001b[36m16654.7188\u001b[0m  \u001b[32m219571255.7526\u001b[0m  \u001b[35m277379696.0000\u001b[0m  0.0082\n",
      "     13  \u001b[36m16547.9629\u001b[0m  \u001b[32m217452970.2268\u001b[0m  \u001b[35m273835078.4000\u001b[0m  0.0084\n",
      "     14  \u001b[36m16410.9609\u001b[0m  \u001b[32m213951667.7938\u001b[0m  \u001b[35m269319612.8000\u001b[0m  0.0086\n",
      "     15  \u001b[36m16239.6436\u001b[0m  \u001b[32m210614131.6289\u001b[0m  \u001b[35m263726035.2000\u001b[0m  0.0097\n",
      "     16  \u001b[36m16031.8213\u001b[0m  \u001b[32m207006372.4536\u001b[0m  \u001b[35m257019283.2000\u001b[0m  0.0095\n",
      "     17  \u001b[36m15780.5264\u001b[0m  \u001b[32m201110531.2990\u001b[0m  \u001b[35m249025027.2000\u001b[0m  0.0086\n",
      "     18  \u001b[36m15480.1934\u001b[0m  \u001b[32m193668831.8351\u001b[0m  \u001b[35m239636393.6000\u001b[0m  0.0089\n",
      "     19  \u001b[36m15123.5488\u001b[0m  \u001b[32m183934494.6804\u001b[0m  \u001b[35m228721721.6000\u001b[0m  0.0088\n",
      "     20  \u001b[36m14710.7236\u001b[0m  \u001b[32m177090045.6907\u001b[0m  \u001b[35m216405356.8000\u001b[0m  0.0083\n",
      "     21  \u001b[36m14249.7842\u001b[0m  \u001b[32m168929047.4227\u001b[0m  \u001b[35m203056352.0000\u001b[0m  0.0085\n",
      "     22  \u001b[36m13741.0127\u001b[0m  \u001b[32m157150808.0825\u001b[0m  \u001b[35m188815443.2000\u001b[0m  0.0240\n",
      "     23  \u001b[36m13190.6816\u001b[0m  \u001b[32m147283696.1649\u001b[0m  \u001b[35m173994086.4000\u001b[0m  0.0091\n",
      "     24  \u001b[36m12597.6533\u001b[0m  \u001b[32m135206414.6804\u001b[0m  \u001b[35m158700851.2000\u001b[0m  0.0124\n",
      "     25  \u001b[36m11979.6875\u001b[0m  \u001b[32m130888859.8763\u001b[0m  \u001b[35m143512924.8000\u001b[0m  0.0122\n",
      "     26  \u001b[36m11345.9727\u001b[0m  \u001b[32m118884792.4124\u001b[0m  \u001b[35m128731094.4000\u001b[0m  0.0129\n",
      "     27  \u001b[36m10712.3984\u001b[0m  \u001b[32m106690920.0000\u001b[0m  \u001b[35m114755473.6000\u001b[0m  0.0102\n",
      "     28  \u001b[36m10098.3975\u001b[0m  \u001b[32m94157832.4124\u001b[0m  \u001b[35m101977622.4000\u001b[0m  0.0079\n",
      "     29  \u001b[36m9517.8506\u001b[0m  \u001b[32m79903688.6598\u001b[0m  \u001b[35m90589468.8000\u001b[0m  0.0233\n",
      "     30  \u001b[36m9010.0938\u001b[0m  85290908.5361  \u001b[35m81181772.8000\u001b[0m  0.0083\n",
      "     31  \u001b[36m8601.0498\u001b[0m  \u001b[32m74732371.7938\u001b[0m  \u001b[35m73978052.8000\u001b[0m  0.0087\n",
      "     32  \u001b[36m8255.0713\u001b[0m  \u001b[32m70344582.3505\u001b[0m  \u001b[35m68146203.2000\u001b[0m  0.0082\n",
      "     33  \u001b[36m7983.5527\u001b[0m  \u001b[32m65376694.5979\u001b[0m  \u001b[35m63737113.6000\u001b[0m  0.0081\n",
      "     34  \u001b[36m7769.0552\u001b[0m  \u001b[32m63676556.2062\u001b[0m  \u001b[35m60358214.4000\u001b[0m  0.0080\n",
      "     35  \u001b[36m7613.3799\u001b[0m  66043719.9175  \u001b[35m57963560.0000\u001b[0m  0.0096\n",
      "     36  \u001b[36m7495.5166\u001b[0m  \u001b[32m57871440.3299\u001b[0m  \u001b[35m56182767.2000\u001b[0m  0.0094\n",
      "     37  \u001b[36m7401.0396\u001b[0m  58971122.1443  \u001b[35m54775384.0000\u001b[0m  0.0258\n",
      "     38  \u001b[36m7319.3599\u001b[0m  58267864.7835  \u001b[35m53573032.0000\u001b[0m  0.0103\n",
      "     39  \u001b[36m7247.4829\u001b[0m  \u001b[32m52302433.5670\u001b[0m  \u001b[35m52526015.2000\u001b[0m  0.0110\n",
      "     40  \u001b[36m7181.3687\u001b[0m  56624033.3196  \u001b[35m51572056.0000\u001b[0m  0.0094\n",
      "     41  \u001b[36m7123.7935\u001b[0m  54909020.1237  \u001b[35m50748432.8000\u001b[0m  0.0084\n",
      "     42  \u001b[36m7070.8340\u001b[0m  \u001b[32m47114295.8351\u001b[0m  \u001b[35m49996694.4000\u001b[0m  0.0094\n",
      "     43  \u001b[36m7031.4873\u001b[0m  49700517.6907  \u001b[35m49441816.0000\u001b[0m  0.0094\n",
      "     44  \u001b[36m6995.9082\u001b[0m  51325274.3918  \u001b[35m48942733.6000\u001b[0m  0.0256\n",
      "     45  \u001b[36m6958.6045\u001b[0m  50209013.4433  \u001b[35m48422173.6000\u001b[0m  0.0093\n",
      "     46  \u001b[36m6931.3550\u001b[0m  53998024.0000  \u001b[35m48043675.2000\u001b[0m  0.0090\n",
      "     47  \u001b[36m6922.1558\u001b[0m  58675838.8454  \u001b[35m47916245.6000\u001b[0m  0.0097\n",
      "     48  \u001b[36m6893.2642\u001b[0m  \u001b[32m46124548.4124\u001b[0m  \u001b[35m47517087.2000\u001b[0m  0.0101\n",
      "     49  \u001b[36m6859.7178\u001b[0m  49885494.1031  \u001b[35m47055737.6000\u001b[0m  0.0092\n",
      "     50  \u001b[36m6822.9429\u001b[0m  49198011.6289  \u001b[35m46552548.8000\u001b[0m  0.0090\n",
      "     51  \u001b[36m6782.2295\u001b[0m  48944282.1443  \u001b[35m45998634.4000\u001b[0m  0.0283\n",
      "     52  \u001b[36m6744.6455\u001b[0m  53626460.7010  \u001b[35m45490245.6000\u001b[0m  0.0097\n",
      "     53  \u001b[36m6717.5645\u001b[0m  55956789.1134  \u001b[35m45125672.8000\u001b[0m  0.0092\n",
      "     54  \u001b[36m6682.5020\u001b[0m  49595480.3299  \u001b[35m44655828.8000\u001b[0m  0.0091\n",
      "     55  \u001b[36m6635.9873\u001b[0m  50563799.7113  \u001b[35m44036327.2000\u001b[0m  0.0099\n",
      "     56  \u001b[36m6600.7319\u001b[0m  47103693.8557  \u001b[35m43569660.8000\u001b[0m  0.0093\n",
      "     57  \u001b[36m6562.9917\u001b[0m  \u001b[32m35770837.7732\u001b[0m  \u001b[35m43072862.8000\u001b[0m  0.0108\n",
      "     58  \u001b[36m6526.2974\u001b[0m  42885884.2062  \u001b[35m42592562.0000\u001b[0m  0.0233\n",
      "     59  \u001b[36m6502.6821\u001b[0m  43982837.3608  \u001b[35m42284868.0000\u001b[0m  0.0084\n",
      "     60  \u001b[36m6478.2236\u001b[0m  45035841.4021  \u001b[35m41967386.4000\u001b[0m  0.0082\n",
      "     61  \u001b[36m6465.3345\u001b[0m  51246796.7835  \u001b[35m41800548.4000\u001b[0m  0.0093\n",
      "     62  \u001b[36m6451.2788\u001b[0m  42524553.8557  \u001b[35m41619001.6000\u001b[0m  0.0084\n",
      "     63  \u001b[36m6431.0044\u001b[0m  49222167.5052  \u001b[35m41357817.6000\u001b[0m  0.0082\n",
      "     64  \u001b[36m6412.5723\u001b[0m  37736725.1959  \u001b[35m41121081.6000\u001b[0m  0.0086\n",
      "     65  \u001b[36m6396.0835\u001b[0m  43831293.5258  \u001b[35m40909882.8000\u001b[0m  0.0121\n",
      "     66  \u001b[36m6371.5327\u001b[0m  36475064.6598  \u001b[35m40596437.6000\u001b[0m  0.0132\n",
      "     67  \u001b[36m6344.1777\u001b[0m  \u001b[32m34531557.5670\u001b[0m  \u001b[35m40248593.2000\u001b[0m  0.0129\n",
      "     68  \u001b[36m6306.6934\u001b[0m  40079546.3505  \u001b[35m39774385.2000\u001b[0m  0.0092\n",
      "     69  \u001b[36m6273.5264\u001b[0m  40210273.4433  \u001b[35m39357134.8000\u001b[0m  0.0085\n",
      "     70  \u001b[36m6249.9297\u001b[0m  40599797.7732  \u001b[35m39061626.4000\u001b[0m  0.0086\n",
      "     71  \u001b[36m6235.1626\u001b[0m  \u001b[32m32801644.7423\u001b[0m  \u001b[35m38877253.6000\u001b[0m  0.0083\n",
      "     72  \u001b[36m6209.1167\u001b[0m  42522053.9381  \u001b[35m38553125.2000\u001b[0m  0.0085\n",
      "     73  \u001b[36m6184.0571\u001b[0m  39792043.5876  \u001b[35m38242560.4000\u001b[0m  0.0083\n",
      "     74  \u001b[36m6151.6489\u001b[0m  33293976.6186  \u001b[35m37842786.4000\u001b[0m  0.0085\n",
      "     75  \u001b[36m6135.3672\u001b[0m  38860349.5258  \u001b[35m37642734.0000\u001b[0m  0.0092\n",
      "     76  \u001b[36m6113.7837\u001b[0m  39764345.5258  \u001b[35m37378356.0000\u001b[0m  0.0083\n",
      "     77  6113.8823  38933142.1031  37379555.2000  0.0091\n",
      "     78  \u001b[36m6095.8203\u001b[0m  36466049.1959  \u001b[35m37159026.4000\u001b[0m  0.0092\n",
      "     79  \u001b[36m6065.1382\u001b[0m  37438639.8351  \u001b[35m36785902.0000\u001b[0m  0.0087\n",
      "     80  \u001b[36m6035.1001\u001b[0m  35432775.5876  \u001b[35m36422432.8000\u001b[0m  0.0083\n",
      "     81  \u001b[36m6030.6304\u001b[0m  43578034.4330  \u001b[35m36368504.8000\u001b[0m  0.0082\n",
      "     82  \u001b[36m6019.3276\u001b[0m  35321360.9897  \u001b[35m36232310.4000\u001b[0m  0.0084\n",
      "     83  \u001b[36m5997.3491\u001b[0m  38006908.4536  \u001b[35m35968196.0000\u001b[0m  0.0080\n",
      "     84  \u001b[36m5975.1440\u001b[0m  \u001b[32m28854724.7423\u001b[0m  \u001b[35m35702352.8000\u001b[0m  0.0081\n",
      "     85  \u001b[36m5974.5625\u001b[0m  32118508.0000  \u001b[35m35695394.4000\u001b[0m  0.0082\n",
      "     86  \u001b[36m5966.2656\u001b[0m  31324405.3608  \u001b[35m35596327.2000\u001b[0m  0.0082\n",
      "     87  \u001b[36m5941.5635\u001b[0m  40657905.3196  \u001b[35m35302172.0000\u001b[0m  0.0085\n",
      "     88  \u001b[36m5937.3525\u001b[0m  31801671.5052  \u001b[35m35252153.6000\u001b[0m  0.0082\n",
      "     89  \u001b[36m5933.8154\u001b[0m  39635870.5567  \u001b[35m35210161.2000\u001b[0m  0.0235\n",
      "     90  5934.3745  33593022.1856  35216797.6000  0.0083\n",
      "     91  \u001b[36m5928.5815\u001b[0m  \u001b[32m27210406.8041\u001b[0m  \u001b[35m35148079.2000\u001b[0m  0.0082\n",
      "     92  \u001b[36m5914.2920\u001b[0m  \u001b[32m24825234.8454\u001b[0m  \u001b[35m34978850.0000\u001b[0m  0.0082\n",
      "     93  \u001b[36m5888.6694\u001b[0m  27290723.5464  \u001b[35m34676427.6000\u001b[0m  0.0082\n",
      "     94  5889.3984  33044006.3093  34685018.4000  0.0082\n",
      "     95  5899.6357  34904721.5258  34805706.0000  0.0083\n",
      "     96  5904.3403  34836776.1649  34861233.2000  0.0081\n",
      "     97  5893.9336  36115334.2268  34738455.6000  0.0273\n",
      "Stopping since RMSE has not improved in the last 5 epochs.\n",
      "[CV 3/3] END batch_size=20, lr=0.01, max_epochs=100, module__activation=ReLU(), module__dropout_1=0.3, module__dropout_2=0, module__n_hidden_neurons_1=14, module__n_hidden_neurons_2=35, module__n_in_neurons=14, module__n_out_neurons=1; total time=   1.3s\n",
      "  epoch        RMSE      train_loss      valid_loss     dur\n",
      "-------  ----------  --------------  --------------  ------\n",
      "      1  \u001b[36m15463.8936\u001b[0m  \u001b[32m211496958.6207\u001b[0m  \u001b[35m239132016.2162\u001b[0m  0.0217\n",
      "      2  \u001b[36m15451.1650\u001b[0m  \u001b[32m211338143.4483\u001b[0m  \u001b[35m238738530.8108\u001b[0m  0.0217\n",
      "      3  \u001b[36m15404.1172\u001b[0m  \u001b[32m210636035.5862\u001b[0m  \u001b[35m237286855.3514\u001b[0m  0.0331\n",
      "      4  \u001b[36m15282.8047\u001b[0m  \u001b[32m208727751.7241\u001b[0m  \u001b[35m233564136.8649\u001b[0m  0.0211\n",
      "      5  \u001b[36m15026.7227\u001b[0m  \u001b[32m203760456.0000\u001b[0m  \u001b[35m225802382.4865\u001b[0m  0.0212\n",
      "      6  \u001b[36m14572.5986\u001b[0m  \u001b[32m194781707.5862\u001b[0m  \u001b[35m212360639.1351\u001b[0m  0.0215\n",
      "      7  \u001b[36m13874.2979\u001b[0m  \u001b[32m181152777.7931\u001b[0m  \u001b[35m192496119.3514\u001b[0m  0.0270\n",
      "      8  \u001b[36m12919.0088\u001b[0m  \u001b[32m161632801.5172\u001b[0m  \u001b[35m166900805.6216\u001b[0m  0.0210\n",
      "      9  \u001b[36m11757.6299\u001b[0m  \u001b[32m141070891.6552\u001b[0m  \u001b[35m138241845.2973\u001b[0m  0.0212\n",
      "     10  \u001b[36m10474.5049\u001b[0m  \u001b[32m114049724.0000\u001b[0m  \u001b[35m109715252.3243\u001b[0m  0.0259\n",
      "     11  \u001b[36m9278.3018\u001b[0m  \u001b[32m100215638.1379\u001b[0m  \u001b[35m86086892.9730\u001b[0m  0.0315\n",
      "     12  \u001b[36m8271.1953\u001b[0m  \u001b[32m82130750.0690\u001b[0m  \u001b[35m68412674.2703\u001b[0m  0.0211\n",
      "     13  \u001b[36m7544.3560\u001b[0m  \u001b[32m74163229.1034\u001b[0m  \u001b[35m56917305.2703\u001b[0m  0.0216\n",
      "     14  \u001b[36m6983.0181\u001b[0m  \u001b[32m64760486.4828\u001b[0m  \u001b[35m48762536.2162\u001b[0m  0.0231\n",
      "     15  \u001b[36m6620.9360\u001b[0m  \u001b[32m62957002.5517\u001b[0m  \u001b[35m43836794.9459\u001b[0m  0.0315\n",
      "     16  \u001b[36m6347.7476\u001b[0m  \u001b[32m56858100.4828\u001b[0m  \u001b[35m40293901.0000\u001b[0m  0.0254\n",
      "     17  \u001b[36m6143.5469\u001b[0m  \u001b[32m54943620.6897\u001b[0m  \u001b[35m37743168.0270\u001b[0m  0.0247\n",
      "     18  \u001b[36m6000.5435\u001b[0m  \u001b[32m45278382.8276\u001b[0m  \u001b[35m36006527.2162\u001b[0m  0.0363\n",
      "     19  \u001b[36m5870.8809\u001b[0m  47473172.1379  \u001b[35m34467238.9054\u001b[0m  0.0221\n",
      "     20  \u001b[36m5773.2871\u001b[0m  45831735.0345  \u001b[35m33330838.7432\u001b[0m  0.0227\n",
      "     21  \u001b[36m5700.2109\u001b[0m  49225864.5517  \u001b[35m32492406.2432\u001b[0m  0.0218\n",
      "     22  \u001b[36m5658.6470\u001b[0m  \u001b[32m43278733.6552\u001b[0m  \u001b[35m32020285.6892\u001b[0m  0.0270\n",
      "     23  \u001b[36m5602.1123\u001b[0m  \u001b[32m37904701.6552\u001b[0m  \u001b[35m31383657.3919\u001b[0m  0.0214\n",
      "     24  \u001b[36m5568.3789\u001b[0m  42511308.4828  \u001b[35m31006842.6486\u001b[0m  0.0217\n",
      "     25  \u001b[36m5515.9609\u001b[0m  \u001b[32m37154315.1034\u001b[0m  \u001b[35m30425825.7838\u001b[0m  0.0212\n",
      "     26  \u001b[36m5466.0425\u001b[0m  37169136.0000  \u001b[35m29877620.1892\u001b[0m  0.0329\n",
      "     27  \u001b[36m5431.3877\u001b[0m  \u001b[32m37013855.1034\u001b[0m  \u001b[35m29499970.8649\u001b[0m  0.0215\n",
      "     28  \u001b[36m5399.6650\u001b[0m  \u001b[32m35481982.4828\u001b[0m  \u001b[35m29156377.3514\u001b[0m  0.0295\n",
      "     29  \u001b[36m5359.8696\u001b[0m  \u001b[32m33683223.1034\u001b[0m  \u001b[35m28728200.0811\u001b[0m  0.0314\n",
      "     30  \u001b[36m5336.8657\u001b[0m  35159243.5862  \u001b[35m28482136.7027\u001b[0m  0.0245\n",
      "     31  \u001b[36m5306.7319\u001b[0m  \u001b[32m33021350.6897\u001b[0m  \u001b[35m28161402.8378\u001b[0m  0.0250\n",
      "     32  \u001b[36m5275.9111\u001b[0m  35129516.0000  \u001b[35m27835239.1892\u001b[0m  0.0212\n",
      "     33  \u001b[36m5240.7080\u001b[0m  \u001b[32m30452682.7586\u001b[0m  \u001b[35m27465022.4595\u001b[0m  0.0274\n",
      "     34  \u001b[36m5218.3608\u001b[0m  \u001b[32m27759142.8966\u001b[0m  \u001b[35m27231293.6486\u001b[0m  0.0209\n",
      "     35  \u001b[36m5191.0322\u001b[0m  32301343.2414  \u001b[35m26946817.7568\u001b[0m  0.0208\n",
      "     36  \u001b[36m5175.1748\u001b[0m  34764783.6552  \u001b[35m26782428.9189\u001b[0m  0.0208\n",
      "     37  \u001b[36m5149.6128\u001b[0m  32158830.0690  \u001b[35m26518514.7838\u001b[0m  0.0219\n",
      "     38  \u001b[36m5119.7666\u001b[0m  35701743.7759  \u001b[35m26212008.2432\u001b[0m  0.0220\n",
      "     39  \u001b[36m5108.5630\u001b[0m  30050503.7586  \u001b[35m26097415.3784\u001b[0m  0.0215\n",
      "     40  \u001b[36m5106.6699\u001b[0m  32037106.1379  \u001b[35m26078078.5405\u001b[0m  0.0331\n",
      "     41  \u001b[36m5101.9419\u001b[0m  34936376.6897  \u001b[35m26029811.5946\u001b[0m  0.0219\n",
      "     42  5122.6846  32100021.8621  26241895.9459  0.0219\n",
      "     43  5119.6738  30087534.7241  26211059.2432  0.0224\n",
      "     44  5142.2222  \u001b[32m24742478.5172\u001b[0m  26442448.4054  0.0317\n",
      "     45  5135.7217  25165949.6897  26375633.3243  0.0208\n",
      "Stopping since RMSE has not improved in the last 5 epochs.\n"
     ]
    },
    {
     "data": {
      "text/plain": [
       "RandomizedSearchCV(cv=3,\n",
       "                   estimator=<class 'skorch.regressor.NeuralNetRegressor'>[uninitialized](\n",
       "  module=<class '__main__.Model_improve'>,\n",
       "),\n",
       "                   param_distributions={'batch_size': range(10, 50, 10),\n",
       "                                        'lr': [0.01, 0.001],\n",
       "                                        'max_epochs': [100, 9000, 100],\n",
       "                                        'module__activation': [ReLU()],\n",
       "                                        'module__dropout_1': [0, 0.3],\n",
       "                                        'module__dropout_2': [0, 0.3],\n",
       "                                        'module__n_hidden_neurons_1': [14],\n",
       "                                        'module__n_hidden_neurons_2': [35],\n",
       "                                        'module__n_in_neurons': [14],\n",
       "                                        'module__n_out_neurons': [1]},\n",
       "                   scoring='neg_root_mean_squared_error', verbose=3)"
      ]
     },
     "execution_count": 66,
     "metadata": {},
     "output_type": "execute_result"
    }
   ],
   "source": [
    "grid = RandomizedSearchCV(skorch_regressor, params, cv=3, scoring=\"neg_root_mean_squared_error\", verbose=3) \n",
    "grid.fit(features_train, target_train.reshape(-1,1)) "
   ]
  },
  {
   "cell_type": "markdown",
   "id": "3fbdd92e",
   "metadata": {},
   "source": [
    "Посмотрим на наилучшие параметры и лучшую модель."
   ]
  },
  {
   "cell_type": "code",
   "execution_count": 67,
   "id": "20ef6db2",
   "metadata": {},
   "outputs": [
    {
     "name": "stdout",
     "output_type": "stream",
     "text": [
      "-5163.845052083333 {'module__n_out_neurons': 1, 'module__n_in_neurons': 14, 'module__n_hidden_neurons_2': 35, 'module__n_hidden_neurons_1': 14, 'module__dropout_2': 0.3, 'module__dropout_1': 0, 'module__activation': ReLU(), 'max_epochs': 9000, 'lr': 0.01, 'batch_size': 10} <class 'skorch.regressor.NeuralNetRegressor'>[initialized](\n",
      "  module_=Model_improve(\n",
      "    (fc1): Linear(in_features=14, out_features=14, bias=True)\n",
      "    (dp1): Dropout(p=0, inplace=False)\n",
      "    (act1): ReLU()\n",
      "    (fc2): Linear(in_features=14, out_features=35, bias=True)\n",
      "    (dp2): Dropout(p=0.3, inplace=False)\n",
      "    (act2): ReLU()\n",
      "    (fc3): Linear(in_features=35, out_features=1, bias=True)\n",
      "  ),\n",
      ")\n"
     ]
    }
   ],
   "source": [
    "print(grid.best_score_, grid.best_params_, grid.best_estimator_)"
   ]
  },
  {
   "cell_type": "markdown",
   "id": "4dbdf3c5",
   "metadata": {},
   "source": [
    "Протестируем модель, используя параметры лучшей модели и посмотрим какова метрика RMSE:"
   ]
  },
  {
   "cell_type": "code",
   "execution_count": 68,
   "id": "ddfa100f",
   "metadata": {},
   "outputs": [],
   "source": [
    "rmse_better = rmse(target_test, grid.predict(features_test))"
   ]
  },
  {
   "cell_type": "code",
   "execution_count": 69,
   "id": "8ec0aae3",
   "metadata": {
    "scrolled": true
   },
   "outputs": [
    {
     "data": {
      "text/plain": [
       "'RMSE улучшенной модели 4450.28173828125'"
      ]
     },
     "metadata": {},
     "output_type": "display_data"
    }
   ],
   "source": [
    "display(f'RMSE улучшенной модели {rmse_better}')"
   ]
  },
  {
   "cell_type": "markdown",
   "id": "5f22a86a",
   "metadata": {},
   "source": [
    "Построим график фактических значений температур звезд и предсказанных:"
   ]
  },
  {
   "cell_type": "code",
   "execution_count": 70,
   "id": "dcda42da",
   "metadata": {},
   "outputs": [],
   "source": [
    "new_test_preds = grid.best_estimator_.forward(features_test)\n",
    "\n",
    "preds = np.asarray(list(itertools.chain.from_iterable(new_test_preds.numpy())))\n",
    "fact = list(target_test.numpy())"
   ]
  },
  {
   "cell_type": "code",
   "execution_count": 71,
   "id": "f89b3f13",
   "metadata": {},
   "outputs": [
    {
     "data": {
      "image/png": "[encoded data removed]",
      "text/plain": [
       "<Figure size 1800x504 with 1 Axes>"
      ]
     },
     "metadata": {
      "needs_background": "light"
     },
     "output_type": "display_data"
    }
   ],
   "source": [
    "grafic(test_preds, target_test)"
   ]
  },
  {
   "cell_type": "code",
   "execution_count": 72,
   "id": "c8d784ff",
   "metadata": {},
   "outputs": [
    {
     "data": {
      "text/plain": [
       "'RMSE улучшилось на 472'"
      ]
     },
     "metadata": {},
     "output_type": "display_data"
    }
   ],
   "source": [
    "display(f'RMSE улучшилось на {int(rmse_first - rmse_better)}')"
   ]
  },
  {
   "cell_type": "markdown",
   "id": "0ebb6831",
   "metadata": {},
   "source": [
    "Сравним две полученные модели:"
   ]
  },
  {
   "cell_type": "code",
   "execution_count": 78,
   "id": "3ff411ed",
   "metadata": {},
   "outputs": [],
   "source": [
    "data_comparison = pd.DataFrame([['Количество скрытых слоев', '2', '2'],\n",
    "                                ['Количество нейронов на входе', '14','14'],\n",
    "                                ['Количество нейронов 1слоя', '14', '14'],\n",
    "                                ['Количество нейронов 2 слоя', '35', '35'],\n",
    "                                ['Количество нейронов на выходе', '1', '1'],\n",
    "                                ['Функция активации 1 слоя', 'ReLU', 'ReLU'],\n",
    "                                ['Функция активации 2 слоя', 'ReLU', 'ReLU'],\n",
    "                                ['dropout_1', '-', '0'],\n",
    "                                ['dropout_2', '-', '0.3'],\n",
    "                                ['Размер шага (lr)', '0.001', '0.01'],\n",
    "                                ['Размер батча (batch_size)', '-', '10'],\n",
    "                                ['Количество эпох', '2500', '9000'],\n",
    "                                ['loss', 'MSELoss', 'MSELoss'],\n",
    "                                ['optimizer', 'Adam', 'Adam'],\n",
    "                                ['RMSE', rmse_first, rmse_better]],\n",
    "                                columns=['Модель', 'Базовая', 'Улучшенная'])"
   ]
  },
  {
   "cell_type": "code",
   "execution_count": 79,
   "id": "5a39979d",
   "metadata": {},
   "outputs": [
    {
     "data": {
      "text/html": [
       "<div>\n",
       "<style scoped>\n",
       "    .dataframe tbody tr th:only-of-type {\n",
       "        vertical-align: middle;\n",
       "    }\n",
       "\n",
       "    .dataframe tbody tr th {\n",
       "        vertical-align: top;\n",
       "    }\n",
       "\n",
       "    .dataframe thead th {\n",
       "        text-align: right;\n",
       "    }\n",
       "</style>\n",
       "<table border=\"1\" class=\"dataframe\">\n",
       "  <thead>\n",
       "    <tr style=\"text-align: right;\">\n",
       "      <th></th>\n",
       "      <th>Модель</th>\n",
       "      <th>Базовая</th>\n",
       "      <th>Улучшенная</th>\n",
       "    </tr>\n",
       "  </thead>\n",
       "  <tbody>\n",
       "    <tr>\n",
       "      <th>0</th>\n",
       "      <td>Количество скрытых слоев</td>\n",
       "      <td>2</td>\n",
       "      <td>2</td>\n",
       "    </tr>\n",
       "    <tr>\n",
       "      <th>1</th>\n",
       "      <td>Количество нейронов на входе</td>\n",
       "      <td>14</td>\n",
       "      <td>14</td>\n",
       "    </tr>\n",
       "    <tr>\n",
       "      <th>2</th>\n",
       "      <td>Количество нейронов 1слоя</td>\n",
       "      <td>14</td>\n",
       "      <td>14</td>\n",
       "    </tr>\n",
       "    <tr>\n",
       "      <th>3</th>\n",
       "      <td>Количество нейронов 2 слоя</td>\n",
       "      <td>35</td>\n",
       "      <td>35</td>\n",
       "    </tr>\n",
       "    <tr>\n",
       "      <th>4</th>\n",
       "      <td>Количество нейронов на выходе</td>\n",
       "      <td>1</td>\n",
       "      <td>1</td>\n",
       "    </tr>\n",
       "    <tr>\n",
       "      <th>5</th>\n",
       "      <td>Функция активации 1 слоя</td>\n",
       "      <td>ReLU</td>\n",
       "      <td>ReLU</td>\n",
       "    </tr>\n",
       "    <tr>\n",
       "      <th>6</th>\n",
       "      <td>Функция активации 2 слоя</td>\n",
       "      <td>ReLU</td>\n",
       "      <td>ReLU</td>\n",
       "    </tr>\n",
       "    <tr>\n",
       "      <th>7</th>\n",
       "      <td>dropout_1</td>\n",
       "      <td>-</td>\n",
       "      <td>0</td>\n",
       "    </tr>\n",
       "    <tr>\n",
       "      <th>8</th>\n",
       "      <td>dropout_2</td>\n",
       "      <td>-</td>\n",
       "      <td>0.3</td>\n",
       "    </tr>\n",
       "    <tr>\n",
       "      <th>9</th>\n",
       "      <td>Размер шага (lr)</td>\n",
       "      <td>0.001</td>\n",
       "      <td>0.01</td>\n",
       "    </tr>\n",
       "    <tr>\n",
       "      <th>10</th>\n",
       "      <td>Размер батча (batch_size)</td>\n",
       "      <td>-</td>\n",
       "      <td>10</td>\n",
       "    </tr>\n",
       "    <tr>\n",
       "      <th>11</th>\n",
       "      <td>Количество эпох</td>\n",
       "      <td>2500</td>\n",
       "      <td>9000</td>\n",
       "    </tr>\n",
       "    <tr>\n",
       "      <th>12</th>\n",
       "      <td>loss</td>\n",
       "      <td>MSELoss</td>\n",
       "      <td>MSELoss</td>\n",
       "    </tr>\n",
       "    <tr>\n",
       "      <th>13</th>\n",
       "      <td>optimizer</td>\n",
       "      <td>Adam</td>\n",
       "      <td>Adam</td>\n",
       "    </tr>\n",
       "    <tr>\n",
       "      <th>14</th>\n",
       "      <td>RMSE</td>\n",
       "      <td>4922.956055</td>\n",
       "      <td>4450.281738</td>\n",
       "    </tr>\n",
       "  </tbody>\n",
       "</table>\n",
       "</div>"
      ],
      "text/plain": [
       "                           Модель      Базовая   Улучшенная\n",
       "0        Количество скрытых слоев            2            2\n",
       "1    Количество нейронов на входе           14           14\n",
       "2       Количество нейронов 1слоя           14           14\n",
       "3      Количество нейронов 2 слоя           35           35\n",
       "4   Количество нейронов на выходе            1            1\n",
       "5        Функция активации 1 слоя         ReLU         ReLU\n",
       "6        Функция активации 2 слоя         ReLU         ReLU\n",
       "7                       dropout_1            -            0\n",
       "8                       dropout_2            -          0.3\n",
       "9                Размер шага (lr)        0.001         0.01\n",
       "10      Размер батча (batch_size)            -           10\n",
       "11                Количество эпох         2500         9000\n",
       "12                           loss      MSELoss      MSELoss\n",
       "13                      optimizer         Adam         Adam\n",
       "14                           RMSE  4922.956055  4450.281738"
      ]
     },
     "execution_count": 79,
     "metadata": {},
     "output_type": "execute_result"
    }
   ],
   "source": [
    "data_comparison"
   ]
  },
  {
   "cell_type": "markdown",
   "id": "87c4e746",
   "metadata": {},
   "source": [
    "Были подобраны лучшие параметры для нейросети, используя связку scorch и RandomizedSearchCV. Согласно условию задачи исследования, архитектура нейронной сети (количество слоёв, нейронов, вид функции активации) осталась такой же, как в базовой модели. Полученный результат свели для наглядности в одну таблицу. Улучшение RMSE - 472."
   ]
  },
  {
   "cell_type": "markdown",
   "id": "017bab39",
   "metadata": {},
   "source": [
    "## Выводы"
   ]
  },
  {
   "cell_type": "markdown",
   "id": "5606cfdd",
   "metadata": {},
   "source": [
    "Целью проекта была необходимость определить с помощью нейросети температуру на поверхности обнаруженных звёзд. В ходе исследования не были обнаружены пропущенные значения, дубликаты, но были очищены данные от излишних цветов. Выявленные выбросы решено было оставить из-за сильного уменьшения размера выборки в случае их удаления.\n",
    "\n",
    "Использование dropout, подбора параметров в ходе улучшения сети, помогли добиться лучших результатов. Улучшенную модель можно считать более эффективной по сравнению с базовой. Метрика RMSE базовой модели составила 4923, улучшенной - 4450, что соответствует задаче исследования. Удалось добиться снижения RMSE на 472. На небольших температурах предсказание нейросети имеет самую малую разницу относительно реальных данных."
   ]
  }
 ],
 "metadata": {
  "ExecuteTimeLog": [
   {
    "duration": 372,
    "start_time": "2022-09-11T13:18:37.325Z"
   },
   {
    "duration": 101,
    "start_time": "2022-09-11T13:19:11.729Z"
   },
   {
    "duration": 7,
    "start_time": "2022-09-11T13:19:12.166Z"
   },
   {
    "duration": 69,
    "start_time": "2022-09-11T13:19:29.996Z"
   },
   {
    "duration": 16,
    "start_time": "2022-09-11T13:19:31.860Z"
   },
   {
    "duration": 35,
    "start_time": "2022-09-11T13:25:26.071Z"
   },
   {
    "duration": 3,
    "start_time": "2022-09-11T13:48:18.000Z"
   },
   {
    "duration": 27,
    "start_time": "2022-09-11T13:48:18.523Z"
   },
   {
    "duration": 9,
    "start_time": "2022-09-11T13:48:19.011Z"
   },
   {
    "duration": 31,
    "start_time": "2022-09-11T13:48:21.003Z"
   },
   {
    "duration": 43,
    "start_time": "2022-09-11T13:50:20.283Z"
   },
   {
    "duration": 9,
    "start_time": "2022-09-11T15:05:52.049Z"
   },
   {
    "duration": 13,
    "start_time": "2022-09-11T15:06:22.976Z"
   },
   {
    "duration": 14,
    "start_time": "2022-09-11T15:06:24.407Z"
   },
   {
    "duration": 2,
    "start_time": "2022-09-11T15:06:41.840Z"
   },
   {
    "duration": 26,
    "start_time": "2022-09-11T15:06:42.285Z"
   },
   {
    "duration": 10,
    "start_time": "2022-09-11T15:06:42.667Z"
   },
   {
    "duration": 13,
    "start_time": "2022-09-11T15:06:44.274Z"
   },
   {
    "duration": 9,
    "start_time": "2022-09-11T15:06:45.850Z"
   },
   {
    "duration": 6,
    "start_time": "2022-09-11T15:06:46.794Z"
   },
   {
    "duration": 19,
    "start_time": "2022-09-11T15:06:53.543Z"
   },
   {
    "duration": 496,
    "start_time": "2022-09-11T15:14:24.205Z"
   },
   {
    "duration": 133,
    "start_time": "2022-09-11T15:15:35.814Z"
   },
   {
    "duration": 6,
    "start_time": "2022-09-11T15:17:18.213Z"
   },
   {
    "duration": 3,
    "start_time": "2022-09-11T15:22:18.101Z"
   },
   {
    "duration": 4,
    "start_time": "2022-09-11T15:22:53.202Z"
   },
   {
    "duration": 154,
    "start_time": "2022-09-11T15:26:38.967Z"
   },
   {
    "duration": 86,
    "start_time": "2022-09-11T15:26:49.474Z"
   },
   {
    "duration": 18,
    "start_time": "2022-09-11T15:27:01.459Z"
   },
   {
    "duration": 8,
    "start_time": "2022-09-11T15:27:10.840Z"
   },
   {
    "duration": 69,
    "start_time": "2022-09-11T15:28:40.759Z"
   },
   {
    "duration": 15,
    "start_time": "2022-09-11T15:29:00.896Z"
   },
   {
    "duration": 8,
    "start_time": "2022-09-11T15:29:18.588Z"
   },
   {
    "duration": 8,
    "start_time": "2022-09-11T15:34:25.283Z"
   },
   {
    "duration": 8,
    "start_time": "2022-09-11T15:34:44.873Z"
   },
   {
    "duration": 3,
    "start_time": "2022-09-11T15:34:54.207Z"
   },
   {
    "duration": 5,
    "start_time": "2022-09-11T15:34:56.958Z"
   },
   {
    "duration": 4,
    "start_time": "2022-09-11T15:37:17.500Z"
   },
   {
    "duration": 5,
    "start_time": "2022-09-11T15:37:20.468Z"
   },
   {
    "duration": 3,
    "start_time": "2022-09-11T15:38:31.622Z"
   },
   {
    "duration": 5,
    "start_time": "2022-09-11T15:38:41.194Z"
   },
   {
    "duration": 5,
    "start_time": "2022-09-11T15:39:03.700Z"
   },
   {
    "duration": 6,
    "start_time": "2022-09-11T15:39:04.193Z"
   },
   {
    "duration": 6,
    "start_time": "2022-09-11T15:39:16.784Z"
   },
   {
    "duration": 358,
    "start_time": "2022-09-11T15:39:24.772Z"
   },
   {
    "duration": 26,
    "start_time": "2022-09-11T15:39:25.134Z"
   },
   {
    "duration": 15,
    "start_time": "2022-09-11T15:39:25.485Z"
   },
   {
    "duration": 16,
    "start_time": "2022-09-11T15:39:26.444Z"
   },
   {
    "duration": 10,
    "start_time": "2022-09-11T15:39:27.393Z"
   },
   {
    "duration": 19,
    "start_time": "2022-09-11T15:39:27.797Z"
   },
   {
    "duration": 4,
    "start_time": "2022-09-11T15:39:28.305Z"
   },
   {
    "duration": 3,
    "start_time": "2022-09-11T15:39:29.352Z"
   },
   {
    "duration": 5,
    "start_time": "2022-09-11T15:39:29.853Z"
   },
   {
    "duration": 4,
    "start_time": "2022-09-11T15:39:31.157Z"
   },
   {
    "duration": 5,
    "start_time": "2022-09-11T15:39:31.781Z"
   },
   {
    "duration": 5,
    "start_time": "2022-09-11T15:39:37.259Z"
   },
   {
    "duration": 3,
    "start_time": "2022-09-11T15:41:00.074Z"
   },
   {
    "duration": 6,
    "start_time": "2022-09-11T15:41:00.817Z"
   },
   {
    "duration": 6,
    "start_time": "2022-09-11T15:43:20.977Z"
   },
   {
    "duration": 5,
    "start_time": "2022-09-11T15:43:21.504Z"
   },
   {
    "duration": 3,
    "start_time": "2022-09-11T15:43:22.231Z"
   },
   {
    "duration": 6,
    "start_time": "2022-09-11T15:43:23.553Z"
   },
   {
    "duration": 382,
    "start_time": "2022-09-11T15:43:35.123Z"
   },
   {
    "duration": 26,
    "start_time": "2022-09-11T15:43:35.508Z"
   },
   {
    "duration": 15,
    "start_time": "2022-09-11T15:43:35.536Z"
   },
   {
    "duration": 16,
    "start_time": "2022-09-11T15:43:35.553Z"
   },
   {
    "duration": 9,
    "start_time": "2022-09-11T15:43:35.570Z"
   },
   {
    "duration": 21,
    "start_time": "2022-09-11T15:43:35.580Z"
   },
   {
    "duration": 4,
    "start_time": "2022-09-11T15:43:35.602Z"
   },
   {
    "duration": 10,
    "start_time": "2022-09-11T15:43:35.608Z"
   },
   {
    "duration": 7,
    "start_time": "2022-09-11T15:43:35.620Z"
   },
   {
    "duration": 10,
    "start_time": "2022-09-11T15:43:35.628Z"
   },
   {
    "duration": 7,
    "start_time": "2022-09-11T15:43:35.639Z"
   },
   {
    "duration": 11,
    "start_time": "2022-09-11T15:43:35.648Z"
   },
   {
    "duration": 8,
    "start_time": "2022-09-11T15:43:35.660Z"
   },
   {
    "duration": 5,
    "start_time": "2022-09-11T15:57:13.181Z"
   },
   {
    "duration": 6,
    "start_time": "2022-09-11T15:57:39.852Z"
   },
   {
    "duration": 399,
    "start_time": "2022-09-11T16:00:32.093Z"
   },
   {
    "duration": 160,
    "start_time": "2022-09-11T16:00:44.589Z"
   },
   {
    "duration": 2,
    "start_time": "2022-09-11T16:01:20.954Z"
   },
   {
    "duration": 87,
    "start_time": "2022-09-11T16:03:15.167Z"
   },
   {
    "duration": 7,
    "start_time": "2022-09-11T16:07:33.959Z"
   },
   {
    "duration": 210,
    "start_time": "2022-09-11T16:07:40.233Z"
   },
   {
    "duration": 126,
    "start_time": "2022-09-11T16:08:14.787Z"
   },
   {
    "duration": 7,
    "start_time": "2022-09-11T16:14:17.680Z"
   },
   {
    "duration": 7,
    "start_time": "2022-09-11T16:14:36.546Z"
   },
   {
    "duration": 139,
    "start_time": "2022-09-11T16:17:55.497Z"
   },
   {
    "duration": 154,
    "start_time": "2022-09-11T16:18:20.420Z"
   },
   {
    "duration": 197,
    "start_time": "2022-09-11T16:18:42.535Z"
   },
   {
    "duration": 5,
    "start_time": "2022-09-11T16:53:56.990Z"
   },
   {
    "duration": 6,
    "start_time": "2022-09-11T16:56:29.755Z"
   },
   {
    "duration": 7,
    "start_time": "2022-09-11T16:58:44.137Z"
   },
   {
    "duration": 7,
    "start_time": "2022-09-11T16:58:56.986Z"
   },
   {
    "duration": 6,
    "start_time": "2022-09-11T16:59:18.596Z"
   },
   {
    "duration": 8,
    "start_time": "2022-09-11T17:15:07.665Z"
   },
   {
    "duration": 15,
    "start_time": "2022-09-11T17:15:21.569Z"
   },
   {
    "duration": 8,
    "start_time": "2022-09-11T17:15:36.506Z"
   },
   {
    "duration": 14,
    "start_time": "2022-09-11T17:16:04.258Z"
   },
   {
    "duration": 23,
    "start_time": "2022-09-11T17:16:52.171Z"
   },
   {
    "duration": 9,
    "start_time": "2022-09-11T17:17:14.972Z"
   },
   {
    "duration": 30,
    "start_time": "2022-09-11T17:17:24.373Z"
   },
   {
    "duration": 8,
    "start_time": "2022-09-11T17:17:49.574Z"
   },
   {
    "duration": 9,
    "start_time": "2022-09-11T17:19:37.604Z"
   },
   {
    "duration": 25,
    "start_time": "2022-09-11T17:19:56.358Z"
   },
   {
    "duration": 28,
    "start_time": "2022-09-11T17:20:56.367Z"
   },
   {
    "duration": 15,
    "start_time": "2022-09-11T17:21:35.892Z"
   },
   {
    "duration": 16,
    "start_time": "2022-09-11T17:23:00.166Z"
   },
   {
    "duration": 3,
    "start_time": "2022-09-11T17:40:29.022Z"
   },
   {
    "duration": 5,
    "start_time": "2022-09-11T17:41:20.043Z"
   },
   {
    "duration": 116,
    "start_time": "2022-09-11T17:42:05.726Z"
   },
   {
    "duration": 118,
    "start_time": "2022-09-11T17:42:38.763Z"
   },
   {
    "duration": 4,
    "start_time": "2022-09-11T17:50:09.913Z"
   },
   {
    "duration": 115,
    "start_time": "2022-09-11T17:50:30.913Z"
   },
   {
    "duration": 7,
    "start_time": "2022-09-11T17:54:53.931Z"
   },
   {
    "duration": 136,
    "start_time": "2022-09-11T17:54:55.002Z"
   },
   {
    "duration": 124,
    "start_time": "2022-09-11T17:55:32.831Z"
   },
   {
    "duration": 5,
    "start_time": "2022-09-11T17:55:53.666Z"
   },
   {
    "duration": 119,
    "start_time": "2022-09-11T17:55:54.394Z"
   },
   {
    "duration": 5,
    "start_time": "2022-09-11T17:56:02.311Z"
   },
   {
    "duration": 131,
    "start_time": "2022-09-11T17:56:03.278Z"
   },
   {
    "duration": 8,
    "start_time": "2022-09-11T18:04:17.392Z"
   },
   {
    "duration": 10,
    "start_time": "2022-09-11T18:04:27.227Z"
   },
   {
    "duration": 8,
    "start_time": "2022-09-11T18:05:10.790Z"
   },
   {
    "duration": 502,
    "start_time": "2022-09-11T18:05:32.705Z"
   },
   {
    "duration": 337,
    "start_time": "2022-09-11T18:05:39.858Z"
   },
   {
    "duration": 78,
    "start_time": "2022-09-11T18:09:43.843Z"
   },
   {
    "duration": 104,
    "start_time": "2022-09-11T18:23:14.937Z"
   },
   {
    "duration": 5,
    "start_time": "2022-09-11T18:27:49.022Z"
   },
   {
    "duration": 3,
    "start_time": "2022-09-11T18:29:05.178Z"
   },
   {
    "duration": 7,
    "start_time": "2022-09-11T18:29:31.913Z"
   },
   {
    "duration": 17,
    "start_time": "2022-09-11T18:29:46.897Z"
   },
   {
    "duration": 1046,
    "start_time": "2022-09-11T18:30:09.248Z"
   },
   {
    "duration": 27,
    "start_time": "2022-09-11T18:30:10.296Z"
   },
   {
    "duration": 12,
    "start_time": "2022-09-11T18:30:10.325Z"
   },
   {
    "duration": 37,
    "start_time": "2022-09-11T18:30:10.338Z"
   },
   {
    "duration": 19,
    "start_time": "2022-09-11T18:30:10.377Z"
   },
   {
    "duration": 32,
    "start_time": "2022-09-11T18:30:10.398Z"
   },
   {
    "duration": 18,
    "start_time": "2022-09-11T18:30:10.431Z"
   },
   {
    "duration": 26,
    "start_time": "2022-09-11T18:30:10.451Z"
   },
   {
    "duration": 26,
    "start_time": "2022-09-11T18:30:10.478Z"
   },
   {
    "duration": 39,
    "start_time": "2022-09-11T18:30:10.506Z"
   },
   {
    "duration": 20,
    "start_time": "2022-09-11T18:30:10.546Z"
   },
   {
    "duration": 20,
    "start_time": "2022-09-11T18:30:10.568Z"
   },
   {
    "duration": 25,
    "start_time": "2022-09-11T18:30:10.589Z"
   },
   {
    "duration": 17,
    "start_time": "2022-09-11T18:30:10.617Z"
   },
   {
    "duration": 140,
    "start_time": "2022-09-11T18:30:10.636Z"
   },
   {
    "duration": 138,
    "start_time": "2022-09-11T18:30:10.778Z"
   },
   {
    "duration": 133,
    "start_time": "2022-09-11T18:30:10.918Z"
   },
   {
    "duration": 126,
    "start_time": "2022-09-11T18:30:11.053Z"
   },
   {
    "duration": 29,
    "start_time": "2022-09-11T18:30:11.180Z"
   },
   {
    "duration": 3,
    "start_time": "2022-09-11T18:30:11.211Z"
   },
   {
    "duration": 21,
    "start_time": "2022-09-11T18:30:11.215Z"
   },
   {
    "duration": 36,
    "start_time": "2022-09-11T18:30:11.238Z"
   },
   {
    "duration": 11,
    "start_time": "2022-09-11T18:30:11.276Z"
   },
   {
    "duration": 26,
    "start_time": "2022-09-11T18:30:11.289Z"
   },
   {
    "duration": 354,
    "start_time": "2022-09-11T18:30:11.316Z"
   },
   {
    "duration": 111,
    "start_time": "2022-09-11T18:30:11.671Z"
   },
   {
    "duration": 3,
    "start_time": "2022-09-11T18:35:06.918Z"
   },
   {
    "duration": 5,
    "start_time": "2022-09-11T18:35:07.433Z"
   },
   {
    "duration": 12,
    "start_time": "2022-09-11T18:35:08.154Z"
   },
   {
    "duration": 9,
    "start_time": "2022-09-11T18:35:20.297Z"
   },
   {
    "duration": 360,
    "start_time": "2022-09-11T18:35:24.768Z"
   },
   {
    "duration": 9,
    "start_time": "2022-09-11T18:35:37.378Z"
   },
   {
    "duration": 425,
    "start_time": "2022-09-11T18:35:48.250Z"
   },
   {
    "duration": 15,
    "start_time": "2022-09-11T18:37:24.502Z"
   },
   {
    "duration": 10,
    "start_time": "2022-09-11T18:37:29.051Z"
   },
   {
    "duration": 1512,
    "start_time": "2022-09-12T07:46:45.710Z"
   },
   {
    "duration": 3,
    "start_time": "2022-09-12T07:47:17.597Z"
   },
   {
    "duration": 3,
    "start_time": "2022-09-12T07:47:22.788Z"
   },
   {
    "duration": 121,
    "start_time": "2022-09-12T07:50:57.900Z"
   },
   {
    "duration": 5,
    "start_time": "2022-09-12T07:51:25.816Z"
   },
   {
    "duration": 77,
    "start_time": "2022-09-12T07:51:25.823Z"
   },
   {
    "duration": 17,
    "start_time": "2022-09-12T07:51:25.902Z"
   },
   {
    "duration": 21,
    "start_time": "2022-09-12T07:51:25.921Z"
   },
   {
    "duration": 11,
    "start_time": "2022-09-12T07:51:25.944Z"
   },
   {
    "duration": 26,
    "start_time": "2022-09-12T07:51:25.957Z"
   },
   {
    "duration": 5,
    "start_time": "2022-09-12T07:51:25.985Z"
   },
   {
    "duration": 29,
    "start_time": "2022-09-12T07:51:25.991Z"
   },
   {
    "duration": 12,
    "start_time": "2022-09-12T07:51:26.022Z"
   },
   {
    "duration": 8,
    "start_time": "2022-09-12T07:51:26.036Z"
   },
   {
    "duration": 12,
    "start_time": "2022-09-12T07:51:26.048Z"
   },
   {
    "duration": 8,
    "start_time": "2022-09-12T07:51:26.061Z"
   },
   {
    "duration": 8,
    "start_time": "2022-09-12T07:51:26.070Z"
   },
   {
    "duration": 6,
    "start_time": "2022-09-12T07:51:26.080Z"
   },
   {
    "duration": 163,
    "start_time": "2022-09-12T07:51:26.088Z"
   },
   {
    "duration": 175,
    "start_time": "2022-09-12T07:51:26.252Z"
   },
   {
    "duration": 141,
    "start_time": "2022-09-12T07:51:26.429Z"
   },
   {
    "duration": 127,
    "start_time": "2022-09-12T07:51:26.572Z"
   },
   {
    "duration": 3,
    "start_time": "2022-09-12T07:51:26.701Z"
   },
   {
    "duration": 25,
    "start_time": "2022-09-12T07:51:26.705Z"
   },
   {
    "duration": 3,
    "start_time": "2022-09-12T07:51:26.732Z"
   },
   {
    "duration": 13,
    "start_time": "2022-09-12T07:51:26.737Z"
   },
   {
    "duration": 21,
    "start_time": "2022-09-12T07:51:26.751Z"
   },
   {
    "duration": 14,
    "start_time": "2022-09-12T07:51:26.773Z"
   },
   {
    "duration": 634,
    "start_time": "2022-09-12T07:51:26.789Z"
   },
   {
    "duration": 130,
    "start_time": "2022-09-12T07:51:27.425Z"
   },
   {
    "duration": 6,
    "start_time": "2022-09-12T07:51:27.557Z"
   },
   {
    "duration": 10,
    "start_time": "2022-09-12T07:53:11.667Z"
   },
   {
    "duration": 11,
    "start_time": "2022-09-12T07:55:37.420Z"
   },
   {
    "duration": 5,
    "start_time": "2022-09-12T07:57:53.191Z"
   },
   {
    "duration": 3,
    "start_time": "2022-09-12T07:57:53.597Z"
   },
   {
    "duration": 4,
    "start_time": "2022-09-12T07:58:16.488Z"
   },
   {
    "duration": 3,
    "start_time": "2022-09-12T07:58:27.926Z"
   },
   {
    "duration": 11,
    "start_time": "2022-09-12T07:58:37.521Z"
   },
   {
    "duration": 5,
    "start_time": "2022-09-12T07:58:39.886Z"
   },
   {
    "duration": 6,
    "start_time": "2022-09-12T07:58:41.489Z"
   },
   {
    "duration": 4,
    "start_time": "2022-09-12T07:58:42.028Z"
   },
   {
    "duration": 4,
    "start_time": "2022-09-12T07:58:45.797Z"
   },
   {
    "duration": 4,
    "start_time": "2022-09-12T07:58:46.691Z"
   },
   {
    "duration": 11,
    "start_time": "2022-09-12T08:08:52.079Z"
   },
   {
    "duration": 3,
    "start_time": "2022-09-12T08:08:58.150Z"
   },
   {
    "duration": 8,
    "start_time": "2022-09-12T08:09:06.575Z"
   },
   {
    "duration": 18,
    "start_time": "2022-09-12T08:09:09.891Z"
   },
   {
    "duration": 19,
    "start_time": "2022-09-12T08:09:28.119Z"
   },
   {
    "duration": 11,
    "start_time": "2022-09-12T08:09:41.205Z"
   },
   {
    "duration": 4,
    "start_time": "2022-09-12T08:09:43.049Z"
   },
   {
    "duration": 10,
    "start_time": "2022-09-12T08:09:45.273Z"
   },
   {
    "duration": 3,
    "start_time": "2022-09-12T08:10:19.360Z"
   },
   {
    "duration": 29,
    "start_time": "2022-09-12T08:10:19.366Z"
   },
   {
    "duration": 9,
    "start_time": "2022-09-12T08:10:19.396Z"
   },
   {
    "duration": 18,
    "start_time": "2022-09-12T08:10:19.406Z"
   },
   {
    "duration": 16,
    "start_time": "2022-09-12T08:10:19.426Z"
   },
   {
    "duration": 22,
    "start_time": "2022-09-12T08:10:19.444Z"
   },
   {
    "duration": 5,
    "start_time": "2022-09-12T08:10:19.467Z"
   },
   {
    "duration": 5,
    "start_time": "2022-09-12T08:10:19.473Z"
   },
   {
    "duration": 7,
    "start_time": "2022-09-12T08:10:19.480Z"
   },
   {
    "duration": 5,
    "start_time": "2022-09-12T08:10:19.509Z"
   },
   {
    "duration": 21,
    "start_time": "2022-09-12T08:10:19.516Z"
   },
   {
    "duration": 6,
    "start_time": "2022-09-12T08:10:19.538Z"
   },
   {
    "duration": 7,
    "start_time": "2022-09-12T08:10:19.547Z"
   },
   {
    "duration": 8,
    "start_time": "2022-09-12T08:10:19.555Z"
   },
   {
    "duration": 125,
    "start_time": "2022-09-12T08:10:19.564Z"
   },
   {
    "duration": 141,
    "start_time": "2022-09-12T08:10:19.691Z"
   },
   {
    "duration": 135,
    "start_time": "2022-09-12T08:10:19.833Z"
   },
   {
    "duration": 141,
    "start_time": "2022-09-12T08:10:19.971Z"
   },
   {
    "duration": 3,
    "start_time": "2022-09-12T08:10:20.113Z"
   },
   {
    "duration": 10,
    "start_time": "2022-09-12T08:10:20.117Z"
   },
   {
    "duration": 9,
    "start_time": "2022-09-12T08:10:20.128Z"
   },
   {
    "duration": 14,
    "start_time": "2022-09-12T08:10:20.138Z"
   },
   {
    "duration": 13,
    "start_time": "2022-09-12T08:10:20.153Z"
   },
   {
    "duration": 18,
    "start_time": "2022-09-12T08:10:20.168Z"
   },
   {
    "duration": 475,
    "start_time": "2022-09-12T08:10:20.187Z"
   },
   {
    "duration": 118,
    "start_time": "2022-09-12T08:10:20.664Z"
   },
   {
    "duration": 10,
    "start_time": "2022-09-12T08:10:20.783Z"
   },
   {
    "duration": 23,
    "start_time": "2022-09-12T08:10:20.794Z"
   },
   {
    "duration": 12,
    "start_time": "2022-09-12T08:10:20.818Z"
   },
   {
    "duration": 10,
    "start_time": "2022-09-12T08:10:20.831Z"
   },
   {
    "duration": 15,
    "start_time": "2022-09-12T08:10:20.843Z"
   },
   {
    "duration": 15,
    "start_time": "2022-09-12T08:10:20.860Z"
   },
   {
    "duration": 9,
    "start_time": "2022-09-12T08:10:20.877Z"
   },
   {
    "duration": 10,
    "start_time": "2022-09-12T08:10:20.888Z"
   },
   {
    "duration": 23,
    "start_time": "2022-09-12T08:10:20.899Z"
   },
   {
    "duration": 29,
    "start_time": "2022-09-12T08:10:20.924Z"
   },
   {
    "duration": 16,
    "start_time": "2022-09-12T08:10:20.957Z"
   },
   {
    "duration": 13,
    "start_time": "2022-09-12T08:10:20.975Z"
   },
   {
    "duration": 13,
    "start_time": "2022-09-12T08:10:21.010Z"
   },
   {
    "duration": 17,
    "start_time": "2022-09-12T08:10:21.025Z"
   },
   {
    "duration": 8,
    "start_time": "2022-09-12T08:10:21.043Z"
   },
   {
    "duration": 7,
    "start_time": "2022-09-12T08:10:21.053Z"
   },
   {
    "duration": 21,
    "start_time": "2022-09-12T08:12:19.826Z"
   },
   {
    "duration": 19,
    "start_time": "2022-09-12T08:12:21.316Z"
   },
   {
    "duration": 499,
    "start_time": "2022-09-12T08:17:42.973Z"
   },
   {
    "duration": 5,
    "start_time": "2022-09-12T08:19:25.320Z"
   },
   {
    "duration": 4,
    "start_time": "2022-09-12T09:23:20.290Z"
   },
   {
    "duration": 4,
    "start_time": "2022-09-12T09:23:20.766Z"
   },
   {
    "duration": 61,
    "start_time": "2022-09-12T09:23:21.276Z"
   },
   {
    "duration": 4,
    "start_time": "2022-09-12T10:42:36.525Z"
   },
   {
    "duration": 36,
    "start_time": "2022-09-12T10:42:36.531Z"
   },
   {
    "duration": 10,
    "start_time": "2022-09-12T10:42:36.570Z"
   },
   {
    "duration": 18,
    "start_time": "2022-09-12T10:42:36.583Z"
   },
   {
    "duration": 27,
    "start_time": "2022-09-12T10:42:36.603Z"
   },
   {
    "duration": 22,
    "start_time": "2022-09-12T10:42:36.631Z"
   },
   {
    "duration": 5,
    "start_time": "2022-09-12T10:42:36.655Z"
   },
   {
    "duration": 5,
    "start_time": "2022-09-12T10:42:36.661Z"
   },
   {
    "duration": 9,
    "start_time": "2022-09-12T10:42:36.667Z"
   },
   {
    "duration": 13,
    "start_time": "2022-09-12T10:42:36.677Z"
   },
   {
    "duration": 8,
    "start_time": "2022-09-12T10:42:36.692Z"
   },
   {
    "duration": 20,
    "start_time": "2022-09-12T10:42:36.701Z"
   },
   {
    "duration": 8,
    "start_time": "2022-09-12T10:42:36.727Z"
   },
   {
    "duration": 7,
    "start_time": "2022-09-12T10:42:36.738Z"
   },
   {
    "duration": 140,
    "start_time": "2022-09-12T10:42:36.746Z"
   },
   {
    "duration": 155,
    "start_time": "2022-09-12T10:42:36.888Z"
   },
   {
    "duration": 135,
    "start_time": "2022-09-12T10:42:37.044Z"
   },
   {
    "duration": 155,
    "start_time": "2022-09-12T10:42:37.181Z"
   },
   {
    "duration": 3,
    "start_time": "2022-09-12T10:42:37.337Z"
   },
   {
    "duration": 9,
    "start_time": "2022-09-12T10:42:37.342Z"
   },
   {
    "duration": 5,
    "start_time": "2022-09-12T10:42:37.353Z"
   },
   {
    "duration": 8,
    "start_time": "2022-09-12T10:42:37.359Z"
   },
   {
    "duration": 14,
    "start_time": "2022-09-12T10:42:37.368Z"
   },
   {
    "duration": 40,
    "start_time": "2022-09-12T10:42:37.383Z"
   },
   {
    "duration": 491,
    "start_time": "2022-09-12T10:42:37.425Z"
   },
   {
    "duration": 120,
    "start_time": "2022-09-12T10:42:37.924Z"
   },
   {
    "duration": 12,
    "start_time": "2022-09-12T10:42:38.046Z"
   },
   {
    "duration": 14,
    "start_time": "2022-09-12T10:42:38.060Z"
   },
   {
    "duration": 11,
    "start_time": "2022-09-12T10:42:38.075Z"
   },
   {
    "duration": 33,
    "start_time": "2022-09-12T10:42:38.088Z"
   },
   {
    "duration": 6,
    "start_time": "2022-09-12T10:42:38.124Z"
   },
   {
    "duration": 9,
    "start_time": "2022-09-12T10:42:38.131Z"
   },
   {
    "duration": 6,
    "start_time": "2022-09-12T10:42:38.141Z"
   },
   {
    "duration": 16,
    "start_time": "2022-09-12T10:42:38.148Z"
   },
   {
    "duration": 19,
    "start_time": "2022-09-12T10:42:38.165Z"
   },
   {
    "duration": 41,
    "start_time": "2022-09-12T10:42:38.185Z"
   },
   {
    "duration": 17,
    "start_time": "2022-09-12T10:42:38.229Z"
   },
   {
    "duration": 10,
    "start_time": "2022-09-12T10:42:38.248Z"
   },
   {
    "duration": 14,
    "start_time": "2022-09-12T10:42:38.260Z"
   },
   {
    "duration": 10,
    "start_time": "2022-09-12T10:42:38.276Z"
   },
   {
    "duration": 27,
    "start_time": "2022-09-12T10:42:38.288Z"
   },
   {
    "duration": 20,
    "start_time": "2022-09-12T10:42:38.317Z"
   },
   {
    "duration": 24,
    "start_time": "2022-09-12T10:42:38.339Z"
   },
   {
    "duration": 21,
    "start_time": "2022-09-12T10:42:38.365Z"
   },
   {
    "duration": 32,
    "start_time": "2022-09-12T10:42:38.387Z"
   },
   {
    "duration": 19,
    "start_time": "2022-09-12T10:42:38.421Z"
   },
   {
    "duration": 4,
    "start_time": "2022-09-12T10:42:38.442Z"
   },
   {
    "duration": 20,
    "start_time": "2022-09-12T10:42:38.448Z"
   },
   {
    "duration": 13,
    "start_time": "2022-09-12T10:43:58.789Z"
   },
   {
    "duration": 133,
    "start_time": "2022-09-12T10:45:02.086Z"
   },
   {
    "duration": 13,
    "start_time": "2022-09-12T10:45:12.523Z"
   },
   {
    "duration": 29,
    "start_time": "2022-09-12T10:45:48.095Z"
   },
   {
    "duration": 10,
    "start_time": "2022-09-12T10:52:01.305Z"
   },
   {
    "duration": 12,
    "start_time": "2022-09-12T10:52:02.371Z"
   },
   {
    "duration": 11,
    "start_time": "2022-09-12T10:52:45.534Z"
   },
   {
    "duration": 17,
    "start_time": "2022-09-12T10:56:48.137Z"
   },
   {
    "duration": 14,
    "start_time": "2022-09-12T10:57:54.309Z"
   },
   {
    "duration": 13,
    "start_time": "2022-09-12T11:01:53.232Z"
   },
   {
    "duration": 13,
    "start_time": "2022-09-12T11:10:40.763Z"
   },
   {
    "duration": 5,
    "start_time": "2022-09-12T11:10:46.507Z"
   },
   {
    "duration": 4,
    "start_time": "2022-09-12T11:10:47.103Z"
   },
   {
    "duration": 14,
    "start_time": "2022-09-12T11:10:48.070Z"
   },
   {
    "duration": 1806,
    "start_time": "2022-09-12T11:11:28.297Z"
   },
   {
    "duration": 27,
    "start_time": "2022-09-12T11:11:30.105Z"
   },
   {
    "duration": 14,
    "start_time": "2022-09-12T11:11:30.133Z"
   },
   {
    "duration": 18,
    "start_time": "2022-09-12T11:11:30.148Z"
   },
   {
    "duration": 8,
    "start_time": "2022-09-12T11:11:30.167Z"
   },
   {
    "duration": 34,
    "start_time": "2022-09-12T11:11:30.177Z"
   },
   {
    "duration": 5,
    "start_time": "2022-09-12T11:11:30.213Z"
   },
   {
    "duration": 12,
    "start_time": "2022-09-12T11:11:30.220Z"
   },
   {
    "duration": 12,
    "start_time": "2022-09-12T11:11:30.233Z"
   },
   {
    "duration": 10,
    "start_time": "2022-09-12T11:11:30.249Z"
   },
   {
    "duration": 20,
    "start_time": "2022-09-12T11:11:30.260Z"
   },
   {
    "duration": 13,
    "start_time": "2022-09-12T11:11:30.281Z"
   },
   {
    "duration": 12,
    "start_time": "2022-09-12T11:11:30.295Z"
   },
   {
    "duration": 21,
    "start_time": "2022-09-12T11:11:30.309Z"
   },
   {
    "duration": 145,
    "start_time": "2022-09-12T11:11:30.331Z"
   },
   {
    "duration": 139,
    "start_time": "2022-09-12T11:11:30.477Z"
   },
   {
    "duration": 131,
    "start_time": "2022-09-12T11:11:30.617Z"
   },
   {
    "duration": 131,
    "start_time": "2022-09-12T11:11:30.749Z"
   },
   {
    "duration": 3,
    "start_time": "2022-09-12T11:11:30.882Z"
   },
   {
    "duration": 30,
    "start_time": "2022-09-12T11:11:30.886Z"
   },
   {
    "duration": 10,
    "start_time": "2022-09-12T11:11:30.918Z"
   },
   {
    "duration": 14,
    "start_time": "2022-09-12T11:11:30.930Z"
   },
   {
    "duration": 14,
    "start_time": "2022-09-12T11:11:30.946Z"
   },
   {
    "duration": 12,
    "start_time": "2022-09-12T11:11:30.962Z"
   },
   {
    "duration": 481,
    "start_time": "2022-09-12T11:11:30.975Z"
   },
   {
    "duration": 118,
    "start_time": "2022-09-12T11:11:31.457Z"
   },
   {
    "duration": 9,
    "start_time": "2022-09-12T11:11:31.576Z"
   },
   {
    "duration": 31,
    "start_time": "2022-09-12T11:11:31.588Z"
   },
   {
    "duration": 41,
    "start_time": "2022-09-12T11:11:31.621Z"
   },
   {
    "duration": 20,
    "start_time": "2022-09-12T11:11:31.664Z"
   },
   {
    "duration": 6,
    "start_time": "2022-09-12T11:11:31.685Z"
   },
   {
    "duration": 5,
    "start_time": "2022-09-12T11:11:31.692Z"
   },
   {
    "duration": 10,
    "start_time": "2022-09-12T11:11:31.698Z"
   },
   {
    "duration": 19,
    "start_time": "2022-09-12T11:11:31.709Z"
   },
   {
    "duration": 27,
    "start_time": "2022-09-12T11:11:31.729Z"
   },
   {
    "duration": 26,
    "start_time": "2022-09-12T11:11:31.757Z"
   },
   {
    "duration": 18,
    "start_time": "2022-09-12T11:11:31.784Z"
   },
   {
    "duration": 29,
    "start_time": "2022-09-12T11:11:31.804Z"
   },
   {
    "duration": 20,
    "start_time": "2022-09-12T11:11:31.835Z"
   },
   {
    "duration": 10,
    "start_time": "2022-09-12T11:11:31.857Z"
   },
   {
    "duration": 8,
    "start_time": "2022-09-12T11:11:31.868Z"
   },
   {
    "duration": 9,
    "start_time": "2022-09-12T11:11:31.877Z"
   },
   {
    "duration": 24,
    "start_time": "2022-09-12T11:11:31.887Z"
   },
   {
    "duration": 42,
    "start_time": "2022-09-12T11:11:31.912Z"
   },
   {
    "duration": 14,
    "start_time": "2022-09-12T11:11:31.955Z"
   },
   {
    "duration": 9,
    "start_time": "2022-09-12T11:11:31.970Z"
   },
   {
    "duration": 4,
    "start_time": "2022-09-12T11:11:31.980Z"
   },
   {
    "duration": 150,
    "start_time": "2022-09-12T11:11:31.986Z"
   },
   {
    "duration": 10,
    "start_time": "2022-09-12T11:11:59.208Z"
   },
   {
    "duration": 14,
    "start_time": "2022-09-12T11:12:16.232Z"
   },
   {
    "duration": 4,
    "start_time": "2022-09-12T11:26:10.306Z"
   },
   {
    "duration": 15,
    "start_time": "2022-09-12T11:26:10.804Z"
   },
   {
    "duration": 4,
    "start_time": "2022-09-12T11:26:30.078Z"
   },
   {
    "duration": 12,
    "start_time": "2022-09-12T11:26:30.801Z"
   },
   {
    "duration": 5,
    "start_time": "2022-09-12T11:28:12.265Z"
   },
   {
    "duration": 97,
    "start_time": "2022-09-12T11:28:12.949Z"
   },
   {
    "duration": 25,
    "start_time": "2022-09-12T11:29:23.117Z"
   },
   {
    "duration": 5,
    "start_time": "2022-09-12T11:29:42.462Z"
   },
   {
    "duration": 7,
    "start_time": "2022-09-12T11:29:42.953Z"
   },
   {
    "duration": 40,
    "start_time": "2022-09-12T11:29:43.561Z"
   },
   {
    "duration": 28,
    "start_time": "2022-09-12T11:29:59.505Z"
   },
   {
    "duration": 4,
    "start_time": "2022-09-12T11:30:21.307Z"
   },
   {
    "duration": 4,
    "start_time": "2022-09-12T11:30:21.811Z"
   },
   {
    "duration": 41,
    "start_time": "2022-09-12T11:30:22.279Z"
   },
   {
    "duration": 16,
    "start_time": "2022-09-12T11:31:04.986Z"
   },
   {
    "duration": 13,
    "start_time": "2022-09-12T11:31:24.292Z"
   },
   {
    "duration": 3,
    "start_time": "2022-09-12T11:32:17.172Z"
   },
   {
    "duration": 5,
    "start_time": "2022-09-12T11:32:17.612Z"
   },
   {
    "duration": 13,
    "start_time": "2022-09-12T11:32:18.175Z"
   },
   {
    "duration": 3,
    "start_time": "2022-09-12T11:34:07.522Z"
   },
   {
    "duration": 6,
    "start_time": "2022-09-12T11:34:07.937Z"
   },
   {
    "duration": 39,
    "start_time": "2022-09-12T11:34:08.356Z"
   },
   {
    "duration": 2002,
    "start_time": "2022-09-12T11:34:30.030Z"
   },
   {
    "duration": 28,
    "start_time": "2022-09-12T11:34:32.034Z"
   },
   {
    "duration": 20,
    "start_time": "2022-09-12T11:34:32.064Z"
   },
   {
    "duration": 20,
    "start_time": "2022-09-12T11:34:32.086Z"
   },
   {
    "duration": 11,
    "start_time": "2022-09-12T11:34:32.108Z"
   },
   {
    "duration": 22,
    "start_time": "2022-09-12T11:34:32.121Z"
   },
   {
    "duration": 6,
    "start_time": "2022-09-12T11:34:32.144Z"
   },
   {
    "duration": 21,
    "start_time": "2022-09-12T11:34:32.151Z"
   },
   {
    "duration": 10,
    "start_time": "2022-09-12T11:34:32.174Z"
   },
   {
    "duration": 44,
    "start_time": "2022-09-12T11:34:32.186Z"
   },
   {
    "duration": 31,
    "start_time": "2022-09-12T11:34:32.232Z"
   },
   {
    "duration": 15,
    "start_time": "2022-09-12T11:34:32.264Z"
   },
   {
    "duration": 9,
    "start_time": "2022-09-12T11:34:32.280Z"
   },
   {
    "duration": 5,
    "start_time": "2022-09-12T11:34:32.292Z"
   },
   {
    "duration": 131,
    "start_time": "2022-09-12T11:34:32.298Z"
   },
   {
    "duration": 165,
    "start_time": "2022-09-12T11:34:32.430Z"
   },
   {
    "duration": 137,
    "start_time": "2022-09-12T11:34:32.596Z"
   },
   {
    "duration": 132,
    "start_time": "2022-09-12T11:34:32.735Z"
   },
   {
    "duration": 2,
    "start_time": "2022-09-12T11:34:32.869Z"
   },
   {
    "duration": 10,
    "start_time": "2022-09-12T11:34:32.872Z"
   },
   {
    "duration": 7,
    "start_time": "2022-09-12T11:34:32.883Z"
   },
   {
    "duration": 17,
    "start_time": "2022-09-12T11:34:32.892Z"
   },
   {
    "duration": 12,
    "start_time": "2022-09-12T11:34:32.910Z"
   },
   {
    "duration": 10,
    "start_time": "2022-09-12T11:34:32.924Z"
   },
   {
    "duration": 466,
    "start_time": "2022-09-12T11:34:32.936Z"
   },
   {
    "duration": 113,
    "start_time": "2022-09-12T11:34:33.408Z"
   },
   {
    "duration": 10,
    "start_time": "2022-09-12T11:34:33.523Z"
   },
   {
    "duration": 16,
    "start_time": "2022-09-12T11:34:33.534Z"
   },
   {
    "duration": 12,
    "start_time": "2022-09-12T11:34:33.552Z"
   },
   {
    "duration": 8,
    "start_time": "2022-09-12T11:34:33.566Z"
   },
   {
    "duration": 22,
    "start_time": "2022-09-12T11:34:33.576Z"
   },
   {
    "duration": 29,
    "start_time": "2022-09-12T11:34:33.600Z"
   },
   {
    "duration": 13,
    "start_time": "2022-09-12T11:34:33.631Z"
   },
   {
    "duration": 17,
    "start_time": "2022-09-12T11:34:33.646Z"
   },
   {
    "duration": 29,
    "start_time": "2022-09-12T11:34:33.664Z"
   },
   {
    "duration": 25,
    "start_time": "2022-09-12T11:34:33.694Z"
   },
   {
    "duration": 17,
    "start_time": "2022-09-12T11:34:33.720Z"
   },
   {
    "duration": 18,
    "start_time": "2022-09-12T11:34:33.738Z"
   },
   {
    "duration": 16,
    "start_time": "2022-09-12T11:34:33.757Z"
   },
   {
    "duration": 21,
    "start_time": "2022-09-12T11:34:33.775Z"
   },
   {
    "duration": 13,
    "start_time": "2022-09-12T11:34:33.800Z"
   },
   {
    "duration": 11,
    "start_time": "2022-09-12T11:34:33.815Z"
   },
   {
    "duration": 25,
    "start_time": "2022-09-12T11:34:33.828Z"
   },
   {
    "duration": 22,
    "start_time": "2022-09-12T11:34:33.854Z"
   },
   {
    "duration": 21,
    "start_time": "2022-09-12T11:34:33.878Z"
   },
   {
    "duration": 5,
    "start_time": "2022-09-12T11:34:33.901Z"
   },
   {
    "duration": 9,
    "start_time": "2022-09-12T11:34:33.908Z"
   },
   {
    "duration": 157,
    "start_time": "2022-09-12T11:34:33.918Z"
   },
   {
    "duration": 0,
    "start_time": "2022-09-12T11:34:34.077Z"
   },
   {
    "duration": 14,
    "start_time": "2022-09-12T11:35:26.541Z"
   },
   {
    "duration": 14,
    "start_time": "2022-09-12T11:35:40.294Z"
   },
   {
    "duration": 1720,
    "start_time": "2022-09-12T11:48:22.642Z"
   },
   {
    "duration": 27,
    "start_time": "2022-09-12T11:48:24.364Z"
   },
   {
    "duration": 18,
    "start_time": "2022-09-12T11:48:24.392Z"
   },
   {
    "duration": 18,
    "start_time": "2022-09-12T11:48:25.921Z"
   },
   {
    "duration": 9,
    "start_time": "2022-09-12T11:48:27.354Z"
   },
   {
    "duration": 26,
    "start_time": "2022-09-12T11:48:27.883Z"
   },
   {
    "duration": 6,
    "start_time": "2022-09-12T11:48:29.332Z"
   },
   {
    "duration": 5,
    "start_time": "2022-09-12T11:48:30.334Z"
   },
   {
    "duration": 6,
    "start_time": "2022-09-12T11:48:30.823Z"
   },
   {
    "duration": 10,
    "start_time": "2022-09-12T11:48:31.818Z"
   },
   {
    "duration": 5,
    "start_time": "2022-09-12T11:48:32.400Z"
   },
   {
    "duration": 6,
    "start_time": "2022-09-12T11:48:32.968Z"
   },
   {
    "duration": 7,
    "start_time": "2022-09-12T11:48:33.483Z"
   },
   {
    "duration": 7,
    "start_time": "2022-09-12T11:48:34.083Z"
   },
   {
    "duration": 151,
    "start_time": "2022-09-12T11:48:35.076Z"
   },
   {
    "duration": 143,
    "start_time": "2022-09-12T11:48:36.062Z"
   },
   {
    "duration": 137,
    "start_time": "2022-09-12T11:48:37.102Z"
   },
   {
    "duration": 136,
    "start_time": "2022-09-12T11:48:38.143Z"
   },
   {
    "duration": 3,
    "start_time": "2022-09-12T11:48:40.233Z"
   },
   {
    "duration": 6,
    "start_time": "2022-09-12T11:48:40.741Z"
   },
   {
    "duration": 3,
    "start_time": "2022-09-12T11:48:41.268Z"
   },
   {
    "duration": 6,
    "start_time": "2022-09-12T11:48:41.819Z"
   },
   {
    "duration": 11,
    "start_time": "2022-09-12T11:48:42.350Z"
   },
   {
    "duration": 11,
    "start_time": "2022-09-12T11:48:42.990Z"
   },
   {
    "duration": 462,
    "start_time": "2022-09-12T11:48:43.529Z"
   },
   {
    "duration": 112,
    "start_time": "2022-09-12T11:48:45.978Z"
   },
   {
    "duration": 11,
    "start_time": "2022-09-12T11:48:47.581Z"
   },
   {
    "duration": 17,
    "start_time": "2022-09-12T11:48:48.230Z"
   },
   {
    "duration": 5,
    "start_time": "2022-09-12T11:48:48.870Z"
   },
   {
    "duration": 4,
    "start_time": "2022-09-12T11:48:50.289Z"
   },
   {
    "duration": 4,
    "start_time": "2022-09-12T11:48:50.674Z"
   },
   {
    "duration": 3,
    "start_time": "2022-09-12T11:48:50.994Z"
   },
   {
    "duration": 4,
    "start_time": "2022-09-12T11:48:51.474Z"
   },
   {
    "duration": 8,
    "start_time": "2022-09-12T11:48:51.931Z"
   },
   {
    "duration": 17,
    "start_time": "2022-09-12T11:48:52.589Z"
   },
   {
    "duration": 18,
    "start_time": "2022-09-12T11:48:53.131Z"
   },
   {
    "duration": 12,
    "start_time": "2022-09-12T11:48:53.662Z"
   },
   {
    "duration": 8,
    "start_time": "2022-09-12T11:48:54.334Z"
   },
   {
    "duration": 10,
    "start_time": "2022-09-12T11:48:54.840Z"
   },
   {
    "duration": 9,
    "start_time": "2022-09-12T11:48:55.577Z"
   },
   {
    "duration": 7,
    "start_time": "2022-09-12T11:48:56.490Z"
   },
   {
    "duration": 6,
    "start_time": "2022-09-12T11:48:57.098Z"
   },
   {
    "duration": 21,
    "start_time": "2022-09-12T11:48:58.164Z"
   },
   {
    "duration": 20,
    "start_time": "2022-09-12T11:48:59.086Z"
   },
   {
    "duration": 5,
    "start_time": "2022-09-12T11:49:00.335Z"
   },
   {
    "duration": 5,
    "start_time": "2022-09-12T11:49:08.635Z"
   },
   {
    "duration": 7,
    "start_time": "2022-09-12T11:49:56.263Z"
   },
   {
    "duration": 141,
    "start_time": "2022-09-12T11:50:11.013Z"
   },
   {
    "duration": 35,
    "start_time": "2022-09-12T11:51:30.668Z"
   },
   {
    "duration": 9,
    "start_time": "2022-09-12T12:14:10.216Z"
   },
   {
    "duration": 179,
    "start_time": "2022-09-12T12:14:11.241Z"
   },
   {
    "duration": 461,
    "start_time": "2022-09-12T12:15:40.762Z"
   },
   {
    "duration": 431,
    "start_time": "2022-09-12T12:16:07.398Z"
   },
   {
    "duration": 211,
    "start_time": "2022-09-12T12:16:19.309Z"
   },
   {
    "duration": 472,
    "start_time": "2022-09-12T12:19:40.559Z"
   },
   {
    "duration": 15,
    "start_time": "2022-09-12T12:20:49.515Z"
   },
   {
    "duration": 18,
    "start_time": "2022-09-12T12:21:48.781Z"
   },
   {
    "duration": 359,
    "start_time": "2022-09-12T12:22:02.773Z"
   },
   {
    "duration": 381,
    "start_time": "2022-09-12T12:23:37.752Z"
   },
   {
    "duration": 345,
    "start_time": "2022-09-12T12:33:47.485Z"
   },
   {
    "duration": 378,
    "start_time": "2022-09-12T12:34:13.945Z"
   },
   {
    "duration": 359,
    "start_time": "2022-09-12T12:34:39.768Z"
   },
   {
    "duration": 406,
    "start_time": "2022-09-12T12:37:45.629Z"
   },
   {
    "duration": 21,
    "start_time": "2022-09-12T12:37:51.587Z"
   },
   {
    "duration": 87,
    "start_time": "2022-09-12T12:38:24.201Z"
   },
   {
    "duration": 24,
    "start_time": "2022-09-12T12:38:50.323Z"
   },
   {
    "duration": 24,
    "start_time": "2022-09-12T12:39:49.608Z"
   },
   {
    "duration": 10,
    "start_time": "2022-09-12T12:39:58.493Z"
   },
   {
    "duration": 5,
    "start_time": "2022-09-12T12:40:37.085Z"
   },
   {
    "duration": 2200,
    "start_time": "2022-09-12T12:41:01.312Z"
   },
   {
    "duration": 39,
    "start_time": "2022-09-12T12:43:21.708Z"
   },
   {
    "duration": 3409,
    "start_time": "2022-09-12T12:43:41.522Z"
   },
   {
    "duration": 5,
    "start_time": "2022-09-12T12:43:48.968Z"
   },
   {
    "duration": 3426,
    "start_time": "2022-09-12T12:54:51.197Z"
   },
   {
    "duration": 6,
    "start_time": "2022-09-12T12:54:54.637Z"
   },
   {
    "duration": 2128,
    "start_time": "2022-09-12T12:55:09.876Z"
   },
   {
    "duration": 36,
    "start_time": "2022-09-12T12:55:12.006Z"
   },
   {
    "duration": 14,
    "start_time": "2022-09-12T12:55:12.044Z"
   },
   {
    "duration": 16,
    "start_time": "2022-09-12T12:55:12.059Z"
   },
   {
    "duration": 11,
    "start_time": "2022-09-12T12:55:12.078Z"
   },
   {
    "duration": 36,
    "start_time": "2022-09-12T12:55:12.091Z"
   },
   {
    "duration": 7,
    "start_time": "2022-09-12T12:55:12.129Z"
   },
   {
    "duration": 26,
    "start_time": "2022-09-12T12:55:12.137Z"
   },
   {
    "duration": 22,
    "start_time": "2022-09-12T12:55:12.164Z"
   },
   {
    "duration": 21,
    "start_time": "2022-09-12T12:55:12.188Z"
   },
   {
    "duration": 10,
    "start_time": "2022-09-12T12:55:12.225Z"
   },
   {
    "duration": 7,
    "start_time": "2022-09-12T12:55:12.237Z"
   },
   {
    "duration": 23,
    "start_time": "2022-09-12T12:55:12.246Z"
   },
   {
    "duration": 17,
    "start_time": "2022-09-12T12:55:12.272Z"
   },
   {
    "duration": 171,
    "start_time": "2022-09-12T12:55:12.291Z"
   },
   {
    "duration": 176,
    "start_time": "2022-09-12T12:55:12.464Z"
   },
   {
    "duration": 137,
    "start_time": "2022-09-12T12:55:12.642Z"
   },
   {
    "duration": 193,
    "start_time": "2022-09-12T12:55:12.781Z"
   },
   {
    "duration": 3,
    "start_time": "2022-09-12T12:55:12.976Z"
   },
   {
    "duration": 11,
    "start_time": "2022-09-12T12:55:12.981Z"
   },
   {
    "duration": 21,
    "start_time": "2022-09-12T12:55:12.994Z"
   },
   {
    "duration": 28,
    "start_time": "2022-09-12T12:55:13.017Z"
   },
   {
    "duration": 22,
    "start_time": "2022-09-12T12:55:13.047Z"
   },
   {
    "duration": 11,
    "start_time": "2022-09-12T12:55:13.070Z"
   },
   {
    "duration": 518,
    "start_time": "2022-09-12T12:55:13.082Z"
   },
   {
    "duration": 162,
    "start_time": "2022-09-12T12:55:13.601Z"
   },
   {
    "duration": 11,
    "start_time": "2022-09-12T12:55:13.764Z"
   },
   {
    "duration": 18,
    "start_time": "2022-09-12T12:55:13.778Z"
   },
   {
    "duration": 15,
    "start_time": "2022-09-12T12:55:13.820Z"
   },
   {
    "duration": 6,
    "start_time": "2022-09-12T12:55:13.837Z"
   },
   {
    "duration": 4,
    "start_time": "2022-09-12T12:55:13.846Z"
   },
   {
    "duration": 5,
    "start_time": "2022-09-12T12:55:13.852Z"
   },
   {
    "duration": 28,
    "start_time": "2022-09-12T12:55:13.858Z"
   },
   {
    "duration": 18,
    "start_time": "2022-09-12T12:55:13.887Z"
   },
   {
    "duration": 36,
    "start_time": "2022-09-12T12:55:13.907Z"
   },
   {
    "duration": 20,
    "start_time": "2022-09-12T12:55:13.944Z"
   },
   {
    "duration": 17,
    "start_time": "2022-09-12T12:55:13.965Z"
   },
   {
    "duration": 17,
    "start_time": "2022-09-12T12:55:13.984Z"
   },
   {
    "duration": 27,
    "start_time": "2022-09-12T12:55:14.002Z"
   },
   {
    "duration": 12,
    "start_time": "2022-09-12T12:55:14.031Z"
   },
   {
    "duration": 6,
    "start_time": "2022-09-12T12:55:14.047Z"
   },
   {
    "duration": 9,
    "start_time": "2022-09-12T12:55:14.055Z"
   },
   {
    "duration": 23,
    "start_time": "2022-09-12T12:55:14.065Z"
   },
   {
    "duration": 36,
    "start_time": "2022-09-12T12:55:14.109Z"
   },
   {
    "duration": 6,
    "start_time": "2022-09-12T12:55:14.147Z"
   },
   {
    "duration": 12,
    "start_time": "2022-09-12T12:55:14.155Z"
   },
   {
    "duration": 4350,
    "start_time": "2022-09-12T12:55:14.169Z"
   },
   {
    "duration": 12,
    "start_time": "2022-09-12T12:55:18.520Z"
   },
   {
    "duration": 154,
    "start_time": "2022-09-12T12:55:58.605Z"
   },
   {
    "duration": 11,
    "start_time": "2022-09-12T12:56:13.122Z"
   },
   {
    "duration": 3,
    "start_time": "2022-09-12T12:57:19.523Z"
   },
   {
    "duration": 17,
    "start_time": "2022-09-12T12:57:25.122Z"
   },
   {
    "duration": 4,
    "start_time": "2022-09-12T12:57:32.380Z"
   },
   {
    "duration": 22,
    "start_time": "2022-09-12T12:57:43.111Z"
   },
   {
    "duration": 3,
    "start_time": "2022-09-12T12:57:59.533Z"
   },
   {
    "duration": 12,
    "start_time": "2022-09-12T12:58:05.091Z"
   },
   {
    "duration": 10,
    "start_time": "2022-09-12T12:58:05.957Z"
   },
   {
    "duration": 2541,
    "start_time": "2022-09-12T12:58:52.982Z"
   },
   {
    "duration": 5,
    "start_time": "2022-09-12T12:59:18.001Z"
   },
   {
    "duration": 1962,
    "start_time": "2022-09-12T13:00:17.875Z"
   },
   {
    "duration": 28,
    "start_time": "2022-09-12T13:00:19.839Z"
   },
   {
    "duration": 13,
    "start_time": "2022-09-12T13:00:19.868Z"
   },
   {
    "duration": 18,
    "start_time": "2022-09-12T13:00:19.884Z"
   },
   {
    "duration": 25,
    "start_time": "2022-09-12T13:00:19.903Z"
   },
   {
    "duration": 21,
    "start_time": "2022-09-12T13:00:19.929Z"
   },
   {
    "duration": 6,
    "start_time": "2022-09-12T13:00:19.951Z"
   },
   {
    "duration": 9,
    "start_time": "2022-09-12T13:00:19.958Z"
   },
   {
    "duration": 9,
    "start_time": "2022-09-12T13:00:19.969Z"
   },
   {
    "duration": 7,
    "start_time": "2022-09-12T13:00:19.980Z"
   },
   {
    "duration": 31,
    "start_time": "2022-09-12T13:00:19.988Z"
   },
   {
    "duration": 13,
    "start_time": "2022-09-12T13:00:20.021Z"
   },
   {
    "duration": 31,
    "start_time": "2022-09-12T13:00:20.037Z"
   },
   {
    "duration": 19,
    "start_time": "2022-09-12T13:00:20.071Z"
   },
   {
    "duration": 167,
    "start_time": "2022-09-12T13:00:20.093Z"
   },
   {
    "duration": 166,
    "start_time": "2022-09-12T13:00:20.262Z"
   },
   {
    "duration": 146,
    "start_time": "2022-09-12T13:00:20.430Z"
   },
   {
    "duration": 153,
    "start_time": "2022-09-12T13:00:20.577Z"
   },
   {
    "duration": 2,
    "start_time": "2022-09-12T13:00:20.732Z"
   },
   {
    "duration": 9,
    "start_time": "2022-09-12T13:00:20.736Z"
   },
   {
    "duration": 7,
    "start_time": "2022-09-12T13:00:20.746Z"
   },
   {
    "duration": 11,
    "start_time": "2022-09-12T13:00:20.754Z"
   },
   {
    "duration": 13,
    "start_time": "2022-09-12T13:00:20.766Z"
   },
   {
    "duration": 12,
    "start_time": "2022-09-12T13:00:20.781Z"
   },
   {
    "duration": 486,
    "start_time": "2022-09-12T13:00:20.809Z"
   },
   {
    "duration": 146,
    "start_time": "2022-09-12T13:00:21.296Z"
   },
   {
    "duration": 11,
    "start_time": "2022-09-12T13:00:21.444Z"
   },
   {
    "duration": 15,
    "start_time": "2022-09-12T13:00:21.459Z"
   },
   {
    "duration": 7,
    "start_time": "2022-09-12T13:00:21.475Z"
   },
   {
    "duration": 27,
    "start_time": "2022-09-12T13:00:21.484Z"
   },
   {
    "duration": 19,
    "start_time": "2022-09-12T13:00:21.512Z"
   },
   {
    "duration": 5,
    "start_time": "2022-09-12T13:00:21.532Z"
   },
   {
    "duration": 8,
    "start_time": "2022-09-12T13:00:21.538Z"
   },
   {
    "duration": 8,
    "start_time": "2022-09-12T13:00:21.547Z"
   },
   {
    "duration": 20,
    "start_time": "2022-09-12T13:00:21.556Z"
   },
   {
    "duration": 55,
    "start_time": "2022-09-12T13:00:21.577Z"
   },
   {
    "duration": 13,
    "start_time": "2022-09-12T13:00:21.633Z"
   },
   {
    "duration": 9,
    "start_time": "2022-09-12T13:00:21.647Z"
   },
   {
    "duration": 14,
    "start_time": "2022-09-12T13:00:21.657Z"
   },
   {
    "duration": 15,
    "start_time": "2022-09-12T13:00:21.673Z"
   },
   {
    "duration": 15,
    "start_time": "2022-09-12T13:00:21.709Z"
   },
   {
    "duration": 22,
    "start_time": "2022-09-12T13:00:21.726Z"
   },
   {
    "duration": 31,
    "start_time": "2022-09-12T13:00:21.750Z"
   },
   {
    "duration": 20,
    "start_time": "2022-09-12T13:00:21.783Z"
   },
   {
    "duration": 15,
    "start_time": "2022-09-12T13:00:21.810Z"
   },
   {
    "duration": 15,
    "start_time": "2022-09-12T13:00:21.828Z"
   },
   {
    "duration": 3295,
    "start_time": "2022-09-12T13:00:21.844Z"
   },
   {
    "duration": 83,
    "start_time": "2022-09-12T13:00:25.141Z"
   },
   {
    "duration": 1926,
    "start_time": "2022-09-12T13:02:36.769Z"
   },
   {
    "duration": 42,
    "start_time": "2022-09-12T13:02:38.696Z"
   },
   {
    "duration": 23,
    "start_time": "2022-09-12T13:02:38.741Z"
   },
   {
    "duration": 24,
    "start_time": "2022-09-12T13:02:38.767Z"
   },
   {
    "duration": 36,
    "start_time": "2022-09-12T13:02:38.793Z"
   },
   {
    "duration": 21,
    "start_time": "2022-09-12T13:02:38.831Z"
   },
   {
    "duration": 14,
    "start_time": "2022-09-12T13:02:38.853Z"
   },
   {
    "duration": 5,
    "start_time": "2022-09-12T13:02:38.869Z"
   },
   {
    "duration": 7,
    "start_time": "2022-09-12T13:02:38.876Z"
   },
   {
    "duration": 34,
    "start_time": "2022-09-12T13:02:38.886Z"
   },
   {
    "duration": 14,
    "start_time": "2022-09-12T13:02:38.923Z"
   },
   {
    "duration": 13,
    "start_time": "2022-09-12T13:02:38.940Z"
   },
   {
    "duration": 37,
    "start_time": "2022-09-12T13:02:38.956Z"
   },
   {
    "duration": 27,
    "start_time": "2022-09-12T13:02:38.996Z"
   },
   {
    "duration": 141,
    "start_time": "2022-09-12T13:02:39.025Z"
   },
   {
    "duration": 161,
    "start_time": "2022-09-12T13:02:39.168Z"
   },
   {
    "duration": 143,
    "start_time": "2022-09-12T13:02:39.331Z"
   },
   {
    "duration": 146,
    "start_time": "2022-09-12T13:02:39.476Z"
   },
   {
    "duration": 3,
    "start_time": "2022-09-12T13:02:39.624Z"
   },
   {
    "duration": 9,
    "start_time": "2022-09-12T13:02:39.628Z"
   },
   {
    "duration": 5,
    "start_time": "2022-09-12T13:02:39.639Z"
   },
   {
    "duration": 7,
    "start_time": "2022-09-12T13:02:39.646Z"
   },
   {
    "duration": 12,
    "start_time": "2022-09-12T13:02:39.654Z"
   },
   {
    "duration": 13,
    "start_time": "2022-09-12T13:02:39.668Z"
   },
   {
    "duration": 520,
    "start_time": "2022-09-12T13:02:39.682Z"
   },
   {
    "duration": 153,
    "start_time": "2022-09-12T13:02:40.212Z"
   },
   {
    "duration": 11,
    "start_time": "2022-09-12T13:02:40.367Z"
   },
   {
    "duration": 37,
    "start_time": "2022-09-12T13:02:40.382Z"
   },
   {
    "duration": 5,
    "start_time": "2022-09-12T13:02:40.426Z"
   },
   {
    "duration": 9,
    "start_time": "2022-09-12T13:02:40.432Z"
   },
   {
    "duration": 15,
    "start_time": "2022-09-12T13:02:40.442Z"
   },
   {
    "duration": 14,
    "start_time": "2022-09-12T13:02:40.459Z"
   },
   {
    "duration": 11,
    "start_time": "2022-09-12T13:02:40.474Z"
   },
   {
    "duration": 12,
    "start_time": "2022-09-12T13:02:40.486Z"
   },
   {
    "duration": 26,
    "start_time": "2022-09-12T13:02:40.500Z"
   },
   {
    "duration": 22,
    "start_time": "2022-09-12T13:02:40.528Z"
   },
   {
    "duration": 11,
    "start_time": "2022-09-12T13:02:40.552Z"
   },
   {
    "duration": 12,
    "start_time": "2022-09-12T13:02:40.565Z"
   },
   {
    "duration": 42,
    "start_time": "2022-09-12T13:02:40.579Z"
   },
   {
    "duration": 14,
    "start_time": "2022-09-12T13:02:40.623Z"
   },
   {
    "duration": 8,
    "start_time": "2022-09-12T13:02:40.638Z"
   },
   {
    "duration": 9,
    "start_time": "2022-09-12T13:02:40.648Z"
   },
   {
    "duration": 27,
    "start_time": "2022-09-12T13:02:40.658Z"
   },
   {
    "duration": 46,
    "start_time": "2022-09-12T13:02:40.687Z"
   },
   {
    "duration": 4,
    "start_time": "2022-09-12T13:02:40.735Z"
   },
   {
    "duration": 9,
    "start_time": "2022-09-12T13:02:40.741Z"
   },
   {
    "duration": 8579,
    "start_time": "2022-09-12T13:02:40.752Z"
   },
   {
    "duration": 89,
    "start_time": "2022-09-12T13:02:49.334Z"
   },
   {
    "duration": 1998,
    "start_time": "2022-09-12T13:03:44.929Z"
   },
   {
    "duration": 28,
    "start_time": "2022-09-12T13:03:46.930Z"
   },
   {
    "duration": 15,
    "start_time": "2022-09-12T13:03:46.959Z"
   },
   {
    "duration": 16,
    "start_time": "2022-09-12T13:03:46.975Z"
   },
   {
    "duration": 10,
    "start_time": "2022-09-12T13:03:46.994Z"
   },
   {
    "duration": 43,
    "start_time": "2022-09-12T13:03:47.006Z"
   },
   {
    "duration": 6,
    "start_time": "2022-09-12T13:03:47.051Z"
   },
   {
    "duration": 19,
    "start_time": "2022-09-12T13:03:47.058Z"
   },
   {
    "duration": 10,
    "start_time": "2022-09-12T13:03:47.079Z"
   },
   {
    "duration": 11,
    "start_time": "2022-09-12T13:03:47.091Z"
   },
   {
    "duration": 33,
    "start_time": "2022-09-12T13:03:47.104Z"
   },
   {
    "duration": 5,
    "start_time": "2022-09-12T13:03:47.139Z"
   },
   {
    "duration": 8,
    "start_time": "2022-09-12T13:03:47.146Z"
   },
   {
    "duration": 8,
    "start_time": "2022-09-12T13:03:47.158Z"
   },
   {
    "duration": 173,
    "start_time": "2022-09-12T13:03:47.168Z"
   },
   {
    "duration": 155,
    "start_time": "2022-09-12T13:03:47.343Z"
   },
   {
    "duration": 165,
    "start_time": "2022-09-12T13:03:47.502Z"
   },
   {
    "duration": 153,
    "start_time": "2022-09-12T13:03:47.669Z"
   },
   {
    "duration": 5,
    "start_time": "2022-09-12T13:03:47.824Z"
   },
   {
    "duration": 9,
    "start_time": "2022-09-12T13:03:47.830Z"
   },
   {
    "duration": 5,
    "start_time": "2022-09-12T13:03:47.841Z"
   },
   {
    "duration": 10,
    "start_time": "2022-09-12T13:03:47.847Z"
   },
   {
    "duration": 13,
    "start_time": "2022-09-12T13:03:47.858Z"
   },
   {
    "duration": 18,
    "start_time": "2022-09-12T13:03:47.872Z"
   },
   {
    "duration": 531,
    "start_time": "2022-09-12T13:03:47.892Z"
   },
   {
    "duration": 130,
    "start_time": "2022-09-12T13:03:48.425Z"
   },
   {
    "duration": 10,
    "start_time": "2022-09-12T13:03:48.557Z"
   },
   {
    "duration": 15,
    "start_time": "2022-09-12T13:03:48.569Z"
   },
   {
    "duration": 33,
    "start_time": "2022-09-12T13:03:48.586Z"
   },
   {
    "duration": 15,
    "start_time": "2022-09-12T13:03:48.624Z"
   },
   {
    "duration": 12,
    "start_time": "2022-09-12T13:03:48.641Z"
   },
   {
    "duration": 13,
    "start_time": "2022-09-12T13:03:48.654Z"
   },
   {
    "duration": 8,
    "start_time": "2022-09-12T13:03:48.668Z"
   },
   {
    "duration": 17,
    "start_time": "2022-09-12T13:03:48.677Z"
   },
   {
    "duration": 33,
    "start_time": "2022-09-12T13:03:48.695Z"
   },
   {
    "duration": 21,
    "start_time": "2022-09-12T13:03:48.729Z"
   },
   {
    "duration": 13,
    "start_time": "2022-09-12T13:03:48.752Z"
   },
   {
    "duration": 8,
    "start_time": "2022-09-12T13:03:48.767Z"
   },
   {
    "duration": 20,
    "start_time": "2022-09-12T13:03:48.777Z"
   },
   {
    "duration": 42,
    "start_time": "2022-09-12T13:03:48.798Z"
   },
   {
    "duration": 5,
    "start_time": "2022-09-12T13:03:48.843Z"
   },
   {
    "duration": 9,
    "start_time": "2022-09-12T13:03:48.850Z"
   },
   {
    "duration": 24,
    "start_time": "2022-09-12T13:03:48.861Z"
   },
   {
    "duration": 28,
    "start_time": "2022-09-12T13:03:48.887Z"
   },
   {
    "duration": 17,
    "start_time": "2022-09-12T13:03:48.916Z"
   },
   {
    "duration": 7,
    "start_time": "2022-09-12T13:03:48.935Z"
   },
   {
    "duration": 7792,
    "start_time": "2022-09-12T13:03:48.943Z"
   },
   {
    "duration": 10,
    "start_time": "2022-09-12T13:03:56.811Z"
   },
   {
    "duration": 162,
    "start_time": "2022-09-12T13:17:31.776Z"
   },
   {
    "duration": 11,
    "start_time": "2022-09-12T13:17:46.427Z"
   },
   {
    "duration": 14,
    "start_time": "2022-09-12T13:18:33.325Z"
   },
   {
    "duration": 13950,
    "start_time": "2022-09-12T13:18:41.092Z"
   },
   {
    "duration": 69,
    "start_time": "2022-09-12T13:18:55.045Z"
   },
   {
    "duration": 6,
    "start_time": "2022-09-12T13:20:12.765Z"
   },
   {
    "duration": 37,
    "start_time": "2022-09-12T13:20:13.486Z"
   },
   {
    "duration": 16,
    "start_time": "2022-09-12T13:20:35.406Z"
   },
   {
    "duration": 33,
    "start_time": "2022-09-12T13:20:38.092Z"
   },
   {
    "duration": 7,
    "start_time": "2022-09-12T13:21:26.554Z"
   },
   {
    "duration": 39,
    "start_time": "2022-09-12T13:21:27.188Z"
   },
   {
    "duration": 7,
    "start_time": "2022-09-12T13:21:51.555Z"
   },
   {
    "duration": 7435,
    "start_time": "2022-09-12T13:21:52.274Z"
   },
   {
    "duration": 5,
    "start_time": "2022-09-12T13:21:59.711Z"
   },
   {
    "duration": 7,
    "start_time": "2022-09-12T13:22:19.672Z"
   },
   {
    "duration": 10302,
    "start_time": "2022-09-12T13:22:21.026Z"
   },
   {
    "duration": 5,
    "start_time": "2022-09-12T13:22:31.332Z"
   },
   {
    "duration": 21,
    "start_time": "2022-09-12T13:23:34.931Z"
   },
   {
    "duration": 20473,
    "start_time": "2022-09-12T13:23:36.646Z"
   },
   {
    "duration": 5,
    "start_time": "2022-09-12T13:23:57.124Z"
   },
   {
    "duration": 16,
    "start_time": "2022-09-12T13:29:54.157Z"
   },
   {
    "duration": 36,
    "start_time": "2022-09-12T13:30:12.323Z"
   },
   {
    "duration": 34,
    "start_time": "2022-09-12T13:34:51.336Z"
   },
   {
    "duration": 50,
    "start_time": "2022-09-12T13:35:43.913Z"
   },
   {
    "duration": 47,
    "start_time": "2022-09-12T13:36:26.035Z"
   },
   {
    "duration": 29835,
    "start_time": "2022-09-12T13:36:30.400Z"
   },
   {
    "duration": 90,
    "start_time": "2022-09-12T13:37:00.238Z"
   },
   {
    "duration": 64,
    "start_time": "2022-09-12T13:38:20.524Z"
   },
   {
    "duration": 62567,
    "start_time": "2022-09-12T13:38:21.169Z"
   },
   {
    "duration": 84,
    "start_time": "2022-09-12T13:39:23.740Z"
   },
   {
    "duration": 518,
    "start_time": "2022-09-12T13:40:56.652Z"
   },
   {
    "duration": 300042,
    "start_time": "2022-09-12T13:40:57.381Z"
   },
   {
    "duration": 7,
    "start_time": "2022-09-12T13:45:57.425Z"
   },
   {
    "duration": 151,
    "start_time": "2022-09-12T13:47:41.522Z"
   },
   {
    "duration": 71513,
    "start_time": "2022-09-12T13:47:42.404Z"
   },
   {
    "duration": 6,
    "start_time": "2022-09-12T13:48:53.921Z"
   },
   {
    "duration": 45,
    "start_time": "2022-09-12T13:51:59.962Z"
   },
   {
    "duration": 35570,
    "start_time": "2022-09-12T13:52:00.561Z"
   },
   {
    "duration": 81,
    "start_time": "2022-09-12T13:52:36.133Z"
   },
   {
    "duration": 18,
    "start_time": "2022-09-12T13:53:24.146Z"
   },
   {
    "duration": 14477,
    "start_time": "2022-09-12T13:53:24.650Z"
   },
   {
    "duration": 4,
    "start_time": "2022-09-12T13:53:39.130Z"
   },
   {
    "duration": 76,
    "start_time": "2022-09-12T13:57:17.747Z"
   },
   {
    "duration": 50013,
    "start_time": "2022-09-12T13:57:18.421Z"
   },
   {
    "duration": 11,
    "start_time": "2022-09-12T13:58:08.519Z"
   },
   {
    "duration": 28,
    "start_time": "2022-09-12T13:58:33.173Z"
   },
   {
    "duration": 25159,
    "start_time": "2022-09-12T13:58:33.774Z"
   },
   {
    "duration": 5,
    "start_time": "2022-09-12T13:58:59.019Z"
   },
   {
    "duration": 30,
    "start_time": "2022-09-12T14:04:16.169Z"
   },
   {
    "duration": 20649,
    "start_time": "2022-09-12T14:04:16.770Z"
   },
   {
    "duration": 5,
    "start_time": "2022-09-12T14:04:37.422Z"
   },
   {
    "duration": 137,
    "start_time": "2022-09-12T14:18:17.896Z"
   },
   {
    "duration": 87500,
    "start_time": "2022-09-12T14:18:18.421Z"
   },
   {
    "duration": 8,
    "start_time": "2022-09-12T14:19:45.923Z"
   },
   {
    "duration": 174,
    "start_time": "2022-09-12T14:20:05.609Z"
   },
   {
    "duration": 3,
    "start_time": "2022-09-12T14:27:46.762Z"
   },
   {
    "duration": 195,
    "start_time": "2022-09-12T14:29:27.698Z"
   },
   {
    "duration": 935,
    "start_time": "2022-09-12T14:30:28.470Z"
   },
   {
    "duration": 77774,
    "start_time": "2022-09-12T14:33:14.647Z"
   },
   {
    "duration": 4,
    "start_time": "2022-09-12T14:34:32.424Z"
   },
   {
    "duration": 1949,
    "start_time": "2022-09-12T14:35:11.667Z"
   },
   {
    "duration": 27,
    "start_time": "2022-09-12T14:35:13.618Z"
   },
   {
    "duration": 13,
    "start_time": "2022-09-12T14:35:13.647Z"
   },
   {
    "duration": 14,
    "start_time": "2022-09-12T14:35:13.662Z"
   },
   {
    "duration": 10,
    "start_time": "2022-09-12T14:35:13.677Z"
   },
   {
    "duration": 32,
    "start_time": "2022-09-12T14:35:13.688Z"
   },
   {
    "duration": 6,
    "start_time": "2022-09-12T14:35:13.722Z"
   },
   {
    "duration": 8,
    "start_time": "2022-09-12T14:35:13.730Z"
   },
   {
    "duration": 9,
    "start_time": "2022-09-12T14:35:13.740Z"
   },
   {
    "duration": 6,
    "start_time": "2022-09-12T14:35:13.753Z"
   },
   {
    "duration": 8,
    "start_time": "2022-09-12T14:35:13.761Z"
   },
   {
    "duration": 11,
    "start_time": "2022-09-12T14:35:13.770Z"
   },
   {
    "duration": 27,
    "start_time": "2022-09-12T14:35:13.782Z"
   },
   {
    "duration": 6,
    "start_time": "2022-09-12T14:35:13.810Z"
   },
   {
    "duration": 156,
    "start_time": "2022-09-12T14:35:13.818Z"
   },
   {
    "duration": 159,
    "start_time": "2022-09-12T14:35:13.975Z"
   },
   {
    "duration": 136,
    "start_time": "2022-09-12T14:35:14.136Z"
   },
   {
    "duration": 155,
    "start_time": "2022-09-12T14:35:14.274Z"
   },
   {
    "duration": 3,
    "start_time": "2022-09-12T14:35:14.432Z"
   },
   {
    "duration": 35,
    "start_time": "2022-09-12T14:35:14.437Z"
   },
   {
    "duration": 46,
    "start_time": "2022-09-12T14:35:14.474Z"
   },
   {
    "duration": 19,
    "start_time": "2022-09-12T14:35:14.521Z"
   },
   {
    "duration": 101,
    "start_time": "2022-09-12T14:35:14.542Z"
   },
   {
    "duration": 31,
    "start_time": "2022-09-12T14:35:14.645Z"
   },
   {
    "duration": 539,
    "start_time": "2022-09-12T14:35:14.678Z"
   },
   {
    "duration": 131,
    "start_time": "2022-09-12T14:35:15.219Z"
   },
   {
    "duration": 10,
    "start_time": "2022-09-12T14:35:15.352Z"
   },
   {
    "duration": 13,
    "start_time": "2022-09-12T14:35:15.366Z"
   },
   {
    "duration": 6,
    "start_time": "2022-09-12T14:35:15.380Z"
   },
   {
    "duration": 5,
    "start_time": "2022-09-12T14:35:15.409Z"
   },
   {
    "duration": 7,
    "start_time": "2022-09-12T14:35:15.416Z"
   },
   {
    "duration": 8,
    "start_time": "2022-09-12T14:35:15.424Z"
   },
   {
    "duration": 7,
    "start_time": "2022-09-12T14:35:15.433Z"
   },
   {
    "duration": 9,
    "start_time": "2022-09-12T14:35:15.442Z"
   },
   {
    "duration": 20,
    "start_time": "2022-09-12T14:35:15.453Z"
   },
   {
    "duration": 47,
    "start_time": "2022-09-12T14:35:15.475Z"
   },
   {
    "duration": 18,
    "start_time": "2022-09-12T14:35:15.524Z"
   },
   {
    "duration": 10,
    "start_time": "2022-09-12T14:35:15.544Z"
   },
   {
    "duration": 14,
    "start_time": "2022-09-12T14:35:15.556Z"
   },
   {
    "duration": 12,
    "start_time": "2022-09-12T14:35:15.572Z"
   },
   {
    "duration": 28,
    "start_time": "2022-09-12T14:35:15.585Z"
   },
   {
    "duration": 10,
    "start_time": "2022-09-12T14:35:15.615Z"
   },
   {
    "duration": 25,
    "start_time": "2022-09-12T14:35:15.626Z"
   },
   {
    "duration": 25,
    "start_time": "2022-09-12T14:35:15.652Z"
   },
   {
    "duration": 5,
    "start_time": "2022-09-12T14:35:15.679Z"
   },
   {
    "duration": 172,
    "start_time": "2022-09-12T14:35:15.686Z"
   },
   {
    "duration": 74965,
    "start_time": "2022-09-12T14:35:15.860Z"
   },
   {
    "duration": 85,
    "start_time": "2022-09-12T14:36:30.827Z"
   },
   {
    "duration": 15,
    "start_time": "2022-09-12T14:36:30.913Z"
   },
   {
    "duration": 308,
    "start_time": "2022-09-12T14:36:30.930Z"
   },
   {
    "duration": 160,
    "start_time": "2022-09-12T14:41:42.055Z"
   },
   {
    "duration": 290,
    "start_time": "2022-09-12T15:12:00.720Z"
   },
   {
    "duration": 75449,
    "start_time": "2022-09-12T15:13:06.272Z"
   },
   {
    "duration": 21,
    "start_time": "2022-09-12T15:14:24.902Z"
   },
   {
    "duration": 78373,
    "start_time": "2022-09-12T15:14:47.250Z"
   },
   {
    "duration": 72623,
    "start_time": "2022-09-12T15:18:07.986Z"
   },
   {
    "duration": 4,
    "start_time": "2022-09-12T15:19:20.611Z"
   },
   {
    "duration": 17,
    "start_time": "2022-09-12T15:19:20.616Z"
   },
   {
    "duration": 180,
    "start_time": "2022-09-12T15:19:20.634Z"
   },
   {
    "duration": 4,
    "start_time": "2022-09-12T15:22:31.544Z"
   },
   {
    "duration": 269,
    "start_time": "2022-09-12T15:22:32.136Z"
   },
   {
    "duration": 3,
    "start_time": "2022-09-12T15:23:12.290Z"
   },
   {
    "duration": 175,
    "start_time": "2022-09-12T15:23:12.900Z"
   },
   {
    "duration": 22,
    "start_time": "2022-09-12T15:50:57.110Z"
   },
   {
    "duration": 22,
    "start_time": "2022-09-12T15:51:17.380Z"
   },
   {
    "duration": 9,
    "start_time": "2022-09-12T15:51:47.346Z"
   },
   {
    "duration": 19,
    "start_time": "2022-09-12T15:51:54.203Z"
   },
   {
    "duration": 67927,
    "start_time": "2022-09-12T15:52:31.400Z"
   },
   {
    "duration": 215,
    "start_time": "2022-09-12T15:53:39.411Z"
   },
   {
    "duration": 74131,
    "start_time": "2022-09-12T15:56:23.085Z"
   },
   {
    "duration": 5,
    "start_time": "2022-09-12T15:57:37.218Z"
   },
   {
    "duration": 102,
    "start_time": "2022-09-12T15:57:37.224Z"
   },
   {
    "duration": 9,
    "start_time": "2022-09-12T15:59:25.587Z"
   },
   {
    "duration": 22,
    "start_time": "2022-09-12T15:59:35.661Z"
   },
   {
    "duration": 9,
    "start_time": "2022-09-12T15:59:55.799Z"
   },
   {
    "duration": 69,
    "start_time": "2022-09-12T16:01:39.051Z"
   },
   {
    "duration": 3,
    "start_time": "2022-09-12T16:03:16.661Z"
   },
   {
    "duration": 160,
    "start_time": "2022-09-12T16:03:17.375Z"
   },
   {
    "duration": 9,
    "start_time": "2022-09-12T16:12:17.868Z"
   },
   {
    "duration": 6,
    "start_time": "2022-09-12T16:12:30.645Z"
   },
   {
    "duration": 25,
    "start_time": "2022-09-12T16:12:36.542Z"
   },
   {
    "duration": 11,
    "start_time": "2022-09-12T16:13:17.182Z"
   },
   {
    "duration": 9,
    "start_time": "2022-09-12T16:13:44.230Z"
   },
   {
    "duration": 9,
    "start_time": "2022-09-12T16:26:10.990Z"
   },
   {
    "duration": 10,
    "start_time": "2022-09-12T16:27:27.016Z"
   },
   {
    "duration": 9,
    "start_time": "2022-09-12T16:27:35.253Z"
   },
   {
    "duration": 9,
    "start_time": "2022-09-12T16:27:41.076Z"
   },
   {
    "duration": 19,
    "start_time": "2022-09-12T16:29:42.780Z"
   },
   {
    "duration": 9,
    "start_time": "2022-09-12T16:31:07.225Z"
   },
   {
    "duration": 5,
    "start_time": "2022-09-12T16:31:07.290Z"
   },
   {
    "duration": 23,
    "start_time": "2022-09-12T16:31:20.133Z"
   },
   {
    "duration": 6,
    "start_time": "2022-09-12T16:32:19.651Z"
   },
   {
    "duration": 10,
    "start_time": "2022-09-12T16:32:25.700Z"
   },
   {
    "duration": 6,
    "start_time": "2022-09-12T16:32:48.886Z"
   },
   {
    "duration": 6,
    "start_time": "2022-09-12T16:33:01.543Z"
   },
   {
    "duration": 4,
    "start_time": "2022-09-12T16:44:24.176Z"
   },
   {
    "duration": 160,
    "start_time": "2022-09-12T16:44:24.833Z"
   },
   {
    "duration": 15,
    "start_time": "2022-09-12T16:59:08.370Z"
   },
   {
    "duration": 2,
    "start_time": "2022-09-12T17:02:18.883Z"
   },
   {
    "duration": 10,
    "start_time": "2022-09-12T17:02:24.050Z"
   },
   {
    "duration": 5,
    "start_time": "2022-09-12T17:03:00.938Z"
   },
   {
    "duration": 5,
    "start_time": "2022-09-12T17:03:32.715Z"
   },
   {
    "duration": 15,
    "start_time": "2022-09-12T17:03:39.349Z"
   },
   {
    "duration": 14,
    "start_time": "2022-09-12T17:04:12.800Z"
   },
   {
    "duration": 1816,
    "start_time": "2022-09-12T17:04:23.623Z"
   },
   {
    "duration": 28,
    "start_time": "2022-09-12T17:04:25.440Z"
   },
   {
    "duration": 14,
    "start_time": "2022-09-12T17:04:25.470Z"
   },
   {
    "duration": 23,
    "start_time": "2022-09-12T17:04:25.486Z"
   },
   {
    "duration": 15,
    "start_time": "2022-09-12T17:04:25.510Z"
   },
   {
    "duration": 29,
    "start_time": "2022-09-12T17:04:25.526Z"
   },
   {
    "duration": 5,
    "start_time": "2022-09-12T17:04:25.557Z"
   },
   {
    "duration": 9,
    "start_time": "2022-09-12T17:04:25.563Z"
   },
   {
    "duration": 14,
    "start_time": "2022-09-12T17:04:25.573Z"
   },
   {
    "duration": 14,
    "start_time": "2022-09-12T17:04:25.590Z"
   },
   {
    "duration": 10,
    "start_time": "2022-09-12T17:04:25.606Z"
   },
   {
    "duration": 23,
    "start_time": "2022-09-12T17:04:25.617Z"
   },
   {
    "duration": 30,
    "start_time": "2022-09-12T17:04:25.641Z"
   },
   {
    "duration": 11,
    "start_time": "2022-09-12T17:04:25.673Z"
   },
   {
    "duration": 139,
    "start_time": "2022-09-12T17:04:25.685Z"
   },
   {
    "duration": 152,
    "start_time": "2022-09-12T17:04:25.826Z"
   },
   {
    "duration": 138,
    "start_time": "2022-09-12T17:04:25.979Z"
   },
   {
    "duration": 144,
    "start_time": "2022-09-12T17:04:26.118Z"
   },
   {
    "duration": 4,
    "start_time": "2022-09-12T17:04:26.264Z"
   },
   {
    "duration": 15,
    "start_time": "2022-09-12T17:04:26.269Z"
   },
   {
    "duration": 37,
    "start_time": "2022-09-12T17:04:26.286Z"
   },
   {
    "duration": 15,
    "start_time": "2022-09-12T17:04:26.324Z"
   },
   {
    "duration": 14,
    "start_time": "2022-09-12T17:04:26.340Z"
   },
   {
    "duration": 11,
    "start_time": "2022-09-12T17:04:26.355Z"
   },
   {
    "duration": 501,
    "start_time": "2022-09-12T17:04:26.367Z"
   },
   {
    "duration": 117,
    "start_time": "2022-09-12T17:04:26.870Z"
   },
   {
    "duration": 22,
    "start_time": "2022-09-12T17:04:26.989Z"
   },
   {
    "duration": 13,
    "start_time": "2022-09-12T17:04:27.015Z"
   },
   {
    "duration": 6,
    "start_time": "2022-09-12T17:04:27.030Z"
   },
   {
    "duration": 4,
    "start_time": "2022-09-12T17:04:27.037Z"
   },
   {
    "duration": 4,
    "start_time": "2022-09-12T17:04:27.043Z"
   },
   {
    "duration": 14,
    "start_time": "2022-09-12T17:04:27.049Z"
   },
   {
    "duration": 18,
    "start_time": "2022-09-12T17:04:27.065Z"
   },
   {
    "duration": 9,
    "start_time": "2022-09-12T17:04:27.084Z"
   },
   {
    "duration": 22,
    "start_time": "2022-09-12T17:04:27.094Z"
   },
   {
    "duration": 18,
    "start_time": "2022-09-12T17:04:27.117Z"
   },
   {
    "duration": 13,
    "start_time": "2022-09-12T17:04:27.137Z"
   },
   {
    "duration": 7,
    "start_time": "2022-09-12T17:04:27.152Z"
   },
   {
    "duration": 10,
    "start_time": "2022-09-12T17:04:27.161Z"
   },
   {
    "duration": 16,
    "start_time": "2022-09-12T17:04:27.173Z"
   },
   {
    "duration": 24,
    "start_time": "2022-09-12T17:04:27.190Z"
   },
   {
    "duration": 12,
    "start_time": "2022-09-12T17:04:27.216Z"
   },
   {
    "duration": 25,
    "start_time": "2022-09-12T17:04:27.230Z"
   },
   {
    "duration": 25,
    "start_time": "2022-09-12T17:04:27.256Z"
   },
   {
    "duration": 26,
    "start_time": "2022-09-12T17:04:27.283Z"
   },
   {
    "duration": 186,
    "start_time": "2022-09-12T17:04:27.311Z"
   },
   {
    "duration": 73525,
    "start_time": "2022-09-12T17:04:27.498Z"
   },
   {
    "duration": 4,
    "start_time": "2022-09-12T17:05:41.025Z"
   },
   {
    "duration": 10,
    "start_time": "2022-09-12T17:05:41.030Z"
   },
   {
    "duration": 6,
    "start_time": "2022-09-12T17:05:41.108Z"
   },
   {
    "duration": 156,
    "start_time": "2022-09-12T17:05:41.115Z"
   },
   {
    "duration": 0,
    "start_time": "2022-09-12T17:05:41.273Z"
   },
   {
    "duration": 0,
    "start_time": "2022-09-12T17:05:41.274Z"
   },
   {
    "duration": 4,
    "start_time": "2022-09-12T17:08:19.200Z"
   },
   {
    "duration": 9,
    "start_time": "2022-09-12T17:08:30.046Z"
   },
   {
    "duration": 3,
    "start_time": "2022-09-12T17:08:54.185Z"
   },
   {
    "duration": 10,
    "start_time": "2022-09-12T17:08:55.852Z"
   },
   {
    "duration": 12,
    "start_time": "2022-09-12T17:10:08.368Z"
   },
   {
    "duration": 3,
    "start_time": "2022-09-12T17:10:12.949Z"
   },
   {
    "duration": 9,
    "start_time": "2022-09-12T17:10:13.605Z"
   },
   {
    "duration": 3,
    "start_time": "2022-09-12T17:10:14.535Z"
   },
   {
    "duration": 162,
    "start_time": "2022-09-12T17:10:15.144Z"
   },
   {
    "duration": 15,
    "start_time": "2022-09-12T17:13:59.119Z"
   },
   {
    "duration": 4,
    "start_time": "2022-09-12T17:14:51.970Z"
   },
   {
    "duration": 440,
    "start_time": "2022-09-12T17:15:02.444Z"
   },
   {
    "duration": 4,
    "start_time": "2022-09-12T17:15:27.695Z"
   },
   {
    "duration": 3,
    "start_time": "2022-09-12T17:15:28.857Z"
   },
   {
    "duration": 204,
    "start_time": "2022-09-12T17:15:30.493Z"
   },
   {
    "duration": 193,
    "start_time": "2022-09-12T17:16:00.767Z"
   },
   {
    "duration": 2,
    "start_time": "2022-09-12T17:16:34.396Z"
   },
   {
    "duration": 280,
    "start_time": "2022-09-12T17:16:35.119Z"
   },
   {
    "duration": 215,
    "start_time": "2022-09-12T17:16:54.376Z"
   },
   {
    "duration": 3,
    "start_time": "2022-09-12T17:17:19.861Z"
   },
   {
    "duration": 910,
    "start_time": "2022-09-12T17:17:20.423Z"
   },
   {
    "duration": 3,
    "start_time": "2022-09-12T17:17:33.856Z"
   },
   {
    "duration": 279,
    "start_time": "2022-09-12T17:17:34.338Z"
   },
   {
    "duration": 4,
    "start_time": "2022-09-12T17:17:42.460Z"
   },
   {
    "duration": 156,
    "start_time": "2022-09-12T17:17:43.102Z"
   },
   {
    "duration": 2,
    "start_time": "2022-09-12T17:17:49.390Z"
   },
   {
    "duration": 1023,
    "start_time": "2022-09-12T17:17:52.995Z"
   },
   {
    "duration": 3,
    "start_time": "2022-09-12T17:18:01.832Z"
   },
   {
    "duration": 169,
    "start_time": "2022-09-12T17:18:02.283Z"
   },
   {
    "duration": 3,
    "start_time": "2022-09-12T17:18:06.976Z"
   },
   {
    "duration": 963,
    "start_time": "2022-09-12T17:18:07.952Z"
   },
   {
    "duration": 966,
    "start_time": "2022-09-12T17:19:16.414Z"
   },
   {
    "duration": 1083,
    "start_time": "2022-09-12T17:19:36.155Z"
   },
   {
    "duration": 284,
    "start_time": "2022-09-12T17:19:50.814Z"
   },
   {
    "duration": 3,
    "start_time": "2022-09-12T17:20:11.225Z"
   },
   {
    "duration": 163,
    "start_time": "2022-09-12T17:20:11.737Z"
   },
   {
    "duration": 4,
    "start_time": "2022-09-12T17:20:20.061Z"
   },
   {
    "duration": 147,
    "start_time": "2022-09-12T17:20:20.725Z"
   },
   {
    "duration": 3,
    "start_time": "2022-09-12T17:20:27.696Z"
   },
   {
    "duration": 159,
    "start_time": "2022-09-12T17:20:28.183Z"
   },
   {
    "duration": 2,
    "start_time": "2022-09-12T17:20:33.487Z"
   },
   {
    "duration": 390,
    "start_time": "2022-09-12T17:20:33.823Z"
   },
   {
    "duration": 298,
    "start_time": "2022-09-12T17:21:16.967Z"
   },
   {
    "duration": 2,
    "start_time": "2022-09-12T17:23:08.694Z"
   },
   {
    "duration": 6406,
    "start_time": "2022-09-12T17:23:14.806Z"
   },
   {
    "duration": 5744,
    "start_time": "2022-09-12T17:31:00.849Z"
   },
   {
    "duration": 1955,
    "start_time": "2022-09-13T06:47:59.948Z"
   },
   {
    "duration": 66,
    "start_time": "2022-09-13T06:48:01.905Z"
   },
   {
    "duration": 13,
    "start_time": "2022-09-13T06:48:01.973Z"
   },
   {
    "duration": 17,
    "start_time": "2022-09-13T06:48:01.987Z"
   },
   {
    "duration": 10,
    "start_time": "2022-09-13T06:48:02.006Z"
   },
   {
    "duration": 22,
    "start_time": "2022-09-13T06:48:02.018Z"
   },
   {
    "duration": 5,
    "start_time": "2022-09-13T06:48:02.042Z"
   },
   {
    "duration": 22,
    "start_time": "2022-09-13T06:48:02.049Z"
   },
   {
    "duration": 13,
    "start_time": "2022-09-13T06:48:02.073Z"
   },
   {
    "duration": 8,
    "start_time": "2022-09-13T06:48:02.089Z"
   },
   {
    "duration": 9,
    "start_time": "2022-09-13T06:48:02.099Z"
   },
   {
    "duration": 7,
    "start_time": "2022-09-13T06:48:02.109Z"
   },
   {
    "duration": 8,
    "start_time": "2022-09-13T06:48:02.117Z"
   },
   {
    "duration": 9,
    "start_time": "2022-09-13T06:48:02.127Z"
   },
   {
    "duration": 140,
    "start_time": "2022-09-13T06:48:02.137Z"
   },
   {
    "duration": 144,
    "start_time": "2022-09-13T06:48:02.279Z"
   },
   {
    "duration": 129,
    "start_time": "2022-09-13T06:48:02.425Z"
   },
   {
    "duration": 137,
    "start_time": "2022-09-13T06:48:02.556Z"
   },
   {
    "duration": 3,
    "start_time": "2022-09-13T06:48:02.694Z"
   },
   {
    "duration": 7,
    "start_time": "2022-09-13T06:48:02.705Z"
   },
   {
    "duration": 6,
    "start_time": "2022-09-13T06:48:02.714Z"
   },
   {
    "duration": 8,
    "start_time": "2022-09-13T06:48:02.721Z"
   },
   {
    "duration": 13,
    "start_time": "2022-09-13T06:48:02.731Z"
   },
   {
    "duration": 13,
    "start_time": "2022-09-13T06:48:02.746Z"
   },
   {
    "duration": 548,
    "start_time": "2022-09-13T06:48:02.761Z"
   },
   {
    "duration": 126,
    "start_time": "2022-09-13T06:48:03.311Z"
   },
   {
    "duration": 10,
    "start_time": "2022-09-13T06:48:03.438Z"
   },
   {
    "duration": 10,
    "start_time": "2022-09-13T06:48:03.452Z"
   },
   {
    "duration": 4,
    "start_time": "2022-09-13T06:48:03.464Z"
   },
   {
    "duration": 6,
    "start_time": "2022-09-13T06:48:03.469Z"
   },
   {
    "duration": 7,
    "start_time": "2022-09-13T06:48:03.476Z"
   },
   {
    "duration": 4,
    "start_time": "2022-09-13T06:48:03.506Z"
   },
   {
    "duration": 10,
    "start_time": "2022-09-13T06:48:03.512Z"
   },
   {
    "duration": 8,
    "start_time": "2022-09-13T06:48:03.523Z"
   },
   {
    "duration": 22,
    "start_time": "2022-09-13T06:48:03.532Z"
   },
   {
    "duration": 22,
    "start_time": "2022-09-13T06:48:03.555Z"
   },
   {
    "duration": 26,
    "start_time": "2022-09-13T06:48:03.579Z"
   },
   {
    "duration": 10,
    "start_time": "2022-09-13T06:48:03.607Z"
   },
   {
    "duration": 9,
    "start_time": "2022-09-13T06:48:03.618Z"
   },
   {
    "duration": 8,
    "start_time": "2022-09-13T06:48:03.629Z"
   },
   {
    "duration": 5,
    "start_time": "2022-09-13T06:48:03.639Z"
   },
   {
    "duration": 7,
    "start_time": "2022-09-13T06:48:03.645Z"
   },
   {
    "duration": 21,
    "start_time": "2022-09-13T06:48:03.653Z"
   },
   {
    "duration": 47,
    "start_time": "2022-09-13T06:48:03.675Z"
   },
   {
    "duration": 3,
    "start_time": "2022-09-13T06:48:03.724Z"
   },
   {
    "duration": 134,
    "start_time": "2022-09-13T06:48:03.729Z"
   },
   {
    "duration": 61657,
    "start_time": "2022-09-13T06:48:03.865Z"
   },
   {
    "duration": 4,
    "start_time": "2022-09-13T06:49:05.523Z"
   },
   {
    "duration": 8,
    "start_time": "2022-09-13T06:49:05.528Z"
   },
   {
    "duration": 9,
    "start_time": "2022-09-13T06:49:05.538Z"
   },
   {
    "duration": 59,
    "start_time": "2022-09-13T06:49:05.548Z"
   },
   {
    "duration": 11,
    "start_time": "2022-09-13T06:49:05.608Z"
   },
   {
    "duration": 5,
    "start_time": "2022-09-13T06:49:05.620Z"
   },
   {
    "duration": 6,
    "start_time": "2022-09-13T06:49:05.626Z"
   },
   {
    "duration": 5,
    "start_time": "2022-09-13T06:49:05.633Z"
   },
   {
    "duration": 4,
    "start_time": "2022-09-13T06:49:05.639Z"
   },
   {
    "duration": 8,
    "start_time": "2022-09-13T06:49:05.645Z"
   },
   {
    "duration": 5828,
    "start_time": "2022-09-13T06:49:05.654Z"
   },
   {
    "duration": 5873,
    "start_time": "2022-09-13T06:53:45.679Z"
   },
   {
    "duration": 5952,
    "start_time": "2022-09-13T06:55:18.491Z"
   },
   {
    "duration": 6849,
    "start_time": "2022-09-13T07:00:08.458Z"
   },
   {
    "duration": 3,
    "start_time": "2022-09-13T07:00:15.309Z"
   },
   {
    "duration": 36,
    "start_time": "2022-09-13T07:00:15.314Z"
   },
   {
    "duration": 17,
    "start_time": "2022-09-13T07:00:15.352Z"
   },
   {
    "duration": 16,
    "start_time": "2022-09-13T07:00:15.370Z"
   },
   {
    "duration": 8,
    "start_time": "2022-09-13T07:00:15.527Z"
   },
   {
    "duration": 3,
    "start_time": "2022-09-13T07:00:20.373Z"
   },
   {
    "duration": 3,
    "start_time": "2022-09-13T07:00:20.645Z"
   },
   {
    "duration": 2,
    "start_time": "2022-09-13T07:00:21.128Z"
   },
   {
    "duration": 2,
    "start_time": "2022-09-13T07:00:21.591Z"
   },
   {
    "duration": 3,
    "start_time": "2022-09-13T07:00:21.799Z"
   },
   {
    "duration": 426,
    "start_time": "2022-09-13T07:00:22.569Z"
   },
   {
    "duration": 258,
    "start_time": "2022-09-13T07:00:40.563Z"
   },
   {
    "duration": 181,
    "start_time": "2022-09-13T07:00:51.902Z"
   },
   {
    "duration": 568,
    "start_time": "2022-09-13T07:01:18.885Z"
   },
   {
    "duration": 878,
    "start_time": "2022-09-13T07:06:44.430Z"
   },
   {
    "duration": 4,
    "start_time": "2022-09-13T07:06:46.729Z"
   },
   {
    "duration": 12,
    "start_time": "2022-09-13T07:06:54.490Z"
   },
   {
    "duration": 731,
    "start_time": "2022-09-13T07:07:02.000Z"
   },
   {
    "duration": 5,
    "start_time": "2022-09-13T07:07:02.806Z"
   },
   {
    "duration": 18,
    "start_time": "2022-09-13T07:07:08.652Z"
   },
   {
    "duration": 10,
    "start_time": "2022-09-13T07:07:14.962Z"
   },
   {
    "duration": 6,
    "start_time": "2022-09-13T07:07:30.194Z"
   },
   {
    "duration": 5,
    "start_time": "2022-09-13T07:07:49.030Z"
   },
   {
    "duration": 14,
    "start_time": "2022-09-13T07:15:01.797Z"
   },
   {
    "duration": 9,
    "start_time": "2022-09-13T07:15:13.679Z"
   },
   {
    "duration": 5,
    "start_time": "2022-09-13T07:15:39.272Z"
   },
   {
    "duration": 11,
    "start_time": "2022-09-13T07:16:53.391Z"
   },
   {
    "duration": 4,
    "start_time": "2022-09-13T07:18:12.077Z"
   },
   {
    "duration": 33,
    "start_time": "2022-09-13T07:18:12.083Z"
   },
   {
    "duration": 10,
    "start_time": "2022-09-13T07:18:12.117Z"
   },
   {
    "duration": 17,
    "start_time": "2022-09-13T07:18:12.129Z"
   },
   {
    "duration": 10,
    "start_time": "2022-09-13T07:18:12.148Z"
   },
   {
    "duration": 46,
    "start_time": "2022-09-13T07:18:12.160Z"
   },
   {
    "duration": 5,
    "start_time": "2022-09-13T07:18:12.208Z"
   },
   {
    "duration": 13,
    "start_time": "2022-09-13T07:18:12.214Z"
   },
   {
    "duration": 21,
    "start_time": "2022-09-13T07:18:12.230Z"
   },
   {
    "duration": 10,
    "start_time": "2022-09-13T07:18:12.253Z"
   },
   {
    "duration": 14,
    "start_time": "2022-09-13T07:18:12.265Z"
   },
   {
    "duration": 7,
    "start_time": "2022-09-13T07:18:12.281Z"
   },
   {
    "duration": 9,
    "start_time": "2022-09-13T07:18:12.289Z"
   },
   {
    "duration": 9,
    "start_time": "2022-09-13T07:18:12.299Z"
   },
   {
    "duration": 123,
    "start_time": "2022-09-13T07:18:12.309Z"
   },
   {
    "duration": 142,
    "start_time": "2022-09-13T07:18:12.433Z"
   },
   {
    "duration": 130,
    "start_time": "2022-09-13T07:18:12.577Z"
   },
   {
    "duration": 138,
    "start_time": "2022-09-13T07:18:12.709Z"
   },
   {
    "duration": 3,
    "start_time": "2022-09-13T07:18:12.848Z"
   },
   {
    "duration": 10,
    "start_time": "2022-09-13T07:18:12.853Z"
   },
   {
    "duration": 6,
    "start_time": "2022-09-13T07:18:12.864Z"
   },
   {
    "duration": 14,
    "start_time": "2022-09-13T07:18:12.871Z"
   },
   {
    "duration": 20,
    "start_time": "2022-09-13T07:18:12.886Z"
   },
   {
    "duration": 10,
    "start_time": "2022-09-13T07:18:12.909Z"
   },
   {
    "duration": 441,
    "start_time": "2022-09-13T07:18:12.921Z"
   },
   {
    "duration": 164,
    "start_time": "2022-09-13T07:18:13.363Z"
   },
   {
    "duration": 14,
    "start_time": "2022-09-13T07:18:13.529Z"
   },
   {
    "duration": 14,
    "start_time": "2022-09-13T07:18:13.544Z"
   },
   {
    "duration": 15,
    "start_time": "2022-09-13T07:18:13.559Z"
   },
   {
    "duration": 5,
    "start_time": "2022-09-13T07:18:13.576Z"
   },
   {
    "duration": 6,
    "start_time": "2022-09-13T07:18:13.583Z"
   },
   {
    "duration": 4,
    "start_time": "2022-09-13T07:18:13.605Z"
   },
   {
    "duration": 8,
    "start_time": "2022-09-13T07:18:13.610Z"
   },
   {
    "duration": 9,
    "start_time": "2022-09-13T07:18:13.619Z"
   },
   {
    "duration": 24,
    "start_time": "2022-09-13T07:18:13.629Z"
   },
   {
    "duration": 22,
    "start_time": "2022-09-13T07:18:13.655Z"
   },
   {
    "duration": 28,
    "start_time": "2022-09-13T07:18:13.678Z"
   },
   {
    "duration": 10,
    "start_time": "2022-09-13T07:18:13.707Z"
   },
   {
    "duration": 10,
    "start_time": "2022-09-13T07:18:13.719Z"
   },
   {
    "duration": 11,
    "start_time": "2022-09-13T07:18:13.731Z"
   },
   {
    "duration": 7,
    "start_time": "2022-09-13T07:18:13.743Z"
   },
   {
    "duration": 6,
    "start_time": "2022-09-13T07:18:13.751Z"
   },
   {
    "duration": 21,
    "start_time": "2022-09-13T07:18:13.758Z"
   },
   {
    "duration": 40,
    "start_time": "2022-09-13T07:18:13.780Z"
   },
   {
    "duration": 4,
    "start_time": "2022-09-13T07:18:13.822Z"
   },
   {
    "duration": 143,
    "start_time": "2022-09-13T07:18:13.827Z"
   },
   {
    "duration": 5754,
    "start_time": "2022-09-13T07:18:13.971Z"
   },
   {
    "duration": 700,
    "start_time": "2022-09-13T07:18:19.727Z"
   },
   {
    "duration": 3,
    "start_time": "2022-09-13T07:18:20.429Z"
   },
   {
    "duration": 73,
    "start_time": "2022-09-13T07:18:20.433Z"
   },
   {
    "duration": 12,
    "start_time": "2022-09-13T07:18:20.508Z"
   },
   {
    "duration": 1734,
    "start_time": "2022-09-13T07:18:41.428Z"
   },
   {
    "duration": 33,
    "start_time": "2022-09-13T07:18:43.164Z"
   },
   {
    "duration": 14,
    "start_time": "2022-09-13T07:18:43.199Z"
   },
   {
    "duration": 15,
    "start_time": "2022-09-13T07:18:43.214Z"
   },
   {
    "duration": 9,
    "start_time": "2022-09-13T07:18:43.232Z"
   },
   {
    "duration": 21,
    "start_time": "2022-09-13T07:18:43.242Z"
   },
   {
    "duration": 5,
    "start_time": "2022-09-13T07:18:43.265Z"
   },
   {
    "duration": 34,
    "start_time": "2022-09-13T07:18:43.271Z"
   },
   {
    "duration": 7,
    "start_time": "2022-09-13T07:18:43.307Z"
   },
   {
    "duration": 7,
    "start_time": "2022-09-13T07:18:43.315Z"
   },
   {
    "duration": 6,
    "start_time": "2022-09-13T07:18:43.324Z"
   },
   {
    "duration": 6,
    "start_time": "2022-09-13T07:18:43.331Z"
   },
   {
    "duration": 6,
    "start_time": "2022-09-13T07:18:43.338Z"
   },
   {
    "duration": 5,
    "start_time": "2022-09-13T07:18:43.347Z"
   },
   {
    "duration": 140,
    "start_time": "2022-09-13T07:18:43.354Z"
   },
   {
    "duration": 137,
    "start_time": "2022-09-13T07:18:43.495Z"
   },
   {
    "duration": 128,
    "start_time": "2022-09-13T07:18:43.634Z"
   },
   {
    "duration": 130,
    "start_time": "2022-09-13T07:18:43.763Z"
   },
   {
    "duration": 11,
    "start_time": "2022-09-13T07:18:43.894Z"
   },
   {
    "duration": 7,
    "start_time": "2022-09-13T07:18:43.906Z"
   },
   {
    "duration": 5,
    "start_time": "2022-09-13T07:18:43.914Z"
   },
   {
    "duration": 6,
    "start_time": "2022-09-13T07:18:43.920Z"
   },
   {
    "duration": 12,
    "start_time": "2022-09-13T07:18:43.927Z"
   },
   {
    "duration": 11,
    "start_time": "2022-09-13T07:18:43.940Z"
   },
   {
    "duration": 457,
    "start_time": "2022-09-13T07:18:43.952Z"
   },
   {
    "duration": 116,
    "start_time": "2022-09-13T07:18:44.411Z"
   },
   {
    "duration": 11,
    "start_time": "2022-09-13T07:18:44.529Z"
   },
   {
    "duration": 13,
    "start_time": "2022-09-13T07:18:44.542Z"
   },
   {
    "duration": 7,
    "start_time": "2022-09-13T07:18:44.556Z"
   },
   {
    "duration": 6,
    "start_time": "2022-09-13T07:18:44.565Z"
   },
   {
    "duration": 9,
    "start_time": "2022-09-13T07:18:44.573Z"
   },
   {
    "duration": 25,
    "start_time": "2022-09-13T07:18:44.583Z"
   },
   {
    "duration": 5,
    "start_time": "2022-09-13T07:18:44.610Z"
   },
   {
    "duration": 10,
    "start_time": "2022-09-13T07:18:44.617Z"
   },
   {
    "duration": 26,
    "start_time": "2022-09-13T07:18:44.628Z"
   },
   {
    "duration": 20,
    "start_time": "2022-09-13T07:18:44.656Z"
   },
   {
    "duration": 33,
    "start_time": "2022-09-13T07:18:44.677Z"
   },
   {
    "duration": 10,
    "start_time": "2022-09-13T07:18:44.711Z"
   },
   {
    "duration": 10,
    "start_time": "2022-09-13T07:18:44.722Z"
   },
   {
    "duration": 10,
    "start_time": "2022-09-13T07:18:44.733Z"
   },
   {
    "duration": 5,
    "start_time": "2022-09-13T07:18:44.746Z"
   },
   {
    "duration": 8,
    "start_time": "2022-09-13T07:18:44.752Z"
   },
   {
    "duration": 23,
    "start_time": "2022-09-13T07:18:44.761Z"
   },
   {
    "duration": 20,
    "start_time": "2022-09-13T07:18:44.806Z"
   },
   {
    "duration": 5,
    "start_time": "2022-09-13T07:18:44.827Z"
   },
   {
    "duration": 130,
    "start_time": "2022-09-13T07:18:49.972Z"
   },
   {
    "duration": 634,
    "start_time": "2022-09-13T07:18:54.074Z"
   },
   {
    "duration": 3,
    "start_time": "2022-09-13T07:18:57.615Z"
   },
   {
    "duration": 6,
    "start_time": "2022-09-13T07:18:59.730Z"
   },
   {
    "duration": 121,
    "start_time": "2022-09-13T07:19:07.702Z"
   },
   {
    "duration": 10,
    "start_time": "2022-09-13T07:19:47.080Z"
   },
   {
    "duration": 9,
    "start_time": "2022-09-13T07:19:57.503Z"
   },
   {
    "duration": 9,
    "start_time": "2022-09-13T07:20:40.309Z"
   },
   {
    "duration": 9,
    "start_time": "2022-09-13T07:22:19.496Z"
   },
   {
    "duration": 9,
    "start_time": "2022-09-13T07:22:31.296Z"
   },
   {
    "duration": 4,
    "start_time": "2022-09-13T07:23:33.177Z"
   },
   {
    "duration": 11,
    "start_time": "2022-09-13T07:23:54.652Z"
   },
   {
    "duration": 11,
    "start_time": "2022-09-13T07:25:21.426Z"
   },
   {
    "duration": 10,
    "start_time": "2022-09-13T07:25:33.246Z"
   },
   {
    "duration": 5,
    "start_time": "2022-09-13T07:26:10.786Z"
   },
   {
    "duration": 5,
    "start_time": "2022-09-13T07:26:13.797Z"
   },
   {
    "duration": 5,
    "start_time": "2022-09-13T07:26:32.921Z"
   },
   {
    "duration": 10,
    "start_time": "2022-09-13T07:30:12.792Z"
   },
   {
    "duration": 9,
    "start_time": "2022-09-13T07:30:28.254Z"
   },
   {
    "duration": 11,
    "start_time": "2022-09-13T07:31:19.245Z"
   },
   {
    "duration": 10,
    "start_time": "2022-09-13T07:33:00.475Z"
   },
   {
    "duration": 11,
    "start_time": "2022-09-13T07:33:43.864Z"
   },
   {
    "duration": 9,
    "start_time": "2022-09-13T07:37:30.198Z"
   },
   {
    "duration": 10,
    "start_time": "2022-09-13T07:37:58.136Z"
   },
   {
    "duration": 11,
    "start_time": "2022-09-13T07:38:20.945Z"
   },
   {
    "duration": 9,
    "start_time": "2022-09-13T07:38:46.117Z"
   },
   {
    "duration": 38,
    "start_time": "2022-09-13T07:44:48.605Z"
   },
   {
    "duration": 85,
    "start_time": "2022-09-13T07:44:59.385Z"
   },
   {
    "duration": 9,
    "start_time": "2022-09-13T07:45:50.495Z"
   },
   {
    "duration": 12,
    "start_time": "2022-09-13T07:46:54.583Z"
   },
   {
    "duration": 10,
    "start_time": "2022-09-13T07:47:52.020Z"
   },
   {
    "duration": 9,
    "start_time": "2022-09-13T07:48:03.511Z"
   },
   {
    "duration": 10,
    "start_time": "2022-09-13T07:51:02.869Z"
   },
   {
    "duration": 9,
    "start_time": "2022-09-13T07:51:28.465Z"
   },
   {
    "duration": 9,
    "start_time": "2022-09-13T07:53:13.729Z"
   },
   {
    "duration": 13,
    "start_time": "2022-09-13T07:55:55.606Z"
   },
   {
    "duration": 26,
    "start_time": "2022-09-13T07:58:23.343Z"
   },
   {
    "duration": 9,
    "start_time": "2022-09-13T07:58:24.287Z"
   },
   {
    "duration": 9,
    "start_time": "2022-09-13T07:59:57.713Z"
   },
   {
    "duration": 10,
    "start_time": "2022-09-13T08:00:09.696Z"
   },
   {
    "duration": 11,
    "start_time": "2022-09-13T08:00:40.066Z"
   },
   {
    "duration": 11,
    "start_time": "2022-09-13T08:00:51.010Z"
   },
   {
    "duration": 10,
    "start_time": "2022-09-13T08:00:59.909Z"
   },
   {
    "duration": 10,
    "start_time": "2022-09-13T08:01:46.432Z"
   },
   {
    "duration": 10,
    "start_time": "2022-09-13T08:02:03.372Z"
   },
   {
    "duration": 9,
    "start_time": "2022-09-13T08:02:08.642Z"
   },
   {
    "duration": 10,
    "start_time": "2022-09-13T08:05:29.054Z"
   },
   {
    "duration": 9,
    "start_time": "2022-09-13T08:06:37.221Z"
   },
   {
    "duration": 11,
    "start_time": "2022-09-13T08:36:03.961Z"
   },
   {
    "duration": 10,
    "start_time": "2022-09-13T08:36:45.512Z"
   },
   {
    "duration": 10,
    "start_time": "2022-09-13T08:41:31.687Z"
   },
   {
    "duration": 9,
    "start_time": "2022-09-13T08:43:18.162Z"
   },
   {
    "duration": 11,
    "start_time": "2022-09-13T08:43:25.511Z"
   },
   {
    "duration": 2045,
    "start_time": "2022-09-13T08:47:07.244Z"
   },
   {
    "duration": 26,
    "start_time": "2022-09-13T08:47:09.291Z"
   },
   {
    "duration": 13,
    "start_time": "2022-09-13T08:47:09.319Z"
   },
   {
    "duration": 16,
    "start_time": "2022-09-13T08:47:09.334Z"
   },
   {
    "duration": 10,
    "start_time": "2022-09-13T08:47:09.352Z"
   },
   {
    "duration": 27,
    "start_time": "2022-09-13T08:47:09.364Z"
   },
   {
    "duration": 6,
    "start_time": "2022-09-13T08:47:09.406Z"
   },
   {
    "duration": 12,
    "start_time": "2022-09-13T08:47:09.414Z"
   },
   {
    "duration": 12,
    "start_time": "2022-09-13T08:47:09.427Z"
   },
   {
    "duration": 6,
    "start_time": "2022-09-13T08:47:09.443Z"
   },
   {
    "duration": 13,
    "start_time": "2022-09-13T08:47:09.451Z"
   },
   {
    "duration": 10,
    "start_time": "2022-09-13T08:47:09.466Z"
   },
   {
    "duration": 13,
    "start_time": "2022-09-13T08:47:09.477Z"
   },
   {
    "duration": 14,
    "start_time": "2022-09-13T08:47:09.491Z"
   },
   {
    "duration": 128,
    "start_time": "2022-09-13T08:47:09.507Z"
   },
   {
    "duration": 148,
    "start_time": "2022-09-13T08:47:09.637Z"
   },
   {
    "duration": 140,
    "start_time": "2022-09-13T08:47:09.787Z"
   },
   {
    "duration": 141,
    "start_time": "2022-09-13T08:47:09.928Z"
   },
   {
    "duration": 3,
    "start_time": "2022-09-13T08:47:10.070Z"
   },
   {
    "duration": 10,
    "start_time": "2022-09-13T08:47:10.075Z"
   },
   {
    "duration": 6,
    "start_time": "2022-09-13T08:47:10.086Z"
   },
   {
    "duration": 15,
    "start_time": "2022-09-13T08:47:10.093Z"
   },
   {
    "duration": 12,
    "start_time": "2022-09-13T08:47:10.110Z"
   },
   {
    "duration": 15,
    "start_time": "2022-09-13T08:47:10.124Z"
   },
   {
    "duration": 457,
    "start_time": "2022-09-13T08:47:10.141Z"
   },
   {
    "duration": 114,
    "start_time": "2022-09-13T08:47:10.600Z"
   },
   {
    "duration": 11,
    "start_time": "2022-09-13T08:47:10.715Z"
   },
   {
    "duration": 12,
    "start_time": "2022-09-13T08:47:10.729Z"
   },
   {
    "duration": 8,
    "start_time": "2022-09-13T08:47:10.742Z"
   },
   {
    "duration": 7,
    "start_time": "2022-09-13T08:47:10.752Z"
   },
   {
    "duration": 6,
    "start_time": "2022-09-13T08:47:10.761Z"
   },
   {
    "duration": 6,
    "start_time": "2022-09-13T08:47:10.768Z"
   },
   {
    "duration": 30,
    "start_time": "2022-09-13T08:47:10.775Z"
   },
   {
    "duration": 9,
    "start_time": "2022-09-13T08:47:10.807Z"
   },
   {
    "duration": 23,
    "start_time": "2022-09-13T08:47:10.817Z"
   },
   {
    "duration": 28,
    "start_time": "2022-09-13T08:47:10.841Z"
   },
   {
    "duration": 15,
    "start_time": "2022-09-13T08:47:10.870Z"
   },
   {
    "duration": 24,
    "start_time": "2022-09-13T08:47:10.887Z"
   },
   {
    "duration": 11,
    "start_time": "2022-09-13T08:47:10.913Z"
   },
   {
    "duration": 12,
    "start_time": "2022-09-13T08:47:10.925Z"
   },
   {
    "duration": 7,
    "start_time": "2022-09-13T08:47:10.938Z"
   },
   {
    "duration": 7,
    "start_time": "2022-09-13T08:47:10.946Z"
   },
   {
    "duration": 21,
    "start_time": "2022-09-13T08:47:10.955Z"
   },
   {
    "duration": 43,
    "start_time": "2022-09-13T08:47:10.977Z"
   },
   {
    "duration": 6,
    "start_time": "2022-09-13T08:47:11.022Z"
   },
   {
    "duration": 118,
    "start_time": "2022-09-13T08:47:18.437Z"
   },
   {
    "duration": 1855,
    "start_time": "2022-09-13T08:47:44.585Z"
   },
   {
    "duration": 27,
    "start_time": "2022-09-13T08:47:46.442Z"
   },
   {
    "duration": 13,
    "start_time": "2022-09-13T08:47:46.471Z"
   },
   {
    "duration": 16,
    "start_time": "2022-09-13T08:47:46.487Z"
   },
   {
    "duration": 13,
    "start_time": "2022-09-13T08:47:46.505Z"
   },
   {
    "duration": 25,
    "start_time": "2022-09-13T08:47:46.520Z"
   },
   {
    "duration": 6,
    "start_time": "2022-09-13T08:47:46.547Z"
   },
   {
    "duration": 9,
    "start_time": "2022-09-13T08:47:46.555Z"
   },
   {
    "duration": 9,
    "start_time": "2022-09-13T08:47:46.566Z"
   },
   {
    "duration": 31,
    "start_time": "2022-09-13T08:47:46.578Z"
   },
   {
    "duration": 9,
    "start_time": "2022-09-13T08:47:46.611Z"
   },
   {
    "duration": 9,
    "start_time": "2022-09-13T08:47:46.621Z"
   },
   {
    "duration": 12,
    "start_time": "2022-09-13T08:47:46.631Z"
   },
   {
    "duration": 9,
    "start_time": "2022-09-13T08:47:46.645Z"
   },
   {
    "duration": 149,
    "start_time": "2022-09-13T08:47:46.656Z"
   },
   {
    "duration": 143,
    "start_time": "2022-09-13T08:47:46.807Z"
   },
   {
    "duration": 138,
    "start_time": "2022-09-13T08:47:46.951Z"
   },
   {
    "duration": 172,
    "start_time": "2022-09-13T08:47:47.090Z"
   },
   {
    "duration": 3,
    "start_time": "2022-09-13T08:47:47.263Z"
   },
   {
    "duration": 11,
    "start_time": "2022-09-13T08:47:47.268Z"
   },
   {
    "duration": 5,
    "start_time": "2022-09-13T08:47:47.281Z"
   },
   {
    "duration": 20,
    "start_time": "2022-09-13T08:47:47.288Z"
   },
   {
    "duration": 18,
    "start_time": "2022-09-13T08:47:47.309Z"
   },
   {
    "duration": 18,
    "start_time": "2022-09-13T08:47:47.329Z"
   },
   {
    "duration": 553,
    "start_time": "2022-09-13T08:47:47.355Z"
   },
   {
    "duration": 189,
    "start_time": "2022-09-13T08:47:47.910Z"
   },
   {
    "duration": 14,
    "start_time": "2022-09-13T08:47:48.105Z"
   },
   {
    "duration": 15,
    "start_time": "2022-09-13T08:47:48.123Z"
   },
   {
    "duration": 14,
    "start_time": "2022-09-13T08:47:48.140Z"
   },
   {
    "duration": 12,
    "start_time": "2022-09-13T08:47:48.155Z"
   },
   {
    "duration": 14,
    "start_time": "2022-09-13T08:47:48.168Z"
   },
   {
    "duration": 17,
    "start_time": "2022-09-13T08:47:48.184Z"
   },
   {
    "duration": 18,
    "start_time": "2022-09-13T08:47:48.203Z"
   },
   {
    "duration": 14,
    "start_time": "2022-09-13T08:47:48.223Z"
   },
   {
    "duration": 25,
    "start_time": "2022-09-13T08:47:48.239Z"
   },
   {
    "duration": 31,
    "start_time": "2022-09-13T08:47:48.265Z"
   },
   {
    "duration": 23,
    "start_time": "2022-09-13T08:47:48.297Z"
   },
   {
    "duration": 23,
    "start_time": "2022-09-13T08:47:48.323Z"
   },
   {
    "duration": 15,
    "start_time": "2022-09-13T08:47:48.348Z"
   },
   {
    "duration": 11,
    "start_time": "2022-09-13T08:47:48.365Z"
   },
   {
    "duration": 10,
    "start_time": "2022-09-13T08:47:48.378Z"
   },
   {
    "duration": 8,
    "start_time": "2022-09-13T08:47:48.389Z"
   },
   {
    "duration": 28,
    "start_time": "2022-09-13T08:47:48.398Z"
   },
   {
    "duration": 21,
    "start_time": "2022-09-13T08:47:48.428Z"
   },
   {
    "duration": 7,
    "start_time": "2022-09-13T08:47:48.451Z"
   },
   {
    "duration": 149,
    "start_time": "2022-09-13T08:47:48.460Z"
   },
   {
    "duration": 911,
    "start_time": "2022-09-13T08:47:48.611Z"
   },
   {
    "duration": 4,
    "start_time": "2022-09-13T08:47:49.524Z"
   },
   {
    "duration": 9,
    "start_time": "2022-09-13T08:47:49.529Z"
   },
   {
    "duration": 130,
    "start_time": "2022-09-13T08:47:49.606Z"
   },
   {
    "duration": 0,
    "start_time": "2022-09-13T08:47:49.737Z"
   },
   {
    "duration": 0,
    "start_time": "2022-09-13T08:47:49.739Z"
   },
   {
    "duration": 0,
    "start_time": "2022-09-13T08:47:49.740Z"
   },
   {
    "duration": 0,
    "start_time": "2022-09-13T08:47:49.741Z"
   },
   {
    "duration": 0,
    "start_time": "2022-09-13T08:47:49.743Z"
   },
   {
    "duration": 1870,
    "start_time": "2022-09-13T08:50:37.685Z"
   },
   {
    "duration": 28,
    "start_time": "2022-09-13T08:50:39.557Z"
   },
   {
    "duration": 13,
    "start_time": "2022-09-13T08:50:39.587Z"
   },
   {
    "duration": 14,
    "start_time": "2022-09-13T08:50:39.602Z"
   },
   {
    "duration": 15,
    "start_time": "2022-09-13T08:50:39.617Z"
   },
   {
    "duration": 31,
    "start_time": "2022-09-13T08:50:39.633Z"
   },
   {
    "duration": 4,
    "start_time": "2022-09-13T08:50:39.665Z"
   },
   {
    "duration": 32,
    "start_time": "2022-09-13T08:50:39.671Z"
   },
   {
    "duration": 28,
    "start_time": "2022-09-13T08:50:39.704Z"
   },
   {
    "duration": 15,
    "start_time": "2022-09-13T08:50:39.735Z"
   },
   {
    "duration": 27,
    "start_time": "2022-09-13T08:50:39.751Z"
   },
   {
    "duration": 11,
    "start_time": "2022-09-13T08:50:39.780Z"
   },
   {
    "duration": 13,
    "start_time": "2022-09-13T08:50:39.792Z"
   },
   {
    "duration": 11,
    "start_time": "2022-09-13T08:50:39.807Z"
   },
   {
    "duration": 126,
    "start_time": "2022-09-13T08:50:39.820Z"
   },
   {
    "duration": 143,
    "start_time": "2022-09-13T08:50:39.947Z"
   },
   {
    "duration": 135,
    "start_time": "2022-09-13T08:50:40.092Z"
   },
   {
    "duration": 174,
    "start_time": "2022-09-13T08:50:40.229Z"
   },
   {
    "duration": 3,
    "start_time": "2022-09-13T08:50:40.405Z"
   },
   {
    "duration": 9,
    "start_time": "2022-09-13T08:50:40.409Z"
   },
   {
    "duration": 11,
    "start_time": "2022-09-13T08:50:40.420Z"
   },
   {
    "duration": 7,
    "start_time": "2022-09-13T08:50:40.433Z"
   },
   {
    "duration": 12,
    "start_time": "2022-09-13T08:50:40.441Z"
   },
   {
    "duration": 13,
    "start_time": "2022-09-13T08:50:40.455Z"
   },
   {
    "duration": 500,
    "start_time": "2022-09-13T08:50:40.470Z"
   },
   {
    "duration": 116,
    "start_time": "2022-09-13T08:50:40.971Z"
   },
   {
    "duration": 21,
    "start_time": "2022-09-13T08:50:41.088Z"
   },
   {
    "duration": 10,
    "start_time": "2022-09-13T08:50:41.113Z"
   },
   {
    "duration": 6,
    "start_time": "2022-09-13T08:50:41.125Z"
   },
   {
    "duration": 4,
    "start_time": "2022-09-13T08:50:41.132Z"
   },
   {
    "duration": 5,
    "start_time": "2022-09-13T08:50:41.137Z"
   },
   {
    "duration": 5,
    "start_time": "2022-09-13T08:50:41.144Z"
   },
   {
    "duration": 5,
    "start_time": "2022-09-13T08:50:41.150Z"
   },
   {
    "duration": 8,
    "start_time": "2022-09-13T08:50:41.157Z"
   },
   {
    "duration": 54,
    "start_time": "2022-09-13T08:50:41.166Z"
   },
   {
    "duration": 21,
    "start_time": "2022-09-13T08:50:41.221Z"
   },
   {
    "duration": 16,
    "start_time": "2022-09-13T08:50:41.243Z"
   },
   {
    "duration": 11,
    "start_time": "2022-09-13T08:50:41.260Z"
   },
   {
    "duration": 36,
    "start_time": "2022-09-13T08:50:41.272Z"
   },
   {
    "duration": 11,
    "start_time": "2022-09-13T08:50:41.309Z"
   },
   {
    "duration": 6,
    "start_time": "2022-09-13T08:50:41.321Z"
   },
   {
    "duration": 9,
    "start_time": "2022-09-13T08:50:41.328Z"
   },
   {
    "duration": 20,
    "start_time": "2022-09-13T08:50:41.338Z"
   },
   {
    "duration": 22,
    "start_time": "2022-09-13T08:50:41.359Z"
   },
   {
    "duration": 26,
    "start_time": "2022-09-13T08:50:41.382Z"
   },
   {
    "duration": 160,
    "start_time": "2022-09-13T08:50:41.409Z"
   },
   {
    "duration": 840,
    "start_time": "2022-09-13T08:50:41.571Z"
   },
   {
    "duration": 4,
    "start_time": "2022-09-13T08:50:42.412Z"
   },
   {
    "duration": 8,
    "start_time": "2022-09-13T08:50:42.417Z"
   },
   {
    "duration": 158,
    "start_time": "2022-09-13T08:50:42.426Z"
   },
   {
    "duration": 0,
    "start_time": "2022-09-13T08:50:42.586Z"
   },
   {
    "duration": 0,
    "start_time": "2022-09-13T08:50:42.587Z"
   },
   {
    "duration": 0,
    "start_time": "2022-09-13T08:50:42.588Z"
   },
   {
    "duration": 0,
    "start_time": "2022-09-13T08:50:42.588Z"
   },
   {
    "duration": 0,
    "start_time": "2022-09-13T08:50:42.590Z"
   },
   {
    "duration": 1807,
    "start_time": "2022-09-13T08:51:54.401Z"
   },
   {
    "duration": 26,
    "start_time": "2022-09-13T08:51:56.210Z"
   },
   {
    "duration": 15,
    "start_time": "2022-09-13T08:51:56.238Z"
   },
   {
    "duration": 20,
    "start_time": "2022-09-13T08:51:56.255Z"
   },
   {
    "duration": 24,
    "start_time": "2022-09-13T08:51:56.277Z"
   },
   {
    "duration": 23,
    "start_time": "2022-09-13T08:51:56.302Z"
   },
   {
    "duration": 5,
    "start_time": "2022-09-13T08:51:56.326Z"
   },
   {
    "duration": 8,
    "start_time": "2022-09-13T08:51:56.332Z"
   },
   {
    "duration": 8,
    "start_time": "2022-09-13T08:51:56.341Z"
   },
   {
    "duration": 13,
    "start_time": "2022-09-13T08:51:56.351Z"
   },
   {
    "duration": 15,
    "start_time": "2022-09-13T08:51:56.365Z"
   },
   {
    "duration": 6,
    "start_time": "2022-09-13T08:51:56.381Z"
   },
   {
    "duration": 16,
    "start_time": "2022-09-13T08:51:56.390Z"
   },
   {
    "duration": 5,
    "start_time": "2022-09-13T08:51:56.408Z"
   },
   {
    "duration": 150,
    "start_time": "2022-09-13T08:51:56.414Z"
   },
   {
    "duration": 151,
    "start_time": "2022-09-13T08:51:56.565Z"
   },
   {
    "duration": 137,
    "start_time": "2022-09-13T08:51:56.718Z"
   },
   {
    "duration": 138,
    "start_time": "2022-09-13T08:51:56.857Z"
   },
   {
    "duration": 10,
    "start_time": "2022-09-13T08:51:56.997Z"
   },
   {
    "duration": 8,
    "start_time": "2022-09-13T08:51:57.008Z"
   },
   {
    "duration": 7,
    "start_time": "2022-09-13T08:51:57.017Z"
   },
   {
    "duration": 8,
    "start_time": "2022-09-13T08:51:57.025Z"
   },
   {
    "duration": 14,
    "start_time": "2022-09-13T08:51:57.035Z"
   },
   {
    "duration": 17,
    "start_time": "2022-09-13T08:51:57.051Z"
   },
   {
    "duration": 616,
    "start_time": "2022-09-13T08:51:57.069Z"
   },
   {
    "duration": 132,
    "start_time": "2022-09-13T08:51:57.686Z"
   },
   {
    "duration": 9,
    "start_time": "2022-09-13T08:51:57.820Z"
   },
   {
    "duration": 18,
    "start_time": "2022-09-13T08:51:57.831Z"
   },
   {
    "duration": 8,
    "start_time": "2022-09-13T08:51:57.851Z"
   },
   {
    "duration": 9,
    "start_time": "2022-09-13T08:51:57.860Z"
   },
   {
    "duration": 6,
    "start_time": "2022-09-13T08:51:57.870Z"
   },
   {
    "duration": 7,
    "start_time": "2022-09-13T08:51:57.878Z"
   },
   {
    "duration": 8,
    "start_time": "2022-09-13T08:51:57.887Z"
   },
   {
    "duration": 14,
    "start_time": "2022-09-13T08:51:57.896Z"
   },
   {
    "duration": 22,
    "start_time": "2022-09-13T08:51:57.911Z"
   },
   {
    "duration": 24,
    "start_time": "2022-09-13T08:51:57.935Z"
   },
   {
    "duration": 16,
    "start_time": "2022-09-13T08:51:57.961Z"
   },
   {
    "duration": 27,
    "start_time": "2022-09-13T08:51:57.979Z"
   },
   {
    "duration": 18,
    "start_time": "2022-09-13T08:51:58.008Z"
   },
   {
    "duration": 14,
    "start_time": "2022-09-13T08:51:58.031Z"
   },
   {
    "duration": 18,
    "start_time": "2022-09-13T08:51:58.047Z"
   },
   {
    "duration": 18,
    "start_time": "2022-09-13T08:51:58.067Z"
   },
   {
    "duration": 26,
    "start_time": "2022-09-13T08:51:58.088Z"
   },
   {
    "duration": 22,
    "start_time": "2022-09-13T08:51:58.116Z"
   },
   {
    "duration": 6,
    "start_time": "2022-09-13T08:51:58.140Z"
   },
   {
    "duration": 157,
    "start_time": "2022-09-13T08:51:58.148Z"
   },
   {
    "duration": 898,
    "start_time": "2022-09-13T08:51:58.307Z"
   },
   {
    "duration": 4,
    "start_time": "2022-09-13T08:51:59.207Z"
   },
   {
    "duration": 7,
    "start_time": "2022-09-13T08:51:59.212Z"
   },
   {
    "duration": 184,
    "start_time": "2022-09-13T08:51:59.221Z"
   },
   {
    "duration": 0,
    "start_time": "2022-09-13T08:51:59.407Z"
   },
   {
    "duration": 0,
    "start_time": "2022-09-13T08:51:59.408Z"
   },
   {
    "duration": 0,
    "start_time": "2022-09-13T08:51:59.410Z"
   },
   {
    "duration": 0,
    "start_time": "2022-09-13T08:51:59.411Z"
   },
   {
    "duration": 0,
    "start_time": "2022-09-13T08:51:59.412Z"
   },
   {
    "duration": 5,
    "start_time": "2022-09-13T08:52:06.003Z"
   },
   {
    "duration": 1872,
    "start_time": "2022-09-13T08:53:00.596Z"
   },
   {
    "duration": 26,
    "start_time": "2022-09-13T08:53:02.470Z"
   },
   {
    "duration": 14,
    "start_time": "2022-09-13T08:53:02.498Z"
   },
   {
    "duration": 17,
    "start_time": "2022-09-13T08:53:02.514Z"
   },
   {
    "duration": 11,
    "start_time": "2022-09-13T08:53:02.533Z"
   },
   {
    "duration": 23,
    "start_time": "2022-09-13T08:53:02.545Z"
   },
   {
    "duration": 5,
    "start_time": "2022-09-13T08:53:02.569Z"
   },
   {
    "duration": 6,
    "start_time": "2022-09-13T08:53:02.576Z"
   },
   {
    "duration": 26,
    "start_time": "2022-09-13T08:53:02.583Z"
   },
   {
    "duration": 7,
    "start_time": "2022-09-13T08:53:02.611Z"
   },
   {
    "duration": 11,
    "start_time": "2022-09-13T08:53:02.619Z"
   },
   {
    "duration": 7,
    "start_time": "2022-09-13T08:53:02.632Z"
   },
   {
    "duration": 8,
    "start_time": "2022-09-13T08:53:02.641Z"
   },
   {
    "duration": 8,
    "start_time": "2022-09-13T08:53:02.652Z"
   },
   {
    "duration": 153,
    "start_time": "2022-09-13T08:53:02.661Z"
   },
   {
    "duration": 144,
    "start_time": "2022-09-13T08:53:02.816Z"
   },
   {
    "duration": 144,
    "start_time": "2022-09-13T08:53:02.961Z"
   },
   {
    "duration": 135,
    "start_time": "2022-09-13T08:53:03.106Z"
   },
   {
    "duration": 2,
    "start_time": "2022-09-13T08:53:03.243Z"
   },
   {
    "duration": 13,
    "start_time": "2022-09-13T08:53:03.247Z"
   },
   {
    "duration": 22,
    "start_time": "2022-09-13T08:53:03.262Z"
   },
   {
    "duration": 14,
    "start_time": "2022-09-13T08:53:03.285Z"
   },
   {
    "duration": 16,
    "start_time": "2022-09-13T08:53:03.300Z"
   },
   {
    "duration": 15,
    "start_time": "2022-09-13T08:53:03.318Z"
   },
   {
    "duration": 468,
    "start_time": "2022-09-13T08:53:03.334Z"
   },
   {
    "duration": 121,
    "start_time": "2022-09-13T08:53:03.804Z"
   },
   {
    "duration": 13,
    "start_time": "2022-09-13T08:53:03.927Z"
   },
   {
    "duration": 17,
    "start_time": "2022-09-13T08:53:03.942Z"
   },
   {
    "duration": 10,
    "start_time": "2022-09-13T08:53:03.961Z"
   },
   {
    "duration": 10,
    "start_time": "2022-09-13T08:53:03.973Z"
   },
   {
    "duration": 8,
    "start_time": "2022-09-13T08:53:03.985Z"
   },
   {
    "duration": 4,
    "start_time": "2022-09-13T08:53:04.005Z"
   },
   {
    "duration": 7,
    "start_time": "2022-09-13T08:53:04.011Z"
   },
   {
    "duration": 10,
    "start_time": "2022-09-13T08:53:04.020Z"
   },
   {
    "duration": 31,
    "start_time": "2022-09-13T08:53:04.031Z"
   },
   {
    "duration": 46,
    "start_time": "2022-09-13T08:53:04.064Z"
   },
   {
    "duration": 22,
    "start_time": "2022-09-13T08:53:04.111Z"
   },
   {
    "duration": 14,
    "start_time": "2022-09-13T08:53:04.134Z"
   },
   {
    "duration": 12,
    "start_time": "2022-09-13T08:53:04.150Z"
   },
   {
    "duration": 12,
    "start_time": "2022-09-13T08:53:04.164Z"
   },
   {
    "duration": 7,
    "start_time": "2022-09-13T08:53:04.181Z"
   },
   {
    "duration": 7,
    "start_time": "2022-09-13T08:53:04.205Z"
   },
   {
    "duration": 34,
    "start_time": "2022-09-13T08:53:04.214Z"
   },
   {
    "duration": 22,
    "start_time": "2022-09-13T08:53:04.250Z"
   },
   {
    "duration": 18,
    "start_time": "2022-09-13T08:53:04.274Z"
   },
   {
    "duration": 144,
    "start_time": "2022-09-13T08:53:04.294Z"
   },
   {
    "duration": 793,
    "start_time": "2022-09-13T08:53:04.439Z"
   },
   {
    "duration": 4,
    "start_time": "2022-09-13T08:53:05.306Z"
   },
   {
    "duration": 10,
    "start_time": "2022-09-13T08:53:05.312Z"
   },
   {
    "duration": 4,
    "start_time": "2022-09-13T08:53:05.324Z"
   },
   {
    "duration": 6,
    "start_time": "2022-09-13T08:53:05.329Z"
   },
   {
    "duration": 4,
    "start_time": "2022-09-13T08:53:05.337Z"
   },
   {
    "duration": 164,
    "start_time": "2022-09-13T08:53:05.342Z"
   },
   {
    "duration": 0,
    "start_time": "2022-09-13T08:53:05.507Z"
   },
   {
    "duration": 0,
    "start_time": "2022-09-13T08:53:05.508Z"
   },
   {
    "duration": 0,
    "start_time": "2022-09-13T08:53:05.510Z"
   },
   {
    "duration": 3,
    "start_time": "2022-09-13T08:53:39.394Z"
   },
   {
    "duration": 5,
    "start_time": "2022-09-13T08:53:41.013Z"
   },
   {
    "duration": 4,
    "start_time": "2022-09-13T08:54:23.873Z"
   },
   {
    "duration": 5,
    "start_time": "2022-09-13T08:54:25.133Z"
   },
   {
    "duration": 3,
    "start_time": "2022-09-13T08:54:42.824Z"
   },
   {
    "duration": 5,
    "start_time": "2022-09-13T08:54:57.818Z"
   },
   {
    "duration": 3,
    "start_time": "2022-09-13T08:55:23.626Z"
   },
   {
    "duration": 4,
    "start_time": "2022-09-13T08:55:24.210Z"
   },
   {
    "duration": 2,
    "start_time": "2022-09-13T08:56:09.994Z"
   },
   {
    "duration": 3,
    "start_time": "2022-09-13T08:56:12.567Z"
   },
   {
    "duration": 13,
    "start_time": "2022-09-13T08:56:13.545Z"
   },
   {
    "duration": 10,
    "start_time": "2022-09-13T08:57:09.500Z"
   },
   {
    "duration": 4,
    "start_time": "2022-09-13T08:57:16.094Z"
   },
   {
    "duration": 1733,
    "start_time": "2022-09-13T08:57:47.740Z"
   },
   {
    "duration": 25,
    "start_time": "2022-09-13T08:57:49.475Z"
   },
   {
    "duration": 12,
    "start_time": "2022-09-13T08:57:49.502Z"
   },
   {
    "duration": 14,
    "start_time": "2022-09-13T08:57:49.516Z"
   },
   {
    "duration": 10,
    "start_time": "2022-09-13T08:57:49.531Z"
   },
   {
    "duration": 20,
    "start_time": "2022-09-13T08:57:49.542Z"
   },
   {
    "duration": 4,
    "start_time": "2022-09-13T08:57:49.564Z"
   },
   {
    "duration": 36,
    "start_time": "2022-09-13T08:57:49.569Z"
   },
   {
    "duration": 5,
    "start_time": "2022-09-13T08:57:49.606Z"
   },
   {
    "duration": 9,
    "start_time": "2022-09-13T08:57:49.613Z"
   },
   {
    "duration": 14,
    "start_time": "2022-09-13T08:57:49.623Z"
   },
   {
    "duration": 6,
    "start_time": "2022-09-13T08:57:49.638Z"
   },
   {
    "duration": 11,
    "start_time": "2022-09-13T08:57:49.646Z"
   },
   {
    "duration": 9,
    "start_time": "2022-09-13T08:57:49.659Z"
   },
   {
    "duration": 159,
    "start_time": "2022-09-13T08:57:49.670Z"
   },
   {
    "duration": 161,
    "start_time": "2022-09-13T08:57:49.831Z"
   },
   {
    "duration": 130,
    "start_time": "2022-09-13T08:57:49.994Z"
   },
   {
    "duration": 141,
    "start_time": "2022-09-13T08:57:50.126Z"
   },
   {
    "duration": 3,
    "start_time": "2022-09-13T08:57:50.268Z"
   },
   {
    "duration": 9,
    "start_time": "2022-09-13T08:57:50.273Z"
   },
   {
    "duration": 7,
    "start_time": "2022-09-13T08:57:50.283Z"
   },
   {
    "duration": 15,
    "start_time": "2022-09-13T08:57:50.291Z"
   },
   {
    "duration": 9,
    "start_time": "2022-09-13T08:57:50.307Z"
   },
   {
    "duration": 10,
    "start_time": "2022-09-13T08:57:50.318Z"
   },
   {
    "duration": 450,
    "start_time": "2022-09-13T08:57:50.329Z"
   },
   {
    "duration": 112,
    "start_time": "2022-09-13T08:57:50.781Z"
   },
   {
    "duration": 9,
    "start_time": "2022-09-13T08:57:50.905Z"
   },
   {
    "duration": 11,
    "start_time": "2022-09-13T08:57:50.918Z"
   },
   {
    "duration": 8,
    "start_time": "2022-09-13T08:57:50.930Z"
   },
   {
    "duration": 9,
    "start_time": "2022-09-13T08:57:50.939Z"
   },
   {
    "duration": 8,
    "start_time": "2022-09-13T08:57:50.949Z"
   },
   {
    "duration": 17,
    "start_time": "2022-09-13T08:57:50.958Z"
   },
   {
    "duration": 9,
    "start_time": "2022-09-13T08:57:50.977Z"
   },
   {
    "duration": 9,
    "start_time": "2022-09-13T08:57:50.988Z"
   },
   {
    "duration": 23,
    "start_time": "2022-09-13T08:57:50.999Z"
   },
   {
    "duration": 19,
    "start_time": "2022-09-13T08:57:51.023Z"
   },
   {
    "duration": 14,
    "start_time": "2022-09-13T08:57:51.044Z"
   },
   {
    "duration": 10,
    "start_time": "2022-09-13T08:57:51.060Z"
   },
   {
    "duration": 11,
    "start_time": "2022-09-13T08:57:51.072Z"
   },
   {
    "duration": 33,
    "start_time": "2022-09-13T08:57:51.084Z"
   },
   {
    "duration": 8,
    "start_time": "2022-09-13T08:57:51.119Z"
   },
   {
    "duration": 8,
    "start_time": "2022-09-13T08:57:51.128Z"
   },
   {
    "duration": 21,
    "start_time": "2022-09-13T08:57:51.137Z"
   },
   {
    "duration": 20,
    "start_time": "2022-09-13T08:57:51.160Z"
   },
   {
    "duration": 7,
    "start_time": "2022-09-13T08:57:51.182Z"
   },
   {
    "duration": 138,
    "start_time": "2022-09-13T08:57:51.191Z"
   },
   {
    "duration": 881,
    "start_time": "2022-09-13T08:57:51.331Z"
   },
   {
    "duration": 3,
    "start_time": "2022-09-13T08:57:52.214Z"
   },
   {
    "duration": 10,
    "start_time": "2022-09-13T08:57:52.219Z"
   },
   {
    "duration": 4,
    "start_time": "2022-09-13T08:57:52.231Z"
   },
   {
    "duration": 70,
    "start_time": "2022-09-13T08:57:52.236Z"
   },
   {
    "duration": 3,
    "start_time": "2022-09-13T08:57:52.307Z"
   },
   {
    "duration": 6,
    "start_time": "2022-09-13T08:57:52.311Z"
   },
   {
    "duration": 7,
    "start_time": "2022-09-13T08:57:52.319Z"
   },
   {
    "duration": 4,
    "start_time": "2022-09-13T08:57:52.327Z"
   },
   {
    "duration": 7,
    "start_time": "2022-09-13T08:57:52.333Z"
   },
   {
    "duration": 5,
    "start_time": "2022-09-13T08:57:52.341Z"
   },
   {
    "duration": 7,
    "start_time": "2022-09-13T08:57:52.347Z"
   },
   {
    "duration": 19,
    "start_time": "2022-09-13T08:57:52.355Z"
   },
   {
    "duration": 4,
    "start_time": "2022-09-13T08:58:12.545Z"
   },
   {
    "duration": 1777,
    "start_time": "2022-09-13T09:01:35.137Z"
   },
   {
    "duration": 26,
    "start_time": "2022-09-13T09:01:36.915Z"
   },
   {
    "duration": 15,
    "start_time": "2022-09-13T09:01:36.943Z"
   },
   {
    "duration": 16,
    "start_time": "2022-09-13T09:01:36.960Z"
   },
   {
    "duration": 13,
    "start_time": "2022-09-13T09:01:36.978Z"
   },
   {
    "duration": 28,
    "start_time": "2022-09-13T09:01:36.992Z"
   },
   {
    "duration": 5,
    "start_time": "2022-09-13T09:01:37.021Z"
   },
   {
    "duration": 7,
    "start_time": "2022-09-13T09:01:37.027Z"
   },
   {
    "duration": 9,
    "start_time": "2022-09-13T09:01:37.036Z"
   },
   {
    "duration": 8,
    "start_time": "2022-09-13T09:01:37.047Z"
   },
   {
    "duration": 9,
    "start_time": "2022-09-13T09:01:37.056Z"
   },
   {
    "duration": 6,
    "start_time": "2022-09-13T09:01:37.066Z"
   },
   {
    "duration": 33,
    "start_time": "2022-09-13T09:01:37.073Z"
   },
   {
    "duration": 5,
    "start_time": "2022-09-13T09:01:37.108Z"
   },
   {
    "duration": 150,
    "start_time": "2022-09-13T09:01:37.114Z"
   },
   {
    "duration": 186,
    "start_time": "2022-09-13T09:01:37.265Z"
   },
   {
    "duration": 167,
    "start_time": "2022-09-13T09:01:37.453Z"
   },
   {
    "duration": 136,
    "start_time": "2022-09-13T09:01:37.621Z"
   },
   {
    "duration": 3,
    "start_time": "2022-09-13T09:01:37.759Z"
   },
   {
    "duration": 9,
    "start_time": "2022-09-13T09:01:37.763Z"
   },
   {
    "duration": 5,
    "start_time": "2022-09-13T09:01:37.773Z"
   },
   {
    "duration": 28,
    "start_time": "2022-09-13T09:01:37.779Z"
   },
   {
    "duration": 13,
    "start_time": "2022-09-13T09:01:37.808Z"
   },
   {
    "duration": 12,
    "start_time": "2022-09-13T09:01:37.822Z"
   },
   {
    "duration": 486,
    "start_time": "2022-09-13T09:01:37.835Z"
   },
   {
    "duration": 129,
    "start_time": "2022-09-13T09:01:38.322Z"
   },
   {
    "duration": 10,
    "start_time": "2022-09-13T09:01:38.453Z"
   },
   {
    "duration": 12,
    "start_time": "2022-09-13T09:01:38.466Z"
   },
   {
    "duration": 28,
    "start_time": "2022-09-13T09:01:38.479Z"
   },
   {
    "duration": 3,
    "start_time": "2022-09-13T09:01:38.509Z"
   },
   {
    "duration": 6,
    "start_time": "2022-09-13T09:01:38.514Z"
   },
   {
    "duration": 5,
    "start_time": "2022-09-13T09:01:38.522Z"
   },
   {
    "duration": 8,
    "start_time": "2022-09-13T09:01:38.528Z"
   },
   {
    "duration": 10,
    "start_time": "2022-09-13T09:01:38.537Z"
   },
   {
    "duration": 21,
    "start_time": "2022-09-13T09:01:38.548Z"
   },
   {
    "duration": 50,
    "start_time": "2022-09-13T09:01:38.570Z"
   },
   {
    "duration": 18,
    "start_time": "2022-09-13T09:01:38.622Z"
   },
   {
    "duration": 18,
    "start_time": "2022-09-13T09:01:38.642Z"
   },
   {
    "duration": 17,
    "start_time": "2022-09-13T09:01:38.662Z"
   },
   {
    "duration": 25,
    "start_time": "2022-09-13T09:01:38.681Z"
   },
   {
    "duration": 6,
    "start_time": "2022-09-13T09:01:38.708Z"
   },
   {
    "duration": 6,
    "start_time": "2022-09-13T09:01:38.715Z"
   },
   {
    "duration": 22,
    "start_time": "2022-09-13T09:01:38.723Z"
   },
   {
    "duration": 24,
    "start_time": "2022-09-13T09:01:38.747Z"
   },
   {
    "duration": 24,
    "start_time": "2022-09-13T09:01:38.772Z"
   },
   {
    "duration": 117,
    "start_time": "2022-09-13T09:01:40.613Z"
   },
   {
    "duration": 145,
    "start_time": "2022-09-13T09:01:58.056Z"
   },
   {
    "duration": 7862,
    "start_time": "2022-09-13T09:02:05.563Z"
   },
   {
    "duration": 5,
    "start_time": "2022-09-13T09:02:13.426Z"
   },
   {
    "duration": 86,
    "start_time": "2022-09-13T09:02:13.432Z"
   },
   {
    "duration": 3,
    "start_time": "2022-09-13T09:02:13.520Z"
   },
   {
    "duration": 502,
    "start_time": "2022-09-13T09:02:13.524Z"
   },
   {
    "duration": 5,
    "start_time": "2022-09-13T09:03:18.636Z"
   },
   {
    "duration": 5,
    "start_time": "2022-09-13T09:03:57.164Z"
   },
   {
    "duration": 15,
    "start_time": "2022-09-13T09:04:03.100Z"
   },
   {
    "duration": 1867,
    "start_time": "2022-09-13T09:05:26.920Z"
   },
   {
    "duration": 25,
    "start_time": "2022-09-13T09:05:28.789Z"
   },
   {
    "duration": 12,
    "start_time": "2022-09-13T09:05:28.816Z"
   },
   {
    "duration": 14,
    "start_time": "2022-09-13T09:05:28.830Z"
   },
   {
    "duration": 13,
    "start_time": "2022-09-13T09:05:28.845Z"
   },
   {
    "duration": 22,
    "start_time": "2022-09-13T09:05:28.860Z"
   },
   {
    "duration": 22,
    "start_time": "2022-09-13T09:05:28.883Z"
   },
   {
    "duration": 4,
    "start_time": "2022-09-13T09:05:28.907Z"
   },
   {
    "duration": 7,
    "start_time": "2022-09-13T09:05:28.912Z"
   },
   {
    "duration": 7,
    "start_time": "2022-09-13T09:05:28.922Z"
   },
   {
    "duration": 9,
    "start_time": "2022-09-13T09:05:28.930Z"
   },
   {
    "duration": 6,
    "start_time": "2022-09-13T09:05:28.940Z"
   },
   {
    "duration": 7,
    "start_time": "2022-09-13T09:05:28.947Z"
   },
   {
    "duration": 7,
    "start_time": "2022-09-13T09:05:28.955Z"
   },
   {
    "duration": 159,
    "start_time": "2022-09-13T09:05:28.963Z"
   },
   {
    "duration": 151,
    "start_time": "2022-09-13T09:05:29.124Z"
   },
   {
    "duration": 139,
    "start_time": "2022-09-13T09:05:29.276Z"
   },
   {
    "duration": 136,
    "start_time": "2022-09-13T09:05:29.417Z"
   },
   {
    "duration": 3,
    "start_time": "2022-09-13T09:05:29.555Z"
   },
   {
    "duration": 8,
    "start_time": "2022-09-13T09:05:29.559Z"
   },
   {
    "duration": 7,
    "start_time": "2022-09-13T09:05:29.569Z"
   },
   {
    "duration": 9,
    "start_time": "2022-09-13T09:05:29.577Z"
   },
   {
    "duration": 24,
    "start_time": "2022-09-13T09:05:29.587Z"
   },
   {
    "duration": 10,
    "start_time": "2022-09-13T09:05:29.613Z"
   },
   {
    "duration": 467,
    "start_time": "2022-09-13T09:05:29.625Z"
   },
   {
    "duration": 123,
    "start_time": "2022-09-13T09:05:30.094Z"
   },
   {
    "duration": 9,
    "start_time": "2022-09-13T09:05:30.219Z"
   },
   {
    "duration": 23,
    "start_time": "2022-09-13T09:05:30.232Z"
   },
   {
    "duration": 35,
    "start_time": "2022-09-13T09:05:30.256Z"
   },
   {
    "duration": 15,
    "start_time": "2022-09-13T09:05:30.293Z"
   },
   {
    "duration": 17,
    "start_time": "2022-09-13T09:05:30.310Z"
   },
   {
    "duration": 21,
    "start_time": "2022-09-13T09:05:30.329Z"
   },
   {
    "duration": 27,
    "start_time": "2022-09-13T09:05:30.352Z"
   },
   {
    "duration": 32,
    "start_time": "2022-09-13T09:05:30.381Z"
   },
   {
    "duration": 40,
    "start_time": "2022-09-13T09:05:30.415Z"
   },
   {
    "duration": 47,
    "start_time": "2022-09-13T09:05:30.456Z"
   },
   {
    "duration": 43,
    "start_time": "2022-09-13T09:05:30.504Z"
   },
   {
    "duration": 25,
    "start_time": "2022-09-13T09:05:30.549Z"
   },
   {
    "duration": 34,
    "start_time": "2022-09-13T09:05:30.575Z"
   },
   {
    "duration": 32,
    "start_time": "2022-09-13T09:05:30.611Z"
   },
   {
    "duration": 23,
    "start_time": "2022-09-13T09:05:30.645Z"
   },
   {
    "duration": 15,
    "start_time": "2022-09-13T09:05:30.670Z"
   },
   {
    "duration": 34,
    "start_time": "2022-09-13T09:05:30.687Z"
   },
   {
    "duration": 28,
    "start_time": "2022-09-13T09:05:30.723Z"
   },
   {
    "duration": 17,
    "start_time": "2022-09-13T09:05:30.753Z"
   },
   {
    "duration": 125,
    "start_time": "2022-09-13T09:05:34.052Z"
   },
   {
    "duration": 132,
    "start_time": "2022-09-13T09:05:36.568Z"
   },
   {
    "duration": 37547,
    "start_time": "2022-09-13T09:05:47.375Z"
   },
   {
    "duration": 5,
    "start_time": "2022-09-13T09:06:24.924Z"
   },
   {
    "duration": 6,
    "start_time": "2022-09-13T09:06:24.931Z"
   },
   {
    "duration": 6,
    "start_time": "2022-09-13T09:06:25.005Z"
   },
   {
    "duration": 6,
    "start_time": "2022-09-13T09:06:25.012Z"
   },
   {
    "duration": 14,
    "start_time": "2022-09-13T09:06:25.020Z"
   },
   {
    "duration": 4,
    "start_time": "2022-09-13T09:06:25.036Z"
   },
   {
    "duration": 6,
    "start_time": "2022-09-13T09:06:25.042Z"
   },
   {
    "duration": 5,
    "start_time": "2022-09-13T09:06:25.049Z"
   },
   {
    "duration": 8,
    "start_time": "2022-09-13T09:06:25.057Z"
   },
   {
    "duration": 5,
    "start_time": "2022-09-13T09:06:25.066Z"
   },
   {
    "duration": 1391,
    "start_time": "2022-09-13T09:06:25.072Z"
   },
   {
    "duration": 1473,
    "start_time": "2022-09-13T09:08:22.301Z"
   },
   {
    "duration": 1931,
    "start_time": "2022-09-13T09:19:38.549Z"
   },
   {
    "duration": 1803,
    "start_time": "2022-09-13T09:27:24.884Z"
   },
   {
    "duration": 26,
    "start_time": "2022-09-13T09:27:26.689Z"
   },
   {
    "duration": 17,
    "start_time": "2022-09-13T09:27:26.716Z"
   },
   {
    "duration": 21,
    "start_time": "2022-09-13T09:27:26.736Z"
   },
   {
    "duration": 19,
    "start_time": "2022-09-13T09:27:26.759Z"
   },
   {
    "duration": 40,
    "start_time": "2022-09-13T09:27:26.780Z"
   },
   {
    "duration": 6,
    "start_time": "2022-09-13T09:27:26.822Z"
   },
   {
    "duration": 14,
    "start_time": "2022-09-13T09:27:26.830Z"
   },
   {
    "duration": 30,
    "start_time": "2022-09-13T09:27:26.846Z"
   },
   {
    "duration": 24,
    "start_time": "2022-09-13T09:27:26.879Z"
   },
   {
    "duration": 7,
    "start_time": "2022-09-13T09:27:26.905Z"
   },
   {
    "duration": 8,
    "start_time": "2022-09-13T09:27:26.913Z"
   },
   {
    "duration": 23,
    "start_time": "2022-09-13T09:27:26.923Z"
   },
   {
    "duration": 28,
    "start_time": "2022-09-13T09:27:26.948Z"
   },
   {
    "duration": 141,
    "start_time": "2022-09-13T09:27:26.977Z"
   },
   {
    "duration": 147,
    "start_time": "2022-09-13T09:27:27.120Z"
   },
   {
    "duration": 126,
    "start_time": "2022-09-13T09:27:27.269Z"
   },
   {
    "duration": 181,
    "start_time": "2022-09-13T09:27:27.397Z"
   },
   {
    "duration": 4,
    "start_time": "2022-09-13T09:27:27.580Z"
   },
   {
    "duration": 19,
    "start_time": "2022-09-13T09:27:27.586Z"
   },
   {
    "duration": 31,
    "start_time": "2022-09-13T09:27:27.607Z"
   },
   {
    "duration": 43,
    "start_time": "2022-09-13T09:27:27.640Z"
   },
   {
    "duration": 19,
    "start_time": "2022-09-13T09:27:27.685Z"
   },
   {
    "duration": 22,
    "start_time": "2022-09-13T09:27:27.705Z"
   },
   {
    "duration": 499,
    "start_time": "2022-09-13T09:27:27.728Z"
   },
   {
    "duration": 127,
    "start_time": "2022-09-13T09:27:28.229Z"
   },
   {
    "duration": 10,
    "start_time": "2022-09-13T09:27:28.358Z"
   },
   {
    "duration": 11,
    "start_time": "2022-09-13T09:27:28.371Z"
   },
   {
    "duration": 26,
    "start_time": "2022-09-13T09:27:28.384Z"
   },
   {
    "duration": 11,
    "start_time": "2022-09-13T09:27:28.411Z"
   },
   {
    "duration": 6,
    "start_time": "2022-09-13T09:27:28.424Z"
   },
   {
    "duration": 7,
    "start_time": "2022-09-13T09:27:28.431Z"
   },
   {
    "duration": 6,
    "start_time": "2022-09-13T09:27:28.439Z"
   },
   {
    "duration": 9,
    "start_time": "2022-09-13T09:27:28.447Z"
   },
   {
    "duration": 20,
    "start_time": "2022-09-13T09:27:28.458Z"
   },
   {
    "duration": 30,
    "start_time": "2022-09-13T09:27:28.480Z"
   },
   {
    "duration": 15,
    "start_time": "2022-09-13T09:27:28.512Z"
   },
   {
    "duration": 14,
    "start_time": "2022-09-13T09:27:28.528Z"
   },
   {
    "duration": 12,
    "start_time": "2022-09-13T09:27:28.543Z"
   },
   {
    "duration": 13,
    "start_time": "2022-09-13T09:27:28.557Z"
   },
   {
    "duration": 8,
    "start_time": "2022-09-13T09:27:28.571Z"
   },
   {
    "duration": 7,
    "start_time": "2022-09-13T09:27:28.580Z"
   },
   {
    "duration": 32,
    "start_time": "2022-09-13T09:27:28.588Z"
   },
   {
    "duration": 28,
    "start_time": "2022-09-13T09:27:28.622Z"
   },
   {
    "duration": 6,
    "start_time": "2022-09-13T09:27:28.651Z"
   },
   {
    "duration": 142,
    "start_time": "2022-09-13T09:27:28.659Z"
   },
   {
    "duration": 32702,
    "start_time": "2022-09-13T09:27:28.805Z"
   },
   {
    "duration": 3,
    "start_time": "2022-09-13T09:28:01.509Z"
   },
   {
    "duration": 15,
    "start_time": "2022-09-13T09:28:01.513Z"
   },
   {
    "duration": 27,
    "start_time": "2022-09-13T09:28:01.529Z"
   },
   {
    "duration": 14,
    "start_time": "2022-09-13T09:28:01.557Z"
   },
   {
    "duration": 26,
    "start_time": "2022-09-13T09:28:01.573Z"
   },
   {
    "duration": 35,
    "start_time": "2022-09-13T09:28:01.601Z"
   },
   {
    "duration": 29,
    "start_time": "2022-09-13T09:28:01.638Z"
   },
   {
    "duration": 1814,
    "start_time": "2022-09-13T09:28:01.668Z"
   },
   {
    "duration": 1370,
    "start_time": "2022-09-13T09:28:48.821Z"
   },
   {
    "duration": 1891,
    "start_time": "2022-09-13T09:28:56.856Z"
   },
   {
    "duration": 33220,
    "start_time": "2022-09-13T09:36:50.388Z"
   },
   {
    "duration": 3,
    "start_time": "2022-09-13T09:37:23.610Z"
   },
   {
    "duration": 4,
    "start_time": "2022-09-13T09:37:31.891Z"
   },
   {
    "duration": 5,
    "start_time": "2022-09-13T09:37:40.730Z"
   },
   {
    "duration": 3,
    "start_time": "2022-09-13T09:37:43.029Z"
   },
   {
    "duration": 10,
    "start_time": "2022-09-13T09:37:44.428Z"
   },
   {
    "duration": 3,
    "start_time": "2022-09-13T09:37:59.843Z"
   },
   {
    "duration": 4,
    "start_time": "2022-09-13T09:38:00.274Z"
   },
   {
    "duration": 1944,
    "start_time": "2022-09-13T09:38:00.813Z"
   },
   {
    "duration": 38973,
    "start_time": "2022-09-13T09:38:39.556Z"
   },
   {
    "duration": 4,
    "start_time": "2022-09-13T09:39:18.607Z"
   },
   {
    "duration": 137,
    "start_time": "2022-09-13T09:39:23.770Z"
   },
   {
    "duration": 207,
    "start_time": "2022-09-13T09:39:37.712Z"
   },
   {
    "duration": 6,
    "start_time": "2022-09-13T09:39:49.465Z"
   },
   {
    "duration": 879,
    "start_time": "2022-09-13T09:40:34.733Z"
   },
   {
    "duration": 4,
    "start_time": "2022-09-13T09:40:36.913Z"
   },
   {
    "duration": 6,
    "start_time": "2022-09-13T09:40:38.404Z"
   },
   {
    "duration": 12,
    "start_time": "2022-09-13T09:40:42.971Z"
   },
   {
    "duration": 5,
    "start_time": "2022-09-13T09:40:44.124Z"
   },
   {
    "duration": 14,
    "start_time": "2022-09-13T09:41:10.284Z"
   },
   {
    "duration": 40477,
    "start_time": "2022-09-13T09:41:57.741Z"
   },
   {
    "duration": 4,
    "start_time": "2022-09-13T09:42:38.220Z"
   },
   {
    "duration": 87,
    "start_time": "2022-09-13T09:42:38.226Z"
   },
   {
    "duration": 6,
    "start_time": "2022-09-13T09:42:38.316Z"
   },
   {
    "duration": 6,
    "start_time": "2022-09-13T09:42:38.324Z"
   },
   {
    "duration": 4,
    "start_time": "2022-09-13T09:42:38.331Z"
   },
   {
    "duration": 15,
    "start_time": "2022-09-13T09:42:38.337Z"
   },
   {
    "duration": 52,
    "start_time": "2022-09-13T09:42:38.354Z"
   },
   {
    "duration": 5,
    "start_time": "2022-09-13T09:42:38.408Z"
   },
   {
    "duration": 2018,
    "start_time": "2022-09-13T09:42:38.416Z"
   },
   {
    "duration": 7,
    "start_time": "2022-09-13T09:50:03.512Z"
   },
   {
    "duration": 7,
    "start_time": "2022-09-13T09:50:32.199Z"
   },
   {
    "duration": 42238,
    "start_time": "2022-09-13T09:52:56.389Z"
   },
   {
    "duration": 76,
    "start_time": "2022-09-13T09:53:38.629Z"
   },
   {
    "duration": 206,
    "start_time": "2022-09-13T09:53:38.707Z"
   },
   {
    "duration": 13,
    "start_time": "2022-09-13T10:07:04.269Z"
   },
   {
    "duration": 34,
    "start_time": "2022-09-13T10:07:50.124Z"
   },
   {
    "duration": 4,
    "start_time": "2022-09-13T10:07:56.468Z"
   },
   {
    "duration": 4,
    "start_time": "2022-09-13T10:07:57.217Z"
   },
   {
    "duration": 366,
    "start_time": "2022-09-13T10:07:57.958Z"
   },
   {
    "duration": 1773,
    "start_time": "2022-09-13T10:09:08.395Z"
   },
   {
    "duration": 26,
    "start_time": "2022-09-13T10:09:10.170Z"
   },
   {
    "duration": 22,
    "start_time": "2022-09-13T10:09:10.197Z"
   },
   {
    "duration": 15,
    "start_time": "2022-09-13T10:09:10.220Z"
   },
   {
    "duration": 9,
    "start_time": "2022-09-13T10:09:10.237Z"
   },
   {
    "duration": 23,
    "start_time": "2022-09-13T10:09:10.247Z"
   },
   {
    "duration": 6,
    "start_time": "2022-09-13T10:09:10.272Z"
   },
   {
    "duration": 5,
    "start_time": "2022-09-13T10:09:10.280Z"
   },
   {
    "duration": 5,
    "start_time": "2022-09-13T10:09:10.305Z"
   },
   {
    "duration": 9,
    "start_time": "2022-09-13T10:09:10.311Z"
   },
   {
    "duration": 8,
    "start_time": "2022-09-13T10:09:10.322Z"
   },
   {
    "duration": 5,
    "start_time": "2022-09-13T10:09:10.331Z"
   },
   {
    "duration": 7,
    "start_time": "2022-09-13T10:09:10.337Z"
   },
   {
    "duration": 5,
    "start_time": "2022-09-13T10:09:10.347Z"
   },
   {
    "duration": 161,
    "start_time": "2022-09-13T10:09:10.353Z"
   },
   {
    "duration": 141,
    "start_time": "2022-09-13T10:09:10.516Z"
   },
   {
    "duration": 131,
    "start_time": "2022-09-13T10:09:10.659Z"
   },
   {
    "duration": 138,
    "start_time": "2022-09-13T10:09:10.792Z"
   },
   {
    "duration": 2,
    "start_time": "2022-09-13T10:09:10.931Z"
   },
   {
    "duration": 8,
    "start_time": "2022-09-13T10:09:10.935Z"
   },
   {
    "duration": 7,
    "start_time": "2022-09-13T10:09:10.944Z"
   },
   {
    "duration": 7,
    "start_time": "2022-09-13T10:09:10.952Z"
   },
   {
    "duration": 11,
    "start_time": "2022-09-13T10:09:10.961Z"
   },
   {
    "duration": 12,
    "start_time": "2022-09-13T10:09:10.974Z"
   },
   {
    "duration": 488,
    "start_time": "2022-09-13T10:09:10.987Z"
   },
   {
    "duration": 142,
    "start_time": "2022-09-13T10:09:11.477Z"
   },
   {
    "duration": 11,
    "start_time": "2022-09-13T10:09:11.620Z"
   },
   {
    "duration": 15,
    "start_time": "2022-09-13T10:09:11.633Z"
   },
   {
    "duration": 10,
    "start_time": "2022-09-13T10:09:11.650Z"
   },
   {
    "duration": 6,
    "start_time": "2022-09-13T10:09:11.662Z"
   },
   {
    "duration": 7,
    "start_time": "2022-09-13T10:09:11.670Z"
   },
   {
    "duration": 4,
    "start_time": "2022-09-13T10:09:11.679Z"
   },
   {
    "duration": 31,
    "start_time": "2022-09-13T10:09:11.685Z"
   },
   {
    "duration": 8,
    "start_time": "2022-09-13T10:09:11.718Z"
   },
   {
    "duration": 19,
    "start_time": "2022-09-13T10:09:11.728Z"
   },
   {
    "duration": 22,
    "start_time": "2022-09-13T10:09:11.748Z"
   },
   {
    "duration": 13,
    "start_time": "2022-09-13T10:09:11.772Z"
   },
   {
    "duration": 33,
    "start_time": "2022-09-13T10:09:11.787Z"
   },
   {
    "duration": 13,
    "start_time": "2022-09-13T10:09:11.821Z"
   },
   {
    "duration": 9,
    "start_time": "2022-09-13T10:09:11.836Z"
   },
   {
    "duration": 5,
    "start_time": "2022-09-13T10:09:11.848Z"
   },
   {
    "duration": 9,
    "start_time": "2022-09-13T10:09:11.855Z"
   },
   {
    "duration": 24,
    "start_time": "2022-09-13T10:09:11.865Z"
   },
   {
    "duration": 37,
    "start_time": "2022-09-13T10:09:11.890Z"
   },
   {
    "duration": 5,
    "start_time": "2022-09-13T10:09:11.928Z"
   },
   {
    "duration": 154,
    "start_time": "2022-09-13T10:09:11.934Z"
   },
   {
    "duration": 38235,
    "start_time": "2022-09-13T10:09:12.090Z"
   },
   {
    "duration": 4,
    "start_time": "2022-09-13T10:09:50.327Z"
   },
   {
    "duration": 83,
    "start_time": "2022-09-13T10:09:50.333Z"
   },
   {
    "duration": 6,
    "start_time": "2022-09-13T10:09:50.417Z"
   },
   {
    "duration": 23,
    "start_time": "2022-09-13T10:09:50.424Z"
   },
   {
    "duration": 17,
    "start_time": "2022-09-13T10:09:50.448Z"
   },
   {
    "duration": 23,
    "start_time": "2022-09-13T10:09:50.466Z"
   },
   {
    "duration": 7,
    "start_time": "2022-09-13T10:09:50.491Z"
   },
   {
    "duration": 9,
    "start_time": "2022-09-13T10:09:50.515Z"
   },
   {
    "duration": 1900,
    "start_time": "2022-09-13T10:09:50.526Z"
   },
   {
    "duration": 1918,
    "start_time": "2022-09-13T10:11:52.417Z"
   },
   {
    "duration": 5,
    "start_time": "2022-09-13T10:15:39.016Z"
   },
   {
    "duration": 124,
    "start_time": "2022-09-13T10:26:38.489Z"
   },
   {
    "duration": 2,
    "start_time": "2022-09-13T10:26:45.229Z"
   },
   {
    "duration": 3,
    "start_time": "2022-09-13T10:26:45.844Z"
   },
   {
    "duration": 16,
    "start_time": "2022-09-13T10:26:46.378Z"
   },
   {
    "duration": 18,
    "start_time": "2022-09-13T10:27:15.140Z"
   },
   {
    "duration": 47,
    "start_time": "2022-09-13T10:27:26.270Z"
   },
   {
    "duration": 3,
    "start_time": "2022-09-13T10:27:30.417Z"
   },
   {
    "duration": 62,
    "start_time": "2022-09-13T10:27:31.452Z"
   },
   {
    "duration": 170,
    "start_time": "2022-09-13T10:28:22.353Z"
   },
   {
    "duration": 1940,
    "start_time": "2022-09-13T10:41:38.961Z"
   },
   {
    "duration": 26,
    "start_time": "2022-09-13T10:41:40.903Z"
   },
   {
    "duration": 19,
    "start_time": "2022-09-13T10:41:40.931Z"
   },
   {
    "duration": 16,
    "start_time": "2022-09-13T10:41:40.953Z"
   },
   {
    "duration": 10,
    "start_time": "2022-09-13T10:41:40.971Z"
   },
   {
    "duration": 34,
    "start_time": "2022-09-13T10:41:40.983Z"
   },
   {
    "duration": 5,
    "start_time": "2022-09-13T10:41:41.019Z"
   },
   {
    "duration": 5,
    "start_time": "2022-09-13T10:41:41.026Z"
   },
   {
    "duration": 11,
    "start_time": "2022-09-13T10:41:41.033Z"
   },
   {
    "duration": 8,
    "start_time": "2022-09-13T10:41:41.048Z"
   },
   {
    "duration": 11,
    "start_time": "2022-09-13T10:41:41.058Z"
   },
   {
    "duration": 6,
    "start_time": "2022-09-13T10:41:41.071Z"
   },
   {
    "duration": 35,
    "start_time": "2022-09-13T10:41:41.079Z"
   },
   {
    "duration": 9,
    "start_time": "2022-09-13T10:41:41.116Z"
   },
   {
    "duration": 148,
    "start_time": "2022-09-13T10:41:41.127Z"
   },
   {
    "duration": 150,
    "start_time": "2022-09-13T10:41:41.277Z"
   },
   {
    "duration": 152,
    "start_time": "2022-09-13T10:41:41.429Z"
   },
   {
    "duration": 233,
    "start_time": "2022-09-13T10:41:41.583Z"
   },
   {
    "duration": 3,
    "start_time": "2022-09-13T10:41:41.819Z"
   },
   {
    "duration": 11,
    "start_time": "2022-09-13T10:41:41.824Z"
   },
   {
    "duration": 4,
    "start_time": "2022-09-13T10:41:41.837Z"
   },
   {
    "duration": 9,
    "start_time": "2022-09-13T10:41:41.843Z"
   },
   {
    "duration": 17,
    "start_time": "2022-09-13T10:41:41.854Z"
   },
   {
    "duration": 12,
    "start_time": "2022-09-13T10:41:41.873Z"
   },
   {
    "duration": 522,
    "start_time": "2022-09-13T10:41:41.886Z"
   },
   {
    "duration": 130,
    "start_time": "2022-09-13T10:41:42.409Z"
   },
   {
    "duration": 12,
    "start_time": "2022-09-13T10:41:42.540Z"
   },
   {
    "duration": 23,
    "start_time": "2022-09-13T10:41:42.557Z"
   },
   {
    "duration": 14,
    "start_time": "2022-09-13T10:41:42.582Z"
   },
   {
    "duration": 7,
    "start_time": "2022-09-13T10:41:42.604Z"
   },
   {
    "duration": 10,
    "start_time": "2022-09-13T10:41:42.613Z"
   },
   {
    "duration": 5,
    "start_time": "2022-09-13T10:41:42.625Z"
   },
   {
    "duration": 11,
    "start_time": "2022-09-13T10:41:42.631Z"
   },
   {
    "duration": 13,
    "start_time": "2022-09-13T10:41:42.644Z"
   },
   {
    "duration": 28,
    "start_time": "2022-09-13T10:41:42.659Z"
   },
   {
    "duration": 38,
    "start_time": "2022-09-13T10:41:42.688Z"
   },
   {
    "duration": 19,
    "start_time": "2022-09-13T10:41:42.728Z"
   },
   {
    "duration": 14,
    "start_time": "2022-09-13T10:41:42.749Z"
   },
   {
    "duration": 53,
    "start_time": "2022-09-13T10:41:42.764Z"
   },
   {
    "duration": 11,
    "start_time": "2022-09-13T10:41:42.818Z"
   },
   {
    "duration": 7,
    "start_time": "2022-09-13T10:41:42.831Z"
   },
   {
    "duration": 9,
    "start_time": "2022-09-13T10:41:42.840Z"
   },
   {
    "duration": 26,
    "start_time": "2022-09-13T10:41:42.851Z"
   },
   {
    "duration": 32,
    "start_time": "2022-09-13T10:41:42.879Z"
   },
   {
    "duration": 6,
    "start_time": "2022-09-13T10:41:42.913Z"
   },
   {
    "duration": 133,
    "start_time": "2022-09-13T10:41:42.921Z"
   },
   {
    "duration": 38860,
    "start_time": "2022-09-13T10:41:43.055Z"
   },
   {
    "duration": 5,
    "start_time": "2022-09-13T10:42:21.917Z"
   },
   {
    "duration": 8,
    "start_time": "2022-09-13T10:42:21.925Z"
   },
   {
    "duration": 80,
    "start_time": "2022-09-13T10:42:21.935Z"
   },
   {
    "duration": 5,
    "start_time": "2022-09-13T10:42:22.017Z"
   },
   {
    "duration": 9,
    "start_time": "2022-09-13T10:42:22.024Z"
   },
   {
    "duration": 11,
    "start_time": "2022-09-13T10:42:22.035Z"
   },
   {
    "duration": 67,
    "start_time": "2022-09-13T10:42:22.048Z"
   },
   {
    "duration": 5,
    "start_time": "2022-09-13T10:42:22.117Z"
   },
   {
    "duration": 9,
    "start_time": "2022-09-13T10:42:22.124Z"
   },
   {
    "duration": 1923,
    "start_time": "2022-09-13T10:42:22.135Z"
   },
   {
    "duration": 2,
    "start_time": "2022-09-13T10:42:24.060Z"
   },
   {
    "duration": 11,
    "start_time": "2022-09-13T10:42:24.064Z"
   },
   {
    "duration": 1081984,
    "start_time": "2022-09-13T10:42:24.077Z"
   },
   {
    "duration": 0,
    "start_time": "2022-09-13T11:00:26.063Z"
   },
   {
    "duration": 0,
    "start_time": "2022-09-13T11:00:26.065Z"
   },
   {
    "duration": 2002,
    "start_time": "2022-09-13T11:00:40.066Z"
   },
   {
    "duration": 26,
    "start_time": "2022-09-13T11:00:42.070Z"
   },
   {
    "duration": 20,
    "start_time": "2022-09-13T11:00:42.097Z"
   },
   {
    "duration": 21,
    "start_time": "2022-09-13T11:00:42.123Z"
   },
   {
    "duration": 10,
    "start_time": "2022-09-13T11:00:42.146Z"
   },
   {
    "duration": 25,
    "start_time": "2022-09-13T11:00:42.157Z"
   },
   {
    "duration": 5,
    "start_time": "2022-09-13T11:00:42.183Z"
   },
   {
    "duration": 20,
    "start_time": "2022-09-13T11:00:42.190Z"
   },
   {
    "duration": 9,
    "start_time": "2022-09-13T11:00:42.219Z"
   },
   {
    "duration": 33,
    "start_time": "2022-09-13T11:00:42.231Z"
   },
   {
    "duration": 15,
    "start_time": "2022-09-13T11:00:42.266Z"
   },
   {
    "duration": 6,
    "start_time": "2022-09-13T11:00:42.283Z"
   },
   {
    "duration": 11,
    "start_time": "2022-09-13T11:00:42.290Z"
   },
   {
    "duration": 14,
    "start_time": "2022-09-13T11:00:42.303Z"
   },
   {
    "duration": 162,
    "start_time": "2022-09-13T11:00:42.319Z"
   },
   {
    "duration": 153,
    "start_time": "2022-09-13T11:00:42.483Z"
   },
   {
    "duration": 147,
    "start_time": "2022-09-13T11:00:42.638Z"
   },
   {
    "duration": 146,
    "start_time": "2022-09-13T11:00:42.787Z"
   },
   {
    "duration": 3,
    "start_time": "2022-09-13T11:00:42.934Z"
   },
   {
    "duration": 10,
    "start_time": "2022-09-13T11:00:42.939Z"
   },
   {
    "duration": 6,
    "start_time": "2022-09-13T11:00:42.950Z"
   },
   {
    "duration": 8,
    "start_time": "2022-09-13T11:00:42.957Z"
   },
   {
    "duration": 14,
    "start_time": "2022-09-13T11:00:42.967Z"
   },
   {
    "duration": 35,
    "start_time": "2022-09-13T11:00:42.982Z"
   },
   {
    "duration": 481,
    "start_time": "2022-09-13T11:00:43.019Z"
   },
   {
    "duration": 123,
    "start_time": "2022-09-13T11:00:43.502Z"
   },
   {
    "duration": 11,
    "start_time": "2022-09-13T11:00:43.627Z"
   },
   {
    "duration": 13,
    "start_time": "2022-09-13T11:00:43.641Z"
   },
   {
    "duration": 9,
    "start_time": "2022-09-13T11:00:43.655Z"
   },
   {
    "duration": 4,
    "start_time": "2022-09-13T11:00:43.666Z"
   },
   {
    "duration": 6,
    "start_time": "2022-09-13T11:00:43.672Z"
   },
   {
    "duration": 29,
    "start_time": "2022-09-13T11:00:43.679Z"
   },
   {
    "duration": 13,
    "start_time": "2022-09-13T11:00:43.715Z"
   },
   {
    "duration": 9,
    "start_time": "2022-09-13T11:00:43.730Z"
   },
   {
    "duration": 25,
    "start_time": "2022-09-13T11:00:43.740Z"
   },
   {
    "duration": 22,
    "start_time": "2022-09-13T11:00:43.766Z"
   },
   {
    "duration": 18,
    "start_time": "2022-09-13T11:00:43.790Z"
   },
   {
    "duration": 19,
    "start_time": "2022-09-13T11:00:43.811Z"
   },
   {
    "duration": 11,
    "start_time": "2022-09-13T11:00:43.831Z"
   },
   {
    "duration": 14,
    "start_time": "2022-09-13T11:00:43.843Z"
   },
   {
    "duration": 7,
    "start_time": "2022-09-13T11:00:43.859Z"
   },
   {
    "duration": 8,
    "start_time": "2022-09-13T11:00:43.867Z"
   },
   {
    "duration": 33,
    "start_time": "2022-09-13T11:00:43.877Z"
   },
   {
    "duration": 23,
    "start_time": "2022-09-13T11:00:43.911Z"
   },
   {
    "duration": 8,
    "start_time": "2022-09-13T11:00:43.935Z"
   },
   {
    "duration": 146,
    "start_time": "2022-09-13T11:00:43.944Z"
   },
   {
    "duration": 41719,
    "start_time": "2022-09-13T11:00:44.092Z"
   },
   {
    "duration": 5,
    "start_time": "2022-09-13T11:01:25.813Z"
   },
   {
    "duration": 21,
    "start_time": "2022-09-13T11:01:25.819Z"
   },
   {
    "duration": 90,
    "start_time": "2022-09-13T11:01:25.842Z"
   },
   {
    "duration": 6,
    "start_time": "2022-09-13T11:01:25.934Z"
   },
   {
    "duration": 5,
    "start_time": "2022-09-13T11:01:25.942Z"
   },
   {
    "duration": 62,
    "start_time": "2022-09-13T11:01:25.948Z"
   },
   {
    "duration": 32,
    "start_time": "2022-09-13T11:01:26.011Z"
   },
   {
    "duration": 14,
    "start_time": "2022-09-13T11:01:26.045Z"
   },
   {
    "duration": 8,
    "start_time": "2022-09-13T11:01:26.061Z"
   },
   {
    "duration": 2060,
    "start_time": "2022-09-13T11:01:26.071Z"
   },
   {
    "duration": 4,
    "start_time": "2022-09-13T11:01:28.133Z"
   },
   {
    "duration": 9,
    "start_time": "2022-09-13T11:01:28.139Z"
   },
   {
    "duration": 24782,
    "start_time": "2022-09-13T11:01:28.150Z"
   },
   {
    "duration": 75,
    "start_time": "2022-09-13T11:01:52.933Z"
   },
   {
    "duration": 966,
    "start_time": "2022-09-13T11:01:53.009Z"
   },
   {
    "duration": 742,
    "start_time": "2022-09-13T11:25:58.788Z"
   },
   {
    "duration": 2061,
    "start_time": "2022-09-13T11:26:37.186Z"
   },
   {
    "duration": 136,
    "start_time": "2022-09-13T11:29:26.449Z"
   },
   {
    "duration": 127,
    "start_time": "2022-09-13T11:29:43.355Z"
   },
   {
    "duration": 2,
    "start_time": "2022-09-13T11:29:52.921Z"
   },
   {
    "duration": 2,
    "start_time": "2022-09-13T11:29:53.432Z"
   },
   {
    "duration": 21147,
    "start_time": "2022-09-13T11:29:54.562Z"
   },
   {
    "duration": 8,
    "start_time": "2022-09-13T11:30:15.715Z"
   },
   {
    "duration": 126,
    "start_time": "2022-09-13T11:30:40.860Z"
   },
   {
    "duration": 5,
    "start_time": "2022-09-13T11:30:42.044Z"
   },
   {
    "duration": 3,
    "start_time": "2022-09-13T11:30:43.144Z"
   },
   {
    "duration": 2,
    "start_time": "2022-09-13T11:30:43.647Z"
   },
   {
    "duration": 2963015,
    "start_time": "2022-09-13T11:30:44.193Z"
   },
   {
    "duration": 22,
    "start_time": "2022-09-13T12:20:07.210Z"
   },
   {
    "duration": 5,
    "start_time": "2022-09-13T12:20:07.234Z"
   },
   {
    "duration": 134,
    "start_time": "2022-09-13T12:33:20.771Z"
   },
   {
    "duration": 35554,
    "start_time": "2022-09-13T12:33:22.654Z"
   },
   {
    "duration": 4,
    "start_time": "2022-09-13T12:33:58.210Z"
   },
   {
    "duration": 3483,
    "start_time": "2022-09-13T12:37:30.379Z"
   },
   {
    "duration": 2517,
    "start_time": "2022-09-13T12:37:33.864Z"
   },
   {
    "duration": 12,
    "start_time": "2022-09-13T12:37:37.468Z"
   },
   {
    "duration": 2551,
    "start_time": "2022-09-13T12:38:29.689Z"
   },
   {
    "duration": 0,
    "start_time": "2022-09-13T12:38:32.244Z"
   },
   {
    "duration": 0,
    "start_time": "2022-09-13T12:38:32.245Z"
   },
   {
    "duration": 0,
    "start_time": "2022-09-13T12:38:32.246Z"
   },
   {
    "duration": 0,
    "start_time": "2022-09-13T12:38:32.248Z"
   },
   {
    "duration": 0,
    "start_time": "2022-09-13T12:38:32.249Z"
   },
   {
    "duration": 0,
    "start_time": "2022-09-13T12:38:32.250Z"
   },
   {
    "duration": 0,
    "start_time": "2022-09-13T12:38:32.252Z"
   },
   {
    "duration": 0,
    "start_time": "2022-09-13T12:38:32.253Z"
   },
   {
    "duration": 0,
    "start_time": "2022-09-13T12:38:32.254Z"
   },
   {
    "duration": 0,
    "start_time": "2022-09-13T12:38:32.256Z"
   },
   {
    "duration": 0,
    "start_time": "2022-09-13T12:38:32.257Z"
   },
   {
    "duration": 0,
    "start_time": "2022-09-13T12:38:32.259Z"
   },
   {
    "duration": 0,
    "start_time": "2022-09-13T12:38:32.260Z"
   },
   {
    "duration": 0,
    "start_time": "2022-09-13T12:38:32.261Z"
   },
   {
    "duration": 0,
    "start_time": "2022-09-13T12:38:32.263Z"
   },
   {
    "duration": 0,
    "start_time": "2022-09-13T12:38:32.265Z"
   },
   {
    "duration": 0,
    "start_time": "2022-09-13T12:38:32.266Z"
   },
   {
    "duration": 0,
    "start_time": "2022-09-13T12:38:32.267Z"
   },
   {
    "duration": 0,
    "start_time": "2022-09-13T12:38:32.268Z"
   },
   {
    "duration": 0,
    "start_time": "2022-09-13T12:38:32.269Z"
   },
   {
    "duration": 0,
    "start_time": "2022-09-13T12:38:32.270Z"
   },
   {
    "duration": 0,
    "start_time": "2022-09-13T12:38:32.271Z"
   },
   {
    "duration": 0,
    "start_time": "2022-09-13T12:38:32.273Z"
   },
   {
    "duration": 0,
    "start_time": "2022-09-13T12:38:32.274Z"
   },
   {
    "duration": 0,
    "start_time": "2022-09-13T12:38:32.276Z"
   },
   {
    "duration": 0,
    "start_time": "2022-09-13T12:38:32.277Z"
   },
   {
    "duration": 0,
    "start_time": "2022-09-13T12:38:32.318Z"
   },
   {
    "duration": 0,
    "start_time": "2022-09-13T12:38:32.319Z"
   },
   {
    "duration": 0,
    "start_time": "2022-09-13T12:38:32.320Z"
   },
   {
    "duration": 0,
    "start_time": "2022-09-13T12:38:32.321Z"
   },
   {
    "duration": 0,
    "start_time": "2022-09-13T12:38:32.322Z"
   },
   {
    "duration": 0,
    "start_time": "2022-09-13T12:38:32.323Z"
   },
   {
    "duration": 0,
    "start_time": "2022-09-13T12:38:32.324Z"
   },
   {
    "duration": 0,
    "start_time": "2022-09-13T12:38:32.325Z"
   },
   {
    "duration": 0,
    "start_time": "2022-09-13T12:38:32.326Z"
   },
   {
    "duration": 0,
    "start_time": "2022-09-13T12:38:32.327Z"
   },
   {
    "duration": 0,
    "start_time": "2022-09-13T12:38:32.328Z"
   },
   {
    "duration": 0,
    "start_time": "2022-09-13T12:38:32.329Z"
   },
   {
    "duration": 0,
    "start_time": "2022-09-13T12:38:32.330Z"
   },
   {
    "duration": 0,
    "start_time": "2022-09-13T12:38:32.331Z"
   },
   {
    "duration": 0,
    "start_time": "2022-09-13T12:38:32.332Z"
   },
   {
    "duration": 0,
    "start_time": "2022-09-13T12:38:32.333Z"
   },
   {
    "duration": 0,
    "start_time": "2022-09-13T12:38:32.334Z"
   },
   {
    "duration": 0,
    "start_time": "2022-09-13T12:38:32.335Z"
   },
   {
    "duration": 0,
    "start_time": "2022-09-13T12:38:32.336Z"
   },
   {
    "duration": 0,
    "start_time": "2022-09-13T12:38:32.337Z"
   },
   {
    "duration": 0,
    "start_time": "2022-09-13T12:38:32.338Z"
   },
   {
    "duration": 0,
    "start_time": "2022-09-13T12:38:32.339Z"
   },
   {
    "duration": 0,
    "start_time": "2022-09-13T12:38:32.340Z"
   },
   {
    "duration": 0,
    "start_time": "2022-09-13T12:38:32.341Z"
   },
   {
    "duration": 0,
    "start_time": "2022-09-13T12:38:32.342Z"
   },
   {
    "duration": 0,
    "start_time": "2022-09-13T12:38:32.343Z"
   },
   {
    "duration": 0,
    "start_time": "2022-09-13T12:38:32.344Z"
   },
   {
    "duration": 0,
    "start_time": "2022-09-13T12:38:32.345Z"
   },
   {
    "duration": 0,
    "start_time": "2022-09-13T12:38:32.346Z"
   },
   {
    "duration": 0,
    "start_time": "2022-09-13T12:38:32.347Z"
   },
   {
    "duration": 0,
    "start_time": "2022-09-13T12:38:32.348Z"
   },
   {
    "duration": 0,
    "start_time": "2022-09-13T12:38:32.349Z"
   },
   {
    "duration": 0,
    "start_time": "2022-09-13T12:38:32.350Z"
   },
   {
    "duration": 0,
    "start_time": "2022-09-13T12:38:32.351Z"
   },
   {
    "duration": 0,
    "start_time": "2022-09-13T12:38:32.352Z"
   },
   {
    "duration": 0,
    "start_time": "2022-09-13T12:38:32.352Z"
   },
   {
    "duration": 0,
    "start_time": "2022-09-13T12:38:32.353Z"
   },
   {
    "duration": 0,
    "start_time": "2022-09-13T12:38:32.354Z"
   },
   {
    "duration": 0,
    "start_time": "2022-09-13T12:38:32.405Z"
   },
   {
    "duration": 1,
    "start_time": "2022-09-13T12:38:32.406Z"
   },
   {
    "duration": 0,
    "start_time": "2022-09-13T12:38:32.407Z"
   },
   {
    "duration": 0,
    "start_time": "2022-09-13T12:38:32.408Z"
   },
   {
    "duration": 0,
    "start_time": "2022-09-13T12:38:32.409Z"
   },
   {
    "duration": 0,
    "start_time": "2022-09-13T12:38:32.409Z"
   },
   {
    "duration": 0,
    "start_time": "2022-09-13T12:38:32.410Z"
   },
   {
    "duration": 0,
    "start_time": "2022-09-13T12:38:32.411Z"
   },
   {
    "duration": 1989,
    "start_time": "2022-09-13T12:38:37.401Z"
   },
   {
    "duration": 61,
    "start_time": "2022-09-13T12:38:39.392Z"
   },
   {
    "duration": 14,
    "start_time": "2022-09-13T12:38:39.454Z"
   },
   {
    "duration": 15,
    "start_time": "2022-09-13T12:38:39.470Z"
   },
   {
    "duration": 9,
    "start_time": "2022-09-13T12:38:39.487Z"
   },
   {
    "duration": 36,
    "start_time": "2022-09-13T12:38:39.498Z"
   },
   {
    "duration": 5,
    "start_time": "2022-09-13T12:38:39.535Z"
   },
   {
    "duration": 6,
    "start_time": "2022-09-13T12:38:39.541Z"
   },
   {
    "duration": 8,
    "start_time": "2022-09-13T12:38:39.548Z"
   },
   {
    "duration": 7,
    "start_time": "2022-09-13T12:38:39.558Z"
   },
   {
    "duration": 10,
    "start_time": "2022-09-13T12:38:39.566Z"
   },
   {
    "duration": 6,
    "start_time": "2022-09-13T12:38:39.577Z"
   },
   {
    "duration": 9,
    "start_time": "2022-09-13T12:38:39.584Z"
   },
   {
    "duration": 22,
    "start_time": "2022-09-13T12:38:39.594Z"
   },
   {
    "duration": 134,
    "start_time": "2022-09-13T12:38:39.618Z"
   },
   {
    "duration": 141,
    "start_time": "2022-09-13T12:38:39.753Z"
   },
   {
    "duration": 142,
    "start_time": "2022-09-13T12:38:39.896Z"
   },
   {
    "duration": 140,
    "start_time": "2022-09-13T12:38:40.040Z"
   },
   {
    "duration": 3,
    "start_time": "2022-09-13T12:38:40.182Z"
   },
   {
    "duration": 19,
    "start_time": "2022-09-13T12:38:40.188Z"
   },
   {
    "duration": 12,
    "start_time": "2022-09-13T12:38:40.209Z"
   },
   {
    "duration": 10,
    "start_time": "2022-09-13T12:38:40.223Z"
   },
   {
    "duration": 12,
    "start_time": "2022-09-13T12:38:40.234Z"
   },
   {
    "duration": 30,
    "start_time": "2022-09-13T12:38:40.248Z"
   },
   {
    "duration": 517,
    "start_time": "2022-09-13T12:38:40.279Z"
   },
   {
    "duration": 139,
    "start_time": "2022-09-13T12:38:40.798Z"
   },
   {
    "duration": 10,
    "start_time": "2022-09-13T12:38:40.938Z"
   },
   {
    "duration": 14,
    "start_time": "2022-09-13T12:38:40.951Z"
   },
   {
    "duration": 8,
    "start_time": "2022-09-13T12:38:40.966Z"
   },
   {
    "duration": 7,
    "start_time": "2022-09-13T12:38:40.975Z"
   },
   {
    "duration": 6,
    "start_time": "2022-09-13T12:38:40.983Z"
   },
   {
    "duration": 28,
    "start_time": "2022-09-13T12:38:40.990Z"
   },
   {
    "duration": 5,
    "start_time": "2022-09-13T12:38:41.020Z"
   },
   {
    "duration": 8,
    "start_time": "2022-09-13T12:38:41.027Z"
   },
   {
    "duration": 22,
    "start_time": "2022-09-13T12:38:41.037Z"
   },
   {
    "duration": 23,
    "start_time": "2022-09-13T12:38:41.061Z"
   },
   {
    "duration": 38,
    "start_time": "2022-09-13T12:38:41.085Z"
   },
   {
    "duration": 13,
    "start_time": "2022-09-13T12:38:41.124Z"
   },
   {
    "duration": 12,
    "start_time": "2022-09-13T12:38:41.138Z"
   },
   {
    "duration": 11,
    "start_time": "2022-09-13T12:38:41.151Z"
   },
   {
    "duration": 6,
    "start_time": "2022-09-13T12:38:41.164Z"
   },
   {
    "duration": 7,
    "start_time": "2022-09-13T12:38:41.171Z"
   },
   {
    "duration": 43,
    "start_time": "2022-09-13T12:38:41.180Z"
   },
   {
    "duration": 22,
    "start_time": "2022-09-13T12:38:41.225Z"
   },
   {
    "duration": 5,
    "start_time": "2022-09-13T12:38:41.249Z"
   },
   {
    "duration": 2525,
    "start_time": "2022-09-13T12:38:41.256Z"
   },
   {
    "duration": 1811,
    "start_time": "2022-09-13T12:38:43.783Z"
   },
   {
    "duration": 0,
    "start_time": "2022-09-13T12:38:45.595Z"
   },
   {
    "duration": 0,
    "start_time": "2022-09-13T12:38:45.597Z"
   },
   {
    "duration": 0,
    "start_time": "2022-09-13T12:38:45.598Z"
   },
   {
    "duration": 0,
    "start_time": "2022-09-13T12:38:45.606Z"
   },
   {
    "duration": 0,
    "start_time": "2022-09-13T12:38:45.609Z"
   },
   {
    "duration": 0,
    "start_time": "2022-09-13T12:38:45.609Z"
   },
   {
    "duration": 0,
    "start_time": "2022-09-13T12:38:45.610Z"
   },
   {
    "duration": 0,
    "start_time": "2022-09-13T12:38:45.619Z"
   },
   {
    "duration": 0,
    "start_time": "2022-09-13T12:38:45.620Z"
   },
   {
    "duration": 0,
    "start_time": "2022-09-13T12:38:45.622Z"
   },
   {
    "duration": 0,
    "start_time": "2022-09-13T12:38:45.623Z"
   },
   {
    "duration": 0,
    "start_time": "2022-09-13T12:38:45.625Z"
   },
   {
    "duration": 0,
    "start_time": "2022-09-13T12:38:45.626Z"
   },
   {
    "duration": 0,
    "start_time": "2022-09-13T12:38:45.627Z"
   },
   {
    "duration": 0,
    "start_time": "2022-09-13T12:38:45.628Z"
   },
   {
    "duration": 0,
    "start_time": "2022-09-13T12:38:45.629Z"
   },
   {
    "duration": 0,
    "start_time": "2022-09-13T12:38:45.631Z"
   },
   {
    "duration": 0,
    "start_time": "2022-09-13T12:38:45.632Z"
   },
   {
    "duration": 0,
    "start_time": "2022-09-13T12:38:45.634Z"
   },
   {
    "duration": 0,
    "start_time": "2022-09-13T12:38:45.635Z"
   },
   {
    "duration": 0,
    "start_time": "2022-09-13T12:38:45.636Z"
   },
   {
    "duration": 0,
    "start_time": "2022-09-13T12:38:45.637Z"
   },
   {
    "duration": 0,
    "start_time": "2022-09-13T12:38:45.638Z"
   },
   {
    "duration": 0,
    "start_time": "2022-09-13T12:38:45.640Z"
   },
   {
    "duration": 0,
    "start_time": "2022-09-13T12:38:45.641Z"
   },
   {
    "duration": 0,
    "start_time": "2022-09-13T12:38:45.642Z"
   },
   {
    "duration": 1978,
    "start_time": "2022-09-13T12:43:37.842Z"
   },
   {
    "duration": 1388,
    "start_time": "2022-09-13T12:43:39.822Z"
   },
   {
    "duration": 0,
    "start_time": "2022-09-13T12:43:41.212Z"
   },
   {
    "duration": 1956,
    "start_time": "2022-09-13T12:44:17.080Z"
   },
   {
    "duration": 1590,
    "start_time": "2022-09-13T12:44:19.038Z"
   },
   {
    "duration": 1853,
    "start_time": "2022-09-13T12:44:52.486Z"
   },
   {
    "duration": 60,
    "start_time": "2022-09-13T12:44:54.341Z"
   },
   {
    "duration": 17,
    "start_time": "2022-09-13T12:44:54.403Z"
   },
   {
    "duration": 23,
    "start_time": "2022-09-13T12:44:54.423Z"
   },
   {
    "duration": 13,
    "start_time": "2022-09-13T12:44:54.448Z"
   },
   {
    "duration": 24,
    "start_time": "2022-09-13T12:44:54.463Z"
   },
   {
    "duration": 29,
    "start_time": "2022-09-13T12:44:54.489Z"
   },
   {
    "duration": 7,
    "start_time": "2022-09-13T12:44:54.520Z"
   },
   {
    "duration": 12,
    "start_time": "2022-09-13T12:44:54.528Z"
   },
   {
    "duration": 8,
    "start_time": "2022-09-13T12:44:54.542Z"
   },
   {
    "duration": 8,
    "start_time": "2022-09-13T12:44:54.552Z"
   },
   {
    "duration": 14,
    "start_time": "2022-09-13T12:44:54.562Z"
   },
   {
    "duration": 8,
    "start_time": "2022-09-13T12:44:54.577Z"
   },
   {
    "duration": 8,
    "start_time": "2022-09-13T12:44:54.586Z"
   },
   {
    "duration": 137,
    "start_time": "2022-09-13T12:44:54.595Z"
   },
   {
    "duration": 153,
    "start_time": "2022-09-13T12:44:54.733Z"
   },
   {
    "duration": 135,
    "start_time": "2022-09-13T12:44:54.887Z"
   },
   {
    "duration": 135,
    "start_time": "2022-09-13T12:44:55.023Z"
   },
   {
    "duration": 3,
    "start_time": "2022-09-13T12:44:55.159Z"
   },
   {
    "duration": 10,
    "start_time": "2022-09-13T12:44:55.163Z"
   },
   {
    "duration": 7,
    "start_time": "2022-09-13T12:44:55.175Z"
   },
   {
    "duration": 11,
    "start_time": "2022-09-13T12:44:55.183Z"
   },
   {
    "duration": 25,
    "start_time": "2022-09-13T12:44:55.195Z"
   },
   {
    "duration": 12,
    "start_time": "2022-09-13T12:44:55.222Z"
   },
   {
    "duration": 487,
    "start_time": "2022-09-13T12:44:55.235Z"
   },
   {
    "duration": 118,
    "start_time": "2022-09-13T12:44:55.724Z"
   },
   {
    "duration": 10,
    "start_time": "2022-09-13T12:44:55.843Z"
   },
   {
    "duration": 22,
    "start_time": "2022-09-13T12:44:55.857Z"
   },
   {
    "duration": 18,
    "start_time": "2022-09-13T12:44:55.880Z"
   },
   {
    "duration": 20,
    "start_time": "2022-09-13T12:44:55.900Z"
   },
   {
    "duration": 25,
    "start_time": "2022-09-13T12:44:55.921Z"
   },
   {
    "duration": 18,
    "start_time": "2022-09-13T12:44:55.947Z"
   },
   {
    "duration": 25,
    "start_time": "2022-09-13T12:44:55.966Z"
   },
   {
    "duration": 9,
    "start_time": "2022-09-13T12:44:55.993Z"
   },
   {
    "duration": 35,
    "start_time": "2022-09-13T12:44:56.003Z"
   },
   {
    "duration": 37,
    "start_time": "2022-09-13T12:44:56.040Z"
   },
   {
    "duration": 37,
    "start_time": "2022-09-13T12:44:56.079Z"
   },
   {
    "duration": 48,
    "start_time": "2022-09-13T12:44:56.118Z"
   },
   {
    "duration": 57,
    "start_time": "2022-09-13T12:44:56.168Z"
   },
   {
    "duration": 35,
    "start_time": "2022-09-13T12:44:56.226Z"
   },
   {
    "duration": 7,
    "start_time": "2022-09-13T12:44:56.263Z"
   },
   {
    "duration": 7,
    "start_time": "2022-09-13T12:44:56.272Z"
   },
   {
    "duration": 40,
    "start_time": "2022-09-13T12:44:56.280Z"
   },
   {
    "duration": 22,
    "start_time": "2022-09-13T12:44:56.322Z"
   },
   {
    "duration": 6,
    "start_time": "2022-09-13T12:44:56.346Z"
   },
   {
    "duration": 1802,
    "start_time": "2022-09-13T12:44:56.353Z"
   },
   {
    "duration": 1462,
    "start_time": "2022-09-13T12:44:58.157Z"
   },
   {
    "duration": 0,
    "start_time": "2022-09-13T12:44:59.620Z"
   },
   {
    "duration": 0,
    "start_time": "2022-09-13T12:44:59.622Z"
   },
   {
    "duration": 0,
    "start_time": "2022-09-13T12:44:59.623Z"
   },
   {
    "duration": 0,
    "start_time": "2022-09-13T12:44:59.624Z"
   },
   {
    "duration": 0,
    "start_time": "2022-09-13T12:44:59.624Z"
   },
   {
    "duration": 0,
    "start_time": "2022-09-13T12:44:59.626Z"
   },
   {
    "duration": 0,
    "start_time": "2022-09-13T12:44:59.627Z"
   },
   {
    "duration": 0,
    "start_time": "2022-09-13T12:44:59.627Z"
   },
   {
    "duration": 0,
    "start_time": "2022-09-13T12:44:59.628Z"
   },
   {
    "duration": 0,
    "start_time": "2022-09-13T12:44:59.629Z"
   },
   {
    "duration": 0,
    "start_time": "2022-09-13T12:44:59.630Z"
   },
   {
    "duration": 0,
    "start_time": "2022-09-13T12:44:59.631Z"
   },
   {
    "duration": 0,
    "start_time": "2022-09-13T12:44:59.632Z"
   },
   {
    "duration": 0,
    "start_time": "2022-09-13T12:44:59.633Z"
   },
   {
    "duration": 0,
    "start_time": "2022-09-13T12:44:59.634Z"
   },
   {
    "duration": 0,
    "start_time": "2022-09-13T12:44:59.635Z"
   },
   {
    "duration": 0,
    "start_time": "2022-09-13T12:44:59.636Z"
   },
   {
    "duration": 1685,
    "start_time": "2022-09-13T12:45:27.917Z"
   },
   {
    "duration": 1425,
    "start_time": "2022-09-13T12:45:29.604Z"
   },
   {
    "duration": 74,
    "start_time": "2022-09-13T12:52:58.791Z"
   },
   {
    "duration": 17515,
    "start_time": "2022-09-13T12:52:59.593Z"
   },
   {
    "duration": 9,
    "start_time": "2022-09-13T12:53:17.113Z"
   },
   {
    "duration": 8,
    "start_time": "2022-09-13T12:53:17.124Z"
   },
   {
    "duration": 276,
    "start_time": "2022-09-13T12:53:44.922Z"
   },
   {
    "duration": 71574,
    "start_time": "2022-09-13T12:53:45.648Z"
   },
   {
    "duration": 3,
    "start_time": "2022-09-13T12:54:57.224Z"
   },
   {
    "duration": 90,
    "start_time": "2022-09-13T12:54:57.229Z"
   },
   {
    "duration": 24,
    "start_time": "2022-09-13T12:55:29.197Z"
   },
   {
    "duration": 9,
    "start_time": "2022-09-13T12:56:29.712Z"
   },
   {
    "duration": 260,
    "start_time": "2022-09-13T13:11:10.956Z"
   },
   {
    "duration": 60248,
    "start_time": "2022-09-13T13:11:12.057Z"
   },
   {
    "duration": 4,
    "start_time": "2022-09-13T13:12:12.307Z"
   },
   {
    "duration": 273,
    "start_time": "2022-09-13T13:15:21.161Z"
   },
   {
    "duration": 298,
    "start_time": "2022-09-13T13:15:27.416Z"
   },
   {
    "duration": 65800,
    "start_time": "2022-09-13T13:15:30.805Z"
   },
   {
    "duration": 4,
    "start_time": "2022-09-13T13:16:36.607Z"
   },
   {
    "duration": 10,
    "start_time": "2022-09-13T13:23:47.348Z"
   },
   {
    "duration": 700,
    "start_time": "2022-09-13T13:23:49.922Z"
   },
   {
    "duration": 6,
    "start_time": "2022-09-13T13:23:51.758Z"
   },
   {
    "duration": 30,
    "start_time": "2022-09-13T13:24:36.369Z"
   },
   {
    "duration": 5253,
    "start_time": "2022-09-13T13:24:37.669Z"
   },
   {
    "duration": 4,
    "start_time": "2022-09-13T13:24:42.927Z"
   },
   {
    "duration": 1891,
    "start_time": "2022-09-13T13:25:27.964Z"
   },
   {
    "duration": 57,
    "start_time": "2022-09-13T13:25:29.857Z"
   },
   {
    "duration": 20,
    "start_time": "2022-09-13T13:25:29.917Z"
   },
   {
    "duration": 15,
    "start_time": "2022-09-13T13:25:29.939Z"
   },
   {
    "duration": 13,
    "start_time": "2022-09-13T13:25:29.956Z"
   },
   {
    "duration": 37,
    "start_time": "2022-09-13T13:25:29.970Z"
   },
   {
    "duration": 12,
    "start_time": "2022-09-13T13:25:30.009Z"
   },
   {
    "duration": 33,
    "start_time": "2022-09-13T13:25:30.024Z"
   },
   {
    "duration": 44,
    "start_time": "2022-09-13T13:25:30.059Z"
   },
   {
    "duration": 30,
    "start_time": "2022-09-13T13:25:30.105Z"
   },
   {
    "duration": 24,
    "start_time": "2022-09-13T13:25:30.137Z"
   },
   {
    "duration": 14,
    "start_time": "2022-09-13T13:25:30.163Z"
   },
   {
    "duration": 22,
    "start_time": "2022-09-13T13:25:30.178Z"
   },
   {
    "duration": 36,
    "start_time": "2022-09-13T13:25:30.202Z"
   },
   {
    "duration": 179,
    "start_time": "2022-09-13T13:25:30.240Z"
   },
   {
    "duration": 189,
    "start_time": "2022-09-13T13:25:30.421Z"
   },
   {
    "duration": 148,
    "start_time": "2022-09-13T13:25:30.614Z"
   },
   {
    "duration": 173,
    "start_time": "2022-09-13T13:25:30.764Z"
   },
   {
    "duration": 3,
    "start_time": "2022-09-13T13:25:30.939Z"
   },
   {
    "duration": 12,
    "start_time": "2022-09-13T13:25:30.944Z"
   },
   {
    "duration": 10,
    "start_time": "2022-09-13T13:25:30.958Z"
   },
   {
    "duration": 22,
    "start_time": "2022-09-13T13:25:30.970Z"
   },
   {
    "duration": 43,
    "start_time": "2022-09-13T13:25:30.994Z"
   },
   {
    "duration": 15,
    "start_time": "2022-09-13T13:25:31.039Z"
   },
   {
    "duration": 530,
    "start_time": "2022-09-13T13:25:31.055Z"
   },
   {
    "duration": 138,
    "start_time": "2022-09-13T13:25:31.587Z"
   },
   {
    "duration": 17,
    "start_time": "2022-09-13T13:25:31.726Z"
   },
   {
    "duration": 16,
    "start_time": "2022-09-13T13:25:31.744Z"
   },
   {
    "duration": 14,
    "start_time": "2022-09-13T13:25:31.761Z"
   },
   {
    "duration": 6,
    "start_time": "2022-09-13T13:25:31.777Z"
   },
   {
    "duration": 8,
    "start_time": "2022-09-13T13:25:31.785Z"
   },
   {
    "duration": 16,
    "start_time": "2022-09-13T13:25:31.795Z"
   },
   {
    "duration": 8,
    "start_time": "2022-09-13T13:25:31.813Z"
   },
   {
    "duration": 12,
    "start_time": "2022-09-13T13:25:31.823Z"
   },
   {
    "duration": 35,
    "start_time": "2022-09-13T13:25:31.837Z"
   },
   {
    "duration": 35,
    "start_time": "2022-09-13T13:25:31.874Z"
   },
   {
    "duration": 20,
    "start_time": "2022-09-13T13:25:31.911Z"
   },
   {
    "duration": 12,
    "start_time": "2022-09-13T13:25:31.933Z"
   },
   {
    "duration": 11,
    "start_time": "2022-09-13T13:25:31.947Z"
   },
   {
    "duration": 11,
    "start_time": "2022-09-13T13:25:31.959Z"
   },
   {
    "duration": 18,
    "start_time": "2022-09-13T13:25:31.973Z"
   },
   {
    "duration": 21,
    "start_time": "2022-09-13T13:25:31.992Z"
   },
   {
    "duration": 34,
    "start_time": "2022-09-13T13:25:32.017Z"
   },
   {
    "duration": 27,
    "start_time": "2022-09-13T13:25:32.052Z"
   },
   {
    "duration": 41,
    "start_time": "2022-09-13T13:25:32.080Z"
   },
   {
    "duration": 46,
    "start_time": "2022-09-13T13:25:55.663Z"
   },
   {
    "duration": 1981,
    "start_time": "2022-09-13T13:26:19.427Z"
   },
   {
    "duration": 60,
    "start_time": "2022-09-13T13:26:21.411Z"
   },
   {
    "duration": 15,
    "start_time": "2022-09-13T13:26:21.472Z"
   },
   {
    "duration": 15,
    "start_time": "2022-09-13T13:26:21.488Z"
   },
   {
    "duration": 17,
    "start_time": "2022-09-13T13:26:21.505Z"
   },
   {
    "duration": 29,
    "start_time": "2022-09-13T13:26:21.524Z"
   },
   {
    "duration": 5,
    "start_time": "2022-09-13T13:26:21.555Z"
   },
   {
    "duration": 6,
    "start_time": "2022-09-13T13:26:21.562Z"
   },
   {
    "duration": 8,
    "start_time": "2022-09-13T13:26:21.570Z"
   },
   {
    "duration": 10,
    "start_time": "2022-09-13T13:26:21.579Z"
   },
   {
    "duration": 16,
    "start_time": "2022-09-13T13:26:21.590Z"
   },
   {
    "duration": 14,
    "start_time": "2022-09-13T13:26:21.608Z"
   },
   {
    "duration": 17,
    "start_time": "2022-09-13T13:26:21.624Z"
   },
   {
    "duration": 9,
    "start_time": "2022-09-13T13:26:21.644Z"
   },
   {
    "duration": 146,
    "start_time": "2022-09-13T13:26:21.654Z"
   },
   {
    "duration": 163,
    "start_time": "2022-09-13T13:26:21.801Z"
   },
   {
    "duration": 139,
    "start_time": "2022-09-13T13:26:21.966Z"
   },
   {
    "duration": 162,
    "start_time": "2022-09-13T13:26:22.108Z"
   },
   {
    "duration": 3,
    "start_time": "2022-09-13T13:26:22.271Z"
   },
   {
    "duration": 8,
    "start_time": "2022-09-13T13:26:22.275Z"
   },
   {
    "duration": 7,
    "start_time": "2022-09-13T13:26:22.284Z"
   },
   {
    "duration": 10,
    "start_time": "2022-09-13T13:26:22.308Z"
   },
   {
    "duration": 22,
    "start_time": "2022-09-13T13:26:22.320Z"
   },
   {
    "duration": 12,
    "start_time": "2022-09-13T13:26:22.343Z"
   },
   {
    "duration": 496,
    "start_time": "2022-09-13T13:26:22.356Z"
   },
   {
    "duration": 138,
    "start_time": "2022-09-13T13:26:22.853Z"
   },
   {
    "duration": 22,
    "start_time": "2022-09-13T13:26:22.993Z"
   },
   {
    "duration": 33,
    "start_time": "2022-09-13T13:26:23.017Z"
   },
   {
    "duration": 10,
    "start_time": "2022-09-13T13:26:23.051Z"
   },
   {
    "duration": 6,
    "start_time": "2022-09-13T13:26:23.062Z"
   },
   {
    "duration": 9,
    "start_time": "2022-09-13T13:26:23.070Z"
   },
   {
    "duration": 5,
    "start_time": "2022-09-13T13:26:23.081Z"
   },
   {
    "duration": 6,
    "start_time": "2022-09-13T13:26:23.088Z"
   },
   {
    "duration": 12,
    "start_time": "2022-09-13T13:26:23.096Z"
   },
   {
    "duration": 38,
    "start_time": "2022-09-13T13:26:23.111Z"
   },
   {
    "duration": 22,
    "start_time": "2022-09-13T13:26:23.151Z"
   },
   {
    "duration": 12,
    "start_time": "2022-09-13T13:26:23.175Z"
   },
   {
    "duration": 22,
    "start_time": "2022-09-13T13:26:23.189Z"
   },
   {
    "duration": 20,
    "start_time": "2022-09-13T13:26:23.213Z"
   },
   {
    "duration": 17,
    "start_time": "2022-09-13T13:26:23.234Z"
   },
   {
    "duration": 7,
    "start_time": "2022-09-13T13:26:23.255Z"
   },
   {
    "duration": 14,
    "start_time": "2022-09-13T13:26:23.264Z"
   },
   {
    "duration": 29,
    "start_time": "2022-09-13T13:26:23.279Z"
   },
   {
    "duration": 31,
    "start_time": "2022-09-13T13:26:23.310Z"
   },
   {
    "duration": 5,
    "start_time": "2022-09-13T13:26:23.343Z"
   },
   {
    "duration": 1740,
    "start_time": "2022-09-13T13:26:23.350Z"
   },
   {
    "duration": 1964,
    "start_time": "2022-09-13T13:27:29.174Z"
   },
   {
    "duration": 57,
    "start_time": "2022-09-13T13:27:31.140Z"
   },
   {
    "duration": 28,
    "start_time": "2022-09-13T13:27:31.199Z"
   },
   {
    "duration": 22,
    "start_time": "2022-09-13T13:27:31.230Z"
   },
   {
    "duration": 13,
    "start_time": "2022-09-13T13:27:31.254Z"
   },
   {
    "duration": 27,
    "start_time": "2022-09-13T13:27:31.268Z"
   },
   {
    "duration": 16,
    "start_time": "2022-09-13T13:27:31.296Z"
   },
   {
    "duration": 12,
    "start_time": "2022-09-13T13:27:31.315Z"
   },
   {
    "duration": 15,
    "start_time": "2022-09-13T13:27:31.329Z"
   },
   {
    "duration": 17,
    "start_time": "2022-09-13T13:27:31.345Z"
   },
   {
    "duration": 8,
    "start_time": "2022-09-13T13:27:31.364Z"
   },
   {
    "duration": 10,
    "start_time": "2022-09-13T13:27:31.373Z"
   },
   {
    "duration": 15,
    "start_time": "2022-09-13T13:27:31.385Z"
   },
   {
    "duration": 10,
    "start_time": "2022-09-13T13:27:31.407Z"
   },
   {
    "duration": 158,
    "start_time": "2022-09-13T13:27:31.419Z"
   },
   {
    "duration": 175,
    "start_time": "2022-09-13T13:27:31.578Z"
   },
   {
    "duration": 164,
    "start_time": "2022-09-13T13:27:31.756Z"
   },
   {
    "duration": 151,
    "start_time": "2022-09-13T13:27:31.922Z"
   },
   {
    "duration": 2,
    "start_time": "2022-09-13T13:27:32.075Z"
   },
   {
    "duration": 11,
    "start_time": "2022-09-13T13:27:32.078Z"
   },
   {
    "duration": 15,
    "start_time": "2022-09-13T13:27:32.092Z"
   },
   {
    "duration": 11,
    "start_time": "2022-09-13T13:27:32.109Z"
   },
   {
    "duration": 16,
    "start_time": "2022-09-13T13:27:32.122Z"
   },
   {
    "duration": 16,
    "start_time": "2022-09-13T13:27:32.140Z"
   },
   {
    "duration": 525,
    "start_time": "2022-09-13T13:27:32.157Z"
   },
   {
    "duration": 134,
    "start_time": "2022-09-13T13:27:32.683Z"
   },
   {
    "duration": 12,
    "start_time": "2022-09-13T13:27:32.822Z"
   },
   {
    "duration": 16,
    "start_time": "2022-09-13T13:27:32.837Z"
   },
   {
    "duration": 9,
    "start_time": "2022-09-13T13:27:32.855Z"
   },
   {
    "duration": 5,
    "start_time": "2022-09-13T13:27:32.866Z"
   },
   {
    "duration": 6,
    "start_time": "2022-09-13T13:27:32.873Z"
   },
   {
    "duration": 31,
    "start_time": "2022-09-13T13:27:32.880Z"
   },
   {
    "duration": 21,
    "start_time": "2022-09-13T13:27:32.913Z"
   },
   {
    "duration": 13,
    "start_time": "2022-09-13T13:27:32.936Z"
   },
   {
    "duration": 31,
    "start_time": "2022-09-13T13:27:32.952Z"
   },
   {
    "duration": 29,
    "start_time": "2022-09-13T13:27:32.984Z"
   },
   {
    "duration": 23,
    "start_time": "2022-09-13T13:27:33.016Z"
   },
   {
    "duration": 13,
    "start_time": "2022-09-13T13:27:33.040Z"
   },
   {
    "duration": 37,
    "start_time": "2022-09-13T13:27:33.055Z"
   },
   {
    "duration": 20,
    "start_time": "2022-09-13T13:27:33.093Z"
   },
   {
    "duration": 9,
    "start_time": "2022-09-13T13:27:33.120Z"
   },
   {
    "duration": 8,
    "start_time": "2022-09-13T13:27:33.131Z"
   },
   {
    "duration": 22,
    "start_time": "2022-09-13T13:27:33.141Z"
   },
   {
    "duration": 22,
    "start_time": "2022-09-13T13:27:33.165Z"
   },
   {
    "duration": 23,
    "start_time": "2022-09-13T13:27:33.188Z"
   },
   {
    "duration": 80,
    "start_time": "2022-09-13T13:27:33.213Z"
   },
   {
    "duration": 23021,
    "start_time": "2022-09-13T13:27:33.294Z"
   },
   {
    "duration": 7,
    "start_time": "2022-09-13T13:27:56.317Z"
   },
   {
    "duration": 7,
    "start_time": "2022-09-13T13:27:56.326Z"
   },
   {
    "duration": 97,
    "start_time": "2022-09-13T13:27:56.334Z"
   },
   {
    "duration": 8,
    "start_time": "2022-09-13T13:27:56.505Z"
   },
   {
    "duration": 18,
    "start_time": "2022-09-13T13:27:56.516Z"
   },
   {
    "duration": 10,
    "start_time": "2022-09-13T13:27:56.535Z"
   },
   {
    "duration": 15,
    "start_time": "2022-09-13T13:27:56.547Z"
   },
   {
    "duration": 6,
    "start_time": "2022-09-13T13:27:56.564Z"
   },
   {
    "duration": 6,
    "start_time": "2022-09-13T13:27:56.572Z"
   },
   {
    "duration": 2122,
    "start_time": "2022-09-13T13:27:56.580Z"
   },
   {
    "duration": 80,
    "start_time": "2022-09-13T13:27:58.705Z"
   },
   {
    "duration": 4,
    "start_time": "2022-09-13T13:27:58.787Z"
   },
   {
    "duration": 9,
    "start_time": "2022-09-13T13:27:58.805Z"
   },
   {
    "duration": 5,
    "start_time": "2022-09-13T13:27:58.816Z"
   },
   {
    "duration": 707640,
    "start_time": "2022-09-13T13:27:58.822Z"
   },
   {
    "duration": 0,
    "start_time": "2022-09-13T13:39:46.463Z"
   },
   {
    "duration": 0,
    "start_time": "2022-09-13T13:39:46.464Z"
   },
   {
    "duration": 0,
    "start_time": "2022-09-13T13:39:46.465Z"
   },
   {
    "duration": 0,
    "start_time": "2022-09-13T13:39:46.466Z"
   },
   {
    "duration": 0,
    "start_time": "2022-09-13T13:39:46.468Z"
   },
   {
    "duration": 0,
    "start_time": "2022-09-13T13:39:46.469Z"
   },
   {
    "duration": 705,
    "start_time": "2022-09-13T13:39:49.068Z"
   },
   {
    "duration": 194234,
    "start_time": "2022-09-13T13:39:49.775Z"
   },
   {
    "duration": 5,
    "start_time": "2022-09-13T13:43:04.011Z"
   },
   {
    "duration": 14,
    "start_time": "2022-09-13T13:43:04.017Z"
   },
   {
    "duration": 5,
    "start_time": "2022-09-13T13:43:53.463Z"
   },
   {
    "duration": 17,
    "start_time": "2022-09-13T13:43:54.001Z"
   },
   {
    "duration": 5,
    "start_time": "2022-09-13T13:43:55.081Z"
   },
   {
    "duration": 7,
    "start_time": "2022-09-13T13:43:55.917Z"
   },
   {
    "duration": 3,
    "start_time": "2022-09-13T13:43:56.953Z"
   },
   {
    "duration": 17,
    "start_time": "2022-09-13T13:43:58.014Z"
   },
   {
    "duration": 6,
    "start_time": "2022-09-13T13:43:58.905Z"
   },
   {
    "duration": 3,
    "start_time": "2022-09-13T13:43:59.670Z"
   },
   {
    "duration": 2073,
    "start_time": "2022-09-13T13:43:59.718Z"
   },
   {
    "duration": 697,
    "start_time": "2022-09-13T13:44:24.720Z"
   },
   {
    "duration": 4,
    "start_time": "2022-09-13T13:44:25.773Z"
   },
   {
    "duration": 3,
    "start_time": "2022-09-13T13:44:26.774Z"
   },
   {
    "duration": 3,
    "start_time": "2022-09-13T13:44:27.382Z"
   },
   {
    "duration": 3460,
    "start_time": "2022-09-13T14:09:07.743Z"
   },
   {
    "duration": 25,
    "start_time": "2022-09-13T14:09:11.205Z"
   },
   {
    "duration": 15,
    "start_time": "2022-09-13T14:09:11.232Z"
   },
   {
    "duration": 15,
    "start_time": "2022-09-13T14:09:11.249Z"
   },
   {
    "duration": 15,
    "start_time": "2022-09-13T14:09:11.266Z"
   },
   {
    "duration": 28,
    "start_time": "2022-09-13T14:09:11.282Z"
   },
   {
    "duration": 5,
    "start_time": "2022-09-13T14:09:11.312Z"
   },
   {
    "duration": 5,
    "start_time": "2022-09-13T14:09:11.319Z"
   },
   {
    "duration": 7,
    "start_time": "2022-09-13T14:09:11.325Z"
   },
   {
    "duration": 8,
    "start_time": "2022-09-13T14:09:11.335Z"
   },
   {
    "duration": 9,
    "start_time": "2022-09-13T14:09:11.344Z"
   },
   {
    "duration": 6,
    "start_time": "2022-09-13T14:09:11.355Z"
   },
   {
    "duration": 7,
    "start_time": "2022-09-13T14:09:11.363Z"
   },
   {
    "duration": 36,
    "start_time": "2022-09-13T14:09:11.371Z"
   },
   {
    "duration": 149,
    "start_time": "2022-09-13T14:09:11.409Z"
   },
   {
    "duration": 164,
    "start_time": "2022-09-13T14:09:11.560Z"
   },
   {
    "duration": 131,
    "start_time": "2022-09-13T14:09:11.726Z"
   },
   {
    "duration": 129,
    "start_time": "2022-09-13T14:09:11.858Z"
   },
   {
    "duration": 3,
    "start_time": "2022-09-13T14:09:11.989Z"
   },
   {
    "duration": 15,
    "start_time": "2022-09-13T14:09:11.994Z"
   },
   {
    "duration": 9,
    "start_time": "2022-09-13T14:09:12.011Z"
   },
   {
    "duration": 6,
    "start_time": "2022-09-13T14:09:12.022Z"
   },
   {
    "duration": 12,
    "start_time": "2022-09-13T14:09:12.029Z"
   },
   {
    "duration": 12,
    "start_time": "2022-09-13T14:09:12.042Z"
   },
   {
    "duration": 457,
    "start_time": "2022-09-13T14:09:12.055Z"
   },
   {
    "duration": 122,
    "start_time": "2022-09-13T14:09:12.514Z"
   },
   {
    "duration": 11,
    "start_time": "2022-09-13T14:09:12.637Z"
   },
   {
    "duration": 13,
    "start_time": "2022-09-13T14:09:12.652Z"
   },
   {
    "duration": 10,
    "start_time": "2022-09-13T14:09:12.666Z"
   },
   {
    "duration": 16,
    "start_time": "2022-09-13T14:09:12.678Z"
   },
   {
    "duration": 11,
    "start_time": "2022-09-13T14:09:12.695Z"
   },
   {
    "duration": 6,
    "start_time": "2022-09-13T14:09:12.707Z"
   },
   {
    "duration": 6,
    "start_time": "2022-09-13T14:09:12.715Z"
   },
   {
    "duration": 10,
    "start_time": "2022-09-13T14:09:12.723Z"
   },
   {
    "duration": 26,
    "start_time": "2022-09-13T14:09:12.735Z"
   },
   {
    "duration": 44,
    "start_time": "2022-09-13T14:09:12.763Z"
   },
   {
    "duration": 20,
    "start_time": "2022-09-13T14:09:12.808Z"
   },
   {
    "duration": 11,
    "start_time": "2022-09-13T14:09:12.830Z"
   },
   {
    "duration": 13,
    "start_time": "2022-09-13T14:09:12.842Z"
   },
   {
    "duration": 13,
    "start_time": "2022-09-13T14:09:12.856Z"
   },
   {
    "duration": 8,
    "start_time": "2022-09-13T14:09:12.870Z"
   },
   {
    "duration": 25,
    "start_time": "2022-09-13T14:09:12.880Z"
   },
   {
    "duration": 32,
    "start_time": "2022-09-13T14:09:12.907Z"
   },
   {
    "duration": 28,
    "start_time": "2022-09-13T14:09:12.941Z"
   },
   {
    "duration": 7,
    "start_time": "2022-09-13T14:09:12.970Z"
   },
   {
    "duration": 650,
    "start_time": "2022-09-13T14:09:12.978Z"
   },
   {
    "duration": 156981,
    "start_time": "2022-09-13T14:09:13.630Z"
   },
   {
    "duration": 3,
    "start_time": "2022-09-13T14:11:50.613Z"
   },
   {
    "duration": 24,
    "start_time": "2022-09-13T14:11:50.617Z"
   },
   {
    "duration": 63,
    "start_time": "2022-09-13T14:11:50.643Z"
   },
   {
    "duration": 5,
    "start_time": "2022-09-13T14:11:50.708Z"
   },
   {
    "duration": 9,
    "start_time": "2022-09-13T14:11:50.714Z"
   },
   {
    "duration": 6,
    "start_time": "2022-09-13T14:11:50.724Z"
   },
   {
    "duration": 20,
    "start_time": "2022-09-13T14:11:50.731Z"
   },
   {
    "duration": 7,
    "start_time": "2022-09-13T14:11:50.752Z"
   },
   {
    "duration": 7,
    "start_time": "2022-09-13T14:11:50.760Z"
   },
   {
    "duration": 161071,
    "start_time": "2022-09-13T14:13:03.336Z"
   },
   {
    "duration": 4,
    "start_time": "2022-09-13T14:15:44.409Z"
   },
   {
    "duration": 6,
    "start_time": "2022-09-13T14:15:44.415Z"
   },
   {
    "duration": 169658,
    "start_time": "2022-09-13T14:16:29.149Z"
   },
   {
    "duration": 4,
    "start_time": "2022-09-13T14:19:18.809Z"
   },
   {
    "duration": 5,
    "start_time": "2022-09-13T14:19:18.815Z"
   },
   {
    "duration": 20,
    "start_time": "2022-09-13T14:19:18.823Z"
   },
   {
    "duration": 6,
    "start_time": "2022-09-13T14:19:18.904Z"
   },
   {
    "duration": 6,
    "start_time": "2022-09-13T14:19:18.912Z"
   },
   {
    "duration": 6,
    "start_time": "2022-09-13T14:19:18.920Z"
   },
   {
    "duration": 14,
    "start_time": "2022-09-13T14:19:18.927Z"
   },
   {
    "duration": 8,
    "start_time": "2022-09-13T14:19:18.943Z"
   },
   {
    "duration": 4,
    "start_time": "2022-09-13T14:19:18.954Z"
   },
   {
    "duration": 1833,
    "start_time": "2022-09-13T14:19:18.959Z"
   },
   {
    "duration": 644,
    "start_time": "2022-09-13T14:19:20.793Z"
   },
   {
    "duration": 3,
    "start_time": "2022-09-13T14:19:21.438Z"
   },
   {
    "duration": 6,
    "start_time": "2022-09-13T14:19:21.442Z"
   },
   {
    "duration": 250282,
    "start_time": "2022-09-13T14:19:21.449Z"
   },
   {
    "duration": 0,
    "start_time": "2022-09-13T14:23:31.732Z"
   },
   {
    "duration": 0,
    "start_time": "2022-09-13T14:23:31.733Z"
   },
   {
    "duration": 0,
    "start_time": "2022-09-13T14:23:31.734Z"
   },
   {
    "duration": 0,
    "start_time": "2022-09-13T14:23:31.735Z"
   },
   {
    "duration": 0,
    "start_time": "2022-09-13T14:23:31.736Z"
   },
   {
    "duration": 1846,
    "start_time": "2022-09-13T14:23:33.417Z"
   },
   {
    "duration": 641,
    "start_time": "2022-09-13T14:25:44.355Z"
   },
   {
    "duration": 3,
    "start_time": "2022-09-13T14:25:48.312Z"
   },
   {
    "duration": 3,
    "start_time": "2022-09-13T14:25:48.824Z"
   },
   {
    "duration": 1785,
    "start_time": "2022-09-13T14:26:07.309Z"
   },
   {
    "duration": 56,
    "start_time": "2022-09-13T14:26:09.096Z"
   },
   {
    "duration": 14,
    "start_time": "2022-09-13T14:26:09.153Z"
   },
   {
    "duration": 14,
    "start_time": "2022-09-13T14:26:09.168Z"
   },
   {
    "duration": 9,
    "start_time": "2022-09-13T14:26:09.184Z"
   },
   {
    "duration": 22,
    "start_time": "2022-09-13T14:26:09.195Z"
   },
   {
    "duration": 5,
    "start_time": "2022-09-13T14:26:09.218Z"
   },
   {
    "duration": 9,
    "start_time": "2022-09-13T14:26:09.224Z"
   },
   {
    "duration": 7,
    "start_time": "2022-09-13T14:26:09.235Z"
   },
   {
    "duration": 7,
    "start_time": "2022-09-13T14:26:09.243Z"
   },
   {
    "duration": 9,
    "start_time": "2022-09-13T14:26:09.252Z"
   },
   {
    "duration": 4,
    "start_time": "2022-09-13T14:26:09.262Z"
   },
   {
    "duration": 7,
    "start_time": "2022-09-13T14:26:09.268Z"
   },
   {
    "duration": 5,
    "start_time": "2022-09-13T14:26:09.278Z"
   },
   {
    "duration": 158,
    "start_time": "2022-09-13T14:26:09.284Z"
   },
   {
    "duration": 144,
    "start_time": "2022-09-13T14:26:09.444Z"
   },
   {
    "duration": 129,
    "start_time": "2022-09-13T14:26:09.590Z"
   },
   {
    "duration": 130,
    "start_time": "2022-09-13T14:26:09.720Z"
   },
   {
    "duration": 3,
    "start_time": "2022-09-13T14:26:09.852Z"
   },
   {
    "duration": 9,
    "start_time": "2022-09-13T14:26:09.857Z"
   },
   {
    "duration": 5,
    "start_time": "2022-09-13T14:26:09.867Z"
   },
   {
    "duration": 9,
    "start_time": "2022-09-13T14:26:09.873Z"
   },
   {
    "duration": 23,
    "start_time": "2022-09-13T14:26:09.883Z"
   },
   {
    "duration": 11,
    "start_time": "2022-09-13T14:26:09.907Z"
   },
   {
    "duration": 476,
    "start_time": "2022-09-13T14:26:09.919Z"
   },
   {
    "duration": 116,
    "start_time": "2022-09-13T14:26:10.397Z"
   },
   {
    "duration": 11,
    "start_time": "2022-09-13T14:26:10.514Z"
   },
   {
    "duration": 11,
    "start_time": "2022-09-13T14:26:10.526Z"
   },
   {
    "duration": 7,
    "start_time": "2022-09-13T14:26:10.538Z"
   },
   {
    "duration": 6,
    "start_time": "2022-09-13T14:26:10.547Z"
   },
   {
    "duration": 7,
    "start_time": "2022-09-13T14:26:10.554Z"
   },
   {
    "duration": 9,
    "start_time": "2022-09-13T14:26:10.562Z"
   },
   {
    "duration": 6,
    "start_time": "2022-09-13T14:26:10.573Z"
   },
   {
    "duration": 27,
    "start_time": "2022-09-13T14:26:10.580Z"
   },
   {
    "duration": 20,
    "start_time": "2022-09-13T14:26:10.608Z"
   },
   {
    "duration": 18,
    "start_time": "2022-09-13T14:26:10.629Z"
   },
   {
    "duration": 11,
    "start_time": "2022-09-13T14:26:10.648Z"
   },
   {
    "duration": 7,
    "start_time": "2022-09-13T14:26:10.661Z"
   },
   {
    "duration": 37,
    "start_time": "2022-09-13T14:26:10.669Z"
   },
   {
    "duration": 11,
    "start_time": "2022-09-13T14:26:10.708Z"
   },
   {
    "duration": 7,
    "start_time": "2022-09-13T14:26:10.723Z"
   },
   {
    "duration": 8,
    "start_time": "2022-09-13T14:26:10.731Z"
   },
   {
    "duration": 19,
    "start_time": "2022-09-13T14:26:10.740Z"
   },
   {
    "duration": 20,
    "start_time": "2022-09-13T14:26:10.760Z"
   },
   {
    "duration": 27,
    "start_time": "2022-09-13T14:26:10.781Z"
   },
   {
    "duration": 648,
    "start_time": "2022-09-13T14:26:10.810Z"
   },
   {
    "duration": 161369,
    "start_time": "2022-09-13T14:26:11.459Z"
   },
   {
    "duration": 3,
    "start_time": "2022-09-13T14:28:52.906Z"
   },
   {
    "duration": 17,
    "start_time": "2022-09-13T14:28:52.911Z"
   },
   {
    "duration": 4,
    "start_time": "2022-09-13T14:28:52.929Z"
   },
   {
    "duration": 7,
    "start_time": "2022-09-13T14:28:52.934Z"
   },
   {
    "duration": 8,
    "start_time": "2022-09-13T14:28:52.942Z"
   },
   {
    "duration": 62,
    "start_time": "2022-09-13T14:28:52.951Z"
   },
   {
    "duration": 5,
    "start_time": "2022-09-13T14:28:53.014Z"
   },
   {
    "duration": 5,
    "start_time": "2022-09-13T14:28:53.020Z"
   },
   {
    "duration": 1971,
    "start_time": "2022-09-13T14:28:53.027Z"
   },
   {
    "duration": 658,
    "start_time": "2022-09-13T14:28:54.999Z"
   },
   {
    "duration": 2,
    "start_time": "2022-09-13T14:28:55.659Z"
   },
   {
    "duration": 6,
    "start_time": "2022-09-13T14:28:55.662Z"
   },
   {
    "duration": 1831,
    "start_time": "2022-09-13T15:05:05.530Z"
   },
   {
    "duration": 31,
    "start_time": "2022-09-13T15:05:07.363Z"
   },
   {
    "duration": 26,
    "start_time": "2022-09-13T15:05:07.396Z"
   },
   {
    "duration": 22,
    "start_time": "2022-09-13T15:05:07.427Z"
   },
   {
    "duration": 27,
    "start_time": "2022-09-13T15:05:07.452Z"
   },
   {
    "duration": 43,
    "start_time": "2022-09-13T15:05:07.481Z"
   },
   {
    "duration": 21,
    "start_time": "2022-09-13T15:05:07.525Z"
   },
   {
    "duration": 18,
    "start_time": "2022-09-13T15:05:07.548Z"
   },
   {
    "duration": 20,
    "start_time": "2022-09-13T15:05:07.568Z"
   },
   {
    "duration": 12,
    "start_time": "2022-09-13T15:05:07.590Z"
   },
   {
    "duration": 24,
    "start_time": "2022-09-13T15:05:07.603Z"
   },
   {
    "duration": 5,
    "start_time": "2022-09-13T15:05:07.628Z"
   },
   {
    "duration": 7,
    "start_time": "2022-09-13T15:05:07.635Z"
   },
   {
    "duration": 4,
    "start_time": "2022-09-13T15:05:07.645Z"
   },
   {
    "duration": 127,
    "start_time": "2022-09-13T15:05:07.651Z"
   },
   {
    "duration": 147,
    "start_time": "2022-09-13T15:05:07.779Z"
   },
   {
    "duration": 152,
    "start_time": "2022-09-13T15:05:07.927Z"
   },
   {
    "duration": 140,
    "start_time": "2022-09-13T15:05:08.080Z"
   },
   {
    "duration": 2,
    "start_time": "2022-09-13T15:05:08.222Z"
   },
   {
    "duration": 9,
    "start_time": "2022-09-13T15:05:08.226Z"
   },
   {
    "duration": 5,
    "start_time": "2022-09-13T15:05:08.236Z"
   },
   {
    "duration": 8,
    "start_time": "2022-09-13T15:05:08.243Z"
   },
   {
    "duration": 16,
    "start_time": "2022-09-13T15:05:08.252Z"
   },
   {
    "duration": 12,
    "start_time": "2022-09-13T15:05:08.269Z"
   },
   {
    "duration": 493,
    "start_time": "2022-09-13T15:05:08.282Z"
   },
   {
    "duration": 110,
    "start_time": "2022-09-13T15:05:08.777Z"
   },
   {
    "duration": 30,
    "start_time": "2022-09-13T15:05:08.888Z"
   },
   {
    "duration": 10,
    "start_time": "2022-09-13T15:05:08.920Z"
   },
   {
    "duration": 8,
    "start_time": "2022-09-13T15:05:08.932Z"
   },
   {
    "duration": 5,
    "start_time": "2022-09-13T15:05:08.941Z"
   },
   {
    "duration": 5,
    "start_time": "2022-09-13T15:05:08.948Z"
   },
   {
    "duration": 5,
    "start_time": "2022-09-13T15:05:08.954Z"
   },
   {
    "duration": 6,
    "start_time": "2022-09-13T15:05:08.961Z"
   },
   {
    "duration": 8,
    "start_time": "2022-09-13T15:05:08.968Z"
   },
   {
    "duration": 29,
    "start_time": "2022-09-13T15:05:08.977Z"
   },
   {
    "duration": 24,
    "start_time": "2022-09-13T15:05:09.007Z"
   },
   {
    "duration": 16,
    "start_time": "2022-09-13T15:05:09.033Z"
   },
   {
    "duration": 17,
    "start_time": "2022-09-13T15:05:09.050Z"
   },
   {
    "duration": 20,
    "start_time": "2022-09-13T15:05:09.069Z"
   },
   {
    "duration": 27,
    "start_time": "2022-09-13T15:05:09.090Z"
   },
   {
    "duration": 7,
    "start_time": "2022-09-13T15:05:09.122Z"
   },
   {
    "duration": 7,
    "start_time": "2022-09-13T15:05:09.131Z"
   },
   {
    "duration": 20,
    "start_time": "2022-09-13T15:05:09.139Z"
   },
   {
    "duration": 20,
    "start_time": "2022-09-13T15:05:09.160Z"
   },
   {
    "duration": 7,
    "start_time": "2022-09-13T15:05:09.181Z"
   },
   {
    "duration": 685,
    "start_time": "2022-09-13T15:05:09.189Z"
   },
   {
    "duration": 188131,
    "start_time": "2022-09-13T15:05:09.875Z"
   },
   {
    "duration": 9,
    "start_time": "2022-09-13T15:08:18.008Z"
   },
   {
    "duration": 30,
    "start_time": "2022-09-13T15:08:18.018Z"
   },
   {
    "duration": 5,
    "start_time": "2022-09-13T15:08:18.050Z"
   },
   {
    "duration": 7,
    "start_time": "2022-09-13T15:08:18.057Z"
   },
   {
    "duration": 50,
    "start_time": "2022-09-13T15:08:18.067Z"
   },
   {
    "duration": 15,
    "start_time": "2022-09-13T15:08:18.119Z"
   },
   {
    "duration": 6,
    "start_time": "2022-09-13T15:08:18.135Z"
   },
   {
    "duration": 7,
    "start_time": "2022-09-13T15:08:18.142Z"
   },
   {
    "duration": 1840,
    "start_time": "2022-09-13T15:08:18.150Z"
   },
   {
    "duration": 700,
    "start_time": "2022-09-13T15:08:19.992Z"
   },
   {
    "duration": 2,
    "start_time": "2022-09-13T15:08:20.694Z"
   },
   {
    "duration": 24,
    "start_time": "2022-09-13T15:08:20.697Z"
   },
   {
    "duration": 7774713,
    "start_time": "2022-09-13T15:08:20.723Z"
   },
   {
    "duration": 0,
    "start_time": "2022-09-13T17:17:55.437Z"
   },
   {
    "duration": 0,
    "start_time": "2022-09-13T17:17:55.439Z"
   },
   {
    "duration": 0,
    "start_time": "2022-09-13T17:17:55.439Z"
   },
   {
    "duration": 0,
    "start_time": "2022-09-13T17:17:55.440Z"
   },
   {
    "duration": 0,
    "start_time": "2022-09-13T17:17:55.441Z"
   },
   {
    "duration": 1779,
    "start_time": "2022-09-13T17:18:59.575Z"
   },
   {
    "duration": 27,
    "start_time": "2022-09-13T17:19:01.356Z"
   },
   {
    "duration": 14,
    "start_time": "2022-09-13T17:19:01.385Z"
   },
   {
    "duration": 15,
    "start_time": "2022-09-13T17:19:01.401Z"
   },
   {
    "duration": 9,
    "start_time": "2022-09-13T17:19:01.418Z"
   },
   {
    "duration": 24,
    "start_time": "2022-09-13T17:19:01.429Z"
   },
   {
    "duration": 4,
    "start_time": "2022-09-13T17:19:01.455Z"
   },
   {
    "duration": 7,
    "start_time": "2022-09-13T17:19:01.461Z"
   },
   {
    "duration": 8,
    "start_time": "2022-09-13T17:19:01.469Z"
   },
   {
    "duration": 7,
    "start_time": "2022-09-13T17:19:01.479Z"
   },
   {
    "duration": 19,
    "start_time": "2022-09-13T17:19:01.506Z"
   },
   {
    "duration": 14,
    "start_time": "2022-09-13T17:19:01.527Z"
   },
   {
    "duration": 20,
    "start_time": "2022-09-13T17:19:01.542Z"
   },
   {
    "duration": 27,
    "start_time": "2022-09-13T17:19:01.563Z"
   },
   {
    "duration": 131,
    "start_time": "2022-09-13T17:19:01.591Z"
   },
   {
    "duration": 141,
    "start_time": "2022-09-13T17:19:01.723Z"
   },
   {
    "duration": 126,
    "start_time": "2022-09-13T17:19:01.865Z"
   },
   {
    "duration": 141,
    "start_time": "2022-09-13T17:19:01.992Z"
   },
   {
    "duration": 3,
    "start_time": "2022-09-13T17:19:02.134Z"
   },
   {
    "duration": 11,
    "start_time": "2022-09-13T17:19:02.138Z"
   },
   {
    "duration": 14,
    "start_time": "2022-09-13T17:19:02.150Z"
   },
   {
    "duration": 10,
    "start_time": "2022-09-13T17:19:02.165Z"
   },
   {
    "duration": 14,
    "start_time": "2022-09-13T17:19:02.176Z"
   },
   {
    "duration": 19,
    "start_time": "2022-09-13T17:19:02.191Z"
   },
   {
    "duration": 466,
    "start_time": "2022-09-13T17:19:02.211Z"
   },
   {
    "duration": 115,
    "start_time": "2022-09-13T17:19:02.679Z"
   },
   {
    "duration": 16,
    "start_time": "2022-09-13T17:19:02.796Z"
   },
   {
    "duration": 10,
    "start_time": "2022-09-13T17:19:02.816Z"
   },
   {
    "duration": 37,
    "start_time": "2022-09-13T17:19:02.828Z"
   },
   {
    "duration": 9,
    "start_time": "2022-09-13T17:19:02.866Z"
   },
   {
    "duration": 10,
    "start_time": "2022-09-13T17:19:02.877Z"
   },
   {
    "duration": 5,
    "start_time": "2022-09-13T17:19:02.888Z"
   },
   {
    "duration": 6,
    "start_time": "2022-09-13T17:19:02.895Z"
   },
   {
    "duration": 7,
    "start_time": "2022-09-13T17:19:02.903Z"
   },
   {
    "duration": 20,
    "start_time": "2022-09-13T17:19:02.912Z"
   },
   {
    "duration": 19,
    "start_time": "2022-09-13T17:19:02.934Z"
   },
   {
    "duration": 12,
    "start_time": "2022-09-13T17:19:02.954Z"
   },
   {
    "duration": 10,
    "start_time": "2022-09-13T17:19:02.967Z"
   },
   {
    "duration": 11,
    "start_time": "2022-09-13T17:19:02.978Z"
   },
   {
    "duration": 9,
    "start_time": "2022-09-13T17:19:03.005Z"
   },
   {
    "duration": 13,
    "start_time": "2022-09-13T17:19:03.016Z"
   },
   {
    "duration": 7,
    "start_time": "2022-09-13T17:19:03.030Z"
   },
   {
    "duration": 22,
    "start_time": "2022-09-13T17:19:03.039Z"
   },
   {
    "duration": 22,
    "start_time": "2022-09-13T17:19:03.063Z"
   },
   {
    "duration": 18,
    "start_time": "2022-09-13T17:19:03.087Z"
   },
   {
    "duration": 649,
    "start_time": "2022-09-13T17:19:03.107Z"
   },
   {
    "duration": 157054,
    "start_time": "2022-09-13T17:19:03.758Z"
   },
   {
    "duration": 4,
    "start_time": "2022-09-13T17:21:40.813Z"
   },
   {
    "duration": 14,
    "start_time": "2022-09-13T17:21:40.818Z"
   },
   {
    "duration": 73,
    "start_time": "2022-09-13T17:21:40.833Z"
   },
   {
    "duration": 4,
    "start_time": "2022-09-13T17:21:40.907Z"
   },
   {
    "duration": 8,
    "start_time": "2022-09-13T17:21:40.913Z"
   },
   {
    "duration": 22,
    "start_time": "2022-09-13T17:21:40.923Z"
   },
   {
    "duration": 4,
    "start_time": "2022-09-13T17:21:40.947Z"
   },
   {
    "duration": 7,
    "start_time": "2022-09-13T17:21:40.953Z"
   },
   {
    "duration": 1763,
    "start_time": "2022-09-13T17:21:40.961Z"
   },
   {
    "duration": 650,
    "start_time": "2022-09-13T17:21:42.726Z"
   },
   {
    "duration": 3,
    "start_time": "2022-09-13T17:21:43.378Z"
   },
   {
    "duration": 9,
    "start_time": "2022-09-13T17:21:43.382Z"
   },
   {
    "duration": 87786,
    "start_time": "2022-09-13T17:21:43.393Z"
   },
   {
    "duration": 0,
    "start_time": "2022-09-13T17:23:11.181Z"
   },
   {
    "duration": 0,
    "start_time": "2022-09-13T17:23:11.182Z"
   },
   {
    "duration": 0,
    "start_time": "2022-09-13T17:23:11.182Z"
   },
   {
    "duration": 0,
    "start_time": "2022-09-13T17:23:11.184Z"
   },
   {
    "duration": 0,
    "start_time": "2022-09-13T17:23:11.185Z"
   },
   {
    "duration": 2348,
    "start_time": "2022-09-13T17:23:58.304Z"
   },
   {
    "duration": 660,
    "start_time": "2022-09-13T17:24:14.200Z"
   },
   {
    "duration": 3,
    "start_time": "2022-09-13T17:24:16.128Z"
   },
   {
    "duration": 3,
    "start_time": "2022-09-13T17:24:17.187Z"
   },
   {
    "duration": 3313,
    "start_time": "2022-09-14T06:10:11.251Z"
   },
   {
    "duration": 60,
    "start_time": "2022-09-14T06:10:14.566Z"
   },
   {
    "duration": 15,
    "start_time": "2022-09-14T06:10:14.628Z"
   },
   {
    "duration": 18,
    "start_time": "2022-09-14T06:10:14.646Z"
   },
   {
    "duration": 11,
    "start_time": "2022-09-14T06:10:14.665Z"
   },
   {
    "duration": 31,
    "start_time": "2022-09-14T06:10:14.677Z"
   },
   {
    "duration": 6,
    "start_time": "2022-09-14T06:10:14.710Z"
   },
   {
    "duration": 10,
    "start_time": "2022-09-14T06:10:14.718Z"
   },
   {
    "duration": 10,
    "start_time": "2022-09-14T06:10:14.730Z"
   },
   {
    "duration": 8,
    "start_time": "2022-09-14T06:10:14.742Z"
   },
   {
    "duration": 10,
    "start_time": "2022-09-14T06:10:14.751Z"
   },
   {
    "duration": 34,
    "start_time": "2022-09-14T06:10:14.763Z"
   },
   {
    "duration": 8,
    "start_time": "2022-09-14T06:10:14.799Z"
   },
   {
    "duration": 11,
    "start_time": "2022-09-14T06:10:14.809Z"
   },
   {
    "duration": 183,
    "start_time": "2022-09-14T06:10:14.821Z"
   },
   {
    "duration": 171,
    "start_time": "2022-09-14T06:10:15.006Z"
   },
   {
    "duration": 157,
    "start_time": "2022-09-14T06:10:15.179Z"
   },
   {
    "duration": 163,
    "start_time": "2022-09-14T06:10:15.337Z"
   },
   {
    "duration": 3,
    "start_time": "2022-09-14T06:10:15.502Z"
   },
   {
    "duration": 12,
    "start_time": "2022-09-14T06:10:15.506Z"
   },
   {
    "duration": 8,
    "start_time": "2022-09-14T06:10:15.520Z"
   },
   {
    "duration": 10,
    "start_time": "2022-09-14T06:10:15.530Z"
   },
   {
    "duration": 16,
    "start_time": "2022-09-14T06:10:15.542Z"
   },
   {
    "duration": 35,
    "start_time": "2022-09-14T06:10:15.560Z"
   },
   {
    "duration": 628,
    "start_time": "2022-09-14T06:10:15.597Z"
   },
   {
    "duration": 141,
    "start_time": "2022-09-14T06:10:16.227Z"
   },
   {
    "duration": 12,
    "start_time": "2022-09-14T06:10:16.370Z"
   },
   {
    "duration": 12,
    "start_time": "2022-09-14T06:10:16.398Z"
   },
   {
    "duration": 6,
    "start_time": "2022-09-14T06:10:16.412Z"
   },
   {
    "duration": 6,
    "start_time": "2022-09-14T06:10:16.420Z"
   },
   {
    "duration": 7,
    "start_time": "2022-09-14T06:10:16.427Z"
   },
   {
    "duration": 8,
    "start_time": "2022-09-14T06:10:16.435Z"
   },
   {
    "duration": 7,
    "start_time": "2022-09-14T06:10:16.445Z"
   },
   {
    "duration": 14,
    "start_time": "2022-09-14T06:10:16.454Z"
   },
   {
    "duration": 58,
    "start_time": "2022-09-14T06:10:16.469Z"
   },
   {
    "duration": 33,
    "start_time": "2022-09-14T06:10:16.529Z"
   },
   {
    "duration": 31,
    "start_time": "2022-09-14T06:10:16.564Z"
   },
   {
    "duration": 16,
    "start_time": "2022-09-14T06:10:16.597Z"
   },
   {
    "duration": 19,
    "start_time": "2022-09-14T06:10:16.616Z"
   },
   {
    "duration": 31,
    "start_time": "2022-09-14T06:10:16.638Z"
   },
   {
    "duration": 31,
    "start_time": "2022-09-14T06:10:16.671Z"
   },
   {
    "duration": 16,
    "start_time": "2022-09-14T06:10:16.704Z"
   },
   {
    "duration": 35,
    "start_time": "2022-09-14T06:10:16.722Z"
   },
   {
    "duration": 37,
    "start_time": "2022-09-14T06:10:16.759Z"
   },
   {
    "duration": 10,
    "start_time": "2022-09-14T06:10:16.798Z"
   },
   {
    "duration": 664,
    "start_time": "2022-09-14T06:10:16.810Z"
   },
   {
    "duration": 147135,
    "start_time": "2022-09-14T06:10:17.476Z"
   },
   {
    "duration": 6,
    "start_time": "2022-09-14T06:12:44.613Z"
   },
   {
    "duration": 85,
    "start_time": "2022-09-14T06:12:44.620Z"
   },
   {
    "duration": 7,
    "start_time": "2022-09-14T06:12:44.707Z"
   },
   {
    "duration": 7,
    "start_time": "2022-09-14T06:12:44.715Z"
   },
   {
    "duration": 5,
    "start_time": "2022-09-14T06:12:44.723Z"
   },
   {
    "duration": 65,
    "start_time": "2022-09-14T06:12:44.730Z"
   },
   {
    "duration": 5,
    "start_time": "2022-09-14T06:12:44.797Z"
   },
   {
    "duration": 6,
    "start_time": "2022-09-14T06:12:44.803Z"
   },
   {
    "duration": 2197,
    "start_time": "2022-09-14T06:12:44.811Z"
   },
   {
    "duration": 751,
    "start_time": "2022-09-14T06:12:47.010Z"
   },
   {
    "duration": 4,
    "start_time": "2022-09-14T06:12:47.763Z"
   },
   {
    "duration": 6,
    "start_time": "2022-09-14T06:12:47.770Z"
   },
   {
    "duration": 2562,
    "start_time": "2022-09-14T07:06:46.698Z"
   },
   {
    "duration": 33,
    "start_time": "2022-09-14T07:06:49.262Z"
   },
   {
    "duration": 15,
    "start_time": "2022-09-14T07:06:49.297Z"
   },
   {
    "duration": 16,
    "start_time": "2022-09-14T07:06:49.313Z"
   },
   {
    "duration": 10,
    "start_time": "2022-09-14T07:06:49.331Z"
   },
   {
    "duration": 22,
    "start_time": "2022-09-14T07:06:49.343Z"
   },
   {
    "duration": 5,
    "start_time": "2022-09-14T07:06:49.396Z"
   },
   {
    "duration": 6,
    "start_time": "2022-09-14T07:06:49.403Z"
   },
   {
    "duration": 8,
    "start_time": "2022-09-14T07:06:49.411Z"
   },
   {
    "duration": 8,
    "start_time": "2022-09-14T07:06:49.420Z"
   },
   {
    "duration": 12,
    "start_time": "2022-09-14T07:06:49.430Z"
   },
   {
    "duration": 9,
    "start_time": "2022-09-14T07:06:49.444Z"
   },
   {
    "duration": 8,
    "start_time": "2022-09-14T07:06:49.455Z"
   },
   {
    "duration": 6,
    "start_time": "2022-09-14T07:06:49.494Z"
   },
   {
    "duration": 167,
    "start_time": "2022-09-14T07:06:49.502Z"
   },
   {
    "duration": 165,
    "start_time": "2022-09-14T07:06:49.671Z"
   },
   {
    "duration": 152,
    "start_time": "2022-09-14T07:06:49.838Z"
   },
   {
    "duration": 159,
    "start_time": "2022-09-14T07:06:49.996Z"
   },
   {
    "duration": 2,
    "start_time": "2022-09-14T07:06:50.157Z"
   },
   {
    "duration": 9,
    "start_time": "2022-09-14T07:06:50.161Z"
   },
   {
    "duration": 7,
    "start_time": "2022-09-14T07:06:50.171Z"
   },
   {
    "duration": 20,
    "start_time": "2022-09-14T07:06:50.179Z"
   },
   {
    "duration": 13,
    "start_time": "2022-09-14T07:06:50.201Z"
   },
   {
    "duration": 13,
    "start_time": "2022-09-14T07:06:50.216Z"
   },
   {
    "duration": 522,
    "start_time": "2022-09-14T07:06:50.231Z"
   },
   {
    "duration": 150,
    "start_time": "2022-09-14T07:06:50.754Z"
   },
   {
    "duration": 11,
    "start_time": "2022-09-14T07:06:50.906Z"
   },
   {
    "duration": 15,
    "start_time": "2022-09-14T07:06:50.919Z"
   },
   {
    "duration": 13,
    "start_time": "2022-09-14T07:06:50.936Z"
   },
   {
    "duration": 6,
    "start_time": "2022-09-14T07:06:50.951Z"
   },
   {
    "duration": 7,
    "start_time": "2022-09-14T07:06:50.959Z"
   },
   {
    "duration": 9,
    "start_time": "2022-09-14T07:06:50.967Z"
   },
   {
    "duration": 3,
    "start_time": "2022-09-14T07:06:50.996Z"
   },
   {
    "duration": 11,
    "start_time": "2022-09-14T07:06:51.001Z"
   },
   {
    "duration": 26,
    "start_time": "2022-09-14T07:06:51.013Z"
   },
   {
    "duration": 25,
    "start_time": "2022-09-14T07:06:51.041Z"
   },
   {
    "duration": 34,
    "start_time": "2022-09-14T07:06:51.068Z"
   },
   {
    "duration": 11,
    "start_time": "2022-09-14T07:06:51.104Z"
   },
   {
    "duration": 17,
    "start_time": "2022-09-14T07:06:51.117Z"
   },
   {
    "duration": 17,
    "start_time": "2022-09-14T07:06:51.136Z"
   },
   {
    "duration": 8,
    "start_time": "2022-09-14T07:06:51.159Z"
   },
   {
    "duration": 8,
    "start_time": "2022-09-14T07:06:51.196Z"
   },
   {
    "duration": 34,
    "start_time": "2022-09-14T07:06:51.207Z"
   },
   {
    "duration": 25,
    "start_time": "2022-09-14T07:06:51.243Z"
   },
   {
    "duration": 32,
    "start_time": "2022-09-14T07:06:51.270Z"
   },
   {
    "duration": 677,
    "start_time": "2022-09-14T07:06:51.303Z"
   },
   {
    "duration": 166629,
    "start_time": "2022-09-14T07:06:51.981Z"
   },
   {
    "duration": 6,
    "start_time": "2022-09-14T07:09:38.612Z"
   },
   {
    "duration": 104,
    "start_time": "2022-09-14T07:09:38.620Z"
   },
   {
    "duration": 5,
    "start_time": "2022-09-14T07:09:38.726Z"
   },
   {
    "duration": 5,
    "start_time": "2022-09-14T07:09:38.796Z"
   },
   {
    "duration": 27,
    "start_time": "2022-09-14T07:09:38.803Z"
   },
   {
    "duration": 34,
    "start_time": "2022-09-14T07:09:38.831Z"
   },
   {
    "duration": 24,
    "start_time": "2022-09-14T07:09:38.867Z"
   },
   {
    "duration": 22,
    "start_time": "2022-09-14T07:09:38.893Z"
   },
   {
    "duration": 2193,
    "start_time": "2022-09-14T07:09:38.917Z"
   },
   {
    "duration": 845,
    "start_time": "2022-09-14T07:09:41.113Z"
   },
   {
    "duration": 2,
    "start_time": "2022-09-14T07:09:41.960Z"
   },
   {
    "duration": 6,
    "start_time": "2022-09-14T07:09:41.964Z"
   },
   {
    "duration": 1767336,
    "start_time": "2022-09-14T07:09:41.972Z"
   },
   {
    "duration": 0,
    "start_time": "2022-09-14T07:39:09.310Z"
   },
   {
    "duration": 0,
    "start_time": "2022-09-14T07:39:09.311Z"
   },
   {
    "duration": 0,
    "start_time": "2022-09-14T07:39:09.312Z"
   },
   {
    "duration": 0,
    "start_time": "2022-09-14T07:39:09.313Z"
   },
   {
    "duration": 2675668,
    "start_time": "2022-09-14T07:39:12.858Z"
   },
   {
    "duration": 0,
    "start_time": "2022-09-14T08:23:48.528Z"
   },
   {
    "duration": 0,
    "start_time": "2022-09-14T08:23:48.530Z"
   },
   {
    "duration": 0,
    "start_time": "2022-09-14T08:23:48.531Z"
   },
   {
    "duration": 0,
    "start_time": "2022-09-14T08:23:48.532Z"
   },
   {
    "duration": 3,
    "start_time": "2022-09-14T08:23:51.936Z"
   },
   {
    "duration": 3,
    "start_time": "2022-09-14T08:23:52.931Z"
   },
   {
    "duration": 280720,
    "start_time": "2022-09-14T08:23:53.587Z"
   },
   {
    "duration": 4,
    "start_time": "2022-09-14T08:28:34.309Z"
   },
   {
    "duration": 12,
    "start_time": "2022-09-14T08:28:34.315Z"
   },
   {
    "duration": 6,
    "start_time": "2022-09-14T08:28:34.330Z"
   },
   {
    "duration": 75,
    "start_time": "2022-09-14T08:28:34.338Z"
   },
   {
    "duration": 2167,
    "start_time": "2022-09-14T08:35:24.717Z"
   },
   {
    "duration": 3,
    "start_time": "2022-09-14T08:35:48.045Z"
   },
   {
    "duration": 3,
    "start_time": "2022-09-14T08:35:48.547Z"
   },
   {
    "duration": 2851846,
    "start_time": "2022-09-14T08:35:49.366Z"
   },
   {
    "duration": 7,
    "start_time": "2022-09-14T09:23:21.214Z"
   },
   {
    "duration": 4,
    "start_time": "2022-09-14T09:23:21.296Z"
   },
   {
    "duration": 3,
    "start_time": "2022-09-14T09:32:10.898Z"
   },
   {
    "duration": 4,
    "start_time": "2022-09-14T09:32:11.333Z"
   },
   {
    "duration": 38309,
    "start_time": "2022-09-14T09:32:11.817Z"
   },
   {
    "duration": 0,
    "start_time": "2022-09-14T09:32:50.127Z"
   },
   {
    "duration": 0,
    "start_time": "2022-09-14T09:32:50.195Z"
   },
   {
    "duration": 0,
    "start_time": "2022-09-14T09:32:50.196Z"
   },
   {
    "duration": 414,
    "start_time": "2022-09-14T09:33:12.225Z"
   },
   {
    "duration": 95855,
    "start_time": "2022-09-14T09:33:13.444Z"
   },
   {
    "duration": 4,
    "start_time": "2022-09-14T09:34:49.301Z"
   },
   {
    "duration": 637,
    "start_time": "2022-09-14T09:40:01.730Z"
   },
   {
    "duration": 3499,
    "start_time": "2022-09-14T09:40:16.915Z"
   },
   {
    "duration": 59,
    "start_time": "2022-09-14T09:40:20.416Z"
   },
   {
    "duration": 16,
    "start_time": "2022-09-14T09:40:20.477Z"
   },
   {
    "duration": 19,
    "start_time": "2022-09-14T09:40:20.496Z"
   },
   {
    "duration": 15,
    "start_time": "2022-09-14T09:40:20.516Z"
   },
   {
    "duration": 28,
    "start_time": "2022-09-14T09:40:20.533Z"
   },
   {
    "duration": 6,
    "start_time": "2022-09-14T09:40:20.563Z"
   },
   {
    "duration": 5,
    "start_time": "2022-09-14T09:40:20.596Z"
   },
   {
    "duration": 11,
    "start_time": "2022-09-14T09:40:20.603Z"
   },
   {
    "duration": 14,
    "start_time": "2022-09-14T09:40:20.617Z"
   },
   {
    "duration": 9,
    "start_time": "2022-09-14T09:40:20.633Z"
   },
   {
    "duration": 8,
    "start_time": "2022-09-14T09:40:20.644Z"
   },
   {
    "duration": 8,
    "start_time": "2022-09-14T09:40:20.654Z"
   },
   {
    "duration": 31,
    "start_time": "2022-09-14T09:40:20.664Z"
   },
   {
    "duration": 196,
    "start_time": "2022-09-14T09:40:20.698Z"
   },
   {
    "duration": 172,
    "start_time": "2022-09-14T09:40:20.895Z"
   },
   {
    "duration": 162,
    "start_time": "2022-09-14T09:40:21.069Z"
   },
   {
    "duration": 156,
    "start_time": "2022-09-14T09:40:21.233Z"
   },
   {
    "duration": 2,
    "start_time": "2022-09-14T09:40:21.395Z"
   },
   {
    "duration": 8,
    "start_time": "2022-09-14T09:40:21.399Z"
   },
   {
    "duration": 4,
    "start_time": "2022-09-14T09:40:21.409Z"
   },
   {
    "duration": 7,
    "start_time": "2022-09-14T09:40:21.415Z"
   },
   {
    "duration": 13,
    "start_time": "2022-09-14T09:40:21.424Z"
   },
   {
    "duration": 19,
    "start_time": "2022-09-14T09:40:21.439Z"
   },
   {
    "duration": 555,
    "start_time": "2022-09-14T09:40:21.460Z"
   },
   {
    "duration": 141,
    "start_time": "2022-09-14T09:40:22.017Z"
   },
   {
    "duration": 12,
    "start_time": "2022-09-14T09:40:22.160Z"
   },
   {
    "duration": 26,
    "start_time": "2022-09-14T09:40:22.176Z"
   },
   {
    "duration": 5,
    "start_time": "2022-09-14T09:40:22.204Z"
   },
   {
    "duration": 6,
    "start_time": "2022-09-14T09:40:22.211Z"
   },
   {
    "duration": 5,
    "start_time": "2022-09-14T09:40:22.219Z"
   },
   {
    "duration": 5,
    "start_time": "2022-09-14T09:40:22.226Z"
   },
   {
    "duration": 6,
    "start_time": "2022-09-14T09:40:22.232Z"
   },
   {
    "duration": 12,
    "start_time": "2022-09-14T09:40:22.240Z"
   },
   {
    "duration": 43,
    "start_time": "2022-09-14T09:40:22.254Z"
   },
   {
    "duration": 22,
    "start_time": "2022-09-14T09:40:22.299Z"
   },
   {
    "duration": 15,
    "start_time": "2022-09-14T09:40:22.323Z"
   },
   {
    "duration": 15,
    "start_time": "2022-09-14T09:40:22.339Z"
   },
   {
    "duration": 12,
    "start_time": "2022-09-14T09:40:22.356Z"
   },
   {
    "duration": 33,
    "start_time": "2022-09-14T09:40:22.370Z"
   },
   {
    "duration": 8,
    "start_time": "2022-09-14T09:40:22.405Z"
   },
   {
    "duration": 7,
    "start_time": "2022-09-14T09:40:22.414Z"
   },
   {
    "duration": 23,
    "start_time": "2022-09-14T09:40:22.423Z"
   },
   {
    "duration": 48,
    "start_time": "2022-09-14T09:40:22.448Z"
   },
   {
    "duration": 17,
    "start_time": "2022-09-14T09:40:22.498Z"
   },
   {
    "duration": 700,
    "start_time": "2022-09-14T09:40:22.517Z"
   },
   {
    "duration": 199379,
    "start_time": "2022-09-14T09:40:23.219Z"
   },
   {
    "duration": 5,
    "start_time": "2022-09-14T09:43:42.601Z"
   },
   {
    "duration": 88,
    "start_time": "2022-09-14T09:43:42.607Z"
   },
   {
    "duration": 608,
    "start_time": "2022-09-14T09:48:29.916Z"
   },
   {
    "duration": 170677,
    "start_time": "2022-09-14T09:48:31.239Z"
   },
   {
    "duration": 4,
    "start_time": "2022-09-14T09:51:21.918Z"
   },
   {
    "duration": 643,
    "start_time": "2022-09-14T09:59:43.037Z"
   },
   {
    "duration": 179451,
    "start_time": "2022-09-14T09:59:44.953Z"
   },
   {
    "duration": 4,
    "start_time": "2022-09-14T10:02:44.406Z"
   },
   {
    "duration": 668,
    "start_time": "2022-09-14T10:07:47.392Z"
   },
   {
    "duration": 212551,
    "start_time": "2022-09-14T10:07:48.062Z"
   },
   {
    "duration": 79,
    "start_time": "2022-09-14T10:11:20.616Z"
   },
   {
    "duration": 606,
    "start_time": "2022-09-14T10:11:52.588Z"
   },
   {
    "duration": 165375,
    "start_time": "2022-09-14T10:11:55.136Z"
   },
   {
    "duration": 4,
    "start_time": "2022-09-14T10:14:40.513Z"
   },
   {
    "duration": 710,
    "start_time": "2022-09-14T10:25:04.522Z"
   },
   {
    "duration": 256282,
    "start_time": "2022-09-14T10:25:05.233Z"
   },
   {
    "duration": 78,
    "start_time": "2022-09-14T10:29:21.517Z"
   },
   {
    "duration": 13,
    "start_time": "2022-09-14T10:29:35.420Z"
   },
   {
    "duration": 5,
    "start_time": "2022-09-14T10:29:36.494Z"
   },
   {
    "duration": 6,
    "start_time": "2022-09-14T10:29:37.181Z"
   },
   {
    "duration": 4,
    "start_time": "2022-09-14T10:29:38.015Z"
   },
   {
    "duration": 14,
    "start_time": "2022-09-14T10:29:39.418Z"
   },
   {
    "duration": 4,
    "start_time": "2022-09-14T10:29:46.484Z"
   },
   {
    "duration": 4,
    "start_time": "2022-09-14T10:29:47.092Z"
   },
   {
    "duration": 2108,
    "start_time": "2022-09-14T10:29:47.716Z"
   },
   {
    "duration": 2201,
    "start_time": "2022-09-14T10:29:52.388Z"
   },
   {
    "duration": 616,
    "start_time": "2022-09-14T10:31:55.281Z"
   },
   {
    "duration": 667,
    "start_time": "2022-09-14T10:32:13.201Z"
   },
   {
    "duration": 3,
    "start_time": "2022-09-14T10:32:18.499Z"
   },
   {
    "duration": 2,
    "start_time": "2022-09-14T10:32:19.805Z"
   },
   {
    "duration": 3283,
    "start_time": "2022-09-14T11:30:41.338Z"
   },
   {
    "duration": 60,
    "start_time": "2022-09-14T11:30:44.623Z"
   },
   {
    "duration": 17,
    "start_time": "2022-09-14T11:30:44.685Z"
   },
   {
    "duration": 17,
    "start_time": "2022-09-14T11:30:44.704Z"
   },
   {
    "duration": 19,
    "start_time": "2022-09-14T11:30:44.722Z"
   },
   {
    "duration": 29,
    "start_time": "2022-09-14T11:30:44.742Z"
   },
   {
    "duration": 24,
    "start_time": "2022-09-14T11:30:44.773Z"
   },
   {
    "duration": 11,
    "start_time": "2022-09-14T11:30:44.799Z"
   },
   {
    "duration": 11,
    "start_time": "2022-09-14T11:30:44.812Z"
   },
   {
    "duration": 14,
    "start_time": "2022-09-14T11:30:44.827Z"
   },
   {
    "duration": 18,
    "start_time": "2022-09-14T11:30:44.843Z"
   },
   {
    "duration": 8,
    "start_time": "2022-09-14T11:30:44.863Z"
   },
   {
    "duration": 8,
    "start_time": "2022-09-14T11:30:44.873Z"
   },
   {
    "duration": 9,
    "start_time": "2022-09-14T11:30:44.894Z"
   },
   {
    "duration": 165,
    "start_time": "2022-09-14T11:30:44.904Z"
   },
   {
    "duration": 175,
    "start_time": "2022-09-14T11:30:45.071Z"
   },
   {
    "duration": 157,
    "start_time": "2022-09-14T11:30:45.248Z"
   },
   {
    "duration": 160,
    "start_time": "2022-09-14T11:30:45.407Z"
   },
   {
    "duration": 3,
    "start_time": "2022-09-14T11:30:45.569Z"
   },
   {
    "duration": 9,
    "start_time": "2022-09-14T11:30:45.573Z"
   },
   {
    "duration": 3,
    "start_time": "2022-09-14T11:30:45.596Z"
   },
   {
    "duration": 8,
    "start_time": "2022-09-14T11:30:45.600Z"
   },
   {
    "duration": 27,
    "start_time": "2022-09-14T11:30:45.610Z"
   },
   {
    "duration": 14,
    "start_time": "2022-09-14T11:30:45.638Z"
   },
   {
    "duration": 565,
    "start_time": "2022-09-14T11:30:45.653Z"
   },
   {
    "duration": 161,
    "start_time": "2022-09-14T11:30:46.221Z"
   },
   {
    "duration": 11,
    "start_time": "2022-09-14T11:30:46.394Z"
   },
   {
    "duration": 15,
    "start_time": "2022-09-14T11:30:46.409Z"
   },
   {
    "duration": 13,
    "start_time": "2022-09-14T11:30:46.425Z"
   },
   {
    "duration": 6,
    "start_time": "2022-09-14T11:30:46.440Z"
   },
   {
    "duration": 6,
    "start_time": "2022-09-14T11:30:46.447Z"
   },
   {
    "duration": 6,
    "start_time": "2022-09-14T11:30:46.455Z"
   },
   {
    "duration": 7,
    "start_time": "2022-09-14T11:30:46.463Z"
   },
   {
    "duration": 30,
    "start_time": "2022-09-14T11:30:46.471Z"
   },
   {
    "duration": 24,
    "start_time": "2022-09-14T11:30:46.502Z"
   },
   {
    "duration": 38,
    "start_time": "2022-09-14T11:30:46.528Z"
   },
   {
    "duration": 41,
    "start_time": "2022-09-14T11:30:46.568Z"
   },
   {
    "duration": 21,
    "start_time": "2022-09-14T11:30:46.612Z"
   },
   {
    "duration": 20,
    "start_time": "2022-09-14T11:30:46.635Z"
   },
   {
    "duration": 17,
    "start_time": "2022-09-14T11:30:46.658Z"
   },
   {
    "duration": 22,
    "start_time": "2022-09-14T11:30:46.677Z"
   },
   {
    "duration": 7,
    "start_time": "2022-09-14T11:30:46.701Z"
   },
   {
    "duration": 50,
    "start_time": "2022-09-14T11:30:46.710Z"
   },
   {
    "duration": 38,
    "start_time": "2022-09-14T11:30:46.763Z"
   },
   {
    "duration": 20,
    "start_time": "2022-09-14T11:30:46.803Z"
   },
   {
    "duration": 680,
    "start_time": "2022-09-14T11:30:46.825Z"
   },
   {
    "duration": 316405,
    "start_time": "2022-09-14T11:30:47.507Z"
   },
   {
    "duration": 6,
    "start_time": "2022-09-14T11:36:03.914Z"
   },
   {
    "duration": 121,
    "start_time": "2022-09-14T11:36:03.922Z"
   },
   {
    "duration": 6,
    "start_time": "2022-09-14T11:36:04.044Z"
   },
   {
    "duration": 5,
    "start_time": "2022-09-14T11:36:04.052Z"
   },
   {
    "duration": 5,
    "start_time": "2022-09-14T11:36:04.060Z"
   },
   {
    "duration": 14,
    "start_time": "2022-09-14T11:36:04.095Z"
   },
   {
    "duration": 6,
    "start_time": "2022-09-14T11:36:04.111Z"
   },
   {
    "duration": 10,
    "start_time": "2022-09-14T11:36:04.119Z"
   },
   {
    "duration": 2208,
    "start_time": "2022-09-14T11:36:04.131Z"
   },
   {
    "duration": 752,
    "start_time": "2022-09-14T11:36:06.341Z"
   },
   {
    "duration": 3,
    "start_time": "2022-09-14T11:36:07.095Z"
   },
   {
    "duration": 8,
    "start_time": "2022-09-14T11:36:07.100Z"
   },
   {
    "duration": 3515204,
    "start_time": "2022-09-14T11:36:07.110Z"
   },
   {
    "duration": 83,
    "start_time": "2022-09-14T12:34:42.317Z"
   },
   {
    "duration": 51,
    "start_time": "2022-09-14T12:34:42.401Z"
   },
   {
    "duration": 4,
    "start_time": "2022-09-14T12:34:42.454Z"
   },
   {
    "duration": 2238,
    "start_time": "2022-09-14T12:36:55.638Z"
   },
   {
    "duration": 700,
    "start_time": "2022-09-14T12:37:14.239Z"
   },
   {
    "duration": 3,
    "start_time": "2022-09-14T12:37:16.474Z"
   },
   {
    "duration": 3,
    "start_time": "2022-09-14T12:37:17.877Z"
   },
   {
    "duration": 789426,
    "start_time": "2022-09-14T12:37:21.533Z"
   },
   {
    "duration": 0,
    "start_time": "2022-09-14T12:50:30.961Z"
   },
   {
    "duration": 0,
    "start_time": "2022-09-14T12:50:30.962Z"
   },
   {
    "duration": 1,
    "start_time": "2022-09-14T12:50:30.963Z"
   },
   {
    "duration": 8,
    "start_time": "2022-09-14T12:51:10.132Z"
   },
   {
    "duration": 368,
    "start_time": "2022-09-14T12:51:11.237Z"
   },
   {
    "duration": 4,
    "start_time": "2022-09-14T12:51:12.392Z"
   },
   {
    "duration": 10,
    "start_time": "2022-09-14T12:51:28.632Z"
   },
   {
    "duration": 3,
    "start_time": "2022-09-14T12:51:30.447Z"
   },
   {
    "duration": 3,
    "start_time": "2022-09-14T12:51:31.697Z"
   },
   {
    "duration": 37801,
    "start_time": "2022-09-14T12:51:32.916Z"
   },
   {
    "duration": 96,
    "start_time": "2022-09-14T12:52:10.719Z"
   },
   {
    "duration": 12,
    "start_time": "2022-09-14T12:52:10.817Z"
   },
   {
    "duration": 5,
    "start_time": "2022-09-14T12:52:10.831Z"
   },
   {
    "duration": 4940,
    "start_time": "2022-09-14T12:56:01.878Z"
   },
   {
    "duration": 38419,
    "start_time": "2022-09-14T12:58:41.985Z"
   },
   {
    "duration": 9,
    "start_time": "2022-09-14T12:59:20.406Z"
   },
   {
    "duration": 5001,
    "start_time": "2022-09-14T12:59:20.417Z"
   },
   {
    "duration": 6,
    "start_time": "2022-09-14T12:59:25.421Z"
   },
   {
    "duration": 36028,
    "start_time": "2022-09-14T13:00:14.369Z"
   },
   {
    "duration": 3,
    "start_time": "2022-09-14T13:00:50.399Z"
   },
   {
    "duration": 3821,
    "start_time": "2022-09-14T13:00:50.404Z"
   },
   {
    "duration": 5,
    "start_time": "2022-09-14T13:00:54.296Z"
   },
   {
    "duration": 10946,
    "start_time": "2022-09-14T13:01:19.051Z"
   },
   {
    "duration": 0,
    "start_time": "2022-09-14T13:01:30.000Z"
   },
   {
    "duration": 0,
    "start_time": "2022-09-14T13:01:30.001Z"
   },
   {
    "duration": 0,
    "start_time": "2022-09-14T13:01:30.002Z"
   },
   {
    "duration": 36022,
    "start_time": "2022-09-14T13:01:32.093Z"
   },
   {
    "duration": 5,
    "start_time": "2022-09-14T13:02:08.117Z"
   },
   {
    "duration": 3401,
    "start_time": "2022-09-14T13:02:08.195Z"
   },
   {
    "duration": 6,
    "start_time": "2022-09-14T13:02:11.599Z"
   },
   {
    "duration": 10,
    "start_time": "2022-09-14T13:07:33.605Z"
   },
   {
    "duration": 2,
    "start_time": "2022-09-14T13:07:34.690Z"
   },
   {
    "duration": 3,
    "start_time": "2022-09-14T13:07:38.981Z"
   },
   {
    "duration": 36969,
    "start_time": "2022-09-14T13:07:39.333Z"
   },
   {
    "duration": 0,
    "start_time": "2022-09-14T13:08:16.304Z"
   },
   {
    "duration": 0,
    "start_time": "2022-09-14T13:08:16.305Z"
   },
   {
    "duration": 0,
    "start_time": "2022-09-14T13:08:16.307Z"
   },
   {
    "duration": 34893,
    "start_time": "2022-09-14T13:09:30.902Z"
   },
   {
    "duration": 4,
    "start_time": "2022-09-14T13:10:05.797Z"
   },
   {
    "duration": 6,
    "start_time": "2022-09-14T13:10:05.803Z"
   },
   {
    "duration": 7,
    "start_time": "2022-09-14T13:10:05.811Z"
   },
   {
    "duration": 2,
    "start_time": "2022-09-14T13:12:02.225Z"
   },
   {
    "duration": 3,
    "start_time": "2022-09-14T13:12:02.579Z"
   },
   {
    "duration": 82151,
    "start_time": "2022-09-14T13:12:02.946Z"
   },
   {
    "duration": 10,
    "start_time": "2022-09-14T13:13:25.100Z"
   },
   {
    "duration": 798,
    "start_time": "2022-09-14T13:13:25.112Z"
   },
   {
    "duration": 3001,
    "start_time": "2022-09-14T13:13:25.912Z"
   },
   {
    "duration": 11,
    "start_time": "2022-09-14T13:17:32.266Z"
   },
   {
    "duration": 2,
    "start_time": "2022-09-14T13:17:32.945Z"
   },
   {
    "duration": 2,
    "start_time": "2022-09-14T13:17:33.771Z"
   },
   {
    "duration": 81378,
    "start_time": "2022-09-14T13:17:34.533Z"
   },
   {
    "duration": 3,
    "start_time": "2022-09-14T13:18:55.913Z"
   },
   {
    "duration": 888,
    "start_time": "2022-09-14T13:18:55.918Z"
   },
   {
    "duration": 2811,
    "start_time": "2022-09-14T13:18:56.808Z"
   },
   {
    "duration": 80696,
    "start_time": "2022-09-14T13:21:21.305Z"
   },
   {
    "duration": 3,
    "start_time": "2022-09-14T13:22:42.003Z"
   },
   {
    "duration": 787,
    "start_time": "2022-09-14T13:22:42.008Z"
   },
   {
    "duration": 2598,
    "start_time": "2022-09-14T13:22:42.797Z"
   },
   {
    "duration": 3987,
    "start_time": "2022-09-14T13:23:53.723Z"
   },
   {
    "duration": 48,
    "start_time": "2022-09-14T13:23:57.712Z"
   },
   {
    "duration": 14,
    "start_time": "2022-09-14T13:23:57.762Z"
   },
   {
    "duration": 21,
    "start_time": "2022-09-14T13:23:57.779Z"
   },
   {
    "duration": 15,
    "start_time": "2022-09-14T13:23:57.802Z"
   },
   {
    "duration": 24,
    "start_time": "2022-09-14T13:23:57.819Z"
   },
   {
    "duration": 5,
    "start_time": "2022-09-14T13:23:57.844Z"
   },
   {
    "duration": 5,
    "start_time": "2022-09-14T13:23:57.851Z"
   },
   {
    "duration": 8,
    "start_time": "2022-09-14T13:23:57.857Z"
   },
   {
    "duration": 28,
    "start_time": "2022-09-14T13:23:57.868Z"
   },
   {
    "duration": 6,
    "start_time": "2022-09-14T13:23:57.898Z"
   },
   {
    "duration": 7,
    "start_time": "2022-09-14T13:23:57.905Z"
   },
   {
    "duration": 11,
    "start_time": "2022-09-14T13:23:57.913Z"
   },
   {
    "duration": 22,
    "start_time": "2022-09-14T13:23:57.926Z"
   },
   {
    "duration": 164,
    "start_time": "2022-09-14T13:23:57.950Z"
   },
   {
    "duration": 158,
    "start_time": "2022-09-14T13:23:58.116Z"
   },
   {
    "duration": 135,
    "start_time": "2022-09-14T13:23:58.276Z"
   },
   {
    "duration": 151,
    "start_time": "2022-09-14T13:23:58.412Z"
   },
   {
    "duration": 3,
    "start_time": "2022-09-14T13:23:58.564Z"
   },
   {
    "duration": 9,
    "start_time": "2022-09-14T13:23:58.569Z"
   },
   {
    "duration": 5,
    "start_time": "2022-09-14T13:23:58.579Z"
   },
   {
    "duration": 6,
    "start_time": "2022-09-14T13:23:58.595Z"
   },
   {
    "duration": 15,
    "start_time": "2022-09-14T13:23:58.603Z"
   },
   {
    "duration": 22,
    "start_time": "2022-09-14T13:23:58.620Z"
   },
   {
    "duration": 555,
    "start_time": "2022-09-14T13:23:58.644Z"
   },
   {
    "duration": 146,
    "start_time": "2022-09-14T13:23:59.201Z"
   },
   {
    "duration": 11,
    "start_time": "2022-09-14T13:23:59.349Z"
   },
   {
    "duration": 12,
    "start_time": "2022-09-14T13:23:59.364Z"
   },
   {
    "duration": 7,
    "start_time": "2022-09-14T13:23:59.395Z"
   },
   {
    "duration": 6,
    "start_time": "2022-09-14T13:23:59.403Z"
   },
   {
    "duration": 6,
    "start_time": "2022-09-14T13:23:59.411Z"
   },
   {
    "duration": 7,
    "start_time": "2022-09-14T13:23:59.418Z"
   },
   {
    "duration": 6,
    "start_time": "2022-09-14T13:23:59.426Z"
   },
   {
    "duration": 11,
    "start_time": "2022-09-14T13:23:59.433Z"
   },
   {
    "duration": 26,
    "start_time": "2022-09-14T13:23:59.446Z"
   },
   {
    "duration": 21,
    "start_time": "2022-09-14T13:23:59.495Z"
   },
   {
    "duration": 17,
    "start_time": "2022-09-14T13:23:59.517Z"
   },
   {
    "duration": 14,
    "start_time": "2022-09-14T13:23:59.535Z"
   },
   {
    "duration": 14,
    "start_time": "2022-09-14T13:23:59.551Z"
   },
   {
    "duration": 28,
    "start_time": "2022-09-14T13:23:59.566Z"
   },
   {
    "duration": 6,
    "start_time": "2022-09-14T13:23:59.596Z"
   },
   {
    "duration": 14,
    "start_time": "2022-09-14T13:23:59.604Z"
   },
   {
    "duration": 24,
    "start_time": "2022-09-14T13:23:59.620Z"
   },
   {
    "duration": 23,
    "start_time": "2022-09-14T13:23:59.646Z"
   },
   {
    "duration": 25,
    "start_time": "2022-09-14T13:23:59.670Z"
   },
   {
    "duration": 9,
    "start_time": "2022-09-14T13:23:59.696Z"
   },
   {
    "duration": 398,
    "start_time": "2022-09-14T13:23:59.706Z"
   },
   {
    "duration": 6,
    "start_time": "2022-09-14T13:24:00.106Z"
   },
   {
    "duration": 86,
    "start_time": "2022-09-14T13:24:00.114Z"
   },
   {
    "duration": 5,
    "start_time": "2022-09-14T13:24:00.202Z"
   },
   {
    "duration": 9,
    "start_time": "2022-09-14T13:24:00.209Z"
   },
   {
    "duration": 9,
    "start_time": "2022-09-14T13:24:00.220Z"
   },
   {
    "duration": 16,
    "start_time": "2022-09-14T13:24:00.231Z"
   },
   {
    "duration": 12,
    "start_time": "2022-09-14T13:24:00.249Z"
   },
   {
    "duration": 38,
    "start_time": "2022-09-14T13:24:00.263Z"
   },
   {
    "duration": 2029,
    "start_time": "2022-09-14T13:24:00.302Z"
   },
   {
    "duration": 9,
    "start_time": "2022-09-14T13:24:02.333Z"
   },
   {
    "duration": 34,
    "start_time": "2022-09-14T13:24:02.344Z"
   },
   {
    "duration": 22,
    "start_time": "2022-09-14T13:24:02.379Z"
   },
   {
    "duration": 77306,
    "start_time": "2022-09-14T13:24:02.403Z"
   },
   {
    "duration": 3,
    "start_time": "2022-09-14T13:25:19.711Z"
   },
   {
    "duration": 879,
    "start_time": "2022-09-14T13:25:19.716Z"
   },
   {
    "duration": 5,
    "start_time": "2022-09-14T13:25:20.597Z"
   },
   {
    "duration": 2038,
    "start_time": "2022-09-14T13:27:38.633Z"
   },
   {
    "duration": 15,
    "start_time": "2022-09-14T13:29:37.407Z"
   },
   {
    "duration": 151,
    "start_time": "2022-09-14T13:30:21.292Z"
   },
   {
    "duration": 3,
    "start_time": "2022-09-14T13:30:42.265Z"
   },
   {
    "duration": 3,
    "start_time": "2022-09-14T13:30:42.585Z"
   },
   {
    "duration": 41211,
    "start_time": "2022-09-14T13:30:43.002Z"
   },
   {
    "duration": 4,
    "start_time": "2022-09-14T13:31:24.215Z"
   },
   {
    "duration": 107,
    "start_time": "2022-09-14T13:31:24.220Z"
   },
   {
    "duration": 14,
    "start_time": "2022-09-14T13:31:24.328Z"
   },
   {
    "duration": 1959,
    "start_time": "2022-09-14T13:31:51.343Z"
   },
   {
    "duration": 27,
    "start_time": "2022-09-14T13:31:53.304Z"
   },
   {
    "duration": 15,
    "start_time": "2022-09-14T13:31:53.333Z"
   },
   {
    "duration": 16,
    "start_time": "2022-09-14T13:31:53.351Z"
   },
   {
    "duration": 17,
    "start_time": "2022-09-14T13:31:53.369Z"
   },
   {
    "duration": 27,
    "start_time": "2022-09-14T13:31:53.387Z"
   },
   {
    "duration": 5,
    "start_time": "2022-09-14T13:31:53.416Z"
   },
   {
    "duration": 6,
    "start_time": "2022-09-14T13:31:53.422Z"
   },
   {
    "duration": 10,
    "start_time": "2022-09-14T13:31:53.429Z"
   },
   {
    "duration": 8,
    "start_time": "2022-09-14T13:31:53.441Z"
   },
   {
    "duration": 19,
    "start_time": "2022-09-14T13:31:53.450Z"
   },
   {
    "duration": 6,
    "start_time": "2022-09-14T13:31:53.470Z"
   },
   {
    "duration": 19,
    "start_time": "2022-09-14T13:31:53.477Z"
   },
   {
    "duration": 6,
    "start_time": "2022-09-14T13:31:53.498Z"
   },
   {
    "duration": 154,
    "start_time": "2022-09-14T13:31:53.506Z"
   },
   {
    "duration": 168,
    "start_time": "2022-09-14T13:31:53.662Z"
   },
   {
    "duration": 153,
    "start_time": "2022-09-14T13:31:53.832Z"
   },
   {
    "duration": 155,
    "start_time": "2022-09-14T13:31:53.987Z"
   },
   {
    "duration": 4,
    "start_time": "2022-09-14T13:31:54.144Z"
   },
   {
    "duration": 9,
    "start_time": "2022-09-14T13:31:54.149Z"
   },
   {
    "duration": 8,
    "start_time": "2022-09-14T13:31:54.159Z"
   },
   {
    "duration": 7,
    "start_time": "2022-09-14T13:31:54.169Z"
   },
   {
    "duration": 23,
    "start_time": "2022-09-14T13:31:54.178Z"
   },
   {
    "duration": 12,
    "start_time": "2022-09-14T13:31:54.203Z"
   },
   {
    "duration": 515,
    "start_time": "2022-09-14T13:31:54.217Z"
   },
   {
    "duration": 135,
    "start_time": "2022-09-14T13:31:54.734Z"
   },
   {
    "duration": 12,
    "start_time": "2022-09-14T13:31:54.871Z"
   },
   {
    "duration": 12,
    "start_time": "2022-09-14T13:31:54.898Z"
   },
   {
    "duration": 6,
    "start_time": "2022-09-14T13:31:54.912Z"
   },
   {
    "duration": 5,
    "start_time": "2022-09-14T13:31:54.920Z"
   },
   {
    "duration": 6,
    "start_time": "2022-09-14T13:31:54.927Z"
   },
   {
    "duration": 5,
    "start_time": "2022-09-14T13:31:54.935Z"
   },
   {
    "duration": 7,
    "start_time": "2022-09-14T13:31:54.941Z"
   },
   {
    "duration": 15,
    "start_time": "2022-09-14T13:31:54.949Z"
   },
   {
    "duration": 51,
    "start_time": "2022-09-14T13:31:54.965Z"
   },
   {
    "duration": 25,
    "start_time": "2022-09-14T13:31:55.018Z"
   },
   {
    "duration": 16,
    "start_time": "2022-09-14T13:31:55.045Z"
   },
   {
    "duration": 33,
    "start_time": "2022-09-14T13:31:55.063Z"
   },
   {
    "duration": 10,
    "start_time": "2022-09-14T13:31:55.098Z"
   },
   {
    "duration": 11,
    "start_time": "2022-09-14T13:31:55.110Z"
   },
   {
    "duration": 7,
    "start_time": "2022-09-14T13:31:55.122Z"
   },
   {
    "duration": 7,
    "start_time": "2022-09-14T13:31:55.131Z"
   },
   {
    "duration": 24,
    "start_time": "2022-09-14T13:31:55.140Z"
   },
   {
    "duration": 50,
    "start_time": "2022-09-14T13:31:55.166Z"
   },
   {
    "duration": 7,
    "start_time": "2022-09-14T13:31:55.217Z"
   },
   {
    "duration": 8,
    "start_time": "2022-09-14T13:31:55.225Z"
   },
   {
    "duration": 12,
    "start_time": "2022-09-14T13:31:55.235Z"
   },
   {
    "duration": 3,
    "start_time": "2022-09-14T13:31:55.249Z"
   },
   {
    "duration": 130,
    "start_time": "2022-09-14T13:31:59.655Z"
   },
   {
    "duration": 819,
    "start_time": "2022-09-14T13:32:33.786Z"
   },
   {
    "duration": 4,
    "start_time": "2022-09-14T13:32:34.610Z"
   },
   {
    "duration": 39,
    "start_time": "2022-09-14T13:32:37.641Z"
   },
   {
    "duration": 8346,
    "start_time": "2022-09-14T13:32:46.069Z"
   },
   {
    "duration": 78,
    "start_time": "2022-09-14T13:32:54.417Z"
   },
   {
    "duration": 717,
    "start_time": "2022-09-14T13:32:54.497Z"
   },
   {
    "duration": 85440,
    "start_time": "2022-09-14T13:33:13.376Z"
   },
   {
    "duration": 132,
    "start_time": "2022-09-14T13:34:38.819Z"
   },
   {
    "duration": 768,
    "start_time": "2022-09-14T13:34:38.953Z"
   },
   {
    "duration": 9628,
    "start_time": "2022-09-14T13:34:46.832Z"
   },
   {
    "duration": 39,
    "start_time": "2022-09-14T13:34:56.462Z"
   },
   {
    "duration": 907,
    "start_time": "2022-09-14T13:34:56.502Z"
   },
   {
    "duration": 13,
    "start_time": "2022-09-14T13:34:57.411Z"
   },
   {
    "duration": 7121,
    "start_time": "2022-09-14T13:41:02.191Z"
   },
   {
    "duration": 3,
    "start_time": "2022-09-14T13:41:09.314Z"
   },
   {
    "duration": 77,
    "start_time": "2022-09-14T13:41:09.319Z"
   },
   {
    "duration": 374,
    "start_time": "2022-09-14T13:42:49.538Z"
   },
   {
    "duration": 4,
    "start_time": "2022-09-14T13:42:49.954Z"
   },
   {
    "duration": 4,
    "start_time": "2022-09-14T13:42:50.507Z"
   },
   {
    "duration": 6,
    "start_time": "2022-09-14T13:43:13.981Z"
   },
   {
    "duration": 10,
    "start_time": "2022-09-14T13:54:47.181Z"
   },
   {
    "duration": 899,
    "start_time": "2022-09-14T13:54:48.903Z"
   },
   {
    "duration": 5,
    "start_time": "2022-09-14T13:54:50.113Z"
   },
   {
    "duration": 6,
    "start_time": "2022-09-14T13:54:51.283Z"
   },
   {
    "duration": 1954,
    "start_time": "2022-09-14T13:55:42.119Z"
   },
   {
    "duration": 27,
    "start_time": "2022-09-14T13:55:44.074Z"
   },
   {
    "duration": 17,
    "start_time": "2022-09-14T13:55:44.103Z"
   },
   {
    "duration": 18,
    "start_time": "2022-09-14T13:55:44.122Z"
   },
   {
    "duration": 11,
    "start_time": "2022-09-14T13:55:44.144Z"
   },
   {
    "duration": 55,
    "start_time": "2022-09-14T13:55:44.156Z"
   },
   {
    "duration": 7,
    "start_time": "2022-09-14T13:55:44.212Z"
   },
   {
    "duration": 5,
    "start_time": "2022-09-14T13:55:44.221Z"
   },
   {
    "duration": 8,
    "start_time": "2022-09-14T13:55:44.228Z"
   },
   {
    "duration": 10,
    "start_time": "2022-09-14T13:55:44.239Z"
   },
   {
    "duration": 6,
    "start_time": "2022-09-14T13:55:44.252Z"
   },
   {
    "duration": 5,
    "start_time": "2022-09-14T13:55:44.296Z"
   },
   {
    "duration": 13,
    "start_time": "2022-09-14T13:55:44.303Z"
   },
   {
    "duration": 10,
    "start_time": "2022-09-14T13:55:44.319Z"
   },
   {
    "duration": 178,
    "start_time": "2022-09-14T13:55:44.332Z"
   },
   {
    "duration": 190,
    "start_time": "2022-09-14T13:55:44.512Z"
   },
   {
    "duration": 170,
    "start_time": "2022-09-14T13:55:44.704Z"
   },
   {
    "duration": 165,
    "start_time": "2022-09-14T13:55:44.876Z"
   },
   {
    "duration": 3,
    "start_time": "2022-09-14T13:55:45.044Z"
   },
   {
    "duration": 12,
    "start_time": "2022-09-14T13:55:45.048Z"
   },
   {
    "duration": 7,
    "start_time": "2022-09-14T13:55:45.062Z"
   },
   {
    "duration": 24,
    "start_time": "2022-09-14T13:55:45.071Z"
   },
   {
    "duration": 18,
    "start_time": "2022-09-14T13:55:45.098Z"
   },
   {
    "duration": 14,
    "start_time": "2022-09-14T13:55:45.117Z"
   },
   {
    "duration": 549,
    "start_time": "2022-09-14T13:55:45.133Z"
   },
   {
    "duration": 166,
    "start_time": "2022-09-14T13:55:45.684Z"
   },
   {
    "duration": 11,
    "start_time": "2022-09-14T13:55:45.852Z"
   },
   {
    "duration": 16,
    "start_time": "2022-09-14T13:55:45.864Z"
   },
   {
    "duration": 19,
    "start_time": "2022-09-14T13:55:45.881Z"
   },
   {
    "duration": 5,
    "start_time": "2022-09-14T13:55:45.901Z"
   },
   {
    "duration": 8,
    "start_time": "2022-09-14T13:55:45.908Z"
   },
   {
    "duration": 7,
    "start_time": "2022-09-14T13:55:45.918Z"
   },
   {
    "duration": 6,
    "start_time": "2022-09-14T13:55:45.927Z"
   },
   {
    "duration": 9,
    "start_time": "2022-09-14T13:55:45.934Z"
   },
   {
    "duration": 53,
    "start_time": "2022-09-14T13:55:45.945Z"
   },
   {
    "duration": 23,
    "start_time": "2022-09-14T13:55:46.000Z"
   },
   {
    "duration": 14,
    "start_time": "2022-09-14T13:55:46.025Z"
   },
   {
    "duration": 12,
    "start_time": "2022-09-14T13:55:46.041Z"
   },
   {
    "duration": 13,
    "start_time": "2022-09-14T13:55:46.055Z"
   },
   {
    "duration": 37,
    "start_time": "2022-09-14T13:55:46.069Z"
   },
   {
    "duration": 6,
    "start_time": "2022-09-14T13:55:46.109Z"
   },
   {
    "duration": 7,
    "start_time": "2022-09-14T13:55:46.117Z"
   },
   {
    "duration": 24,
    "start_time": "2022-09-14T13:55:46.125Z"
   },
   {
    "duration": 45,
    "start_time": "2022-09-14T13:55:46.151Z"
   },
   {
    "duration": 6,
    "start_time": "2022-09-14T13:55:46.198Z"
   },
   {
    "duration": 10,
    "start_time": "2022-09-14T13:55:46.206Z"
   },
   {
    "duration": 891,
    "start_time": "2022-09-14T13:55:46.218Z"
   },
   {
    "duration": 4,
    "start_time": "2022-09-14T13:55:47.111Z"
   },
   {
    "duration": 7,
    "start_time": "2022-09-14T13:55:47.117Z"
   },
   {
    "duration": 4,
    "start_time": "2022-09-14T13:55:47.126Z"
   },
   {
    "duration": 557,
    "start_time": "2022-09-14T13:57:09.356Z"
   },
   {
    "duration": 4,
    "start_time": "2022-09-14T13:57:10.181Z"
   },
   {
    "duration": 5,
    "start_time": "2022-09-14T13:57:11.373Z"
   },
   {
    "duration": 8,
    "start_time": "2022-09-14T13:58:19.224Z"
   },
   {
    "duration": 876,
    "start_time": "2022-09-14T13:58:20.320Z"
   },
   {
    "duration": 4,
    "start_time": "2022-09-14T13:58:21.666Z"
   },
   {
    "duration": 6,
    "start_time": "2022-09-14T13:58:22.170Z"
   },
   {
    "duration": 722,
    "start_time": "2022-09-14T13:59:03.385Z"
   },
   {
    "duration": 4,
    "start_time": "2022-09-14T13:59:04.109Z"
   },
   {
    "duration": 6,
    "start_time": "2022-09-14T13:59:05.211Z"
   },
   {
    "duration": 786,
    "start_time": "2022-09-14T13:59:52.209Z"
   },
   {
    "duration": 4,
    "start_time": "2022-09-14T13:59:52.997Z"
   },
   {
    "duration": 6,
    "start_time": "2022-09-14T13:59:53.234Z"
   },
   {
    "duration": 2235,
    "start_time": "2022-09-14T14:00:02.024Z"
   },
   {
    "duration": 28,
    "start_time": "2022-09-14T14:00:04.261Z"
   },
   {
    "duration": 16,
    "start_time": "2022-09-14T14:00:04.290Z"
   },
   {
    "duration": 31,
    "start_time": "2022-09-14T14:00:04.307Z"
   },
   {
    "duration": 28,
    "start_time": "2022-09-14T14:00:04.341Z"
   },
   {
    "duration": 41,
    "start_time": "2022-09-14T14:00:04.371Z"
   },
   {
    "duration": 14,
    "start_time": "2022-09-14T14:00:04.413Z"
   },
   {
    "duration": 22,
    "start_time": "2022-09-14T14:00:04.429Z"
   },
   {
    "duration": 44,
    "start_time": "2022-09-14T14:00:04.452Z"
   },
   {
    "duration": 43,
    "start_time": "2022-09-14T14:00:04.497Z"
   },
   {
    "duration": 25,
    "start_time": "2022-09-14T14:00:04.542Z"
   },
   {
    "duration": 27,
    "start_time": "2022-09-14T14:00:04.568Z"
   },
   {
    "duration": 19,
    "start_time": "2022-09-14T14:00:04.597Z"
   },
   {
    "duration": 28,
    "start_time": "2022-09-14T14:00:04.619Z"
   },
   {
    "duration": 163,
    "start_time": "2022-09-14T14:00:04.649Z"
   },
   {
    "duration": 178,
    "start_time": "2022-09-14T14:00:04.814Z"
   },
   {
    "duration": 156,
    "start_time": "2022-09-14T14:00:04.994Z"
   },
   {
    "duration": 157,
    "start_time": "2022-09-14T14:00:05.152Z"
   },
   {
    "duration": 3,
    "start_time": "2022-09-14T14:00:05.310Z"
   },
   {
    "duration": 22,
    "start_time": "2022-09-14T14:00:05.315Z"
   },
   {
    "duration": 30,
    "start_time": "2022-09-14T14:00:05.339Z"
   },
   {
    "duration": 23,
    "start_time": "2022-09-14T14:00:05.371Z"
   },
   {
    "duration": 23,
    "start_time": "2022-09-14T14:00:05.396Z"
   },
   {
    "duration": 24,
    "start_time": "2022-09-14T14:00:05.421Z"
   },
   {
    "duration": 565,
    "start_time": "2022-09-14T14:00:05.447Z"
   },
   {
    "duration": 137,
    "start_time": "2022-09-14T14:00:06.013Z"
   },
   {
    "duration": 11,
    "start_time": "2022-09-14T14:00:06.152Z"
   },
   {
    "duration": 34,
    "start_time": "2022-09-14T14:00:06.164Z"
   },
   {
    "duration": 24,
    "start_time": "2022-09-14T14:00:06.199Z"
   },
   {
    "duration": 14,
    "start_time": "2022-09-14T14:00:06.224Z"
   },
   {
    "duration": 9,
    "start_time": "2022-09-14T14:00:06.240Z"
   },
   {
    "duration": 6,
    "start_time": "2022-09-14T14:00:06.250Z"
   },
   {
    "duration": 8,
    "start_time": "2022-09-14T14:00:06.257Z"
   },
   {
    "duration": 9,
    "start_time": "2022-09-14T14:00:06.266Z"
   },
   {
    "duration": 22,
    "start_time": "2022-09-14T14:00:06.277Z"
   },
   {
    "duration": 23,
    "start_time": "2022-09-14T14:00:06.301Z"
   },
   {
    "duration": 15,
    "start_time": "2022-09-14T14:00:06.325Z"
   },
   {
    "duration": 12,
    "start_time": "2022-09-14T14:00:06.342Z"
   },
   {
    "duration": 14,
    "start_time": "2022-09-14T14:00:06.356Z"
   },
   {
    "duration": 28,
    "start_time": "2022-09-14T14:00:06.372Z"
   },
   {
    "duration": 7,
    "start_time": "2022-09-14T14:00:06.404Z"
   },
   {
    "duration": 7,
    "start_time": "2022-09-14T14:00:06.412Z"
   },
   {
    "duration": 26,
    "start_time": "2022-09-14T14:00:06.420Z"
   },
   {
    "duration": 52,
    "start_time": "2022-09-14T14:00:06.447Z"
   },
   {
    "duration": 5,
    "start_time": "2022-09-14T14:00:06.501Z"
   },
   {
    "duration": 180,
    "start_time": "2022-09-14T14:00:06.508Z"
   },
   {
    "duration": 0,
    "start_time": "2022-09-14T14:00:06.697Z"
   },
   {
    "duration": 0,
    "start_time": "2022-09-14T14:00:06.699Z"
   },
   {
    "duration": 0,
    "start_time": "2022-09-14T14:00:06.702Z"
   },
   {
    "duration": 0,
    "start_time": "2022-09-14T14:00:06.703Z"
   },
   {
    "duration": 20,
    "start_time": "2022-09-14T14:00:32.412Z"
   },
   {
    "duration": 9,
    "start_time": "2022-09-14T14:00:44.853Z"
   },
   {
    "duration": 841,
    "start_time": "2022-09-14T14:00:45.958Z"
   },
   {
    "duration": 4,
    "start_time": "2022-09-14T14:00:47.463Z"
   },
   {
    "duration": 7,
    "start_time": "2022-09-14T14:00:49.323Z"
   },
   {
    "duration": 8,
    "start_time": "2022-09-14T14:01:16.774Z"
   },
   {
    "duration": 8514,
    "start_time": "2022-09-14T14:01:17.983Z"
   },
   {
    "duration": 10,
    "start_time": "2022-09-14T14:01:26.499Z"
   },
   {
    "duration": 13,
    "start_time": "2022-09-14T14:01:26.510Z"
   },
   {
    "duration": 10167,
    "start_time": "2022-09-14T14:03:36.637Z"
   },
   {
    "duration": 8360,
    "start_time": "2022-09-14T14:03:50.341Z"
   },
   {
    "duration": 3744,
    "start_time": "2022-09-14T14:06:07.780Z"
   },
   {
    "duration": 26,
    "start_time": "2022-09-14T14:06:11.548Z"
   },
   {
    "duration": 1858,
    "start_time": "2022-09-14T14:06:28.398Z"
   },
   {
    "duration": 28,
    "start_time": "2022-09-14T14:06:30.258Z"
   },
   {
    "duration": 16,
    "start_time": "2022-09-14T14:06:30.288Z"
   },
   {
    "duration": 31,
    "start_time": "2022-09-14T14:06:30.306Z"
   },
   {
    "duration": 21,
    "start_time": "2022-09-14T14:06:30.339Z"
   },
   {
    "duration": 40,
    "start_time": "2022-09-14T14:06:30.361Z"
   },
   {
    "duration": 11,
    "start_time": "2022-09-14T14:06:30.403Z"
   },
   {
    "duration": 44,
    "start_time": "2022-09-14T14:06:30.416Z"
   },
   {
    "duration": 29,
    "start_time": "2022-09-14T14:06:30.462Z"
   },
   {
    "duration": 15,
    "start_time": "2022-09-14T14:06:30.494Z"
   },
   {
    "duration": 29,
    "start_time": "2022-09-14T14:06:30.511Z"
   },
   {
    "duration": 22,
    "start_time": "2022-09-14T14:06:30.542Z"
   },
   {
    "duration": 26,
    "start_time": "2022-09-14T14:06:30.566Z"
   },
   {
    "duration": 17,
    "start_time": "2022-09-14T14:06:30.593Z"
   },
   {
    "duration": 157,
    "start_time": "2022-09-14T14:06:30.611Z"
   },
   {
    "duration": 181,
    "start_time": "2022-09-14T14:06:30.770Z"
   },
   {
    "duration": 164,
    "start_time": "2022-09-14T14:06:30.953Z"
   },
   {
    "duration": 166,
    "start_time": "2022-09-14T14:06:31.119Z"
   },
   {
    "duration": 9,
    "start_time": "2022-09-14T14:06:31.286Z"
   },
   {
    "duration": 8,
    "start_time": "2022-09-14T14:06:31.296Z"
   },
   {
    "duration": 9,
    "start_time": "2022-09-14T14:06:31.305Z"
   },
   {
    "duration": 10,
    "start_time": "2022-09-14T14:06:31.315Z"
   },
   {
    "duration": 25,
    "start_time": "2022-09-14T14:06:31.326Z"
   },
   {
    "duration": 26,
    "start_time": "2022-09-14T14:06:31.353Z"
   },
   {
    "duration": 550,
    "start_time": "2022-09-14T14:06:31.381Z"
   },
   {
    "duration": 144,
    "start_time": "2022-09-14T14:06:31.932Z"
   },
   {
    "duration": 17,
    "start_time": "2022-09-14T14:06:32.078Z"
   },
   {
    "duration": 13,
    "start_time": "2022-09-14T14:06:32.100Z"
   },
   {
    "duration": 10,
    "start_time": "2022-09-14T14:06:32.115Z"
   },
   {
    "duration": 6,
    "start_time": "2022-09-14T14:06:32.127Z"
   },
   {
    "duration": 6,
    "start_time": "2022-09-14T14:06:32.135Z"
   },
   {
    "duration": 8,
    "start_time": "2022-09-14T14:06:32.143Z"
   },
   {
    "duration": 15,
    "start_time": "2022-09-14T14:06:32.152Z"
   },
   {
    "duration": 34,
    "start_time": "2022-09-14T14:06:32.169Z"
   },
   {
    "duration": 41,
    "start_time": "2022-09-14T14:06:32.204Z"
   },
   {
    "duration": 26,
    "start_time": "2022-09-14T14:06:32.247Z"
   },
   {
    "duration": 20,
    "start_time": "2022-09-14T14:06:32.275Z"
   },
   {
    "duration": 17,
    "start_time": "2022-09-14T14:06:32.297Z"
   },
   {
    "duration": 15,
    "start_time": "2022-09-14T14:06:32.316Z"
   },
   {
    "duration": 19,
    "start_time": "2022-09-14T14:06:32.333Z"
   },
   {
    "duration": 13,
    "start_time": "2022-09-14T14:06:32.354Z"
   },
   {
    "duration": 13,
    "start_time": "2022-09-14T14:06:32.369Z"
   },
   {
    "duration": 33,
    "start_time": "2022-09-14T14:06:32.395Z"
   },
   {
    "duration": 26,
    "start_time": "2022-09-14T14:06:32.430Z"
   },
   {
    "duration": 9,
    "start_time": "2022-09-14T14:06:32.457Z"
   },
   {
    "duration": 8,
    "start_time": "2022-09-14T14:06:32.468Z"
   },
   {
    "duration": 8739,
    "start_time": "2022-09-14T14:06:32.478Z"
   },
   {
    "duration": 10,
    "start_time": "2022-09-14T14:06:41.295Z"
   },
   {
    "duration": 3929,
    "start_time": "2022-09-14T14:06:41.307Z"
   },
   {
    "duration": 205,
    "start_time": "2022-09-14T14:06:45.239Z"
   },
   {
    "duration": 11,
    "start_time": "2022-09-14T14:06:55.268Z"
   },
   {
    "duration": 10,
    "start_time": "2022-09-14T14:07:19.392Z"
   },
   {
    "duration": 4,
    "start_time": "2022-09-14T14:07:46.333Z"
   },
   {
    "duration": 1934,
    "start_time": "2022-09-14T14:07:56.948Z"
   },
   {
    "duration": 28,
    "start_time": "2022-09-14T14:07:58.884Z"
   },
   {
    "duration": 16,
    "start_time": "2022-09-14T14:07:58.913Z"
   },
   {
    "duration": 17,
    "start_time": "2022-09-14T14:07:58.931Z"
   },
   {
    "duration": 15,
    "start_time": "2022-09-14T14:07:58.950Z"
   },
   {
    "duration": 33,
    "start_time": "2022-09-14T14:07:58.967Z"
   },
   {
    "duration": 6,
    "start_time": "2022-09-14T14:07:59.001Z"
   },
   {
    "duration": 5,
    "start_time": "2022-09-14T14:07:59.009Z"
   },
   {
    "duration": 8,
    "start_time": "2022-09-14T14:07:59.016Z"
   },
   {
    "duration": 8,
    "start_time": "2022-09-14T14:07:59.027Z"
   },
   {
    "duration": 17,
    "start_time": "2022-09-14T14:07:59.036Z"
   },
   {
    "duration": 12,
    "start_time": "2022-09-14T14:07:59.055Z"
   },
   {
    "duration": 11,
    "start_time": "2022-09-14T14:07:59.069Z"
   },
   {
    "duration": 6,
    "start_time": "2022-09-14T14:07:59.096Z"
   },
   {
    "duration": 162,
    "start_time": "2022-09-14T14:07:59.104Z"
   },
   {
    "duration": 152,
    "start_time": "2022-09-14T14:07:59.268Z"
   },
   {
    "duration": 156,
    "start_time": "2022-09-14T14:07:59.421Z"
   },
   {
    "duration": 171,
    "start_time": "2022-09-14T14:07:59.578Z"
   },
   {
    "duration": 3,
    "start_time": "2022-09-14T14:07:59.752Z"
   },
   {
    "duration": 8,
    "start_time": "2022-09-14T14:07:59.757Z"
   },
   {
    "duration": 3,
    "start_time": "2022-09-14T14:07:59.767Z"
   },
   {
    "duration": 27,
    "start_time": "2022-09-14T14:07:59.772Z"
   },
   {
    "duration": 25,
    "start_time": "2022-09-14T14:07:59.801Z"
   },
   {
    "duration": 14,
    "start_time": "2022-09-14T14:07:59.827Z"
   },
   {
    "duration": 563,
    "start_time": "2022-09-14T14:07:59.844Z"
   },
   {
    "duration": 148,
    "start_time": "2022-09-14T14:08:00.409Z"
   },
   {
    "duration": 13,
    "start_time": "2022-09-14T14:08:00.559Z"
   },
   {
    "duration": 49,
    "start_time": "2022-09-14T14:08:00.577Z"
   },
   {
    "duration": 23,
    "start_time": "2022-09-14T14:08:00.629Z"
   },
   {
    "duration": 10,
    "start_time": "2022-09-14T14:08:00.654Z"
   },
   {
    "duration": 12,
    "start_time": "2022-09-14T14:08:00.665Z"
   },
   {
    "duration": 6,
    "start_time": "2022-09-14T14:08:00.678Z"
   },
   {
    "duration": 15,
    "start_time": "2022-09-14T14:08:00.686Z"
   },
   {
    "duration": 26,
    "start_time": "2022-09-14T14:08:00.703Z"
   },
   {
    "duration": 41,
    "start_time": "2022-09-14T14:08:00.730Z"
   },
   {
    "duration": 29,
    "start_time": "2022-09-14T14:08:00.773Z"
   },
   {
    "duration": 42,
    "start_time": "2022-09-14T14:08:00.804Z"
   },
   {
    "duration": 24,
    "start_time": "2022-09-14T14:08:00.848Z"
   },
   {
    "duration": 26,
    "start_time": "2022-09-14T14:08:00.874Z"
   },
   {
    "duration": 38,
    "start_time": "2022-09-14T14:08:00.902Z"
   },
   {
    "duration": 17,
    "start_time": "2022-09-14T14:08:00.942Z"
   },
   {
    "duration": 47,
    "start_time": "2022-09-14T14:08:00.960Z"
   },
   {
    "duration": 60,
    "start_time": "2022-09-14T14:08:01.008Z"
   },
   {
    "duration": 66,
    "start_time": "2022-09-14T14:08:01.070Z"
   },
   {
    "duration": 30,
    "start_time": "2022-09-14T14:08:01.138Z"
   },
   {
    "duration": 34,
    "start_time": "2022-09-14T14:08:01.170Z"
   },
   {
    "duration": 9392,
    "start_time": "2022-09-14T14:08:01.206Z"
   },
   {
    "duration": 10,
    "start_time": "2022-09-14T14:08:10.600Z"
   },
   {
    "duration": 4028,
    "start_time": "2022-09-14T14:08:10.612Z"
   },
   {
    "duration": 823,
    "start_time": "2022-09-14T14:08:14.643Z"
   },
   {
    "duration": 9377,
    "start_time": "2022-09-14T14:09:17.624Z"
   },
   {
    "duration": 9,
    "start_time": "2022-09-14T14:09:27.003Z"
   },
   {
    "duration": 803,
    "start_time": "2022-09-14T14:09:27.014Z"
   },
   {
    "duration": 204,
    "start_time": "2022-09-14T14:09:27.819Z"
   },
   {
    "duration": 13,
    "start_time": "2022-09-14T14:09:54.293Z"
   },
   {
    "duration": 8092,
    "start_time": "2022-09-14T14:13:53.506Z"
   },
   {
    "duration": 9,
    "start_time": "2022-09-14T14:14:01.600Z"
   },
   {
    "duration": 10,
    "start_time": "2022-09-14T14:14:01.610Z"
   },
   {
    "duration": 6,
    "start_time": "2022-09-14T14:15:43.667Z"
   },
   {
    "duration": 12,
    "start_time": "2022-09-14T14:16:00.030Z"
   },
   {
    "duration": 754,
    "start_time": "2022-09-14T14:16:05.126Z"
   },
   {
    "duration": 6,
    "start_time": "2022-09-14T14:16:21.908Z"
   },
   {
    "duration": 5,
    "start_time": "2022-09-14T14:16:25.205Z"
   },
   {
    "duration": 4,
    "start_time": "2022-09-14T14:16:26.224Z"
   },
   {
    "duration": 18,
    "start_time": "2022-09-14T14:16:27.294Z"
   },
   {
    "duration": 4,
    "start_time": "2022-09-14T14:16:31.324Z"
   },
   {
    "duration": 5,
    "start_time": "2022-09-14T14:16:31.863Z"
   },
   {
    "duration": 1990,
    "start_time": "2022-09-14T14:16:32.577Z"
   },
   {
    "duration": 2160,
    "start_time": "2022-09-14T14:16:37.088Z"
   },
   {
    "duration": 10,
    "start_time": "2022-09-14T14:16:45.460Z"
   },
   {
    "duration": 3,
    "start_time": "2022-09-14T14:16:46.578Z"
   },
   {
    "duration": 3,
    "start_time": "2022-09-14T14:16:48.970Z"
   },
   {
    "duration": 7250,
    "start_time": "2022-09-14T14:16:51.288Z"
   },
   {
    "duration": 9,
    "start_time": "2022-09-14T14:16:58.540Z"
   },
   {
    "duration": 15,
    "start_time": "2022-09-14T14:16:58.551Z"
   },
   {
    "duration": 37,
    "start_time": "2022-09-14T14:16:58.569Z"
   },
   {
    "duration": 6,
    "start_time": "2022-09-14T14:17:55.681Z"
   },
   {
    "duration": 5,
    "start_time": "2022-09-14T14:17:58.892Z"
   },
   {
    "duration": 7,
    "start_time": "2022-09-14T14:17:59.742Z"
   },
   {
    "duration": 5,
    "start_time": "2022-09-14T14:18:00.662Z"
   },
   {
    "duration": 53,
    "start_time": "2022-09-14T14:18:12.590Z"
   },
   {
    "duration": 0,
    "start_time": "2022-09-14T14:18:12.645Z"
   },
   {
    "duration": 0,
    "start_time": "2022-09-14T14:18:12.646Z"
   },
   {
    "duration": 0,
    "start_time": "2022-09-14T14:18:12.648Z"
   },
   {
    "duration": 0,
    "start_time": "2022-09-14T14:18:12.649Z"
   },
   {
    "duration": 0,
    "start_time": "2022-09-14T14:18:12.651Z"
   },
   {
    "duration": 0,
    "start_time": "2022-09-14T14:18:12.652Z"
   },
   {
    "duration": 0,
    "start_time": "2022-09-14T14:18:12.654Z"
   },
   {
    "duration": 0,
    "start_time": "2022-09-14T14:18:12.655Z"
   },
   {
    "duration": 0,
    "start_time": "2022-09-14T14:18:12.657Z"
   },
   {
    "duration": 0,
    "start_time": "2022-09-14T14:18:12.658Z"
   },
   {
    "duration": 0,
    "start_time": "2022-09-14T14:18:12.660Z"
   },
   {
    "duration": 0,
    "start_time": "2022-09-14T14:18:12.661Z"
   },
   {
    "duration": 1953,
    "start_time": "2022-09-14T14:18:21.707Z"
   },
   {
    "duration": 27,
    "start_time": "2022-09-14T14:18:23.662Z"
   },
   {
    "duration": 16,
    "start_time": "2022-09-14T14:18:23.691Z"
   },
   {
    "duration": 16,
    "start_time": "2022-09-14T14:18:23.708Z"
   },
   {
    "duration": 12,
    "start_time": "2022-09-14T14:18:23.725Z"
   },
   {
    "duration": 30,
    "start_time": "2022-09-14T14:18:23.738Z"
   },
   {
    "duration": 26,
    "start_time": "2022-09-14T14:18:23.771Z"
   },
   {
    "duration": 7,
    "start_time": "2022-09-14T14:18:23.798Z"
   },
   {
    "duration": 8,
    "start_time": "2022-09-14T14:18:23.807Z"
   },
   {
    "duration": 7,
    "start_time": "2022-09-14T14:18:23.817Z"
   },
   {
    "duration": 7,
    "start_time": "2022-09-14T14:18:23.825Z"
   },
   {
    "duration": 5,
    "start_time": "2022-09-14T14:18:23.834Z"
   },
   {
    "duration": 11,
    "start_time": "2022-09-14T14:18:23.840Z"
   },
   {
    "duration": 8,
    "start_time": "2022-09-14T14:18:23.852Z"
   },
   {
    "duration": 175,
    "start_time": "2022-09-14T14:18:23.862Z"
   },
   {
    "duration": 166,
    "start_time": "2022-09-14T14:18:24.039Z"
   },
   {
    "duration": 150,
    "start_time": "2022-09-14T14:18:24.206Z"
   },
   {
    "duration": 160,
    "start_time": "2022-09-14T14:18:24.358Z"
   },
   {
    "duration": 3,
    "start_time": "2022-09-14T14:18:24.520Z"
   },
   {
    "duration": 9,
    "start_time": "2022-09-14T14:18:24.524Z"
   },
   {
    "duration": 5,
    "start_time": "2022-09-14T14:18:24.535Z"
   },
   {
    "duration": 8,
    "start_time": "2022-09-14T14:18:24.541Z"
   },
   {
    "duration": 12,
    "start_time": "2022-09-14T14:18:24.551Z"
   },
   {
    "duration": 38,
    "start_time": "2022-09-14T14:18:24.565Z"
   },
   {
    "duration": 523,
    "start_time": "2022-09-14T14:18:24.605Z"
   },
   {
    "duration": 151,
    "start_time": "2022-09-14T14:18:25.129Z"
   },
   {
    "duration": 23,
    "start_time": "2022-09-14T14:18:25.282Z"
   },
   {
    "duration": 22,
    "start_time": "2022-09-14T14:18:25.310Z"
   },
   {
    "duration": 8,
    "start_time": "2022-09-14T14:18:25.334Z"
   },
   {
    "duration": 8,
    "start_time": "2022-09-14T14:18:25.343Z"
   },
   {
    "duration": 12,
    "start_time": "2022-09-14T14:18:25.352Z"
   },
   {
    "duration": 4,
    "start_time": "2022-09-14T14:18:25.366Z"
   },
   {
    "duration": 24,
    "start_time": "2022-09-14T14:18:25.372Z"
   },
   {
    "duration": 7,
    "start_time": "2022-09-14T14:18:25.398Z"
   },
   {
    "duration": 22,
    "start_time": "2022-09-14T14:18:25.407Z"
   },
   {
    "duration": 25,
    "start_time": "2022-09-14T14:18:25.430Z"
   },
   {
    "duration": 47,
    "start_time": "2022-09-14T14:18:25.457Z"
   },
   {
    "duration": 14,
    "start_time": "2022-09-14T14:18:25.506Z"
   },
   {
    "duration": 11,
    "start_time": "2022-09-14T14:18:25.522Z"
   },
   {
    "duration": 11,
    "start_time": "2022-09-14T14:18:25.535Z"
   },
   {
    "duration": 10,
    "start_time": "2022-09-14T14:18:25.547Z"
   },
   {
    "duration": 6,
    "start_time": "2022-09-14T14:18:25.559Z"
   },
   {
    "duration": 46,
    "start_time": "2022-09-14T14:18:25.566Z"
   },
   {
    "duration": 25,
    "start_time": "2022-09-14T14:18:25.614Z"
   },
   {
    "duration": 6,
    "start_time": "2022-09-14T14:18:25.641Z"
   },
   {
    "duration": 11,
    "start_time": "2022-09-14T14:18:25.649Z"
   },
   {
    "duration": 8056,
    "start_time": "2022-09-14T14:18:25.661Z"
   },
   {
    "duration": 10,
    "start_time": "2022-09-14T14:18:33.794Z"
   },
   {
    "duration": 6,
    "start_time": "2022-09-14T14:18:33.806Z"
   },
   {
    "duration": 12,
    "start_time": "2022-09-14T14:18:33.813Z"
   },
   {
    "duration": 4,
    "start_time": "2022-09-14T14:18:33.827Z"
   },
   {
    "duration": 7,
    "start_time": "2022-09-14T14:18:33.832Z"
   },
   {
    "duration": 56,
    "start_time": "2022-09-14T14:18:33.840Z"
   },
   {
    "duration": 7,
    "start_time": "2022-09-14T14:18:33.898Z"
   },
   {
    "duration": 8,
    "start_time": "2022-09-14T14:18:33.906Z"
   },
   {
    "duration": 7735,
    "start_time": "2022-09-14T14:19:54.071Z"
   },
   {
    "duration": 9,
    "start_time": "2022-09-14T14:20:01.808Z"
   },
   {
    "duration": 10,
    "start_time": "2022-09-14T14:20:01.818Z"
   },
   {
    "duration": 67,
    "start_time": "2022-09-14T14:20:01.830Z"
   },
   {
    "duration": 101,
    "start_time": "2022-09-14T14:21:09.983Z"
   },
   {
    "duration": 6,
    "start_time": "2022-09-14T14:21:21.720Z"
   },
   {
    "duration": 7,
    "start_time": "2022-09-14T14:21:27.267Z"
   },
   {
    "duration": 7,
    "start_time": "2022-09-14T14:21:30.912Z"
   },
   {
    "duration": 6,
    "start_time": "2022-09-14T14:21:36.297Z"
   },
   {
    "duration": 6,
    "start_time": "2022-09-14T14:21:43.316Z"
   },
   {
    "duration": 13,
    "start_time": "2022-09-14T14:28:22.457Z"
   },
   {
    "duration": 11,
    "start_time": "2022-09-14T14:28:45.153Z"
   },
   {
    "duration": 1941,
    "start_time": "2022-09-14T14:28:58.029Z"
   },
   {
    "duration": 28,
    "start_time": "2022-09-14T14:28:59.972Z"
   },
   {
    "duration": 16,
    "start_time": "2022-09-14T14:29:00.002Z"
   },
   {
    "duration": 18,
    "start_time": "2022-09-14T14:29:00.020Z"
   },
   {
    "duration": 11,
    "start_time": "2022-09-14T14:29:00.040Z"
   },
   {
    "duration": 50,
    "start_time": "2022-09-14T14:29:00.053Z"
   },
   {
    "duration": 6,
    "start_time": "2022-09-14T14:29:00.105Z"
   },
   {
    "duration": 8,
    "start_time": "2022-09-14T14:29:00.113Z"
   },
   {
    "duration": 11,
    "start_time": "2022-09-14T14:29:00.123Z"
   },
   {
    "duration": 8,
    "start_time": "2022-09-14T14:29:00.137Z"
   },
   {
    "duration": 16,
    "start_time": "2022-09-14T14:29:00.147Z"
   },
   {
    "duration": 8,
    "start_time": "2022-09-14T14:29:00.165Z"
   },
   {
    "duration": 25,
    "start_time": "2022-09-14T14:29:00.174Z"
   },
   {
    "duration": 11,
    "start_time": "2022-09-14T14:29:00.201Z"
   },
   {
    "duration": 159,
    "start_time": "2022-09-14T14:29:00.214Z"
   },
   {
    "duration": 174,
    "start_time": "2022-09-14T14:29:00.375Z"
   },
   {
    "duration": 160,
    "start_time": "2022-09-14T14:29:00.551Z"
   },
   {
    "duration": 169,
    "start_time": "2022-09-14T14:29:00.713Z"
   },
   {
    "duration": 3,
    "start_time": "2022-09-14T14:29:00.884Z"
   },
   {
    "duration": 9,
    "start_time": "2022-09-14T14:29:00.894Z"
   },
   {
    "duration": 8,
    "start_time": "2022-09-14T14:29:00.905Z"
   },
   {
    "duration": 8,
    "start_time": "2022-09-14T14:29:00.915Z"
   },
   {
    "duration": 14,
    "start_time": "2022-09-14T14:29:00.925Z"
   },
   {
    "duration": 13,
    "start_time": "2022-09-14T14:29:00.941Z"
   },
   {
    "duration": 556,
    "start_time": "2022-09-14T14:29:00.956Z"
   },
   {
    "duration": 143,
    "start_time": "2022-09-14T14:29:01.514Z"
   },
   {
    "duration": 11,
    "start_time": "2022-09-14T14:29:01.659Z"
   },
   {
    "duration": 33,
    "start_time": "2022-09-14T14:29:01.673Z"
   },
   {
    "duration": 33,
    "start_time": "2022-09-14T14:29:01.708Z"
   },
   {
    "duration": 22,
    "start_time": "2022-09-14T14:29:01.743Z"
   },
   {
    "duration": 34,
    "start_time": "2022-09-14T14:29:01.768Z"
   },
   {
    "duration": 36,
    "start_time": "2022-09-14T14:29:01.804Z"
   },
   {
    "duration": 20,
    "start_time": "2022-09-14T14:29:01.842Z"
   },
   {
    "duration": 24,
    "start_time": "2022-09-14T14:29:01.864Z"
   },
   {
    "duration": 47,
    "start_time": "2022-09-14T14:29:01.889Z"
   },
   {
    "duration": 51,
    "start_time": "2022-09-14T14:29:01.938Z"
   },
   {
    "duration": 31,
    "start_time": "2022-09-14T14:29:01.991Z"
   },
   {
    "duration": 54,
    "start_time": "2022-09-14T14:29:02.023Z"
   },
   {
    "duration": 25,
    "start_time": "2022-09-14T14:29:02.079Z"
   },
   {
    "duration": 25,
    "start_time": "2022-09-14T14:29:02.106Z"
   },
   {
    "duration": 15,
    "start_time": "2022-09-14T14:29:02.133Z"
   },
   {
    "duration": 23,
    "start_time": "2022-09-14T14:29:02.150Z"
   },
   {
    "duration": 37,
    "start_time": "2022-09-14T14:29:02.175Z"
   },
   {
    "duration": 42,
    "start_time": "2022-09-14T14:29:02.213Z"
   },
   {
    "duration": 21,
    "start_time": "2022-09-14T14:29:02.257Z"
   },
   {
    "duration": 29,
    "start_time": "2022-09-14T14:29:02.280Z"
   },
   {
    "duration": 8291,
    "start_time": "2022-09-14T14:29:02.311Z"
   },
   {
    "duration": 9,
    "start_time": "2022-09-14T14:29:10.604Z"
   },
   {
    "duration": 6,
    "start_time": "2022-09-14T14:29:10.614Z"
   },
   {
    "duration": 12,
    "start_time": "2022-09-14T14:29:10.622Z"
   },
   {
    "duration": 61,
    "start_time": "2022-09-14T14:29:10.636Z"
   },
   {
    "duration": 4,
    "start_time": "2022-09-14T14:29:10.698Z"
   },
   {
    "duration": 27,
    "start_time": "2022-09-14T14:29:10.704Z"
   },
   {
    "duration": 6,
    "start_time": "2022-09-14T14:29:10.733Z"
   },
   {
    "duration": 7,
    "start_time": "2022-09-14T14:29:10.740Z"
   },
   {
    "duration": 4,
    "start_time": "2022-09-14T14:32:14.095Z"
   },
   {
    "duration": 4,
    "start_time": "2022-09-14T14:32:28.390Z"
   },
   {
    "duration": 5,
    "start_time": "2022-09-14T14:32:46.442Z"
   },
   {
    "duration": 3,
    "start_time": "2022-09-14T14:32:58.709Z"
   },
   {
    "duration": 4,
    "start_time": "2022-09-14T14:32:59.245Z"
   },
   {
    "duration": 2145,
    "start_time": "2022-09-14T14:33:00.247Z"
   },
   {
    "duration": 2185,
    "start_time": "2022-09-14T14:33:05.869Z"
   },
   {
    "duration": 2111,
    "start_time": "2022-09-14T14:34:09.641Z"
   },
   {
    "duration": 2202,
    "start_time": "2022-09-14T14:34:53.828Z"
   },
   {
    "duration": 4,
    "start_time": "2022-09-14T14:42:46.232Z"
   },
   {
    "duration": 2184,
    "start_time": "2022-09-14T14:43:10.586Z"
   },
   {
    "duration": 29,
    "start_time": "2022-09-14T14:43:12.772Z"
   },
   {
    "duration": 22,
    "start_time": "2022-09-14T14:43:12.803Z"
   },
   {
    "duration": 26,
    "start_time": "2022-09-14T14:43:12.827Z"
   },
   {
    "duration": 14,
    "start_time": "2022-09-14T14:43:12.857Z"
   },
   {
    "duration": 35,
    "start_time": "2022-09-14T14:43:12.899Z"
   },
   {
    "duration": 5,
    "start_time": "2022-09-14T14:43:12.936Z"
   },
   {
    "duration": 5,
    "start_time": "2022-09-14T14:43:12.943Z"
   },
   {
    "duration": 7,
    "start_time": "2022-09-14T14:43:12.949Z"
   },
   {
    "duration": 7,
    "start_time": "2022-09-14T14:43:12.958Z"
   },
   {
    "duration": 31,
    "start_time": "2022-09-14T14:43:12.967Z"
   },
   {
    "duration": 14,
    "start_time": "2022-09-14T14:43:13.000Z"
   },
   {
    "duration": 19,
    "start_time": "2022-09-14T14:43:13.015Z"
   },
   {
    "duration": 7,
    "start_time": "2022-09-14T14:43:13.038Z"
   },
   {
    "duration": 172,
    "start_time": "2022-09-14T14:43:13.047Z"
   },
   {
    "duration": 171,
    "start_time": "2022-09-14T14:43:13.221Z"
   },
   {
    "duration": 179,
    "start_time": "2022-09-14T14:43:13.395Z"
   },
   {
    "duration": 179,
    "start_time": "2022-09-14T14:43:13.576Z"
   },
   {
    "duration": 4,
    "start_time": "2022-09-14T14:43:13.757Z"
   },
   {
    "duration": 10,
    "start_time": "2022-09-14T14:43:13.763Z"
   },
   {
    "duration": 9,
    "start_time": "2022-09-14T14:43:13.775Z"
   },
   {
    "duration": 15,
    "start_time": "2022-09-14T14:43:13.786Z"
   },
   {
    "duration": 19,
    "start_time": "2022-09-14T14:43:13.803Z"
   },
   {
    "duration": 15,
    "start_time": "2022-09-14T14:43:13.824Z"
   },
   {
    "duration": 608,
    "start_time": "2022-09-14T14:43:13.841Z"
   },
   {
    "duration": 157,
    "start_time": "2022-09-14T14:43:14.451Z"
   },
   {
    "duration": 15,
    "start_time": "2022-09-14T14:43:14.611Z"
   },
   {
    "duration": 17,
    "start_time": "2022-09-14T14:43:14.628Z"
   },
   {
    "duration": 7,
    "start_time": "2022-09-14T14:43:14.647Z"
   },
   {
    "duration": 14,
    "start_time": "2022-09-14T14:43:14.656Z"
   },
   {
    "duration": 25,
    "start_time": "2022-09-14T14:43:14.673Z"
   },
   {
    "duration": 18,
    "start_time": "2022-09-14T14:43:14.701Z"
   },
   {
    "duration": 7,
    "start_time": "2022-09-14T14:43:14.721Z"
   },
   {
    "duration": 9,
    "start_time": "2022-09-14T14:43:14.729Z"
   },
   {
    "duration": 25,
    "start_time": "2022-09-14T14:43:14.739Z"
   },
   {
    "duration": 40,
    "start_time": "2022-09-14T14:43:14.766Z"
   },
   {
    "duration": 27,
    "start_time": "2022-09-14T14:43:14.809Z"
   },
   {
    "duration": 14,
    "start_time": "2022-09-14T14:43:14.838Z"
   },
   {
    "duration": 12,
    "start_time": "2022-09-14T14:43:14.853Z"
   },
   {
    "duration": 11,
    "start_time": "2022-09-14T14:43:14.867Z"
   },
   {
    "duration": 16,
    "start_time": "2022-09-14T14:43:14.882Z"
   },
   {
    "duration": 8,
    "start_time": "2022-09-14T14:43:14.900Z"
   },
   {
    "duration": 26,
    "start_time": "2022-09-14T14:43:14.910Z"
   },
   {
    "duration": 22,
    "start_time": "2022-09-14T14:43:14.938Z"
   },
   {
    "duration": 33,
    "start_time": "2022-09-14T14:43:14.962Z"
   },
   {
    "duration": 12,
    "start_time": "2022-09-14T14:43:14.998Z"
   },
   {
    "duration": 10189,
    "start_time": "2022-09-14T14:43:15.012Z"
   },
   {
    "duration": 11,
    "start_time": "2022-09-14T14:43:25.203Z"
   },
   {
    "duration": 6,
    "start_time": "2022-09-14T14:43:25.216Z"
   },
   {
    "duration": 9,
    "start_time": "2022-09-14T14:43:25.223Z"
   },
   {
    "duration": 4,
    "start_time": "2022-09-14T14:43:25.233Z"
   },
   {
    "duration": 61,
    "start_time": "2022-09-14T14:43:25.238Z"
   },
   {
    "duration": 14,
    "start_time": "2022-09-14T14:43:25.301Z"
   },
   {
    "duration": 5,
    "start_time": "2022-09-14T14:43:25.317Z"
   },
   {
    "duration": 6,
    "start_time": "2022-09-14T14:43:25.324Z"
   },
   {
    "duration": 2152,
    "start_time": "2022-09-14T14:43:25.331Z"
   },
   {
    "duration": 2350,
    "start_time": "2022-09-14T14:43:51.819Z"
   },
   {
    "duration": 9,
    "start_time": "2022-09-14T14:45:07.956Z"
   },
   {
    "duration": 7927,
    "start_time": "2022-09-14T14:45:09.069Z"
   },
   {
    "duration": 13,
    "start_time": "2022-09-14T14:45:16.999Z"
   },
   {
    "duration": 14,
    "start_time": "2022-09-14T14:45:32.811Z"
   },
   {
    "duration": 8639,
    "start_time": "2022-09-14T14:45:33.965Z"
   },
   {
    "duration": 13,
    "start_time": "2022-09-14T14:45:42.607Z"
   },
   {
    "duration": 7,
    "start_time": "2022-09-14T14:46:03.030Z"
   },
   {
    "duration": 7902,
    "start_time": "2022-09-14T14:46:03.798Z"
   },
   {
    "duration": 13,
    "start_time": "2022-09-14T14:46:11.702Z"
   },
   {
    "duration": 9,
    "start_time": "2022-09-14T14:46:46.404Z"
   },
   {
    "duration": 6487,
    "start_time": "2022-09-14T14:46:47.517Z"
   },
   {
    "duration": 10,
    "start_time": "2022-09-14T14:46:54.006Z"
   },
   {
    "duration": 9,
    "start_time": "2022-09-14T14:47:35.782Z"
   },
   {
    "duration": 234,
    "start_time": "2022-09-14T14:47:36.819Z"
   },
   {
    "duration": 9,
    "start_time": "2022-09-14T14:47:46.021Z"
   },
   {
    "duration": 7161,
    "start_time": "2022-09-14T14:47:46.734Z"
   },
   {
    "duration": 11,
    "start_time": "2022-09-14T14:47:53.898Z"
   },
   {
    "duration": 9,
    "start_time": "2022-09-14T14:48:04.669Z"
   },
   {
    "duration": 7093,
    "start_time": "2022-09-14T14:48:05.711Z"
   },
   {
    "duration": 15,
    "start_time": "2022-09-14T14:48:12.806Z"
   },
   {
    "duration": 9,
    "start_time": "2022-09-14T14:48:30.516Z"
   },
   {
    "duration": 3645,
    "start_time": "2022-09-14T14:48:31.066Z"
   },
   {
    "duration": 10,
    "start_time": "2022-09-14T14:48:34.713Z"
   },
   {
    "duration": 7443,
    "start_time": "2022-09-14T14:48:42.164Z"
   },
   {
    "duration": 10,
    "start_time": "2022-09-14T14:48:49.609Z"
   },
   {
    "duration": 22804,
    "start_time": "2022-09-14T14:48:59.006Z"
   },
   {
    "duration": 105,
    "start_time": "2022-09-14T14:49:21.816Z"
   },
   {
    "duration": 35545,
    "start_time": "2022-09-14T14:49:31.751Z"
   },
   {
    "duration": 31,
    "start_time": "2022-09-14T14:50:07.298Z"
   },
   {
    "duration": 28006,
    "start_time": "2022-09-14T14:50:37.397Z"
   },
   {
    "duration": 27,
    "start_time": "2022-09-14T14:51:05.406Z"
   },
   {
    "duration": 2335,
    "start_time": "2022-09-14T14:51:13.575Z"
   },
   {
    "duration": 7,
    "start_time": "2022-09-14T14:51:15.913Z"
   },
   {
    "duration": 199,
    "start_time": "2022-09-14T14:51:23.601Z"
   },
   {
    "duration": 5,
    "start_time": "2022-09-14T14:51:24.048Z"
   },
   {
    "duration": 2056,
    "start_time": "2022-09-14T14:51:36.212Z"
   },
   {
    "duration": 27,
    "start_time": "2022-09-14T14:51:38.270Z"
   },
   {
    "duration": 19,
    "start_time": "2022-09-14T14:51:38.298Z"
   },
   {
    "duration": 17,
    "start_time": "2022-09-14T14:51:38.320Z"
   },
   {
    "duration": 12,
    "start_time": "2022-09-14T14:51:38.338Z"
   },
   {
    "duration": 52,
    "start_time": "2022-09-14T14:51:38.352Z"
   },
   {
    "duration": 5,
    "start_time": "2022-09-14T14:51:38.406Z"
   },
   {
    "duration": 7,
    "start_time": "2022-09-14T14:51:38.413Z"
   },
   {
    "duration": 7,
    "start_time": "2022-09-14T14:51:38.422Z"
   },
   {
    "duration": 10,
    "start_time": "2022-09-14T14:51:38.431Z"
   },
   {
    "duration": 8,
    "start_time": "2022-09-14T14:51:38.443Z"
   },
   {
    "duration": 6,
    "start_time": "2022-09-14T14:51:38.453Z"
   },
   {
    "duration": 35,
    "start_time": "2022-09-14T14:51:38.460Z"
   },
   {
    "duration": 6,
    "start_time": "2022-09-14T14:51:38.497Z"
   },
   {
    "duration": 166,
    "start_time": "2022-09-14T14:51:38.505Z"
   },
   {
    "duration": 184,
    "start_time": "2022-09-14T14:51:38.673Z"
   },
   {
    "duration": 171,
    "start_time": "2022-09-14T14:51:38.859Z"
   },
   {
    "duration": 166,
    "start_time": "2022-09-14T14:51:39.032Z"
   },
   {
    "duration": 3,
    "start_time": "2022-09-14T14:51:39.200Z"
   },
   {
    "duration": 24,
    "start_time": "2022-09-14T14:51:39.205Z"
   },
   {
    "duration": 13,
    "start_time": "2022-09-14T14:51:39.230Z"
   },
   {
    "duration": 11,
    "start_time": "2022-09-14T14:51:39.245Z"
   },
   {
    "duration": 14,
    "start_time": "2022-09-14T14:51:39.258Z"
   },
   {
    "duration": 13,
    "start_time": "2022-09-14T14:51:39.274Z"
   },
   {
    "duration": 544,
    "start_time": "2022-09-14T14:51:39.288Z"
   },
   {
    "duration": 136,
    "start_time": "2022-09-14T14:51:39.834Z"
   },
   {
    "duration": 11,
    "start_time": "2022-09-14T14:51:39.972Z"
   },
   {
    "duration": 21,
    "start_time": "2022-09-14T14:51:40.000Z"
   },
   {
    "duration": 6,
    "start_time": "2022-09-14T14:51:40.022Z"
   },
   {
    "duration": 5,
    "start_time": "2022-09-14T14:51:40.030Z"
   },
   {
    "duration": 8,
    "start_time": "2022-09-14T14:51:40.037Z"
   },
   {
    "duration": 7,
    "start_time": "2022-09-14T14:51:40.047Z"
   },
   {
    "duration": 9,
    "start_time": "2022-09-14T14:51:40.056Z"
   },
   {
    "duration": 30,
    "start_time": "2022-09-14T14:51:40.067Z"
   },
   {
    "duration": 26,
    "start_time": "2022-09-14T14:51:40.100Z"
   },
   {
    "duration": 23,
    "start_time": "2022-09-14T14:51:40.128Z"
   },
   {
    "duration": 17,
    "start_time": "2022-09-14T14:51:40.153Z"
   },
   {
    "duration": 32,
    "start_time": "2022-09-14T14:51:40.172Z"
   },
   {
    "duration": 19,
    "start_time": "2022-09-14T14:51:40.206Z"
   },
   {
    "duration": 12,
    "start_time": "2022-09-14T14:51:40.227Z"
   },
   {
    "duration": 6,
    "start_time": "2022-09-14T14:51:40.241Z"
   },
   {
    "duration": 8,
    "start_time": "2022-09-14T14:51:40.248Z"
   },
   {
    "duration": 44,
    "start_time": "2022-09-14T14:51:40.258Z"
   },
   {
    "duration": 31,
    "start_time": "2022-09-14T14:51:40.305Z"
   },
   {
    "duration": 4,
    "start_time": "2022-09-14T14:51:40.338Z"
   },
   {
    "duration": 10,
    "start_time": "2022-09-14T14:51:40.344Z"
   },
   {
    "duration": 242,
    "start_time": "2022-09-14T14:51:40.356Z"
   },
   {
    "duration": 4,
    "start_time": "2022-09-14T14:51:40.600Z"
   },
   {
    "duration": 18,
    "start_time": "2022-09-14T14:51:40.605Z"
   },
   {
    "duration": 12,
    "start_time": "2022-09-14T14:51:40.625Z"
   },
   {
    "duration": 13,
    "start_time": "2022-09-14T14:51:40.639Z"
   },
   {
    "duration": 23,
    "start_time": "2022-09-14T14:51:40.654Z"
   },
   {
    "duration": 11,
    "start_time": "2022-09-14T14:51:40.679Z"
   },
   {
    "duration": 13,
    "start_time": "2022-09-14T14:51:40.692Z"
   },
   {
    "duration": 22004,
    "start_time": "2022-09-14T14:52:26.199Z"
   },
   {
    "duration": 21,
    "start_time": "2022-09-14T14:52:48.205Z"
   },
   {
    "duration": 14,
    "start_time": "2022-09-14T14:52:48.227Z"
   },
   {
    "duration": 28534,
    "start_time": "2022-09-14T14:53:07.477Z"
   },
   {
    "duration": 82,
    "start_time": "2022-09-14T14:53:36.014Z"
   },
   {
    "duration": 37069,
    "start_time": "2022-09-14T14:53:45.944Z"
   },
   {
    "duration": 95,
    "start_time": "2022-09-14T14:54:23.016Z"
   },
   {
    "duration": 85,
    "start_time": "2022-09-14T14:55:05.928Z"
   },
   {
    "duration": 8,
    "start_time": "2022-09-14T14:56:51.756Z"
   },
   {
    "duration": 31382,
    "start_time": "2022-09-14T14:56:54.127Z"
   },
   {
    "duration": 33,
    "start_time": "2022-09-14T14:57:25.512Z"
   },
   {
    "duration": 8,
    "start_time": "2022-09-14T14:57:39.267Z"
   },
   {
    "duration": 32075,
    "start_time": "2022-09-14T14:57:40.420Z"
   },
   {
    "duration": 36,
    "start_time": "2022-09-14T14:58:12.498Z"
   },
   {
    "duration": 2047,
    "start_time": "2022-09-14T14:58:24.539Z"
   },
   {
    "duration": 37,
    "start_time": "2022-09-14T14:58:26.589Z"
   },
   {
    "duration": 19,
    "start_time": "2022-09-14T14:58:26.628Z"
   },
   {
    "duration": 20,
    "start_time": "2022-09-14T14:58:26.649Z"
   },
   {
    "duration": 13,
    "start_time": "2022-09-14T14:58:26.672Z"
   },
   {
    "duration": 42,
    "start_time": "2022-09-14T14:58:26.694Z"
   },
   {
    "duration": 16,
    "start_time": "2022-09-14T14:58:26.738Z"
   },
   {
    "duration": 11,
    "start_time": "2022-09-14T14:58:26.756Z"
   },
   {
    "duration": 9,
    "start_time": "2022-09-14T14:58:26.769Z"
   },
   {
    "duration": 14,
    "start_time": "2022-09-14T14:58:26.780Z"
   },
   {
    "duration": 39,
    "start_time": "2022-09-14T14:58:26.796Z"
   },
   {
    "duration": 7,
    "start_time": "2022-09-14T14:58:26.837Z"
   },
   {
    "duration": 9,
    "start_time": "2022-09-14T14:58:26.846Z"
   },
   {
    "duration": 6,
    "start_time": "2022-09-14T14:58:26.859Z"
   },
   {
    "duration": 186,
    "start_time": "2022-09-14T14:58:26.866Z"
   },
   {
    "duration": 200,
    "start_time": "2022-09-14T14:58:27.053Z"
   },
   {
    "duration": 149,
    "start_time": "2022-09-14T14:58:27.255Z"
   },
   {
    "duration": 165,
    "start_time": "2022-09-14T14:58:27.405Z"
   },
   {
    "duration": 4,
    "start_time": "2022-09-14T14:58:27.572Z"
   },
   {
    "duration": 19,
    "start_time": "2022-09-14T14:58:27.578Z"
   },
   {
    "duration": 9,
    "start_time": "2022-09-14T14:58:27.599Z"
   },
   {
    "duration": 7,
    "start_time": "2022-09-14T14:58:27.611Z"
   },
   {
    "duration": 13,
    "start_time": "2022-09-14T14:58:27.620Z"
   },
   {
    "duration": 13,
    "start_time": "2022-09-14T14:58:27.635Z"
   },
   {
    "duration": 596,
    "start_time": "2022-09-14T14:58:27.650Z"
   },
   {
    "duration": 153,
    "start_time": "2022-09-14T14:58:28.248Z"
   },
   {
    "duration": 19,
    "start_time": "2022-09-14T14:58:28.404Z"
   },
   {
    "duration": 13,
    "start_time": "2022-09-14T14:58:28.425Z"
   },
   {
    "duration": 9,
    "start_time": "2022-09-14T14:58:28.439Z"
   },
   {
    "duration": 6,
    "start_time": "2022-09-14T14:58:28.449Z"
   },
   {
    "duration": 5,
    "start_time": "2022-09-14T14:58:28.457Z"
   },
   {
    "duration": 5,
    "start_time": "2022-09-14T14:58:28.464Z"
   },
   {
    "duration": 30,
    "start_time": "2022-09-14T14:58:28.470Z"
   },
   {
    "duration": 14,
    "start_time": "2022-09-14T14:58:28.502Z"
   },
   {
    "duration": 27,
    "start_time": "2022-09-14T14:58:28.519Z"
   },
   {
    "duration": 24,
    "start_time": "2022-09-14T14:58:28.548Z"
   },
   {
    "duration": 17,
    "start_time": "2022-09-14T14:58:28.594Z"
   },
   {
    "duration": 21,
    "start_time": "2022-09-14T14:58:28.613Z"
   },
   {
    "duration": 14,
    "start_time": "2022-09-14T14:58:28.635Z"
   },
   {
    "duration": 11,
    "start_time": "2022-09-14T14:58:28.651Z"
   },
   {
    "duration": 12,
    "start_time": "2022-09-14T14:58:28.666Z"
   },
   {
    "duration": 7,
    "start_time": "2022-09-14T14:58:28.700Z"
   },
   {
    "duration": 32,
    "start_time": "2022-09-14T14:58:28.709Z"
   },
   {
    "duration": 23,
    "start_time": "2022-09-14T14:58:28.742Z"
   },
   {
    "duration": 7,
    "start_time": "2022-09-14T14:58:28.767Z"
   },
   {
    "duration": 19,
    "start_time": "2022-09-14T14:58:28.776Z"
   },
   {
    "duration": 32918,
    "start_time": "2022-09-14T14:58:28.797Z"
   },
   {
    "duration": 113,
    "start_time": "2022-09-14T14:59:01.718Z"
   },
   {
    "duration": 20,
    "start_time": "2022-09-14T14:59:01.833Z"
   },
   {
    "duration": 4,
    "start_time": "2022-09-14T14:59:01.854Z"
   },
   {
    "duration": 15,
    "start_time": "2022-09-14T14:59:01.860Z"
   },
   {
    "duration": 29,
    "start_time": "2022-09-14T14:59:01.876Z"
   },
   {
    "duration": 17,
    "start_time": "2022-09-14T14:59:01.907Z"
   },
   {
    "duration": 10,
    "start_time": "2022-09-14T14:59:01.926Z"
   },
   {
    "duration": 9,
    "start_time": "2022-09-14T15:02:03.199Z"
   },
   {
    "duration": 38908,
    "start_time": "2022-09-14T15:02:03.791Z"
   },
   {
    "duration": 40,
    "start_time": "2022-09-14T15:02:42.701Z"
   },
   {
    "duration": 23,
    "start_time": "2022-09-14T15:02:42.743Z"
   },
   {
    "duration": 8,
    "start_time": "2022-09-14T15:02:58.219Z"
   },
   {
    "duration": 30023,
    "start_time": "2022-09-14T15:02:58.772Z"
   },
   {
    "duration": 38,
    "start_time": "2022-09-14T15:03:28.798Z"
   },
   {
    "duration": 21,
    "start_time": "2022-09-14T15:03:28.838Z"
   },
   {
    "duration": 8,
    "start_time": "2022-09-14T15:03:46.837Z"
   },
   {
    "duration": 50650,
    "start_time": "2022-09-14T15:03:47.261Z"
   },
   {
    "duration": 103,
    "start_time": "2022-09-14T15:04:37.914Z"
   },
   {
    "duration": 25,
    "start_time": "2022-09-14T15:04:38.019Z"
   },
   {
    "duration": 46365,
    "start_time": "2022-09-14T15:04:53.551Z"
   },
   {
    "duration": 34,
    "start_time": "2022-09-14T15:05:39.994Z"
   },
   {
    "duration": 20,
    "start_time": "2022-09-14T15:05:40.029Z"
   },
   {
    "duration": 8,
    "start_time": "2022-09-14T15:05:56.210Z"
   },
   {
    "duration": 55649,
    "start_time": "2022-09-14T15:05:57.268Z"
   },
   {
    "duration": 32,
    "start_time": "2022-09-14T15:06:52.996Z"
   },
   {
    "duration": 20,
    "start_time": "2022-09-14T15:06:53.030Z"
   },
   {
    "duration": 7,
    "start_time": "2022-09-14T15:07:43.035Z"
   },
   {
    "duration": 32111,
    "start_time": "2022-09-14T15:07:43.691Z"
   },
   {
    "duration": 20,
    "start_time": "2022-09-14T15:08:15.804Z"
   },
   {
    "duration": 13,
    "start_time": "2022-09-14T15:08:15.826Z"
   },
   {
    "duration": 5,
    "start_time": "2022-09-14T15:08:15.841Z"
   },
   {
    "duration": 8,
    "start_time": "2022-09-14T15:09:54.141Z"
   },
   {
    "duration": 74954,
    "start_time": "2022-09-14T15:09:54.751Z"
   },
   {
    "duration": 30,
    "start_time": "2022-09-14T15:11:09.707Z"
   },
   {
    "duration": 70,
    "start_time": "2022-09-14T15:11:09.739Z"
   },
   {
    "duration": 8,
    "start_time": "2022-09-14T15:11:22.652Z"
   },
   {
    "duration": 84883,
    "start_time": "2022-09-14T15:11:23.625Z"
   },
   {
    "duration": 93,
    "start_time": "2022-09-14T15:12:48.511Z"
   },
   {
    "duration": 20,
    "start_time": "2022-09-14T15:12:48.605Z"
   },
   {
    "duration": 6,
    "start_time": "2022-09-14T15:16:07.777Z"
   },
   {
    "duration": 3,
    "start_time": "2022-09-14T15:16:08.404Z"
   },
   {
    "duration": 13,
    "start_time": "2022-09-14T15:16:09.155Z"
   },
   {
    "duration": 4,
    "start_time": "2022-09-14T15:16:13.493Z"
   },
   {
    "duration": 4,
    "start_time": "2022-09-14T15:16:14.052Z"
   },
   {
    "duration": 2210,
    "start_time": "2022-09-14T15:16:14.807Z"
   },
   {
    "duration": 2398,
    "start_time": "2022-09-14T15:16:19.782Z"
   },
   {
    "duration": 9,
    "start_time": "2022-09-14T15:19:43.035Z"
   },
   {
    "duration": 3,
    "start_time": "2022-09-14T15:19:48.962Z"
   },
   {
    "duration": 3,
    "start_time": "2022-09-14T15:19:56.336Z"
   },
   {
    "duration": 4,
    "start_time": "2022-09-14T15:19:56.856Z"
   },
   {
    "duration": 167947,
    "start_time": "2022-09-14T15:27:02.705Z"
   },
   {
    "duration": 0,
    "start_time": "2022-09-14T15:29:50.654Z"
   },
   {
    "duration": 0,
    "start_time": "2022-09-14T15:29:50.655Z"
   },
   {
    "duration": 11,
    "start_time": "2022-09-14T15:29:56.767Z"
   },
   {
    "duration": 3,
    "start_time": "2022-09-14T15:29:57.421Z"
   },
   {
    "duration": 3,
    "start_time": "2022-09-14T15:29:57.984Z"
   },
   {
    "duration": 43959,
    "start_time": "2022-09-14T15:29:58.948Z"
   },
   {
    "duration": 10,
    "start_time": "2022-09-14T15:30:42.910Z"
   },
   {
    "duration": 13,
    "start_time": "2022-09-14T15:30:42.922Z"
   },
   {
    "duration": 0,
    "start_time": "2022-09-14T15:30:42.937Z"
   },
   {
    "duration": 21,
    "start_time": "2022-09-14T15:36:05.001Z"
   },
   {
    "duration": 51,
    "start_time": "2022-09-14T15:36:24.180Z"
   },
   {
    "duration": 10,
    "start_time": "2022-09-14T15:41:20.439Z"
   },
   {
    "duration": 152027,
    "start_time": "2022-09-14T15:41:21.368Z"
   },
   {
    "duration": 38,
    "start_time": "2022-09-14T15:43:53.398Z"
   },
   {
    "duration": 628,
    "start_time": "2022-09-14T15:45:26.591Z"
   },
   {
    "duration": 2349,
    "start_time": "2022-09-14T15:45:38.812Z"
   },
   {
    "duration": 3037,
    "start_time": "2022-09-14T15:46:17.748Z"
   },
   {
    "duration": 2386,
    "start_time": "2022-09-14T15:47:35.376Z"
   },
   {
    "duration": 2284,
    "start_time": "2022-09-14T15:47:47.041Z"
   },
   {
    "duration": 8,
    "start_time": "2022-09-14T15:48:13.687Z"
   },
   {
    "duration": 120459,
    "start_time": "2022-09-14T15:48:14.150Z"
   },
   {
    "duration": 94,
    "start_time": "2022-09-14T15:50:14.612Z"
   },
   {
    "duration": 1992,
    "start_time": "2022-09-14T15:56:09.750Z"
   },
   {
    "duration": 30,
    "start_time": "2022-09-14T15:56:11.745Z"
   },
   {
    "duration": 23,
    "start_time": "2022-09-14T15:56:11.778Z"
   },
   {
    "duration": 21,
    "start_time": "2022-09-14T15:56:11.804Z"
   },
   {
    "duration": 17,
    "start_time": "2022-09-14T15:56:11.829Z"
   },
   {
    "duration": 52,
    "start_time": "2022-09-14T15:56:11.847Z"
   },
   {
    "duration": 7,
    "start_time": "2022-09-14T15:56:11.901Z"
   },
   {
    "duration": 9,
    "start_time": "2022-09-14T15:56:11.910Z"
   },
   {
    "duration": 9,
    "start_time": "2022-09-14T15:56:11.921Z"
   },
   {
    "duration": 10,
    "start_time": "2022-09-14T15:56:11.932Z"
   },
   {
    "duration": 8,
    "start_time": "2022-09-14T15:56:11.944Z"
   },
   {
    "duration": 7,
    "start_time": "2022-09-14T15:56:11.954Z"
   },
   {
    "duration": 39,
    "start_time": "2022-09-14T15:56:11.963Z"
   },
   {
    "duration": 6,
    "start_time": "2022-09-14T15:56:12.007Z"
   },
   {
    "duration": 167,
    "start_time": "2022-09-14T15:56:12.015Z"
   },
   {
    "duration": 172,
    "start_time": "2022-09-14T15:56:12.184Z"
   },
   {
    "duration": 166,
    "start_time": "2022-09-14T15:56:12.358Z"
   },
   {
    "duration": 165,
    "start_time": "2022-09-14T15:56:12.527Z"
   },
   {
    "duration": 4,
    "start_time": "2022-09-14T15:56:12.696Z"
   },
   {
    "duration": 9,
    "start_time": "2022-09-14T15:56:12.702Z"
   },
   {
    "duration": 6,
    "start_time": "2022-09-14T15:56:12.712Z"
   },
   {
    "duration": 11,
    "start_time": "2022-09-14T15:56:12.720Z"
   },
   {
    "duration": 22,
    "start_time": "2022-09-14T15:56:12.733Z"
   },
   {
    "duration": 15,
    "start_time": "2022-09-14T15:56:12.757Z"
   },
   {
    "duration": 555,
    "start_time": "2022-09-14T15:56:12.774Z"
   },
   {
    "duration": 150,
    "start_time": "2022-09-14T15:56:13.331Z"
   },
   {
    "duration": 23,
    "start_time": "2022-09-14T15:56:13.483Z"
   },
   {
    "duration": 19,
    "start_time": "2022-09-14T15:56:13.508Z"
   },
   {
    "duration": 9,
    "start_time": "2022-09-14T15:56:13.529Z"
   },
   {
    "duration": 7,
    "start_time": "2022-09-14T15:56:13.541Z"
   },
   {
    "duration": 6,
    "start_time": "2022-09-14T15:56:13.551Z"
   },
   {
    "duration": 38,
    "start_time": "2022-09-14T15:56:13.559Z"
   },
   {
    "duration": 7,
    "start_time": "2022-09-14T15:56:13.600Z"
   },
   {
    "duration": 13,
    "start_time": "2022-09-14T15:56:13.609Z"
   },
   {
    "duration": 38,
    "start_time": "2022-09-14T15:56:13.624Z"
   },
   {
    "duration": 48,
    "start_time": "2022-09-14T15:56:13.664Z"
   },
   {
    "duration": 18,
    "start_time": "2022-09-14T15:56:13.714Z"
   },
   {
    "duration": 13,
    "start_time": "2022-09-14T15:56:13.734Z"
   },
   {
    "duration": 17,
    "start_time": "2022-09-14T15:56:13.748Z"
   },
   {
    "duration": 30,
    "start_time": "2022-09-14T15:56:13.766Z"
   },
   {
    "duration": 7,
    "start_time": "2022-09-14T15:56:13.801Z"
   },
   {
    "duration": 8,
    "start_time": "2022-09-14T15:56:13.810Z"
   },
   {
    "duration": 28,
    "start_time": "2022-09-14T15:56:13.820Z"
   },
   {
    "duration": 60,
    "start_time": "2022-09-14T15:56:13.850Z"
   },
   {
    "duration": 9,
    "start_time": "2022-09-14T15:56:13.912Z"
   },
   {
    "duration": 8,
    "start_time": "2022-09-14T15:56:13.923Z"
   },
   {
    "duration": 41178,
    "start_time": "2022-09-14T15:56:13.934Z"
   },
   {
    "duration": 92,
    "start_time": "2022-09-14T15:56:55.114Z"
   },
   {
    "duration": 19,
    "start_time": "2022-09-14T15:56:55.208Z"
   },
   {
    "duration": 5,
    "start_time": "2022-09-14T15:56:55.229Z"
   },
   {
    "duration": 5,
    "start_time": "2022-09-14T15:56:55.236Z"
   },
   {
    "duration": 17,
    "start_time": "2022-09-14T15:56:55.243Z"
   },
   {
    "duration": 4,
    "start_time": "2022-09-14T15:56:55.294Z"
   },
   {
    "duration": 7,
    "start_time": "2022-09-14T15:56:55.300Z"
   },
   {
    "duration": 8,
    "start_time": "2022-09-14T15:58:43.443Z"
   },
   {
    "duration": 34493,
    "start_time": "2022-09-14T15:58:45.311Z"
   },
   {
    "duration": 95,
    "start_time": "2022-09-14T15:59:19.806Z"
   },
   {
    "duration": 8,
    "start_time": "2022-09-14T16:06:10.436Z"
   },
   {
    "duration": 40410,
    "start_time": "2022-09-14T16:06:11.493Z"
   },
   {
    "duration": 32,
    "start_time": "2022-09-14T16:06:51.906Z"
   },
   {
    "duration": 8,
    "start_time": "2022-09-14T16:08:07.739Z"
   },
   {
    "duration": 31154,
    "start_time": "2022-09-14T16:08:08.661Z"
   },
   {
    "duration": 95,
    "start_time": "2022-09-14T16:08:39.817Z"
   },
   {
    "duration": 8,
    "start_time": "2022-09-14T16:19:58.467Z"
   },
   {
    "duration": 34502,
    "start_time": "2022-09-14T16:19:59.093Z"
   },
   {
    "duration": 30,
    "start_time": "2022-09-14T16:20:33.597Z"
   },
   {
    "duration": 8,
    "start_time": "2022-09-14T16:21:25.401Z"
   },
   {
    "duration": 43837,
    "start_time": "2022-09-14T16:21:25.967Z"
   },
   {
    "duration": 33,
    "start_time": "2022-09-14T16:22:09.806Z"
   },
   {
    "duration": 9,
    "start_time": "2022-09-14T16:25:39.022Z"
   },
   {
    "duration": 70489,
    "start_time": "2022-09-14T16:25:39.626Z"
   },
   {
    "duration": 113,
    "start_time": "2022-09-14T16:26:50.117Z"
   },
   {
    "duration": 11,
    "start_time": "2022-09-14T16:37:48.037Z"
   },
   {
    "duration": 78002,
    "start_time": "2022-09-14T16:37:50.001Z"
   },
   {
    "duration": 36,
    "start_time": "2022-09-14T16:39:08.005Z"
   },
   {
    "duration": 9,
    "start_time": "2022-09-14T16:39:31.865Z"
   },
   {
    "duration": 41809,
    "start_time": "2022-09-14T16:39:32.811Z"
   },
   {
    "duration": 33,
    "start_time": "2022-09-14T16:40:14.696Z"
   },
   {
    "duration": 10,
    "start_time": "2022-09-14T16:42:56.404Z"
   },
   {
    "duration": 41496,
    "start_time": "2022-09-14T16:42:56.415Z"
   },
   {
    "duration": 108,
    "start_time": "2022-09-14T16:43:37.913Z"
   },
   {
    "duration": 24,
    "start_time": "2022-09-14T16:43:38.023Z"
   },
   {
    "duration": 9,
    "start_time": "2022-09-14T16:44:15.925Z"
   },
   {
    "duration": 38415,
    "start_time": "2022-09-14T16:44:17.296Z"
   },
   {
    "duration": 100,
    "start_time": "2022-09-14T16:44:55.713Z"
   },
   {
    "duration": 9,
    "start_time": "2022-09-14T16:45:04.582Z"
   },
   {
    "duration": 40728,
    "start_time": "2022-09-14T16:45:05.285Z"
   },
   {
    "duration": 102,
    "start_time": "2022-09-14T16:45:46.016Z"
   },
   {
    "duration": 19,
    "start_time": "2022-09-14T16:45:46.120Z"
   },
   {
    "duration": 10,
    "start_time": "2022-09-14T16:46:07.900Z"
   },
   {
    "duration": 115226,
    "start_time": "2022-09-14T16:46:09.175Z"
   },
   {
    "duration": 32,
    "start_time": "2022-09-14T16:48:04.404Z"
   },
   {
    "duration": 17,
    "start_time": "2022-09-14T16:48:23.791Z"
   },
   {
    "duration": 370,
    "start_time": "2022-09-14T16:48:24.583Z"
   },
   {
    "duration": 13,
    "start_time": "2022-09-14T16:48:38.192Z"
   },
   {
    "duration": 34,
    "start_time": "2022-09-14T16:48:39.138Z"
   },
   {
    "duration": 14,
    "start_time": "2022-09-14T16:48:45.490Z"
   },
   {
    "duration": 12,
    "start_time": "2022-09-14T16:50:49.435Z"
   },
   {
    "duration": 210,
    "start_time": "2022-09-14T16:50:49.450Z"
   },
   {
    "duration": 0,
    "start_time": "2022-09-14T16:50:49.661Z"
   },
   {
    "duration": 20,
    "start_time": "2022-09-14T17:04:53.476Z"
   },
   {
    "duration": 311393,
    "start_time": "2022-09-14T17:04:54.220Z"
   },
   {
    "duration": 100,
    "start_time": "2022-09-14T17:10:05.616Z"
   },
   {
    "duration": 20,
    "start_time": "2022-09-14T17:10:47.645Z"
   },
   {
    "duration": 4929,
    "start_time": "2022-09-14T17:19:22.136Z"
   },
   {
    "duration": 59,
    "start_time": "2022-09-14T17:19:27.067Z"
   },
   {
    "duration": 15,
    "start_time": "2022-09-14T17:19:27.128Z"
   },
   {
    "duration": 16,
    "start_time": "2022-09-14T17:19:27.146Z"
   },
   {
    "duration": 10,
    "start_time": "2022-09-14T17:19:27.164Z"
   },
   {
    "duration": 24,
    "start_time": "2022-09-14T17:19:27.176Z"
   },
   {
    "duration": 5,
    "start_time": "2022-09-14T17:19:27.201Z"
   },
   {
    "duration": 6,
    "start_time": "2022-09-14T17:19:27.208Z"
   },
   {
    "duration": 7,
    "start_time": "2022-09-14T17:19:27.215Z"
   },
   {
    "duration": 8,
    "start_time": "2022-09-14T17:19:27.226Z"
   },
   {
    "duration": 6,
    "start_time": "2022-09-14T17:19:27.236Z"
   },
   {
    "duration": 4,
    "start_time": "2022-09-14T17:19:27.244Z"
   },
   {
    "duration": 8,
    "start_time": "2022-09-14T17:19:27.250Z"
   },
   {
    "duration": 37,
    "start_time": "2022-09-14T17:19:27.259Z"
   },
   {
    "duration": 159,
    "start_time": "2022-09-14T17:19:27.298Z"
   },
   {
    "duration": 158,
    "start_time": "2022-09-14T17:19:27.459Z"
   },
   {
    "duration": 156,
    "start_time": "2022-09-14T17:19:27.619Z"
   },
   {
    "duration": 154,
    "start_time": "2022-09-14T17:19:27.776Z"
   },
   {
    "duration": 3,
    "start_time": "2022-09-14T17:19:27.932Z"
   },
   {
    "duration": 13,
    "start_time": "2022-09-14T17:19:27.936Z"
   },
   {
    "duration": 4,
    "start_time": "2022-09-14T17:19:27.951Z"
   },
   {
    "duration": 9,
    "start_time": "2022-09-14T17:19:27.957Z"
   },
   {
    "duration": 28,
    "start_time": "2022-09-14T17:19:27.968Z"
   },
   {
    "duration": 13,
    "start_time": "2022-09-14T17:19:27.998Z"
   },
   {
    "duration": 513,
    "start_time": "2022-09-14T17:19:28.014Z"
   },
   {
    "duration": 141,
    "start_time": "2022-09-14T17:19:28.529Z"
   },
   {
    "duration": 11,
    "start_time": "2022-09-14T17:19:28.672Z"
   },
   {
    "duration": 11,
    "start_time": "2022-09-14T17:19:28.698Z"
   },
   {
    "duration": 9,
    "start_time": "2022-09-14T17:19:28.711Z"
   },
   {
    "duration": 6,
    "start_time": "2022-09-14T17:19:28.721Z"
   },
   {
    "duration": 8,
    "start_time": "2022-09-14T17:19:28.728Z"
   },
   {
    "duration": 5,
    "start_time": "2022-09-14T17:19:28.737Z"
   },
   {
    "duration": 9,
    "start_time": "2022-09-14T17:19:28.743Z"
   },
   {
    "duration": 20,
    "start_time": "2022-09-14T17:19:28.753Z"
   },
   {
    "duration": 42,
    "start_time": "2022-09-14T17:19:28.774Z"
   },
   {
    "duration": 24,
    "start_time": "2022-09-14T17:19:28.819Z"
   },
   {
    "duration": 16,
    "start_time": "2022-09-14T17:19:28.845Z"
   },
   {
    "duration": 34,
    "start_time": "2022-09-14T17:19:28.863Z"
   },
   {
    "duration": 12,
    "start_time": "2022-09-14T17:19:28.899Z"
   },
   {
    "duration": 11,
    "start_time": "2022-09-14T17:19:28.913Z"
   },
   {
    "duration": 8,
    "start_time": "2022-09-14T17:19:28.926Z"
   },
   {
    "duration": 7,
    "start_time": "2022-09-14T17:19:28.936Z"
   },
   {
    "duration": 24,
    "start_time": "2022-09-14T17:19:28.945Z"
   },
   {
    "duration": 23,
    "start_time": "2022-09-14T17:19:28.995Z"
   },
   {
    "duration": 42,
    "start_time": "2022-09-14T17:19:29.020Z"
   },
   {
    "duration": 48,
    "start_time": "2022-09-14T17:19:29.064Z"
   },
   {
    "duration": 5196,
    "start_time": "2022-09-14T17:34:11.894Z"
   },
   {
    "duration": 62,
    "start_time": "2022-09-14T17:34:17.094Z"
   },
   {
    "duration": 15,
    "start_time": "2022-09-14T17:34:17.158Z"
   },
   {
    "duration": 16,
    "start_time": "2022-09-14T17:34:17.176Z"
   },
   {
    "duration": 13,
    "start_time": "2022-09-14T17:34:17.194Z"
   },
   {
    "duration": 27,
    "start_time": "2022-09-14T17:34:17.208Z"
   },
   {
    "duration": 6,
    "start_time": "2022-09-14T17:34:17.237Z"
   },
   {
    "duration": 5,
    "start_time": "2022-09-14T17:34:17.244Z"
   },
   {
    "duration": 10,
    "start_time": "2022-09-14T17:34:17.251Z"
   },
   {
    "duration": 33,
    "start_time": "2022-09-14T17:34:17.263Z"
   },
   {
    "duration": 10,
    "start_time": "2022-09-14T17:34:17.297Z"
   },
   {
    "duration": 7,
    "start_time": "2022-09-14T17:34:17.309Z"
   },
   {
    "duration": 12,
    "start_time": "2022-09-14T17:34:17.317Z"
   },
   {
    "duration": 13,
    "start_time": "2022-09-14T17:34:17.330Z"
   },
   {
    "duration": 171,
    "start_time": "2022-09-14T17:34:17.345Z"
   },
   {
    "duration": 173,
    "start_time": "2022-09-14T17:34:17.517Z"
   },
   {
    "duration": 164,
    "start_time": "2022-09-14T17:34:17.694Z"
   },
   {
    "duration": 166,
    "start_time": "2022-09-14T17:34:17.860Z"
   },
   {
    "duration": 4,
    "start_time": "2022-09-14T17:34:18.027Z"
   },
   {
    "duration": 22,
    "start_time": "2022-09-14T17:34:18.033Z"
   },
   {
    "duration": 5,
    "start_time": "2022-09-14T17:34:18.058Z"
   },
   {
    "duration": 10,
    "start_time": "2022-09-14T17:34:18.065Z"
   },
   {
    "duration": 25,
    "start_time": "2022-09-14T17:34:18.077Z"
   },
   {
    "duration": 20,
    "start_time": "2022-09-14T17:34:18.104Z"
   },
   {
    "duration": 537,
    "start_time": "2022-09-14T17:34:18.126Z"
   },
   {
    "duration": 146,
    "start_time": "2022-09-14T17:34:18.665Z"
   },
   {
    "duration": 14,
    "start_time": "2022-09-14T17:34:18.813Z"
   },
   {
    "duration": 15,
    "start_time": "2022-09-14T17:34:18.832Z"
   },
   {
    "duration": 20,
    "start_time": "2022-09-14T17:34:18.848Z"
   },
   {
    "duration": 29,
    "start_time": "2022-09-14T17:34:18.870Z"
   },
   {
    "duration": 9,
    "start_time": "2022-09-14T17:34:18.901Z"
   },
   {
    "duration": 6,
    "start_time": "2022-09-14T17:34:18.912Z"
   },
   {
    "duration": 5,
    "start_time": "2022-09-14T17:34:18.920Z"
   },
   {
    "duration": 11,
    "start_time": "2022-09-14T17:34:18.927Z"
   },
   {
    "duration": 24,
    "start_time": "2022-09-14T17:34:18.940Z"
   },
   {
    "duration": 48,
    "start_time": "2022-09-14T17:34:18.965Z"
   },
   {
    "duration": 17,
    "start_time": "2022-09-14T17:34:19.015Z"
   },
   {
    "duration": 17,
    "start_time": "2022-09-14T17:34:19.033Z"
   },
   {
    "duration": 15,
    "start_time": "2022-09-14T17:34:19.052Z"
   },
   {
    "duration": 34,
    "start_time": "2022-09-14T17:34:19.068Z"
   },
   {
    "duration": 8,
    "start_time": "2022-09-14T17:34:19.104Z"
   },
   {
    "duration": 12,
    "start_time": "2022-09-14T17:34:19.114Z"
   },
   {
    "duration": 40,
    "start_time": "2022-09-14T17:34:19.128Z"
   },
   {
    "duration": 41,
    "start_time": "2022-09-14T17:34:19.170Z"
   },
   {
    "duration": 51,
    "start_time": "2022-09-14T17:34:19.213Z"
   },
   {
    "duration": 47,
    "start_time": "2022-09-14T17:34:19.266Z"
   },
   {
    "duration": 283689,
    "start_time": "2022-09-14T17:34:19.315Z"
   },
   {
    "duration": 36,
    "start_time": "2022-09-14T17:39:03.006Z"
   },
   {
    "duration": 65,
    "start_time": "2022-09-14T17:39:03.044Z"
   },
   {
    "duration": 4,
    "start_time": "2022-09-14T17:39:03.111Z"
   },
   {
    "duration": 8,
    "start_time": "2022-09-14T17:39:03.117Z"
   },
   {
    "duration": 18,
    "start_time": "2022-09-14T17:39:03.126Z"
   },
   {
    "duration": 6,
    "start_time": "2022-09-14T17:39:03.146Z"
   },
   {
    "duration": 11,
    "start_time": "2022-09-14T17:39:03.154Z"
   },
   {
    "duration": 98,
    "start_time": "2022-09-14T17:39:03.166Z"
   },
   {
    "duration": 14,
    "start_time": "2022-09-14T17:39:27.644Z"
   },
   {
    "duration": 278287,
    "start_time": "2022-09-14T17:39:28.822Z"
   },
   {
    "duration": 88,
    "start_time": "2022-09-14T17:44:07.111Z"
   },
   {
    "duration": 21,
    "start_time": "2022-09-14T17:44:07.201Z"
   },
   {
    "duration": 5,
    "start_time": "2022-09-14T17:44:07.223Z"
   },
   {
    "duration": 14,
    "start_time": "2022-09-14T17:44:34.549Z"
   },
   {
    "duration": 235601,
    "start_time": "2022-09-14T17:44:35.206Z"
   },
   {
    "duration": 32,
    "start_time": "2022-09-14T17:48:30.809Z"
   },
   {
    "duration": 20,
    "start_time": "2022-09-14T17:48:30.895Z"
   },
   {
    "duration": 23,
    "start_time": "2022-09-14T17:51:11.677Z"
   },
   {
    "duration": 280839,
    "start_time": "2022-09-14T17:51:16.868Z"
   },
   {
    "duration": 32,
    "start_time": "2022-09-14T17:55:57.709Z"
   },
   {
    "duration": 74,
    "start_time": "2022-09-14T17:55:57.743Z"
   },
   {
    "duration": 144,
    "start_time": "2022-09-14T18:02:02.414Z"
   },
   {
    "duration": 13,
    "start_time": "2022-09-14T18:02:02.919Z"
   },
   {
    "duration": 14,
    "start_time": "2022-09-14T18:02:29.552Z"
   },
   {
    "duration": 11,
    "start_time": "2022-09-14T18:02:36.892Z"
   },
   {
    "duration": 11,
    "start_time": "2022-09-14T18:02:42.605Z"
   },
   {
    "duration": 2069,
    "start_time": "2022-09-15T06:18:29.066Z"
   },
   {
    "duration": 77,
    "start_time": "2022-09-15T06:18:31.137Z"
   },
   {
    "duration": 16,
    "start_time": "2022-09-15T06:18:31.215Z"
   },
   {
    "duration": 18,
    "start_time": "2022-09-15T06:18:31.233Z"
   },
   {
    "duration": 21,
    "start_time": "2022-09-15T06:18:31.253Z"
   },
   {
    "duration": 41,
    "start_time": "2022-09-15T06:18:31.275Z"
   },
   {
    "duration": 6,
    "start_time": "2022-09-15T06:18:31.318Z"
   },
   {
    "duration": 14,
    "start_time": "2022-09-15T06:18:31.326Z"
   },
   {
    "duration": 13,
    "start_time": "2022-09-15T06:18:31.341Z"
   },
   {
    "duration": 20,
    "start_time": "2022-09-15T06:18:31.357Z"
   },
   {
    "duration": 23,
    "start_time": "2022-09-15T06:18:31.379Z"
   },
   {
    "duration": 8,
    "start_time": "2022-09-15T06:18:31.403Z"
   },
   {
    "duration": 28,
    "start_time": "2022-09-15T06:18:31.413Z"
   },
   {
    "duration": 13,
    "start_time": "2022-09-15T06:18:31.443Z"
   },
   {
    "duration": 153,
    "start_time": "2022-09-15T06:18:31.457Z"
   },
   {
    "duration": 151,
    "start_time": "2022-09-15T06:18:31.612Z"
   },
   {
    "duration": 139,
    "start_time": "2022-09-15T06:18:31.765Z"
   },
   {
    "duration": 147,
    "start_time": "2022-09-15T06:18:31.905Z"
   },
   {
    "duration": 3,
    "start_time": "2022-09-15T06:18:32.053Z"
   },
   {
    "duration": 43,
    "start_time": "2022-09-15T06:18:32.057Z"
   },
   {
    "duration": 16,
    "start_time": "2022-09-15T06:18:32.101Z"
   },
   {
    "duration": 25,
    "start_time": "2022-09-15T06:18:32.119Z"
   },
   {
    "duration": 33,
    "start_time": "2022-09-15T06:18:32.145Z"
   },
   {
    "duration": 29,
    "start_time": "2022-09-15T06:18:32.179Z"
   },
   {
    "duration": 578,
    "start_time": "2022-09-15T06:18:32.210Z"
   },
   {
    "duration": 135,
    "start_time": "2022-09-15T06:18:32.790Z"
   },
   {
    "duration": 10,
    "start_time": "2022-09-15T06:18:32.927Z"
   },
   {
    "duration": 11,
    "start_time": "2022-09-15T06:18:32.949Z"
   },
   {
    "duration": 8,
    "start_time": "2022-09-15T06:18:32.961Z"
   },
   {
    "duration": 9,
    "start_time": "2022-09-15T06:18:32.971Z"
   },
   {
    "duration": 10,
    "start_time": "2022-09-15T06:18:32.981Z"
   },
   {
    "duration": 7,
    "start_time": "2022-09-15T06:18:32.993Z"
   },
   {
    "duration": 10,
    "start_time": "2022-09-15T06:18:33.001Z"
   },
   {
    "duration": 9,
    "start_time": "2022-09-15T06:18:33.012Z"
   },
   {
    "duration": 41,
    "start_time": "2022-09-15T06:18:33.023Z"
   },
   {
    "duration": 33,
    "start_time": "2022-09-15T06:18:33.066Z"
   },
   {
    "duration": 15,
    "start_time": "2022-09-15T06:18:33.101Z"
   },
   {
    "duration": 9,
    "start_time": "2022-09-15T06:18:33.117Z"
   },
   {
    "duration": 27,
    "start_time": "2022-09-15T06:18:33.127Z"
   },
   {
    "duration": 25,
    "start_time": "2022-09-15T06:18:33.155Z"
   },
   {
    "duration": 15,
    "start_time": "2022-09-15T06:18:33.182Z"
   },
   {
    "duration": 12,
    "start_time": "2022-09-15T06:18:33.198Z"
   },
   {
    "duration": 25,
    "start_time": "2022-09-15T06:18:33.211Z"
   },
   {
    "duration": 26,
    "start_time": "2022-09-15T06:18:33.238Z"
   },
   {
    "duration": 18,
    "start_time": "2022-09-15T06:18:33.266Z"
   },
   {
    "duration": 13,
    "start_time": "2022-09-15T06:18:33.286Z"
   },
   {
    "duration": 231260,
    "start_time": "2022-09-15T06:18:33.301Z"
   },
   {
    "duration": 91,
    "start_time": "2022-09-15T06:22:24.563Z"
   },
   {
    "duration": 22,
    "start_time": "2022-09-15T06:22:24.656Z"
   },
   {
    "duration": 6,
    "start_time": "2022-09-15T06:22:24.680Z"
   },
   {
    "duration": 9,
    "start_time": "2022-09-15T06:22:24.688Z"
   },
   {
    "duration": 3,
    "start_time": "2022-09-15T06:23:01.437Z"
   },
   {
    "duration": 11,
    "start_time": "2022-09-15T06:23:01.479Z"
   },
   {
    "duration": 4,
    "start_time": "2022-09-15T06:23:02.913Z"
   },
   {
    "duration": 4,
    "start_time": "2022-09-15T06:23:08.832Z"
   },
   {
    "duration": 192,
    "start_time": "2022-09-15T06:23:10.402Z"
   },
   {
    "duration": 1793,
    "start_time": "2022-09-15T06:23:27.549Z"
   },
   {
    "duration": 1973,
    "start_time": "2022-09-15T06:23:32.357Z"
   },
   {
    "duration": 132,
    "start_time": "2022-09-15T06:25:04.355Z"
   },
   {
    "duration": 10,
    "start_time": "2022-09-15T06:26:00.280Z"
   },
   {
    "duration": 5,
    "start_time": "2022-09-15T06:26:05.391Z"
   },
   {
    "duration": 12,
    "start_time": "2022-09-15T06:26:09.437Z"
   },
   {
    "duration": 3,
    "start_time": "2022-09-15T06:26:16.218Z"
   },
   {
    "duration": 4,
    "start_time": "2022-09-15T06:26:16.294Z"
   },
   {
    "duration": 2132,
    "start_time": "2022-09-15T06:26:16.598Z"
   },
   {
    "duration": 4,
    "start_time": "2022-09-15T06:26:39.158Z"
   },
   {
    "duration": 7,
    "start_time": "2022-09-15T06:26:39.798Z"
   },
   {
    "duration": 3,
    "start_time": "2022-09-15T06:26:43.373Z"
   },
   {
    "duration": 3,
    "start_time": "2022-09-15T06:26:43.926Z"
   },
   {
    "duration": 1989,
    "start_time": "2022-09-15T06:26:44.640Z"
   },
   {
    "duration": 7,
    "start_time": "2022-09-15T06:26:59.026Z"
   },
   {
    "duration": 5,
    "start_time": "2022-09-15T06:27:00.026Z"
   },
   {
    "duration": 4,
    "start_time": "2022-09-15T06:27:02.752Z"
   },
   {
    "duration": 2064,
    "start_time": "2022-09-15T06:27:03.475Z"
   },
   {
    "duration": 1936,
    "start_time": "2022-09-15T06:28:02.511Z"
   },
   {
    "duration": 40,
    "start_time": "2022-09-15T06:28:04.450Z"
   },
   {
    "duration": 14,
    "start_time": "2022-09-15T06:28:04.491Z"
   },
   {
    "duration": 14,
    "start_time": "2022-09-15T06:28:04.508Z"
   },
   {
    "duration": 15,
    "start_time": "2022-09-15T06:28:04.524Z"
   },
   {
    "duration": 43,
    "start_time": "2022-09-15T06:28:04.541Z"
   },
   {
    "duration": 6,
    "start_time": "2022-09-15T06:28:04.585Z"
   },
   {
    "duration": 9,
    "start_time": "2022-09-15T06:28:04.592Z"
   },
   {
    "duration": 8,
    "start_time": "2022-09-15T06:28:04.603Z"
   },
   {
    "duration": 7,
    "start_time": "2022-09-15T06:28:04.614Z"
   },
   {
    "duration": 8,
    "start_time": "2022-09-15T06:28:04.622Z"
   },
   {
    "duration": 7,
    "start_time": "2022-09-15T06:28:04.631Z"
   },
   {
    "duration": 11,
    "start_time": "2022-09-15T06:28:04.640Z"
   },
   {
    "duration": 25,
    "start_time": "2022-09-15T06:28:04.652Z"
   },
   {
    "duration": 153,
    "start_time": "2022-09-15T06:28:04.679Z"
   },
   {
    "duration": 168,
    "start_time": "2022-09-15T06:28:04.834Z"
   },
   {
    "duration": 152,
    "start_time": "2022-09-15T06:28:05.003Z"
   },
   {
    "duration": 140,
    "start_time": "2022-09-15T06:28:05.157Z"
   },
   {
    "duration": 3,
    "start_time": "2022-09-15T06:28:05.298Z"
   },
   {
    "duration": 14,
    "start_time": "2022-09-15T06:28:05.302Z"
   },
   {
    "duration": 23,
    "start_time": "2022-09-15T06:28:05.317Z"
   },
   {
    "duration": 10,
    "start_time": "2022-09-15T06:28:05.342Z"
   },
   {
    "duration": 13,
    "start_time": "2022-09-15T06:28:05.354Z"
   },
   {
    "duration": 21,
    "start_time": "2022-09-15T06:28:05.368Z"
   },
   {
    "duration": 492,
    "start_time": "2022-09-15T06:28:05.391Z"
   },
   {
    "duration": 135,
    "start_time": "2022-09-15T06:28:05.885Z"
   },
   {
    "duration": 11,
    "start_time": "2022-09-15T06:28:06.022Z"
   },
   {
    "duration": 14,
    "start_time": "2022-09-15T06:28:06.050Z"
   },
   {
    "duration": 11,
    "start_time": "2022-09-15T06:28:06.066Z"
   },
   {
    "duration": 8,
    "start_time": "2022-09-15T06:28:06.078Z"
   },
   {
    "duration": 7,
    "start_time": "2022-09-15T06:28:06.087Z"
   },
   {
    "duration": 5,
    "start_time": "2022-09-15T06:28:06.096Z"
   },
   {
    "duration": 7,
    "start_time": "2022-09-15T06:28:06.102Z"
   },
   {
    "duration": 9,
    "start_time": "2022-09-15T06:28:06.110Z"
   },
   {
    "duration": 46,
    "start_time": "2022-09-15T06:28:06.121Z"
   },
   {
    "duration": 30,
    "start_time": "2022-09-15T06:28:06.169Z"
   },
   {
    "duration": 53,
    "start_time": "2022-09-15T06:28:06.201Z"
   },
   {
    "duration": 18,
    "start_time": "2022-09-15T06:28:06.257Z"
   },
   {
    "duration": 18,
    "start_time": "2022-09-15T06:28:06.277Z"
   },
   {
    "duration": 19,
    "start_time": "2022-09-15T06:28:06.298Z"
   },
   {
    "duration": 13,
    "start_time": "2022-09-15T06:28:06.319Z"
   },
   {
    "duration": 22,
    "start_time": "2022-09-15T06:28:06.334Z"
   },
   {
    "duration": 38,
    "start_time": "2022-09-15T06:28:06.358Z"
   },
   {
    "duration": 36,
    "start_time": "2022-09-15T06:28:06.398Z"
   },
   {
    "duration": 13,
    "start_time": "2022-09-15T06:28:06.436Z"
   },
   {
    "duration": 29,
    "start_time": "2022-09-15T06:28:06.451Z"
   },
   {
    "duration": 226166,
    "start_time": "2022-09-15T06:28:06.482Z"
   },
   {
    "duration": 31,
    "start_time": "2022-09-15T06:31:52.650Z"
   },
   {
    "duration": 24,
    "start_time": "2022-09-15T06:31:52.683Z"
   },
   {
    "duration": 4,
    "start_time": "2022-09-15T06:31:52.709Z"
   },
   {
    "duration": 35,
    "start_time": "2022-09-15T06:31:52.715Z"
   },
   {
    "duration": 11,
    "start_time": "2022-09-15T06:31:52.752Z"
   },
   {
    "duration": 17,
    "start_time": "2022-09-15T06:31:52.765Z"
   },
   {
    "duration": 9,
    "start_time": "2022-09-15T06:31:52.784Z"
   },
   {
    "duration": 7,
    "start_time": "2022-09-15T06:31:52.794Z"
   },
   {
    "duration": 1903,
    "start_time": "2022-09-15T06:31:52.803Z"
   },
   {
    "duration": 1969,
    "start_time": "2022-09-15T06:32:03.145Z"
   },
   {
    "duration": 164,
    "start_time": "2022-09-15T06:35:06.095Z"
   },
   {
    "duration": 5,
    "start_time": "2022-09-15T06:38:17.992Z"
   },
   {
    "duration": 5,
    "start_time": "2022-09-15T06:38:18.917Z"
   },
   {
    "duration": 2129,
    "start_time": "2022-09-15T06:38:20.211Z"
   },
   {
    "duration": 2,
    "start_time": "2022-09-15T06:38:54.539Z"
   },
   {
    "duration": 13,
    "start_time": "2022-09-15T06:39:50.506Z"
   },
   {
    "duration": 3,
    "start_time": "2022-09-15T06:39:52.172Z"
   },
   {
    "duration": 2,
    "start_time": "2022-09-15T06:39:59.401Z"
   },
   {
    "duration": 107702,
    "start_time": "2022-09-15T06:40:02.645Z"
   },
   {
    "duration": 6,
    "start_time": "2022-09-15T06:41:50.349Z"
   },
   {
    "duration": 46,
    "start_time": "2022-09-15T06:41:50.357Z"
   },
   {
    "duration": 5,
    "start_time": "2022-09-15T06:43:03.130Z"
   },
   {
    "duration": 3,
    "start_time": "2022-09-15T06:43:17.569Z"
   },
   {
    "duration": 19,
    "start_time": "2022-09-15T06:43:18.779Z"
   },
   {
    "duration": 6,
    "start_time": "2022-09-15T06:43:50.792Z"
   },
   {
    "duration": 4,
    "start_time": "2022-09-15T06:43:55.329Z"
   },
   {
    "duration": 11,
    "start_time": "2022-09-15T06:43:55.776Z"
   },
   {
    "duration": 14,
    "start_time": "2022-09-15T06:44:52.723Z"
   },
   {
    "duration": 3,
    "start_time": "2022-09-15T06:44:53.892Z"
   },
   {
    "duration": 3,
    "start_time": "2022-09-15T06:44:54.428Z"
   },
   {
    "duration": 2535,
    "start_time": "2022-09-15T06:52:27.888Z"
   },
   {
    "duration": 87,
    "start_time": "2022-09-15T06:52:30.426Z"
   },
   {
    "duration": 19,
    "start_time": "2022-09-15T06:52:30.515Z"
   },
   {
    "duration": 35,
    "start_time": "2022-09-15T06:52:30.536Z"
   },
   {
    "duration": 14,
    "start_time": "2022-09-15T06:52:30.573Z"
   },
   {
    "duration": 33,
    "start_time": "2022-09-15T06:52:30.588Z"
   },
   {
    "duration": 5,
    "start_time": "2022-09-15T06:52:30.622Z"
   },
   {
    "duration": 12,
    "start_time": "2022-09-15T06:52:30.629Z"
   },
   {
    "duration": 9,
    "start_time": "2022-09-15T06:52:30.642Z"
   },
   {
    "duration": 26,
    "start_time": "2022-09-15T06:52:30.653Z"
   },
   {
    "duration": 19,
    "start_time": "2022-09-15T06:52:30.681Z"
   },
   {
    "duration": 28,
    "start_time": "2022-09-15T06:52:30.701Z"
   },
   {
    "duration": 17,
    "start_time": "2022-09-15T06:52:30.731Z"
   },
   {
    "duration": 36,
    "start_time": "2022-09-15T06:52:30.750Z"
   },
   {
    "duration": 174,
    "start_time": "2022-09-15T06:52:30.788Z"
   },
   {
    "duration": 147,
    "start_time": "2022-09-15T06:52:30.964Z"
   },
   {
    "duration": 141,
    "start_time": "2022-09-15T06:52:31.113Z"
   },
   {
    "duration": 140,
    "start_time": "2022-09-15T06:52:31.256Z"
   },
   {
    "duration": 3,
    "start_time": "2022-09-15T06:52:31.398Z"
   },
   {
    "duration": 11,
    "start_time": "2022-09-15T06:52:31.403Z"
   },
   {
    "duration": 8,
    "start_time": "2022-09-15T06:52:31.416Z"
   },
   {
    "duration": 15,
    "start_time": "2022-09-15T06:52:31.426Z"
   },
   {
    "duration": 17,
    "start_time": "2022-09-15T06:52:31.443Z"
   },
   {
    "duration": 25,
    "start_time": "2022-09-15T06:52:31.462Z"
   },
   {
    "duration": 530,
    "start_time": "2022-09-15T06:52:31.489Z"
   },
   {
    "duration": 126,
    "start_time": "2022-09-15T06:52:32.021Z"
   },
   {
    "duration": 14,
    "start_time": "2022-09-15T06:52:32.148Z"
   },
   {
    "duration": 19,
    "start_time": "2022-09-15T06:52:32.165Z"
   },
   {
    "duration": 20,
    "start_time": "2022-09-15T06:52:32.186Z"
   },
   {
    "duration": 41,
    "start_time": "2022-09-15T06:52:32.207Z"
   },
   {
    "duration": 10,
    "start_time": "2022-09-15T06:52:32.249Z"
   },
   {
    "duration": 17,
    "start_time": "2022-09-15T06:52:32.260Z"
   },
   {
    "duration": 9,
    "start_time": "2022-09-15T06:52:32.278Z"
   },
   {
    "duration": 15,
    "start_time": "2022-09-15T06:52:32.289Z"
   },
   {
    "duration": 22,
    "start_time": "2022-09-15T06:52:32.306Z"
   },
   {
    "duration": 31,
    "start_time": "2022-09-15T06:52:32.329Z"
   },
   {
    "duration": 21,
    "start_time": "2022-09-15T06:52:32.361Z"
   },
   {
    "duration": 14,
    "start_time": "2022-09-15T06:52:32.384Z"
   },
   {
    "duration": 21,
    "start_time": "2022-09-15T06:52:32.400Z"
   },
   {
    "duration": 12,
    "start_time": "2022-09-15T06:52:32.423Z"
   },
   {
    "duration": 9,
    "start_time": "2022-09-15T06:52:32.436Z"
   },
   {
    "duration": 21,
    "start_time": "2022-09-15T06:52:32.447Z"
   },
   {
    "duration": 74,
    "start_time": "2022-09-15T06:52:32.469Z"
   },
   {
    "duration": 41,
    "start_time": "2022-09-15T06:52:32.545Z"
   },
   {
    "duration": 16,
    "start_time": "2022-09-15T06:52:32.587Z"
   },
   {
    "duration": 22,
    "start_time": "2022-09-15T06:52:32.604Z"
   },
   {
    "duration": 192928,
    "start_time": "2022-09-15T06:52:32.628Z"
   },
   {
    "duration": 32,
    "start_time": "2022-09-15T06:55:45.558Z"
   },
   {
    "duration": 66,
    "start_time": "2022-09-15T06:55:45.591Z"
   },
   {
    "duration": 4,
    "start_time": "2022-09-15T06:55:45.659Z"
   },
   {
    "duration": 12,
    "start_time": "2022-09-15T06:55:45.664Z"
   },
   {
    "duration": 13,
    "start_time": "2022-09-15T06:55:45.677Z"
   },
   {
    "duration": 20,
    "start_time": "2022-09-15T06:55:45.691Z"
   },
   {
    "duration": 7,
    "start_time": "2022-09-15T06:55:45.712Z"
   },
   {
    "duration": 8,
    "start_time": "2022-09-15T06:55:45.720Z"
   },
   {
    "duration": 1950,
    "start_time": "2022-09-15T06:55:45.729Z"
   },
   {
    "duration": 2,
    "start_time": "2022-09-15T06:55:47.681Z"
   },
   {
    "duration": 18,
    "start_time": "2022-09-15T06:55:47.685Z"
   },
   {
    "duration": 5,
    "start_time": "2022-09-15T06:55:47.704Z"
   },
   {
    "duration": 5,
    "start_time": "2022-09-15T06:55:47.710Z"
   },
   {
    "duration": 3652,
    "start_time": "2022-09-15T07:15:21.612Z"
   },
   {
    "duration": 75,
    "start_time": "2022-09-15T07:15:25.266Z"
   },
   {
    "duration": 27,
    "start_time": "2022-09-15T07:15:25.342Z"
   },
   {
    "duration": 18,
    "start_time": "2022-09-15T07:15:25.372Z"
   },
   {
    "duration": 10,
    "start_time": "2022-09-15T07:15:25.392Z"
   },
   {
    "duration": 49,
    "start_time": "2022-09-15T07:15:25.403Z"
   },
   {
    "duration": 8,
    "start_time": "2022-09-15T07:15:25.454Z"
   },
   {
    "duration": 20,
    "start_time": "2022-09-15T07:15:25.463Z"
   },
   {
    "duration": 15,
    "start_time": "2022-09-15T07:15:25.484Z"
   },
   {
    "duration": 17,
    "start_time": "2022-09-15T07:15:25.501Z"
   },
   {
    "duration": 27,
    "start_time": "2022-09-15T07:15:25.519Z"
   },
   {
    "duration": 33,
    "start_time": "2022-09-15T07:15:25.549Z"
   },
   {
    "duration": 23,
    "start_time": "2022-09-15T07:15:25.583Z"
   },
   {
    "duration": 30,
    "start_time": "2022-09-15T07:15:25.607Z"
   },
   {
    "duration": 177,
    "start_time": "2022-09-15T07:15:25.639Z"
   },
   {
    "duration": 176,
    "start_time": "2022-09-15T07:15:25.818Z"
   },
   {
    "duration": 170,
    "start_time": "2022-09-15T07:15:25.996Z"
   },
   {
    "duration": 192,
    "start_time": "2022-09-15T07:15:26.169Z"
   },
   {
    "duration": 4,
    "start_time": "2022-09-15T07:15:26.370Z"
   },
   {
    "duration": 22,
    "start_time": "2022-09-15T07:15:26.376Z"
   },
   {
    "duration": 11,
    "start_time": "2022-09-15T07:15:26.400Z"
   },
   {
    "duration": 12,
    "start_time": "2022-09-15T07:15:26.413Z"
   },
   {
    "duration": 26,
    "start_time": "2022-09-15T07:15:26.427Z"
   },
   {
    "duration": 35,
    "start_time": "2022-09-15T07:15:26.456Z"
   },
   {
    "duration": 618,
    "start_time": "2022-09-15T07:15:26.492Z"
   },
   {
    "duration": 135,
    "start_time": "2022-09-15T07:15:27.112Z"
   },
   {
    "duration": 19,
    "start_time": "2022-09-15T07:15:27.250Z"
   },
   {
    "duration": 18,
    "start_time": "2022-09-15T07:15:27.273Z"
   },
   {
    "duration": 12,
    "start_time": "2022-09-15T07:15:27.293Z"
   },
   {
    "duration": 18,
    "start_time": "2022-09-15T07:15:27.306Z"
   },
   {
    "duration": 25,
    "start_time": "2022-09-15T07:15:27.325Z"
   },
   {
    "duration": 12,
    "start_time": "2022-09-15T07:15:27.357Z"
   },
   {
    "duration": 20,
    "start_time": "2022-09-15T07:15:27.371Z"
   },
   {
    "duration": 15,
    "start_time": "2022-09-15T07:15:27.392Z"
   },
   {
    "duration": 22,
    "start_time": "2022-09-15T07:15:27.409Z"
   },
   {
    "duration": 24,
    "start_time": "2022-09-15T07:15:27.432Z"
   },
   {
    "duration": 17,
    "start_time": "2022-09-15T07:15:27.459Z"
   },
   {
    "duration": 17,
    "start_time": "2022-09-15T07:15:27.478Z"
   },
   {
    "duration": 30,
    "start_time": "2022-09-15T07:15:27.497Z"
   },
   {
    "duration": 14,
    "start_time": "2022-09-15T07:15:27.529Z"
   },
   {
    "duration": 13,
    "start_time": "2022-09-15T07:15:27.545Z"
   },
   {
    "duration": 17,
    "start_time": "2022-09-15T07:15:27.563Z"
   },
   {
    "duration": 28,
    "start_time": "2022-09-15T07:15:27.582Z"
   },
   {
    "duration": 23,
    "start_time": "2022-09-15T07:15:27.612Z"
   },
   {
    "duration": 17,
    "start_time": "2022-09-15T07:15:27.636Z"
   },
   {
    "duration": 20,
    "start_time": "2022-09-15T07:15:27.656Z"
   },
   {
    "duration": 240472,
    "start_time": "2022-09-15T07:15:27.678Z"
   },
   {
    "duration": 30,
    "start_time": "2022-09-15T07:19:28.152Z"
   },
   {
    "duration": 21,
    "start_time": "2022-09-15T07:19:28.184Z"
   },
   {
    "duration": 4,
    "start_time": "2022-09-15T07:19:28.206Z"
   },
   {
    "duration": 38,
    "start_time": "2022-09-15T07:19:28.211Z"
   },
   {
    "duration": 8,
    "start_time": "2022-09-15T07:19:28.250Z"
   },
   {
    "duration": 11,
    "start_time": "2022-09-15T07:19:28.259Z"
   },
   {
    "duration": 4,
    "start_time": "2022-09-15T07:19:28.272Z"
   },
   {
    "duration": 5,
    "start_time": "2022-09-15T07:19:28.278Z"
   },
   {
    "duration": 1758,
    "start_time": "2022-09-15T07:19:28.284Z"
   },
   {
    "duration": 3,
    "start_time": "2022-09-15T07:19:30.044Z"
   },
   {
    "duration": 16,
    "start_time": "2022-09-15T07:19:30.048Z"
   },
   {
    "duration": 18,
    "start_time": "2022-09-15T07:19:30.065Z"
   },
   {
    "duration": 18,
    "start_time": "2022-09-15T07:19:30.085Z"
   },
   {
    "duration": 1491360,
    "start_time": "2022-09-15T07:19:30.105Z"
   },
   {
    "duration": 102,
    "start_time": "2022-09-15T07:44:21.467Z"
   },
   {
    "duration": 6,
    "start_time": "2022-09-15T07:44:21.570Z"
   },
   {
    "duration": 4,
    "start_time": "2022-09-15T07:44:21.578Z"
   },
   {
    "duration": 15,
    "start_time": "2022-09-15T07:44:21.583Z"
   },
   {
    "duration": 1947,
    "start_time": "2022-09-15T07:45:27.855Z"
   },
   {
    "duration": 39,
    "start_time": "2022-09-15T07:46:05.046Z"
   },
   {
    "duration": 2,
    "start_time": "2022-09-15T07:46:24.252Z"
   },
   {
    "duration": 3,
    "start_time": "2022-09-15T07:46:24.756Z"
   },
   {
    "duration": 8717,
    "start_time": "2022-09-15T07:46:25.294Z"
   },
   {
    "duration": 0,
    "start_time": "2022-09-15T07:46:34.013Z"
   },
   {
    "duration": 0,
    "start_time": "2022-09-15T07:46:34.013Z"
   },
   {
    "duration": 3,
    "start_time": "2022-09-15T07:46:38.425Z"
   },
   {
    "duration": 3,
    "start_time": "2022-09-15T07:46:38.906Z"
   },
   {
    "duration": 76936,
    "start_time": "2022-09-15T07:46:39.330Z"
   },
   {
    "duration": 87,
    "start_time": "2022-09-15T07:47:56.268Z"
   },
   {
    "duration": 7,
    "start_time": "2022-09-15T07:47:56.358Z"
   },
   {
    "duration": 22,
    "start_time": "2022-09-15T07:47:56.367Z"
   },
   {
    "duration": 24,
    "start_time": "2022-09-15T07:47:56.391Z"
   },
   {
    "duration": 53,
    "start_time": "2022-09-15T07:50:51.740Z"
   },
   {
    "duration": 7589,
    "start_time": "2022-09-15T07:52:22.203Z"
   },
   {
    "duration": 76,
    "start_time": "2022-09-15T07:52:29.794Z"
   },
   {
    "duration": 18,
    "start_time": "2022-09-15T07:52:29.871Z"
   },
   {
    "duration": 14,
    "start_time": "2022-09-15T07:52:29.891Z"
   },
   {
    "duration": 11,
    "start_time": "2022-09-15T07:52:29.907Z"
   },
   {
    "duration": 22,
    "start_time": "2022-09-15T07:52:29.920Z"
   },
   {
    "duration": 5,
    "start_time": "2022-09-15T07:52:29.944Z"
   },
   {
    "duration": 4,
    "start_time": "2022-09-15T07:52:29.950Z"
   },
   {
    "duration": 8,
    "start_time": "2022-09-15T07:52:29.955Z"
   },
   {
    "duration": 6,
    "start_time": "2022-09-15T07:52:29.965Z"
   },
   {
    "duration": 8,
    "start_time": "2022-09-15T07:52:29.972Z"
   },
   {
    "duration": 4,
    "start_time": "2022-09-15T07:52:29.981Z"
   },
   {
    "duration": 8,
    "start_time": "2022-09-15T07:52:29.986Z"
   },
   {
    "duration": 18,
    "start_time": "2022-09-15T07:52:29.995Z"
   },
   {
    "duration": 236,
    "start_time": "2022-09-15T07:52:30.015Z"
   },
   {
    "duration": 155,
    "start_time": "2022-09-15T07:52:30.252Z"
   },
   {
    "duration": 128,
    "start_time": "2022-09-15T07:52:30.409Z"
   },
   {
    "duration": 146,
    "start_time": "2022-09-15T07:52:30.539Z"
   },
   {
    "duration": 3,
    "start_time": "2022-09-15T07:52:30.686Z"
   },
   {
    "duration": 10,
    "start_time": "2022-09-15T07:52:30.691Z"
   },
   {
    "duration": 28,
    "start_time": "2022-09-15T07:52:30.702Z"
   },
   {
    "duration": 16,
    "start_time": "2022-09-15T07:52:30.731Z"
   },
   {
    "duration": 22,
    "start_time": "2022-09-15T07:52:30.749Z"
   },
   {
    "duration": 17,
    "start_time": "2022-09-15T07:52:30.773Z"
   },
   {
    "duration": 503,
    "start_time": "2022-09-15T07:52:30.792Z"
   },
   {
    "duration": 141,
    "start_time": "2022-09-15T07:52:31.297Z"
   },
   {
    "duration": 13,
    "start_time": "2022-09-15T07:52:31.441Z"
   },
   {
    "duration": 14,
    "start_time": "2022-09-15T07:52:31.458Z"
   },
   {
    "duration": 7,
    "start_time": "2022-09-15T07:52:31.473Z"
   },
   {
    "duration": 16,
    "start_time": "2022-09-15T07:52:31.481Z"
   },
   {
    "duration": 13,
    "start_time": "2022-09-15T07:52:31.499Z"
   },
   {
    "duration": 29,
    "start_time": "2022-09-15T07:52:31.513Z"
   },
   {
    "duration": 17,
    "start_time": "2022-09-15T07:52:31.543Z"
   },
   {
    "duration": 13,
    "start_time": "2022-09-15T07:52:31.562Z"
   },
   {
    "duration": 26,
    "start_time": "2022-09-15T07:52:31.576Z"
   },
   {
    "duration": 61,
    "start_time": "2022-09-15T07:52:31.604Z"
   },
   {
    "duration": 28,
    "start_time": "2022-09-15T07:52:31.667Z"
   },
   {
    "duration": 26,
    "start_time": "2022-09-15T07:52:31.696Z"
   },
   {
    "duration": 31,
    "start_time": "2022-09-15T07:52:31.723Z"
   },
   {
    "duration": 24,
    "start_time": "2022-09-15T07:52:31.756Z"
   },
   {
    "duration": 32,
    "start_time": "2022-09-15T07:52:31.782Z"
   },
   {
    "duration": 25,
    "start_time": "2022-09-15T07:52:31.816Z"
   },
   {
    "duration": 45,
    "start_time": "2022-09-15T07:52:31.843Z"
   },
   {
    "duration": 33,
    "start_time": "2022-09-15T07:52:31.889Z"
   },
   {
    "duration": 55,
    "start_time": "2022-09-15T07:52:31.924Z"
   },
   {
    "duration": 41,
    "start_time": "2022-09-15T07:52:31.980Z"
   },
   {
    "duration": 227437,
    "start_time": "2022-09-15T07:52:32.023Z"
   },
   {
    "duration": 33,
    "start_time": "2022-09-15T07:56:19.462Z"
   },
   {
    "duration": 28,
    "start_time": "2022-09-15T07:56:19.546Z"
   },
   {
    "duration": 4,
    "start_time": "2022-09-15T07:56:19.576Z"
   },
   {
    "duration": 21,
    "start_time": "2022-09-15T07:56:19.582Z"
   },
   {
    "duration": 22,
    "start_time": "2022-09-15T07:56:19.605Z"
   },
   {
    "duration": 35,
    "start_time": "2022-09-15T07:56:19.629Z"
   },
   {
    "duration": 15,
    "start_time": "2022-09-15T07:56:19.666Z"
   },
   {
    "duration": 12,
    "start_time": "2022-09-15T07:56:19.683Z"
   },
   {
    "duration": 1913,
    "start_time": "2022-09-15T07:56:19.697Z"
   },
   {
    "duration": 3,
    "start_time": "2022-09-15T07:56:21.611Z"
   },
   {
    "duration": 22,
    "start_time": "2022-09-15T07:56:21.615Z"
   },
   {
    "duration": 26,
    "start_time": "2022-09-15T07:56:21.639Z"
   },
   {
    "duration": 35,
    "start_time": "2022-09-15T07:56:21.667Z"
   },
   {
    "duration": 58662,
    "start_time": "2022-09-15T07:56:21.703Z"
   },
   {
    "duration": 10,
    "start_time": "2022-09-15T07:57:20.366Z"
   },
   {
    "duration": 73,
    "start_time": "2022-09-15T07:57:20.377Z"
   },
   {
    "duration": 6,
    "start_time": "2022-09-15T07:57:20.452Z"
   },
   {
    "duration": 14,
    "start_time": "2022-09-15T07:57:20.460Z"
   },
   {
    "duration": 15,
    "start_time": "2022-09-15T07:57:20.475Z"
   },
   {
    "duration": 22,
    "start_time": "2022-09-15T07:57:20.492Z"
   },
   {
    "duration": 8,
    "start_time": "2022-09-15T07:57:20.516Z"
   },
   {
    "duration": 245,
    "start_time": "2022-09-15T07:57:20.526Z"
   },
   {
    "duration": 0,
    "start_time": "2022-09-15T07:57:20.773Z"
   },
   {
    "duration": 0,
    "start_time": "2022-09-15T07:57:20.774Z"
   },
   {
    "duration": 18,
    "start_time": "2022-09-15T07:58:16.286Z"
   },
   {
    "duration": 2,
    "start_time": "2022-09-15T07:58:17.712Z"
   },
   {
    "duration": 3,
    "start_time": "2022-09-15T07:58:18.567Z"
   },
   {
    "duration": 2061,
    "start_time": "2022-09-15T08:37:44.161Z"
   },
   {
    "duration": 65,
    "start_time": "2022-09-15T08:37:46.224Z"
   },
   {
    "duration": 13,
    "start_time": "2022-09-15T08:37:46.291Z"
   },
   {
    "duration": 15,
    "start_time": "2022-09-15T08:37:46.306Z"
   },
   {
    "duration": 16,
    "start_time": "2022-09-15T08:37:46.322Z"
   },
   {
    "duration": 43,
    "start_time": "2022-09-15T08:37:46.339Z"
   },
   {
    "duration": 4,
    "start_time": "2022-09-15T08:37:46.384Z"
   },
   {
    "duration": 16,
    "start_time": "2022-09-15T08:37:46.389Z"
   },
   {
    "duration": 7,
    "start_time": "2022-09-15T08:37:46.406Z"
   },
   {
    "duration": 9,
    "start_time": "2022-09-15T08:37:46.415Z"
   },
   {
    "duration": 7,
    "start_time": "2022-09-15T08:37:46.425Z"
   },
   {
    "duration": 26,
    "start_time": "2022-09-15T08:37:46.433Z"
   },
   {
    "duration": 16,
    "start_time": "2022-09-15T08:37:46.460Z"
   },
   {
    "duration": 34,
    "start_time": "2022-09-15T08:37:46.477Z"
   },
   {
    "duration": 136,
    "start_time": "2022-09-15T08:37:46.513Z"
   },
   {
    "duration": 146,
    "start_time": "2022-09-15T08:37:46.651Z"
   },
   {
    "duration": 129,
    "start_time": "2022-09-15T08:37:46.805Z"
   },
   {
    "duration": 127,
    "start_time": "2022-09-15T08:37:46.936Z"
   },
   {
    "duration": 2,
    "start_time": "2022-09-15T08:37:47.065Z"
   },
   {
    "duration": 7,
    "start_time": "2022-09-15T08:37:47.069Z"
   },
   {
    "duration": 4,
    "start_time": "2022-09-15T08:37:47.077Z"
   },
   {
    "duration": 7,
    "start_time": "2022-09-15T08:37:47.083Z"
   },
   {
    "duration": 9,
    "start_time": "2022-09-15T08:37:47.105Z"
   },
   {
    "duration": 14,
    "start_time": "2022-09-15T08:37:47.116Z"
   },
   {
    "duration": 566,
    "start_time": "2022-09-15T08:37:47.132Z"
   },
   {
    "duration": 124,
    "start_time": "2022-09-15T08:37:47.700Z"
   },
   {
    "duration": 10,
    "start_time": "2022-09-15T08:37:47.825Z"
   },
   {
    "duration": 16,
    "start_time": "2022-09-15T08:37:47.841Z"
   },
   {
    "duration": 7,
    "start_time": "2022-09-15T08:37:47.859Z"
   },
   {
    "duration": 7,
    "start_time": "2022-09-15T08:37:47.868Z"
   },
   {
    "duration": 30,
    "start_time": "2022-09-15T08:37:47.876Z"
   },
   {
    "duration": 4,
    "start_time": "2022-09-15T08:37:47.908Z"
   },
   {
    "duration": 7,
    "start_time": "2022-09-15T08:37:47.914Z"
   },
   {
    "duration": 9,
    "start_time": "2022-09-15T08:37:47.923Z"
   },
   {
    "duration": 27,
    "start_time": "2022-09-15T08:37:47.934Z"
   },
   {
    "duration": 45,
    "start_time": "2022-09-15T08:37:47.962Z"
   },
   {
    "duration": 15,
    "start_time": "2022-09-15T08:37:48.008Z"
   },
   {
    "duration": 11,
    "start_time": "2022-09-15T08:37:48.025Z"
   },
   {
    "duration": 10,
    "start_time": "2022-09-15T08:37:48.037Z"
   },
   {
    "duration": 12,
    "start_time": "2022-09-15T08:37:48.049Z"
   },
   {
    "duration": 10,
    "start_time": "2022-09-15T08:37:48.063Z"
   },
   {
    "duration": 32,
    "start_time": "2022-09-15T08:37:48.074Z"
   },
   {
    "duration": 21,
    "start_time": "2022-09-15T08:37:48.107Z"
   },
   {
    "duration": 20,
    "start_time": "2022-09-15T08:37:48.129Z"
   },
   {
    "duration": 6,
    "start_time": "2022-09-15T08:37:48.150Z"
   },
   {
    "duration": 12,
    "start_time": "2022-09-15T08:37:48.157Z"
   },
   {
    "duration": 220857,
    "start_time": "2022-09-15T08:37:48.170Z"
   },
   {
    "duration": 105,
    "start_time": "2022-09-15T08:41:29.029Z"
   },
   {
    "duration": 20,
    "start_time": "2022-09-15T08:41:29.136Z"
   },
   {
    "duration": 5,
    "start_time": "2022-09-15T08:41:29.157Z"
   },
   {
    "duration": 8,
    "start_time": "2022-09-15T08:41:29.164Z"
   },
   {
    "duration": 7,
    "start_time": "2022-09-15T08:41:29.174Z"
   },
   {
    "duration": 8,
    "start_time": "2022-09-15T08:41:29.206Z"
   },
   {
    "duration": 6,
    "start_time": "2022-09-15T08:41:29.216Z"
   },
   {
    "duration": 7,
    "start_time": "2022-09-15T08:41:29.224Z"
   },
   {
    "duration": 1752,
    "start_time": "2022-09-15T08:41:29.232Z"
   },
   {
    "duration": 2,
    "start_time": "2022-09-15T08:41:30.986Z"
   },
   {
    "duration": 19,
    "start_time": "2022-09-15T08:41:30.989Z"
   },
   {
    "duration": 13,
    "start_time": "2022-09-15T08:41:31.009Z"
   },
   {
    "duration": 16,
    "start_time": "2022-09-15T08:41:31.023Z"
   },
   {
    "duration": 55886,
    "start_time": "2022-09-15T08:41:31.040Z"
   },
   {
    "duration": 13,
    "start_time": "2022-09-15T08:42:27.007Z"
   },
   {
    "duration": 8,
    "start_time": "2022-09-15T08:42:27.023Z"
   },
   {
    "duration": 7,
    "start_time": "2022-09-15T08:42:27.033Z"
   },
   {
    "duration": 13,
    "start_time": "2022-09-15T08:42:27.042Z"
   },
   {
    "duration": 50,
    "start_time": "2022-09-15T08:42:27.057Z"
   },
   {
    "duration": 3,
    "start_time": "2022-09-15T08:42:27.109Z"
   },
   {
    "duration": 6,
    "start_time": "2022-09-15T08:42:27.114Z"
   },
   {
    "duration": 1886,
    "start_time": "2022-09-15T08:51:56.807Z"
   },
   {
    "duration": 62,
    "start_time": "2022-09-15T08:51:58.695Z"
   },
   {
    "duration": 14,
    "start_time": "2022-09-15T08:51:58.758Z"
   },
   {
    "duration": 14,
    "start_time": "2022-09-15T08:51:58.774Z"
   },
   {
    "duration": 10,
    "start_time": "2022-09-15T08:51:58.789Z"
   },
   {
    "duration": 23,
    "start_time": "2022-09-15T08:51:58.800Z"
   },
   {
    "duration": 5,
    "start_time": "2022-09-15T08:51:58.825Z"
   },
   {
    "duration": 5,
    "start_time": "2022-09-15T08:51:58.831Z"
   },
   {
    "duration": 8,
    "start_time": "2022-09-15T08:51:58.837Z"
   },
   {
    "duration": 10,
    "start_time": "2022-09-15T08:51:58.847Z"
   },
   {
    "duration": 13,
    "start_time": "2022-09-15T08:51:58.859Z"
   },
   {
    "duration": 8,
    "start_time": "2022-09-15T08:51:58.873Z"
   },
   {
    "duration": 24,
    "start_time": "2022-09-15T08:51:58.882Z"
   },
   {
    "duration": 8,
    "start_time": "2022-09-15T08:51:58.908Z"
   },
   {
    "duration": 148,
    "start_time": "2022-09-15T08:51:58.917Z"
   },
   {
    "duration": 143,
    "start_time": "2022-09-15T08:51:59.067Z"
   },
   {
    "duration": 154,
    "start_time": "2022-09-15T08:51:59.211Z"
   },
   {
    "duration": 129,
    "start_time": "2022-09-15T08:51:59.367Z"
   },
   {
    "duration": 9,
    "start_time": "2022-09-15T08:51:59.497Z"
   },
   {
    "duration": 9,
    "start_time": "2022-09-15T08:51:59.507Z"
   },
   {
    "duration": 6,
    "start_time": "2022-09-15T08:51:59.517Z"
   },
   {
    "duration": 6,
    "start_time": "2022-09-15T08:51:59.525Z"
   },
   {
    "duration": 12,
    "start_time": "2022-09-15T08:51:59.532Z"
   },
   {
    "duration": 11,
    "start_time": "2022-09-15T08:51:59.545Z"
   },
   {
    "duration": 535,
    "start_time": "2022-09-15T08:51:59.557Z"
   },
   {
    "duration": 126,
    "start_time": "2022-09-15T08:52:00.094Z"
   },
   {
    "duration": 10,
    "start_time": "2022-09-15T08:52:00.222Z"
   },
   {
    "duration": 15,
    "start_time": "2022-09-15T08:52:00.237Z"
   },
   {
    "duration": 12,
    "start_time": "2022-09-15T08:52:00.254Z"
   },
   {
    "duration": 17,
    "start_time": "2022-09-15T08:52:00.268Z"
   },
   {
    "duration": 11,
    "start_time": "2022-09-15T08:52:00.287Z"
   },
   {
    "duration": 19,
    "start_time": "2022-09-15T08:52:00.300Z"
   },
   {
    "duration": 17,
    "start_time": "2022-09-15T08:52:00.320Z"
   },
   {
    "duration": 13,
    "start_time": "2022-09-15T08:52:00.338Z"
   },
   {
    "duration": 34,
    "start_time": "2022-09-15T08:52:00.353Z"
   },
   {
    "duration": 32,
    "start_time": "2022-09-15T08:52:00.389Z"
   },
   {
    "duration": 24,
    "start_time": "2022-09-15T08:52:00.423Z"
   },
   {
    "duration": 21,
    "start_time": "2022-09-15T08:52:00.449Z"
   },
   {
    "duration": 19,
    "start_time": "2022-09-15T08:52:00.472Z"
   },
   {
    "duration": 17,
    "start_time": "2022-09-15T08:52:00.493Z"
   },
   {
    "duration": 31,
    "start_time": "2022-09-15T08:52:00.512Z"
   },
   {
    "duration": 11,
    "start_time": "2022-09-15T08:52:00.544Z"
   },
   {
    "duration": 27,
    "start_time": "2022-09-15T08:52:00.557Z"
   },
   {
    "duration": 35,
    "start_time": "2022-09-15T08:52:00.586Z"
   },
   {
    "duration": 18,
    "start_time": "2022-09-15T08:52:00.624Z"
   },
   {
    "duration": 14,
    "start_time": "2022-09-15T08:52:00.644Z"
   },
   {
    "duration": 213665,
    "start_time": "2022-09-15T08:52:00.660Z"
   },
   {
    "duration": 96,
    "start_time": "2022-09-15T08:55:34.327Z"
   },
   {
    "duration": 19,
    "start_time": "2022-09-15T08:55:34.425Z"
   },
   {
    "duration": 5,
    "start_time": "2022-09-15T08:55:34.445Z"
   },
   {
    "duration": 7,
    "start_time": "2022-09-15T08:55:34.452Z"
   },
   {
    "duration": 5,
    "start_time": "2022-09-15T08:55:34.460Z"
   },
   {
    "duration": 9,
    "start_time": "2022-09-15T08:55:34.467Z"
   },
   {
    "duration": 27,
    "start_time": "2022-09-15T08:55:34.478Z"
   },
   {
    "duration": 8,
    "start_time": "2022-09-15T08:55:34.507Z"
   },
   {
    "duration": 1795,
    "start_time": "2022-09-15T08:55:34.516Z"
   },
   {
    "duration": 2,
    "start_time": "2022-09-15T08:55:36.313Z"
   },
   {
    "duration": 12,
    "start_time": "2022-09-15T08:55:36.317Z"
   },
   {
    "duration": 5,
    "start_time": "2022-09-15T08:55:36.331Z"
   },
   {
    "duration": 5,
    "start_time": "2022-09-15T08:55:36.338Z"
   },
   {
    "duration": 54066,
    "start_time": "2022-09-15T08:55:36.344Z"
   },
   {
    "duration": 9,
    "start_time": "2022-09-15T08:56:30.412Z"
   },
   {
    "duration": 16,
    "start_time": "2022-09-15T08:56:30.422Z"
   },
   {
    "duration": 13,
    "start_time": "2022-09-15T08:56:30.439Z"
   },
   {
    "duration": 20,
    "start_time": "2022-09-15T08:56:30.453Z"
   },
   {
    "duration": 40,
    "start_time": "2022-09-15T08:56:30.475Z"
   },
   {
    "duration": 39,
    "start_time": "2022-09-15T08:56:30.516Z"
   },
   {
    "duration": 19,
    "start_time": "2022-09-15T08:56:30.557Z"
   },
   {
    "duration": 1781,
    "start_time": "2022-09-15T09:09:10.808Z"
   },
   {
    "duration": 64,
    "start_time": "2022-09-15T09:09:12.591Z"
   },
   {
    "duration": 18,
    "start_time": "2022-09-15T09:09:12.657Z"
   },
   {
    "duration": 17,
    "start_time": "2022-09-15T09:09:12.677Z"
   },
   {
    "duration": 15,
    "start_time": "2022-09-15T09:09:12.696Z"
   },
   {
    "duration": 27,
    "start_time": "2022-09-15T09:09:12.713Z"
   },
   {
    "duration": 6,
    "start_time": "2022-09-15T09:09:12.742Z"
   },
   {
    "duration": 4,
    "start_time": "2022-09-15T09:09:12.750Z"
   },
   {
    "duration": 8,
    "start_time": "2022-09-15T09:09:12.755Z"
   },
   {
    "duration": 9,
    "start_time": "2022-09-15T09:09:12.765Z"
   },
   {
    "duration": 30,
    "start_time": "2022-09-15T09:09:12.776Z"
   },
   {
    "duration": 4,
    "start_time": "2022-09-15T09:09:12.807Z"
   },
   {
    "duration": 8,
    "start_time": "2022-09-15T09:09:12.812Z"
   },
   {
    "duration": 9,
    "start_time": "2022-09-15T09:09:12.821Z"
   },
   {
    "duration": 141,
    "start_time": "2022-09-15T09:09:12.832Z"
   },
   {
    "duration": 148,
    "start_time": "2022-09-15T09:09:12.975Z"
   },
   {
    "duration": 129,
    "start_time": "2022-09-15T09:09:13.125Z"
   },
   {
    "duration": 132,
    "start_time": "2022-09-15T09:09:13.255Z"
   },
   {
    "duration": 2,
    "start_time": "2022-09-15T09:09:13.389Z"
   },
   {
    "duration": 15,
    "start_time": "2022-09-15T09:09:13.393Z"
   },
   {
    "duration": 5,
    "start_time": "2022-09-15T09:09:13.409Z"
   },
   {
    "duration": 7,
    "start_time": "2022-09-15T09:09:13.415Z"
   },
   {
    "duration": 13,
    "start_time": "2022-09-15T09:09:13.424Z"
   },
   {
    "duration": 12,
    "start_time": "2022-09-15T09:09:13.438Z"
   },
   {
    "duration": 477,
    "start_time": "2022-09-15T09:09:13.451Z"
   },
   {
    "duration": 131,
    "start_time": "2022-09-15T09:09:13.929Z"
   },
   {
    "duration": 10,
    "start_time": "2022-09-15T09:09:14.062Z"
   },
   {
    "duration": 30,
    "start_time": "2022-09-15T09:09:14.076Z"
   },
   {
    "duration": 7,
    "start_time": "2022-09-15T09:09:14.107Z"
   },
   {
    "duration": 5,
    "start_time": "2022-09-15T09:09:14.115Z"
   },
   {
    "duration": 6,
    "start_time": "2022-09-15T09:09:14.121Z"
   },
   {
    "duration": 7,
    "start_time": "2022-09-15T09:09:14.128Z"
   },
   {
    "duration": 8,
    "start_time": "2022-09-15T09:09:14.136Z"
   },
   {
    "duration": 9,
    "start_time": "2022-09-15T09:09:14.146Z"
   },
   {
    "duration": 21,
    "start_time": "2022-09-15T09:09:14.156Z"
   },
   {
    "duration": 46,
    "start_time": "2022-09-15T09:09:14.178Z"
   },
   {
    "duration": 18,
    "start_time": "2022-09-15T09:09:14.226Z"
   },
   {
    "duration": 22,
    "start_time": "2022-09-15T09:09:14.246Z"
   },
   {
    "duration": 15,
    "start_time": "2022-09-15T09:09:14.270Z"
   },
   {
    "duration": 20,
    "start_time": "2022-09-15T09:09:14.286Z"
   },
   {
    "duration": 5,
    "start_time": "2022-09-15T09:09:14.308Z"
   },
   {
    "duration": 12,
    "start_time": "2022-09-15T09:09:14.315Z"
   },
   {
    "duration": 36,
    "start_time": "2022-09-15T09:09:14.329Z"
   },
   {
    "duration": 20,
    "start_time": "2022-09-15T09:09:14.367Z"
   },
   {
    "duration": 19,
    "start_time": "2022-09-15T09:09:14.389Z"
   },
   {
    "duration": 16,
    "start_time": "2022-09-15T09:09:14.410Z"
   },
   {
    "duration": 218386,
    "start_time": "2022-09-15T09:09:14.428Z"
   },
   {
    "duration": 30,
    "start_time": "2022-09-15T09:12:52.816Z"
   },
   {
    "duration": 64,
    "start_time": "2022-09-15T09:12:52.848Z"
   },
   {
    "duration": 4,
    "start_time": "2022-09-15T09:12:52.913Z"
   },
   {
    "duration": 5,
    "start_time": "2022-09-15T09:12:52.919Z"
   },
   {
    "duration": 5,
    "start_time": "2022-09-15T09:12:52.926Z"
   },
   {
    "duration": 13,
    "start_time": "2022-09-15T09:12:52.933Z"
   },
   {
    "duration": 8,
    "start_time": "2022-09-15T09:12:52.948Z"
   },
   {
    "duration": 8,
    "start_time": "2022-09-15T09:12:52.958Z"
   },
   {
    "duration": 1780,
    "start_time": "2022-09-15T09:12:52.967Z"
   },
   {
    "duration": 2,
    "start_time": "2022-09-15T09:12:54.748Z"
   },
   {
    "duration": 9,
    "start_time": "2022-09-15T09:12:54.752Z"
   },
   {
    "duration": 3,
    "start_time": "2022-09-15T09:12:54.763Z"
   },
   {
    "duration": 4,
    "start_time": "2022-09-15T09:12:54.767Z"
   },
   {
    "duration": 56949,
    "start_time": "2022-09-15T09:12:54.773Z"
   },
   {
    "duration": 83,
    "start_time": "2022-09-15T09:13:51.723Z"
   },
   {
    "duration": 6,
    "start_time": "2022-09-15T09:13:51.807Z"
   },
   {
    "duration": 4,
    "start_time": "2022-09-15T09:13:51.815Z"
   },
   {
    "duration": 13,
    "start_time": "2022-09-15T09:13:51.820Z"
   },
   {
    "duration": 10,
    "start_time": "2022-09-15T09:13:51.835Z"
   },
   {
    "duration": 5,
    "start_time": "2022-09-15T09:13:51.846Z"
   },
   {
    "duration": 7,
    "start_time": "2022-09-15T09:13:51.852Z"
   },
   {
    "duration": 650166,
    "start_time": "2022-09-15T09:13:51.861Z"
   },
   {
    "duration": 102,
    "start_time": "2022-09-15T09:24:42.029Z"
   },
   {
    "duration": 6,
    "start_time": "2022-09-15T09:24:42.133Z"
   },
   {
    "duration": 1933,
    "start_time": "2022-09-15T09:29:23.539Z"
   },
   {
    "duration": 30,
    "start_time": "2022-09-15T09:29:25.474Z"
   },
   {
    "duration": 14,
    "start_time": "2022-09-15T09:29:25.506Z"
   },
   {
    "duration": 42,
    "start_time": "2022-09-15T09:29:25.523Z"
   },
   {
    "duration": 14,
    "start_time": "2022-09-15T09:29:25.567Z"
   },
   {
    "duration": 24,
    "start_time": "2022-09-15T09:29:25.583Z"
   },
   {
    "duration": 5,
    "start_time": "2022-09-15T09:29:25.608Z"
   },
   {
    "duration": 6,
    "start_time": "2022-09-15T09:29:25.615Z"
   },
   {
    "duration": 7,
    "start_time": "2022-09-15T09:29:25.623Z"
   },
   {
    "duration": 7,
    "start_time": "2022-09-15T09:29:25.633Z"
   },
   {
    "duration": 7,
    "start_time": "2022-09-15T09:29:25.642Z"
   },
   {
    "duration": 15,
    "start_time": "2022-09-15T09:29:25.651Z"
   },
   {
    "duration": 10,
    "start_time": "2022-09-15T09:29:25.667Z"
   },
   {
    "duration": 9,
    "start_time": "2022-09-15T09:29:25.679Z"
   },
   {
    "duration": 159,
    "start_time": "2022-09-15T09:29:25.706Z"
   },
   {
    "duration": 154,
    "start_time": "2022-09-15T09:29:25.866Z"
   },
   {
    "duration": 160,
    "start_time": "2022-09-15T09:29:26.021Z"
   },
   {
    "duration": 151,
    "start_time": "2022-09-15T09:29:26.183Z"
   },
   {
    "duration": 3,
    "start_time": "2022-09-15T09:29:26.336Z"
   },
   {
    "duration": 10,
    "start_time": "2022-09-15T09:29:26.341Z"
   },
   {
    "duration": 6,
    "start_time": "2022-09-15T09:29:26.353Z"
   },
   {
    "duration": 7,
    "start_time": "2022-09-15T09:29:26.360Z"
   },
   {
    "duration": 13,
    "start_time": "2022-09-15T09:29:26.369Z"
   },
   {
    "duration": 30,
    "start_time": "2022-09-15T09:29:26.384Z"
   },
   {
    "duration": 482,
    "start_time": "2022-09-15T09:29:26.416Z"
   },
   {
    "duration": 156,
    "start_time": "2022-09-15T09:29:26.900Z"
   },
   {
    "duration": 9,
    "start_time": "2022-09-15T09:29:27.058Z"
   },
   {
    "duration": 10,
    "start_time": "2022-09-15T09:29:27.071Z"
   },
   {
    "duration": 26,
    "start_time": "2022-09-15T09:29:27.082Z"
   },
   {
    "duration": 6,
    "start_time": "2022-09-15T09:29:27.110Z"
   },
   {
    "duration": 7,
    "start_time": "2022-09-15T09:29:27.117Z"
   },
   {
    "duration": 6,
    "start_time": "2022-09-15T09:29:27.126Z"
   },
   {
    "duration": 6,
    "start_time": "2022-09-15T09:29:27.134Z"
   },
   {
    "duration": 11,
    "start_time": "2022-09-15T09:29:27.141Z"
   },
   {
    "duration": 20,
    "start_time": "2022-09-15T09:29:27.154Z"
   },
   {
    "duration": 43,
    "start_time": "2022-09-15T09:29:27.176Z"
   },
   {
    "duration": 13,
    "start_time": "2022-09-15T09:29:27.221Z"
   },
   {
    "duration": 27,
    "start_time": "2022-09-15T09:29:27.236Z"
   },
   {
    "duration": 19,
    "start_time": "2022-09-15T09:29:27.265Z"
   },
   {
    "duration": 11,
    "start_time": "2022-09-15T09:29:27.285Z"
   },
   {
    "duration": 10,
    "start_time": "2022-09-15T09:29:27.297Z"
   },
   {
    "duration": 10,
    "start_time": "2022-09-15T09:29:27.309Z"
   },
   {
    "duration": 56,
    "start_time": "2022-09-15T09:29:27.322Z"
   },
   {
    "duration": 30,
    "start_time": "2022-09-15T09:29:27.379Z"
   },
   {
    "duration": 15,
    "start_time": "2022-09-15T09:29:27.411Z"
   },
   {
    "duration": 24,
    "start_time": "2022-09-15T09:29:27.429Z"
   },
   {
    "duration": 217768,
    "start_time": "2022-09-15T09:29:27.455Z"
   },
   {
    "duration": 96,
    "start_time": "2022-09-15T09:33:05.225Z"
   },
   {
    "duration": 19,
    "start_time": "2022-09-15T09:33:05.323Z"
   },
   {
    "duration": 4,
    "start_time": "2022-09-15T09:33:05.343Z"
   },
   {
    "duration": 8,
    "start_time": "2022-09-15T09:33:05.348Z"
   },
   {
    "duration": 7,
    "start_time": "2022-09-15T09:33:05.357Z"
   },
   {
    "duration": 9,
    "start_time": "2022-09-15T09:33:05.366Z"
   },
   {
    "duration": 32,
    "start_time": "2022-09-15T09:33:05.376Z"
   },
   {
    "duration": 6,
    "start_time": "2022-09-15T09:33:05.409Z"
   },
   {
    "duration": 1854,
    "start_time": "2022-09-15T09:33:05.417Z"
   },
   {
    "duration": 6,
    "start_time": "2022-09-15T09:33:07.273Z"
   },
   {
    "duration": 168,
    "start_time": "2022-09-15T09:33:07.281Z"
   },
   {
    "duration": 0,
    "start_time": "2022-09-15T09:33:07.451Z"
   },
   {
    "duration": 0,
    "start_time": "2022-09-15T09:33:07.452Z"
   },
   {
    "duration": 0,
    "start_time": "2022-09-15T09:33:07.453Z"
   },
   {
    "duration": 0,
    "start_time": "2022-09-15T09:33:07.455Z"
   },
   {
    "duration": 0,
    "start_time": "2022-09-15T09:33:07.456Z"
   },
   {
    "duration": 0,
    "start_time": "2022-09-15T09:33:07.457Z"
   },
   {
    "duration": 0,
    "start_time": "2022-09-15T09:33:07.459Z"
   },
   {
    "duration": 0,
    "start_time": "2022-09-15T09:33:07.460Z"
   },
   {
    "duration": 0,
    "start_time": "2022-09-15T09:33:07.461Z"
   },
   {
    "duration": 0,
    "start_time": "2022-09-15T09:33:07.462Z"
   },
   {
    "duration": 0,
    "start_time": "2022-09-15T09:33:07.463Z"
   },
   {
    "duration": 0,
    "start_time": "2022-09-15T09:33:07.464Z"
   },
   {
    "duration": 0,
    "start_time": "2022-09-15T09:33:07.465Z"
   },
   {
    "duration": 10,
    "start_time": "2022-09-15T09:33:31.909Z"
   },
   {
    "duration": 3,
    "start_time": "2022-09-15T09:33:34.734Z"
   },
   {
    "duration": 3,
    "start_time": "2022-09-15T09:33:35.219Z"
   },
   {
    "duration": 55149,
    "start_time": "2022-09-15T09:33:35.663Z"
   },
   {
    "duration": 9,
    "start_time": "2022-09-15T09:34:30.814Z"
   },
   {
    "duration": 5,
    "start_time": "2022-09-15T09:34:30.825Z"
   },
   {
    "duration": 5,
    "start_time": "2022-09-15T09:34:30.832Z"
   },
   {
    "duration": 14,
    "start_time": "2022-09-15T09:34:30.839Z"
   },
   {
    "duration": 54,
    "start_time": "2022-09-15T09:34:30.854Z"
   },
   {
    "duration": 3,
    "start_time": "2022-09-15T09:34:30.909Z"
   },
   {
    "duration": 11,
    "start_time": "2022-09-15T09:34:30.913Z"
   },
   {
    "duration": 287,
    "start_time": "2022-09-15T09:34:30.925Z"
   },
   {
    "duration": 0,
    "start_time": "2022-09-15T09:34:31.214Z"
   },
   {
    "duration": 0,
    "start_time": "2022-09-15T09:34:31.215Z"
   },
   {
    "duration": 220,
    "start_time": "2022-09-15T09:42:49.291Z"
   },
   {
    "duration": 184,
    "start_time": "2022-09-15T09:43:00.129Z"
   },
   {
    "duration": 659430,
    "start_time": "2022-09-15T09:43:08.875Z"
   },
   {
    "duration": 21,
    "start_time": "2022-09-15T09:54:08.308Z"
   },
   {
    "duration": 14,
    "start_time": "2022-09-15T09:54:08.330Z"
   },
   {
    "duration": 10,
    "start_time": "2022-09-15T10:07:54.808Z"
   },
   {
    "duration": 2,
    "start_time": "2022-09-15T10:07:55.303Z"
   },
   {
    "duration": 3,
    "start_time": "2022-09-15T10:07:56.009Z"
   },
   {
    "duration": 939406,
    "start_time": "2022-09-15T10:07:56.416Z"
   },
   {
    "duration": 103,
    "start_time": "2022-09-15T10:23:35.824Z"
   },
   {
    "duration": 17,
    "start_time": "2022-09-15T10:23:35.929Z"
   },
   {
    "duration": 1873,
    "start_time": "2022-09-15T10:25:51.225Z"
   },
   {
    "duration": 29,
    "start_time": "2022-09-15T10:25:53.100Z"
   },
   {
    "duration": 16,
    "start_time": "2022-09-15T10:25:53.130Z"
   },
   {
    "duration": 22,
    "start_time": "2022-09-15T10:25:53.149Z"
   },
   {
    "duration": 14,
    "start_time": "2022-09-15T10:25:53.174Z"
   },
   {
    "duration": 34,
    "start_time": "2022-09-15T10:25:53.190Z"
   },
   {
    "duration": 6,
    "start_time": "2022-09-15T10:25:53.225Z"
   },
   {
    "duration": 7,
    "start_time": "2022-09-15T10:25:53.233Z"
   },
   {
    "duration": 9,
    "start_time": "2022-09-15T10:25:53.242Z"
   },
   {
    "duration": 9,
    "start_time": "2022-09-15T10:25:53.254Z"
   },
   {
    "duration": 7,
    "start_time": "2022-09-15T10:25:53.265Z"
   },
   {
    "duration": 32,
    "start_time": "2022-09-15T10:25:53.274Z"
   },
   {
    "duration": 11,
    "start_time": "2022-09-15T10:25:53.309Z"
   },
   {
    "duration": 10,
    "start_time": "2022-09-15T10:25:53.322Z"
   },
   {
    "duration": 157,
    "start_time": "2022-09-15T10:25:53.333Z"
   },
   {
    "duration": 157,
    "start_time": "2022-09-15T10:25:53.492Z"
   },
   {
    "duration": 161,
    "start_time": "2022-09-15T10:25:53.651Z"
   },
   {
    "duration": 160,
    "start_time": "2022-09-15T10:25:53.816Z"
   },
   {
    "duration": 3,
    "start_time": "2022-09-15T10:25:53.977Z"
   },
   {
    "duration": 7,
    "start_time": "2022-09-15T10:25:53.983Z"
   },
   {
    "duration": 15,
    "start_time": "2022-09-15T10:25:54.006Z"
   },
   {
    "duration": 10,
    "start_time": "2022-09-15T10:25:54.023Z"
   },
   {
    "duration": 15,
    "start_time": "2022-09-15T10:25:54.034Z"
   },
   {
    "duration": 14,
    "start_time": "2022-09-15T10:25:54.050Z"
   },
   {
    "duration": 538,
    "start_time": "2022-09-15T10:25:54.066Z"
   },
   {
    "duration": 134,
    "start_time": "2022-09-15T10:25:54.606Z"
   },
   {
    "duration": 11,
    "start_time": "2022-09-15T10:25:54.742Z"
   },
   {
    "duration": 16,
    "start_time": "2022-09-15T10:25:54.759Z"
   },
   {
    "duration": 7,
    "start_time": "2022-09-15T10:25:54.778Z"
   },
   {
    "duration": 6,
    "start_time": "2022-09-15T10:25:54.807Z"
   },
   {
    "duration": 11,
    "start_time": "2022-09-15T10:25:54.816Z"
   },
   {
    "duration": 8,
    "start_time": "2022-09-15T10:25:54.828Z"
   },
   {
    "duration": 8,
    "start_time": "2022-09-15T10:25:54.838Z"
   },
   {
    "duration": 13,
    "start_time": "2022-09-15T10:25:54.848Z"
   },
   {
    "duration": 23,
    "start_time": "2022-09-15T10:25:54.863Z"
   },
   {
    "duration": 35,
    "start_time": "2022-09-15T10:25:54.906Z"
   },
   {
    "duration": 13,
    "start_time": "2022-09-15T10:25:54.943Z"
   },
   {
    "duration": 10,
    "start_time": "2022-09-15T10:25:54.958Z"
   },
   {
    "duration": 12,
    "start_time": "2022-09-15T10:25:54.970Z"
   },
   {
    "duration": 9,
    "start_time": "2022-09-15T10:25:54.984Z"
   },
   {
    "duration": 15,
    "start_time": "2022-09-15T10:25:54.994Z"
   },
   {
    "duration": 20,
    "start_time": "2022-09-15T10:25:55.011Z"
   },
   {
    "duration": 26,
    "start_time": "2022-09-15T10:25:55.033Z"
   },
   {
    "duration": 24,
    "start_time": "2022-09-15T10:25:55.061Z"
   },
   {
    "duration": 7,
    "start_time": "2022-09-15T10:25:55.086Z"
   },
   {
    "duration": 26,
    "start_time": "2022-09-15T10:25:55.095Z"
   },
   {
    "duration": 299806,
    "start_time": "2022-09-15T10:25:55.123Z"
   },
   {
    "duration": 37,
    "start_time": "2022-09-15T10:30:55.006Z"
   },
   {
    "duration": 25,
    "start_time": "2022-09-15T10:30:55.045Z"
   },
   {
    "duration": 5,
    "start_time": "2022-09-15T10:30:55.072Z"
   },
   {
    "duration": 31,
    "start_time": "2022-09-15T10:30:55.079Z"
   },
   {
    "duration": 7,
    "start_time": "2022-09-15T10:30:55.112Z"
   },
   {
    "duration": 14,
    "start_time": "2022-09-15T10:30:55.120Z"
   },
   {
    "duration": 6,
    "start_time": "2022-09-15T10:30:55.136Z"
   },
   {
    "duration": 6,
    "start_time": "2022-09-15T10:30:55.144Z"
   },
   {
    "duration": 1878,
    "start_time": "2022-09-15T10:30:55.151Z"
   },
   {
    "duration": 3,
    "start_time": "2022-09-15T10:30:57.030Z"
   },
   {
    "duration": 13,
    "start_time": "2022-09-15T10:30:57.034Z"
   },
   {
    "duration": 5,
    "start_time": "2022-09-15T10:30:57.048Z"
   },
   {
    "duration": 5,
    "start_time": "2022-09-15T10:30:57.054Z"
   },
   {
    "duration": 75468,
    "start_time": "2022-09-15T10:30:57.061Z"
   },
   {
    "duration": 11,
    "start_time": "2022-09-15T10:32:12.605Z"
   },
   {
    "duration": 5,
    "start_time": "2022-09-15T10:32:12.618Z"
   },
   {
    "duration": 6,
    "start_time": "2022-09-15T10:32:12.625Z"
   },
   {
    "duration": 13,
    "start_time": "2022-09-15T10:32:12.632Z"
   },
   {
    "duration": 10,
    "start_time": "2022-09-15T10:32:12.647Z"
   },
   {
    "duration": 4,
    "start_time": "2022-09-15T10:32:12.659Z"
   },
   {
    "duration": 7,
    "start_time": "2022-09-15T10:32:12.665Z"
   },
   {
    "duration": 982959,
    "start_time": "2022-09-15T10:32:12.674Z"
   },
   {
    "duration": 87,
    "start_time": "2022-09-15T10:48:35.635Z"
   },
   {
    "duration": 15,
    "start_time": "2022-09-15T10:48:35.723Z"
   },
   {
    "duration": 17,
    "start_time": "2022-09-15T10:55:11.740Z"
   },
   {
    "duration": 2,
    "start_time": "2022-09-15T10:55:13.359Z"
   },
   {
    "duration": 2,
    "start_time": "2022-09-15T10:55:13.863Z"
   },
   {
    "duration": 121775,
    "start_time": "2022-09-15T10:55:14.673Z"
   },
   {
    "duration": 0,
    "start_time": "2022-09-15T10:57:16.450Z"
   },
   {
    "duration": 0,
    "start_time": "2022-09-15T10:57:16.451Z"
   },
   {
    "duration": 0,
    "start_time": "2022-09-15T10:57:16.452Z"
   },
   {
    "duration": 0,
    "start_time": "2022-09-15T10:57:16.454Z"
   },
   {
    "duration": 2028,
    "start_time": "2022-09-15T10:57:22.784Z"
   },
   {
    "duration": 19,
    "start_time": "2022-09-15T10:57:27.568Z"
   },
   {
    "duration": 3,
    "start_time": "2022-09-15T10:57:28.528Z"
   },
   {
    "duration": 3,
    "start_time": "2022-09-15T10:57:29.522Z"
   },
   {
    "duration": 137667,
    "start_time": "2022-09-15T10:57:30.357Z"
   },
   {
    "duration": 14,
    "start_time": "2022-09-15T10:59:48.027Z"
   },
   {
    "duration": 16,
    "start_time": "2022-09-15T10:59:48.042Z"
   },
   {
    "duration": 6,
    "start_time": "2022-09-15T11:04:27.636Z"
   },
   {
    "duration": 6,
    "start_time": "2022-09-15T11:17:33.817Z"
   },
   {
    "duration": 1746,
    "start_time": "2022-09-15T11:22:34.553Z"
   },
   {
    "duration": 34,
    "start_time": "2022-09-15T11:22:36.301Z"
   },
   {
    "duration": 14,
    "start_time": "2022-09-15T11:22:36.337Z"
   },
   {
    "duration": 15,
    "start_time": "2022-09-15T11:22:36.353Z"
   },
   {
    "duration": 11,
    "start_time": "2022-09-15T11:22:36.369Z"
   },
   {
    "duration": 22,
    "start_time": "2022-09-15T11:22:36.382Z"
   },
   {
    "duration": 13,
    "start_time": "2022-09-15T11:22:36.405Z"
   },
   {
    "duration": 10,
    "start_time": "2022-09-15T11:22:36.419Z"
   },
   {
    "duration": 7,
    "start_time": "2022-09-15T11:22:36.430Z"
   },
   {
    "duration": 11,
    "start_time": "2022-09-15T11:22:36.440Z"
   },
   {
    "duration": 7,
    "start_time": "2022-09-15T11:22:36.453Z"
   },
   {
    "duration": 5,
    "start_time": "2022-09-15T11:22:36.462Z"
   },
   {
    "duration": 10,
    "start_time": "2022-09-15T11:22:36.468Z"
   },
   {
    "duration": 7,
    "start_time": "2022-09-15T11:22:36.480Z"
   },
   {
    "duration": 144,
    "start_time": "2022-09-15T11:22:36.488Z"
   },
   {
    "duration": 154,
    "start_time": "2022-09-15T11:22:36.634Z"
   },
   {
    "duration": 133,
    "start_time": "2022-09-15T11:22:36.790Z"
   },
   {
    "duration": 139,
    "start_time": "2022-09-15T11:22:36.925Z"
   },
   {
    "duration": 3,
    "start_time": "2022-09-15T11:22:37.065Z"
   },
   {
    "duration": 8,
    "start_time": "2022-09-15T11:22:37.069Z"
   },
   {
    "duration": 6,
    "start_time": "2022-09-15T11:22:37.079Z"
   },
   {
    "duration": 8,
    "start_time": "2022-09-15T11:22:37.086Z"
   },
   {
    "duration": 15,
    "start_time": "2022-09-15T11:22:37.095Z"
   },
   {
    "duration": 21,
    "start_time": "2022-09-15T11:22:37.112Z"
   },
   {
    "duration": 526,
    "start_time": "2022-09-15T11:22:37.134Z"
   },
   {
    "duration": 141,
    "start_time": "2022-09-15T11:22:37.662Z"
   },
   {
    "duration": 17,
    "start_time": "2022-09-15T11:22:37.805Z"
   },
   {
    "duration": 24,
    "start_time": "2022-09-15T11:22:37.829Z"
   },
   {
    "duration": 18,
    "start_time": "2022-09-15T11:22:37.855Z"
   },
   {
    "duration": 10,
    "start_time": "2022-09-15T11:22:37.875Z"
   },
   {
    "duration": 14,
    "start_time": "2022-09-15T11:22:37.888Z"
   },
   {
    "duration": 23,
    "start_time": "2022-09-15T11:22:37.904Z"
   },
   {
    "duration": 28,
    "start_time": "2022-09-15T11:22:37.929Z"
   },
   {
    "duration": 16,
    "start_time": "2022-09-15T11:22:37.959Z"
   },
   {
    "duration": 40,
    "start_time": "2022-09-15T11:22:37.976Z"
   },
   {
    "duration": 51,
    "start_time": "2022-09-15T11:22:38.021Z"
   },
   {
    "duration": 28,
    "start_time": "2022-09-15T11:22:38.074Z"
   },
   {
    "duration": 31,
    "start_time": "2022-09-15T11:22:38.104Z"
   },
   {
    "duration": 22,
    "start_time": "2022-09-15T11:22:38.137Z"
   },
   {
    "duration": 25,
    "start_time": "2022-09-15T11:22:38.160Z"
   },
   {
    "duration": 11,
    "start_time": "2022-09-15T11:22:38.187Z"
   },
   {
    "duration": 31,
    "start_time": "2022-09-15T11:22:38.200Z"
   },
   {
    "duration": 41,
    "start_time": "2022-09-15T11:22:38.233Z"
   },
   {
    "duration": 27,
    "start_time": "2022-09-15T11:22:38.276Z"
   },
   {
    "duration": 29,
    "start_time": "2022-09-15T11:22:38.308Z"
   },
   {
    "duration": 29,
    "start_time": "2022-09-15T11:22:38.339Z"
   },
   {
    "duration": 370687,
    "start_time": "2022-09-15T11:22:38.370Z"
   },
   {
    "duration": 49,
    "start_time": "2022-09-15T11:28:49.105Z"
   },
   {
    "duration": 20,
    "start_time": "2022-09-15T11:28:49.156Z"
   },
   {
    "duration": 5,
    "start_time": "2022-09-15T11:28:49.177Z"
   },
   {
    "duration": 22,
    "start_time": "2022-09-15T11:28:49.183Z"
   },
   {
    "duration": 33,
    "start_time": "2022-09-15T11:28:49.207Z"
   },
   {
    "duration": 9,
    "start_time": "2022-09-15T11:28:49.241Z"
   },
   {
    "duration": 4,
    "start_time": "2022-09-15T11:28:49.252Z"
   },
   {
    "duration": 5,
    "start_time": "2022-09-15T11:28:49.257Z"
   },
   {
    "duration": 1911,
    "start_time": "2022-09-15T11:28:49.263Z"
   },
   {
    "duration": 2,
    "start_time": "2022-09-15T11:28:51.176Z"
   },
   {
    "duration": 14,
    "start_time": "2022-09-15T11:28:51.180Z"
   },
   {
    "duration": 3,
    "start_time": "2022-09-15T11:28:51.195Z"
   },
   {
    "duration": 29,
    "start_time": "2022-09-15T11:28:51.207Z"
   },
   {
    "duration": 143399,
    "start_time": "2022-09-15T11:28:51.238Z"
   },
   {
    "duration": 994,
    "start_time": "2022-09-15T11:31:14.639Z"
   },
   {
    "duration": 9,
    "start_time": "2022-09-15T11:31:15.635Z"
   },
   {
    "duration": 74,
    "start_time": "2022-09-15T11:31:15.645Z"
   },
   {
    "duration": 9,
    "start_time": "2022-09-15T11:31:15.722Z"
   },
   {
    "duration": 4,
    "start_time": "2022-09-15T11:31:15.732Z"
   },
   {
    "duration": 13,
    "start_time": "2022-09-15T11:31:15.737Z"
   },
   {
    "duration": 10,
    "start_time": "2022-09-15T11:31:15.752Z"
   },
   {
    "duration": 6,
    "start_time": "2022-09-15T11:31:15.763Z"
   },
   {
    "duration": 4,
    "start_time": "2022-09-15T11:31:15.771Z"
   },
   {
    "duration": 780980,
    "start_time": "2022-09-15T11:31:15.776Z"
   },
   {
    "duration": 0,
    "start_time": "2022-09-15T11:44:16.758Z"
   },
   {
    "duration": 0,
    "start_time": "2022-09-15T11:44:16.759Z"
   },
   {
    "duration": 3,
    "start_time": "2022-09-15T11:44:23.647Z"
   },
   {
    "duration": 4,
    "start_time": "2022-09-15T11:44:24.184Z"
   },
   {
    "duration": 21,
    "start_time": "2022-09-15T11:44:24.673Z"
   },
   {
    "duration": 16,
    "start_time": "2022-09-15T11:44:48.245Z"
   },
   {
    "duration": 3,
    "start_time": "2022-09-15T11:44:49.056Z"
   },
   {
    "duration": 3,
    "start_time": "2022-09-15T11:44:49.552Z"
   },
   {
    "duration": 1885,
    "start_time": "2022-09-15T11:53:37.755Z"
   },
   {
    "duration": 28,
    "start_time": "2022-09-15T11:53:39.642Z"
   },
   {
    "duration": 15,
    "start_time": "2022-09-15T11:53:39.672Z"
   },
   {
    "duration": 35,
    "start_time": "2022-09-15T11:53:39.690Z"
   },
   {
    "duration": 9,
    "start_time": "2022-09-15T11:53:39.728Z"
   },
   {
    "duration": 24,
    "start_time": "2022-09-15T11:53:39.739Z"
   },
   {
    "duration": 5,
    "start_time": "2022-09-15T11:53:42.421Z"
   },
   {
    "duration": 4,
    "start_time": "2022-09-15T11:53:43.274Z"
   },
   {
    "duration": 5,
    "start_time": "2022-09-15T11:53:43.486Z"
   },
   {
    "duration": 6,
    "start_time": "2022-09-15T11:53:43.888Z"
   },
   {
    "duration": 5,
    "start_time": "2022-09-15T11:53:44.091Z"
   },
   {
    "duration": 4,
    "start_time": "2022-09-15T11:53:44.266Z"
   },
   {
    "duration": 12,
    "start_time": "2022-09-15T11:53:44.508Z"
   },
   {
    "duration": 6,
    "start_time": "2022-09-15T11:53:44.720Z"
   },
   {
    "duration": 138,
    "start_time": "2022-09-15T11:53:45.148Z"
   },
   {
    "duration": 150,
    "start_time": "2022-09-15T11:53:45.596Z"
   },
   {
    "duration": 133,
    "start_time": "2022-09-15T11:53:45.998Z"
   },
   {
    "duration": 133,
    "start_time": "2022-09-15T11:53:46.430Z"
   },
   {
    "duration": 3,
    "start_time": "2022-09-15T11:53:47.262Z"
   },
   {
    "duration": 6,
    "start_time": "2022-09-15T11:53:47.489Z"
   },
   {
    "duration": 3,
    "start_time": "2022-09-15T11:53:47.730Z"
   },
   {
    "duration": 5,
    "start_time": "2022-09-15T11:53:47.840Z"
   },
   {
    "duration": 11,
    "start_time": "2022-09-15T11:53:48.129Z"
   },
   {
    "duration": 14,
    "start_time": "2022-09-15T11:53:48.523Z"
   },
   {
    "duration": 453,
    "start_time": "2022-09-15T11:53:48.946Z"
   },
   {
    "duration": 122,
    "start_time": "2022-09-15T11:53:50.564Z"
   },
   {
    "duration": 10,
    "start_time": "2022-09-15T11:53:51.060Z"
   },
   {
    "duration": 12,
    "start_time": "2022-09-15T11:53:51.236Z"
   },
   {
    "duration": 6,
    "start_time": "2022-09-15T11:53:51.820Z"
   },
   {
    "duration": 4,
    "start_time": "2022-09-15T11:53:52.742Z"
   },
   {
    "duration": 4,
    "start_time": "2022-09-15T11:53:52.934Z"
   },
   {
    "duration": 4,
    "start_time": "2022-09-15T11:53:53.078Z"
   },
   {
    "duration": 4,
    "start_time": "2022-09-15T11:53:53.270Z"
   },
   {
    "duration": 8,
    "start_time": "2022-09-15T11:53:53.560Z"
   },
   {
    "duration": 19,
    "start_time": "2022-09-15T11:53:53.720Z"
   },
   {
    "duration": 21,
    "start_time": "2022-09-15T11:53:54.497Z"
   },
   {
    "duration": 13,
    "start_time": "2022-09-15T11:53:55.016Z"
   },
   {
    "duration": 9,
    "start_time": "2022-09-15T11:53:55.546Z"
   },
   {
    "duration": 10,
    "start_time": "2022-09-15T11:53:55.946Z"
   },
   {
    "duration": 11,
    "start_time": "2022-09-15T11:53:56.397Z"
   },
   {
    "duration": 12,
    "start_time": "2022-09-15T11:53:56.900Z"
   },
   {
    "duration": 6,
    "start_time": "2022-09-15T11:53:57.429Z"
   },
   {
    "duration": 20,
    "start_time": "2022-09-15T11:53:58.123Z"
   },
   {
    "duration": 23,
    "start_time": "2022-09-15T11:53:58.720Z"
   },
   {
    "duration": 5,
    "start_time": "2022-09-15T11:54:00.129Z"
   },
   {
    "duration": 15,
    "start_time": "2022-09-15T11:54:17.236Z"
   },
   {
    "duration": 109452,
    "start_time": "2022-09-15T11:54:18.879Z"
   },
   {
    "duration": 86,
    "start_time": "2022-09-15T11:56:08.332Z"
   },
   {
    "duration": 20,
    "start_time": "2022-09-15T11:56:08.419Z"
   },
   {
    "duration": 17,
    "start_time": "2022-09-15T11:56:47.271Z"
   },
   {
    "duration": 182661,
    "start_time": "2022-09-15T11:56:48.360Z"
   },
   {
    "duration": 83,
    "start_time": "2022-09-15T11:59:51.028Z"
   },
   {
    "duration": 22,
    "start_time": "2022-09-15T11:59:51.114Z"
   },
   {
    "duration": 13,
    "start_time": "2022-09-15T12:00:17.738Z"
   },
   {
    "duration": 291062,
    "start_time": "2022-09-15T12:00:18.660Z"
   },
   {
    "duration": 30,
    "start_time": "2022-09-15T12:05:09.724Z"
   },
   {
    "duration": 58,
    "start_time": "2022-09-15T12:05:09.756Z"
   },
   {
    "duration": 15,
    "start_time": "2022-09-15T12:06:28.801Z"
   },
   {
    "duration": 76510,
    "start_time": "2022-09-15T12:06:29.415Z"
   },
   {
    "duration": 94,
    "start_time": "2022-09-15T12:07:45.933Z"
   },
   {
    "duration": 18,
    "start_time": "2022-09-15T12:07:46.028Z"
   },
   {
    "duration": 8,
    "start_time": "2022-09-15T12:09:56.945Z"
   },
   {
    "duration": 3,
    "start_time": "2022-09-15T12:09:57.955Z"
   },
   {
    "duration": 3,
    "start_time": "2022-09-15T12:09:58.924Z"
   },
   {
    "duration": 18645,
    "start_time": "2022-09-15T12:10:00.031Z"
   },
   {
    "duration": 853,
    "start_time": "2022-09-15T12:10:18.678Z"
   },
   {
    "duration": 48,
    "start_time": "2022-09-15T12:10:19.606Z"
   },
   {
    "duration": 6,
    "start_time": "2022-09-15T12:10:19.656Z"
   },
   {
    "duration": 12,
    "start_time": "2022-09-15T12:27:56.251Z"
   },
   {
    "duration": 3,
    "start_time": "2022-09-15T12:27:57.254Z"
   },
   {
    "duration": 8,
    "start_time": "2022-09-15T12:27:58.712Z"
   },
   {
    "duration": 149215,
    "start_time": "2022-09-15T12:27:59.355Z"
   },
   {
    "duration": 1055,
    "start_time": "2022-09-15T12:30:28.572Z"
   },
   {
    "duration": 8,
    "start_time": "2022-09-15T12:30:29.629Z"
   },
   {
    "duration": 66,
    "start_time": "2022-09-15T12:30:29.639Z"
   },
   {
    "duration": 1923,
    "start_time": "2022-09-15T12:32:46.719Z"
   },
   {
    "duration": 28,
    "start_time": "2022-09-15T12:32:48.644Z"
   },
   {
    "duration": 16,
    "start_time": "2022-09-15T12:32:48.674Z"
   },
   {
    "duration": 27,
    "start_time": "2022-09-15T12:32:48.692Z"
   },
   {
    "duration": 13,
    "start_time": "2022-09-15T12:32:48.721Z"
   },
   {
    "duration": 24,
    "start_time": "2022-09-15T12:32:48.735Z"
   },
   {
    "duration": 6,
    "start_time": "2022-09-15T12:32:49.152Z"
   },
   {
    "duration": 5,
    "start_time": "2022-09-15T12:32:49.599Z"
   },
   {
    "duration": 7,
    "start_time": "2022-09-15T12:32:49.859Z"
   },
   {
    "duration": 10,
    "start_time": "2022-09-15T12:32:50.322Z"
   },
   {
    "duration": 6,
    "start_time": "2022-09-15T12:32:50.580Z"
   },
   {
    "duration": 4,
    "start_time": "2022-09-15T12:32:50.788Z"
   },
   {
    "duration": 5,
    "start_time": "2022-09-15T12:32:51.026Z"
   },
   {
    "duration": 7,
    "start_time": "2022-09-15T12:32:51.289Z"
   },
   {
    "duration": 146,
    "start_time": "2022-09-15T12:32:51.748Z"
   },
   {
    "duration": 171,
    "start_time": "2022-09-15T12:32:52.245Z"
   },
   {
    "duration": 143,
    "start_time": "2022-09-15T12:32:52.720Z"
   },
   {
    "duration": 146,
    "start_time": "2022-09-15T12:32:53.211Z"
   },
   {
    "duration": 3,
    "start_time": "2022-09-15T12:32:54.198Z"
   },
   {
    "duration": 5,
    "start_time": "2022-09-15T12:32:54.424Z"
   },
   {
    "duration": 3,
    "start_time": "2022-09-15T12:32:54.664Z"
   },
   {
    "duration": 5,
    "start_time": "2022-09-15T12:32:54.920Z"
   },
   {
    "duration": 11,
    "start_time": "2022-09-15T12:32:55.128Z"
   },
   {
    "duration": 12,
    "start_time": "2022-09-15T12:32:55.352Z"
   },
   {
    "duration": 490,
    "start_time": "2022-09-15T12:32:55.611Z"
   },
   {
    "duration": 113,
    "start_time": "2022-09-15T12:32:56.362Z"
   },
   {
    "duration": 11,
    "start_time": "2022-09-15T12:32:57.065Z"
   },
   {
    "duration": 15,
    "start_time": "2022-09-15T12:32:57.340Z"
   },
   {
    "duration": 6,
    "start_time": "2022-09-15T12:32:57.844Z"
   },
   {
    "duration": 4,
    "start_time": "2022-09-15T12:32:58.619Z"
   },
   {
    "duration": 5,
    "start_time": "2022-09-15T12:32:58.878Z"
   },
   {
    "duration": 5,
    "start_time": "2022-09-15T12:32:59.102Z"
   },
   {
    "duration": 4,
    "start_time": "2022-09-15T12:32:59.358Z"
   },
   {
    "duration": 10,
    "start_time": "2022-09-15T12:32:59.551Z"
   },
   {
    "duration": 28,
    "start_time": "2022-09-15T12:32:59.791Z"
   },
   {
    "duration": 21,
    "start_time": "2022-09-15T12:33:00.045Z"
   },
   {
    "duration": 13,
    "start_time": "2022-09-15T12:33:00.352Z"
   },
   {
    "duration": 9,
    "start_time": "2022-09-15T12:33:00.689Z"
   },
   {
    "duration": 10,
    "start_time": "2022-09-15T12:33:01.160Z"
   },
   {
    "duration": 10,
    "start_time": "2022-09-15T12:33:01.689Z"
   },
   {
    "duration": 8,
    "start_time": "2022-09-15T12:33:02.413Z"
   },
   {
    "duration": 7,
    "start_time": "2022-09-15T12:33:02.700Z"
   },
   {
    "duration": 22,
    "start_time": "2022-09-15T12:33:03.332Z"
   },
   {
    "duration": 22,
    "start_time": "2022-09-15T12:33:03.860Z"
   },
   {
    "duration": 6,
    "start_time": "2022-09-15T12:33:04.420Z"
   },
   {
    "duration": 16,
    "start_time": "2022-09-15T12:33:16.373Z"
   },
   {
    "duration": 76540,
    "start_time": "2022-09-15T12:33:18.072Z"
   },
   {
    "duration": 34,
    "start_time": "2022-09-15T12:34:34.614Z"
   },
   {
    "duration": 20,
    "start_time": "2022-09-15T12:34:34.650Z"
   },
   {
    "duration": 48,
    "start_time": "2022-09-15T12:34:34.672Z"
   },
   {
    "duration": 10,
    "start_time": "2022-09-15T12:34:34.722Z"
   },
   {
    "duration": 5,
    "start_time": "2022-09-15T12:34:34.734Z"
   },
   {
    "duration": 144154,
    "start_time": "2022-09-15T12:34:34.740Z"
   },
   {
    "duration": 1027,
    "start_time": "2022-09-15T12:36:58.896Z"
   },
   {
    "duration": 12,
    "start_time": "2022-09-15T12:36:59.926Z"
   },
   {
    "duration": 68,
    "start_time": "2022-09-15T12:36:59.940Z"
   },
   {
    "duration": 138,
    "start_time": "2022-09-15T12:53:25.017Z"
   },
   {
    "duration": 9,
    "start_time": "2022-09-15T13:01:13.243Z"
   },
   {
    "duration": 3,
    "start_time": "2022-09-15T13:01:14.075Z"
   },
   {
    "duration": 3,
    "start_time": "2022-09-15T13:01:15.359Z"
   },
   {
    "duration": 168,
    "start_time": "2022-09-15T13:01:16.690Z"
   },
   {
    "duration": 148831,
    "start_time": "2022-09-15T13:01:29.143Z"
   },
   {
    "duration": 1134,
    "start_time": "2022-09-15T13:03:57.977Z"
   },
   {
    "duration": 9,
    "start_time": "2022-09-15T13:03:59.118Z"
   },
   {
    "duration": 7,
    "start_time": "2022-09-15T13:03:59.130Z"
   },
   {
    "duration": 8,
    "start_time": "2022-09-15T13:10:34.752Z"
   },
   {
    "duration": 3,
    "start_time": "2022-09-15T13:10:35.422Z"
   },
   {
    "duration": 3,
    "start_time": "2022-09-15T13:10:35.974Z"
   },
   {
    "duration": 148440,
    "start_time": "2022-09-15T13:10:36.777Z"
   },
   {
    "duration": 97,
    "start_time": "2022-09-15T13:13:05.220Z"
   },
   {
    "duration": 11,
    "start_time": "2022-09-15T13:13:05.318Z"
   },
   {
    "duration": 15,
    "start_time": "2022-09-15T13:13:05.332Z"
   },
   {
    "duration": 9,
    "start_time": "2022-09-15T13:14:27.730Z"
   },
   {
    "duration": 3,
    "start_time": "2022-09-15T13:14:28.001Z"
   },
   {
    "duration": 3,
    "start_time": "2022-09-15T13:14:28.257Z"
   },
   {
    "duration": 144953,
    "start_time": "2022-09-15T13:14:28.565Z"
   },
   {
    "duration": 21,
    "start_time": "2022-09-15T13:16:53.522Z"
   },
   {
    "duration": 4,
    "start_time": "2022-09-15T13:16:53.544Z"
   },
   {
    "duration": 7,
    "start_time": "2022-09-15T13:16:53.549Z"
   },
   {
    "duration": 1779,
    "start_time": "2022-09-15T13:25:14.244Z"
   },
   {
    "duration": 29,
    "start_time": "2022-09-15T13:25:16.024Z"
   },
   {
    "duration": 15,
    "start_time": "2022-09-15T13:25:16.055Z"
   },
   {
    "duration": 16,
    "start_time": "2022-09-15T13:25:16.072Z"
   },
   {
    "duration": 11,
    "start_time": "2022-09-15T13:25:16.089Z"
   },
   {
    "duration": 25,
    "start_time": "2022-09-15T13:25:16.101Z"
   },
   {
    "duration": 5,
    "start_time": "2022-09-15T13:25:16.128Z"
   },
   {
    "duration": 8,
    "start_time": "2022-09-15T13:25:16.134Z"
   },
   {
    "duration": 9,
    "start_time": "2022-09-15T13:25:16.143Z"
   },
   {
    "duration": 9,
    "start_time": "2022-09-15T13:25:16.154Z"
   },
   {
    "duration": 10,
    "start_time": "2022-09-15T13:25:16.164Z"
   },
   {
    "duration": 8,
    "start_time": "2022-09-15T13:25:16.175Z"
   },
   {
    "duration": 13,
    "start_time": "2022-09-15T13:25:16.184Z"
   },
   {
    "duration": 11,
    "start_time": "2022-09-15T13:25:16.206Z"
   },
   {
    "duration": 138,
    "start_time": "2022-09-15T13:25:16.220Z"
   },
   {
    "duration": 146,
    "start_time": "2022-09-15T13:25:16.360Z"
   },
   {
    "duration": 128,
    "start_time": "2022-09-15T13:25:16.515Z"
   },
   {
    "duration": 143,
    "start_time": "2022-09-15T13:25:16.644Z"
   },
   {
    "duration": 3,
    "start_time": "2022-09-15T13:25:16.789Z"
   },
   {
    "duration": 19,
    "start_time": "2022-09-15T13:25:16.793Z"
   },
   {
    "duration": 4,
    "start_time": "2022-09-15T13:25:16.813Z"
   },
   {
    "duration": 10,
    "start_time": "2022-09-15T13:25:16.819Z"
   },
   {
    "duration": 12,
    "start_time": "2022-09-15T13:25:16.830Z"
   },
   {
    "duration": 12,
    "start_time": "2022-09-15T13:25:16.843Z"
   },
   {
    "duration": 572,
    "start_time": "2022-09-15T13:25:16.856Z"
   },
   {
    "duration": 144,
    "start_time": "2022-09-15T13:25:17.429Z"
   },
   {
    "duration": 16,
    "start_time": "2022-09-15T13:25:17.576Z"
   },
   {
    "duration": 26,
    "start_time": "2022-09-15T13:25:17.608Z"
   },
   {
    "duration": 9,
    "start_time": "2022-09-15T13:25:17.636Z"
   },
   {
    "duration": 7,
    "start_time": "2022-09-15T13:25:17.648Z"
   },
   {
    "duration": 11,
    "start_time": "2022-09-15T13:25:17.657Z"
   },
   {
    "duration": 6,
    "start_time": "2022-09-15T13:25:17.669Z"
   },
   {
    "duration": 9,
    "start_time": "2022-09-15T13:25:17.677Z"
   },
   {
    "duration": 20,
    "start_time": "2022-09-15T13:25:17.687Z"
   },
   {
    "duration": 27,
    "start_time": "2022-09-15T13:25:17.708Z"
   },
   {
    "duration": 20,
    "start_time": "2022-09-15T13:25:17.737Z"
   },
   {
    "duration": 13,
    "start_time": "2022-09-15T13:25:17.759Z"
   },
   {
    "duration": 35,
    "start_time": "2022-09-15T13:25:17.774Z"
   },
   {
    "duration": 15,
    "start_time": "2022-09-15T13:25:17.811Z"
   },
   {
    "duration": 13,
    "start_time": "2022-09-15T13:25:17.827Z"
   },
   {
    "duration": 9,
    "start_time": "2022-09-15T13:25:17.842Z"
   },
   {
    "duration": 12,
    "start_time": "2022-09-15T13:25:17.853Z"
   },
   {
    "duration": 50,
    "start_time": "2022-09-15T13:25:17.867Z"
   },
   {
    "duration": 31,
    "start_time": "2022-09-15T13:25:17.921Z"
   },
   {
    "duration": 6,
    "start_time": "2022-09-15T13:25:17.954Z"
   },
   {
    "duration": 17,
    "start_time": "2022-09-15T13:25:17.962Z"
   },
   {
    "duration": 580873,
    "start_time": "2022-09-15T13:25:17.981Z"
   },
   {
    "duration": 34,
    "start_time": "2022-09-15T13:34:58.925Z"
   },
   {
    "duration": 21,
    "start_time": "2022-09-15T13:34:58.961Z"
   },
   {
    "duration": 4,
    "start_time": "2022-09-15T13:34:58.984Z"
   },
   {
    "duration": 29,
    "start_time": "2022-09-15T13:34:58.989Z"
   },
   {
    "duration": 24,
    "start_time": "2022-09-15T13:34:59.020Z"
   },
   {
    "duration": 14,
    "start_time": "2022-09-15T13:34:59.046Z"
   },
   {
    "duration": 10,
    "start_time": "2022-09-15T13:34:59.062Z"
   },
   {
    "duration": 11,
    "start_time": "2022-09-15T13:34:59.073Z"
   },
   {
    "duration": 2080,
    "start_time": "2022-09-15T13:34:59.086Z"
   },
   {
    "duration": 2,
    "start_time": "2022-09-15T13:35:01.168Z"
   },
   {
    "duration": 10,
    "start_time": "2022-09-15T13:35:01.173Z"
   },
   {
    "duration": 8,
    "start_time": "2022-09-15T13:35:01.184Z"
   },
   {
    "duration": 4,
    "start_time": "2022-09-15T13:35:01.214Z"
   },
   {
    "duration": 0,
    "start_time": "2022-09-15T13:46:54.617Z"
   },
   {
    "duration": 0,
    "start_time": "2022-09-15T13:46:54.618Z"
   },
   {
    "duration": 1,
    "start_time": "2022-09-15T13:46:54.618Z"
   },
   {
    "duration": 0,
    "start_time": "2022-09-15T13:46:54.619Z"
   },
   {
    "duration": 0,
    "start_time": "2022-09-15T13:46:54.620Z"
   },
   {
    "duration": 0,
    "start_time": "2022-09-15T13:46:54.621Z"
   },
   {
    "duration": 0,
    "start_time": "2022-09-15T13:46:54.623Z"
   },
   {
    "duration": 0,
    "start_time": "2022-09-15T13:46:54.624Z"
   },
   {
    "duration": 0,
    "start_time": "2022-09-15T13:46:54.625Z"
   },
   {
    "duration": 0,
    "start_time": "2022-09-15T13:46:54.626Z"
   },
   {
    "duration": 0,
    "start_time": "2022-09-15T13:46:54.627Z"
   },
   {
    "duration": 0,
    "start_time": "2022-09-15T13:46:54.628Z"
   },
   {
    "duration": 0,
    "start_time": "2022-09-15T13:46:54.629Z"
   },
   {
    "duration": 0,
    "start_time": "2022-09-15T13:46:54.629Z"
   },
   {
    "duration": 0,
    "start_time": "2022-09-15T13:46:54.630Z"
   },
   {
    "duration": 0,
    "start_time": "2022-09-15T13:46:54.631Z"
   },
   {
    "duration": 0,
    "start_time": "2022-09-15T13:46:54.633Z"
   },
   {
    "duration": 0,
    "start_time": "2022-09-15T13:46:54.634Z"
   },
   {
    "duration": 0,
    "start_time": "2022-09-15T13:46:54.635Z"
   },
   {
    "duration": 0,
    "start_time": "2022-09-15T13:46:54.636Z"
   },
   {
    "duration": 0,
    "start_time": "2022-09-15T13:46:54.637Z"
   },
   {
    "duration": 0,
    "start_time": "2022-09-15T13:46:54.638Z"
   },
   {
    "duration": 8,
    "start_time": "2022-09-15T13:46:56.464Z"
   },
   {
    "duration": 3,
    "start_time": "2022-09-15T13:46:56.951Z"
   },
   {
    "duration": 3,
    "start_time": "2022-09-15T13:46:57.472Z"
   },
   {
    "duration": 677015,
    "start_time": "2022-09-15T13:46:57.933Z"
   },
   {
    "duration": 196,
    "start_time": "2022-09-15T13:58:14.950Z"
   },
   {
    "duration": 63,
    "start_time": "2022-09-15T13:58:15.148Z"
   },
   {
    "duration": 27,
    "start_time": "2022-09-15T13:58:15.213Z"
   },
   {
    "duration": 11,
    "start_time": "2022-09-15T13:58:15.242Z"
   },
   {
    "duration": 5,
    "start_time": "2022-09-15T13:58:15.254Z"
   },
   {
    "duration": 18,
    "start_time": "2022-09-15T13:58:15.261Z"
   },
   {
    "duration": 3,
    "start_time": "2022-09-15T13:58:15.281Z"
   },
   {
    "duration": 10,
    "start_time": "2022-09-15T13:58:15.285Z"
   },
   {
    "duration": 167109,
    "start_time": "2022-09-15T13:58:15.297Z"
   },
   {
    "duration": 41,
    "start_time": "2022-09-15T14:01:02.411Z"
   },
   {
    "duration": 19,
    "start_time": "2022-09-15T14:01:02.453Z"
   },
   {
    "duration": 11,
    "start_time": "2022-09-15T14:01:02.474Z"
   },
   {
    "duration": 24,
    "start_time": "2022-09-15T14:01:02.487Z"
   },
   {
    "duration": 8,
    "start_time": "2022-09-15T14:01:02.513Z"
   },
   {
    "duration": 637706,
    "start_time": "2022-09-15T14:01:02.522Z"
   },
   {
    "duration": 94,
    "start_time": "2022-09-15T14:11:40.230Z"
   },
   {
    "duration": 14,
    "start_time": "2022-09-15T14:11:40.327Z"
   },
   {
    "duration": 2266,
    "start_time": "2022-09-15T14:22:47.546Z"
   },
   {
    "duration": 2179,
    "start_time": "2022-09-17T08:14:49.804Z"
   },
   {
    "duration": 66,
    "start_time": "2022-09-17T08:14:51.986Z"
   },
   {
    "duration": 14,
    "start_time": "2022-09-17T08:14:52.056Z"
   },
   {
    "duration": 16,
    "start_time": "2022-09-17T08:14:52.072Z"
   },
   {
    "duration": 14,
    "start_time": "2022-09-17T08:14:52.089Z"
   },
   {
    "duration": 26,
    "start_time": "2022-09-17T08:14:52.104Z"
   },
   {
    "duration": 5,
    "start_time": "2022-09-17T08:14:52.132Z"
   },
   {
    "duration": 6,
    "start_time": "2022-09-17T08:14:52.138Z"
   },
   {
    "duration": 11,
    "start_time": "2022-09-17T08:14:52.145Z"
   },
   {
    "duration": 8,
    "start_time": "2022-09-17T08:14:52.157Z"
   },
   {
    "duration": 7,
    "start_time": "2022-09-17T08:14:52.167Z"
   },
   {
    "duration": 4,
    "start_time": "2022-09-17T08:14:52.195Z"
   },
   {
    "duration": 13,
    "start_time": "2022-09-17T08:14:52.202Z"
   },
   {
    "duration": 14,
    "start_time": "2022-09-17T08:14:52.217Z"
   },
   {
    "duration": 140,
    "start_time": "2022-09-17T08:14:52.233Z"
   },
   {
    "duration": 158,
    "start_time": "2022-09-17T08:14:52.374Z"
   },
   {
    "duration": 143,
    "start_time": "2022-09-17T08:14:52.534Z"
   },
   {
    "duration": 154,
    "start_time": "2022-09-17T08:14:52.679Z"
   },
   {
    "duration": 4,
    "start_time": "2022-09-17T08:14:52.838Z"
   },
   {
    "duration": 13,
    "start_time": "2022-09-17T08:14:52.846Z"
   },
   {
    "duration": 28,
    "start_time": "2022-09-17T08:14:52.861Z"
   },
   {
    "duration": 22,
    "start_time": "2022-09-17T08:14:52.891Z"
   },
   {
    "duration": 20,
    "start_time": "2022-09-17T08:14:52.915Z"
   },
   {
    "duration": 18,
    "start_time": "2022-09-17T08:14:52.937Z"
   },
   {
    "duration": 576,
    "start_time": "2022-09-17T08:14:52.957Z"
   },
   {
    "duration": 134,
    "start_time": "2022-09-17T08:14:53.535Z"
   },
   {
    "duration": 11,
    "start_time": "2022-09-17T08:14:53.671Z"
   },
   {
    "duration": 12,
    "start_time": "2022-09-17T08:14:53.694Z"
   },
   {
    "duration": 11,
    "start_time": "2022-09-17T08:14:53.708Z"
   },
   {
    "duration": 6,
    "start_time": "2022-09-17T08:14:53.720Z"
   },
   {
    "duration": 6,
    "start_time": "2022-09-17T08:14:53.727Z"
   },
   {
    "duration": 6,
    "start_time": "2022-09-17T08:14:53.735Z"
   },
   {
    "duration": 7,
    "start_time": "2022-09-17T08:14:53.743Z"
   },
   {
    "duration": 8,
    "start_time": "2022-09-17T08:14:53.751Z"
   },
   {
    "duration": 42,
    "start_time": "2022-09-17T08:14:53.760Z"
   },
   {
    "duration": 22,
    "start_time": "2022-09-17T08:14:53.803Z"
   },
   {
    "duration": 17,
    "start_time": "2022-09-17T08:14:53.827Z"
   },
   {
    "duration": 14,
    "start_time": "2022-09-17T08:14:53.845Z"
   },
   {
    "duration": 11,
    "start_time": "2022-09-17T08:14:53.861Z"
   },
   {
    "duration": 10,
    "start_time": "2022-09-17T08:14:53.897Z"
   },
   {
    "duration": 11,
    "start_time": "2022-09-17T08:14:53.908Z"
   },
   {
    "duration": 8,
    "start_time": "2022-09-17T08:14:53.921Z"
   },
   {
    "duration": 25,
    "start_time": "2022-09-17T08:14:53.931Z"
   },
   {
    "duration": 49,
    "start_time": "2022-09-17T08:14:53.958Z"
   },
   {
    "duration": 5,
    "start_time": "2022-09-17T08:14:54.009Z"
   },
   {
    "duration": 14,
    "start_time": "2022-09-17T08:14:54.016Z"
   },
   {
    "duration": 211772,
    "start_time": "2022-09-17T08:14:54.032Z"
   },
   {
    "duration": 31,
    "start_time": "2022-09-17T08:18:25.806Z"
   },
   {
    "duration": 67,
    "start_time": "2022-09-17T08:18:25.839Z"
   },
   {
    "duration": 5,
    "start_time": "2022-09-17T08:18:25.908Z"
   },
   {
    "duration": 5,
    "start_time": "2022-09-17T08:18:25.914Z"
   },
   {
    "duration": 6,
    "start_time": "2022-09-17T08:18:25.921Z"
   },
   {
    "duration": 10,
    "start_time": "2022-09-17T08:18:25.928Z"
   },
   {
    "duration": 6,
    "start_time": "2022-09-17T08:18:25.940Z"
   },
   {
    "duration": 5,
    "start_time": "2022-09-17T08:18:25.948Z"
   },
   {
    "duration": 2129,
    "start_time": "2022-09-17T08:18:25.954Z"
   },
   {
    "duration": 11,
    "start_time": "2022-09-17T08:18:28.085Z"
   },
   {
    "duration": 17,
    "start_time": "2022-09-17T08:18:28.098Z"
   },
   {
    "duration": 11,
    "start_time": "2022-09-17T08:18:28.117Z"
   },
   {
    "duration": 6,
    "start_time": "2022-09-17T08:18:28.130Z"
   },
   {
    "duration": 270669,
    "start_time": "2022-09-17T08:18:28.138Z"
   },
   {
    "duration": 6,
    "start_time": "2022-09-17T08:22:58.809Z"
   },
   {
    "duration": 9,
    "start_time": "2022-09-17T08:22:58.817Z"
   },
   {
    "duration": 68,
    "start_time": "2022-09-17T08:22:58.828Z"
   },
   {
    "duration": 28,
    "start_time": "2022-09-17T08:22:58.898Z"
   },
   {
    "duration": 6,
    "start_time": "2022-09-17T08:22:58.928Z"
   },
   {
    "duration": 10,
    "start_time": "2022-09-17T08:22:58.935Z"
   },
   {
    "duration": 70356,
    "start_time": "2022-09-17T08:22:58.946Z"
   },
   {
    "duration": 42,
    "start_time": "2022-09-17T08:24:09.305Z"
   },
   {
    "duration": 69,
    "start_time": "2022-09-17T08:24:09.349Z"
   },
   {
    "duration": 11,
    "start_time": "2022-09-17T08:24:09.420Z"
   },
   {
    "duration": 6,
    "start_time": "2022-09-17T08:24:09.434Z"
   },
   {
    "duration": 8,
    "start_time": "2022-09-17T08:24:09.442Z"
   },
   {
    "duration": 294545,
    "start_time": "2022-09-17T08:24:09.452Z"
   },
   {
    "duration": 23,
    "start_time": "2022-09-17T08:29:03.999Z"
   },
   {
    "duration": 16,
    "start_time": "2022-09-17T08:29:04.024Z"
   },
   {
    "duration": 3,
    "start_time": "2022-09-17T08:29:04.041Z"
   },
   {
    "duration": 142,
    "start_time": "2022-09-17T08:54:45.309Z"
   },
   {
    "duration": 11,
    "start_time": "2022-09-17T08:55:02.578Z"
   },
   {
    "duration": 4,
    "start_time": "2022-09-17T08:55:05.750Z"
   },
   {
    "duration": 14,
    "start_time": "2022-09-17T09:00:15.457Z"
   },
   {
    "duration": 2215,
    "start_time": "2022-09-17T09:08:38.813Z"
   },
   {
    "duration": 23,
    "start_time": "2022-09-17T09:30:22.168Z"
   },
   {
    "duration": 7,
    "start_time": "2022-09-17T09:31:41.041Z"
   },
   {
    "duration": 5,
    "start_time": "2022-09-17T09:31:49.627Z"
   },
   {
    "duration": 7,
    "start_time": "2022-09-17T09:32:08.782Z"
   },
   {
    "duration": 10,
    "start_time": "2022-09-17T09:32:22.312Z"
   },
   {
    "duration": 7,
    "start_time": "2022-09-17T09:32:26.054Z"
   },
   {
    "duration": 15,
    "start_time": "2022-09-17T09:34:03.245Z"
   },
   {
    "duration": 16,
    "start_time": "2022-09-17T09:35:23.538Z"
   },
   {
    "duration": 12,
    "start_time": "2022-09-17T09:35:28.358Z"
   },
   {
    "duration": 2,
    "start_time": "2022-09-17T09:35:29.756Z"
   },
   {
    "duration": 3,
    "start_time": "2022-09-17T09:35:31.200Z"
   },
   {
    "duration": 260931,
    "start_time": "2022-09-17T09:35:31.871Z"
   },
   {
    "duration": 11,
    "start_time": "2022-09-17T09:41:34.991Z"
   },
   {
    "duration": 5121,
    "start_time": "2022-09-17T09:42:47.717Z"
   },
   {
    "duration": 5,
    "start_time": "2022-09-17T09:42:54.491Z"
   },
   {
    "duration": 11547,
    "start_time": "2022-09-17T09:42:56.172Z"
   },
   {
    "duration": 10,
    "start_time": "2022-09-17T09:43:10.816Z"
   },
   {
    "duration": 11,
    "start_time": "2022-09-17T09:43:39.225Z"
   },
   {
    "duration": 11595,
    "start_time": "2022-09-17T09:43:43.209Z"
   },
   {
    "duration": 10,
    "start_time": "2022-09-17T09:43:57.849Z"
   },
   {
    "duration": 3,
    "start_time": "2022-09-17T09:44:11.341Z"
   },
   {
    "duration": 112476,
    "start_time": "2022-09-17T09:44:14.239Z"
   },
   {
    "duration": 10,
    "start_time": "2022-09-17T09:48:06.859Z"
   },
   {
    "duration": 10,
    "start_time": "2022-09-17T09:48:20.185Z"
   },
   {
    "duration": 2,
    "start_time": "2022-09-17T09:48:22.585Z"
   },
   {
    "duration": 3,
    "start_time": "2022-09-17T09:48:25.508Z"
   },
   {
    "duration": 91730,
    "start_time": "2022-09-17T09:49:38.971Z"
   },
   {
    "duration": 9,
    "start_time": "2022-09-17T09:52:56.852Z"
   },
   {
    "duration": 71,
    "start_time": "2022-09-18T11:35:47.491Z"
   },
   {
    "duration": 41,
    "start_time": "2022-09-18T11:37:27.262Z"
   },
   {
    "duration": 2098,
    "start_time": "2022-09-18T11:37:35.768Z"
   },
   {
    "duration": 69,
    "start_time": "2022-09-18T11:37:37.868Z"
   },
   {
    "duration": 18,
    "start_time": "2022-09-18T11:37:37.939Z"
   },
   {
    "duration": 51,
    "start_time": "2022-09-18T11:37:37.959Z"
   },
   {
    "duration": 23,
    "start_time": "2022-09-18T11:37:38.013Z"
   },
   {
    "duration": 45,
    "start_time": "2022-09-18T11:37:38.038Z"
   },
   {
    "duration": 5,
    "start_time": "2022-09-18T11:37:38.084Z"
   },
   {
    "duration": 17,
    "start_time": "2022-09-18T11:37:38.090Z"
   },
   {
    "duration": 35,
    "start_time": "2022-09-18T11:37:38.109Z"
   },
   {
    "duration": 25,
    "start_time": "2022-09-18T11:37:38.145Z"
   },
   {
    "duration": 35,
    "start_time": "2022-09-18T11:37:38.172Z"
   },
   {
    "duration": 24,
    "start_time": "2022-09-18T11:37:38.209Z"
   },
   {
    "duration": 32,
    "start_time": "2022-09-18T11:37:38.234Z"
   },
   {
    "duration": 121,
    "start_time": "2022-09-18T11:37:38.268Z"
   },
   {
    "duration": 0,
    "start_time": "2022-09-18T11:37:38.390Z"
   },
   {
    "duration": 241,
    "start_time": "2022-09-18T11:37:57.373Z"
   },
   {
    "duration": 12,
    "start_time": "2022-09-18T11:38:47.868Z"
   },
   {
    "duration": 210,
    "start_time": "2022-09-18T11:39:29.468Z"
   },
   {
    "duration": 38,
    "start_time": "2022-09-18T11:39:47.573Z"
   },
   {
    "duration": 16,
    "start_time": "2022-09-18T11:39:54.268Z"
   },
   {
    "duration": 22,
    "start_time": "2022-09-18T11:40:10.107Z"
   },
   {
    "duration": 21,
    "start_time": "2022-09-18T11:40:22.656Z"
   },
   {
    "duration": 6,
    "start_time": "2022-09-18T11:42:42.470Z"
   },
   {
    "duration": 6,
    "start_time": "2022-09-18T11:42:52.278Z"
   },
   {
    "duration": 6,
    "start_time": "2022-09-18T11:45:26.861Z"
   },
   {
    "duration": 164,
    "start_time": "2022-09-18T11:45:35.032Z"
   },
   {
    "duration": 127,
    "start_time": "2022-09-18T11:45:53.666Z"
   },
   {
    "duration": 131,
    "start_time": "2022-09-18T11:46:43.655Z"
   },
   {
    "duration": 119,
    "start_time": "2022-09-18T11:46:49.763Z"
   },
   {
    "duration": 126,
    "start_time": "2022-09-18T11:46:54.853Z"
   },
   {
    "duration": 209,
    "start_time": "2022-09-18T11:47:46.168Z"
   },
   {
    "duration": 148,
    "start_time": "2022-09-18T11:47:52.448Z"
   },
   {
    "duration": 140,
    "start_time": "2022-09-18T11:47:57.673Z"
   },
   {
    "duration": 139,
    "start_time": "2022-09-18T11:48:04.075Z"
   },
   {
    "duration": 7,
    "start_time": "2022-09-18T11:58:50.219Z"
   },
   {
    "duration": 2,
    "start_time": "2022-09-18T11:59:42.308Z"
   },
   {
    "duration": 5,
    "start_time": "2022-09-18T12:00:39.117Z"
   },
   {
    "duration": 25,
    "start_time": "2022-09-18T12:03:46.201Z"
   },
   {
    "duration": 6,
    "start_time": "2022-09-18T12:03:59.504Z"
   },
   {
    "duration": 19,
    "start_time": "2022-09-18T12:04:02.116Z"
   },
   {
    "duration": 8,
    "start_time": "2022-09-18T12:04:32.205Z"
   },
   {
    "duration": 18,
    "start_time": "2022-09-18T12:04:35.736Z"
   },
   {
    "duration": 2,
    "start_time": "2022-09-18T12:10:35.347Z"
   },
   {
    "duration": 12,
    "start_time": "2022-09-18T12:11:30.211Z"
   },
   {
    "duration": 6,
    "start_time": "2022-09-18T12:13:00.071Z"
   },
   {
    "duration": 10,
    "start_time": "2022-09-18T12:13:01.210Z"
   },
   {
    "duration": 9,
    "start_time": "2022-09-18T12:13:17.196Z"
   },
   {
    "duration": 9,
    "start_time": "2022-09-18T12:13:28.799Z"
   },
   {
    "duration": 12,
    "start_time": "2022-09-18T12:13:37.601Z"
   },
   {
    "duration": 113,
    "start_time": "2022-09-18T12:13:53.360Z"
   },
   {
    "duration": 2,
    "start_time": "2022-09-18T12:25:13.499Z"
   },
   {
    "duration": 2,
    "start_time": "2022-09-18T12:25:39.403Z"
   },
   {
    "duration": 10,
    "start_time": "2022-09-18T12:26:55.472Z"
   },
   {
    "duration": 11,
    "start_time": "2022-09-18T12:27:27.391Z"
   },
   {
    "duration": 81,
    "start_time": "2022-09-18T12:28:30.099Z"
   },
   {
    "duration": 10,
    "start_time": "2022-09-18T12:29:12.192Z"
   },
   {
    "duration": 518,
    "start_time": "2022-09-18T12:29:19.386Z"
   },
   {
    "duration": 383,
    "start_time": "2022-09-18T12:29:31.394Z"
   },
   {
    "duration": 161,
    "start_time": "2022-09-18T12:30:36.260Z"
   },
   {
    "duration": 9,
    "start_time": "2022-09-18T12:30:59.721Z"
   },
   {
    "duration": 12,
    "start_time": "2022-09-18T12:31:00.391Z"
   },
   {
    "duration": 6,
    "start_time": "2022-09-18T12:31:00.899Z"
   },
   {
    "duration": 4,
    "start_time": "2022-09-18T12:31:01.763Z"
   },
   {
    "duration": 5,
    "start_time": "2022-09-18T12:31:02.097Z"
   },
   {
    "duration": 4,
    "start_time": "2022-09-18T12:31:02.355Z"
   },
   {
    "duration": 4,
    "start_time": "2022-09-18T12:31:02.582Z"
   },
   {
    "duration": 8,
    "start_time": "2022-09-18T12:31:03.002Z"
   },
   {
    "duration": 17,
    "start_time": "2022-09-18T12:31:03.359Z"
   },
   {
    "duration": 16,
    "start_time": "2022-09-18T12:31:03.799Z"
   },
   {
    "duration": 13,
    "start_time": "2022-09-18T12:31:04.248Z"
   },
   {
    "duration": 10,
    "start_time": "2022-09-18T12:31:15.099Z"
   },
   {
    "duration": 10,
    "start_time": "2022-09-18T12:31:16.067Z"
   },
   {
    "duration": 10,
    "start_time": "2022-09-18T12:31:16.595Z"
   },
   {
    "duration": 8,
    "start_time": "2022-09-18T12:31:17.107Z"
   },
   {
    "duration": 8,
    "start_time": "2022-09-18T12:31:17.759Z"
   },
   {
    "duration": 25,
    "start_time": "2022-09-18T12:31:18.305Z"
   },
   {
    "duration": 25,
    "start_time": "2022-09-18T12:31:19.617Z"
   },
   {
    "duration": 6,
    "start_time": "2022-09-18T12:31:20.403Z"
   },
   {
    "duration": 15,
    "start_time": "2022-09-18T12:31:49.704Z"
   },
   {
    "duration": 13,
    "start_time": "2022-09-18T12:32:31.911Z"
   },
   {
    "duration": 89,
    "start_time": "2022-09-18T12:32:36.272Z"
   },
   {
    "duration": 9,
    "start_time": "2022-09-18T12:33:06.151Z"
   },
   {
    "duration": 25,
    "start_time": "2022-09-18T12:33:07.415Z"
   },
   {
    "duration": 8,
    "start_time": "2022-09-18T12:33:35.297Z"
   },
   {
    "duration": 45862,
    "start_time": "2022-09-18T12:33:36.796Z"
   },
   {
    "duration": 11,
    "start_time": "2022-09-18T12:34:22.660Z"
   },
   {
    "duration": 65,
    "start_time": "2022-09-18T12:35:31.703Z"
   },
   {
    "duration": 14,
    "start_time": "2022-09-18T12:36:00.379Z"
   },
   {
    "duration": 151498,
    "start_time": "2022-09-18T12:36:01.872Z"
   },
   {
    "duration": 0,
    "start_time": "2022-09-18T12:38:33.373Z"
   },
   {
    "duration": 0,
    "start_time": "2022-09-18T12:38:33.374Z"
   },
   {
    "duration": 13,
    "start_time": "2022-09-18T12:38:37.185Z"
   },
   {
    "duration": 232449,
    "start_time": "2022-09-18T12:38:39.204Z"
   },
   {
    "duration": 91,
    "start_time": "2022-09-18T12:42:31.656Z"
   },
   {
    "duration": 111,
    "start_time": "2022-09-18T12:42:49.108Z"
   },
   {
    "duration": 4,
    "start_time": "2022-09-18T12:42:50.009Z"
   },
   {
    "duration": 4,
    "start_time": "2022-09-18T12:42:50.703Z"
   },
   {
    "duration": 15,
    "start_time": "2022-09-18T12:42:58.010Z"
   },
   {
    "duration": 3,
    "start_time": "2022-09-18T12:42:58.910Z"
   },
   {
    "duration": 4,
    "start_time": "2022-09-18T12:43:00.956Z"
   },
   {
    "duration": 1753,
    "start_time": "2022-09-18T12:43:02.748Z"
   },
   {
    "duration": 2055,
    "start_time": "2022-09-18T12:43:06.968Z"
   },
   {
    "duration": 1932,
    "start_time": "2022-09-18T12:43:21.817Z"
   },
   {
    "duration": 1892,
    "start_time": "2022-09-18T12:43:33.292Z"
   },
   {
    "duration": 20,
    "start_time": "2022-09-18T12:45:02.020Z"
   },
   {
    "duration": 3,
    "start_time": "2022-09-18T12:45:06.338Z"
   },
   {
    "duration": 4,
    "start_time": "2022-09-18T12:45:06.861Z"
   },
   {
    "duration": 178223,
    "start_time": "2022-09-18T12:45:10.240Z"
   },
   {
    "duration": 0,
    "start_time": "2022-09-18T12:48:08.467Z"
   },
   {
    "duration": 5,
    "start_time": "2022-09-18T12:48:10.506Z"
   },
   {
    "duration": 12,
    "start_time": "2022-09-18T12:48:55.275Z"
   },
   {
    "duration": 3,
    "start_time": "2022-09-18T12:48:58.903Z"
   },
   {
    "duration": 4,
    "start_time": "2022-09-18T12:48:59.300Z"
   },
   {
    "duration": 15,
    "start_time": "2022-09-18T12:48:59.953Z"
   },
   {
    "duration": 4,
    "start_time": "2022-09-18T12:49:15.909Z"
   },
   {
    "duration": 12,
    "start_time": "2022-09-18T12:49:25.975Z"
   },
   {
    "duration": 2007,
    "start_time": "2022-09-18T12:50:35.504Z"
   },
   {
    "duration": 29,
    "start_time": "2022-09-18T12:50:37.514Z"
   },
   {
    "duration": 28,
    "start_time": "2022-09-18T12:50:37.544Z"
   },
   {
    "duration": 32,
    "start_time": "2022-09-18T12:50:37.574Z"
   },
   {
    "duration": 41,
    "start_time": "2022-09-18T12:50:37.609Z"
   },
   {
    "duration": 36,
    "start_time": "2022-09-18T12:50:37.655Z"
   },
   {
    "duration": 11,
    "start_time": "2022-09-18T12:50:37.693Z"
   },
   {
    "duration": 21,
    "start_time": "2022-09-18T12:50:37.706Z"
   },
   {
    "duration": 49,
    "start_time": "2022-09-18T12:50:37.729Z"
   },
   {
    "duration": 32,
    "start_time": "2022-09-18T12:50:37.779Z"
   },
   {
    "duration": 20,
    "start_time": "2022-09-18T12:50:37.813Z"
   },
   {
    "duration": 32,
    "start_time": "2022-09-18T12:50:37.834Z"
   },
   {
    "duration": 12,
    "start_time": "2022-09-18T12:50:37.868Z"
   },
   {
    "duration": 8,
    "start_time": "2022-09-18T12:50:37.883Z"
   },
   {
    "duration": 12,
    "start_time": "2022-09-18T12:50:37.892Z"
   },
   {
    "duration": 22,
    "start_time": "2022-09-18T12:50:37.906Z"
   },
   {
    "duration": 167,
    "start_time": "2022-09-18T12:50:37.930Z"
   },
   {
    "duration": 205,
    "start_time": "2022-09-18T12:50:38.099Z"
   },
   {
    "duration": 181,
    "start_time": "2022-09-18T12:50:38.306Z"
   },
   {
    "duration": 170,
    "start_time": "2022-09-18T12:50:38.489Z"
   },
   {
    "duration": 2,
    "start_time": "2022-09-18T12:50:38.661Z"
   },
   {
    "duration": 14,
    "start_time": "2022-09-18T12:50:38.666Z"
   },
   {
    "duration": 8,
    "start_time": "2022-09-18T12:50:38.682Z"
   },
   {
    "duration": 8,
    "start_time": "2022-09-18T12:50:38.692Z"
   },
   {
    "duration": 9,
    "start_time": "2022-09-18T12:50:38.702Z"
   },
   {
    "duration": 18,
    "start_time": "2022-09-18T12:50:38.713Z"
   },
   {
    "duration": 26,
    "start_time": "2022-09-18T12:50:38.733Z"
   },
   {
    "duration": 4,
    "start_time": "2022-09-18T12:50:38.761Z"
   },
   {
    "duration": 33,
    "start_time": "2022-09-18T12:50:38.767Z"
   },
   {
    "duration": 15,
    "start_time": "2022-09-18T12:50:38.802Z"
   },
   {
    "duration": 455,
    "start_time": "2022-09-18T12:50:38.818Z"
   },
   {
    "duration": 138,
    "start_time": "2022-09-18T12:50:39.275Z"
   },
   {
    "duration": 11,
    "start_time": "2022-09-18T12:50:39.415Z"
   },
   {
    "duration": 25,
    "start_time": "2022-09-18T12:50:39.428Z"
   },
   {
    "duration": 18,
    "start_time": "2022-09-18T12:50:39.454Z"
   },
   {
    "duration": 17,
    "start_time": "2022-09-18T12:50:39.474Z"
   },
   {
    "duration": 10,
    "start_time": "2022-09-18T12:50:39.492Z"
   },
   {
    "duration": 8,
    "start_time": "2022-09-18T12:50:39.504Z"
   },
   {
    "duration": 8,
    "start_time": "2022-09-18T12:50:39.514Z"
   },
   {
    "duration": 14,
    "start_time": "2022-09-18T12:50:39.523Z"
   },
   {
    "duration": 42,
    "start_time": "2022-09-18T12:50:39.542Z"
   },
   {
    "duration": 18,
    "start_time": "2022-09-18T12:50:39.586Z"
   },
   {
    "duration": 19,
    "start_time": "2022-09-18T12:50:39.606Z"
   },
   {
    "duration": 12,
    "start_time": "2022-09-18T12:50:39.626Z"
   },
   {
    "duration": 11,
    "start_time": "2022-09-18T12:50:39.640Z"
   },
   {
    "duration": 31,
    "start_time": "2022-09-18T12:50:39.652Z"
   },
   {
    "duration": 8,
    "start_time": "2022-09-18T12:50:39.685Z"
   },
   {
    "duration": 8,
    "start_time": "2022-09-18T12:50:39.695Z"
   },
   {
    "duration": 29,
    "start_time": "2022-09-18T12:50:39.705Z"
   },
   {
    "duration": 27,
    "start_time": "2022-09-18T12:50:39.735Z"
   },
   {
    "duration": 7,
    "start_time": "2022-09-18T12:50:39.766Z"
   },
   {
    "duration": 14,
    "start_time": "2022-09-18T12:50:39.774Z"
   },
   {
    "duration": 142,
    "start_time": "2022-09-18T12:50:39.790Z"
   },
   {
    "duration": 0,
    "start_time": "2022-09-18T12:50:39.934Z"
   },
   {
    "duration": 0,
    "start_time": "2022-09-18T12:50:39.935Z"
   },
   {
    "duration": 0,
    "start_time": "2022-09-18T12:50:39.936Z"
   },
   {
    "duration": 0,
    "start_time": "2022-09-18T12:50:39.937Z"
   },
   {
    "duration": 0,
    "start_time": "2022-09-18T12:50:39.946Z"
   },
   {
    "duration": 0,
    "start_time": "2022-09-18T12:50:39.947Z"
   },
   {
    "duration": 0,
    "start_time": "2022-09-18T12:50:39.948Z"
   },
   {
    "duration": 0,
    "start_time": "2022-09-18T12:50:39.949Z"
   },
   {
    "duration": 0,
    "start_time": "2022-09-18T12:50:39.954Z"
   },
   {
    "duration": 1,
    "start_time": "2022-09-18T12:50:39.954Z"
   },
   {
    "duration": 0,
    "start_time": "2022-09-18T12:50:39.955Z"
   },
   {
    "duration": 0,
    "start_time": "2022-09-18T12:50:39.956Z"
   },
   {
    "duration": 0,
    "start_time": "2022-09-18T12:50:39.957Z"
   },
   {
    "duration": 0,
    "start_time": "2022-09-18T12:50:39.958Z"
   },
   {
    "duration": 477156,
    "start_time": "2022-09-18T12:51:09.621Z"
   },
   {
    "duration": 137,
    "start_time": "2022-09-18T12:59:06.779Z"
   },
   {
    "duration": 138,
    "start_time": "2022-09-18T12:59:06.926Z"
   },
   {
    "duration": 4,
    "start_time": "2022-09-18T12:59:07.067Z"
   },
   {
    "duration": 10,
    "start_time": "2022-09-18T12:59:07.072Z"
   },
   {
    "duration": 17,
    "start_time": "2022-09-18T12:59:07.083Z"
   },
   {
    "duration": 8,
    "start_time": "2022-09-18T12:59:07.101Z"
   },
   {
    "duration": 12,
    "start_time": "2022-09-18T12:59:07.111Z"
   },
   {
    "duration": 1918,
    "start_time": "2022-09-18T12:59:07.125Z"
   },
   {
    "duration": 5,
    "start_time": "2022-09-18T12:59:09.049Z"
   },
   {
    "duration": 27,
    "start_time": "2022-09-18T12:59:09.056Z"
   },
   {
    "duration": 5,
    "start_time": "2022-09-18T12:59:09.084Z"
   },
   {
    "duration": 7,
    "start_time": "2022-09-18T12:59:09.091Z"
   },
   {
    "duration": 70167,
    "start_time": "2022-09-18T12:59:09.099Z"
   },
   {
    "duration": 0,
    "start_time": "2022-09-18T13:00:19.274Z"
   },
   {
    "duration": 0,
    "start_time": "2022-09-18T13:00:19.276Z"
   },
   {
    "duration": 0,
    "start_time": "2022-09-18T13:00:19.277Z"
   },
   {
    "duration": 0,
    "start_time": "2022-09-18T13:00:19.279Z"
   },
   {
    "duration": 0,
    "start_time": "2022-09-18T13:00:19.280Z"
   },
   {
    "duration": 20,
    "start_time": "2022-09-18T13:00:24.190Z"
   },
   {
    "duration": 6608,
    "start_time": "2022-09-18T13:00:25.767Z"
   },
   {
    "duration": 6,
    "start_time": "2022-09-18T13:00:32.377Z"
   },
   {
    "duration": 10,
    "start_time": "2022-09-18T13:00:36.690Z"
   },
   {
    "duration": 72060,
    "start_time": "2022-09-18T13:00:49.614Z"
   },
   {
    "duration": 12,
    "start_time": "2022-09-18T13:02:01.679Z"
   },
   {
    "duration": 19,
    "start_time": "2022-09-18T13:02:05.304Z"
   },
   {
    "duration": 10,
    "start_time": "2022-09-18T13:02:06.652Z"
   },
   {
    "duration": 3,
    "start_time": "2022-09-18T13:02:07.173Z"
   },
   {
    "duration": 12,
    "start_time": "2022-09-18T13:02:07.704Z"
   },
   {
    "duration": 4,
    "start_time": "2022-09-18T13:02:08.517Z"
   },
   {
    "duration": 6,
    "start_time": "2022-09-18T13:02:09.375Z"
   },
   {
    "duration": 2302,
    "start_time": "2022-09-18T13:02:10.206Z"
   },
   {
    "duration": 2323,
    "start_time": "2022-09-18T13:02:19.486Z"
   },
   {
    "duration": 2104,
    "start_time": "2022-09-18T13:02:28.519Z"
   },
   {
    "duration": 2103,
    "start_time": "2022-09-18T13:02:43.411Z"
   },
   {
    "duration": 2534,
    "start_time": "2022-09-18T13:02:55.873Z"
   },
   {
    "duration": 2347,
    "start_time": "2022-09-18T13:03:06.201Z"
   },
   {
    "duration": 2098,
    "start_time": "2022-09-18T13:03:19.487Z"
   },
   {
    "duration": 2173,
    "start_time": "2022-09-18T13:03:29.057Z"
   },
   {
    "duration": 2327,
    "start_time": "2022-09-18T13:03:33.829Z"
   },
   {
    "duration": 2161,
    "start_time": "2022-09-18T13:03:40.800Z"
   },
   {
    "duration": 2057,
    "start_time": "2022-09-18T13:03:46.874Z"
   },
   {
    "duration": 2068,
    "start_time": "2022-09-18T13:04:01.507Z"
   },
   {
    "duration": 13,
    "start_time": "2022-09-18T13:04:08.600Z"
   },
   {
    "duration": 3,
    "start_time": "2022-09-18T13:04:10.166Z"
   },
   {
    "duration": 4,
    "start_time": "2022-09-18T13:04:10.774Z"
   },
   {
    "duration": 654904,
    "start_time": "2022-09-18T13:04:12.772Z"
   },
   {
    "duration": 5,
    "start_time": "2022-09-18T13:15:18.389Z"
   },
   {
    "duration": 2057,
    "start_time": "2022-09-18T13:15:29.559Z"
   },
   {
    "duration": 1882,
    "start_time": "2022-09-18T13:15:42.798Z"
   },
   {
    "duration": 11,
    "start_time": "2022-09-18T13:17:04.863Z"
   },
   {
    "duration": 93789,
    "start_time": "2022-09-18T13:17:12.269Z"
   },
   {
    "duration": 14,
    "start_time": "2022-09-18T13:18:48.398Z"
   },
   {
    "duration": 41069,
    "start_time": "2022-09-18T13:18:58.788Z"
   },
   {
    "duration": 8,
    "start_time": "2022-09-18T13:19:42.808Z"
   },
   {
    "duration": 12,
    "start_time": "2022-09-18T13:20:01.683Z"
   },
   {
    "duration": 47572,
    "start_time": "2022-09-18T13:20:02.997Z"
   },
   {
    "duration": 9,
    "start_time": "2022-09-18T13:20:50.571Z"
   },
   {
    "duration": 2810,
    "start_time": "2022-09-18T13:21:08.619Z"
   },
   {
    "duration": 55,
    "start_time": "2022-09-18T13:21:11.439Z"
   },
   {
    "duration": 25,
    "start_time": "2022-09-18T13:21:11.497Z"
   },
   {
    "duration": 23,
    "start_time": "2022-09-18T13:21:11.530Z"
   },
   {
    "duration": 17,
    "start_time": "2022-09-18T13:21:11.557Z"
   },
   {
    "duration": 41,
    "start_time": "2022-09-18T13:21:11.576Z"
   },
   {
    "duration": 10,
    "start_time": "2022-09-18T13:21:11.619Z"
   },
   {
    "duration": 16,
    "start_time": "2022-09-18T13:21:11.631Z"
   },
   {
    "duration": 50,
    "start_time": "2022-09-18T13:21:11.650Z"
   },
   {
    "duration": 32,
    "start_time": "2022-09-18T13:21:11.703Z"
   },
   {
    "duration": 61,
    "start_time": "2022-09-18T13:21:11.738Z"
   },
   {
    "duration": 11,
    "start_time": "2022-09-18T13:21:11.801Z"
   },
   {
    "duration": 19,
    "start_time": "2022-09-18T13:21:11.815Z"
   },
   {
    "duration": 16,
    "start_time": "2022-09-18T13:21:11.837Z"
   },
   {
    "duration": 55,
    "start_time": "2022-09-18T13:21:11.855Z"
   },
   {
    "duration": 38,
    "start_time": "2022-09-18T13:21:11.913Z"
   },
   {
    "duration": 235,
    "start_time": "2022-09-18T13:21:11.954Z"
   },
   {
    "duration": 227,
    "start_time": "2022-09-18T13:21:12.192Z"
   },
   {
    "duration": 189,
    "start_time": "2022-09-18T13:21:12.421Z"
   },
   {
    "duration": 197,
    "start_time": "2022-09-18T13:21:12.612Z"
   },
   {
    "duration": 3,
    "start_time": "2022-09-18T13:21:12.811Z"
   },
   {
    "duration": 6,
    "start_time": "2022-09-18T13:21:12.816Z"
   },
   {
    "duration": 10,
    "start_time": "2022-09-18T13:21:12.823Z"
   },
   {
    "duration": 36,
    "start_time": "2022-09-18T13:21:12.834Z"
   },
   {
    "duration": 8,
    "start_time": "2022-09-18T13:21:12.872Z"
   },
   {
    "duration": 26,
    "start_time": "2022-09-18T13:21:12.882Z"
   },
   {
    "duration": 23,
    "start_time": "2022-09-18T13:21:12.910Z"
   },
   {
    "duration": 5,
    "start_time": "2022-09-18T13:21:12.935Z"
   },
   {
    "duration": 39,
    "start_time": "2022-09-18T13:21:12.942Z"
   },
   {
    "duration": 20,
    "start_time": "2022-09-18T13:21:12.983Z"
   },
   {
    "duration": 441,
    "start_time": "2022-09-18T13:21:13.005Z"
   },
   {
    "duration": 148,
    "start_time": "2022-09-18T13:21:13.450Z"
   },
   {
    "duration": 12,
    "start_time": "2022-09-18T13:21:13.600Z"
   },
   {
    "duration": 15,
    "start_time": "2022-09-18T13:21:13.613Z"
   },
   {
    "duration": 20,
    "start_time": "2022-09-18T13:21:13.630Z"
   },
   {
    "duration": 18,
    "start_time": "2022-09-18T13:21:13.652Z"
   },
   {
    "duration": 7,
    "start_time": "2022-09-18T13:21:13.672Z"
   },
   {
    "duration": 6,
    "start_time": "2022-09-18T13:21:13.680Z"
   },
   {
    "duration": 6,
    "start_time": "2022-09-18T13:21:13.688Z"
   },
   {
    "duration": 11,
    "start_time": "2022-09-18T13:21:13.696Z"
   },
   {
    "duration": 36,
    "start_time": "2022-09-18T13:21:13.712Z"
   },
   {
    "duration": 21,
    "start_time": "2022-09-18T13:21:13.753Z"
   },
   {
    "duration": 12,
    "start_time": "2022-09-18T13:21:13.776Z"
   },
   {
    "duration": 14,
    "start_time": "2022-09-18T13:21:13.789Z"
   },
   {
    "duration": 10,
    "start_time": "2022-09-18T13:21:13.805Z"
   },
   {
    "duration": 46,
    "start_time": "2022-09-18T13:21:13.817Z"
   },
   {
    "duration": 7,
    "start_time": "2022-09-18T13:21:13.865Z"
   },
   {
    "duration": 8,
    "start_time": "2022-09-18T13:21:13.874Z"
   },
   {
    "duration": 23,
    "start_time": "2022-09-18T13:21:13.884Z"
   },
   {
    "duration": 39,
    "start_time": "2022-09-18T13:21:13.908Z"
   },
   {
    "duration": 8,
    "start_time": "2022-09-18T13:21:13.950Z"
   },
   {
    "duration": 33,
    "start_time": "2022-09-18T13:21:13.960Z"
   },
   {
    "duration": 187355,
    "start_time": "2022-09-18T13:21:13.994Z"
   },
   {
    "duration": 39,
    "start_time": "2022-09-18T13:24:21.350Z"
   },
   {
    "duration": 52,
    "start_time": "2022-09-18T13:24:32.013Z"
   },
   {
    "duration": 12,
    "start_time": "2022-09-18T13:24:38.760Z"
   },
   {
    "duration": 175490,
    "start_time": "2022-09-18T13:24:39.962Z"
   },
   {
    "duration": 32,
    "start_time": "2022-09-18T13:27:35.454Z"
   },
   {
    "duration": 84,
    "start_time": "2022-09-18T13:27:35.491Z"
   },
   {
    "duration": 12394,
    "start_time": "2022-09-18T13:27:50.660Z"
   },
   {
    "duration": 5,
    "start_time": "2022-09-18T13:28:03.056Z"
   },
   {
    "duration": 29,
    "start_time": "2022-09-18T13:28:03.063Z"
   },
   {
    "duration": 9,
    "start_time": "2022-09-18T13:28:19.652Z"
   },
   {
    "duration": 1644,
    "start_time": "2022-09-18T13:28:20.809Z"
   },
   {
    "duration": 6,
    "start_time": "2022-09-18T13:28:22.456Z"
   },
   {
    "duration": 12,
    "start_time": "2022-09-18T13:28:24.297Z"
   },
   {
    "duration": 9,
    "start_time": "2022-09-18T13:28:49.654Z"
   },
   {
    "duration": 1864,
    "start_time": "2022-09-18T13:28:50.693Z"
   },
   {
    "duration": 5,
    "start_time": "2022-09-18T13:28:52.559Z"
   },
   {
    "duration": 10,
    "start_time": "2022-09-18T13:28:54.200Z"
   },
   {
    "duration": 12,
    "start_time": "2022-09-18T13:30:13.965Z"
   },
   {
    "duration": 1973,
    "start_time": "2022-09-18T13:30:15.296Z"
   },
   {
    "duration": 6,
    "start_time": "2022-09-18T13:30:17.785Z"
   },
   {
    "duration": 11,
    "start_time": "2022-09-18T13:30:19.199Z"
   },
   {
    "duration": 7,
    "start_time": "2022-09-18T13:30:45.766Z"
   },
   {
    "duration": 1660,
    "start_time": "2022-09-18T13:30:47.110Z"
   },
   {
    "duration": 6,
    "start_time": "2022-09-18T13:30:49.639Z"
   },
   {
    "duration": 10,
    "start_time": "2022-09-18T13:30:51.557Z"
   },
   {
    "duration": 10,
    "start_time": "2022-09-18T13:31:16.337Z"
   },
   {
    "duration": 1544,
    "start_time": "2022-09-18T13:31:17.522Z"
   },
   {
    "duration": 5,
    "start_time": "2022-09-18T13:31:20.045Z"
   },
   {
    "duration": 14,
    "start_time": "2022-09-18T13:31:21.853Z"
   },
   {
    "duration": 18,
    "start_time": "2022-09-18T13:31:36.349Z"
   },
   {
    "duration": 8823,
    "start_time": "2022-09-18T13:31:37.547Z"
   },
   {
    "duration": 6,
    "start_time": "2022-09-18T13:31:48.256Z"
   },
   {
    "duration": 10,
    "start_time": "2022-09-18T13:31:49.749Z"
   },
   {
    "duration": 13,
    "start_time": "2022-09-18T13:31:59.160Z"
   },
   {
    "duration": 22641,
    "start_time": "2022-09-18T13:32:00.406Z"
   },
   {
    "duration": 10,
    "start_time": "2022-09-18T13:32:23.049Z"
   },
   {
    "duration": 16,
    "start_time": "2022-09-18T13:32:24.505Z"
   },
   {
    "duration": 20,
    "start_time": "2022-09-18T13:32:40.567Z"
   },
   {
    "duration": 35162,
    "start_time": "2022-09-18T13:32:41.697Z"
   },
   {
    "duration": 9,
    "start_time": "2022-09-18T13:33:19.653Z"
   },
   {
    "duration": 15,
    "start_time": "2022-09-18T13:33:20.975Z"
   },
   {
    "duration": 5,
    "start_time": "2022-09-18T13:33:22.204Z"
   },
   {
    "duration": 16,
    "start_time": "2022-09-18T13:33:38.049Z"
   },
   {
    "duration": 36399,
    "start_time": "2022-09-18T13:33:39.452Z"
   },
   {
    "duration": 11,
    "start_time": "2022-09-18T13:34:18.495Z"
   },
   {
    "duration": 23,
    "start_time": "2022-09-18T13:34:23.087Z"
   },
   {
    "duration": 4,
    "start_time": "2022-09-18T13:34:23.958Z"
   },
   {
    "duration": 3,
    "start_time": "2022-09-18T13:34:24.560Z"
   },
   {
    "duration": 11,
    "start_time": "2022-09-18T13:34:25.058Z"
   },
   {
    "duration": 15,
    "start_time": "2022-09-18T13:34:49.268Z"
   },
   {
    "duration": 36090,
    "start_time": "2022-09-18T13:34:50.563Z"
   },
   {
    "duration": 11,
    "start_time": "2022-09-18T13:35:26.656Z"
   },
   {
    "duration": 19,
    "start_time": "2022-09-18T13:35:26.670Z"
   },
   {
    "duration": 124,
    "start_time": "2022-09-18T13:35:28.047Z"
   },
   {
    "duration": 10,
    "start_time": "2022-09-18T13:35:33.819Z"
   },
   {
    "duration": 21,
    "start_time": "2022-09-18T13:35:41.468Z"
   },
   {
    "duration": 144148,
    "start_time": "2022-09-18T13:35:43.316Z"
   },
   {
    "duration": 93,
    "start_time": "2022-09-18T13:38:07.466Z"
   },
   {
    "duration": 50,
    "start_time": "2022-09-18T13:38:07.562Z"
   },
   {
    "duration": 35845,
    "start_time": "2022-09-18T13:38:18.502Z"
   },
   {
    "duration": 9,
    "start_time": "2022-09-18T13:38:54.349Z"
   },
   {
    "duration": 18,
    "start_time": "2022-09-18T13:41:23.450Z"
   },
   {
    "duration": 76409,
    "start_time": "2022-09-18T13:41:25.451Z"
   },
   {
    "duration": 15,
    "start_time": "2022-09-18T13:42:41.862Z"
   },
   {
    "duration": 75,
    "start_time": "2022-09-18T13:42:41.879Z"
   },
   {
    "duration": 16,
    "start_time": "2022-09-18T13:43:01.059Z"
   },
   {
    "duration": 80711,
    "start_time": "2022-09-18T13:43:04.460Z"
   },
   {
    "duration": 16,
    "start_time": "2022-09-18T13:44:25.246Z"
   },
   {
    "duration": 27,
    "start_time": "2022-09-18T13:44:25.263Z"
   },
   {
    "duration": 270895,
    "start_time": "2022-09-18T13:44:45.859Z"
   },
   {
    "duration": 38,
    "start_time": "2022-09-18T13:49:16.756Z"
   },
   {
    "duration": 17,
    "start_time": "2022-09-18T13:49:38.401Z"
   },
   {
    "duration": 230007,
    "start_time": "2022-09-18T13:49:41.259Z"
   },
   {
    "duration": 108,
    "start_time": "2022-09-18T13:53:31.268Z"
   },
   {
    "duration": 84,
    "start_time": "2022-09-18T13:53:31.379Z"
   },
   {
    "duration": 19,
    "start_time": "2022-09-18T13:54:12.726Z"
   },
   {
    "duration": 232615,
    "start_time": "2022-09-18T13:54:14.850Z"
   },
   {
    "duration": 38,
    "start_time": "2022-09-18T13:58:10.969Z"
   },
   {
    "duration": 23,
    "start_time": "2022-09-18T13:58:36.411Z"
   },
   {
    "duration": 256576,
    "start_time": "2022-09-18T13:58:38.396Z"
   },
   {
    "duration": 46,
    "start_time": "2022-09-18T14:03:17.277Z"
   },
   {
    "duration": 17,
    "start_time": "2022-09-18T14:03:34.085Z"
   },
   {
    "duration": 283912,
    "start_time": "2022-09-18T14:03:35.852Z"
   },
   {
    "duration": 40,
    "start_time": "2022-09-18T14:10:06.762Z"
   },
   {
    "duration": 16,
    "start_time": "2022-09-18T14:10:26.103Z"
   },
   {
    "duration": 414200,
    "start_time": "2022-09-18T14:10:27.756Z"
   },
   {
    "duration": 41,
    "start_time": "2022-09-18T14:17:21.958Z"
   },
   {
    "duration": 17,
    "start_time": "2022-09-18T14:17:35.187Z"
   },
   {
    "duration": 10,
    "start_time": "2022-09-18T14:17:53.472Z"
   },
   {
    "duration": 411260,
    "start_time": "2022-09-18T14:17:58.012Z"
   },
   {
    "duration": 108,
    "start_time": "2022-09-18T14:24:49.274Z"
   },
   {
    "duration": 71,
    "start_time": "2022-09-18T14:29:23.649Z"
   },
   {
    "duration": 6,
    "start_time": "2022-09-18T14:29:28.248Z"
   },
   {
    "duration": 77211,
    "start_time": "2022-09-18T14:29:32.249Z"
   },
   {
    "duration": 0,
    "start_time": "2022-09-18T14:30:49.462Z"
   },
   {
    "duration": 0,
    "start_time": "2022-09-18T14:30:49.463Z"
   },
   {
    "duration": 0,
    "start_time": "2022-09-18T14:30:49.464Z"
   },
   {
    "duration": 0,
    "start_time": "2022-09-18T14:30:49.465Z"
   },
   {
    "duration": 0,
    "start_time": "2022-09-18T14:30:49.466Z"
   },
   {
    "duration": 225794,
    "start_time": "2022-09-18T14:31:00.261Z"
   },
   {
    "duration": 40,
    "start_time": "2022-09-18T14:34:46.057Z"
   },
   {
    "duration": 4,
    "start_time": "2022-09-18T14:39:06.492Z"
   },
   {
    "duration": 13,
    "start_time": "2022-09-18T14:39:48.284Z"
   },
   {
    "duration": 220944,
    "start_time": "2022-09-18T14:39:58.204Z"
   },
   {
    "duration": 8,
    "start_time": "2022-09-18T14:43:39.149Z"
   },
   {
    "duration": 1892,
    "start_time": "2022-09-18T14:49:54.679Z"
   },
   {
    "duration": 28,
    "start_time": "2022-09-18T14:49:56.573Z"
   },
   {
    "duration": 14,
    "start_time": "2022-09-18T14:49:56.603Z"
   },
   {
    "duration": 14,
    "start_time": "2022-09-18T14:49:56.618Z"
   },
   {
    "duration": 11,
    "start_time": "2022-09-18T14:49:56.634Z"
   },
   {
    "duration": 22,
    "start_time": "2022-09-18T14:49:56.647Z"
   },
   {
    "duration": 5,
    "start_time": "2022-09-18T14:49:56.671Z"
   },
   {
    "duration": 7,
    "start_time": "2022-09-18T14:49:56.677Z"
   },
   {
    "duration": 5,
    "start_time": "2022-09-18T14:49:56.685Z"
   },
   {
    "duration": 28,
    "start_time": "2022-09-18T14:49:56.692Z"
   },
   {
    "duration": 1753,
    "start_time": "2022-09-18T14:51:20.743Z"
   },
   {
    "duration": 26,
    "start_time": "2022-09-18T14:51:22.498Z"
   },
   {
    "duration": 14,
    "start_time": "2022-09-18T14:51:22.526Z"
   },
   {
    "duration": 14,
    "start_time": "2022-09-18T14:51:22.542Z"
   },
   {
    "duration": 14,
    "start_time": "2022-09-18T14:51:22.558Z"
   },
   {
    "duration": 22,
    "start_time": "2022-09-18T14:51:22.573Z"
   },
   {
    "duration": 5,
    "start_time": "2022-09-18T14:51:22.597Z"
   },
   {
    "duration": 12,
    "start_time": "2022-09-18T14:51:22.604Z"
   },
   {
    "duration": 13,
    "start_time": "2022-09-18T14:51:22.618Z"
   },
   {
    "duration": 50,
    "start_time": "2022-09-18T14:51:22.633Z"
   },
   {
    "duration": 1840,
    "start_time": "2022-09-18T14:52:16.188Z"
   },
   {
    "duration": 27,
    "start_time": "2022-09-18T14:52:18.030Z"
   },
   {
    "duration": 14,
    "start_time": "2022-09-18T14:52:18.059Z"
   },
   {
    "duration": 14,
    "start_time": "2022-09-18T14:52:18.074Z"
   },
   {
    "duration": 9,
    "start_time": "2022-09-18T14:52:18.090Z"
   },
   {
    "duration": 22,
    "start_time": "2022-09-18T14:52:18.101Z"
   },
   {
    "duration": 23,
    "start_time": "2022-09-18T14:52:18.124Z"
   },
   {
    "duration": 2,
    "start_time": "2022-09-18T14:52:18.148Z"
   },
   {
    "duration": 6,
    "start_time": "2022-09-18T14:52:18.152Z"
   },
   {
    "duration": 15,
    "start_time": "2022-09-18T14:52:18.160Z"
   },
   {
    "duration": 5,
    "start_time": "2022-09-18T14:52:53.947Z"
   },
   {
    "duration": 6,
    "start_time": "2022-09-18T14:52:54.562Z"
   },
   {
    "duration": 6,
    "start_time": "2022-09-18T14:53:02.518Z"
   },
   {
    "duration": 5,
    "start_time": "2022-09-18T14:53:14.347Z"
   },
   {
    "duration": 1722,
    "start_time": "2022-09-18T14:59:50.155Z"
   },
   {
    "duration": 27,
    "start_time": "2022-09-18T14:59:51.879Z"
   },
   {
    "duration": 13,
    "start_time": "2022-09-18T14:59:51.908Z"
   },
   {
    "duration": 20,
    "start_time": "2022-09-18T14:59:51.922Z"
   },
   {
    "duration": 12,
    "start_time": "2022-09-18T14:59:51.944Z"
   },
   {
    "duration": 21,
    "start_time": "2022-09-18T14:59:51.958Z"
   },
   {
    "duration": 2,
    "start_time": "2022-09-18T14:59:51.981Z"
   },
   {
    "duration": 10,
    "start_time": "2022-09-18T14:59:51.985Z"
   },
   {
    "duration": 11,
    "start_time": "2022-09-18T14:59:51.996Z"
   },
   {
    "duration": 11,
    "start_time": "2022-09-18T14:59:52.008Z"
   },
   {
    "duration": 22,
    "start_time": "2022-09-18T14:59:52.020Z"
   },
   {
    "duration": 4,
    "start_time": "2022-09-18T14:59:52.043Z"
   },
   {
    "duration": 13,
    "start_time": "2022-09-18T14:59:52.049Z"
   },
   {
    "duration": 4,
    "start_time": "2022-09-18T14:59:52.065Z"
   },
   {
    "duration": 13,
    "start_time": "2022-09-18T14:59:52.071Z"
   },
   {
    "duration": 22,
    "start_time": "2022-09-18T14:59:52.085Z"
   },
   {
    "duration": 9,
    "start_time": "2022-09-18T14:59:52.108Z"
   },
   {
    "duration": 7,
    "start_time": "2022-09-18T14:59:52.118Z"
   },
   {
    "duration": 127,
    "start_time": "2022-09-18T14:59:52.127Z"
   },
   {
    "duration": 141,
    "start_time": "2022-09-18T14:59:52.256Z"
   },
   {
    "duration": 143,
    "start_time": "2022-09-18T14:59:52.399Z"
   },
   {
    "duration": 138,
    "start_time": "2022-09-18T14:59:52.546Z"
   },
   {
    "duration": 2,
    "start_time": "2022-09-18T14:59:52.685Z"
   },
   {
    "duration": 12,
    "start_time": "2022-09-18T14:59:52.689Z"
   },
   {
    "duration": 17,
    "start_time": "2022-09-18T14:59:52.703Z"
   },
   {
    "duration": 6,
    "start_time": "2022-09-18T14:59:52.721Z"
   },
   {
    "duration": 12,
    "start_time": "2022-09-18T14:59:52.728Z"
   },
   {
    "duration": 15,
    "start_time": "2022-09-18T14:59:52.741Z"
   },
   {
    "duration": 14,
    "start_time": "2022-09-18T14:59:52.758Z"
   },
   {
    "duration": 7,
    "start_time": "2022-09-18T14:59:52.773Z"
   },
   {
    "duration": 16,
    "start_time": "2022-09-18T14:59:52.782Z"
   },
   {
    "duration": 11,
    "start_time": "2022-09-18T14:59:52.800Z"
   },
   {
    "duration": 371,
    "start_time": "2022-09-18T14:59:52.812Z"
   },
   {
    "duration": 126,
    "start_time": "2022-09-18T14:59:53.185Z"
   },
   {
    "duration": 10,
    "start_time": "2022-09-18T14:59:53.313Z"
   },
   {
    "duration": 23,
    "start_time": "2022-09-18T14:59:53.325Z"
   },
   {
    "duration": 142,
    "start_time": "2022-09-18T14:59:53.350Z"
   },
   {
    "duration": 0,
    "start_time": "2022-09-18T14:59:53.494Z"
   },
   {
    "duration": 0,
    "start_time": "2022-09-18T14:59:53.495Z"
   },
   {
    "duration": 0,
    "start_time": "2022-09-18T14:59:53.496Z"
   },
   {
    "duration": 0,
    "start_time": "2022-09-18T14:59:53.497Z"
   },
   {
    "duration": 0,
    "start_time": "2022-09-18T14:59:53.498Z"
   },
   {
    "duration": 0,
    "start_time": "2022-09-18T14:59:53.498Z"
   },
   {
    "duration": 0,
    "start_time": "2022-09-18T14:59:53.499Z"
   },
   {
    "duration": 0,
    "start_time": "2022-09-18T14:59:53.501Z"
   },
   {
    "duration": 0,
    "start_time": "2022-09-18T14:59:53.502Z"
   },
   {
    "duration": 0,
    "start_time": "2022-09-18T14:59:53.502Z"
   },
   {
    "duration": 0,
    "start_time": "2022-09-18T14:59:53.503Z"
   },
   {
    "duration": 0,
    "start_time": "2022-09-18T14:59:53.504Z"
   },
   {
    "duration": 0,
    "start_time": "2022-09-18T14:59:53.505Z"
   },
   {
    "duration": 0,
    "start_time": "2022-09-18T14:59:53.506Z"
   },
   {
    "duration": 0,
    "start_time": "2022-09-18T14:59:53.507Z"
   },
   {
    "duration": 0,
    "start_time": "2022-09-18T14:59:53.508Z"
   },
   {
    "duration": 0,
    "start_time": "2022-09-18T14:59:53.509Z"
   },
   {
    "duration": 0,
    "start_time": "2022-09-18T14:59:53.510Z"
   },
   {
    "duration": 0,
    "start_time": "2022-09-18T14:59:53.511Z"
   },
   {
    "duration": 0,
    "start_time": "2022-09-18T14:59:53.512Z"
   },
   {
    "duration": 0,
    "start_time": "2022-09-18T14:59:53.513Z"
   },
   {
    "duration": 6,
    "start_time": "2022-09-18T15:00:28.259Z"
   },
   {
    "duration": 4,
    "start_time": "2022-09-18T15:00:31.243Z"
   },
   {
    "duration": 3,
    "start_time": "2022-09-18T15:00:31.864Z"
   },
   {
    "duration": 4,
    "start_time": "2022-09-18T15:00:32.379Z"
   },
   {
    "duration": 4,
    "start_time": "2022-09-18T15:00:32.885Z"
   },
   {
    "duration": 7,
    "start_time": "2022-09-18T15:00:33.460Z"
   },
   {
    "duration": 16,
    "start_time": "2022-09-18T15:00:33.945Z"
   },
   {
    "duration": 15,
    "start_time": "2022-09-18T15:00:34.460Z"
   },
   {
    "duration": 12,
    "start_time": "2022-09-18T15:00:35.347Z"
   },
   {
    "duration": 10,
    "start_time": "2022-09-18T15:00:36.607Z"
   },
   {
    "duration": 10,
    "start_time": "2022-09-18T15:00:36.807Z"
   },
   {
    "duration": 10,
    "start_time": "2022-09-18T15:00:37.015Z"
   },
   {
    "duration": 5,
    "start_time": "2022-09-18T15:00:37.559Z"
   },
   {
    "duration": 6,
    "start_time": "2022-09-18T15:00:38.052Z"
   },
   {
    "duration": 16,
    "start_time": "2022-09-18T15:00:38.497Z"
   },
   {
    "duration": 16,
    "start_time": "2022-09-18T15:00:38.986Z"
   },
   {
    "duration": 4,
    "start_time": "2022-09-18T15:00:39.559Z"
   },
   {
    "duration": 18,
    "start_time": "2022-09-18T15:00:41.175Z"
   },
   {
    "duration": 227528,
    "start_time": "2022-09-18T15:00:42.843Z"
   },
   {
    "duration": 38,
    "start_time": "2022-09-18T15:04:30.447Z"
   },
   {
    "duration": 84,
    "start_time": "2022-09-18T15:04:30.488Z"
   },
   {
    "duration": 4,
    "start_time": "2022-09-18T15:04:30.573Z"
   },
   {
    "duration": 34,
    "start_time": "2022-09-18T15:04:30.579Z"
   },
   {
    "duration": 46,
    "start_time": "2022-09-18T15:04:30.614Z"
   },
   {
    "duration": 17,
    "start_time": "2022-09-18T15:12:55.696Z"
   },
   {
    "duration": 12,
    "start_time": "2022-09-18T15:13:14.648Z"
   },
   {
    "duration": 4,
    "start_time": "2022-09-18T15:13:30.339Z"
   },
   {
    "duration": 5,
    "start_time": "2022-09-18T15:13:34.040Z"
   },
   {
    "duration": 19,
    "start_time": "2022-09-18T15:14:08.347Z"
   },
   {
    "duration": 5,
    "start_time": "2022-09-18T15:14:15.282Z"
   },
   {
    "duration": 22,
    "start_time": "2022-09-18T15:14:18.507Z"
   },
   {
    "duration": 4,
    "start_time": "2022-09-18T15:15:22.910Z"
   },
   {
    "duration": 74300,
    "start_time": "2022-09-18T15:15:31.953Z"
   },
   {
    "duration": 717,
    "start_time": "2022-09-18T15:16:57.583Z"
   },
   {
    "duration": 11,
    "start_time": "2022-09-18T15:20:25.490Z"
   },
   {
    "duration": 33,
    "start_time": "2022-09-18T15:20:54.249Z"
   },
   {
    "duration": 4,
    "start_time": "2022-09-18T15:21:58.189Z"
   },
   {
    "duration": 5,
    "start_time": "2022-09-18T15:25:20.598Z"
   },
   {
    "duration": 8,
    "start_time": "2022-09-18T15:25:21.260Z"
   },
   {
    "duration": 74599,
    "start_time": "2022-09-18T15:25:22.354Z"
   },
   {
    "duration": 4,
    "start_time": "2022-09-18T15:27:39.740Z"
   },
   {
    "duration": 8,
    "start_time": "2022-09-18T15:27:40.646Z"
   },
   {
    "duration": 71925,
    "start_time": "2022-09-18T15:27:41.736Z"
   },
   {
    "duration": 6,
    "start_time": "2022-09-18T15:41:01.132Z"
   },
   {
    "duration": 8,
    "start_time": "2022-09-18T15:41:01.948Z"
   },
   {
    "duration": 12,
    "start_time": "2022-09-18T15:41:32.561Z"
   },
   {
    "duration": 5,
    "start_time": "2022-09-18T15:41:39.747Z"
   },
   {
    "duration": 11,
    "start_time": "2022-09-18T15:41:40.476Z"
   },
   {
    "duration": 7,
    "start_time": "2022-09-18T15:41:46.053Z"
   },
   {
    "duration": 7,
    "start_time": "2022-09-18T15:41:46.759Z"
   },
   {
    "duration": 14,
    "start_time": "2022-09-18T15:41:47.440Z"
   },
   {
    "duration": 5,
    "start_time": "2022-09-18T15:43:02.077Z"
   },
   {
    "duration": 9,
    "start_time": "2022-09-18T15:43:02.703Z"
   },
   {
    "duration": 15,
    "start_time": "2022-09-18T15:43:03.263Z"
   },
   {
    "duration": 11,
    "start_time": "2022-09-18T15:43:26.043Z"
   },
   {
    "duration": 7,
    "start_time": "2022-09-18T15:43:27.003Z"
   },
   {
    "duration": 11,
    "start_time": "2022-09-18T15:43:27.765Z"
   },
   {
    "duration": 5,
    "start_time": "2022-09-18T15:43:50.809Z"
   },
   {
    "duration": 6,
    "start_time": "2022-09-18T15:43:51.471Z"
   },
   {
    "duration": 38,
    "start_time": "2022-09-18T15:43:52.107Z"
   },
   {
    "duration": 5,
    "start_time": "2022-09-18T15:44:30.454Z"
   },
   {
    "duration": 7,
    "start_time": "2022-09-18T15:44:31.044Z"
   },
   {
    "duration": 30,
    "start_time": "2022-09-18T15:44:31.580Z"
   },
   {
    "duration": 5,
    "start_time": "2022-09-18T15:45:19.272Z"
   },
   {
    "duration": 6,
    "start_time": "2022-09-18T15:45:19.812Z"
   },
   {
    "duration": 38,
    "start_time": "2022-09-18T15:45:20.388Z"
   },
   {
    "duration": 6,
    "start_time": "2022-09-18T15:45:44.664Z"
   },
   {
    "duration": 6,
    "start_time": "2022-09-18T15:45:45.181Z"
   },
   {
    "duration": 30,
    "start_time": "2022-09-18T15:45:45.774Z"
   },
   {
    "duration": 6,
    "start_time": "2022-09-18T15:46:01.159Z"
   },
   {
    "duration": 6,
    "start_time": "2022-09-18T15:46:01.868Z"
   },
   {
    "duration": 34415,
    "start_time": "2022-09-18T15:46:02.452Z"
   },
   {
    "duration": 48478,
    "start_time": "2022-09-18T15:46:47.773Z"
   },
   {
    "duration": 16216,
    "start_time": "2022-09-18T15:47:54.848Z"
   },
   {
    "duration": 1934,
    "start_time": "2022-09-18T15:48:23.144Z"
   },
   {
    "duration": 28,
    "start_time": "2022-09-18T15:48:25.080Z"
   },
   {
    "duration": 15,
    "start_time": "2022-09-18T15:48:25.110Z"
   },
   {
    "duration": 15,
    "start_time": "2022-09-18T15:48:25.126Z"
   },
   {
    "duration": 14,
    "start_time": "2022-09-18T15:48:25.143Z"
   },
   {
    "duration": 24,
    "start_time": "2022-09-18T15:48:25.159Z"
   },
   {
    "duration": 3,
    "start_time": "2022-09-18T15:48:25.184Z"
   },
   {
    "duration": 11,
    "start_time": "2022-09-18T15:48:25.188Z"
   },
   {
    "duration": 5,
    "start_time": "2022-09-18T15:48:25.200Z"
   },
   {
    "duration": 13,
    "start_time": "2022-09-18T15:48:25.207Z"
   },
   {
    "duration": 30,
    "start_time": "2022-09-18T15:48:25.221Z"
   },
   {
    "duration": 5,
    "start_time": "2022-09-18T15:48:25.252Z"
   },
   {
    "duration": 9,
    "start_time": "2022-09-18T15:48:25.258Z"
   },
   {
    "duration": 6,
    "start_time": "2022-09-18T15:48:25.270Z"
   },
   {
    "duration": 13,
    "start_time": "2022-09-18T15:48:25.278Z"
   },
   {
    "duration": 13,
    "start_time": "2022-09-18T15:48:25.292Z"
   },
   {
    "duration": 9,
    "start_time": "2022-09-18T15:48:25.306Z"
   },
   {
    "duration": 7,
    "start_time": "2022-09-18T15:48:25.317Z"
   },
   {
    "duration": 164,
    "start_time": "2022-09-18T15:48:25.326Z"
   },
   {
    "duration": 156,
    "start_time": "2022-09-18T15:48:25.492Z"
   },
   {
    "duration": 154,
    "start_time": "2022-09-18T15:48:25.650Z"
   },
   {
    "duration": 144,
    "start_time": "2022-09-18T15:48:25.806Z"
   },
   {
    "duration": 3,
    "start_time": "2022-09-18T15:48:25.951Z"
   },
   {
    "duration": 12,
    "start_time": "2022-09-18T15:48:25.955Z"
   },
   {
    "duration": 15,
    "start_time": "2022-09-18T15:48:25.968Z"
   },
   {
    "duration": 4,
    "start_time": "2022-09-18T15:48:25.985Z"
   },
   {
    "duration": 14,
    "start_time": "2022-09-18T15:48:25.991Z"
   },
   {
    "duration": 14,
    "start_time": "2022-09-18T15:48:26.007Z"
   },
   {
    "duration": 14,
    "start_time": "2022-09-18T15:48:26.023Z"
   },
   {
    "duration": 14,
    "start_time": "2022-09-18T15:48:26.039Z"
   },
   {
    "duration": 21,
    "start_time": "2022-09-18T15:48:26.055Z"
   },
   {
    "duration": 15,
    "start_time": "2022-09-18T15:48:26.078Z"
   },
   {
    "duration": 458,
    "start_time": "2022-09-18T15:48:26.094Z"
   },
   {
    "duration": 133,
    "start_time": "2022-09-18T15:48:26.553Z"
   },
   {
    "duration": 10,
    "start_time": "2022-09-18T15:48:26.688Z"
   },
   {
    "duration": 14,
    "start_time": "2022-09-18T15:48:26.700Z"
   },
   {
    "duration": 9,
    "start_time": "2022-09-18T15:48:26.715Z"
   },
   {
    "duration": 20,
    "start_time": "2022-09-18T15:48:26.726Z"
   },
   {
    "duration": 11,
    "start_time": "2022-09-18T15:48:26.748Z"
   },
   {
    "duration": 7,
    "start_time": "2022-09-18T15:48:26.760Z"
   },
   {
    "duration": 6,
    "start_time": "2022-09-18T15:48:26.771Z"
   },
   {
    "duration": 13,
    "start_time": "2022-09-18T15:48:26.778Z"
   },
   {
    "duration": 17,
    "start_time": "2022-09-18T15:48:26.792Z"
   },
   {
    "duration": 20,
    "start_time": "2022-09-18T15:48:26.810Z"
   },
   {
    "duration": 30,
    "start_time": "2022-09-18T15:48:26.832Z"
   },
   {
    "duration": 18,
    "start_time": "2022-09-18T15:48:26.863Z"
   },
   {
    "duration": 11,
    "start_time": "2022-09-18T15:48:26.883Z"
   },
   {
    "duration": 20,
    "start_time": "2022-09-18T15:48:26.896Z"
   },
   {
    "duration": 7,
    "start_time": "2022-09-18T15:48:26.918Z"
   },
   {
    "duration": 7,
    "start_time": "2022-09-18T15:48:26.927Z"
   },
   {
    "duration": 21,
    "start_time": "2022-09-18T15:48:26.936Z"
   },
   {
    "duration": 16,
    "start_time": "2022-09-18T15:48:26.959Z"
   },
   {
    "duration": 8,
    "start_time": "2022-09-18T15:48:26.976Z"
   },
   {
    "duration": 7,
    "start_time": "2022-09-18T15:48:26.985Z"
   },
   {
    "duration": 8,
    "start_time": "2022-09-18T15:48:26.993Z"
   },
   {
    "duration": 29350,
    "start_time": "2022-09-18T15:48:27.003Z"
   },
   {
    "duration": 534,
    "start_time": "2022-09-18T15:48:56.355Z"
   },
   {
    "duration": 10420,
    "start_time": "2022-09-18T15:49:03.509Z"
   },
   {
    "duration": 1814,
    "start_time": "2022-09-18T15:49:52.983Z"
   },
   {
    "duration": 28,
    "start_time": "2022-09-18T15:49:54.798Z"
   },
   {
    "duration": 14,
    "start_time": "2022-09-18T15:49:54.827Z"
   },
   {
    "duration": 17,
    "start_time": "2022-09-18T15:49:54.843Z"
   },
   {
    "duration": 13,
    "start_time": "2022-09-18T15:49:54.862Z"
   },
   {
    "duration": 26,
    "start_time": "2022-09-18T15:49:54.876Z"
   },
   {
    "duration": 3,
    "start_time": "2022-09-18T15:49:54.903Z"
   },
   {
    "duration": 17,
    "start_time": "2022-09-18T15:49:54.908Z"
   },
   {
    "duration": 11,
    "start_time": "2022-09-18T15:49:54.927Z"
   },
   {
    "duration": 17,
    "start_time": "2022-09-18T15:49:54.948Z"
   },
   {
    "duration": 7,
    "start_time": "2022-09-18T15:49:54.966Z"
   },
   {
    "duration": 6,
    "start_time": "2022-09-18T15:49:54.974Z"
   },
   {
    "duration": 9,
    "start_time": "2022-09-18T15:49:54.981Z"
   },
   {
    "duration": 14,
    "start_time": "2022-09-18T15:49:54.992Z"
   },
   {
    "duration": 25,
    "start_time": "2022-09-18T15:49:55.007Z"
   },
   {
    "duration": 16,
    "start_time": "2022-09-18T15:49:55.034Z"
   },
   {
    "duration": 22,
    "start_time": "2022-09-18T15:49:55.052Z"
   },
   {
    "duration": 13,
    "start_time": "2022-09-18T15:49:55.075Z"
   },
   {
    "duration": 163,
    "start_time": "2022-09-18T15:49:55.089Z"
   },
   {
    "duration": 158,
    "start_time": "2022-09-18T15:49:55.253Z"
   },
   {
    "duration": 153,
    "start_time": "2022-09-18T15:49:55.413Z"
   },
   {
    "duration": 151,
    "start_time": "2022-09-18T15:49:55.568Z"
   },
   {
    "duration": 3,
    "start_time": "2022-09-18T15:49:55.721Z"
   },
   {
    "duration": 6,
    "start_time": "2022-09-18T15:49:55.726Z"
   },
   {
    "duration": 17,
    "start_time": "2022-09-18T15:49:55.733Z"
   },
   {
    "duration": 7,
    "start_time": "2022-09-18T15:49:55.752Z"
   },
   {
    "duration": 22,
    "start_time": "2022-09-18T15:49:55.760Z"
   },
   {
    "duration": 17,
    "start_time": "2022-09-18T15:49:55.787Z"
   },
   {
    "duration": 23,
    "start_time": "2022-09-18T15:49:55.806Z"
   },
   {
    "duration": 6,
    "start_time": "2022-09-18T15:49:55.831Z"
   },
   {
    "duration": 33,
    "start_time": "2022-09-18T15:49:55.839Z"
   },
   {
    "duration": 18,
    "start_time": "2022-09-18T15:49:55.874Z"
   },
   {
    "duration": 380,
    "start_time": "2022-09-18T15:49:55.893Z"
   },
   {
    "duration": 163,
    "start_time": "2022-09-18T15:49:56.275Z"
   },
   {
    "duration": 15,
    "start_time": "2022-09-18T15:49:56.439Z"
   },
   {
    "duration": 16,
    "start_time": "2022-09-18T15:49:56.456Z"
   },
   {
    "duration": 15,
    "start_time": "2022-09-18T15:49:56.474Z"
   },
   {
    "duration": 7,
    "start_time": "2022-09-18T15:49:56.491Z"
   },
   {
    "duration": 15,
    "start_time": "2022-09-18T15:49:56.500Z"
   },
   {
    "duration": 6,
    "start_time": "2022-09-18T15:49:56.517Z"
   },
   {
    "duration": 8,
    "start_time": "2022-09-18T15:49:56.524Z"
   },
   {
    "duration": 7,
    "start_time": "2022-09-18T15:49:56.534Z"
   },
   {
    "duration": 19,
    "start_time": "2022-09-18T15:49:56.543Z"
   },
   {
    "duration": 18,
    "start_time": "2022-09-18T15:49:56.564Z"
   },
   {
    "duration": 15,
    "start_time": "2022-09-18T15:49:56.583Z"
   },
   {
    "duration": 16,
    "start_time": "2022-09-18T15:49:56.599Z"
   },
   {
    "duration": 14,
    "start_time": "2022-09-18T15:49:56.616Z"
   },
   {
    "duration": 17,
    "start_time": "2022-09-18T15:49:56.631Z"
   },
   {
    "duration": 11,
    "start_time": "2022-09-18T15:49:56.649Z"
   },
   {
    "duration": 9,
    "start_time": "2022-09-18T15:49:56.661Z"
   },
   {
    "duration": 23,
    "start_time": "2022-09-18T15:49:56.671Z"
   },
   {
    "duration": 26,
    "start_time": "2022-09-18T15:49:56.695Z"
   },
   {
    "duration": 12,
    "start_time": "2022-09-18T15:49:56.723Z"
   },
   {
    "duration": 19,
    "start_time": "2022-09-18T15:49:56.736Z"
   },
   {
    "duration": 5,
    "start_time": "2022-09-18T15:50:00.279Z"
   },
   {
    "duration": 6,
    "start_time": "2022-09-18T15:50:01.008Z"
   },
   {
    "duration": 125,
    "start_time": "2022-09-18T15:50:04.057Z"
   },
   {
    "duration": 5,
    "start_time": "2022-09-18T15:51:34.695Z"
   },
   {
    "duration": 8,
    "start_time": "2022-09-18T15:51:35.378Z"
   },
   {
    "duration": 10,
    "start_time": "2022-09-18T15:51:36.075Z"
   },
   {
    "duration": 5,
    "start_time": "2022-09-18T15:52:12.492Z"
   },
   {
    "duration": 6,
    "start_time": "2022-09-18T15:52:13.101Z"
   },
   {
    "duration": 20132,
    "start_time": "2022-09-18T15:52:13.737Z"
   },
   {
    "duration": 2237,
    "start_time": "2022-09-18T15:52:41.674Z"
   },
   {
    "duration": 28,
    "start_time": "2022-09-18T15:52:43.913Z"
   },
   {
    "duration": 21,
    "start_time": "2022-09-18T15:52:43.942Z"
   },
   {
    "duration": 41,
    "start_time": "2022-09-18T15:52:43.966Z"
   },
   {
    "duration": 16,
    "start_time": "2022-09-18T15:52:44.009Z"
   },
   {
    "duration": 53,
    "start_time": "2022-09-18T15:52:44.026Z"
   },
   {
    "duration": 6,
    "start_time": "2022-09-18T15:52:44.084Z"
   },
   {
    "duration": 7,
    "start_time": "2022-09-18T15:52:44.091Z"
   },
   {
    "duration": 4,
    "start_time": "2022-09-18T15:52:44.100Z"
   },
   {
    "duration": 21,
    "start_time": "2022-09-18T15:52:44.106Z"
   },
   {
    "duration": 20,
    "start_time": "2022-09-18T15:52:44.128Z"
   },
   {
    "duration": 37,
    "start_time": "2022-09-18T15:52:44.150Z"
   },
   {
    "duration": 15,
    "start_time": "2022-09-18T15:52:44.189Z"
   },
   {
    "duration": 10,
    "start_time": "2022-09-18T15:52:44.208Z"
   },
   {
    "duration": 16,
    "start_time": "2022-09-18T15:52:44.220Z"
   },
   {
    "duration": 13,
    "start_time": "2022-09-18T15:52:44.238Z"
   },
   {
    "duration": 39,
    "start_time": "2022-09-18T15:52:44.253Z"
   },
   {
    "duration": 7,
    "start_time": "2022-09-18T15:52:44.294Z"
   },
   {
    "duration": 153,
    "start_time": "2022-09-18T15:52:44.303Z"
   },
   {
    "duration": 166,
    "start_time": "2022-09-18T15:52:44.458Z"
   },
   {
    "duration": 181,
    "start_time": "2022-09-18T15:52:44.626Z"
   },
   {
    "duration": 183,
    "start_time": "2022-09-18T15:52:44.809Z"
   },
   {
    "duration": 2,
    "start_time": "2022-09-18T15:52:44.995Z"
   },
   {
    "duration": 40,
    "start_time": "2022-09-18T15:52:44.999Z"
   },
   {
    "duration": 42,
    "start_time": "2022-09-18T15:52:45.041Z"
   },
   {
    "duration": 7,
    "start_time": "2022-09-18T15:52:45.085Z"
   },
   {
    "duration": 8,
    "start_time": "2022-09-18T15:52:45.093Z"
   },
   {
    "duration": 12,
    "start_time": "2022-09-18T15:52:45.103Z"
   },
   {
    "duration": 12,
    "start_time": "2022-09-18T15:52:45.117Z"
   },
   {
    "duration": 5,
    "start_time": "2022-09-18T15:52:45.130Z"
   },
   {
    "duration": 55,
    "start_time": "2022-09-18T15:52:45.137Z"
   },
   {
    "duration": 15,
    "start_time": "2022-09-18T15:52:45.194Z"
   },
   {
    "duration": 396,
    "start_time": "2022-09-18T15:52:45.211Z"
   },
   {
    "duration": 170,
    "start_time": "2022-09-18T15:52:45.608Z"
   },
   {
    "duration": 14,
    "start_time": "2022-09-18T15:52:45.781Z"
   },
   {
    "duration": 12,
    "start_time": "2022-09-18T15:52:45.797Z"
   },
   {
    "duration": 16,
    "start_time": "2022-09-18T15:52:45.810Z"
   },
   {
    "duration": 12,
    "start_time": "2022-09-18T15:52:45.828Z"
   },
   {
    "duration": 7,
    "start_time": "2022-09-18T15:52:45.842Z"
   },
   {
    "duration": 43,
    "start_time": "2022-09-18T15:52:45.850Z"
   },
   {
    "duration": 6,
    "start_time": "2022-09-18T15:52:45.897Z"
   },
   {
    "duration": 7,
    "start_time": "2022-09-18T15:52:45.906Z"
   },
   {
    "duration": 17,
    "start_time": "2022-09-18T15:52:45.915Z"
   },
   {
    "duration": 29,
    "start_time": "2022-09-18T15:52:45.933Z"
   },
   {
    "duration": 38,
    "start_time": "2022-09-18T15:52:45.965Z"
   },
   {
    "duration": 13,
    "start_time": "2022-09-18T15:52:46.005Z"
   },
   {
    "duration": 14,
    "start_time": "2022-09-18T15:52:46.019Z"
   },
   {
    "duration": 18,
    "start_time": "2022-09-18T15:52:46.035Z"
   },
   {
    "duration": 38,
    "start_time": "2022-09-18T15:52:46.054Z"
   },
   {
    "duration": 9,
    "start_time": "2022-09-18T15:52:46.093Z"
   },
   {
    "duration": 23,
    "start_time": "2022-09-18T15:52:46.103Z"
   },
   {
    "duration": 22,
    "start_time": "2022-09-18T15:52:46.127Z"
   },
   {
    "duration": 51,
    "start_time": "2022-09-18T15:52:46.150Z"
   },
   {
    "duration": 48,
    "start_time": "2022-09-18T15:52:46.203Z"
   },
   {
    "duration": 44,
    "start_time": "2022-09-18T15:52:46.252Z"
   },
   {
    "duration": 17245,
    "start_time": "2022-09-18T15:52:46.298Z"
   },
   {
    "duration": 6,
    "start_time": "2022-09-18T15:53:17.573Z"
   },
   {
    "duration": 6,
    "start_time": "2022-09-18T15:53:18.195Z"
   },
   {
    "duration": 55115,
    "start_time": "2022-09-18T15:53:18.844Z"
   },
   {
    "duration": 482,
    "start_time": "2022-09-18T15:54:21.544Z"
   },
   {
    "duration": 3,
    "start_time": "2022-09-18T15:54:36.487Z"
   },
   {
    "duration": 1904,
    "start_time": "2022-09-18T15:56:08.569Z"
   },
   {
    "duration": 27,
    "start_time": "2022-09-18T15:56:10.475Z"
   },
   {
    "duration": 15,
    "start_time": "2022-09-18T15:56:10.504Z"
   },
   {
    "duration": 16,
    "start_time": "2022-09-18T15:56:10.521Z"
   },
   {
    "duration": 13,
    "start_time": "2022-09-18T15:56:10.539Z"
   },
   {
    "duration": 33,
    "start_time": "2022-09-18T15:56:10.557Z"
   },
   {
    "duration": 4,
    "start_time": "2022-09-18T15:56:10.592Z"
   },
   {
    "duration": 11,
    "start_time": "2022-09-18T15:56:10.597Z"
   },
   {
    "duration": 7,
    "start_time": "2022-09-18T15:56:10.610Z"
   },
   {
    "duration": 8,
    "start_time": "2022-09-18T15:56:10.620Z"
   },
   {
    "duration": 1136,
    "start_time": "2022-09-18T15:56:10.630Z"
   },
   {
    "duration": 0,
    "start_time": "2022-09-18T15:56:11.770Z"
   },
   {
    "duration": 0,
    "start_time": "2022-09-18T15:56:11.771Z"
   },
   {
    "duration": 0,
    "start_time": "2022-09-18T15:56:11.772Z"
   },
   {
    "duration": 0,
    "start_time": "2022-09-18T15:56:11.773Z"
   },
   {
    "duration": 0,
    "start_time": "2022-09-18T15:56:11.774Z"
   },
   {
    "duration": 0,
    "start_time": "2022-09-18T15:56:11.775Z"
   },
   {
    "duration": 0,
    "start_time": "2022-09-18T15:56:11.776Z"
   },
   {
    "duration": 0,
    "start_time": "2022-09-18T15:56:11.777Z"
   },
   {
    "duration": 0,
    "start_time": "2022-09-18T15:56:11.778Z"
   },
   {
    "duration": 0,
    "start_time": "2022-09-18T15:56:11.779Z"
   },
   {
    "duration": 0,
    "start_time": "2022-09-18T15:56:11.780Z"
   },
   {
    "duration": 0,
    "start_time": "2022-09-18T15:56:11.782Z"
   },
   {
    "duration": 0,
    "start_time": "2022-09-18T15:56:11.783Z"
   },
   {
    "duration": 0,
    "start_time": "2022-09-18T15:56:11.785Z"
   },
   {
    "duration": 0,
    "start_time": "2022-09-18T15:56:11.786Z"
   },
   {
    "duration": 1,
    "start_time": "2022-09-18T15:56:11.787Z"
   },
   {
    "duration": 0,
    "start_time": "2022-09-18T15:56:11.789Z"
   },
   {
    "duration": 0,
    "start_time": "2022-09-18T15:56:11.791Z"
   },
   {
    "duration": 0,
    "start_time": "2022-09-18T15:56:11.792Z"
   },
   {
    "duration": 0,
    "start_time": "2022-09-18T15:56:11.793Z"
   },
   {
    "duration": 0,
    "start_time": "2022-09-18T15:56:11.795Z"
   },
   {
    "duration": 0,
    "start_time": "2022-09-18T15:56:11.797Z"
   },
   {
    "duration": 0,
    "start_time": "2022-09-18T15:56:11.800Z"
   },
   {
    "duration": 0,
    "start_time": "2022-09-18T15:56:11.801Z"
   },
   {
    "duration": 0,
    "start_time": "2022-09-18T15:56:11.803Z"
   },
   {
    "duration": 0,
    "start_time": "2022-09-18T15:56:11.804Z"
   },
   {
    "duration": 0,
    "start_time": "2022-09-18T15:56:11.848Z"
   },
   {
    "duration": 0,
    "start_time": "2022-09-18T15:56:11.849Z"
   },
   {
    "duration": 0,
    "start_time": "2022-09-18T15:56:11.857Z"
   },
   {
    "duration": 0,
    "start_time": "2022-09-18T15:56:11.858Z"
   },
   {
    "duration": 0,
    "start_time": "2022-09-18T15:56:11.858Z"
   },
   {
    "duration": 0,
    "start_time": "2022-09-18T15:56:11.859Z"
   },
   {
    "duration": 0,
    "start_time": "2022-09-18T15:56:11.863Z"
   },
   {
    "duration": 0,
    "start_time": "2022-09-18T15:56:11.864Z"
   },
   {
    "duration": 0,
    "start_time": "2022-09-18T15:56:11.865Z"
   },
   {
    "duration": 0,
    "start_time": "2022-09-18T15:56:11.866Z"
   },
   {
    "duration": 0,
    "start_time": "2022-09-18T15:56:11.867Z"
   },
   {
    "duration": 1,
    "start_time": "2022-09-18T15:56:11.868Z"
   },
   {
    "duration": 0,
    "start_time": "2022-09-18T15:56:11.870Z"
   },
   {
    "duration": 0,
    "start_time": "2022-09-18T15:56:11.871Z"
   },
   {
    "duration": 0,
    "start_time": "2022-09-18T15:56:11.872Z"
   },
   {
    "duration": 0,
    "start_time": "2022-09-18T15:56:11.873Z"
   },
   {
    "duration": 0,
    "start_time": "2022-09-18T15:56:11.874Z"
   },
   {
    "duration": 0,
    "start_time": "2022-09-18T15:56:11.875Z"
   },
   {
    "duration": 0,
    "start_time": "2022-09-18T15:56:11.876Z"
   },
   {
    "duration": 0,
    "start_time": "2022-09-18T15:56:11.877Z"
   },
   {
    "duration": 8,
    "start_time": "2022-09-18T15:58:17.304Z"
   },
   {
    "duration": 7,
    "start_time": "2022-09-18T15:58:18.171Z"
   },
   {
    "duration": 4,
    "start_time": "2022-09-18T15:58:19.010Z"
   },
   {
    "duration": 6,
    "start_time": "2022-09-18T15:58:22.111Z"
   },
   {
    "duration": 7,
    "start_time": "2022-09-18T15:58:26.201Z"
   },
   {
    "duration": 6,
    "start_time": "2022-09-18T15:58:27.176Z"
   },
   {
    "duration": 5,
    "start_time": "2022-09-18T15:58:30.895Z"
   },
   {
    "duration": 182,
    "start_time": "2022-09-18T15:58:33.684Z"
   },
   {
    "duration": 146,
    "start_time": "2022-09-18T15:58:35.678Z"
   },
   {
    "duration": 163,
    "start_time": "2022-09-18T15:58:36.715Z"
   },
   {
    "duration": 167,
    "start_time": "2022-09-18T15:58:37.254Z"
   },
   {
    "duration": 2,
    "start_time": "2022-09-18T15:58:39.185Z"
   },
   {
    "duration": 3,
    "start_time": "2022-09-18T15:58:40.304Z"
   },
   {
    "duration": 12,
    "start_time": "2022-09-18T15:58:41.244Z"
   },
   {
    "duration": 4,
    "start_time": "2022-09-18T15:58:41.468Z"
   },
   {
    "duration": 6,
    "start_time": "2022-09-18T15:58:41.687Z"
   },
   {
    "duration": 20,
    "start_time": "2022-09-18T15:58:41.983Z"
   },
   {
    "duration": 11,
    "start_time": "2022-09-18T15:58:42.569Z"
   },
   {
    "duration": 2,
    "start_time": "2022-09-18T15:58:43.880Z"
   },
   {
    "duration": 13,
    "start_time": "2022-09-18T15:58:44.472Z"
   },
   {
    "duration": 9,
    "start_time": "2022-09-18T15:58:47.473Z"
   },
   {
    "duration": 377,
    "start_time": "2022-09-18T15:58:48.044Z"
   },
   {
    "duration": 120,
    "start_time": "2022-09-18T15:58:52.072Z"
   },
   {
    "duration": 14,
    "start_time": "2022-09-18T15:58:56.039Z"
   },
   {
    "duration": 10,
    "start_time": "2022-09-18T15:58:56.787Z"
   },
   {
    "duration": 11,
    "start_time": "2022-09-18T15:58:57.453Z"
   },
   {
    "duration": 5,
    "start_time": "2022-09-18T15:58:58.096Z"
   },
   {
    "duration": 5,
    "start_time": "2022-09-18T15:58:58.315Z"
   },
   {
    "duration": 3,
    "start_time": "2022-09-18T15:58:58.663Z"
   },
   {
    "duration": 4,
    "start_time": "2022-09-18T15:58:58.935Z"
   },
   {
    "duration": 7,
    "start_time": "2022-09-18T15:58:59.169Z"
   },
   {
    "duration": 18,
    "start_time": "2022-09-18T15:58:59.433Z"
   },
   {
    "duration": 15,
    "start_time": "2022-09-18T15:58:59.682Z"
   },
   {
    "duration": 14,
    "start_time": "2022-09-18T15:58:59.949Z"
   },
   {
    "duration": 11,
    "start_time": "2022-09-18T15:59:00.408Z"
   },
   {
    "duration": 10,
    "start_time": "2022-09-18T15:59:00.684Z"
   },
   {
    "duration": 13,
    "start_time": "2022-09-18T15:59:00.941Z"
   },
   {
    "duration": 6,
    "start_time": "2022-09-18T15:59:01.198Z"
   },
   {
    "duration": 6,
    "start_time": "2022-09-18T15:59:01.594Z"
   },
   {
    "duration": 25,
    "start_time": "2022-09-18T15:59:02.038Z"
   },
   {
    "duration": 18,
    "start_time": "2022-09-18T15:59:02.505Z"
   },
   {
    "duration": 5,
    "start_time": "2022-09-18T15:59:03.072Z"
   },
   {
    "duration": 9,
    "start_time": "2022-09-18T15:59:04.544Z"
   },
   {
    "duration": 5,
    "start_time": "2022-09-18T15:59:05.181Z"
   },
   {
    "duration": 61300,
    "start_time": "2022-09-18T15:59:05.980Z"
   },
   {
    "duration": 603,
    "start_time": "2022-09-18T16:00:07.282Z"
   },
   {
    "duration": 3,
    "start_time": "2022-09-18T16:00:07.886Z"
   },
   {
    "duration": 16,
    "start_time": "2022-09-18T16:01:09.450Z"
   },
   {
    "duration": 6,
    "start_time": "2022-09-18T16:04:25.702Z"
   },
   {
    "duration": 52730,
    "start_time": "2022-09-18T16:04:27.054Z"
   },
   {
    "duration": 47975,
    "start_time": "2022-09-18T16:20:16.601Z"
   },
   {
    "duration": 6748,
    "start_time": "2022-09-18T16:21:36.915Z"
   },
   {
    "duration": 6,
    "start_time": "2022-09-18T16:21:45.478Z"
   },
   {
    "duration": 31458,
    "start_time": "2022-09-18T16:21:46.006Z"
   },
   {
    "duration": 12273,
    "start_time": "2022-09-18T16:22:19.687Z"
   },
   {
    "duration": 8905,
    "start_time": "2022-09-18T16:22:38.945Z"
   },
   {
    "duration": 4,
    "start_time": "2022-09-18T16:22:55.383Z"
   },
   {
    "duration": 11,
    "start_time": "2022-09-18T16:22:57.394Z"
   },
   {
    "duration": 3,
    "start_time": "2022-09-18T16:23:11.014Z"
   },
   {
    "duration": 5,
    "start_time": "2022-09-18T16:23:17.415Z"
   },
   {
    "duration": 4,
    "start_time": "2022-09-18T16:23:29.648Z"
   },
   {
    "duration": 4,
    "start_time": "2022-09-18T16:24:56.086Z"
   },
   {
    "duration": 12,
    "start_time": "2022-09-18T16:25:02.281Z"
   },
   {
    "duration": 4,
    "start_time": "2022-09-18T16:26:08.111Z"
   },
   {
    "duration": 3,
    "start_time": "2022-09-18T16:26:08.774Z"
   },
   {
    "duration": 1708,
    "start_time": "2022-09-18T16:26:09.495Z"
   },
   {
    "duration": 1885,
    "start_time": "2022-09-18T16:26:13.680Z"
   },
   {
    "duration": 11,
    "start_time": "2022-09-18T16:34:03.545Z"
   },
   {
    "duration": 1976,
    "start_time": "2022-09-18T16:34:04.380Z"
   },
   {
    "duration": 3,
    "start_time": "2022-09-18T16:36:32.833Z"
   },
   {
    "duration": 5,
    "start_time": "2022-09-18T16:54:23.853Z"
   },
   {
    "duration": 4,
    "start_time": "2022-09-18T16:54:24.379Z"
   },
   {
    "duration": 11,
    "start_time": "2022-09-18T16:54:25.500Z"
   },
   {
    "duration": 21,
    "start_time": "2022-09-18T16:55:25.633Z"
   },
   {
    "duration": 3608,
    "start_time": "2022-09-18T16:55:57.626Z"
   },
   {
    "duration": 147,
    "start_time": "2022-09-18T16:56:04.520Z"
   },
   {
    "duration": 4,
    "start_time": "2022-09-18T16:56:17.270Z"
   },
   {
    "duration": 18,
    "start_time": "2022-09-18T16:56:18.283Z"
   },
   {
    "duration": 5,
    "start_time": "2022-09-18T16:56:35.137Z"
   },
   {
    "duration": 11,
    "start_time": "2022-09-18T16:56:37.428Z"
   },
   {
    "duration": 5,
    "start_time": "2022-09-18T16:57:02.733Z"
   },
   {
    "duration": 12,
    "start_time": "2022-09-18T16:57:08.865Z"
   },
   {
    "duration": 70,
    "start_time": "2022-09-18T16:57:30.131Z"
   },
   {
    "duration": 6,
    "start_time": "2022-09-18T16:57:53.641Z"
   },
   {
    "duration": 66,
    "start_time": "2022-09-18T16:57:54.855Z"
   },
   {
    "duration": 6,
    "start_time": "2022-09-18T16:58:10.683Z"
   },
   {
    "duration": 740,
    "start_time": "2022-09-18T16:58:11.732Z"
   },
   {
    "duration": 6,
    "start_time": "2022-09-18T16:58:38.083Z"
   },
   {
    "duration": 121922,
    "start_time": "2022-09-18T16:58:44.094Z"
   },
   {
    "duration": 4,
    "start_time": "2022-09-18T17:00:46.017Z"
   },
   {
    "duration": 16,
    "start_time": "2022-09-18T17:01:05.057Z"
   },
   {
    "duration": 8,
    "start_time": "2022-09-18T17:01:27.892Z"
   },
   {
    "duration": 4,
    "start_time": "2022-09-18T17:02:36.266Z"
   },
   {
    "duration": 11885,
    "start_time": "2022-09-18T17:02:37.602Z"
   },
   {
    "duration": 4,
    "start_time": "2022-09-18T17:03:08.583Z"
   },
   {
    "duration": 8,
    "start_time": "2022-09-18T17:03:11.094Z"
   },
   {
    "duration": 5,
    "start_time": "2022-09-18T17:03:46.245Z"
   },
   {
    "duration": 31228,
    "start_time": "2022-09-18T17:03:47.479Z"
   },
   {
    "duration": 3,
    "start_time": "2022-09-18T17:04:18.709Z"
   },
   {
    "duration": 11,
    "start_time": "2022-09-18T17:04:18.713Z"
   },
   {
    "duration": 4,
    "start_time": "2022-09-18T17:04:43.286Z"
   },
   {
    "duration": 27997,
    "start_time": "2022-09-18T17:04:44.026Z"
   },
   {
    "duration": 5,
    "start_time": "2022-09-18T17:05:12.026Z"
   },
   {
    "duration": 4,
    "start_time": "2022-09-18T17:05:22.375Z"
   },
   {
    "duration": 10,
    "start_time": "2022-09-18T17:05:23.652Z"
   },
   {
    "duration": 7,
    "start_time": "2022-09-18T17:06:56.510Z"
   },
   {
    "duration": 172414,
    "start_time": "2022-09-18T17:06:57.650Z"
   },
   {
    "duration": 4,
    "start_time": "2022-09-18T17:09:50.066Z"
   },
   {
    "duration": 18,
    "start_time": "2022-09-18T17:09:50.072Z"
   },
   {
    "duration": 4,
    "start_time": "2022-09-18T17:10:55.741Z"
   },
   {
    "duration": 34521,
    "start_time": "2022-09-18T17:10:57.063Z"
   },
   {
    "duration": 4,
    "start_time": "2022-09-18T17:11:49.782Z"
   },
   {
    "duration": 7,
    "start_time": "2022-09-18T17:11:51.939Z"
   },
   {
    "duration": 4,
    "start_time": "2022-09-18T17:12:12.343Z"
   },
   {
    "duration": 133659,
    "start_time": "2022-09-18T17:12:13.395Z"
   },
   {
    "duration": 4,
    "start_time": "2022-09-18T17:14:27.056Z"
   },
   {
    "duration": 13,
    "start_time": "2022-09-18T17:14:27.062Z"
   },
   {
    "duration": 7,
    "start_time": "2022-09-18T17:14:36.080Z"
   },
   {
    "duration": 6,
    "start_time": "2022-09-18T17:14:47.280Z"
   },
   {
    "duration": 35,
    "start_time": "2022-09-18T17:14:49.646Z"
   },
   {
    "duration": 4,
    "start_time": "2022-09-18T17:19:05.477Z"
   },
   {
    "duration": 22,
    "start_time": "2022-09-18T17:19:06.655Z"
   },
   {
    "duration": 4,
    "start_time": "2022-09-18T17:20:16.680Z"
   },
   {
    "duration": 102107,
    "start_time": "2022-09-18T17:20:17.754Z"
   },
   {
    "duration": 5,
    "start_time": "2022-09-18T17:22:07.279Z"
   },
   {
    "duration": 7,
    "start_time": "2022-09-18T17:22:08.817Z"
   },
   {
    "duration": 5,
    "start_time": "2022-09-18T17:23:36.185Z"
   },
   {
    "duration": 107061,
    "start_time": "2022-09-18T17:23:37.495Z"
   },
   {
    "duration": 4,
    "start_time": "2022-09-18T17:25:24.558Z"
   },
   {
    "duration": 15,
    "start_time": "2022-09-18T17:25:24.564Z"
   },
   {
    "duration": 5,
    "start_time": "2022-09-18T17:26:38.299Z"
   },
   {
    "duration": 8,
    "start_time": "2022-09-18T17:26:39.606Z"
   },
   {
    "duration": 4,
    "start_time": "2022-09-18T17:27:22.191Z"
   },
   {
    "duration": 20018,
    "start_time": "2022-09-18T17:27:23.245Z"
   },
   {
    "duration": 4,
    "start_time": "2022-09-18T17:27:43.264Z"
   },
   {
    "duration": 29,
    "start_time": "2022-09-18T17:27:43.270Z"
   },
   {
    "duration": 6,
    "start_time": "2022-09-18T17:35:56.147Z"
   },
   {
    "duration": 4,
    "start_time": "2022-09-18T17:35:56.798Z"
   },
   {
    "duration": 14,
    "start_time": "2022-09-18T17:35:59.783Z"
   },
   {
    "duration": 3,
    "start_time": "2022-09-18T17:36:26.891Z"
   },
   {
    "duration": 19,
    "start_time": "2022-09-18T17:36:27.942Z"
   },
   {
    "duration": 3,
    "start_time": "2022-09-18T17:36:51.413Z"
   },
   {
    "duration": 18481,
    "start_time": "2022-09-18T17:36:52.646Z"
   },
   {
    "duration": 5,
    "start_time": "2022-09-18T17:37:11.146Z"
   },
   {
    "duration": 22,
    "start_time": "2022-09-18T17:37:11.153Z"
   },
   {
    "duration": 5,
    "start_time": "2022-09-18T17:39:45.177Z"
   },
   {
    "duration": 85123,
    "start_time": "2022-09-18T17:39:46.403Z"
   },
   {
    "duration": 18,
    "start_time": "2022-09-18T17:41:11.530Z"
   },
   {
    "duration": 12,
    "start_time": "2022-09-18T17:41:11.551Z"
   },
   {
    "duration": 4,
    "start_time": "2022-09-18T17:41:58.238Z"
   },
   {
    "duration": 62497,
    "start_time": "2022-09-18T17:41:59.364Z"
   },
   {
    "duration": 4,
    "start_time": "2022-09-18T17:43:01.866Z"
   },
   {
    "duration": 18,
    "start_time": "2022-09-18T17:43:01.872Z"
   },
   {
    "duration": 8,
    "start_time": "2022-09-18T17:44:16.281Z"
   },
   {
    "duration": 29873,
    "start_time": "2022-09-18T17:44:17.452Z"
   },
   {
    "duration": 4,
    "start_time": "2022-09-18T17:44:47.327Z"
   },
   {
    "duration": 33,
    "start_time": "2022-09-18T17:44:47.332Z"
   },
   {
    "duration": 19,
    "start_time": "2022-09-18T17:46:19.240Z"
   },
   {
    "duration": 4,
    "start_time": "2022-09-18T17:46:19.829Z"
   },
   {
    "duration": 14,
    "start_time": "2022-09-18T17:46:28.985Z"
   },
   {
    "duration": 4,
    "start_time": "2022-09-18T17:46:39.226Z"
   },
   {
    "duration": 4,
    "start_time": "2022-09-18T17:46:47.173Z"
   },
   {
    "duration": 25519,
    "start_time": "2022-09-18T17:46:48.384Z"
   },
   {
    "duration": 3,
    "start_time": "2022-09-18T17:47:13.905Z"
   },
   {
    "duration": 11,
    "start_time": "2022-09-18T17:47:13.909Z"
   },
   {
    "duration": 2621,
    "start_time": "2022-09-18T17:47:38.068Z"
   },
   {
    "duration": 1912,
    "start_time": "2022-09-18T17:47:40.691Z"
   },
   {
    "duration": 28,
    "start_time": "2022-09-18T17:47:42.605Z"
   },
   {
    "duration": 18,
    "start_time": "2022-09-18T17:47:42.635Z"
   },
   {
    "duration": 19,
    "start_time": "2022-09-18T17:47:42.656Z"
   },
   {
    "duration": 10,
    "start_time": "2022-09-18T17:47:42.677Z"
   },
   {
    "duration": 32,
    "start_time": "2022-09-18T17:47:42.688Z"
   },
   {
    "duration": 3,
    "start_time": "2022-09-18T17:47:42.722Z"
   },
   {
    "duration": 27,
    "start_time": "2022-09-18T17:47:42.726Z"
   },
   {
    "duration": 21,
    "start_time": "2022-09-18T17:47:42.758Z"
   },
   {
    "duration": 7,
    "start_time": "2022-09-18T17:47:42.781Z"
   },
   {
    "duration": 10,
    "start_time": "2022-09-18T17:47:42.790Z"
   },
   {
    "duration": 10,
    "start_time": "2022-09-18T17:47:42.802Z"
   },
   {
    "duration": 9,
    "start_time": "2022-09-18T17:47:42.814Z"
   },
   {
    "duration": 10,
    "start_time": "2022-09-18T17:47:42.824Z"
   },
   {
    "duration": 8,
    "start_time": "2022-09-18T17:47:42.835Z"
   },
   {
    "duration": 25,
    "start_time": "2022-09-18T17:47:42.844Z"
   },
   {
    "duration": 8,
    "start_time": "2022-09-18T17:47:42.871Z"
   },
   {
    "duration": 131,
    "start_time": "2022-09-18T17:47:42.880Z"
   },
   {
    "duration": 159,
    "start_time": "2022-09-18T17:47:43.013Z"
   },
   {
    "duration": 153,
    "start_time": "2022-09-18T17:47:43.174Z"
   },
   {
    "duration": 168,
    "start_time": "2022-09-18T17:47:43.329Z"
   },
   {
    "duration": 2,
    "start_time": "2022-09-18T17:47:43.499Z"
   },
   {
    "duration": 8,
    "start_time": "2022-09-18T17:47:43.503Z"
   },
   {
    "duration": 9,
    "start_time": "2022-09-18T17:47:43.513Z"
   },
   {
    "duration": 31,
    "start_time": "2022-09-18T17:47:43.524Z"
   },
   {
    "duration": 17,
    "start_time": "2022-09-18T17:47:43.562Z"
   },
   {
    "duration": 21,
    "start_time": "2022-09-18T17:47:43.585Z"
   },
   {
    "duration": 14,
    "start_time": "2022-09-18T17:47:43.608Z"
   },
   {
    "duration": 9,
    "start_time": "2022-09-18T17:47:43.624Z"
   },
   {
    "duration": 27,
    "start_time": "2022-09-18T17:47:43.634Z"
   },
   {
    "duration": 18,
    "start_time": "2022-09-18T17:47:43.663Z"
   },
   {
    "duration": 371,
    "start_time": "2022-09-18T17:47:43.682Z"
   },
   {
    "duration": 139,
    "start_time": "2022-09-18T17:47:44.059Z"
   },
   {
    "duration": 11,
    "start_time": "2022-09-18T17:47:44.199Z"
   },
   {
    "duration": 18,
    "start_time": "2022-09-18T17:47:44.212Z"
   },
   {
    "duration": 31,
    "start_time": "2022-09-18T17:47:44.232Z"
   },
   {
    "duration": 8,
    "start_time": "2022-09-18T17:47:44.265Z"
   },
   {
    "duration": 10,
    "start_time": "2022-09-18T17:47:44.274Z"
   },
   {
    "duration": 13,
    "start_time": "2022-09-18T17:47:44.285Z"
   },
   {
    "duration": 9,
    "start_time": "2022-09-18T17:47:44.300Z"
   },
   {
    "duration": 8,
    "start_time": "2022-09-18T17:47:44.311Z"
   },
   {
    "duration": 15,
    "start_time": "2022-09-18T17:47:44.320Z"
   },
   {
    "duration": 31,
    "start_time": "2022-09-18T17:47:44.337Z"
   },
   {
    "duration": 22,
    "start_time": "2022-09-18T17:47:44.370Z"
   },
   {
    "duration": 17,
    "start_time": "2022-09-18T17:47:44.393Z"
   },
   {
    "duration": 14,
    "start_time": "2022-09-18T17:47:44.411Z"
   },
   {
    "duration": 10,
    "start_time": "2022-09-18T17:47:44.426Z"
   },
   {
    "duration": 19,
    "start_time": "2022-09-18T17:47:44.438Z"
   },
   {
    "duration": 15,
    "start_time": "2022-09-18T17:47:44.459Z"
   },
   {
    "duration": 18,
    "start_time": "2022-09-18T17:47:44.476Z"
   },
   {
    "duration": 17,
    "start_time": "2022-09-18T17:47:44.495Z"
   },
   {
    "duration": 6,
    "start_time": "2022-09-18T17:47:44.513Z"
   },
   {
    "duration": 5,
    "start_time": "2022-09-18T17:47:44.520Z"
   },
   {
    "duration": 8,
    "start_time": "2022-09-18T17:47:44.527Z"
   },
   {
    "duration": 28935,
    "start_time": "2022-09-18T17:47:44.537Z"
   },
   {
    "duration": 420,
    "start_time": "2022-09-18T17:48:13.475Z"
   },
   {
    "duration": 3,
    "start_time": "2022-09-18T17:48:13.897Z"
   },
   {
    "duration": 17,
    "start_time": "2022-09-18T17:48:13.902Z"
   },
   {
    "duration": 2000,
    "start_time": "2022-09-18T17:48:13.921Z"
   },
   {
    "duration": 7,
    "start_time": "2022-09-18T17:48:15.922Z"
   },
   {
    "duration": 39,
    "start_time": "2022-09-18T17:48:15.931Z"
   },
   {
    "duration": 155,
    "start_time": "2022-09-18T17:48:15.973Z"
   },
   {
    "duration": 0,
    "start_time": "2022-09-18T17:48:16.129Z"
   },
   {
    "duration": 0,
    "start_time": "2022-09-18T17:48:16.130Z"
   },
   {
    "duration": 0,
    "start_time": "2022-09-18T17:48:16.132Z"
   },
   {
    "duration": 0,
    "start_time": "2022-09-18T17:48:16.134Z"
   },
   {
    "duration": 5,
    "start_time": "2022-09-18T17:49:07.103Z"
   },
   {
    "duration": 2074,
    "start_time": "2022-09-18T17:49:12.458Z"
   },
   {
    "duration": 4,
    "start_time": "2022-09-18T17:49:23.103Z"
   },
   {
    "duration": 12,
    "start_time": "2022-09-18T17:49:24.945Z"
   },
   {
    "duration": 40790,
    "start_time": "2022-09-18T17:49:27.057Z"
   },
   {
    "duration": 4,
    "start_time": "2022-09-18T17:50:07.850Z"
   },
   {
    "duration": 14,
    "start_time": "2022-09-18T17:50:07.857Z"
   },
   {
    "duration": 9,
    "start_time": "2022-09-18T17:52:09.605Z"
   },
   {
    "duration": 8,
    "start_time": "2022-09-18T17:52:30.392Z"
   },
   {
    "duration": 7,
    "start_time": "2022-09-18T17:53:25.611Z"
   },
   {
    "duration": 4,
    "start_time": "2022-09-18T17:53:25.851Z"
   },
   {
    "duration": 3,
    "start_time": "2022-09-18T17:54:26.710Z"
   },
   {
    "duration": 3,
    "start_time": "2022-09-18T17:54:27.291Z"
   },
   {
    "duration": 14,
    "start_time": "2022-09-18T17:56:38.619Z"
   },
   {
    "duration": 4,
    "start_time": "2022-09-18T17:57:30.189Z"
   },
   {
    "duration": 12,
    "start_time": "2022-09-18T17:57:43.155Z"
   },
   {
    "duration": 14,
    "start_time": "2022-09-18T17:58:49.153Z"
   },
   {
    "duration": 6,
    "start_time": "2022-09-18T17:59:03.049Z"
   },
   {
    "duration": 1930,
    "start_time": "2022-09-18T17:59:04.346Z"
   },
   {
    "duration": 6,
    "start_time": "2022-09-18T18:03:13.435Z"
   },
   {
    "duration": 6,
    "start_time": "2022-09-18T18:03:13.988Z"
   },
   {
    "duration": 10217,
    "start_time": "2022-09-18T18:03:14.642Z"
   },
   {
    "duration": 316,
    "start_time": "2022-09-18T18:03:24.861Z"
   },
   {
    "duration": 3,
    "start_time": "2022-09-18T18:03:25.179Z"
   },
   {
    "duration": 19,
    "start_time": "2022-09-18T18:03:25.184Z"
   },
   {
    "duration": 30251,
    "start_time": "2022-09-18T18:03:37.211Z"
   },
   {
    "duration": 422,
    "start_time": "2022-09-18T18:04:07.465Z"
   },
   {
    "duration": 3,
    "start_time": "2022-09-18T18:04:07.889Z"
   },
   {
    "duration": 7,
    "start_time": "2022-09-18T18:04:07.895Z"
   },
   {
    "duration": 4,
    "start_time": "2022-09-18T18:04:44.590Z"
   },
   {
    "duration": 3,
    "start_time": "2022-09-18T18:04:45.098Z"
   },
   {
    "duration": 4,
    "start_time": "2022-09-18T18:04:46.089Z"
   },
   {
    "duration": 4,
    "start_time": "2022-09-18T18:04:46.911Z"
   },
   {
    "duration": 2875,
    "start_time": "2022-09-18T18:04:48.389Z"
   },
   {
    "duration": 4,
    "start_time": "2022-09-18T18:04:53.845Z"
   },
   {
    "duration": 6,
    "start_time": "2022-09-18T18:04:56.043Z"
   },
   {
    "duration": 4,
    "start_time": "2022-09-18T18:04:57.406Z"
   },
   {
    "duration": 2492,
    "start_time": "2022-09-18T18:05:10.388Z"
   },
   {
    "duration": 1940,
    "start_time": "2022-09-18T18:05:12.882Z"
   },
   {
    "duration": 28,
    "start_time": "2022-09-18T18:05:14.824Z"
   },
   {
    "duration": 13,
    "start_time": "2022-09-18T18:05:14.853Z"
   },
   {
    "duration": 15,
    "start_time": "2022-09-18T18:05:14.868Z"
   },
   {
    "duration": 18,
    "start_time": "2022-09-18T18:05:14.885Z"
   },
   {
    "duration": 25,
    "start_time": "2022-09-18T18:05:14.905Z"
   },
   {
    "duration": 17,
    "start_time": "2022-09-18T18:05:14.931Z"
   },
   {
    "duration": 11,
    "start_time": "2022-09-18T18:05:14.950Z"
   },
   {
    "duration": 10,
    "start_time": "2022-09-18T18:05:14.962Z"
   },
   {
    "duration": 9,
    "start_time": "2022-09-18T18:05:14.974Z"
   },
   {
    "duration": 8,
    "start_time": "2022-09-18T18:05:14.984Z"
   },
   {
    "duration": 12,
    "start_time": "2022-09-18T18:05:14.994Z"
   },
   {
    "duration": 34,
    "start_time": "2022-09-18T18:05:15.010Z"
   },
   {
    "duration": 19,
    "start_time": "2022-09-18T18:05:15.046Z"
   },
   {
    "duration": 21,
    "start_time": "2022-09-18T18:05:15.066Z"
   },
   {
    "duration": 32,
    "start_time": "2022-09-18T18:05:15.088Z"
   },
   {
    "duration": 29,
    "start_time": "2022-09-18T18:05:15.122Z"
   },
   {
    "duration": 152,
    "start_time": "2022-09-18T18:05:15.153Z"
   },
   {
    "duration": 185,
    "start_time": "2022-09-18T18:05:15.307Z"
   },
   {
    "duration": 148,
    "start_time": "2022-09-18T18:05:15.494Z"
   },
   {
    "duration": 149,
    "start_time": "2022-09-18T18:05:15.647Z"
   },
   {
    "duration": 2,
    "start_time": "2022-09-18T18:05:15.798Z"
   },
   {
    "duration": 19,
    "start_time": "2022-09-18T18:05:15.802Z"
   },
   {
    "duration": 9,
    "start_time": "2022-09-18T18:05:15.822Z"
   },
   {
    "duration": 27,
    "start_time": "2022-09-18T18:05:15.833Z"
   },
   {
    "duration": 9,
    "start_time": "2022-09-18T18:05:15.861Z"
   },
   {
    "duration": 19,
    "start_time": "2022-09-18T18:05:15.871Z"
   },
   {
    "duration": 12,
    "start_time": "2022-09-18T18:05:15.892Z"
   },
   {
    "duration": 6,
    "start_time": "2022-09-18T18:05:15.905Z"
   },
   {
    "duration": 25,
    "start_time": "2022-09-18T18:05:15.912Z"
   },
   {
    "duration": 20,
    "start_time": "2022-09-18T18:05:15.939Z"
   },
   {
    "duration": 402,
    "start_time": "2022-09-18T18:05:15.961Z"
   },
   {
    "duration": 145,
    "start_time": "2022-09-18T18:05:16.365Z"
   },
   {
    "duration": 10,
    "start_time": "2022-09-18T18:05:16.512Z"
   },
   {
    "duration": 23,
    "start_time": "2022-09-18T18:05:16.524Z"
   },
   {
    "duration": 7,
    "start_time": "2022-09-18T18:05:16.549Z"
   },
   {
    "duration": 7,
    "start_time": "2022-09-18T18:05:16.558Z"
   },
   {
    "duration": 6,
    "start_time": "2022-09-18T18:05:16.567Z"
   },
   {
    "duration": 7,
    "start_time": "2022-09-18T18:05:16.574Z"
   },
   {
    "duration": 13,
    "start_time": "2022-09-18T18:05:16.585Z"
   },
   {
    "duration": 10,
    "start_time": "2022-09-18T18:05:16.599Z"
   },
   {
    "duration": 37,
    "start_time": "2022-09-18T18:05:16.611Z"
   },
   {
    "duration": 21,
    "start_time": "2022-09-18T18:05:16.649Z"
   },
   {
    "duration": 23,
    "start_time": "2022-09-18T18:05:16.672Z"
   },
   {
    "duration": 23,
    "start_time": "2022-09-18T18:05:16.697Z"
   },
   {
    "duration": 28,
    "start_time": "2022-09-18T18:05:16.722Z"
   },
   {
    "duration": 19,
    "start_time": "2022-09-18T18:05:16.752Z"
   },
   {
    "duration": 10,
    "start_time": "2022-09-18T18:05:16.773Z"
   },
   {
    "duration": 8,
    "start_time": "2022-09-18T18:05:16.784Z"
   },
   {
    "duration": 63,
    "start_time": "2022-09-18T18:05:16.793Z"
   },
   {
    "duration": 16,
    "start_time": "2022-09-18T18:05:16.858Z"
   },
   {
    "duration": 5,
    "start_time": "2022-09-18T18:05:16.876Z"
   },
   {
    "duration": 13,
    "start_time": "2022-09-18T18:05:16.883Z"
   },
   {
    "duration": 14,
    "start_time": "2022-09-18T18:05:16.897Z"
   },
   {
    "duration": 29852,
    "start_time": "2022-09-18T18:05:16.913Z"
   },
   {
    "duration": 450,
    "start_time": "2022-09-18T18:05:46.766Z"
   },
   {
    "duration": 3,
    "start_time": "2022-09-18T18:05:47.218Z"
   },
   {
    "duration": 9,
    "start_time": "2022-09-18T18:05:47.222Z"
   },
   {
    "duration": 17,
    "start_time": "2022-09-18T18:05:47.233Z"
   },
   {
    "duration": 1837,
    "start_time": "2022-09-18T18:05:47.251Z"
   },
   {
    "duration": 7,
    "start_time": "2022-09-18T18:05:49.090Z"
   },
   {
    "duration": 7,
    "start_time": "2022-09-18T18:05:49.099Z"
   },
   {
    "duration": 5,
    "start_time": "2022-09-18T18:05:49.107Z"
   },
   {
    "duration": 6,
    "start_time": "2022-09-18T18:05:49.114Z"
   },
   {
    "duration": 2887,
    "start_time": "2022-09-18T18:05:49.122Z"
   },
   {
    "duration": 4,
    "start_time": "2022-09-18T18:05:52.010Z"
   },
   {
    "duration": 10,
    "start_time": "2022-09-18T18:05:52.015Z"
   },
   {
    "duration": 22,
    "start_time": "2022-09-18T18:05:52.027Z"
   },
   {
    "duration": 6,
    "start_time": "2022-09-18T18:05:52.051Z"
   },
   {
    "duration": 1925,
    "start_time": "2022-09-18T18:05:52.059Z"
   },
   {
    "duration": 5,
    "start_time": "2022-09-18T18:06:12.090Z"
   },
   {
    "duration": 54993,
    "start_time": "2022-09-18T18:06:13.090Z"
   },
   {
    "duration": 4,
    "start_time": "2022-09-18T18:07:08.085Z"
   },
   {
    "duration": 10,
    "start_time": "2022-09-18T18:07:08.091Z"
   },
   {
    "duration": 7,
    "start_time": "2022-09-18T18:07:08.103Z"
   },
   {
    "duration": 1929,
    "start_time": "2022-09-18T18:07:44.003Z"
   },
   {
    "duration": 129,
    "start_time": "2022-09-18T18:09:22.657Z"
   },
   {
    "duration": 11,
    "start_time": "2022-09-18T18:09:39.990Z"
   },
   {
    "duration": 3,
    "start_time": "2022-09-18T18:10:13.364Z"
   },
   {
    "duration": 4,
    "start_time": "2022-09-18T18:10:13.941Z"
   },
   {
    "duration": 4,
    "start_time": "2022-09-18T18:10:30.472Z"
   },
   {
    "duration": 4,
    "start_time": "2022-09-18T18:10:59.901Z"
   },
   {
    "duration": 5,
    "start_time": "2022-09-18T18:11:28.807Z"
   },
   {
    "duration": 2717,
    "start_time": "2022-09-18T18:12:15.247Z"
   },
   {
    "duration": 1993,
    "start_time": "2022-09-18T18:12:17.967Z"
   },
   {
    "duration": 28,
    "start_time": "2022-09-18T18:12:19.962Z"
   },
   {
    "duration": 17,
    "start_time": "2022-09-18T18:12:19.991Z"
   },
   {
    "duration": 21,
    "start_time": "2022-09-18T18:12:20.011Z"
   },
   {
    "duration": 14,
    "start_time": "2022-09-18T18:12:20.034Z"
   },
   {
    "duration": 34,
    "start_time": "2022-09-18T18:12:20.049Z"
   },
   {
    "duration": 5,
    "start_time": "2022-09-18T18:12:20.085Z"
   },
   {
    "duration": 34,
    "start_time": "2022-09-18T18:12:20.092Z"
   },
   {
    "duration": 9,
    "start_time": "2022-09-18T18:12:20.128Z"
   },
   {
    "duration": 12,
    "start_time": "2022-09-18T18:12:20.139Z"
   },
   {
    "duration": 21,
    "start_time": "2022-09-18T18:12:20.153Z"
   },
   {
    "duration": 14,
    "start_time": "2022-09-18T18:12:20.177Z"
   },
   {
    "duration": 16,
    "start_time": "2022-09-18T18:12:20.194Z"
   },
   {
    "duration": 32,
    "start_time": "2022-09-18T18:12:20.212Z"
   },
   {
    "duration": 34,
    "start_time": "2022-09-18T18:12:20.245Z"
   },
   {
    "duration": 51,
    "start_time": "2022-09-18T18:12:20.280Z"
   },
   {
    "duration": 61,
    "start_time": "2022-09-18T18:12:20.333Z"
   },
   {
    "duration": 140,
    "start_time": "2022-09-18T18:12:20.396Z"
   },
   {
    "duration": 176,
    "start_time": "2022-09-18T18:12:20.538Z"
   },
   {
    "duration": 174,
    "start_time": "2022-09-18T18:12:20.716Z"
   },
   {
    "duration": 159,
    "start_time": "2022-09-18T18:12:20.892Z"
   },
   {
    "duration": 3,
    "start_time": "2022-09-18T18:12:21.053Z"
   },
   {
    "duration": 19,
    "start_time": "2022-09-18T18:12:21.058Z"
   },
   {
    "duration": 28,
    "start_time": "2022-09-18T18:12:21.079Z"
   },
   {
    "duration": 9,
    "start_time": "2022-09-18T18:12:21.110Z"
   },
   {
    "duration": 13,
    "start_time": "2022-09-18T18:12:21.121Z"
   },
   {
    "duration": 23,
    "start_time": "2022-09-18T18:12:21.136Z"
   },
   {
    "duration": 21,
    "start_time": "2022-09-18T18:12:21.161Z"
   },
   {
    "duration": 18,
    "start_time": "2022-09-18T18:12:21.184Z"
   },
   {
    "duration": 52,
    "start_time": "2022-09-18T18:12:21.204Z"
   },
   {
    "duration": 29,
    "start_time": "2022-09-18T18:12:21.258Z"
   },
   {
    "duration": 463,
    "start_time": "2022-09-18T18:12:21.288Z"
   },
   {
    "duration": 185,
    "start_time": "2022-09-18T18:12:21.754Z"
   },
   {
    "duration": 14,
    "start_time": "2022-09-18T18:12:21.941Z"
   },
   {
    "duration": 17,
    "start_time": "2022-09-18T18:12:21.957Z"
   },
   {
    "duration": 15,
    "start_time": "2022-09-18T18:12:21.976Z"
   },
   {
    "duration": 7,
    "start_time": "2022-09-18T18:12:21.993Z"
   },
   {
    "duration": 13,
    "start_time": "2022-09-18T18:12:22.003Z"
   },
   {
    "duration": 10,
    "start_time": "2022-09-18T18:12:22.018Z"
   },
   {
    "duration": 5,
    "start_time": "2022-09-18T18:12:22.046Z"
   },
   {
    "duration": 17,
    "start_time": "2022-09-18T18:12:22.052Z"
   },
   {
    "duration": 24,
    "start_time": "2022-09-18T18:12:22.071Z"
   },
   {
    "duration": 26,
    "start_time": "2022-09-18T18:12:22.097Z"
   },
   {
    "duration": 36,
    "start_time": "2022-09-18T18:12:22.125Z"
   },
   {
    "duration": 21,
    "start_time": "2022-09-18T18:12:22.164Z"
   },
   {
    "duration": 14,
    "start_time": "2022-09-18T18:12:22.187Z"
   },
   {
    "duration": 20,
    "start_time": "2022-09-18T18:12:22.203Z"
   },
   {
    "duration": 11,
    "start_time": "2022-09-18T18:12:22.225Z"
   },
   {
    "duration": 8,
    "start_time": "2022-09-18T18:12:22.247Z"
   },
   {
    "duration": 33,
    "start_time": "2022-09-18T18:12:22.257Z"
   },
   {
    "duration": 23,
    "start_time": "2022-09-18T18:12:22.292Z"
   },
   {
    "duration": 15,
    "start_time": "2022-09-18T18:12:22.316Z"
   },
   {
    "duration": 15,
    "start_time": "2022-09-18T18:12:22.333Z"
   },
   {
    "duration": 15,
    "start_time": "2022-09-18T18:12:22.350Z"
   },
   {
    "duration": 25604,
    "start_time": "2022-09-18T18:12:22.366Z"
   },
   {
    "duration": 409,
    "start_time": "2022-09-18T18:12:47.972Z"
   },
   {
    "duration": 3,
    "start_time": "2022-09-18T18:12:48.383Z"
   },
   {
    "duration": 9,
    "start_time": "2022-09-18T18:12:48.387Z"
   },
   {
    "duration": 8,
    "start_time": "2022-09-18T18:12:48.398Z"
   },
   {
    "duration": 1790,
    "start_time": "2022-09-18T18:12:48.408Z"
   },
   {
    "duration": 6,
    "start_time": "2022-09-18T18:12:50.200Z"
   },
   {
    "duration": 36,
    "start_time": "2022-09-18T18:12:50.207Z"
   },
   {
    "duration": 22,
    "start_time": "2022-09-18T18:12:50.244Z"
   },
   {
    "duration": 19,
    "start_time": "2022-09-18T18:12:50.268Z"
   },
   {
    "duration": 33790,
    "start_time": "2022-09-18T18:12:50.289Z"
   },
   {
    "duration": 4,
    "start_time": "2022-09-18T18:13:24.080Z"
   },
   {
    "duration": 9,
    "start_time": "2022-09-18T18:13:24.085Z"
   },
   {
    "duration": 7,
    "start_time": "2022-09-18T18:13:24.096Z"
   },
   {
    "duration": 10,
    "start_time": "2022-09-18T18:13:24.104Z"
   },
   {
    "duration": 2027,
    "start_time": "2022-09-18T18:13:24.115Z"
   },
   {
    "duration": 4,
    "start_time": "2022-09-18T18:13:26.144Z"
   },
   {
    "duration": 1944,
    "start_time": "2022-09-18T18:16:47.771Z"
   },
   {
    "duration": 126,
    "start_time": "2022-09-18T19:04:52.398Z"
   },
   {
    "duration": 517,
    "start_time": "2022-09-18T19:04:56.996Z"
   },
   {
    "duration": 0,
    "start_time": "2022-09-18T19:04:57.514Z"
   },
   {
    "duration": 4,
    "start_time": "2022-09-18T19:06:14.795Z"
   },
   {
    "duration": 7,
    "start_time": "2022-09-18T19:06:15.817Z"
   },
   {
    "duration": 10,
    "start_time": "2022-09-18T19:06:32.395Z"
   },
   {
    "duration": 9,
    "start_time": "2022-09-18T19:07:14.943Z"
   },
   {
    "duration": 18,
    "start_time": "2022-09-18T19:08:00.815Z"
   },
   {
    "duration": 9,
    "start_time": "2022-09-18T19:08:09.905Z"
   },
   {
    "duration": 4,
    "start_time": "2022-09-18T19:09:00.492Z"
   },
   {
    "duration": 10,
    "start_time": "2022-09-18T19:09:07.108Z"
   },
   {
    "duration": 7,
    "start_time": "2022-09-18T19:09:22.862Z"
   },
   {
    "duration": 130,
    "start_time": "2022-09-18T19:10:44.747Z"
   },
   {
    "duration": 7,
    "start_time": "2022-09-18T19:10:45.231Z"
   },
   {
    "duration": 4,
    "start_time": "2022-09-18T19:11:10.351Z"
   },
   {
    "duration": 4,
    "start_time": "2022-09-18T19:11:32.343Z"
   },
   {
    "duration": 4,
    "start_time": "2022-09-18T19:11:43.279Z"
   },
   {
    "duration": 7,
    "start_time": "2022-09-18T19:11:44.189Z"
   },
   {
    "duration": 48,
    "start_time": "2022-09-18T19:12:47.861Z"
   },
   {
    "duration": 4,
    "start_time": "2022-09-18T19:13:06.986Z"
   },
   {
    "duration": 7,
    "start_time": "2022-09-18T19:13:07.769Z"
   },
   {
    "duration": 107,
    "start_time": "2022-09-18T19:14:17.106Z"
   },
   {
    "duration": 4,
    "start_time": "2022-09-18T19:14:27.060Z"
   },
   {
    "duration": 7,
    "start_time": "2022-09-18T19:14:27.596Z"
   },
   {
    "duration": 125,
    "start_time": "2022-09-18T19:25:30.938Z"
   },
   {
    "duration": 8,
    "start_time": "2022-09-18T19:25:31.484Z"
   },
   {
    "duration": 4,
    "start_time": "2022-09-18T19:27:23.191Z"
   },
   {
    "duration": 8,
    "start_time": "2022-09-18T19:27:23.637Z"
   },
   {
    "duration": 4,
    "start_time": "2022-09-18T19:29:37.851Z"
   },
   {
    "duration": 3,
    "start_time": "2022-09-18T19:29:38.310Z"
   },
   {
    "duration": 41644,
    "start_time": "2022-09-18T19:29:40.634Z"
   },
   {
    "duration": 4,
    "start_time": "2022-09-18T19:30:22.280Z"
   },
   {
    "duration": 8,
    "start_time": "2022-09-18T19:30:22.285Z"
   },
   {
    "duration": 4,
    "start_time": "2022-09-18T19:30:22.295Z"
   },
   {
    "duration": 6,
    "start_time": "2022-09-18T19:30:29.848Z"
   },
   {
    "duration": 1793,
    "start_time": "2022-09-18T19:30:30.402Z"
   },
   {
    "duration": 3,
    "start_time": "2022-09-18T19:30:32.491Z"
   },
   {
    "duration": 4,
    "start_time": "2022-09-18T19:30:54.643Z"
   },
   {
    "duration": 32643,
    "start_time": "2022-09-18T19:30:55.647Z"
   },
   {
    "duration": 3,
    "start_time": "2022-09-18T19:31:28.291Z"
   },
   {
    "duration": 8,
    "start_time": "2022-09-18T19:31:28.296Z"
   },
   {
    "duration": 4,
    "start_time": "2022-09-18T19:31:28.306Z"
   },
   {
    "duration": 8,
    "start_time": "2022-09-18T19:31:35.628Z"
   },
   {
    "duration": 1814,
    "start_time": "2022-09-18T19:31:36.610Z"
   },
   {
    "duration": 4,
    "start_time": "2022-09-18T19:31:38.426Z"
   },
   {
    "duration": 4,
    "start_time": "2022-09-18T19:31:55.111Z"
   },
   {
    "duration": 15328,
    "start_time": "2022-09-18T19:31:56.051Z"
   },
   {
    "duration": 4,
    "start_time": "2022-09-18T19:32:11.381Z"
   },
   {
    "duration": 12,
    "start_time": "2022-09-18T19:32:11.388Z"
   },
   {
    "duration": 13,
    "start_time": "2022-09-18T19:32:11.403Z"
   },
   {
    "duration": 6,
    "start_time": "2022-09-18T19:32:19.726Z"
   },
   {
    "duration": 1868,
    "start_time": "2022-09-18T19:32:20.003Z"
   },
   {
    "duration": 4,
    "start_time": "2022-09-18T19:32:21.872Z"
   },
   {
    "duration": 3,
    "start_time": "2022-09-18T19:32:45.098Z"
   },
   {
    "duration": 17267,
    "start_time": "2022-09-18T19:32:46.055Z"
   },
   {
    "duration": 4,
    "start_time": "2022-09-18T19:33:03.323Z"
   },
   {
    "duration": 6,
    "start_time": "2022-09-18T19:33:03.347Z"
   },
   {
    "duration": 5,
    "start_time": "2022-09-18T19:33:03.354Z"
   },
   {
    "duration": 22,
    "start_time": "2022-09-18T19:33:03.361Z"
   },
   {
    "duration": 1936,
    "start_time": "2022-09-18T19:33:09.362Z"
   },
   {
    "duration": 4,
    "start_time": "2022-09-18T19:33:11.300Z"
   },
   {
    "duration": 5,
    "start_time": "2022-09-18T19:33:20.229Z"
   },
   {
    "duration": 24970,
    "start_time": "2022-09-18T19:33:20.909Z"
   },
   {
    "duration": 3,
    "start_time": "2022-09-18T19:33:45.881Z"
   },
   {
    "duration": 21,
    "start_time": "2022-09-18T19:33:45.885Z"
   },
   {
    "duration": 3,
    "start_time": "2022-09-18T19:33:50.862Z"
   },
   {
    "duration": 5,
    "start_time": "2022-09-18T19:33:52.591Z"
   },
   {
    "duration": 1840,
    "start_time": "2022-09-18T19:33:52.843Z"
   },
   {
    "duration": 4,
    "start_time": "2022-09-18T19:33:54.684Z"
   },
   {
    "duration": 4,
    "start_time": "2022-09-18T19:34:07.988Z"
   },
   {
    "duration": 30854,
    "start_time": "2022-09-18T19:34:08.792Z"
   },
   {
    "duration": 4,
    "start_time": "2022-09-18T19:34:39.648Z"
   },
   {
    "duration": 10,
    "start_time": "2022-09-18T19:34:39.653Z"
   },
   {
    "duration": 5,
    "start_time": "2022-09-18T19:34:41.456Z"
   },
   {
    "duration": 4,
    "start_time": "2022-09-18T19:34:50.796Z"
   },
   {
    "duration": 34841,
    "start_time": "2022-09-18T19:34:51.540Z"
   },
   {
    "duration": 4,
    "start_time": "2022-09-18T19:35:26.383Z"
   },
   {
    "duration": 9,
    "start_time": "2022-09-18T19:35:26.389Z"
   },
   {
    "duration": 5,
    "start_time": "2022-09-18T19:35:26.400Z"
   },
   {
    "duration": 8,
    "start_time": "2022-09-18T19:36:11.012Z"
   },
   {
    "duration": 1991,
    "start_time": "2022-09-18T19:36:11.663Z"
   },
   {
    "duration": 4,
    "start_time": "2022-09-18T19:36:13.656Z"
   },
   {
    "duration": 5,
    "start_time": "2022-09-18T19:36:26.299Z"
   },
   {
    "duration": 11,
    "start_time": "2022-09-18T19:36:26.897Z"
   },
   {
    "duration": 5,
    "start_time": "2022-09-18T19:36:44.330Z"
   },
   {
    "duration": 8,
    "start_time": "2022-09-18T19:36:44.806Z"
   },
   {
    "duration": 3653,
    "start_time": "2022-09-19T13:02:15.207Z"
   },
   {
    "duration": 2403,
    "start_time": "2022-09-19T13:02:18.863Z"
   },
   {
    "duration": 73,
    "start_time": "2022-09-19T13:02:21.268Z"
   },
   {
    "duration": 16,
    "start_time": "2022-09-19T13:02:21.343Z"
   },
   {
    "duration": 19,
    "start_time": "2022-09-19T13:02:21.361Z"
   },
   {
    "duration": 12,
    "start_time": "2022-09-19T13:02:21.382Z"
   },
   {
    "duration": 34,
    "start_time": "2022-09-19T13:02:21.396Z"
   },
   {
    "duration": 4,
    "start_time": "2022-09-19T13:02:21.431Z"
   },
   {
    "duration": 19,
    "start_time": "2022-09-19T13:02:21.437Z"
   },
   {
    "duration": 8,
    "start_time": "2022-09-19T13:02:21.459Z"
   },
   {
    "duration": 9,
    "start_time": "2022-09-19T13:02:21.469Z"
   },
   {
    "duration": 9,
    "start_time": "2022-09-19T13:02:21.480Z"
   },
   {
    "duration": 15,
    "start_time": "2022-09-19T13:02:21.491Z"
   },
   {
    "duration": 19,
    "start_time": "2022-09-19T13:02:21.508Z"
   },
   {
    "duration": 17,
    "start_time": "2022-09-19T13:02:21.529Z"
   },
   {
    "duration": 26,
    "start_time": "2022-09-19T13:02:21.548Z"
   },
   {
    "duration": 7,
    "start_time": "2022-09-19T13:02:21.576Z"
   },
   {
    "duration": 9,
    "start_time": "2022-09-19T13:02:21.585Z"
   },
   {
    "duration": 161,
    "start_time": "2022-09-19T13:02:21.595Z"
   },
   {
    "duration": 186,
    "start_time": "2022-09-19T13:02:21.758Z"
   },
   {
    "duration": 178,
    "start_time": "2022-09-19T13:02:21.945Z"
   },
   {
    "duration": 183,
    "start_time": "2022-09-19T13:02:22.126Z"
   },
   {
    "duration": 3,
    "start_time": "2022-09-19T13:02:22.311Z"
   },
   {
    "duration": 13,
    "start_time": "2022-09-19T13:02:22.315Z"
   },
   {
    "duration": 12,
    "start_time": "2022-09-19T13:02:22.329Z"
   },
   {
    "duration": 12,
    "start_time": "2022-09-19T13:02:22.342Z"
   },
   {
    "duration": 25,
    "start_time": "2022-09-19T13:02:22.356Z"
   },
   {
    "duration": 18,
    "start_time": "2022-09-19T13:02:22.385Z"
   },
   {
    "duration": 24,
    "start_time": "2022-09-19T13:02:22.404Z"
   },
   {
    "duration": 2,
    "start_time": "2022-09-19T13:02:22.430Z"
   },
   {
    "duration": 21,
    "start_time": "2022-09-19T13:02:22.434Z"
   },
   {
    "duration": 24,
    "start_time": "2022-09-19T13:02:22.458Z"
   },
   {
    "duration": 475,
    "start_time": "2022-09-19T13:02:22.484Z"
   },
   {
    "duration": 144,
    "start_time": "2022-09-19T13:02:22.960Z"
   },
   {
    "duration": 19,
    "start_time": "2022-09-19T13:02:23.105Z"
   },
   {
    "duration": 14,
    "start_time": "2022-09-19T13:02:23.127Z"
   },
   {
    "duration": 11,
    "start_time": "2022-09-19T13:02:23.142Z"
   },
   {
    "duration": 7,
    "start_time": "2022-09-19T13:02:23.155Z"
   },
   {
    "duration": 13,
    "start_time": "2022-09-19T13:02:23.164Z"
   },
   {
    "duration": 7,
    "start_time": "2022-09-19T13:02:23.178Z"
   },
   {
    "duration": 36,
    "start_time": "2022-09-19T13:02:23.187Z"
   },
   {
    "duration": 12,
    "start_time": "2022-09-19T13:02:23.225Z"
   },
   {
    "duration": 17,
    "start_time": "2022-09-19T13:02:23.239Z"
   },
   {
    "duration": 25,
    "start_time": "2022-09-19T13:02:23.258Z"
   },
   {
    "duration": 44,
    "start_time": "2022-09-19T13:02:23.285Z"
   },
   {
    "duration": 13,
    "start_time": "2022-09-19T13:02:23.331Z"
   },
   {
    "duration": 14,
    "start_time": "2022-09-19T13:02:23.345Z"
   },
   {
    "duration": 17,
    "start_time": "2022-09-19T13:02:23.361Z"
   },
   {
    "duration": 12,
    "start_time": "2022-09-19T13:02:23.380Z"
   },
   {
    "duration": 29,
    "start_time": "2022-09-19T13:02:23.394Z"
   },
   {
    "duration": 20,
    "start_time": "2022-09-19T13:02:23.425Z"
   },
   {
    "duration": 22,
    "start_time": "2022-09-19T13:02:23.447Z"
   },
   {
    "duration": 20,
    "start_time": "2022-09-19T13:02:23.471Z"
   },
   {
    "duration": 7,
    "start_time": "2022-09-19T13:02:23.492Z"
   },
   {
    "duration": 30,
    "start_time": "2022-09-19T13:02:23.501Z"
   },
   {
    "duration": 27696,
    "start_time": "2022-09-19T13:02:23.533Z"
   },
   {
    "duration": 431,
    "start_time": "2022-09-19T13:02:51.231Z"
   },
   {
    "duration": 4,
    "start_time": "2022-09-19T13:02:51.663Z"
   },
   {
    "duration": 9,
    "start_time": "2022-09-19T13:02:51.668Z"
   },
   {
    "duration": 10,
    "start_time": "2022-09-19T13:02:51.678Z"
   },
   {
    "duration": 2165,
    "start_time": "2022-09-19T13:02:51.691Z"
   },
   {
    "duration": 6,
    "start_time": "2022-09-19T13:02:53.858Z"
   },
   {
    "duration": 22,
    "start_time": "2022-09-19T13:02:53.866Z"
   },
   {
    "duration": 7,
    "start_time": "2022-09-19T13:02:53.890Z"
   },
   {
    "duration": 6,
    "start_time": "2022-09-19T13:02:53.899Z"
   },
   {
    "duration": 21877,
    "start_time": "2022-09-19T13:02:53.907Z"
   },
   {
    "duration": 4,
    "start_time": "2022-09-19T13:03:15.786Z"
   },
   {
    "duration": 31,
    "start_time": "2022-09-19T13:03:15.792Z"
   },
   {
    "duration": 24,
    "start_time": "2022-09-19T13:03:15.826Z"
   },
   {
    "duration": 58,
    "start_time": "2022-09-19T13:03:15.852Z"
   },
   {
    "duration": 2287,
    "start_time": "2022-09-19T13:03:15.912Z"
   },
   {
    "duration": 4,
    "start_time": "2022-09-19T13:03:18.202Z"
   },
   {
    "duration": 19,
    "start_time": "2022-09-19T13:03:18.207Z"
   },
   {
    "duration": 25,
    "start_time": "2022-09-19T13:03:18.228Z"
   },
   {
    "duration": 2147,
    "start_time": "2022-09-19T13:04:55.851Z"
   },
   {
    "duration": 7,
    "start_time": "2022-09-19T13:07:17.868Z"
   },
   {
    "duration": 11,
    "start_time": "2022-09-19T13:07:19.006Z"
   },
   {
    "duration": 7,
    "start_time": "2022-09-19T13:07:58.008Z"
   },
   {
    "duration": 10,
    "start_time": "2022-09-19T13:07:58.700Z"
   }
  ],
  "kernelspec": {
   "display_name": "Python 3 (ipykernel)",
   "language": "python",
   "name": "python3"
  },
  "language_info": {
   "codemirror_mode": {
    "name": "ipython",
    "version": 3
   },
   "file_extension": ".py",
   "mimetype": "text/x-python",
   "name": "python",
   "nbconvert_exporter": "python",
   "pygments_lexer": "ipython3",
   "version": "3.10.4"
  },
  "toc": {
   "base_numbering": 1,
   "nav_menu": {},
   "number_sections": false,
   "sideBar": true,
   "skip_h1_title": false,
   "title_cell": "Table of Contents",
   "title_sidebar": "Contents",
   "toc_cell": false,
   "toc_position": {
    "height": "calc(100% - 180px)",
    "left": "10px",
    "top": "150px",
    "width": "165px"
   },
   "toc_section_display": true,
   "toc_window_display": true
  },
  "varInspector": {
   "cols": {
    "lenName": 16,
    "lenType": 16,
    "lenVar": 40
   },
   "kernels_config": {
    "python": {
     "delete_cmd_postfix": "",
     "delete_cmd_prefix": "del ",
     "library": "var_list.py",
     "varRefreshCmd": "print(var_dic_list())"
    },
    "r": {
     "delete_cmd_postfix": ") ",
     "delete_cmd_prefix": "rm(",
     "library": "var_list.r",
     "varRefreshCmd": "cat(var_dic_list()) "
    }
   },
   "types_to_exclude": [
    "module",
    "function",
    "builtin_function_or_method",
    "instance",
    "_Feature"
   ],
   "window_display": false
  }
 },
 "nbformat": 4,
 "nbformat_minor": 5
}
