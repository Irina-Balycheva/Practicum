{
 "cells": [
  {
   "cell_type": "markdown",
   "metadata": {},
   "source": [
    "Привет, меня зовут Артем Хуршудов. Сегодня я проверю твой проект.\n",
    "<br> Дальнейшее общение будет происходить на \"ты\" если это не вызывает никаких проблем.\n",
    "<br> Желательно реагировать на каждый мой комментарий ('исправил', 'не понятно как исправить ошибку', ...)\n",
    "<br> Пожалуйста, не удаляй комментарии ревьюера, так как они повышают качество повторного ревью.\n",
    "\n",
    "Комментарии будут в <font color='green'>зеленой</font>, <font color='blue'>синей</font> или <font color='red'>красной</font> рамках:\n",
    "\n",
    "<div class=\"alert alert-block alert-success\">\n",
    "<b>Успех:</b> Если все сделано отлично\n",
    "</div>\n",
    "\n",
    "<div class=\"alert alert-block alert-info\">\n",
    "<b>Совет: </b> Если можно немного улучшить\n",
    "</div>\n",
    "\n",
    "<div class=\"alert alert-block alert-danger\">\n",
    "<b>Ошибка:</b> Если требуются исправления. Работа не может быть принята с красными комментариями.\n",
    "</div>\n",
    "\n",
    "-------------------\n",
    "\n",
    "Будет очень хорошо, если ты будешь помечать свои действия следующим образом:\n",
    "<div class=\"alert alert-block alert-warning\">\n",
    "<b>Комментарий студента:</b> ...\n",
    "</div>\n",
    "\n",
    "<div class=\"alert alert-block alert-warning\">\n",
    "<b>Изменения:</b> Были внесены следующие изменения ...\n",
    "</div>\n",
    "\n",
    "#### <font color='orange'>Полезные ссылки:</font>\n",
    "* Полезная лекция про временные ряды: https://www.youtube.com/watch?v=u433nrxdf5k .\n",
    "\n",
    "### <font color='orange'>Общее впечатление</font>\n",
    "* Большое спасибо за проделанную работу. Видно, что приложено много усилий.\n",
    "* Отлично, что ноутбук хорошо структурирован. Приятно проверять такие работы.\n",
    "* Над этим проектом нужно будет еще немного поработать. Однако, изменения не должны занять много времени.\n",
    "* В работе я оставил несколько советов. Буду рад, если ты учтешь их.\n",
    "* С радостью отвечу на твои вопросы, если они есть. Лучше всего их собрать в следующей ячейке. Жду новую версию проекта."
   ]
  },
  {
   "cell_type": "markdown",
   "metadata": {},
   "source": [
    "### <font color='orange'>Общее впечатление (ревью 2)</font>\n",
    "* Для удобства все новые комментарии обозначены фразой \"ревью 2\".\n",
    "* Удачи в доработке!"
   ]
  },
  {
   "cell_type": "markdown",
   "metadata": {},
   "source": [
    "### <font color='orange'>Общее впечатление (ревью 3)</font>\n",
    "* После исправлений проект улучшился и теперь он может быть зачтен.\n",
    "* Все новые комментарии обозначены фразой \"ревью 3\".\n",
    "* Удачи в дальнейшем обучении и следующих работах!"
   ]
  },
  {
   "cell_type": "markdown",
   "metadata": {
    "toc": true
   },
   "source": [
    "<h1>Содержание<span class=\"tocSkip\"></span></h1>\n",
    "<div class=\"toc\"><ul class=\"toc-item\"><li><ul class=\"toc-item\"><li><ul class=\"toc-item\"><li><span><a href=\"#Полезные-ссылки:\" data-toc-modified-id=\"Полезные-ссылки:-0.0.1\"><span class=\"toc-item-num\">0.0.1&nbsp;&nbsp;</span><font color=\"orange\">Полезные ссылки:</font></a></span></li></ul></li><li><span><a href=\"#Общее-впечатление\" data-toc-modified-id=\"Общее-впечатление-0.1\"><span class=\"toc-item-num\">0.1&nbsp;&nbsp;</span><font color=\"orange\">Общее впечатление</font></a></span></li><li><span><a href=\"#Общее-впечатление-(ревью-2)\" data-toc-modified-id=\"Общее-впечатление-(ревью-2)-0.2\"><span class=\"toc-item-num\">0.2&nbsp;&nbsp;</span><font color=\"orange\">Общее впечатление (ревью 2)</font></a></span></li><li><span><a href=\"#Общее-впечатление-(ревью-3)\" data-toc-modified-id=\"Общее-впечатление-(ревью-3)-0.3\"><span class=\"toc-item-num\">0.3&nbsp;&nbsp;</span><font color=\"orange\">Общее впечатление (ревью 3)</font></a></span></li></ul></li><li><span><a href=\"#Подготовка\" data-toc-modified-id=\"Подготовка-1\"><span class=\"toc-item-num\">1&nbsp;&nbsp;</span>Подготовка</a></span></li><li><span><a href=\"#Анализ\" data-toc-modified-id=\"Анализ-2\"><span class=\"toc-item-num\">2&nbsp;&nbsp;</span>Анализ</a></span><ul class=\"toc-item\"><li><span><a href=\"#Тесты-Дики-Фуллера-и-KPSS-на-стационарность-ряда\" data-toc-modified-id=\"Тесты-Дики-Фуллера-и-KPSS-на-стационарность-ряда-2.1\"><span class=\"toc-item-num\">2.1&nbsp;&nbsp;</span>Тесты Дики-Фуллера и KPSS на стационарность ряда</a></span></li><li><span><a href=\"#Типы-стационарности\" data-toc-modified-id=\"Типы-стационарности-2.2\"><span class=\"toc-item-num\">2.2&nbsp;&nbsp;</span>Типы стационарности</a></span></li><li><span><a href=\"#Преобразование-ряда-в-стационарный\" data-toc-modified-id=\"Преобразование-ряда-в-стационарный-2.3\"><span class=\"toc-item-num\">2.3&nbsp;&nbsp;</span>Преобразование ряда в стационарный</a></span></li></ul></li><li><span><a href=\"#Обучение\" data-toc-modified-id=\"Обучение-3\"><span class=\"toc-item-num\">3&nbsp;&nbsp;</span>Обучение</a></span><ul class=\"toc-item\"><li><span><a href=\"#LinearRegression\" data-toc-modified-id=\"LinearRegression-3.1\"><span class=\"toc-item-num\">3.1&nbsp;&nbsp;</span>LinearRegression</a></span></li><li><span><a href=\"#RandomForest\" data-toc-modified-id=\"RandomForest-3.2\"><span class=\"toc-item-num\">3.2&nbsp;&nbsp;</span>RandomForest</a></span></li><li><span><a href=\"#CatBoostRegressor\" data-toc-modified-id=\"CatBoostRegressor-3.3\"><span class=\"toc-item-num\">3.3&nbsp;&nbsp;</span>CatBoostRegressor</a></span></li></ul></li><li><span><a href=\"#Тестирование\" data-toc-modified-id=\"Тестирование-4\"><span class=\"toc-item-num\">4&nbsp;&nbsp;</span>Тестирование</a></span></li><li><span><a href=\"#Чек-лист-проверки\" data-toc-modified-id=\"Чек-лист-проверки-5\"><span class=\"toc-item-num\">5&nbsp;&nbsp;</span>Чек-лист проверки</a></span></li></ul></div>"
   ]
  },
  {
   "cell_type": "markdown",
   "metadata": {},
   "source": [
    "#  Прогнозирование заказов такси"
   ]
  },
  {
   "cell_type": "markdown",
   "metadata": {},
   "source": [
    "Компания «Чётенькое такси» собрала исторические данные о заказах такси в аэропортах. Чтобы привлекать больше водителей в период пиковой нагрузки, нужно спрогнозировать количество заказов такси на следующий час. Построим модель для такого предсказания.\n",
    "\n",
    "Значение метрики *RMSE* на тестовой выборке должно быть не больше 48.\n",
    "\n",
    "Вам нужно:\n",
    "\n",
    "1. Загрузить данные и выполнить их ресемплирование по одному часу.\n",
    "2. Проанализировать данные.\n",
    "3. Обучить разные модели с различными гиперпараметрами. Сделать тестовую выборку размером 10% от исходных данных.\n",
    "4. Проверить данные на тестовой выборке и сделать выводы.\n",
    "\n",
    "\n",
    "Данные лежат в файле `taxi.csv`. Количество заказов находится в столбце `num_orders` (от англ. *number of orders*, «число заказов»)."
   ]
  },
  {
   "cell_type": "code",
   "execution_count": 1,
   "metadata": {},
   "outputs": [
    {
     "name": "stdout",
     "output_type": "stream",
     "text": [
      "Requirement already satisfied: optuna in /opt/conda/lib/python3.9/site-packages (3.0.3)\n",
      "Requirement already satisfied: scipy<1.9.0,>=1.7.0 in /opt/conda/lib/python3.9/site-packages (from optuna) (1.8.1)\n",
      "Requirement already satisfied: tqdm in /opt/conda/lib/python3.9/site-packages (from optuna) (4.61.2)\n",
      "Requirement already satisfied: importlib-metadata<5.0.0 in /opt/conda/lib/python3.9/site-packages (from optuna) (4.6.1)\n",
      "Requirement already satisfied: sqlalchemy>=1.3.0 in /opt/conda/lib/python3.9/site-packages (from optuna) (1.4.20)\n",
      "Requirement already satisfied: PyYAML in /opt/conda/lib/python3.9/site-packages (from optuna) (6.0)\n",
      "Requirement already satisfied: numpy in /opt/conda/lib/python3.9/site-packages (from optuna) (1.21.1)\n",
      "Requirement already satisfied: packaging>=20.0 in /opt/conda/lib/python3.9/site-packages (from optuna) (21.3)\n",
      "Requirement already satisfied: cliff in /opt/conda/lib/python3.9/site-packages (from optuna) (4.0.0)\n",
      "Requirement already satisfied: alembic>=1.5.0 in /opt/conda/lib/python3.9/site-packages (from optuna) (1.6.5)\n",
      "Requirement already satisfied: cmaes>=0.8.2 in /opt/conda/lib/python3.9/site-packages (from optuna) (0.8.2)\n",
      "Requirement already satisfied: colorlog in /opt/conda/lib/python3.9/site-packages (from optuna) (6.7.0)\n",
      "Requirement already satisfied: Mako in /opt/conda/lib/python3.9/site-packages (from alembic>=1.5.0->optuna) (1.1.4)\n",
      "Requirement already satisfied: python-editor>=0.3 in /opt/conda/lib/python3.9/site-packages (from alembic>=1.5.0->optuna) (1.0.4)\n",
      "Requirement already satisfied: python-dateutil in /opt/conda/lib/python3.9/site-packages (from alembic>=1.5.0->optuna) (2.8.1)\n",
      "Requirement already satisfied: zipp>=0.5 in /opt/conda/lib/python3.9/site-packages (from importlib-metadata<5.0.0->optuna) (3.5.0)\n",
      "Requirement already satisfied: pyparsing!=3.0.5,>=2.0.2 in /opt/conda/lib/python3.9/site-packages (from packaging>=20.0->optuna) (2.4.7)\n",
      "Requirement already satisfied: greenlet!=0.4.17 in /opt/conda/lib/python3.9/site-packages (from sqlalchemy>=1.3.0->optuna) (1.1.0)\n",
      "Requirement already satisfied: PrettyTable>=0.7.2 in /opt/conda/lib/python3.9/site-packages (from cliff->optuna) (3.4.1)\n",
      "Requirement already satisfied: stevedore>=2.0.1 in /opt/conda/lib/python3.9/site-packages (from cliff->optuna) (4.0.1)\n",
      "Requirement already satisfied: autopage>=0.4.0 in /opt/conda/lib/python3.9/site-packages (from cliff->optuna) (0.5.1)\n",
      "Requirement already satisfied: cmd2>=1.0.0 in /opt/conda/lib/python3.9/site-packages (from cliff->optuna) (2.4.2)\n",
      "Requirement already satisfied: pyperclip>=1.6 in /opt/conda/lib/python3.9/site-packages (from cmd2>=1.0.0->cliff->optuna) (1.8.2)\n",
      "Requirement already satisfied: attrs>=16.3.0 in /opt/conda/lib/python3.9/site-packages (from cmd2>=1.0.0->cliff->optuna) (21.2.0)\n",
      "Requirement already satisfied: wcwidth>=0.1.7 in /opt/conda/lib/python3.9/site-packages (from cmd2>=1.0.0->cliff->optuna) (0.2.5)\n",
      "Requirement already satisfied: pbr!=2.1.0,>=2.0.0 in /opt/conda/lib/python3.9/site-packages (from stevedore>=2.0.1->cliff->optuna) (5.10.0)\n",
      "Requirement already satisfied: MarkupSafe>=0.9.2 in /opt/conda/lib/python3.9/site-packages (from Mako->alembic>=1.5.0->optuna) (2.1.1)\n",
      "Requirement already satisfied: six>=1.5 in /opt/conda/lib/python3.9/site-packages (from python-dateutil->alembic>=1.5.0->optuna) (1.16.0)\n"
     ]
    }
   ],
   "source": [
    "!pip install optuna"
   ]
  },
  {
   "cell_type": "code",
   "execution_count": 2,
   "metadata": {},
   "outputs": [],
   "source": [
    "import pandas as pd\n",
    "import numpy as np\n",
    "import statsmodels.formula.api as smf\n",
    "import statsmodels.tsa.api as smt\n",
    "import statsmodels.api as sm\n",
    "import scipy.stats as scs\n",
    "import optuna\n",
    "import warnings\n",
    "warnings.filterwarnings('ignore')\n",
    "from statsmodels.tsa.seasonal import seasonal_decompose\n",
    "from sklearn.model_selection import train_test_split\n",
    "from sklearn.linear_model import LinearRegression\n",
    "from sklearn.ensemble import RandomForestRegressor\n",
    "from catboost import CatBoostRegressor\n",
    "from sklearn.metrics import mean_squared_error\n",
    "import matplotlib.pyplot as plt\n",
    "from statsmodels.graphics.tsaplots import plot_acf, plot_pacf \n",
    "from statsmodels. tsa.stattools import adfuller\n",
    "from tqdm import tqdm\n",
    "from sklearn.model_selection import cross_val_score\n",
    "from scipy.optimize import minimize\n",
    "\n",
    "pd.set_option('display.max_rows', None)\n",
    "pd.set_option('display.max_columns', None)"
   ]
  },
  {
   "cell_type": "markdown",
   "metadata": {},
   "source": [
    "<div class=\"alert alert-block alert-info\">\n",
    "<b>Совет: </b> Желательно чтобы все импорты были собраны в первой ячейке ноутбука! Если у того, кто будет запускать твой ноутбук будут отсутствовать некоторые библиотеки, то он это увидит сразу, а не в процессе!\n",
    "</div>"
   ]
  },
  {
   "cell_type": "markdown",
   "metadata": {},
   "source": [
    "## Подготовка"
   ]
  },
  {
   "cell_type": "markdown",
   "metadata": {},
   "source": [
    "Откроем данные:"
   ]
  },
  {
   "cell_type": "code",
   "execution_count": 3,
   "metadata": {
    "scrolled": true
   },
   "outputs": [
    {
     "data": {
      "text/html": [
       "<div>\n",
       "<style scoped>\n",
       "    .dataframe tbody tr th:only-of-type {\n",
       "        vertical-align: middle;\n",
       "    }\n",
       "\n",
       "    .dataframe tbody tr th {\n",
       "        vertical-align: top;\n",
       "    }\n",
       "\n",
       "    .dataframe thead th {\n",
       "        text-align: right;\n",
       "    }\n",
       "</style>\n",
       "<table border=\"1\" class=\"dataframe\">\n",
       "  <thead>\n",
       "    <tr style=\"text-align: right;\">\n",
       "      <th></th>\n",
       "      <th>num_orders</th>\n",
       "    </tr>\n",
       "    <tr>\n",
       "      <th>datetime</th>\n",
       "      <th></th>\n",
       "    </tr>\n",
       "  </thead>\n",
       "  <tbody>\n",
       "    <tr>\n",
       "      <th>2018-03-01 00:00:00</th>\n",
       "      <td>9</td>\n",
       "    </tr>\n",
       "    <tr>\n",
       "      <th>2018-03-01 00:10:00</th>\n",
       "      <td>14</td>\n",
       "    </tr>\n",
       "    <tr>\n",
       "      <th>2018-03-01 00:20:00</th>\n",
       "      <td>28</td>\n",
       "    </tr>\n",
       "    <tr>\n",
       "      <th>2018-03-01 00:30:00</th>\n",
       "      <td>20</td>\n",
       "    </tr>\n",
       "    <tr>\n",
       "      <th>2018-03-01 00:40:00</th>\n",
       "      <td>32</td>\n",
       "    </tr>\n",
       "  </tbody>\n",
       "</table>\n",
       "</div>"
      ],
      "text/plain": [
       "                     num_orders\n",
       "datetime                       \n",
       "2018-03-01 00:00:00           9\n",
       "2018-03-01 00:10:00          14\n",
       "2018-03-01 00:20:00          28\n",
       "2018-03-01 00:30:00          20\n",
       "2018-03-01 00:40:00          32"
      ]
     },
     "execution_count": 3,
     "metadata": {},
     "output_type": "execute_result"
    }
   ],
   "source": [
    "df = pd.read_csv('/datasets/taxi.csv', index_col=[0], parse_dates=[0])\n",
    "df.head()"
   ]
  },
  {
   "cell_type": "code",
   "execution_count": 4,
   "metadata": {},
   "outputs": [
    {
     "name": "stdout",
     "output_type": "stream",
     "text": [
      "<class 'pandas.core.frame.DataFrame'>\n",
      "DatetimeIndex: 26496 entries, 2018-03-01 00:00:00 to 2018-08-31 23:50:00\n",
      "Data columns (total 1 columns):\n",
      " #   Column      Non-Null Count  Dtype\n",
      "---  ------      --------------  -----\n",
      " 0   num_orders  26496 non-null  int64\n",
      "dtypes: int64(1)\n",
      "memory usage: 414.0 KB\n"
     ]
    }
   ],
   "source": [
    "df.info()"
   ]
  },
  {
   "cell_type": "markdown",
   "metadata": {},
   "source": [
    "Выполним ресемплирование данных по одному часу:"
   ]
  },
  {
   "cell_type": "code",
   "execution_count": 5,
   "metadata": {},
   "outputs": [],
   "source": [
    "df = df.resample('1H').sum()"
   ]
  },
  {
   "cell_type": "code",
   "execution_count": 6,
   "metadata": {},
   "outputs": [
    {
     "data": {
      "text/html": [
       "<div>\n",
       "<style scoped>\n",
       "    .dataframe tbody tr th:only-of-type {\n",
       "        vertical-align: middle;\n",
       "    }\n",
       "\n",
       "    .dataframe tbody tr th {\n",
       "        vertical-align: top;\n",
       "    }\n",
       "\n",
       "    .dataframe thead th {\n",
       "        text-align: right;\n",
       "    }\n",
       "</style>\n",
       "<table border=\"1\" class=\"dataframe\">\n",
       "  <thead>\n",
       "    <tr style=\"text-align: right;\">\n",
       "      <th></th>\n",
       "      <th>num_orders</th>\n",
       "    </tr>\n",
       "    <tr>\n",
       "      <th>datetime</th>\n",
       "      <th></th>\n",
       "    </tr>\n",
       "  </thead>\n",
       "  <tbody>\n",
       "    <tr>\n",
       "      <th>2018-03-01 00:00:00</th>\n",
       "      <td>124</td>\n",
       "    </tr>\n",
       "    <tr>\n",
       "      <th>2018-03-01 01:00:00</th>\n",
       "      <td>85</td>\n",
       "    </tr>\n",
       "    <tr>\n",
       "      <th>2018-03-01 02:00:00</th>\n",
       "      <td>71</td>\n",
       "    </tr>\n",
       "    <tr>\n",
       "      <th>2018-03-01 03:00:00</th>\n",
       "      <td>66</td>\n",
       "    </tr>\n",
       "    <tr>\n",
       "      <th>2018-03-01 04:00:00</th>\n",
       "      <td>43</td>\n",
       "    </tr>\n",
       "  </tbody>\n",
       "</table>\n",
       "</div>"
      ],
      "text/plain": [
       "                     num_orders\n",
       "datetime                       \n",
       "2018-03-01 00:00:00         124\n",
       "2018-03-01 01:00:00          85\n",
       "2018-03-01 02:00:00          71\n",
       "2018-03-01 03:00:00          66\n",
       "2018-03-01 04:00:00          43"
      ]
     },
     "execution_count": 6,
     "metadata": {},
     "output_type": "execute_result"
    }
   ],
   "source": [
    "df.head()"
   ]
  },
  {
   "cell_type": "markdown",
   "metadata": {},
   "source": [
    "Посмотрим наличие пропусков:"
   ]
  },
  {
   "cell_type": "code",
   "execution_count": 7,
   "metadata": {},
   "outputs": [
    {
     "data": {
      "text/plain": [
       "num_orders    0\n",
       "dtype: int64"
      ]
     },
     "execution_count": 7,
     "metadata": {},
     "output_type": "execute_result"
    }
   ],
   "source": [
    "df.isna().sum()"
   ]
  },
  {
   "cell_type": "markdown",
   "metadata": {},
   "source": [
    "Пропущенные значения отсутствуют."
   ]
  },
  {
   "cell_type": "markdown",
   "metadata": {},
   "source": [
    "<div class=\"alert alert-block alert-success\">\n",
    "<b>Успех:</b> Данные загружены корректно, первичный осмотр проведен. Ресемплинг был сделан верно.\n",
    "</div>"
   ]
  },
  {
   "cell_type": "markdown",
   "metadata": {},
   "source": [
    "## Анализ"
   ]
  },
  {
   "cell_type": "markdown",
   "metadata": {},
   "source": [
    "Проверим, в хронологическом ли порядке расположены даты и время:"
   ]
  },
  {
   "cell_type": "code",
   "execution_count": 8,
   "metadata": {},
   "outputs": [
    {
     "name": "stdout",
     "output_type": "stream",
     "text": [
      "True\n"
     ]
    }
   ],
   "source": [
    "print(df.index.is_monotonic)"
   ]
  },
  {
   "cell_type": "markdown",
   "metadata": {},
   "source": [
    "Посмотрим за какой период наши данные."
   ]
  },
  {
   "cell_type": "code",
   "execution_count": 9,
   "metadata": {
    "scrolled": true
   },
   "outputs": [
    {
     "name": "stdout",
     "output_type": "stream",
     "text": [
      "Данные содержат информацию за период с 2018-03-01 00:00:00 по 2018-08-31 23:00:00\n"
     ]
    }
   ],
   "source": [
    "print(f'Данные содержат информацию за период с {df.index.min()} по {df.index.max()}')"
   ]
  },
  {
   "cell_type": "markdown",
   "metadata": {},
   "source": [
    "Разложим временной ряд на тренд и сезонную компоненту. "
   ]
  },
  {
   "cell_type": "code",
   "execution_count": 10,
   "metadata": {
    "scrolled": false
   },
   "outputs": [
    {
     "data": {
      "image/png": "[encoded data removed]",
      "text/plain": [
       "<Figure size 432x576 with 3 Axes>"
      ]
     },
     "metadata": {
      "needs_background": "light"
     },
     "output_type": "display_data"
    }
   ],
   "source": [
    "decomposed = seasonal_decompose(df) \n",
    "\n",
    "plt.figure(figsize=(6, 8))\n",
    "plt.subplot(311)\n",
    "# Чтобы график корректно отобразился, указываем его\n",
    "# оси ax, равными plt.gca() (англ. get current axis,\n",
    "# получить текущие оси)\n",
    "decomposed.trend.plot(ax=plt.gca())\n",
    "plt.title('Trend')\n",
    "plt.subplot(312)\n",
    "decomposed.seasonal[:24].plot(ax=plt.gca()) # < напишите код здесь >\n",
    "plt.title('Seasonality')\n",
    "plt.subplot(313)\n",
    "decomposed.resid.plot(ax=plt.gca())# < напишите код здесь >\n",
    "plt.title('Residuals')\n",
    "plt.tight_layout()"
   ]
  },
  {
   "cell_type": "markdown",
   "metadata": {},
   "source": [
    "Построим график автокорреляции"
   ]
  },
  {
   "cell_type": "code",
   "execution_count": 11,
   "metadata": {},
   "outputs": [
    {
     "data": {
      "image/png": "[encoded data removed]",
      "text/plain": [
       "<Figure size 432x288 with 1 Axes>"
      ]
     },
     "execution_count": 11,
     "metadata": {},
     "output_type": "execute_result"
    },
    {
     "data": {
      "image/png": "[encoded data removed]",
      "text/plain": [
       "<Figure size 432x288 with 1 Axes>"
      ]
     },
     "metadata": {
      "needs_background": "light"
     },
     "output_type": "display_data"
    }
   ],
   "source": [
    "plot_acf(df['num_orders'])"
   ]
  },
  {
   "cell_type": "markdown",
   "metadata": {},
   "source": [
    "Значение 25 имеет довольно сильную корреляцию. Это значит, что мы будем находить очень похожие значения в каждые 25 единиц времени."
   ]
  },
  {
   "cell_type": "code",
   "execution_count": 12,
   "metadata": {},
   "outputs": [
    {
     "data": {
      "image/png": "[encoded data removed]",
      "text/plain": [
       "<Figure size 432x288 with 1 Axes>"
      ]
     },
     "execution_count": 12,
     "metadata": {},
     "output_type": "execute_result"
    },
    {
     "data": {
      "image/png": "[encoded data removed]",
      "text/plain": [
       "<Figure size 432x288 with 1 Axes>"
      ]
     },
     "metadata": {
      "needs_background": "light"
     },
     "output_type": "display_data"
    }
   ],
   "source": [
    "plot_pacf(df['num_orders'])"
   ]
  },
  {
   "cell_type": "markdown",
   "metadata": {},
   "source": [
    "Наблюдается наличие тренда. На первый взгляд временной ряд нестационарен. Проверим это с помощью тестов Дики-Фуллера и KPSS"
   ]
  },
  {
   "cell_type": "markdown",
   "metadata": {},
   "source": [
    "<div class=\"alert alert-block alert-success\">\n",
    "<b>Успех:</b> Декомпозиция была сделана верно. \n",
    "</div>\n",
    "\n",
    "<div class=\"alert alert-block alert-info\">\n",
    "<b>Совет: </b> Однако, желательно чтобы сезонность была визуализирована на более коротком интервале!\n",
    "</div>"
   ]
  },
  {
   "cell_type": "markdown",
   "metadata": {},
   "source": [
    "<div class=\"alert alert-block alert-warning\">\n",
    "<b>Комментарий студента:</b> не поняла как сделать визуализацию на более коротком интервале\n",
    "\n",
    "Если менять в этом коде \"312\", то получаю ошибку\n",
    "    \n",
    "    \n",
    "plt.subplot(312)\n",
    "    \n",
    "decomposed.seasonal.plot(ax=plt.gca()) \n",
    "    \n",
    "plt.title('Seasonality')\n",
    "</div>"
   ]
  },
  {
   "cell_type": "markdown",
   "metadata": {},
   "source": [
    "<div class=\"alert alert-block alert-info\">\n",
    "<b>Совет (ревью 2): </b> 312 – это количество графиков на figure.\n",
    "</div>\n",
    "\n",
    "<div class=\"alert alert-block alert-info\">\n",
    "\n",
    "<b>Совет (ревью 2): </b> `decomposed.seasonal.plot(ax=plt.gca())` – вот этот код визуализирует весь временной период, а нужно взять подотрезок, то есть примерно так: `decomposed.seasonal[:...].plot(ax=plt.gca())`.\n",
    "</div>"
   ]
  },
  {
   "cell_type": "markdown",
   "metadata": {},
   "source": [
    "<div class=\"alert alert-block alert-warning\">\n",
    "<b>Комментарий студента 2:</b> спасибо, сделала суточный график\n",
    "</div>"
   ]
  },
  {
   "cell_type": "markdown",
   "metadata": {},
   "source": [
    "<div class=\"alert alert-block alert-info\">\n",
    "<b>Совет (ревью 3): </b> Можно было еще посмотреть на недельный.\n",
    "</div>"
   ]
  },
  {
   "cell_type": "markdown",
   "metadata": {},
   "source": [
    "### Тесты Дики-Фуллера и KPSS на стационарность ряда"
   ]
  },
  {
   "cell_type": "markdown",
   "metadata": {},
   "source": [
    "**Тест Дики-Фуллера**"
   ]
  },
  {
   "cell_type": "markdown",
   "metadata": {},
   "source": [
    "H 0 : Временной ряд является нестационарным. Другими словами, он имеет некоторую структуру, зависящую от времени, и не имеет постоянной дисперсии во времени. Ряд имеет единичный корень (значение a = 1)\n",
    "\n",
    "H A : временной ряд является стационарным. Ряд не имеет единичного корня\n",
    "\n",
    "Если p-значение теста меньше 0,05, то мы можем отвергнуть нулевую гипотезу и сделать вывод, что временной ряд является стационарным."
   ]
  },
  {
   "cell_type": "code",
   "execution_count": 13,
   "metadata": {},
   "outputs": [
    {
     "data": {
      "text/plain": [
       "(-3.0689242890279558,\n",
       " 0.028940051402612906,\n",
       " 30,\n",
       " 4385,\n",
       " {'1%': -3.431842162413052,\n",
       "  '5%': -2.8621993540813637,\n",
       "  '10%': -2.567120978470452},\n",
       " 41728.71357827463)"
      ]
     },
     "execution_count": 13,
     "metadata": {},
     "output_type": "execute_result"
    }
   ],
   "source": [
    "adfuller(df['num_orders'])"
   ]
  },
  {
   "cell_type": "markdown",
   "metadata": {},
   "source": [
    "Или с пояснениями:"
   ]
  },
  {
   "cell_type": "code",
   "execution_count": 14,
   "metadata": {},
   "outputs": [
    {
     "name": "stdout",
     "output_type": "stream",
     "text": [
      "Results of Dickey-Fuller Test:\n",
      "Test Statistic                   -3.068924\n",
      "p-value                           0.028940\n",
      "#Lags Used                       30.000000\n",
      "Number of Observations Used    4385.000000\n",
      "Critical Value (1%)              -3.431842\n",
      "Critical Value (5%)              -2.862199\n",
      "Critical Value (10%)             -2.567121\n",
      "dtype: float64\n"
     ]
    }
   ],
   "source": [
    "def adf_test(timeseries):\n",
    "    # Выполняем тест Дики-Фуллера:\n",
    "    print ('Results of Dickey-Fuller Test:')\n",
    "    dftest = adfuller(timeseries, autolag='AIC')\n",
    "    dfoutput = pd.Series(dftest[0:4], index=['Test Statistic','p-value','#Lags Used','Number of Observations Used'])\n",
    "    for key,value in dftest[4].items():\n",
    "        dfoutput['Critical Value (%s)'%key] = value\n",
    "    print (dfoutput)\n",
    "\n",
    "# применяем к ряду тест adf \n",
    "adf_test(df['num_orders'])"
   ]
  },
  {
   "cell_type": "markdown",
   "metadata": {},
   "source": [
    "- Статистика теста: -3.0689\n",
    "- P-значение: 0.0289\n",
    "\n",
    "Поскольку p-значение меньше 0,05, мы можем отвергнуть нулевую гипотезу.\n",
    "\n",
    "Это означает, что временной **ряд является стационарным**. Другими словами, он имеет некоторую структуру, зависящую от времени, и  имеет постоянную дисперсию во времени. "
   ]
  },
  {
   "cell_type": "markdown",
   "metadata": {},
   "source": [
    "**Тест KPSS (Kwiatkowski-Phillips-Schmidt-Shin)**"
   ]
  },
  {
   "cell_type": "markdown",
   "metadata": {},
   "source": [
    "KPSS - это еще один тест для проверки стационарности временного ряда. Нулевая и альтернативная гипотеза для теста KPSS противоположны гипотезе теста Дики-Фуллера, что часто создает путаницу."
   ]
  },
  {
   "cell_type": "markdown",
   "metadata": {},
   "source": [
    "Н 0: стационарный процесс тренда.\n",
    "\n",
    "Н А: ряд не является стационарным (ряд имеет единичный корень)."
   ]
  },
  {
   "cell_type": "code",
   "execution_count": 15,
   "metadata": {},
   "outputs": [
    {
     "name": "stdout",
     "output_type": "stream",
     "text": [
      "Результаты теста KPSS: статистика теста, p-value и критическое значение с доверительными интервалами 1%, 2,5%, 5% и 10%.\n",
      "Results of KPSS Test:\n",
      "Test Statistic           10.913353\n",
      "p-value                   0.010000\n",
      "Lags Used                32.000000\n",
      "Critical Value (10%)      0.347000\n",
      "Critical Value (5%)       0.463000\n",
      "Critical Value (2.5%)     0.574000\n",
      "Critical Value (1%)       0.739000\n",
      "dtype: float64\n"
     ]
    }
   ],
   "source": [
    "# определяем функцию для теста kpss\n",
    "from statsmodels.tsa.stattools import kpss\n",
    "# определяем KPSS\n",
    "def kpss_test(timeseries):\n",
    "    print ('Results of KPSS Test:')\n",
    "    kpsstest = kpss(timeseries, regression='c')\n",
    "    kpss_output = pd.Series(kpsstest[0:3], index=['Test Statistic','p-value','Lags Used'])\n",
    "    for key,value in kpsstest[3].items():\n",
    "        kpss_output['Critical Value (%s)'%key] = value\n",
    "    print (kpss_output)\n",
    "    \n",
    "print('Результаты теста KPSS: статистика теста, p-value и критическое значение с доверительными интервалами 1%, 2,5%, 5% и 10%.')\n",
    "# применяем к ряду тест \n",
    "kpss_test(df['num_orders'])"
   ]
  },
  {
   "cell_type": "markdown",
   "metadata": {},
   "source": [
    "Тест на стационарность: если статистика теста больше критического значения, мы отвергаем нулевую гипотезу (ряд не является стационарным). Если статистика теста меньше критического значения, не удастся отклонить нулевую гипотезу (ряд является стационарным). Значение тестовой статистики превышает критическое значение во всех доверительных интервалах, и, следовательно, мы можем сказать, что ряд **не является стационарным**."
   ]
  },
  {
   "cell_type": "markdown",
   "metadata": {},
   "source": [
    "Существует более одного типа стационарности.\n",
    "\n",
    "Тест ADF имеет альтернативную гипотезу линейной или разностной стационарности, в то время как тест KPSS идентифицирует стационарность по тренду в ряду."
   ]
  },
  {
   "cell_type": "markdown",
   "metadata": {},
   "source": [
    "### Типы стационарности"
   ]
  },
  {
   "cell_type": "markdown",
   "metadata": {},
   "source": [
    "Строго стационарный: строгий стационарный ряд удовлетворяет математическому определению стационарного процесса. Для строгого стационарного ряда среднее значение, дисперсия и ковариация не являются функцией времени. Цель состоит в том, чтобы преобразовать нестационарный ряд в строгий стационарный ряд для прогнозирования.\n",
    "\n",
    "**Стационарный тренд: ряд, который не имеет единичного корня, но демонстрирует тренд, называется стационарным рядом тренда.** **После удаления трендовой составляющей, результирующий ряд будет строго стационарным.** Тест KPSS классифицирует ряд как стационарный при отсутствии единичного корня. Это означает, что ряд может быть строго стационарным или стационарным по тренду.\n",
    "Разностно-стационарный: временной ряд, который можно сделать строгим стационарным с помощью разностей, попадает в категорию разностно-стационарных. Тест ADF также известен как тест разностной стационарности.\n",
    "\n",
    "Возможные результаты применения двух тестов.\n",
    "\n",
    "- Случай 1: Оба теста показывают, что ряд не является стационарным -> ряд не является стационарным.\n",
    "- Случай 2: Оба теста показывают, что ряд является стационарным -> ряд является стационарным\n",
    "- Случай 3: KPSS = стационарный и ADF = не стационарный -> стационарный тред, удалить тренд, чтобы сделать ряд строго стационарным.\n",
    "- Случай 4: KPSS = не стационарный и ADF = стационарный -> разностно-стационарный, использовать разности, чтобы сделать ряд стационарным."
   ]
  },
  {
   "cell_type": "markdown",
   "metadata": {},
   "source": [
    "В нашем случае ряд не имеет единичного корня, но демонстрирует тренд. После удаления трендовой составляющей, результирующий ряд будет строго стационарным. "
   ]
  },
  {
   "cell_type": "markdown",
   "metadata": {},
   "source": [
    "<div class=\"alert alert-block alert-success\">\n",
    "<b>Успех:</b> Хороший анализ. В целом, при наличии такого тренда можно сказать, что ряд нестационарный без каких=либо тестов.\n",
    "</div>"
   ]
  },
  {
   "cell_type": "markdown",
   "metadata": {},
   "source": [
    "### Преобразование ряда в стационарный"
   ]
  },
  {
   "cell_type": "markdown",
   "metadata": {},
   "source": [
    "Тенденция делает временной ряд нестационарным за счет увеличения уровня. Это приводит к изменению среднего значения временного ряда во времени. Так как в последствии будет использоваться метод добавления признаков, тренд удалять не будем.\n",
    "\n",
    "~~ Итак, нам нужно удалить из ряда тренд за счет использования разности. ~~"
   ]
  },
  {
   "cell_type": "code",
   "execution_count": 16,
   "metadata": {
    "scrolled": true
   },
   "outputs": [],
   "source": [
    "# производим смещение данных на 1 значение и вычитаем из текущего последующее, затем удаляем строки, где появились NaN\n",
    "#df['num_orders_diff'] = df['num_orders'] - df['num_orders'].shift(1) \n",
    "#df['num_orders_diff'].dropna().plot()"
   ]
  },
  {
   "cell_type": "code",
   "execution_count": 17,
   "metadata": {},
   "outputs": [],
   "source": [
    "# удаляем первую строку, чтобы убрать NaN из num_orders_diff\n",
    "#df_new = df.dropna()"
   ]
  },
  {
   "cell_type": "code",
   "execution_count": 18,
   "metadata": {},
   "outputs": [],
   "source": [
    "# удаляем столбец num_orders\n",
    "#df_new = df_new.drop('num_orders', axis=1)"
   ]
  },
  {
   "cell_type": "code",
   "execution_count": 19,
   "metadata": {
    "scrolled": true
   },
   "outputs": [],
   "source": [
    "#df_new.head()"
   ]
  },
  {
   "cell_type": "markdown",
   "metadata": {},
   "source": [
    "~~Проверим удалился ли тренд из ряда.~~"
   ]
  },
  {
   "cell_type": "markdown",
   "metadata": {},
   "source": [
    "~~Тренд удален.~~ Построим график автокорреляции."
   ]
  },
  {
   "cell_type": "code",
   "execution_count": 20,
   "metadata": {},
   "outputs": [
    {
     "data": {
      "image/png": "[encoded data removed]",
      "text/plain": [
       "<Figure size 864x504 with 3 Axes>"
      ]
     },
     "metadata": {
      "needs_background": "light"
     },
     "output_type": "display_data"
    }
   ],
   "source": [
    "def tsplot(y, lags=None, figsize=(12, 7), style='bmh'):\n",
    "    if not isinstance(y, pd.Series):\n",
    "        y = pd.Series(y)\n",
    "    with plt.style.context(style):    \n",
    "        fig = plt.figure(figsize=figsize)\n",
    "        layout = (2, 2)\n",
    "        ts_ax = plt.subplot2grid(layout, (0, 0), colspan=2)\n",
    "        acf_ax = plt.subplot2grid(layout, (1, 0))\n",
    "        pacf_ax = plt.subplot2grid(layout, (1, 1))\n",
    "\n",
    "        y.plot(ax=ts_ax)\n",
    "        ts_ax.set_title('Time Series Analysis Plots')\n",
    "        smt.graphics.plot_acf(y, lags=lags, ax=acf_ax, alpha=0.5)\n",
    "        smt.graphics.plot_pacf(y, lags=lags, ax=pacf_ax, alpha=0.5)\n",
    "\n",
    "        plt.tight_layout()\n",
    "    return \n",
    "\n",
    "tsplot(df['num_orders'], lags=30)"
   ]
  },
  {
   "cell_type": "markdown",
   "metadata": {},
   "source": [
    "<div class=\"alert alert-info\">\n",
    "<h2> Комментарий студента <a class=\"tocSkip\"> </h2>\n",
    "<b></b> \n",
    "    Не до конца поняла как интерпретировать графики автокорреляции. Получается, что может быть какая-то сезонность осталась, от которой тоже надо избавиться? \n",
    "    \n",
    "    У нас нестационарный ряд. После преобразования (удаления тренда), ряд стал стационарным. По графикам автокорреляции видно, что данные нужно еще обработать, но все обработки только ухудшают графики автокорреляции и метрику моделей. Вообще самая лучшая метрика была без удаления тренда. \n",
    "    \n",
    "    Вопрос как следует еще обработать данные, чтобы получилось хорошее предсказание и RMSE?"
   ]
  },
  {
   "cell_type": "markdown",
   "metadata": {},
   "source": [
    "<div class=\"alert alert-block alert-info\">\n",
    "<b>Совет: </b> Какая-то сезонность всегда будет, не удастся ее полностью удалить. Более того, это и не нужно.\n",
    "</div>"
   ]
  },
  {
   "cell_type": "code",
   "execution_count": 21,
   "metadata": {},
   "outputs": [],
   "source": [
    "# изменим для удобства назавние датафрейма\n",
    "#df = df_new"
   ]
  },
  {
   "cell_type": "code",
   "execution_count": 22,
   "metadata": {
    "scrolled": false
   },
   "outputs": [],
   "source": [
    "# посчитаем стандартное отклонение и доверительный 95% интервал\n",
    "df['std'] = df['num_orders'].rolling(100).std()\n",
    "upper = df['num_orders'].rolling(100).mean() + 1.96 * df['std']\n",
    "lower = df['num_orders'].rolling(100).mean() - 1.96 * df['std']"
   ]
  },
  {
   "cell_type": "code",
   "execution_count": 23,
   "metadata": {},
   "outputs": [],
   "source": [
    "Anomalies = np.array([np.NaN]*len(df['num_orders']))\n",
    "df['Anomalies'] = Anomalies\n",
    "df.Anomalies_lower = df.num_orders[df.num_orders<lower]\n",
    "df.Anomalies_upper = df.num_orders[df.num_orders>upper]"
   ]
  },
  {
   "cell_type": "markdown",
   "metadata": {},
   "source": [
    "<div class=\"alert alert-info\">\n",
    "<h2> Комментарий студента <a class=\"tocSkip\"> </h2>\n",
    "<b></b> \n",
    "   Не получилось отразить аномалии на графике. Смещение точек аномалий на 1970 год, а сам график сжат справа"
   ]
  },
  {
   "cell_type": "markdown",
   "metadata": {},
   "source": [
    "<div class=\"alert alert-block alert-info\">\n",
    "<b>Совет: </b> Это из-за того, что индекс другой. Либо весь график нужно перевести в числовой индекс, либо аномалиям присвоить индекс в виде дат.\n",
    "</div>"
   ]
  },
  {
   "cell_type": "markdown",
   "metadata": {},
   "source": [
    "<div class=\"alert alert-block alert-warning\">\n",
    "<b>Комментарий студента:</b> переделала, но не знаю правильно ли? "
   ]
  },
  {
   "cell_type": "markdown",
   "metadata": {},
   "source": [
    "<div class=\"alert alert-block alert-success\">\n",
    "<b>Успех (ревью 2):</b> Да, это хороший способ.\n",
    "</div>"
   ]
  },
  {
   "cell_type": "code",
   "execution_count": 24,
   "metadata": {},
   "outputs": [
    {
     "data": {
      "image/png": "[encoded data removed]",
      "text/plain": [
       "<Figure size 1080x360 with 1 Axes>"
      ]
     },
     "metadata": {
      "needs_background": "light"
     },
     "output_type": "display_data"
    }
   ],
   "source": [
    "# построим график, на котором отразим стандартное отклонение, доверительный 95% интервал\n",
    "plt.figure(figsize=(15, 5))\n",
    "plt.plot(df)\n",
    "plt.plot(df['num_orders'], label=\"num_orders\", color='skyblue')\n",
    "plt.plot(df['std'], label=\"std\", color='yellow')\n",
    "plt.plot(lower, \"r--\", label=\"upper bond / lower bond\")\n",
    "plt.plot(upper, \"r--\")\n",
    "plt.plot(df.Anomalies_lower, \"bo\", markersize=6)\n",
    "plt.plot(df.Anomalies_upper, \"bo\", markersize=6)\n",
    "plt.grid(True)\n",
    "plt.legend();"
   ]
  },
  {
   "cell_type": "markdown",
   "metadata": {},
   "source": [
    "**Данные содержат информацию за период с 1 марта 2018 00:00:00 по 31 августа 2018 23:00:00, т.е. за все месяцы весны и лета. Расположены в хронологическом порядке, имеют тенденцию к возрастанию в летние месяцы. Проведена обработка данных, удален тренд, ряд преобразован в стационарный.**"
   ]
  },
  {
   "cell_type": "markdown",
   "metadata": {},
   "source": [
    "## Обучение"
   ]
  },
  {
   "cell_type": "markdown",
   "metadata": {},
   "source": [
    "Добавим признаки в датафрейм для обучения."
   ]
  },
  {
   "cell_type": "code",
   "execution_count": 25,
   "metadata": {
    "scrolled": true
   },
   "outputs": [
    {
     "data": {
      "text/html": [
       "<div>\n",
       "<style scoped>\n",
       "    .dataframe tbody tr th:only-of-type {\n",
       "        vertical-align: middle;\n",
       "    }\n",
       "\n",
       "    .dataframe tbody tr th {\n",
       "        vertical-align: top;\n",
       "    }\n",
       "\n",
       "    .dataframe thead th {\n",
       "        text-align: right;\n",
       "    }\n",
       "</style>\n",
       "<table border=\"1\" class=\"dataframe\">\n",
       "  <thead>\n",
       "    <tr style=\"text-align: right;\">\n",
       "      <th></th>\n",
       "      <th>num_orders</th>\n",
       "      <th>std</th>\n",
       "      <th>Anomalies</th>\n",
       "      <th>year</th>\n",
       "      <th>month</th>\n",
       "      <th>day</th>\n",
       "      <th>dayofweek</th>\n",
       "      <th>lag_1</th>\n",
       "      <th>lag_2</th>\n",
       "      <th>lag_3</th>\n",
       "      <th>lag_4</th>\n",
       "      <th>lag_5</th>\n",
       "      <th>lag_6</th>\n",
       "      <th>lag_7</th>\n",
       "      <th>lag_8</th>\n",
       "      <th>lag_9</th>\n",
       "      <th>lag_10</th>\n",
       "      <th>lag_11</th>\n",
       "      <th>lag_12</th>\n",
       "      <th>lag_13</th>\n",
       "      <th>lag_14</th>\n",
       "      <th>lag_15</th>\n",
       "      <th>lag_16</th>\n",
       "      <th>lag_17</th>\n",
       "      <th>lag_18</th>\n",
       "      <th>lag_19</th>\n",
       "      <th>lag_20</th>\n",
       "      <th>lag_21</th>\n",
       "      <th>lag_22</th>\n",
       "      <th>lag_23</th>\n",
       "      <th>lag_24</th>\n",
       "      <th>rolling_mean</th>\n",
       "    </tr>\n",
       "    <tr>\n",
       "      <th>datetime</th>\n",
       "      <th></th>\n",
       "      <th></th>\n",
       "      <th></th>\n",
       "      <th></th>\n",
       "      <th></th>\n",
       "      <th></th>\n",
       "      <th></th>\n",
       "      <th></th>\n",
       "      <th></th>\n",
       "      <th></th>\n",
       "      <th></th>\n",
       "      <th></th>\n",
       "      <th></th>\n",
       "      <th></th>\n",
       "      <th></th>\n",
       "      <th></th>\n",
       "      <th></th>\n",
       "      <th></th>\n",
       "      <th></th>\n",
       "      <th></th>\n",
       "      <th></th>\n",
       "      <th></th>\n",
       "      <th></th>\n",
       "      <th></th>\n",
       "      <th></th>\n",
       "      <th></th>\n",
       "      <th></th>\n",
       "      <th></th>\n",
       "      <th></th>\n",
       "      <th></th>\n",
       "      <th></th>\n",
       "      <th></th>\n",
       "    </tr>\n",
       "  </thead>\n",
       "  <tbody>\n",
       "    <tr>\n",
       "      <th>2018-03-01 00:00:00</th>\n",
       "      <td>124</td>\n",
       "      <td>NaN</td>\n",
       "      <td>NaN</td>\n",
       "      <td>2018</td>\n",
       "      <td>3</td>\n",
       "      <td>1</td>\n",
       "      <td>3</td>\n",
       "      <td>NaN</td>\n",
       "      <td>NaN</td>\n",
       "      <td>NaN</td>\n",
       "      <td>NaN</td>\n",
       "      <td>NaN</td>\n",
       "      <td>NaN</td>\n",
       "      <td>NaN</td>\n",
       "      <td>NaN</td>\n",
       "      <td>NaN</td>\n",
       "      <td>NaN</td>\n",
       "      <td>NaN</td>\n",
       "      <td>NaN</td>\n",
       "      <td>NaN</td>\n",
       "      <td>NaN</td>\n",
       "      <td>NaN</td>\n",
       "      <td>NaN</td>\n",
       "      <td>NaN</td>\n",
       "      <td>NaN</td>\n",
       "      <td>NaN</td>\n",
       "      <td>NaN</td>\n",
       "      <td>NaN</td>\n",
       "      <td>NaN</td>\n",
       "      <td>NaN</td>\n",
       "      <td>NaN</td>\n",
       "      <td>NaN</td>\n",
       "    </tr>\n",
       "    <tr>\n",
       "      <th>2018-03-01 01:00:00</th>\n",
       "      <td>85</td>\n",
       "      <td>NaN</td>\n",
       "      <td>NaN</td>\n",
       "      <td>2018</td>\n",
       "      <td>3</td>\n",
       "      <td>1</td>\n",
       "      <td>3</td>\n",
       "      <td>124.0</td>\n",
       "      <td>NaN</td>\n",
       "      <td>NaN</td>\n",
       "      <td>NaN</td>\n",
       "      <td>NaN</td>\n",
       "      <td>NaN</td>\n",
       "      <td>NaN</td>\n",
       "      <td>NaN</td>\n",
       "      <td>NaN</td>\n",
       "      <td>NaN</td>\n",
       "      <td>NaN</td>\n",
       "      <td>NaN</td>\n",
       "      <td>NaN</td>\n",
       "      <td>NaN</td>\n",
       "      <td>NaN</td>\n",
       "      <td>NaN</td>\n",
       "      <td>NaN</td>\n",
       "      <td>NaN</td>\n",
       "      <td>NaN</td>\n",
       "      <td>NaN</td>\n",
       "      <td>NaN</td>\n",
       "      <td>NaN</td>\n",
       "      <td>NaN</td>\n",
       "      <td>NaN</td>\n",
       "      <td>NaN</td>\n",
       "    </tr>\n",
       "    <tr>\n",
       "      <th>2018-03-01 02:00:00</th>\n",
       "      <td>71</td>\n",
       "      <td>NaN</td>\n",
       "      <td>NaN</td>\n",
       "      <td>2018</td>\n",
       "      <td>3</td>\n",
       "      <td>1</td>\n",
       "      <td>3</td>\n",
       "      <td>85.0</td>\n",
       "      <td>124.0</td>\n",
       "      <td>NaN</td>\n",
       "      <td>NaN</td>\n",
       "      <td>NaN</td>\n",
       "      <td>NaN</td>\n",
       "      <td>NaN</td>\n",
       "      <td>NaN</td>\n",
       "      <td>NaN</td>\n",
       "      <td>NaN</td>\n",
       "      <td>NaN</td>\n",
       "      <td>NaN</td>\n",
       "      <td>NaN</td>\n",
       "      <td>NaN</td>\n",
       "      <td>NaN</td>\n",
       "      <td>NaN</td>\n",
       "      <td>NaN</td>\n",
       "      <td>NaN</td>\n",
       "      <td>NaN</td>\n",
       "      <td>NaN</td>\n",
       "      <td>NaN</td>\n",
       "      <td>NaN</td>\n",
       "      <td>NaN</td>\n",
       "      <td>NaN</td>\n",
       "      <td>NaN</td>\n",
       "    </tr>\n",
       "    <tr>\n",
       "      <th>2018-03-01 03:00:00</th>\n",
       "      <td>66</td>\n",
       "      <td>NaN</td>\n",
       "      <td>NaN</td>\n",
       "      <td>2018</td>\n",
       "      <td>3</td>\n",
       "      <td>1</td>\n",
       "      <td>3</td>\n",
       "      <td>71.0</td>\n",
       "      <td>85.0</td>\n",
       "      <td>124.0</td>\n",
       "      <td>NaN</td>\n",
       "      <td>NaN</td>\n",
       "      <td>NaN</td>\n",
       "      <td>NaN</td>\n",
       "      <td>NaN</td>\n",
       "      <td>NaN</td>\n",
       "      <td>NaN</td>\n",
       "      <td>NaN</td>\n",
       "      <td>NaN</td>\n",
       "      <td>NaN</td>\n",
       "      <td>NaN</td>\n",
       "      <td>NaN</td>\n",
       "      <td>NaN</td>\n",
       "      <td>NaN</td>\n",
       "      <td>NaN</td>\n",
       "      <td>NaN</td>\n",
       "      <td>NaN</td>\n",
       "      <td>NaN</td>\n",
       "      <td>NaN</td>\n",
       "      <td>NaN</td>\n",
       "      <td>NaN</td>\n",
       "      <td>NaN</td>\n",
       "    </tr>\n",
       "    <tr>\n",
       "      <th>2018-03-01 04:00:00</th>\n",
       "      <td>43</td>\n",
       "      <td>NaN</td>\n",
       "      <td>NaN</td>\n",
       "      <td>2018</td>\n",
       "      <td>3</td>\n",
       "      <td>1</td>\n",
       "      <td>3</td>\n",
       "      <td>66.0</td>\n",
       "      <td>71.0</td>\n",
       "      <td>85.0</td>\n",
       "      <td>124.0</td>\n",
       "      <td>NaN</td>\n",
       "      <td>NaN</td>\n",
       "      <td>NaN</td>\n",
       "      <td>NaN</td>\n",
       "      <td>NaN</td>\n",
       "      <td>NaN</td>\n",
       "      <td>NaN</td>\n",
       "      <td>NaN</td>\n",
       "      <td>NaN</td>\n",
       "      <td>NaN</td>\n",
       "      <td>NaN</td>\n",
       "      <td>NaN</td>\n",
       "      <td>NaN</td>\n",
       "      <td>NaN</td>\n",
       "      <td>NaN</td>\n",
       "      <td>NaN</td>\n",
       "      <td>NaN</td>\n",
       "      <td>NaN</td>\n",
       "      <td>NaN</td>\n",
       "      <td>NaN</td>\n",
       "      <td>86.5</td>\n",
       "    </tr>\n",
       "  </tbody>\n",
       "</table>\n",
       "</div>"
      ],
      "text/plain": [
       "                     num_orders  std  Anomalies  year  month  day  dayofweek  \\\n",
       "datetime                                                                       \n",
       "2018-03-01 00:00:00         124  NaN        NaN  2018      3    1          3   \n",
       "2018-03-01 01:00:00          85  NaN        NaN  2018      3    1          3   \n",
       "2018-03-01 02:00:00          71  NaN        NaN  2018      3    1          3   \n",
       "2018-03-01 03:00:00          66  NaN        NaN  2018      3    1          3   \n",
       "2018-03-01 04:00:00          43  NaN        NaN  2018      3    1          3   \n",
       "\n",
       "                     lag_1  lag_2  lag_3  lag_4  lag_5  lag_6  lag_7  lag_8  \\\n",
       "datetime                                                                      \n",
       "2018-03-01 00:00:00    NaN    NaN    NaN    NaN    NaN    NaN    NaN    NaN   \n",
       "2018-03-01 01:00:00  124.0    NaN    NaN    NaN    NaN    NaN    NaN    NaN   \n",
       "2018-03-01 02:00:00   85.0  124.0    NaN    NaN    NaN    NaN    NaN    NaN   \n",
       "2018-03-01 03:00:00   71.0   85.0  124.0    NaN    NaN    NaN    NaN    NaN   \n",
       "2018-03-01 04:00:00   66.0   71.0   85.0  124.0    NaN    NaN    NaN    NaN   \n",
       "\n",
       "                     lag_9  lag_10  lag_11  lag_12  lag_13  lag_14  lag_15  \\\n",
       "datetime                                                                     \n",
       "2018-03-01 00:00:00    NaN     NaN     NaN     NaN     NaN     NaN     NaN   \n",
       "2018-03-01 01:00:00    NaN     NaN     NaN     NaN     NaN     NaN     NaN   \n",
       "2018-03-01 02:00:00    NaN     NaN     NaN     NaN     NaN     NaN     NaN   \n",
       "2018-03-01 03:00:00    NaN     NaN     NaN     NaN     NaN     NaN     NaN   \n",
       "2018-03-01 04:00:00    NaN     NaN     NaN     NaN     NaN     NaN     NaN   \n",
       "\n",
       "                     lag_16  lag_17  lag_18  lag_19  lag_20  lag_21  lag_22  \\\n",
       "datetime                                                                      \n",
       "2018-03-01 00:00:00     NaN     NaN     NaN     NaN     NaN     NaN     NaN   \n",
       "2018-03-01 01:00:00     NaN     NaN     NaN     NaN     NaN     NaN     NaN   \n",
       "2018-03-01 02:00:00     NaN     NaN     NaN     NaN     NaN     NaN     NaN   \n",
       "2018-03-01 03:00:00     NaN     NaN     NaN     NaN     NaN     NaN     NaN   \n",
       "2018-03-01 04:00:00     NaN     NaN     NaN     NaN     NaN     NaN     NaN   \n",
       "\n",
       "                     lag_23  lag_24  rolling_mean  \n",
       "datetime                                           \n",
       "2018-03-01 00:00:00     NaN     NaN           NaN  \n",
       "2018-03-01 01:00:00     NaN     NaN           NaN  \n",
       "2018-03-01 02:00:00     NaN     NaN           NaN  \n",
       "2018-03-01 03:00:00     NaN     NaN           NaN  \n",
       "2018-03-01 04:00:00     NaN     NaN          86.5  "
      ]
     },
     "metadata": {},
     "output_type": "display_data"
    }
   ],
   "source": [
    "def make_features(data, max_lag, rolling_mean_size):\n",
    "    data['year'] = data.index.year\n",
    "    data['month'] = data.index.month\n",
    "    data['day'] = data.index.day\n",
    "    data['dayofweek'] = data.index.dayofweek\n",
    "    \n",
    "    for lag in range(1, max_lag + 1):\n",
    "        data['lag_{}'.format(lag)] = data['num_orders'].shift(lag)\n",
    "\n",
    "    data['rolling_mean'] = data['num_orders'].shift().rolling(rolling_mean_size).mean()\n",
    "\n",
    "make_features(df, 24, 4)\n",
    "display(df.head())"
   ]
  },
  {
   "cell_type": "markdown",
   "metadata": {},
   "source": [
    "<div class=\"alert alert-block alert-info\">\n",
    "<b>Совет: </b> Таким образом ты изменил задачу и сейчас предсказываешь разность, а не количество закаов в следущий час.\n",
    "</div>"
   ]
  },
  {
   "cell_type": "markdown",
   "metadata": {},
   "source": [
    "<div class=\"alert alert-block alert-danger\">\n",
    "<b>Ошибка:</b> Признак std создан с использованием текущего значения, его нужно удалить.\n",
    "</div>"
   ]
  },
  {
   "cell_type": "code",
   "execution_count": 26,
   "metadata": {},
   "outputs": [],
   "source": [
    "df = df.drop(columns=['std', 'Anomalies'], axis=1)"
   ]
  },
  {
   "cell_type": "markdown",
   "metadata": {},
   "source": [
    "<div class=\"alert alert-block alert-success\">\n",
    "<b>Успех (ревью 2):</b> ОК.\n",
    "</div>"
   ]
  },
  {
   "cell_type": "code",
   "execution_count": 27,
   "metadata": {},
   "outputs": [],
   "source": [
    "# удалим строки с NaN\n",
    "df=df.dropna()"
   ]
  },
  {
   "cell_type": "code",
   "execution_count": 28,
   "metadata": {},
   "outputs": [
    {
     "data": {
      "text/html": [
       "<div>\n",
       "<style scoped>\n",
       "    .dataframe tbody tr th:only-of-type {\n",
       "        vertical-align: middle;\n",
       "    }\n",
       "\n",
       "    .dataframe tbody tr th {\n",
       "        vertical-align: top;\n",
       "    }\n",
       "\n",
       "    .dataframe thead th {\n",
       "        text-align: right;\n",
       "    }\n",
       "</style>\n",
       "<table border=\"1\" class=\"dataframe\">\n",
       "  <thead>\n",
       "    <tr style=\"text-align: right;\">\n",
       "      <th></th>\n",
       "      <th>num_orders</th>\n",
       "      <th>year</th>\n",
       "      <th>month</th>\n",
       "      <th>day</th>\n",
       "      <th>dayofweek</th>\n",
       "      <th>lag_1</th>\n",
       "      <th>lag_2</th>\n",
       "      <th>lag_3</th>\n",
       "      <th>lag_4</th>\n",
       "      <th>lag_5</th>\n",
       "      <th>lag_6</th>\n",
       "      <th>lag_7</th>\n",
       "      <th>lag_8</th>\n",
       "      <th>lag_9</th>\n",
       "      <th>lag_10</th>\n",
       "      <th>lag_11</th>\n",
       "      <th>lag_12</th>\n",
       "      <th>lag_13</th>\n",
       "      <th>lag_14</th>\n",
       "      <th>lag_15</th>\n",
       "      <th>lag_16</th>\n",
       "      <th>lag_17</th>\n",
       "      <th>lag_18</th>\n",
       "      <th>lag_19</th>\n",
       "      <th>lag_20</th>\n",
       "      <th>lag_21</th>\n",
       "      <th>lag_22</th>\n",
       "      <th>lag_23</th>\n",
       "      <th>lag_24</th>\n",
       "      <th>rolling_mean</th>\n",
       "    </tr>\n",
       "    <tr>\n",
       "      <th>datetime</th>\n",
       "      <th></th>\n",
       "      <th></th>\n",
       "      <th></th>\n",
       "      <th></th>\n",
       "      <th></th>\n",
       "      <th></th>\n",
       "      <th></th>\n",
       "      <th></th>\n",
       "      <th></th>\n",
       "      <th></th>\n",
       "      <th></th>\n",
       "      <th></th>\n",
       "      <th></th>\n",
       "      <th></th>\n",
       "      <th></th>\n",
       "      <th></th>\n",
       "      <th></th>\n",
       "      <th></th>\n",
       "      <th></th>\n",
       "      <th></th>\n",
       "      <th></th>\n",
       "      <th></th>\n",
       "      <th></th>\n",
       "      <th></th>\n",
       "      <th></th>\n",
       "      <th></th>\n",
       "      <th></th>\n",
       "      <th></th>\n",
       "      <th></th>\n",
       "      <th></th>\n",
       "    </tr>\n",
       "  </thead>\n",
       "  <tbody>\n",
       "    <tr>\n",
       "      <th>2018-03-02 00:00:00</th>\n",
       "      <td>90</td>\n",
       "      <td>2018</td>\n",
       "      <td>3</td>\n",
       "      <td>2</td>\n",
       "      <td>4</td>\n",
       "      <td>58.0</td>\n",
       "      <td>113.0</td>\n",
       "      <td>66.0</td>\n",
       "      <td>61.0</td>\n",
       "      <td>45.0</td>\n",
       "      <td>73.0</td>\n",
       "      <td>44.0</td>\n",
       "      <td>43.0</td>\n",
       "      <td>66.0</td>\n",
       "      <td>48.0</td>\n",
       "      <td>32.0</td>\n",
       "      <td>30.0</td>\n",
       "      <td>96.0</td>\n",
       "      <td>64.0</td>\n",
       "      <td>69.0</td>\n",
       "      <td>34.0</td>\n",
       "      <td>15.0</td>\n",
       "      <td>12.0</td>\n",
       "      <td>6.0</td>\n",
       "      <td>43.0</td>\n",
       "      <td>66.0</td>\n",
       "      <td>71.0</td>\n",
       "      <td>85.0</td>\n",
       "      <td>124.0</td>\n",
       "      <td>74.50</td>\n",
       "    </tr>\n",
       "    <tr>\n",
       "      <th>2018-03-02 01:00:00</th>\n",
       "      <td>120</td>\n",
       "      <td>2018</td>\n",
       "      <td>3</td>\n",
       "      <td>2</td>\n",
       "      <td>4</td>\n",
       "      <td>90.0</td>\n",
       "      <td>58.0</td>\n",
       "      <td>113.0</td>\n",
       "      <td>66.0</td>\n",
       "      <td>61.0</td>\n",
       "      <td>45.0</td>\n",
       "      <td>73.0</td>\n",
       "      <td>44.0</td>\n",
       "      <td>43.0</td>\n",
       "      <td>66.0</td>\n",
       "      <td>48.0</td>\n",
       "      <td>32.0</td>\n",
       "      <td>30.0</td>\n",
       "      <td>96.0</td>\n",
       "      <td>64.0</td>\n",
       "      <td>69.0</td>\n",
       "      <td>34.0</td>\n",
       "      <td>15.0</td>\n",
       "      <td>12.0</td>\n",
       "      <td>6.0</td>\n",
       "      <td>43.0</td>\n",
       "      <td>66.0</td>\n",
       "      <td>71.0</td>\n",
       "      <td>85.0</td>\n",
       "      <td>81.75</td>\n",
       "    </tr>\n",
       "    <tr>\n",
       "      <th>2018-03-02 02:00:00</th>\n",
       "      <td>75</td>\n",
       "      <td>2018</td>\n",
       "      <td>3</td>\n",
       "      <td>2</td>\n",
       "      <td>4</td>\n",
       "      <td>120.0</td>\n",
       "      <td>90.0</td>\n",
       "      <td>58.0</td>\n",
       "      <td>113.0</td>\n",
       "      <td>66.0</td>\n",
       "      <td>61.0</td>\n",
       "      <td>45.0</td>\n",
       "      <td>73.0</td>\n",
       "      <td>44.0</td>\n",
       "      <td>43.0</td>\n",
       "      <td>66.0</td>\n",
       "      <td>48.0</td>\n",
       "      <td>32.0</td>\n",
       "      <td>30.0</td>\n",
       "      <td>96.0</td>\n",
       "      <td>64.0</td>\n",
       "      <td>69.0</td>\n",
       "      <td>34.0</td>\n",
       "      <td>15.0</td>\n",
       "      <td>12.0</td>\n",
       "      <td>6.0</td>\n",
       "      <td>43.0</td>\n",
       "      <td>66.0</td>\n",
       "      <td>71.0</td>\n",
       "      <td>95.25</td>\n",
       "    </tr>\n",
       "    <tr>\n",
       "      <th>2018-03-02 03:00:00</th>\n",
       "      <td>64</td>\n",
       "      <td>2018</td>\n",
       "      <td>3</td>\n",
       "      <td>2</td>\n",
       "      <td>4</td>\n",
       "      <td>75.0</td>\n",
       "      <td>120.0</td>\n",
       "      <td>90.0</td>\n",
       "      <td>58.0</td>\n",
       "      <td>113.0</td>\n",
       "      <td>66.0</td>\n",
       "      <td>61.0</td>\n",
       "      <td>45.0</td>\n",
       "      <td>73.0</td>\n",
       "      <td>44.0</td>\n",
       "      <td>43.0</td>\n",
       "      <td>66.0</td>\n",
       "      <td>48.0</td>\n",
       "      <td>32.0</td>\n",
       "      <td>30.0</td>\n",
       "      <td>96.0</td>\n",
       "      <td>64.0</td>\n",
       "      <td>69.0</td>\n",
       "      <td>34.0</td>\n",
       "      <td>15.0</td>\n",
       "      <td>12.0</td>\n",
       "      <td>6.0</td>\n",
       "      <td>43.0</td>\n",
       "      <td>66.0</td>\n",
       "      <td>85.75</td>\n",
       "    </tr>\n",
       "    <tr>\n",
       "      <th>2018-03-02 04:00:00</th>\n",
       "      <td>20</td>\n",
       "      <td>2018</td>\n",
       "      <td>3</td>\n",
       "      <td>2</td>\n",
       "      <td>4</td>\n",
       "      <td>64.0</td>\n",
       "      <td>75.0</td>\n",
       "      <td>120.0</td>\n",
       "      <td>90.0</td>\n",
       "      <td>58.0</td>\n",
       "      <td>113.0</td>\n",
       "      <td>66.0</td>\n",
       "      <td>61.0</td>\n",
       "      <td>45.0</td>\n",
       "      <td>73.0</td>\n",
       "      <td>44.0</td>\n",
       "      <td>43.0</td>\n",
       "      <td>66.0</td>\n",
       "      <td>48.0</td>\n",
       "      <td>32.0</td>\n",
       "      <td>30.0</td>\n",
       "      <td>96.0</td>\n",
       "      <td>64.0</td>\n",
       "      <td>69.0</td>\n",
       "      <td>34.0</td>\n",
       "      <td>15.0</td>\n",
       "      <td>12.0</td>\n",
       "      <td>6.0</td>\n",
       "      <td>43.0</td>\n",
       "      <td>87.25</td>\n",
       "    </tr>\n",
       "  </tbody>\n",
       "</table>\n",
       "</div>"
      ],
      "text/plain": [
       "                     num_orders  year  month  day  dayofweek  lag_1  lag_2  \\\n",
       "datetime                                                                     \n",
       "2018-03-02 00:00:00          90  2018      3    2          4   58.0  113.0   \n",
       "2018-03-02 01:00:00         120  2018      3    2          4   90.0   58.0   \n",
       "2018-03-02 02:00:00          75  2018      3    2          4  120.0   90.0   \n",
       "2018-03-02 03:00:00          64  2018      3    2          4   75.0  120.0   \n",
       "2018-03-02 04:00:00          20  2018      3    2          4   64.0   75.0   \n",
       "\n",
       "                     lag_3  lag_4  lag_5  lag_6  lag_7  lag_8  lag_9  lag_10  \\\n",
       "datetime                                                                       \n",
       "2018-03-02 00:00:00   66.0   61.0   45.0   73.0   44.0   43.0   66.0    48.0   \n",
       "2018-03-02 01:00:00  113.0   66.0   61.0   45.0   73.0   44.0   43.0    66.0   \n",
       "2018-03-02 02:00:00   58.0  113.0   66.0   61.0   45.0   73.0   44.0    43.0   \n",
       "2018-03-02 03:00:00   90.0   58.0  113.0   66.0   61.0   45.0   73.0    44.0   \n",
       "2018-03-02 04:00:00  120.0   90.0   58.0  113.0   66.0   61.0   45.0    73.0   \n",
       "\n",
       "                     lag_11  lag_12  lag_13  lag_14  lag_15  lag_16  lag_17  \\\n",
       "datetime                                                                      \n",
       "2018-03-02 00:00:00    32.0    30.0    96.0    64.0    69.0    34.0    15.0   \n",
       "2018-03-02 01:00:00    48.0    32.0    30.0    96.0    64.0    69.0    34.0   \n",
       "2018-03-02 02:00:00    66.0    48.0    32.0    30.0    96.0    64.0    69.0   \n",
       "2018-03-02 03:00:00    43.0    66.0    48.0    32.0    30.0    96.0    64.0   \n",
       "2018-03-02 04:00:00    44.0    43.0    66.0    48.0    32.0    30.0    96.0   \n",
       "\n",
       "                     lag_18  lag_19  lag_20  lag_21  lag_22  lag_23  lag_24  \\\n",
       "datetime                                                                      \n",
       "2018-03-02 00:00:00    12.0     6.0    43.0    66.0    71.0    85.0   124.0   \n",
       "2018-03-02 01:00:00    15.0    12.0     6.0    43.0    66.0    71.0    85.0   \n",
       "2018-03-02 02:00:00    34.0    15.0    12.0     6.0    43.0    66.0    71.0   \n",
       "2018-03-02 03:00:00    69.0    34.0    15.0    12.0     6.0    43.0    66.0   \n",
       "2018-03-02 04:00:00    64.0    69.0    34.0    15.0    12.0     6.0    43.0   \n",
       "\n",
       "                     rolling_mean  \n",
       "datetime                           \n",
       "2018-03-02 00:00:00         74.50  \n",
       "2018-03-02 01:00:00         81.75  \n",
       "2018-03-02 02:00:00         95.25  \n",
       "2018-03-02 03:00:00         85.75  \n",
       "2018-03-02 04:00:00         87.25  "
      ]
     },
     "metadata": {},
     "output_type": "display_data"
    }
   ],
   "source": [
    "display(df.head())"
   ]
  },
  {
   "cell_type": "markdown",
   "metadata": {},
   "source": [
    "Разделим датасет на тренировочную (80%), валидационную (10%), тестовую выборки (10%)."
   ]
  },
  {
   "cell_type": "code",
   "execution_count": 29,
   "metadata": {},
   "outputs": [],
   "source": [
    "train, valid, test = \\\n",
    "              np.split(df, [int(.8*len(df)), int(.9*len(df))])"
   ]
  },
  {
   "cell_type": "code",
   "execution_count": 30,
   "metadata": {},
   "outputs": [],
   "source": [
    "X_train = train.drop('num_orders', axis=1)\n",
    "y_train = train['num_orders']\n",
    "\n",
    "X_valid = valid.drop('num_orders', axis=1)\n",
    "y_valid = valid['num_orders']\n",
    "\n",
    "X_test = test.drop('num_orders', axis=1)\n",
    "y_test = test['num_orders']"
   ]
  },
  {
   "cell_type": "code",
   "execution_count": 31,
   "metadata": {
    "scrolled": true
   },
   "outputs": [
    {
     "name": "stdout",
     "output_type": "stream",
     "text": [
      "Размеры выборок равны: X_train - (3513, 29), y_train - (3513,), X_valid - (439, 29), y_valid - (439,), X_test - (440, 29), y_test - (440,)\n"
     ]
    }
   ],
   "source": [
    "print(f'Размеры выборок равны: X_train - {X_train.shape}, y_train - {y_train.shape}, X_valid - {X_valid.shape}, y_valid - {y_valid.shape}, X_test - {X_test.shape}, y_test - {y_test.shape}')"
   ]
  },
  {
   "cell_type": "markdown",
   "metadata": {},
   "source": [
    "<div class=\"alert alert-block alert-danger\">\n",
    "<b>Ошибка (ревью 2):</b> Размер тестовой выборки должен быть равен 10% – это требование заказчика.\n",
    "</div>"
   ]
  },
  {
   "cell_type": "markdown",
   "metadata": {},
   "source": [
    "<div class=\"alert alert-block alert-warning\">\n",
    "<b>Комментарий студента 2:</b> изменила согласно условию"
   ]
  },
  {
   "cell_type": "markdown",
   "metadata": {},
   "source": [
    "<div class=\"alert alert-block alert-success\">\n",
    "<b>Успех (ревью 3):</b> ОК.\n",
    "</div>"
   ]
  },
  {
   "cell_type": "markdown",
   "metadata": {},
   "source": [
    "### LinearRegression"
   ]
  },
  {
   "cell_type": "code",
   "execution_count": 32,
   "metadata": {},
   "outputs": [],
   "source": [
    "model_lin_reg = LinearRegression()\n",
    "model_lin_reg = model_lin_reg.fit(X_train, y_train)\n",
    "pred_valid_lin_reg = model_lin_reg.predict(X_valid)"
   ]
  },
  {
   "cell_type": "code",
   "execution_count": 33,
   "metadata": {},
   "outputs": [
    {
     "name": "stdout",
     "output_type": "stream",
     "text": [
      "RMSE на валидационной выборке = 34.15199822048301\n"
     ]
    }
   ],
   "source": [
    "rmse_lin_reg = mean_squared_error(y_valid, pred_valid_lin_reg, squared=False)\n",
    "print(f'RMSE на валидационной выборке = {rmse_lin_reg}')"
   ]
  },
  {
   "cell_type": "markdown",
   "metadata": {},
   "source": [
    "### RandomForest"
   ]
  },
  {
   "cell_type": "code",
   "execution_count": 34,
   "metadata": {},
   "outputs": [],
   "source": [
    "model_rf = RandomForestRegressor(n_estimators=100)\n",
    "model_rf = model_rf.fit(X_train, y_train)\n",
    "pred_valid_rf = model_rf.predict(X_valid)"
   ]
  },
  {
   "cell_type": "code",
   "execution_count": 35,
   "metadata": {},
   "outputs": [
    {
     "name": "stdout",
     "output_type": "stream",
     "text": [
      "RMSE на валидационной выборке = 33.18131814789597\n"
     ]
    }
   ],
   "source": [
    "rmse_rf = mean_squared_error(y_valid, pred_valid_rf, squared=False)\n",
    "print(f'RMSE на валидационной выборке = {rmse_rf}')"
   ]
  },
  {
   "cell_type": "markdown",
   "metadata": {},
   "source": [
    "<div class=\"alert alert-block alert-danger\">\n",
    "<b>Ошибка:</b> При работе с временными рядами нельзя использовать стандартную кросс-валидацию, так как в определенный момент тренировочная выборка окажется позже валидационной. Для решения этой проблемы стоит использовать <a href=\"https://scikit-learn.org/stable/modules/generated/sklearn.model_selection.TimeSeriesSplit.html\">TimeSeriesSplit</a>. Объект этого типа можно передать в параметр cv в метод основанный на кросс-валидации.\n",
    "</div>"
   ]
  },
  {
   "cell_type": "markdown",
   "metadata": {},
   "source": [
    "### CatBoostRegressor"
   ]
  },
  {
   "cell_type": "code",
   "execution_count": 36,
   "metadata": {
    "scrolled": true
   },
   "outputs": [
    {
     "name": "stdout",
     "output_type": "stream",
     "text": [
      "0:\tlearn: 34.2459134\ttotal: 48.3ms\tremaining: 4.78s\n",
      "1:\tlearn: 33.0379605\ttotal: 50.2ms\tremaining: 2.46s\n",
      "2:\tlearn: 32.0775228\ttotal: 52ms\tremaining: 1.68s\n",
      "3:\tlearn: 31.1593995\ttotal: 53.6ms\tremaining: 1.29s\n",
      "4:\tlearn: 30.2991172\ttotal: 55.3ms\tremaining: 1.05s\n",
      "5:\tlearn: 29.6168098\ttotal: 56.9ms\tremaining: 892ms\n",
      "6:\tlearn: 28.9336390\ttotal: 58.6ms\tremaining: 779ms\n",
      "7:\tlearn: 28.3638592\ttotal: 60.3ms\tremaining: 694ms\n",
      "8:\tlearn: 27.8651067\ttotal: 62ms\tremaining: 627ms\n",
      "9:\tlearn: 27.4338446\ttotal: 63.7ms\tremaining: 573ms\n",
      "10:\tlearn: 27.0843372\ttotal: 65.3ms\tremaining: 528ms\n",
      "11:\tlearn: 26.7841834\ttotal: 66.9ms\tremaining: 491ms\n",
      "12:\tlearn: 26.4855620\ttotal: 69ms\tremaining: 461ms\n",
      "13:\tlearn: 26.1871153\ttotal: 70.6ms\tremaining: 434ms\n",
      "14:\tlearn: 25.9970879\ttotal: 72.3ms\tremaining: 410ms\n",
      "15:\tlearn: 25.7670814\ttotal: 73.9ms\tremaining: 388ms\n",
      "16:\tlearn: 25.5898945\ttotal: 75.6ms\tremaining: 369ms\n",
      "17:\tlearn: 25.4269422\ttotal: 77.2ms\tremaining: 352ms\n",
      "18:\tlearn: 25.2652872\ttotal: 78.9ms\tremaining: 336ms\n",
      "19:\tlearn: 25.0546906\ttotal: 80.5ms\tremaining: 322ms\n",
      "20:\tlearn: 24.8973241\ttotal: 82.1ms\tremaining: 309ms\n",
      "21:\tlearn: 24.7478179\ttotal: 83.8ms\tremaining: 297ms\n",
      "22:\tlearn: 24.6050194\ttotal: 85.5ms\tremaining: 286ms\n",
      "23:\tlearn: 24.5163107\ttotal: 87.2ms\tremaining: 276ms\n",
      "24:\tlearn: 24.4010593\ttotal: 88.8ms\tremaining: 266ms\n",
      "25:\tlearn: 24.2940754\ttotal: 90.4ms\tremaining: 257ms\n",
      "26:\tlearn: 24.1516420\ttotal: 92.1ms\tremaining: 249ms\n",
      "27:\tlearn: 24.0586819\ttotal: 93.8ms\tremaining: 241ms\n",
      "28:\tlearn: 23.9692738\ttotal: 95.4ms\tremaining: 234ms\n",
      "29:\tlearn: 23.9015269\ttotal: 97ms\tremaining: 226ms\n",
      "30:\tlearn: 23.8381728\ttotal: 98.6ms\tremaining: 219ms\n",
      "31:\tlearn: 23.7724257\ttotal: 100ms\tremaining: 213ms\n",
      "32:\tlearn: 23.6845890\ttotal: 102ms\tremaining: 207ms\n",
      "33:\tlearn: 23.6192668\ttotal: 104ms\tremaining: 201ms\n",
      "34:\tlearn: 23.5620892\ttotal: 105ms\tremaining: 196ms\n",
      "35:\tlearn: 23.4946806\ttotal: 107ms\tremaining: 190ms\n",
      "36:\tlearn: 23.4395713\ttotal: 109ms\tremaining: 185ms\n",
      "37:\tlearn: 23.3856629\ttotal: 110ms\tremaining: 180ms\n",
      "38:\tlearn: 23.3316928\ttotal: 112ms\tremaining: 175ms\n",
      "39:\tlearn: 23.2851132\ttotal: 113ms\tremaining: 170ms\n",
      "40:\tlearn: 23.2548219\ttotal: 115ms\tremaining: 166ms\n",
      "41:\tlearn: 23.2249506\ttotal: 117ms\tremaining: 161ms\n",
      "42:\tlearn: 23.1808353\ttotal: 118ms\tremaining: 157ms\n",
      "43:\tlearn: 23.1517840\ttotal: 120ms\tremaining: 153ms\n",
      "44:\tlearn: 23.1208229\ttotal: 122ms\tremaining: 149ms\n",
      "45:\tlearn: 23.0875523\ttotal: 123ms\tremaining: 145ms\n",
      "46:\tlearn: 23.0557557\ttotal: 125ms\tremaining: 141ms\n",
      "47:\tlearn: 23.0197134\ttotal: 127ms\tremaining: 138ms\n",
      "48:\tlearn: 22.9986250\ttotal: 129ms\tremaining: 134ms\n",
      "49:\tlearn: 22.9742376\ttotal: 130ms\tremaining: 130ms\n",
      "50:\tlearn: 22.9372694\ttotal: 132ms\tremaining: 127ms\n",
      "51:\tlearn: 22.9188318\ttotal: 134ms\tremaining: 123ms\n",
      "52:\tlearn: 22.8870802\ttotal: 135ms\tremaining: 120ms\n",
      "53:\tlearn: 22.8417658\ttotal: 138ms\tremaining: 117ms\n",
      "54:\tlearn: 22.8076171\ttotal: 139ms\tremaining: 114ms\n",
      "55:\tlearn: 22.7758045\ttotal: 141ms\tremaining: 111ms\n",
      "56:\tlearn: 22.7368162\ttotal: 143ms\tremaining: 108ms\n",
      "57:\tlearn: 22.7115093\ttotal: 144ms\tremaining: 105ms\n",
      "58:\tlearn: 22.6782067\ttotal: 146ms\tremaining: 101ms\n",
      "59:\tlearn: 22.6549288\ttotal: 148ms\tremaining: 98.4ms\n",
      "60:\tlearn: 22.6322348\ttotal: 149ms\tremaining: 95.4ms\n",
      "61:\tlearn: 22.6100923\ttotal: 151ms\tremaining: 92.6ms\n",
      "62:\tlearn: 22.5893093\ttotal: 153ms\tremaining: 89.7ms\n",
      "63:\tlearn: 22.5589753\ttotal: 155ms\tremaining: 86.9ms\n",
      "64:\tlearn: 22.5391191\ttotal: 156ms\tremaining: 84.1ms\n",
      "65:\tlearn: 22.5215176\ttotal: 158ms\tremaining: 81.4ms\n",
      "66:\tlearn: 22.5065323\ttotal: 160ms\tremaining: 78.6ms\n",
      "67:\tlearn: 22.4725666\ttotal: 161ms\tremaining: 76ms\n",
      "68:\tlearn: 22.4418085\ttotal: 163ms\tremaining: 73.4ms\n",
      "69:\tlearn: 22.4019158\ttotal: 165ms\tremaining: 70.7ms\n",
      "70:\tlearn: 22.3701699\ttotal: 167ms\tremaining: 68ms\n",
      "71:\tlearn: 22.3285028\ttotal: 168ms\tremaining: 65.4ms\n",
      "72:\tlearn: 22.3047528\ttotal: 170ms\tremaining: 62.8ms\n",
      "73:\tlearn: 22.2922747\ttotal: 171ms\tremaining: 60.2ms\n",
      "74:\tlearn: 22.2786129\ttotal: 173ms\tremaining: 57.6ms\n",
      "75:\tlearn: 22.2624704\ttotal: 175ms\tremaining: 55.1ms\n",
      "76:\tlearn: 22.2327298\ttotal: 176ms\tremaining: 52.6ms\n",
      "77:\tlearn: 22.2078398\ttotal: 178ms\tremaining: 50.1ms\n",
      "78:\tlearn: 22.1828773\ttotal: 179ms\tremaining: 47.6ms\n",
      "79:\tlearn: 22.1536530\ttotal: 181ms\tremaining: 45.2ms\n",
      "80:\tlearn: 22.1432319\ttotal: 182ms\tremaining: 42.8ms\n",
      "81:\tlearn: 22.1132124\ttotal: 184ms\tremaining: 40.4ms\n",
      "82:\tlearn: 22.0719848\ttotal: 186ms\tremaining: 38ms\n",
      "83:\tlearn: 22.0590137\ttotal: 187ms\tremaining: 35.6ms\n",
      "84:\tlearn: 22.0372363\ttotal: 189ms\tremaining: 33.3ms\n",
      "85:\tlearn: 22.0238365\ttotal: 190ms\tremaining: 31ms\n",
      "86:\tlearn: 22.0076113\ttotal: 192ms\tremaining: 28.7ms\n",
      "87:\tlearn: 21.9953030\ttotal: 193ms\tremaining: 26.4ms\n",
      "88:\tlearn: 21.9720099\ttotal: 195ms\tremaining: 24.1ms\n",
      "89:\tlearn: 21.9452203\ttotal: 197ms\tremaining: 21.9ms\n",
      "90:\tlearn: 21.9202432\ttotal: 198ms\tremaining: 19.6ms\n",
      "91:\tlearn: 21.9010240\ttotal: 200ms\tremaining: 17.4ms\n",
      "92:\tlearn: 21.8806749\ttotal: 202ms\tremaining: 15.2ms\n",
      "93:\tlearn: 21.8610544\ttotal: 203ms\tremaining: 13ms\n",
      "94:\tlearn: 21.8396078\ttotal: 205ms\tremaining: 10.8ms\n",
      "95:\tlearn: 21.8135298\ttotal: 207ms\tremaining: 8.61ms\n",
      "96:\tlearn: 21.7841257\ttotal: 208ms\tremaining: 6.44ms\n",
      "97:\tlearn: 21.7544876\ttotal: 210ms\tremaining: 4.28ms\n",
      "98:\tlearn: 21.7361608\ttotal: 212ms\tremaining: 2.14ms\n",
      "99:\tlearn: 21.7124651\ttotal: 213ms\tremaining: 0us\n",
      "RMSE на валидационной выборке с подбором лучших гиперпараметров = 34.89133957618595\n"
     ]
    }
   ],
   "source": [
    "model_cat = CatBoostRegressor(#iterations=200,\n",
    "                          learning_rate=0.1,\n",
    "                          depth=3, n_estimators=100)\n",
    "# Fit model\n",
    "model_cat.fit(X_train, y_train)\n",
    "# Get predictions\n",
    "preds = model_cat.predict(X_valid)\n",
    "rmse_cat = mean_squared_error(y_valid, preds, squared=False)\n",
    "print(f'RMSE на валидационной выборке с подбором лучших гиперпараметров = {rmse_cat}')"
   ]
  },
  {
   "cell_type": "code",
   "execution_count": 37,
   "metadata": {},
   "outputs": [],
   "source": [
    "#def objective(trial):\n",
    "   # max_depths = trial.suggest_int('max_depth', 3, 12)\n",
    "   #n_estimators = trial.suggest_int('n_estimators', 50, 400)\n",
    "  #  learning_rate = trial.suggest_float('learning_rate', 0.001, 0.1)    \n",
    "  #  reg = CatBoostRegressor(n_estimators=n_estimators,\n",
    "                           # max_depth=max_depths,\n",
    "                         # learning_rate = learning_rate)\n",
    "    \n",
    "    #score = cross_val_score(reg, X_train, y_train, \n",
    "                            #scoring=\"neg_mean_squared_error\", n_jobs=-1, cv=10, error_score='raise').mean()\n",
    "\n",
    "    #return score"
   ]
  },
  {
   "cell_type": "code",
   "execution_count": 38,
   "metadata": {},
   "outputs": [],
   "source": [
    "#%%time\n",
    "#study = optuna.create_study(direction=\"minimize\")\n",
    "#study.optimize(objective, n_trials=10)"
   ]
  },
  {
   "cell_type": "code",
   "execution_count": 39,
   "metadata": {},
   "outputs": [],
   "source": [
    "#study.best_trial.params"
   ]
  },
  {
   "cell_type": "code",
   "execution_count": 40,
   "metadata": {
    "scrolled": true
   },
   "outputs": [],
   "source": [
    "#Best_trial = study.best_trial.params\n",
    "#model_cat = CatBoostRegressor(**Best_trial)\n",
    "#model_cat.fit(X_train, y_train)"
   ]
  },
  {
   "cell_type": "code",
   "execution_count": 41,
   "metadata": {},
   "outputs": [],
   "source": [
    "#pred_cat = model_cat.predict(X_valid)\n",
    "#rmse_cat = mean_squared_error(y_valid, pred_cat, squared=False)\n",
    "#print(f'RMSE на валидационной выборке с подбором лучших гиперпараметров = {rmse_cat}')"
   ]
  },
  {
   "cell_type": "markdown",
   "metadata": {},
   "source": [
    "<div class=\"alert alert-block alert-success\">\n",
    "<b>Успех:</b> Молодец, что попробовала разные модели в этом шаге!\n",
    "</div>"
   ]
  },
  {
   "cell_type": "markdown",
   "metadata": {},
   "source": [
    "## Тестирование"
   ]
  },
  {
   "cell_type": "code",
   "execution_count": 47,
   "metadata": {
    "scrolled": true
   },
   "outputs": [
    {
     "data": {
      "text/plain": [
       "LinearRegression()"
      ]
     },
     "execution_count": 47,
     "metadata": {},
     "output_type": "execute_result"
    }
   ],
   "source": [
    "best_model = model_lin_reg\n",
    "best_model.fit(X_train, y_train)"
   ]
  },
  {
   "cell_type": "code",
   "execution_count": 48,
   "metadata": {},
   "outputs": [
    {
     "name": "stdout",
     "output_type": "stream",
     "text": [
      "RMSE на тестовой выборке = 46.172827783003996\n"
     ]
    }
   ],
   "source": [
    "pred_test = best_model.predict(X_test)\n",
    "rmse = mean_squared_error(y_test, pred_test, squared=False)\n",
    "print(f'RMSE на тестовой выборке = {rmse}')"
   ]
  },
  {
   "cell_type": "raw",
   "metadata": {},
   "source": [
    "<div class=\"alert alert-block alert-danger\">\n",
    "<b>Ошибка:</b> Перейдя к разности ты изменил задачу, а значит теперь у тебя RMSE – задачи предсказания разности, а нужно измерить метрику исходной задачи. Нужно сделать обратное преобразование или вообще не переходить к разности.\n",
    "</div>"
   ]
  },
  {
   "cell_type": "code",
   "execution_count": 49,
   "metadata": {
    "scrolled": false
   },
   "outputs": [
    {
     "data": {
      "image/png": "[encoded data removed]",
      "text/plain": [
       "<Figure size 1080x504 with 1 Axes>"
      ]
     },
     "metadata": {
      "needs_background": "light"
     },
     "output_type": "display_data"
    }
   ],
   "source": [
    "plt.figure(figsize=(15, 7))\n",
    "plt.plot(pred_test, \"r\", label=\"prediction\")\n",
    "plt.plot(y_test.values,\"skyblue\", label=\"actual\")\n",
    "plt.legend(loc=\"best\")\n",
    "plt.title(\"LinearRegression\\n RMSE {}\".format(round(mean_squared_error(y_test, pred_test, squared=False))))\n",
    "plt.grid(True);"
   ]
  },
  {
   "cell_type": "markdown",
   "metadata": {},
   "source": [
    "<div class=\"alert alert-info\">\n",
    "<h2> Комментарий студента <a class=\"tocSkip\"> </h2>\n",
    "<b></b> \n",
    "   Я вижу, что значения предсказаний получились только отрицательные. Думаю, что это связано с порядком обработки, когда избавлялась от тренда. Как правильно обработать не нашла примеры, которые бы подошли. \n",
    "    \n",
    "> Можно никак не преобразовывать. Подход основанный на создании признаков нормально справляется с нестационарным рядом.\n",
    "    "
   ]
  },
  {
   "cell_type": "markdown",
   "metadata": {},
   "source": [
    "<div class=\"alert alert-block alert-danger\">\n",
    "\n",
    "<b>Ошибка:</b> Для улучшения качества можно:\n",
    "1. Увеличить параметры max_lag и rolling_mean_size.\n",
    "2. Объеденить треин и валидацию и переобучить модель, перед финальным тестированием.\n",
    "</div>"
   ]
  },
  {
   "cell_type": "markdown",
   "metadata": {},
   "source": [
    "<div class=\"alert alert-block alert-warning\">\n",
    "<b>Комментарий студента:</b> переделала. увеличивала max_lag и rolling_mean_size, объединяла треин и валидацию и переобучала модель, перед финальным тестированием. rmse минимальный получался только 50. только поменяв % трейна, теста и только на лин. регрессии получилось 48. кросс-валидацию попробовала как в статье https://habr.com/ru/company/ods/blog/327242/. rmse по сравнению с уже использованными моделями осталось такое же."
   ]
  },
  {
   "cell_type": "markdown",
   "metadata": {},
   "source": [
    "<div class=\"alert alert-block alert-info\">\n",
    "<b>Совет (ревью 2): </b> Попробуй увеличить max_lag до 24 (сутки).\n",
    "</div>"
   ]
  },
  {
   "cell_type": "markdown",
   "metadata": {},
   "source": [
    "<div class=\"alert alert-block alert-warning\">\n",
    "<b>Комментарий студента 2:</b> увеличила max_lag до 24. Только на линейной регрессии самая лучшая и единственная удовлетворяющая условию метрика получилась. Спасибо за проверу моего проекта и советы))"
   ]
  },
  {
   "cell_type": "markdown",
   "metadata": {},
   "source": [
    "<div class=\"alert alert-block alert-success\">\n",
    "<b>Успех (ревью 3):</b> Поздравляю!\n",
    "</div>"
   ]
  },
  {
   "cell_type": "markdown",
   "metadata": {},
   "source": [
    "## Чек-лист проверки"
   ]
  },
  {
   "cell_type": "markdown",
   "metadata": {},
   "source": [
    "- [x]  Jupyter Notebook открыт\n",
    "- [ ]  Весь код выполняется без ошибок\n",
    "- [ ]  Ячейки с кодом расположены в порядке исполнения\n",
    "- [ ]  Данные загружены и подготовлены\n",
    "- [ ]  Данные проанализированы\n",
    "- [ ]  Модель обучена, гиперпараметры подобраны\n",
    "- [ ]  Качество моделей проверено, выводы сделаны\n",
    "- [ ]  Значение *RMSE* на тестовой выборке не больше 48"
   ]
  }
 ],
 "metadata": {
  "ExecuteTimeLog": [
   {
    "duration": 425,
    "start_time": "2022-10-13T10:02:00.985Z"
   },
   {
    "duration": 106,
    "start_time": "2022-10-13T10:02:02.159Z"
   },
   {
    "duration": 80,
    "start_time": "2022-10-13T10:03:59.005Z"
   },
   {
    "duration": 9,
    "start_time": "2022-10-13T10:04:22.118Z"
   },
   {
    "duration": 10,
    "start_time": "2022-10-13T10:04:42.886Z"
   },
   {
    "duration": 10,
    "start_time": "2022-10-13T10:05:32.009Z"
   },
   {
    "duration": 12,
    "start_time": "2022-10-13T10:07:52.214Z"
   },
   {
    "duration": 7,
    "start_time": "2022-10-13T10:09:17.980Z"
   },
   {
    "duration": 14,
    "start_time": "2022-10-13T10:09:28.556Z"
   },
   {
    "duration": 67,
    "start_time": "2022-10-13T10:10:28.889Z"
   },
   {
    "duration": 21,
    "start_time": "2022-10-13T10:10:31.606Z"
   },
   {
    "duration": 9,
    "start_time": "2022-10-13T10:10:42.745Z"
   },
   {
    "duration": 7,
    "start_time": "2022-10-13T10:11:12.152Z"
   },
   {
    "duration": 7,
    "start_time": "2022-10-13T10:12:26.068Z"
   },
   {
    "duration": 417,
    "start_time": "2022-10-13T10:12:43.201Z"
   },
   {
    "duration": 45,
    "start_time": "2022-10-13T10:12:43.620Z"
   },
   {
    "duration": 10,
    "start_time": "2022-10-13T10:12:43.667Z"
   },
   {
    "duration": 9,
    "start_time": "2022-10-13T10:12:43.679Z"
   },
   {
    "duration": 6,
    "start_time": "2022-10-13T10:12:57.230Z"
   },
   {
    "duration": 4,
    "start_time": "2022-10-13T10:16:32.297Z"
   },
   {
    "duration": 738,
    "start_time": "2022-10-13T10:17:59.011Z"
   },
   {
    "duration": 4,
    "start_time": "2022-10-13T10:18:29.191Z"
   },
   {
    "duration": 4,
    "start_time": "2022-10-13T10:19:40.813Z"
   },
   {
    "duration": 4,
    "start_time": "2022-10-13T10:19:50.206Z"
   },
   {
    "duration": 218,
    "start_time": "2022-10-13T10:23:20.458Z"
   },
   {
    "duration": 95,
    "start_time": "2022-10-13T10:24:46.451Z"
   },
   {
    "duration": 5,
    "start_time": "2022-10-13T10:27:19.283Z"
   },
   {
    "duration": 13,
    "start_time": "2022-10-13T10:27:44.145Z"
   },
   {
    "duration": 272,
    "start_time": "2022-10-13T10:28:16.664Z"
   },
   {
    "duration": 238,
    "start_time": "2022-10-13T10:28:24.044Z"
   },
   {
    "duration": 242,
    "start_time": "2022-10-13T10:28:38.334Z"
   },
   {
    "duration": 230,
    "start_time": "2022-10-13T10:28:46.338Z"
   },
   {
    "duration": 230,
    "start_time": "2022-10-13T10:28:54.312Z"
   },
   {
    "duration": 291,
    "start_time": "2022-10-13T10:29:17.119Z"
   },
   {
    "duration": 370,
    "start_time": "2022-10-13T10:29:47.147Z"
   },
   {
    "duration": 263,
    "start_time": "2022-10-13T10:29:59.681Z"
   },
   {
    "duration": 105,
    "start_time": "2022-10-13T10:31:18.569Z"
   },
   {
    "duration": 10,
    "start_time": "2022-10-13T10:34:30.596Z"
   },
   {
    "duration": 7,
    "start_time": "2022-10-13T10:34:34.899Z"
   },
   {
    "duration": 7,
    "start_time": "2022-10-13T10:34:55.661Z"
   },
   {
    "duration": 12,
    "start_time": "2022-10-13T10:35:01.021Z"
   },
   {
    "duration": 7,
    "start_time": "2022-10-13T10:35:07.715Z"
   },
   {
    "duration": 401,
    "start_time": "2022-10-13T10:35:18.325Z"
   },
   {
    "duration": 44,
    "start_time": "2022-10-13T10:35:18.949Z"
   },
   {
    "duration": 9,
    "start_time": "2022-10-13T10:35:19.759Z"
   },
   {
    "duration": 8,
    "start_time": "2022-10-13T10:35:20.799Z"
   },
   {
    "duration": 8,
    "start_time": "2022-10-13T10:35:22.371Z"
   },
   {
    "duration": 7,
    "start_time": "2022-10-13T10:35:24.719Z"
   },
   {
    "duration": 3,
    "start_time": "2022-10-13T10:35:51.998Z"
   },
   {
    "duration": 3,
    "start_time": "2022-10-13T10:35:53.120Z"
   },
   {
    "duration": 452,
    "start_time": "2022-10-13T10:35:54.193Z"
   },
   {
    "duration": 286,
    "start_time": "2022-10-13T10:36:04.503Z"
   },
   {
    "duration": 116,
    "start_time": "2022-10-13T10:36:12.827Z"
   },
   {
    "duration": 838,
    "start_time": "2022-10-13T10:44:19.583Z"
   },
   {
    "duration": 790,
    "start_time": "2022-10-13T10:44:24.342Z"
   },
   {
    "duration": 802,
    "start_time": "2022-10-13T10:44:28.404Z"
   },
   {
    "duration": 36110,
    "start_time": "2022-10-13T10:45:02.944Z"
   },
   {
    "duration": 2544,
    "start_time": "2022-10-13T10:48:09.532Z"
   },
   {
    "duration": 3,
    "start_time": "2022-10-13T10:48:22.047Z"
   },
   {
    "duration": 15,
    "start_time": "2022-10-13T10:50:07.091Z"
   },
   {
    "duration": 12,
    "start_time": "2022-10-13T10:59:16.457Z"
   },
   {
    "duration": 208,
    "start_time": "2022-10-13T10:59:39.751Z"
   },
   {
    "duration": 12357,
    "start_time": "2022-10-13T10:59:46.444Z"
   },
   {
    "duration": 21,
    "start_time": "2022-10-13T11:00:35.051Z"
   },
   {
    "duration": 2760,
    "start_time": "2022-10-13T11:01:00.136Z"
   },
   {
    "duration": 1471,
    "start_time": "2022-10-13T11:01:02.998Z"
   },
   {
    "duration": 19,
    "start_time": "2022-10-13T11:01:14.522Z"
   },
   {
    "duration": 3,
    "start_time": "2022-10-13T11:01:19.865Z"
   },
   {
    "duration": 13,
    "start_time": "2022-10-13T11:04:24.092Z"
   },
   {
    "duration": 11,
    "start_time": "2022-10-13T11:04:34.464Z"
   },
   {
    "duration": 15,
    "start_time": "2022-10-13T11:04:50.281Z"
   },
   {
    "duration": 11,
    "start_time": "2022-10-13T11:05:26.661Z"
   },
   {
    "duration": 3,
    "start_time": "2022-10-13T11:05:52.004Z"
   },
   {
    "duration": 4,
    "start_time": "2022-10-13T11:05:54.424Z"
   },
   {
    "duration": 10,
    "start_time": "2022-10-13T11:05:59.956Z"
   },
   {
    "duration": 2371,
    "start_time": "2022-10-13T11:07:15.983Z"
   },
   {
    "duration": 39,
    "start_time": "2022-10-13T11:07:19.053Z"
   },
   {
    "duration": 210,
    "start_time": "2022-10-13T11:07:23.354Z"
   },
   {
    "duration": 14,
    "start_time": "2022-10-13T11:07:44.715Z"
   },
   {
    "duration": 3,
    "start_time": "2022-10-13T11:10:56.879Z"
   },
   {
    "duration": 133,
    "start_time": "2022-10-13T11:40:26.755Z"
   },
   {
    "duration": 11,
    "start_time": "2022-10-13T11:40:41.915Z"
   },
   {
    "duration": 16,
    "start_time": "2022-10-13T11:41:11.104Z"
   },
   {
    "duration": 16,
    "start_time": "2022-10-13T11:41:57.401Z"
   },
   {
    "duration": 6,
    "start_time": "2022-10-13T11:42:09.299Z"
   },
   {
    "duration": 11,
    "start_time": "2022-10-13T11:42:16.674Z"
   },
   {
    "duration": 19,
    "start_time": "2022-10-13T11:42:36.505Z"
   },
   {
    "duration": 12,
    "start_time": "2022-10-13T11:42:39.583Z"
   },
   {
    "duration": 6,
    "start_time": "2022-10-13T11:42:45.159Z"
   },
   {
    "duration": 3,
    "start_time": "2022-10-13T11:44:13.766Z"
   },
   {
    "duration": 6,
    "start_time": "2022-10-13T11:44:19.638Z"
   },
   {
    "duration": 9,
    "start_time": "2022-10-13T11:44:42.512Z"
   },
   {
    "duration": 4,
    "start_time": "2022-10-13T11:51:22.845Z"
   },
   {
    "duration": 22,
    "start_time": "2022-10-13T11:53:01.311Z"
   },
   {
    "duration": 1028,
    "start_time": "2022-10-13T11:53:19.040Z"
   },
   {
    "duration": 88,
    "start_time": "2022-10-13T11:53:20.070Z"
   },
   {
    "duration": 9,
    "start_time": "2022-10-13T11:53:20.160Z"
   },
   {
    "duration": 12,
    "start_time": "2022-10-13T11:53:20.172Z"
   },
   {
    "duration": 16,
    "start_time": "2022-10-13T11:53:20.186Z"
   },
   {
    "duration": 8,
    "start_time": "2022-10-13T11:53:20.203Z"
   },
   {
    "duration": 7,
    "start_time": "2022-10-13T11:53:20.212Z"
   },
   {
    "duration": 5,
    "start_time": "2022-10-13T11:53:20.221Z"
   },
   {
    "duration": 248,
    "start_time": "2022-10-13T11:53:20.228Z"
   },
   {
    "duration": 310,
    "start_time": "2022-10-13T11:53:20.479Z"
   },
   {
    "duration": 132,
    "start_time": "2022-10-13T11:53:20.791Z"
   },
   {
    "duration": 98,
    "start_time": "2022-10-13T11:53:20.925Z"
   },
   {
    "duration": 125,
    "start_time": "2022-10-13T11:53:21.025Z"
   },
   {
    "duration": 18,
    "start_time": "2022-10-13T11:53:58.120Z"
   },
   {
    "duration": 5,
    "start_time": "2022-10-13T11:54:14.937Z"
   },
   {
    "duration": 1056,
    "start_time": "2022-10-13T11:55:17.577Z"
   },
   {
    "duration": 91,
    "start_time": "2022-10-13T11:55:18.635Z"
   },
   {
    "duration": 11,
    "start_time": "2022-10-13T11:55:18.727Z"
   },
   {
    "duration": 8,
    "start_time": "2022-10-13T11:55:18.741Z"
   },
   {
    "duration": 6,
    "start_time": "2022-10-13T11:55:18.751Z"
   },
   {
    "duration": 6,
    "start_time": "2022-10-13T11:55:18.758Z"
   },
   {
    "duration": 4,
    "start_time": "2022-10-13T11:55:18.766Z"
   },
   {
    "duration": 5,
    "start_time": "2022-10-13T11:55:18.772Z"
   },
   {
    "duration": 733,
    "start_time": "2022-10-13T11:55:18.778Z"
   },
   {
    "duration": 230,
    "start_time": "2022-10-13T11:55:19.513Z"
   },
   {
    "duration": 300,
    "start_time": "2022-10-13T11:55:19.745Z"
   },
   {
    "duration": 107,
    "start_time": "2022-10-13T11:55:20.047Z"
   },
   {
    "duration": 4,
    "start_time": "2022-10-13T11:55:20.156Z"
   },
   {
    "duration": 316,
    "start_time": "2022-10-13T11:59:39.378Z"
   },
   {
    "duration": 5,
    "start_time": "2022-10-13T12:00:16.818Z"
   },
   {
    "duration": 1209,
    "start_time": "2022-10-13T12:03:44.765Z"
   },
   {
    "duration": 15,
    "start_time": "2022-10-13T12:03:56.426Z"
   },
   {
    "duration": 22,
    "start_time": "2022-10-13T12:04:47.632Z"
   },
   {
    "duration": 24,
    "start_time": "2022-10-13T12:05:54.099Z"
   },
   {
    "duration": 9,
    "start_time": "2022-10-13T12:05:59.474Z"
   },
   {
    "duration": 3,
    "start_time": "2022-10-13T12:07:06.057Z"
   },
   {
    "duration": 932,
    "start_time": "2022-10-13T12:16:43.966Z"
   },
   {
    "duration": 947,
    "start_time": "2022-10-13T12:17:00.276Z"
   },
   {
    "duration": 1381,
    "start_time": "2022-10-13T12:17:27.500Z"
   },
   {
    "duration": 42,
    "start_time": "2022-10-13T12:17:28.929Z"
   },
   {
    "duration": 10,
    "start_time": "2022-10-13T12:17:30.064Z"
   },
   {
    "duration": 11,
    "start_time": "2022-10-13T12:17:33.245Z"
   },
   {
    "duration": 9,
    "start_time": "2022-10-13T12:17:33.788Z"
   },
   {
    "duration": 6,
    "start_time": "2022-10-13T12:17:34.954Z"
   },
   {
    "duration": 309,
    "start_time": "2022-10-13T12:17:44.388Z"
   },
   {
    "duration": 132,
    "start_time": "2022-10-13T12:17:48.966Z"
   },
   {
    "duration": 5,
    "start_time": "2022-10-13T12:17:51.785Z"
   },
   {
    "duration": 1032,
    "start_time": "2022-10-13T12:17:54.356Z"
   },
   {
    "duration": 9,
    "start_time": "2022-10-13T12:20:03.136Z"
   },
   {
    "duration": 3,
    "start_time": "2022-10-13T12:21:18.194Z"
   },
   {
    "duration": 28,
    "start_time": "2022-10-13T12:22:14.496Z"
   },
   {
    "duration": 3,
    "start_time": "2022-10-13T12:23:31.318Z"
   },
   {
    "duration": 18,
    "start_time": "2022-10-13T12:24:20.378Z"
   },
   {
    "duration": 9,
    "start_time": "2022-10-13T12:24:24.222Z"
   },
   {
    "duration": 11,
    "start_time": "2022-10-13T12:25:40.897Z"
   },
   {
    "duration": 7,
    "start_time": "2022-10-13T12:25:44.444Z"
   },
   {
    "duration": 22,
    "start_time": "2022-10-13T12:25:45.100Z"
   },
   {
    "duration": 9,
    "start_time": "2022-10-13T12:26:07.310Z"
   },
   {
    "duration": 4,
    "start_time": "2022-10-13T12:26:08.000Z"
   },
   {
    "duration": 3,
    "start_time": "2022-10-13T12:26:22.188Z"
   },
   {
    "duration": 4,
    "start_time": "2022-10-13T12:26:29.662Z"
   },
   {
    "duration": 1364,
    "start_time": "2022-10-13T12:27:18.635Z"
   },
   {
    "duration": 46,
    "start_time": "2022-10-13T12:27:20.001Z"
   },
   {
    "duration": 11,
    "start_time": "2022-10-13T12:27:20.710Z"
   },
   {
    "duration": 7,
    "start_time": "2022-10-13T12:27:21.142Z"
   },
   {
    "duration": 7,
    "start_time": "2022-10-13T12:27:21.414Z"
   },
   {
    "duration": 5,
    "start_time": "2022-10-13T12:27:22.142Z"
   },
   {
    "duration": 3,
    "start_time": "2022-10-13T12:27:23.040Z"
   },
   {
    "duration": 3,
    "start_time": "2022-10-13T12:27:23.601Z"
   },
   {
    "duration": 724,
    "start_time": "2022-10-13T12:27:24.250Z"
   },
   {
    "duration": 201,
    "start_time": "2022-10-13T12:27:25.164Z"
   },
   {
    "duration": 345,
    "start_time": "2022-10-13T12:27:26.424Z"
   },
   {
    "duration": 17,
    "start_time": "2022-10-13T12:27:31.940Z"
   },
   {
    "duration": 10,
    "start_time": "2022-10-13T12:27:33.400Z"
   },
   {
    "duration": 8,
    "start_time": "2022-10-13T12:27:35.873Z"
   },
   {
    "duration": 4,
    "start_time": "2022-10-13T12:27:36.869Z"
   },
   {
    "duration": 3,
    "start_time": "2022-10-13T12:28:00.148Z"
   },
   {
    "duration": 16,
    "start_time": "2022-10-13T12:28:37.722Z"
   },
   {
    "duration": 7,
    "start_time": "2022-10-13T12:29:23.614Z"
   },
   {
    "duration": 7,
    "start_time": "2022-10-13T12:31:43.279Z"
   },
   {
    "duration": 5,
    "start_time": "2022-10-13T12:31:43.726Z"
   },
   {
    "duration": 6,
    "start_time": "2022-10-13T12:31:47.101Z"
   },
   {
    "duration": 2,
    "start_time": "2022-10-13T12:33:09.466Z"
   },
   {
    "duration": 3,
    "start_time": "2022-10-13T12:33:40.625Z"
   },
   {
    "duration": 26,
    "start_time": "2022-10-13T12:35:00.272Z"
   },
   {
    "duration": 1526,
    "start_time": "2022-10-13T12:35:32.859Z"
   },
   {
    "duration": 4,
    "start_time": "2022-10-13T12:35:34.387Z"
   },
   {
    "duration": 8,
    "start_time": "2022-10-13T12:36:15.665Z"
   },
   {
    "duration": 4,
    "start_time": "2022-10-13T12:36:16.034Z"
   },
   {
    "duration": 1563,
    "start_time": "2022-10-13T12:36:17.539Z"
   },
   {
    "duration": 4,
    "start_time": "2022-10-13T12:36:19.104Z"
   },
   {
    "duration": 1570,
    "start_time": "2022-10-13T12:36:42.249Z"
   },
   {
    "duration": 4,
    "start_time": "2022-10-13T12:36:43.821Z"
   },
   {
    "duration": 1329,
    "start_time": "2022-10-13T12:38:11.059Z"
   },
   {
    "duration": 45,
    "start_time": "2022-10-13T12:38:12.390Z"
   },
   {
    "duration": 10,
    "start_time": "2022-10-13T12:38:12.436Z"
   },
   {
    "duration": 8,
    "start_time": "2022-10-13T12:38:12.448Z"
   },
   {
    "duration": 6,
    "start_time": "2022-10-13T12:38:12.459Z"
   },
   {
    "duration": 6,
    "start_time": "2022-10-13T12:38:12.852Z"
   },
   {
    "duration": 3,
    "start_time": "2022-10-13T12:38:13.639Z"
   },
   {
    "duration": 4,
    "start_time": "2022-10-13T12:38:14.151Z"
   },
   {
    "duration": 677,
    "start_time": "2022-10-13T12:38:14.535Z"
   },
   {
    "duration": 278,
    "start_time": "2022-10-13T12:38:15.214Z"
   },
   {
    "duration": 307,
    "start_time": "2022-10-13T12:38:15.494Z"
   },
   {
    "duration": 111,
    "start_time": "2022-10-13T12:38:15.832Z"
   },
   {
    "duration": 6,
    "start_time": "2022-10-13T12:38:16.281Z"
   },
   {
    "duration": 29,
    "start_time": "2022-10-13T12:38:18.152Z"
   },
   {
    "duration": 131,
    "start_time": "2022-10-13T12:38:18.749Z"
   },
   {
    "duration": 1452,
    "start_time": "2022-10-13T12:42:34.247Z"
   },
   {
    "duration": 44,
    "start_time": "2022-10-13T12:42:35.701Z"
   },
   {
    "duration": 11,
    "start_time": "2022-10-13T12:42:35.747Z"
   },
   {
    "duration": 30,
    "start_time": "2022-10-13T12:42:35.760Z"
   },
   {
    "duration": 35,
    "start_time": "2022-10-13T12:42:35.792Z"
   },
   {
    "duration": 5,
    "start_time": "2022-10-13T12:42:36.137Z"
   },
   {
    "duration": 4,
    "start_time": "2022-10-13T12:42:36.985Z"
   },
   {
    "duration": 3,
    "start_time": "2022-10-13T12:42:37.419Z"
   },
   {
    "duration": 702,
    "start_time": "2022-10-13T12:42:37.883Z"
   },
   {
    "duration": 282,
    "start_time": "2022-10-13T12:42:38.587Z"
   },
   {
    "duration": 318,
    "start_time": "2022-10-13T12:42:38.871Z"
   },
   {
    "duration": 122,
    "start_time": "2022-10-13T12:42:39.247Z"
   },
   {
    "duration": 5,
    "start_time": "2022-10-13T12:42:39.710Z"
   },
   {
    "duration": 19,
    "start_time": "2022-10-13T12:42:42.130Z"
   },
   {
    "duration": 127,
    "start_time": "2022-10-13T12:42:43.219Z"
   },
   {
    "duration": 21,
    "start_time": "2022-10-13T12:42:55.807Z"
   },
   {
    "duration": 15,
    "start_time": "2022-10-13T12:43:09.099Z"
   },
   {
    "duration": 1337,
    "start_time": "2022-10-13T12:45:06.451Z"
   },
   {
    "duration": 45,
    "start_time": "2022-10-13T12:45:07.790Z"
   },
   {
    "duration": 11,
    "start_time": "2022-10-13T12:45:07.837Z"
   },
   {
    "duration": 15,
    "start_time": "2022-10-13T12:45:07.851Z"
   },
   {
    "duration": 6,
    "start_time": "2022-10-13T12:45:07.868Z"
   },
   {
    "duration": 8,
    "start_time": "2022-10-13T12:45:07.876Z"
   },
   {
    "duration": 25,
    "start_time": "2022-10-13T12:45:07.885Z"
   },
   {
    "duration": 11,
    "start_time": "2022-10-13T12:45:07.912Z"
   },
   {
    "duration": 719,
    "start_time": "2022-10-13T12:45:07.925Z"
   },
   {
    "duration": 299,
    "start_time": "2022-10-13T12:45:08.648Z"
   },
   {
    "duration": 320,
    "start_time": "2022-10-13T12:45:08.949Z"
   },
   {
    "duration": 103,
    "start_time": "2022-10-13T12:45:09.271Z"
   },
   {
    "duration": 5,
    "start_time": "2022-10-13T12:45:09.375Z"
   },
   {
    "duration": 20,
    "start_time": "2022-10-13T12:45:12.431Z"
   },
   {
    "duration": 8,
    "start_time": "2022-10-13T12:45:17.839Z"
   },
   {
    "duration": 4,
    "start_time": "2022-10-13T12:45:22.224Z"
   },
   {
    "duration": 126,
    "start_time": "2022-10-13T12:45:26.426Z"
   },
   {
    "duration": 8,
    "start_time": "2022-10-13T13:19:36.497Z"
   },
   {
    "duration": 6,
    "start_time": "2022-10-13T13:19:39.191Z"
   },
   {
    "duration": 3,
    "start_time": "2022-10-13T13:19:40.611Z"
   },
   {
    "duration": 17,
    "start_time": "2022-10-13T13:19:41.811Z"
   },
   {
    "duration": 1422,
    "start_time": "2022-10-13T13:21:42.893Z"
   },
   {
    "duration": 42,
    "start_time": "2022-10-13T13:21:44.318Z"
   },
   {
    "duration": 10,
    "start_time": "2022-10-13T13:21:44.362Z"
   },
   {
    "duration": 11,
    "start_time": "2022-10-13T13:21:44.376Z"
   },
   {
    "duration": 20,
    "start_time": "2022-10-13T13:21:44.390Z"
   },
   {
    "duration": 11,
    "start_time": "2022-10-13T13:21:44.412Z"
   },
   {
    "duration": 5,
    "start_time": "2022-10-13T13:21:44.425Z"
   },
   {
    "duration": 8,
    "start_time": "2022-10-13T13:21:44.431Z"
   },
   {
    "duration": 717,
    "start_time": "2022-10-13T13:21:44.441Z"
   },
   {
    "duration": 271,
    "start_time": "2022-10-13T13:21:45.160Z"
   },
   {
    "duration": 313,
    "start_time": "2022-10-13T13:21:45.432Z"
   },
   {
    "duration": 105,
    "start_time": "2022-10-13T13:21:45.746Z"
   },
   {
    "duration": 5,
    "start_time": "2022-10-13T13:21:45.853Z"
   },
   {
    "duration": 34,
    "start_time": "2022-10-13T13:21:45.860Z"
   },
   {
    "duration": 140,
    "start_time": "2022-10-13T13:21:45.896Z"
   },
   {
    "duration": 0,
    "start_time": "2022-10-13T13:21:46.038Z"
   },
   {
    "duration": 0,
    "start_time": "2022-10-13T13:21:46.040Z"
   },
   {
    "duration": 9,
    "start_time": "2022-10-13T13:22:26.864Z"
   },
   {
    "duration": 11,
    "start_time": "2022-10-13T13:22:43.597Z"
   },
   {
    "duration": 10,
    "start_time": "2022-10-13T13:23:23.393Z"
   },
   {
    "duration": 8,
    "start_time": "2022-10-13T13:23:26.960Z"
   },
   {
    "duration": 14,
    "start_time": "2022-10-13T13:23:27.632Z"
   },
   {
    "duration": 12,
    "start_time": "2022-10-13T13:25:05.082Z"
   },
   {
    "duration": 1422,
    "start_time": "2022-10-13T13:29:43.080Z"
   },
   {
    "duration": 45,
    "start_time": "2022-10-13T13:29:44.504Z"
   },
   {
    "duration": 12,
    "start_time": "2022-10-13T13:29:44.551Z"
   },
   {
    "duration": 17,
    "start_time": "2022-10-13T13:29:44.565Z"
   },
   {
    "duration": 19,
    "start_time": "2022-10-13T13:29:44.584Z"
   },
   {
    "duration": 20,
    "start_time": "2022-10-13T13:29:44.605Z"
   },
   {
    "duration": 5,
    "start_time": "2022-10-13T13:29:44.627Z"
   },
   {
    "duration": 21,
    "start_time": "2022-10-13T13:29:44.633Z"
   },
   {
    "duration": 719,
    "start_time": "2022-10-13T13:29:44.656Z"
   },
   {
    "duration": 287,
    "start_time": "2022-10-13T13:29:45.379Z"
   },
   {
    "duration": 308,
    "start_time": "2022-10-13T13:29:45.669Z"
   },
   {
    "duration": 102,
    "start_time": "2022-10-13T13:29:45.979Z"
   },
   {
    "duration": 6,
    "start_time": "2022-10-13T13:29:46.083Z"
   },
   {
    "duration": 43,
    "start_time": "2022-10-13T13:29:46.090Z"
   },
   {
    "duration": 139,
    "start_time": "2022-10-13T13:29:46.135Z"
   },
   {
    "duration": 0,
    "start_time": "2022-10-13T13:29:46.275Z"
   },
   {
    "duration": 0,
    "start_time": "2022-10-13T13:29:46.277Z"
   },
   {
    "duration": 3,
    "start_time": "2022-10-13T13:30:08.534Z"
   },
   {
    "duration": 6,
    "start_time": "2022-10-13T13:30:14.509Z"
   },
   {
    "duration": 7,
    "start_time": "2022-10-13T13:30:16.377Z"
   },
   {
    "duration": 3,
    "start_time": "2022-10-13T13:30:17.002Z"
   },
   {
    "duration": 17,
    "start_time": "2022-10-13T13:30:22.912Z"
   },
   {
    "duration": 9,
    "start_time": "2022-10-13T13:30:26.036Z"
   },
   {
    "duration": 16,
    "start_time": "2022-10-13T13:30:27.750Z"
   },
   {
    "duration": 1470,
    "start_time": "2022-10-13T13:31:06.192Z"
   },
   {
    "duration": 43,
    "start_time": "2022-10-13T13:31:07.664Z"
   },
   {
    "duration": 10,
    "start_time": "2022-10-13T13:31:07.708Z"
   },
   {
    "duration": 37,
    "start_time": "2022-10-13T13:31:07.720Z"
   },
   {
    "duration": 21,
    "start_time": "2022-10-13T13:31:07.759Z"
   },
   {
    "duration": 46,
    "start_time": "2022-10-13T13:31:07.782Z"
   },
   {
    "duration": 32,
    "start_time": "2022-10-13T13:31:07.830Z"
   },
   {
    "duration": 38,
    "start_time": "2022-10-13T13:31:07.863Z"
   },
   {
    "duration": 701,
    "start_time": "2022-10-13T13:31:07.903Z"
   },
   {
    "duration": 291,
    "start_time": "2022-10-13T13:31:08.606Z"
   },
   {
    "duration": 302,
    "start_time": "2022-10-13T13:31:08.899Z"
   },
   {
    "duration": 111,
    "start_time": "2022-10-13T13:31:09.203Z"
   },
   {
    "duration": 6,
    "start_time": "2022-10-13T13:31:09.316Z"
   },
   {
    "duration": 27,
    "start_time": "2022-10-13T13:31:09.325Z"
   },
   {
    "duration": 15,
    "start_time": "2022-10-13T13:31:09.354Z"
   },
   {
    "duration": 25,
    "start_time": "2022-10-13T13:31:09.371Z"
   },
   {
    "duration": 5,
    "start_time": "2022-10-13T13:31:15.395Z"
   },
   {
    "duration": 7,
    "start_time": "2022-10-13T13:31:19.125Z"
   },
   {
    "duration": 3,
    "start_time": "2022-10-13T13:31:19.589Z"
   },
   {
    "duration": 213,
    "start_time": "2022-10-13T13:31:21.016Z"
   },
   {
    "duration": 8,
    "start_time": "2022-10-13T13:31:35.671Z"
   },
   {
    "duration": 4,
    "start_time": "2022-10-13T13:31:38.122Z"
   },
   {
    "duration": 1558,
    "start_time": "2022-10-13T13:31:42.450Z"
   },
   {
    "duration": 9,
    "start_time": "2022-10-13T13:31:44.208Z"
   },
   {
    "duration": 1504,
    "start_time": "2022-10-13T13:31:53.916Z"
   },
   {
    "duration": 4,
    "start_time": "2022-10-13T13:31:55.850Z"
   },
   {
    "duration": 25,
    "start_time": "2022-10-13T13:32:23.170Z"
   },
   {
    "duration": 6,
    "start_time": "2022-10-13T16:10:50.576Z"
   },
   {
    "duration": 8,
    "start_time": "2022-10-13T16:10:52.025Z"
   },
   {
    "duration": 15,
    "start_time": "2022-10-13T16:11:32.760Z"
   },
   {
    "duration": 7,
    "start_time": "2022-10-13T16:12:50.317Z"
   },
   {
    "duration": 15,
    "start_time": "2022-10-13T16:12:50.917Z"
   },
   {
    "duration": 6,
    "start_time": "2022-10-13T16:14:43.621Z"
   },
   {
    "duration": 14,
    "start_time": "2022-10-13T16:14:44.375Z"
   },
   {
    "duration": 14,
    "start_time": "2022-10-13T16:15:45.312Z"
   },
   {
    "duration": 7,
    "start_time": "2022-10-13T16:19:30.107Z"
   },
   {
    "duration": 18,
    "start_time": "2022-10-13T16:19:30.685Z"
   },
   {
    "duration": 6,
    "start_time": "2022-10-13T16:24:38.260Z"
   },
   {
    "duration": 13,
    "start_time": "2022-10-13T16:24:38.657Z"
   },
   {
    "duration": 7,
    "start_time": "2022-10-13T16:27:11.295Z"
   },
   {
    "duration": 13,
    "start_time": "2022-10-13T16:27:11.823Z"
   },
   {
    "duration": 6,
    "start_time": "2022-10-13T16:28:33.772Z"
   },
   {
    "duration": 13,
    "start_time": "2022-10-13T16:28:34.869Z"
   },
   {
    "duration": 6,
    "start_time": "2022-10-13T16:28:58.641Z"
   },
   {
    "duration": 14,
    "start_time": "2022-10-13T16:28:59.218Z"
   },
   {
    "duration": 1334,
    "start_time": "2022-10-13T16:29:10.007Z"
   },
   {
    "duration": 43,
    "start_time": "2022-10-13T16:29:11.343Z"
   },
   {
    "duration": 9,
    "start_time": "2022-10-13T16:29:11.388Z"
   },
   {
    "duration": 12,
    "start_time": "2022-10-13T16:29:11.399Z"
   },
   {
    "duration": 6,
    "start_time": "2022-10-13T16:29:11.413Z"
   },
   {
    "duration": 8,
    "start_time": "2022-10-13T16:29:11.420Z"
   },
   {
    "duration": 6,
    "start_time": "2022-10-13T16:29:11.429Z"
   },
   {
    "duration": 6,
    "start_time": "2022-10-13T16:29:11.436Z"
   },
   {
    "duration": 694,
    "start_time": "2022-10-13T16:29:11.443Z"
   },
   {
    "duration": 272,
    "start_time": "2022-10-13T16:29:12.139Z"
   },
   {
    "duration": 337,
    "start_time": "2022-10-13T16:29:12.412Z"
   },
   {
    "duration": 109,
    "start_time": "2022-10-13T16:29:12.752Z"
   },
   {
    "duration": 6,
    "start_time": "2022-10-13T16:29:12.863Z"
   },
   {
    "duration": 34,
    "start_time": "2022-10-13T16:29:12.871Z"
   },
   {
    "duration": 7,
    "start_time": "2022-10-13T16:29:12.906Z"
   },
   {
    "duration": 15,
    "start_time": "2022-10-13T16:29:12.915Z"
   },
   {
    "duration": 9,
    "start_time": "2022-10-13T16:29:12.931Z"
   },
   {
    "duration": 21,
    "start_time": "2022-10-13T16:29:12.942Z"
   },
   {
    "duration": 6,
    "start_time": "2022-10-13T16:29:12.965Z"
   },
   {
    "duration": 15,
    "start_time": "2022-10-13T16:29:12.973Z"
   },
   {
    "duration": 14,
    "start_time": "2022-10-13T16:29:12.990Z"
   },
   {
    "duration": 1659,
    "start_time": "2022-10-13T16:29:13.006Z"
   },
   {
    "duration": 5,
    "start_time": "2022-10-13T16:29:14.666Z"
   },
   {
    "duration": 8,
    "start_time": "2022-10-13T16:29:14.673Z"
   },
   {
    "duration": 140,
    "start_time": "2022-10-13T16:29:14.683Z"
   },
   {
    "duration": 7,
    "start_time": "2022-10-13T16:30:53.258Z"
   },
   {
    "duration": 16,
    "start_time": "2022-10-13T16:30:54.500Z"
   },
   {
    "duration": 5,
    "start_time": "2022-10-13T16:31:12.264Z"
   },
   {
    "duration": 18,
    "start_time": "2022-10-13T16:31:12.535Z"
   },
   {
    "duration": 6,
    "start_time": "2022-10-13T16:31:16.147Z"
   },
   {
    "duration": 14,
    "start_time": "2022-10-13T16:31:16.533Z"
   },
   {
    "duration": 13,
    "start_time": "2022-10-13T16:31:53.671Z"
   },
   {
    "duration": 1658,
    "start_time": "2022-10-14T10:57:11.997Z"
   },
   {
    "duration": 161,
    "start_time": "2022-10-14T10:57:13.657Z"
   },
   {
    "duration": 11,
    "start_time": "2022-10-14T10:57:13.820Z"
   },
   {
    "duration": 9,
    "start_time": "2022-10-14T10:57:15.184Z"
   },
   {
    "duration": 6,
    "start_time": "2022-10-14T10:57:15.648Z"
   },
   {
    "duration": 5,
    "start_time": "2022-10-14T10:57:16.224Z"
   },
   {
    "duration": 3,
    "start_time": "2022-10-14T10:57:17.435Z"
   },
   {
    "duration": 4,
    "start_time": "2022-10-14T10:57:19.044Z"
   },
   {
    "duration": 904,
    "start_time": "2022-10-14T10:57:20.857Z"
   },
   {
    "duration": 58,
    "start_time": "2022-10-14T10:57:23.294Z"
   },
   {
    "duration": 385,
    "start_time": "2022-10-14T10:58:00.861Z"
   },
   {
    "duration": 1481,
    "start_time": "2022-10-14T10:58:23.241Z"
   },
   {
    "duration": 4,
    "start_time": "2022-10-14T11:08:35.032Z"
   },
   {
    "duration": 1493,
    "start_time": "2022-10-14T11:08:36.316Z"
   },
   {
    "duration": 1506,
    "start_time": "2022-10-14T11:08:44.438Z"
   },
   {
    "duration": 5,
    "start_time": "2022-10-14T11:10:45.733Z"
   },
   {
    "duration": 1480,
    "start_time": "2022-10-14T11:10:46.344Z"
   },
   {
    "duration": 3,
    "start_time": "2022-10-14T11:18:31.971Z"
   },
   {
    "duration": 1164,
    "start_time": "2022-10-14T11:18:33.276Z"
   },
   {
    "duration": 1150,
    "start_time": "2022-10-14T11:18:38.515Z"
   },
   {
    "duration": 3,
    "start_time": "2022-10-14T11:19:01.288Z"
   },
   {
    "duration": 1288,
    "start_time": "2022-10-14T11:19:01.847Z"
   },
   {
    "duration": 1406,
    "start_time": "2022-10-14T11:19:28.814Z"
   },
   {
    "duration": 19,
    "start_time": "2022-10-14T11:21:19.474Z"
   },
   {
    "duration": 8,
    "start_time": "2022-10-14T11:21:41.764Z"
   },
   {
    "duration": 152,
    "start_time": "2022-10-14T11:22:02.493Z"
   },
   {
    "duration": 411,
    "start_time": "2022-10-14T11:22:27.277Z"
   },
   {
    "duration": 2433,
    "start_time": "2022-10-14T11:23:01.667Z"
   },
   {
    "duration": 2301,
    "start_time": "2022-10-14T11:23:09.599Z"
   },
   {
    "duration": 337,
    "start_time": "2022-10-14T11:24:23.068Z"
   },
   {
    "duration": 425,
    "start_time": "2022-10-14T11:24:41.353Z"
   },
   {
    "duration": 3,
    "start_time": "2022-10-14T11:59:49.026Z"
   },
   {
    "duration": 125,
    "start_time": "2022-10-14T12:01:16.428Z"
   },
   {
    "duration": 955,
    "start_time": "2022-10-14T12:01:31.725Z"
   },
   {
    "duration": 110,
    "start_time": "2022-10-14T12:03:27.476Z"
   },
   {
    "duration": 893,
    "start_time": "2022-10-14T12:03:28.092Z"
   },
   {
    "duration": 39,
    "start_time": "2022-10-14T12:03:49.203Z"
   },
   {
    "duration": 863,
    "start_time": "2022-10-14T12:03:49.539Z"
   },
   {
    "duration": 681,
    "start_time": "2022-10-14T12:04:04.771Z"
   },
   {
    "duration": 858,
    "start_time": "2022-10-14T12:04:05.454Z"
   },
   {
    "duration": 124,
    "start_time": "2022-10-14T12:04:19.483Z"
   },
   {
    "duration": 914,
    "start_time": "2022-10-14T12:04:20.042Z"
   },
   {
    "duration": 4,
    "start_time": "2022-10-14T15:09:37.168Z"
   },
   {
    "duration": 22,
    "start_time": "2022-10-14T15:09:55.169Z"
   },
   {
    "duration": 1896,
    "start_time": "2022-10-14T15:10:13.310Z"
   },
   {
    "duration": 1532,
    "start_time": "2022-10-14T15:12:18.513Z"
   },
   {
    "duration": 58,
    "start_time": "2022-10-14T15:12:20.047Z"
   },
   {
    "duration": 13,
    "start_time": "2022-10-14T15:12:20.267Z"
   },
   {
    "duration": 10,
    "start_time": "2022-10-14T15:12:21.580Z"
   },
   {
    "duration": 7,
    "start_time": "2022-10-14T15:12:22.053Z"
   },
   {
    "duration": 8,
    "start_time": "2022-10-14T15:12:23.111Z"
   },
   {
    "duration": 4,
    "start_time": "2022-10-14T15:12:25.370Z"
   },
   {
    "duration": 4,
    "start_time": "2022-10-14T15:12:26.322Z"
   },
   {
    "duration": 789,
    "start_time": "2022-10-14T15:12:29.734Z"
   },
   {
    "duration": 2406,
    "start_time": "2022-10-14T15:12:36.792Z"
   },
   {
    "duration": 2348,
    "start_time": "2022-10-14T15:15:13.362Z"
   },
   {
    "duration": 151,
    "start_time": "2022-10-14T15:28:42.027Z"
   },
   {
    "duration": 123,
    "start_time": "2022-10-14T15:29:45.697Z"
   },
   {
    "duration": 11,
    "start_time": "2022-10-14T15:30:41.748Z"
   },
   {
    "duration": 69,
    "start_time": "2022-10-14T15:32:21.678Z"
   },
   {
    "duration": 325,
    "start_time": "2022-10-14T15:58:04.496Z"
   },
   {
    "duration": 6,
    "start_time": "2022-10-14T15:58:47.125Z"
   },
   {
    "duration": 335,
    "start_time": "2022-10-14T15:58:54.417Z"
   },
   {
    "duration": 292,
    "start_time": "2022-10-14T15:59:07.624Z"
   },
   {
    "duration": 445,
    "start_time": "2022-10-14T15:59:18.076Z"
   },
   {
    "duration": 317,
    "start_time": "2022-10-14T15:59:27.463Z"
   },
   {
    "duration": 326,
    "start_time": "2022-10-14T15:59:35.901Z"
   },
   {
    "duration": 55,
    "start_time": "2022-10-14T16:02:18.693Z"
   },
   {
    "duration": 249,
    "start_time": "2022-10-14T16:02:40.044Z"
   },
   {
    "duration": 151,
    "start_time": "2022-10-14T16:03:31.081Z"
   },
   {
    "duration": 18,
    "start_time": "2022-10-14T16:04:13.323Z"
   },
   {
    "duration": 3,
    "start_time": "2022-10-14T16:04:23.052Z"
   },
   {
    "duration": 122,
    "start_time": "2022-10-14T16:04:25.408Z"
   },
   {
    "duration": 886,
    "start_time": "2022-10-14T16:04:25.906Z"
   },
   {
    "duration": 1507,
    "start_time": "2022-10-14T16:04:48.300Z"
   },
   {
    "duration": 57,
    "start_time": "2022-10-14T16:04:49.808Z"
   },
   {
    "duration": 11,
    "start_time": "2022-10-14T16:04:49.866Z"
   },
   {
    "duration": 8,
    "start_time": "2022-10-14T16:04:49.878Z"
   },
   {
    "duration": 6,
    "start_time": "2022-10-14T16:04:49.888Z"
   },
   {
    "duration": 6,
    "start_time": "2022-10-14T16:04:49.896Z"
   },
   {
    "duration": 5,
    "start_time": "2022-10-14T16:04:49.904Z"
   },
   {
    "duration": 4,
    "start_time": "2022-10-14T16:04:49.911Z"
   },
   {
    "duration": 792,
    "start_time": "2022-10-14T16:04:49.917Z"
   },
   {
    "duration": 2091,
    "start_time": "2022-10-14T16:04:50.712Z"
   },
   {
    "duration": 2094,
    "start_time": "2022-10-14T16:04:52.805Z"
   },
   {
    "duration": 99,
    "start_time": "2022-10-14T16:04:54.901Z"
   },
   {
    "duration": 357,
    "start_time": "2022-10-14T16:04:55.003Z"
   },
   {
    "duration": 646,
    "start_time": "2022-10-14T16:04:55.362Z"
   },
   {
    "duration": 3,
    "start_time": "2022-10-14T16:04:56.009Z"
   },
   {
    "duration": 139,
    "start_time": "2022-10-14T16:04:56.014Z"
   },
   {
    "duration": 959,
    "start_time": "2022-10-14T16:04:56.154Z"
   },
   {
    "duration": 3,
    "start_time": "2022-10-14T16:04:57.115Z"
   },
   {
    "duration": 25,
    "start_time": "2022-10-14T16:04:57.120Z"
   },
   {
    "duration": 121,
    "start_time": "2022-10-14T16:04:57.146Z"
   },
   {
    "duration": 212,
    "start_time": "2022-10-14T16:04:57.269Z"
   },
   {
    "duration": 379,
    "start_time": "2022-10-14T16:04:57.483Z"
   },
   {
    "duration": 638,
    "start_time": "2022-10-14T16:04:57.864Z"
   },
   {
    "duration": 1272,
    "start_time": "2022-10-14T16:04:58.505Z"
   },
   {
    "duration": 0,
    "start_time": "2022-10-14T16:04:59.779Z"
   },
   {
    "duration": 0,
    "start_time": "2022-10-14T16:04:59.780Z"
   },
   {
    "duration": 0,
    "start_time": "2022-10-14T16:04:59.781Z"
   },
   {
    "duration": 0,
    "start_time": "2022-10-14T16:04:59.782Z"
   },
   {
    "duration": 0,
    "start_time": "2022-10-14T16:04:59.783Z"
   },
   {
    "duration": 0,
    "start_time": "2022-10-14T16:04:59.784Z"
   },
   {
    "duration": 0,
    "start_time": "2022-10-14T16:04:59.786Z"
   },
   {
    "duration": 0,
    "start_time": "2022-10-14T16:04:59.787Z"
   },
   {
    "duration": 0,
    "start_time": "2022-10-14T16:04:59.788Z"
   },
   {
    "duration": 0,
    "start_time": "2022-10-14T16:04:59.789Z"
   },
   {
    "duration": 0,
    "start_time": "2022-10-14T16:04:59.791Z"
   },
   {
    "duration": 0,
    "start_time": "2022-10-14T16:04:59.793Z"
   },
   {
    "duration": 1,
    "start_time": "2022-10-14T16:04:59.793Z"
   },
   {
    "duration": 0,
    "start_time": "2022-10-14T16:04:59.795Z"
   },
   {
    "duration": 450,
    "start_time": "2022-10-14T16:06:42.714Z"
   },
   {
    "duration": 22,
    "start_time": "2022-10-14T16:07:32.440Z"
   },
   {
    "duration": 7,
    "start_time": "2022-10-14T16:07:34.088Z"
   },
   {
    "duration": 14,
    "start_time": "2022-10-14T16:07:34.586Z"
   },
   {
    "duration": 7,
    "start_time": "2022-10-14T16:07:38.113Z"
   },
   {
    "duration": 6,
    "start_time": "2022-10-14T16:07:39.588Z"
   },
   {
    "duration": 4,
    "start_time": "2022-10-14T16:07:41.070Z"
   },
   {
    "duration": 9,
    "start_time": "2022-10-14T16:07:42.344Z"
   },
   {
    "duration": 4,
    "start_time": "2022-10-14T16:07:42.825Z"
   },
   {
    "duration": 1574,
    "start_time": "2022-10-14T16:07:52.118Z"
   },
   {
    "duration": 5,
    "start_time": "2022-10-14T16:07:53.694Z"
   },
   {
    "duration": 28,
    "start_time": "2022-10-14T16:07:59.266Z"
   },
   {
    "duration": 12,
    "start_time": "2022-10-14T16:08:35.474Z"
   },
   {
    "duration": 3,
    "start_time": "2022-10-14T16:08:39.797Z"
   },
   {
    "duration": 7,
    "start_time": "2022-10-14T16:08:40.480Z"
   },
   {
    "duration": 21,
    "start_time": "2022-10-14T16:08:50.301Z"
   },
   {
    "duration": 8,
    "start_time": "2022-10-14T16:08:58.217Z"
   },
   {
    "duration": 20,
    "start_time": "2022-10-14T16:09:01.598Z"
   },
   {
    "duration": 1548,
    "start_time": "2022-10-14T16:10:16.225Z"
   },
   {
    "duration": 60,
    "start_time": "2022-10-14T16:10:17.776Z"
   },
   {
    "duration": 11,
    "start_time": "2022-10-14T16:10:17.838Z"
   },
   {
    "duration": 9,
    "start_time": "2022-10-14T16:10:17.851Z"
   },
   {
    "duration": 7,
    "start_time": "2022-10-14T16:10:17.862Z"
   },
   {
    "duration": 6,
    "start_time": "2022-10-14T16:10:18.084Z"
   },
   {
    "duration": 3,
    "start_time": "2022-10-14T16:10:18.967Z"
   },
   {
    "duration": 4,
    "start_time": "2022-10-14T16:10:19.398Z"
   },
   {
    "duration": 824,
    "start_time": "2022-10-14T16:10:19.862Z"
   },
   {
    "duration": 2821,
    "start_time": "2022-10-14T16:10:21.080Z"
   },
   {
    "duration": 2605,
    "start_time": "2022-10-14T16:10:26.296Z"
   },
   {
    "duration": 10,
    "start_time": "2022-10-14T16:10:31.976Z"
   },
   {
    "duration": 364,
    "start_time": "2022-10-14T16:10:36.559Z"
   },
   {
    "duration": 3012,
    "start_time": "2022-10-14T16:10:39.980Z"
   },
   {
    "duration": 292,
    "start_time": "2022-10-14T16:10:54.817Z"
   },
   {
    "duration": 25,
    "start_time": "2022-10-14T16:11:01.784Z"
   },
   {
    "duration": 8,
    "start_time": "2022-10-14T16:11:05.499Z"
   },
   {
    "duration": 16,
    "start_time": "2022-10-14T16:11:07.336Z"
   },
   {
    "duration": 118,
    "start_time": "2022-10-14T16:11:09.995Z"
   },
   {
    "duration": 15,
    "start_time": "2022-10-14T16:11:10.494Z"
   },
   {
    "duration": 7,
    "start_time": "2022-10-14T16:11:17.141Z"
   },
   {
    "duration": 9,
    "start_time": "2022-10-14T16:11:20.281Z"
   },
   {
    "duration": 4,
    "start_time": "2022-10-14T16:11:21.478Z"
   },
   {
    "duration": 10,
    "start_time": "2022-10-14T16:11:22.919Z"
   },
   {
    "duration": 4,
    "start_time": "2022-10-14T16:11:26.155Z"
   },
   {
    "duration": 1620,
    "start_time": "2022-10-14T16:11:27.773Z"
   },
   {
    "duration": 5,
    "start_time": "2022-10-14T16:11:29.395Z"
   },
   {
    "duration": 26,
    "start_time": "2022-10-14T16:11:31.547Z"
   },
   {
    "duration": 3,
    "start_time": "2022-10-14T16:11:57.649Z"
   },
   {
    "duration": 32,
    "start_time": "2022-10-14T16:11:58.209Z"
   },
   {
    "duration": 119,
    "start_time": "2022-10-14T16:11:59.210Z"
   },
   {
    "duration": 656,
    "start_time": "2022-10-14T16:12:04.835Z"
   },
   {
    "duration": 20,
    "start_time": "2022-10-14T16:12:28.752Z"
   },
   {
    "duration": 6,
    "start_time": "2022-10-14T16:12:29.552Z"
   },
   {
    "duration": 13,
    "start_time": "2022-10-14T16:12:29.745Z"
   },
   {
    "duration": 6,
    "start_time": "2022-10-14T16:12:32.411Z"
   },
   {
    "duration": 6,
    "start_time": "2022-10-14T16:12:32.734Z"
   },
   {
    "duration": 3,
    "start_time": "2022-10-14T16:12:33.125Z"
   },
   {
    "duration": 9,
    "start_time": "2022-10-14T16:12:34.719Z"
   },
   {
    "duration": 4,
    "start_time": "2022-10-14T16:12:35.705Z"
   },
   {
    "duration": 1642,
    "start_time": "2022-10-14T16:12:37.028Z"
   },
   {
    "duration": 5,
    "start_time": "2022-10-14T16:12:38.673Z"
   },
   {
    "duration": 27,
    "start_time": "2022-10-14T16:12:41.465Z"
   },
   {
    "duration": 214,
    "start_time": "2022-10-14T16:12:51.887Z"
   },
   {
    "duration": 710,
    "start_time": "2022-10-14T16:13:01.973Z"
   },
   {
    "duration": 20,
    "start_time": "2022-10-14T16:13:08.809Z"
   },
   {
    "duration": 9,
    "start_time": "2022-10-14T16:13:09.346Z"
   },
   {
    "duration": 13,
    "start_time": "2022-10-14T16:13:09.741Z"
   },
   {
    "duration": 6,
    "start_time": "2022-10-14T16:13:10.747Z"
   },
   {
    "duration": 7,
    "start_time": "2022-10-14T16:13:10.989Z"
   },
   {
    "duration": 4,
    "start_time": "2022-10-14T16:13:11.357Z"
   },
   {
    "duration": 8,
    "start_time": "2022-10-14T16:13:12.013Z"
   },
   {
    "duration": 4,
    "start_time": "2022-10-14T16:13:12.238Z"
   },
   {
    "duration": 1455,
    "start_time": "2022-10-14T16:13:12.918Z"
   },
   {
    "duration": 4,
    "start_time": "2022-10-14T16:13:14.376Z"
   },
   {
    "duration": 34,
    "start_time": "2022-10-14T16:13:18.222Z"
   },
   {
    "duration": 1467,
    "start_time": "2022-10-14T16:26:06.286Z"
   },
   {
    "duration": 67,
    "start_time": "2022-10-14T16:26:07.755Z"
   },
   {
    "duration": 11,
    "start_time": "2022-10-14T16:26:07.823Z"
   },
   {
    "duration": 9,
    "start_time": "2022-10-14T16:26:07.936Z"
   },
   {
    "duration": 7,
    "start_time": "2022-10-14T16:26:08.344Z"
   },
   {
    "duration": 6,
    "start_time": "2022-10-14T16:26:09.049Z"
   },
   {
    "duration": 12,
    "start_time": "2022-10-14T16:26:09.995Z"
   },
   {
    "duration": 3,
    "start_time": "2022-10-14T16:26:10.691Z"
   },
   {
    "duration": 829,
    "start_time": "2022-10-14T16:26:11.446Z"
   },
   {
    "duration": 3966,
    "start_time": "2022-10-14T16:26:14.049Z"
   },
   {
    "duration": 4697,
    "start_time": "2022-10-14T16:26:18.017Z"
   },
   {
    "duration": 89,
    "start_time": "2022-10-14T16:26:22.721Z"
   },
   {
    "duration": 336,
    "start_time": "2022-10-14T16:26:23.837Z"
   },
   {
    "duration": 1420,
    "start_time": "2022-10-14T16:26:28.060Z"
   },
   {
    "duration": 221,
    "start_time": "2022-10-14T16:26:36.753Z"
   },
   {
    "duration": 118,
    "start_time": "2022-10-14T16:26:40.333Z"
   },
   {
    "duration": 347,
    "start_time": "2022-10-14T16:27:01.418Z"
   },
   {
    "duration": 25,
    "start_time": "2022-10-14T16:27:54.948Z"
   },
   {
    "duration": 7,
    "start_time": "2022-10-14T16:27:55.779Z"
   },
   {
    "duration": 14,
    "start_time": "2022-10-14T16:27:55.973Z"
   },
   {
    "duration": 6,
    "start_time": "2022-10-14T16:27:57.960Z"
   },
   {
    "duration": 9,
    "start_time": "2022-10-14T16:27:58.263Z"
   },
   {
    "duration": 4,
    "start_time": "2022-10-14T16:27:58.767Z"
   },
   {
    "duration": 9,
    "start_time": "2022-10-14T16:27:59.649Z"
   },
   {
    "duration": 4,
    "start_time": "2022-10-14T16:28:00.211Z"
   },
   {
    "duration": 1747,
    "start_time": "2022-10-14T16:28:02.872Z"
   },
   {
    "duration": 5,
    "start_time": "2022-10-14T16:28:04.620Z"
   },
   {
    "duration": 28,
    "start_time": "2022-10-14T16:28:08.697Z"
   },
   {
    "duration": 10,
    "start_time": "2022-10-14T16:28:46.359Z"
   },
   {
    "duration": 1636,
    "start_time": "2022-10-14T16:29:42.118Z"
   },
   {
    "duration": 69,
    "start_time": "2022-10-14T16:40:48.193Z"
   },
   {
    "duration": 1429,
    "start_time": "2022-10-14T16:41:08.833Z"
   },
   {
    "duration": 62,
    "start_time": "2022-10-14T16:41:10.264Z"
   },
   {
    "duration": 10,
    "start_time": "2022-10-14T16:41:10.328Z"
   },
   {
    "duration": 9,
    "start_time": "2022-10-14T16:41:10.340Z"
   },
   {
    "duration": 7,
    "start_time": "2022-10-14T16:41:10.449Z"
   },
   {
    "duration": 8,
    "start_time": "2022-10-14T16:41:10.866Z"
   },
   {
    "duration": 4,
    "start_time": "2022-10-14T16:41:11.652Z"
   },
   {
    "duration": 4,
    "start_time": "2022-10-14T16:41:13.782Z"
   },
   {
    "duration": 865,
    "start_time": "2022-10-14T16:41:14.310Z"
   },
   {
    "duration": 127,
    "start_time": "2022-10-14T16:41:30.822Z"
   },
   {
    "duration": 16,
    "start_time": "2022-10-14T16:44:11.197Z"
   },
   {
    "duration": 22,
    "start_time": "2022-10-14T16:44:16.246Z"
   },
   {
    "duration": 9,
    "start_time": "2022-10-14T16:44:16.722Z"
   },
   {
    "duration": 14,
    "start_time": "2022-10-14T16:44:17.033Z"
   },
   {
    "duration": 10,
    "start_time": "2022-10-14T16:44:19.614Z"
   },
   {
    "duration": 6,
    "start_time": "2022-10-14T16:44:20.451Z"
   },
   {
    "duration": 4,
    "start_time": "2022-10-14T16:44:20.740Z"
   },
   {
    "duration": 9,
    "start_time": "2022-10-14T16:44:23.952Z"
   },
   {
    "duration": 4,
    "start_time": "2022-10-14T16:44:24.421Z"
   },
   {
    "duration": 1532,
    "start_time": "2022-10-14T16:44:25.433Z"
   },
   {
    "duration": 4,
    "start_time": "2022-10-14T16:44:26.967Z"
   },
   {
    "duration": 11,
    "start_time": "2022-10-14T16:44:29.521Z"
   },
   {
    "duration": 13,
    "start_time": "2022-10-14T16:46:41.950Z"
   },
   {
    "duration": 11,
    "start_time": "2022-10-14T16:46:56.546Z"
   },
   {
    "duration": 14,
    "start_time": "2022-10-14T16:48:20.293Z"
   },
   {
    "duration": 19,
    "start_time": "2022-10-14T16:48:25.926Z"
   },
   {
    "duration": 396,
    "start_time": "2022-10-14T16:48:38.437Z"
   },
   {
    "duration": 9931,
    "start_time": "2022-10-14T16:49:01.609Z"
   },
   {
    "duration": 16,
    "start_time": "2022-10-14T16:49:50.352Z"
   },
   {
    "duration": 251,
    "start_time": "2022-10-14T16:49:50.911Z"
   },
   {
    "duration": 8021,
    "start_time": "2022-10-14T16:49:54.994Z"
   },
   {
    "duration": 12,
    "start_time": "2022-10-14T17:00:10.917Z"
   },
   {
    "duration": 15,
    "start_time": "2022-10-14T17:00:49.519Z"
   },
   {
    "duration": 12,
    "start_time": "2022-10-14T17:01:08.861Z"
   },
   {
    "duration": 15,
    "start_time": "2022-10-14T17:01:27.488Z"
   },
   {
    "duration": 12,
    "start_time": "2022-10-14T17:02:10.597Z"
   },
   {
    "duration": 12,
    "start_time": "2022-10-14T17:02:33.295Z"
   },
   {
    "duration": 12,
    "start_time": "2022-10-14T17:04:00.506Z"
   },
   {
    "duration": 1478,
    "start_time": "2022-10-14T17:05:24.077Z"
   },
   {
    "duration": 64,
    "start_time": "2022-10-14T17:05:25.557Z"
   },
   {
    "duration": 10,
    "start_time": "2022-10-14T17:05:25.622Z"
   },
   {
    "duration": 14,
    "start_time": "2022-10-14T17:05:25.634Z"
   },
   {
    "duration": 10,
    "start_time": "2022-10-14T17:05:25.750Z"
   },
   {
    "duration": 7,
    "start_time": "2022-10-14T17:05:26.184Z"
   },
   {
    "duration": 4,
    "start_time": "2022-10-14T17:05:27.016Z"
   },
   {
    "duration": 4,
    "start_time": "2022-10-14T17:05:27.432Z"
   },
   {
    "duration": 872,
    "start_time": "2022-10-14T17:05:27.850Z"
   },
   {
    "duration": 4377,
    "start_time": "2022-10-14T17:05:28.725Z"
   },
   {
    "duration": 134,
    "start_time": "2022-10-14T17:05:48.317Z"
   },
   {
    "duration": 35,
    "start_time": "2022-10-14T17:05:52.674Z"
   },
   {
    "duration": 7,
    "start_time": "2022-10-14T17:05:53.514Z"
   },
   {
    "duration": 13,
    "start_time": "2022-10-14T17:05:53.772Z"
   },
   {
    "duration": 81,
    "start_time": "2022-10-14T17:05:56.366Z"
   },
   {
    "duration": 77,
    "start_time": "2022-10-14T17:06:11.850Z"
   },
   {
    "duration": 92,
    "start_time": "2022-10-14T17:06:39.146Z"
   },
   {
    "duration": 90,
    "start_time": "2022-10-14T17:07:17.322Z"
   },
   {
    "duration": 70,
    "start_time": "2022-10-14T17:08:04.719Z"
   },
   {
    "duration": 102,
    "start_time": "2022-10-14T17:08:21.916Z"
   },
   {
    "duration": 21,
    "start_time": "2022-10-14T17:13:10.141Z"
   },
   {
    "duration": 14,
    "start_time": "2022-10-14T17:13:32.927Z"
   },
   {
    "duration": 12,
    "start_time": "2022-10-14T17:14:15.827Z"
   },
   {
    "duration": 8,
    "start_time": "2022-10-14T17:14:49.855Z"
   },
   {
    "duration": 11,
    "start_time": "2022-10-14T17:14:51.856Z"
   },
   {
    "duration": 12,
    "start_time": "2022-10-14T17:15:49.013Z"
   },
   {
    "duration": 9,
    "start_time": "2022-10-14T17:15:54.522Z"
   },
   {
    "duration": 3,
    "start_time": "2022-10-14T17:15:56.513Z"
   },
   {
    "duration": 17,
    "start_time": "2022-10-14T17:16:01.844Z"
   },
   {
    "duration": 10,
    "start_time": "2022-10-14T17:16:02.051Z"
   },
   {
    "duration": 10,
    "start_time": "2022-10-14T17:16:47.880Z"
   },
   {
    "duration": 9,
    "start_time": "2022-10-14T17:16:48.221Z"
   },
   {
    "duration": 5,
    "start_time": "2022-10-14T17:16:50.641Z"
   },
   {
    "duration": 22,
    "start_time": "2022-10-14T17:17:11.519Z"
   },
   {
    "duration": 10,
    "start_time": "2022-10-14T17:19:57.343Z"
   },
   {
    "duration": 85,
    "start_time": "2022-10-14T17:43:45.603Z"
   },
   {
    "duration": 73,
    "start_time": "2022-10-14T17:43:52.013Z"
   },
   {
    "duration": 95,
    "start_time": "2022-10-14T17:44:19.790Z"
   },
   {
    "duration": 6,
    "start_time": "2022-10-14T17:44:26.416Z"
   },
   {
    "duration": 6,
    "start_time": "2022-10-14T17:44:28.612Z"
   },
   {
    "duration": 5,
    "start_time": "2022-10-14T17:44:36.247Z"
   },
   {
    "duration": 8,
    "start_time": "2022-10-14T17:44:52.061Z"
   },
   {
    "duration": 7,
    "start_time": "2022-10-14T17:44:57.717Z"
   },
   {
    "duration": 4,
    "start_time": "2022-10-14T17:45:04.054Z"
   },
   {
    "duration": 13,
    "start_time": "2022-10-14T17:45:15.741Z"
   },
   {
    "duration": 6,
    "start_time": "2022-10-14T17:45:29.347Z"
   },
   {
    "duration": 8,
    "start_time": "2022-10-14T17:45:31.351Z"
   },
   {
    "duration": 4,
    "start_time": "2022-10-14T17:45:31.783Z"
   },
   {
    "duration": 8,
    "start_time": "2022-10-14T17:45:38.504Z"
   },
   {
    "duration": 7,
    "start_time": "2022-10-14T17:45:43.006Z"
   },
   {
    "duration": 6,
    "start_time": "2022-10-14T17:45:43.591Z"
   },
   {
    "duration": 180,
    "start_time": "2022-10-14T17:45:44.056Z"
   },
   {
    "duration": 69,
    "start_time": "2022-10-14T17:48:27.263Z"
   },
   {
    "duration": 78,
    "start_time": "2022-10-14T17:48:43.575Z"
   },
   {
    "duration": 4,
    "start_time": "2022-10-14T17:48:49.769Z"
   },
   {
    "duration": 6,
    "start_time": "2022-10-14T17:48:51.211Z"
   },
   {
    "duration": 135,
    "start_time": "2022-10-14T17:48:52.469Z"
   },
   {
    "duration": 5,
    "start_time": "2022-10-14T17:49:14.746Z"
   },
   {
    "duration": 8,
    "start_time": "2022-10-14T17:49:35.523Z"
   },
   {
    "duration": 9,
    "start_time": "2022-10-14T17:50:02.471Z"
   },
   {
    "duration": 6,
    "start_time": "2022-10-14T17:50:03.625Z"
   },
   {
    "duration": 1366,
    "start_time": "2022-10-14T17:50:05.275Z"
   },
   {
    "duration": 6,
    "start_time": "2022-10-14T17:50:06.644Z"
   },
   {
    "duration": 10,
    "start_time": "2022-10-14T17:50:09.497Z"
   },
   {
    "duration": 16,
    "start_time": "2022-10-14T17:50:12.913Z"
   },
   {
    "duration": 257,
    "start_time": "2022-10-14T17:50:13.637Z"
   },
   {
    "duration": 7,
    "start_time": "2022-10-14T17:50:20.388Z"
   },
   {
    "duration": 7,
    "start_time": "2022-10-14T17:50:26.246Z"
   },
   {
    "duration": 8005,
    "start_time": "2022-10-14T17:50:29.712Z"
   },
   {
    "duration": 13,
    "start_time": "2022-10-14T17:50:55.496Z"
   },
   {
    "duration": 24,
    "start_time": "2022-10-14T17:51:26.663Z"
   },
   {
    "duration": 13,
    "start_time": "2022-10-14T17:51:41.277Z"
   },
   {
    "duration": 20,
    "start_time": "2022-10-14T17:51:43.131Z"
   },
   {
    "duration": 7,
    "start_time": "2022-10-14T17:52:33.304Z"
   },
   {
    "duration": 37,
    "start_time": "2022-10-14T17:52:41.683Z"
   },
   {
    "duration": 17,
    "start_time": "2022-10-14T17:53:08.083Z"
   },
   {
    "duration": 67,
    "start_time": "2022-10-14T17:54:02.815Z"
   },
   {
    "duration": 8,
    "start_time": "2022-10-14T17:54:07.058Z"
   },
   {
    "duration": 49,
    "start_time": "2022-10-14T17:54:19.839Z"
   },
   {
    "duration": 35,
    "start_time": "2022-10-14T17:54:49.180Z"
   },
   {
    "duration": 5,
    "start_time": "2022-10-14T17:54:59.053Z"
   },
   {
    "duration": 28,
    "start_time": "2022-10-14T17:55:14.048Z"
   },
   {
    "duration": 40,
    "start_time": "2022-10-14T17:55:47.465Z"
   },
   {
    "duration": 33,
    "start_time": "2022-10-14T17:55:51.438Z"
   },
   {
    "duration": 5,
    "start_time": "2022-10-14T17:55:57.972Z"
   },
   {
    "duration": 27,
    "start_time": "2022-10-14T17:55:59.229Z"
   },
   {
    "duration": 22,
    "start_time": "2022-10-14T17:57:42.176Z"
   },
   {
    "duration": 40,
    "start_time": "2022-10-14T17:57:46.098Z"
   },
   {
    "duration": 1434,
    "start_time": "2022-10-14T17:57:58.426Z"
   },
   {
    "duration": 73,
    "start_time": "2022-10-14T17:57:59.863Z"
   },
   {
    "duration": 12,
    "start_time": "2022-10-14T17:57:59.937Z"
   },
   {
    "duration": 9,
    "start_time": "2022-10-14T17:57:59.952Z"
   },
   {
    "duration": 7,
    "start_time": "2022-10-14T17:57:59.963Z"
   },
   {
    "duration": 6,
    "start_time": "2022-10-14T17:58:00.173Z"
   },
   {
    "duration": 4,
    "start_time": "2022-10-14T17:58:00.973Z"
   },
   {
    "duration": 5,
    "start_time": "2022-10-14T17:58:01.373Z"
   },
   {
    "duration": 23,
    "start_time": "2022-10-14T17:58:13.150Z"
   },
   {
    "duration": 10,
    "start_time": "2022-10-14T17:58:13.679Z"
   },
   {
    "duration": 15,
    "start_time": "2022-10-14T17:58:14.055Z"
   },
   {
    "duration": 4,
    "start_time": "2022-10-14T17:58:14.792Z"
   },
   {
    "duration": 6,
    "start_time": "2022-10-14T17:58:17.003Z"
   },
   {
    "duration": 8,
    "start_time": "2022-10-14T17:58:17.499Z"
   },
   {
    "duration": 3,
    "start_time": "2022-10-14T17:58:19.719Z"
   },
   {
    "duration": 9,
    "start_time": "2022-10-14T17:58:23.451Z"
   },
   {
    "duration": 4,
    "start_time": "2022-10-14T17:58:23.659Z"
   },
   {
    "duration": 1396,
    "start_time": "2022-10-14T17:58:24.461Z"
   },
   {
    "duration": 5,
    "start_time": "2022-10-14T17:58:25.859Z"
   },
   {
    "duration": 120,
    "start_time": "2022-10-14T17:58:27.468Z"
   },
   {
    "duration": 17,
    "start_time": "2022-10-14T17:58:33.227Z"
   },
   {
    "duration": 304,
    "start_time": "2022-10-14T17:58:34.543Z"
   },
   {
    "duration": 9,
    "start_time": "2022-10-14T17:58:39.572Z"
   },
   {
    "duration": 7,
    "start_time": "2022-10-14T17:58:42.632Z"
   },
   {
    "duration": 13,
    "start_time": "2022-10-14T17:58:49.337Z"
   },
   {
    "duration": 10,
    "start_time": "2022-10-14T17:58:56.541Z"
   },
   {
    "duration": 8,
    "start_time": "2022-10-14T17:59:14.224Z"
   },
   {
    "duration": 30,
    "start_time": "2022-10-14T17:59:18.469Z"
   },
   {
    "duration": 42,
    "start_time": "2022-10-14T17:59:23.453Z"
   },
   {
    "duration": 6,
    "start_time": "2022-10-14T17:59:27.992Z"
   },
   {
    "duration": 28,
    "start_time": "2022-10-14T17:59:28.828Z"
   },
   {
    "duration": 5,
    "start_time": "2022-10-14T17:59:37.621Z"
   },
   {
    "duration": 28,
    "start_time": "2022-10-14T17:59:38.472Z"
   },
   {
    "duration": 13,
    "start_time": "2022-10-14T18:04:24.909Z"
   },
   {
    "duration": 8,
    "start_time": "2022-10-14T18:04:26.111Z"
   },
   {
    "duration": 40,
    "start_time": "2022-10-14T18:04:28.640Z"
   },
   {
    "duration": 1678,
    "start_time": "2022-10-15T12:31:46.529Z"
   },
   {
    "duration": 112,
    "start_time": "2022-10-15T12:31:48.209Z"
   },
   {
    "duration": 12,
    "start_time": "2022-10-15T12:31:48.323Z"
   },
   {
    "duration": 10,
    "start_time": "2022-10-15T12:31:48.708Z"
   },
   {
    "duration": 8,
    "start_time": "2022-10-15T12:31:48.916Z"
   },
   {
    "duration": 7,
    "start_time": "2022-10-15T12:31:49.341Z"
   },
   {
    "duration": 4,
    "start_time": "2022-10-15T12:31:50.248Z"
   },
   {
    "duration": 3,
    "start_time": "2022-10-15T12:31:50.696Z"
   },
   {
    "duration": 38,
    "start_time": "2022-10-15T12:32:08.633Z"
   },
   {
    "duration": 8,
    "start_time": "2022-10-15T12:32:10.199Z"
   },
   {
    "duration": 20,
    "start_time": "2022-10-15T12:32:11.512Z"
   },
   {
    "duration": 5,
    "start_time": "2022-10-15T12:32:14.847Z"
   },
   {
    "duration": 9,
    "start_time": "2022-10-15T12:32:15.673Z"
   },
   {
    "duration": 11,
    "start_time": "2022-10-15T12:32:17.185Z"
   },
   {
    "duration": 4,
    "start_time": "2022-10-15T12:32:20.694Z"
   },
   {
    "duration": 12,
    "start_time": "2022-10-15T12:32:22.219Z"
   },
   {
    "duration": 5,
    "start_time": "2022-10-15T12:32:22.740Z"
   },
   {
    "duration": 1401,
    "start_time": "2022-10-15T12:32:25.335Z"
   },
   {
    "duration": 4,
    "start_time": "2022-10-15T12:32:26.738Z"
   },
   {
    "duration": 121,
    "start_time": "2022-10-15T12:32:30.399Z"
   },
   {
    "duration": 17,
    "start_time": "2022-10-15T12:32:33.870Z"
   },
   {
    "duration": 283,
    "start_time": "2022-10-15T12:32:34.465Z"
   },
   {
    "duration": 9,
    "start_time": "2022-10-15T12:32:39.701Z"
   },
   {
    "duration": 8,
    "start_time": "2022-10-15T12:32:40.000Z"
   },
   {
    "duration": 8182,
    "start_time": "2022-10-15T12:32:44.151Z"
   },
   {
    "duration": 7,
    "start_time": "2022-10-15T12:33:05.271Z"
   },
   {
    "duration": 5,
    "start_time": "2022-10-15T12:33:15.057Z"
   },
   {
    "duration": 40,
    "start_time": "2022-10-15T12:33:16.604Z"
   },
   {
    "duration": 235,
    "start_time": "2022-10-15T12:33:55.556Z"
   },
   {
    "duration": 1572,
    "start_time": "2022-10-15T16:51:37.461Z"
   },
   {
    "duration": 90,
    "start_time": "2022-10-15T16:51:39.232Z"
   },
   {
    "duration": 11,
    "start_time": "2022-10-15T16:51:39.324Z"
   },
   {
    "duration": 8,
    "start_time": "2022-10-15T16:51:39.652Z"
   },
   {
    "duration": 7,
    "start_time": "2022-10-15T16:51:39.863Z"
   },
   {
    "duration": 5,
    "start_time": "2022-10-15T16:51:40.448Z"
   },
   {
    "duration": 4,
    "start_time": "2022-10-15T16:51:41.798Z"
   },
   {
    "duration": 3,
    "start_time": "2022-10-15T16:51:44.478Z"
   },
   {
    "duration": 773,
    "start_time": "2022-10-15T16:51:48.966Z"
   },
   {
    "duration": 1517,
    "start_time": "2022-10-15T17:14:52.402Z"
   },
   {
    "duration": 1413,
    "start_time": "2022-10-15T17:15:56.005Z"
   },
   {
    "duration": 13,
    "start_time": "2022-10-15T17:19:47.745Z"
   },
   {
    "duration": 138,
    "start_time": "2022-10-15T17:20:08.095Z"
   },
   {
    "duration": 9,
    "start_time": "2022-10-15T17:20:24.891Z"
   },
   {
    "duration": 15,
    "start_time": "2022-10-15T17:22:23.138Z"
   },
   {
    "duration": 9,
    "start_time": "2022-10-15T17:22:41.370Z"
   },
   {
    "duration": 10,
    "start_time": "2022-10-15T17:23:02.318Z"
   },
   {
    "duration": 4,
    "start_time": "2022-10-15T17:56:10.917Z"
   },
   {
    "duration": 40,
    "start_time": "2022-10-15T17:56:11.607Z"
   },
   {
    "duration": 10,
    "start_time": "2022-10-15T17:56:12.103Z"
   },
   {
    "duration": 6,
    "start_time": "2022-10-15T17:56:12.971Z"
   },
   {
    "duration": 8,
    "start_time": "2022-10-15T17:56:13.190Z"
   },
   {
    "duration": 6,
    "start_time": "2022-10-15T17:56:13.777Z"
   },
   {
    "duration": 3,
    "start_time": "2022-10-15T17:56:14.976Z"
   },
   {
    "duration": 3,
    "start_time": "2022-10-15T17:56:16.117Z"
   },
   {
    "duration": 678,
    "start_time": "2022-10-15T17:56:16.664Z"
   },
   {
    "duration": 326,
    "start_time": "2022-10-15T17:56:22.119Z"
   },
   {
    "duration": 547,
    "start_time": "2022-10-15T17:56:24.812Z"
   },
   {
    "duration": 1713,
    "start_time": "2022-10-15T17:56:32.857Z"
   },
   {
    "duration": 1679,
    "start_time": "2022-10-15T17:56:55.336Z"
   },
   {
    "duration": 1498,
    "start_time": "2022-10-15T17:56:57.018Z"
   },
   {
    "duration": 4,
    "start_time": "2022-10-15T17:57:04.963Z"
   },
   {
    "duration": 26,
    "start_time": "2022-10-15T17:57:07.034Z"
   },
   {
    "duration": 109,
    "start_time": "2022-10-15T17:57:09.176Z"
   },
   {
    "duration": 11,
    "start_time": "2022-10-15T17:57:14.297Z"
   },
   {
    "duration": 188,
    "start_time": "2022-10-15T17:57:59.149Z"
   },
   {
    "duration": 11,
    "start_time": "2022-10-15T17:58:10.770Z"
   },
   {
    "duration": 8,
    "start_time": "2022-10-15T17:58:27.386Z"
   },
   {
    "duration": 261,
    "start_time": "2022-10-15T17:58:38.198Z"
   },
   {
    "duration": 8,
    "start_time": "2022-10-15T17:58:41.234Z"
   },
   {
    "duration": 4,
    "start_time": "2022-10-15T17:59:57.011Z"
   },
   {
    "duration": 1339,
    "start_time": "2022-10-15T18:00:43.344Z"
   },
   {
    "duration": 44,
    "start_time": "2022-10-15T18:00:44.685Z"
   },
   {
    "duration": 10,
    "start_time": "2022-10-15T18:00:44.731Z"
   },
   {
    "duration": 9,
    "start_time": "2022-10-15T18:00:45.041Z"
   },
   {
    "duration": 6,
    "start_time": "2022-10-15T18:00:45.258Z"
   },
   {
    "duration": 5,
    "start_time": "2022-10-15T18:00:45.674Z"
   },
   {
    "duration": 3,
    "start_time": "2022-10-15T18:00:46.478Z"
   },
   {
    "duration": 4,
    "start_time": "2022-10-15T18:00:51.678Z"
   },
   {
    "duration": 1057,
    "start_time": "2022-10-15T18:00:52.620Z"
   },
   {
    "duration": 760,
    "start_time": "2022-10-15T18:01:28.595Z"
   },
   {
    "duration": 36,
    "start_time": "2022-10-15T18:01:43.495Z"
   },
   {
    "duration": 4,
    "start_time": "2022-10-15T18:03:13.160Z"
   },
   {
    "duration": 6,
    "start_time": "2022-10-15T18:03:13.587Z"
   },
   {
    "duration": 13,
    "start_time": "2022-10-15T18:03:40.785Z"
   },
   {
    "duration": 4,
    "start_time": "2022-10-15T18:04:06.911Z"
   },
   {
    "duration": 3,
    "start_time": "2022-10-15T18:05:37.381Z"
   },
   {
    "duration": 3,
    "start_time": "2022-10-15T18:05:40.111Z"
   },
   {
    "duration": 5,
    "start_time": "2022-10-15T18:05:43.311Z"
   },
   {
    "duration": 6,
    "start_time": "2022-10-15T18:05:57.731Z"
   },
   {
    "duration": 733,
    "start_time": "2022-10-15T18:06:36.381Z"
   },
   {
    "duration": 1373,
    "start_time": "2022-10-15T18:08:10.939Z"
   },
   {
    "duration": 43,
    "start_time": "2022-10-15T18:08:12.314Z"
   },
   {
    "duration": 10,
    "start_time": "2022-10-15T18:08:12.358Z"
   },
   {
    "duration": 22,
    "start_time": "2022-10-15T18:08:12.369Z"
   },
   {
    "duration": 6,
    "start_time": "2022-10-15T18:08:12.469Z"
   },
   {
    "duration": 6,
    "start_time": "2022-10-15T18:08:12.922Z"
   },
   {
    "duration": 4,
    "start_time": "2022-10-15T18:08:14.251Z"
   },
   {
    "duration": 228,
    "start_time": "2022-10-15T18:08:22.731Z"
   },
   {
    "duration": 8,
    "start_time": "2022-10-15T18:08:26.017Z"
   },
   {
    "duration": 3,
    "start_time": "2022-10-15T18:09:07.102Z"
   },
   {
    "duration": 4,
    "start_time": "2022-10-15T18:09:18.495Z"
   },
   {
    "duration": 8,
    "start_time": "2022-10-15T18:09:19.660Z"
   },
   {
    "duration": 762,
    "start_time": "2022-10-15T18:09:29.850Z"
   },
   {
    "duration": 137,
    "start_time": "2022-10-15T18:10:22.400Z"
   },
   {
    "duration": 2,
    "start_time": "2022-10-15T18:10:31.319Z"
   },
   {
    "duration": 726,
    "start_time": "2022-10-15T18:10:33.186Z"
   },
   {
    "duration": 271,
    "start_time": "2022-10-15T18:11:07.632Z"
   },
   {
    "duration": 677,
    "start_time": "2022-10-15T18:11:21.476Z"
   },
   {
    "duration": 12,
    "start_time": "2022-10-15T18:11:30.137Z"
   },
   {
    "duration": 659,
    "start_time": "2022-10-15T18:12:03.165Z"
   },
   {
    "duration": 675,
    "start_time": "2022-10-15T18:12:14.208Z"
   },
   {
    "duration": 29,
    "start_time": "2022-10-15T18:12:22.669Z"
   },
   {
    "duration": 7,
    "start_time": "2022-10-15T18:12:29.668Z"
   },
   {
    "duration": 13,
    "start_time": "2022-10-15T18:12:34.309Z"
   },
   {
    "duration": 5,
    "start_time": "2022-10-15T18:12:48.024Z"
   },
   {
    "duration": 15,
    "start_time": "2022-10-15T18:12:49.175Z"
   },
   {
    "duration": 6,
    "start_time": "2022-10-15T18:13:15.012Z"
   },
   {
    "duration": 18,
    "start_time": "2022-10-15T18:13:17.063Z"
   },
   {
    "duration": 3,
    "start_time": "2022-10-15T18:13:18.440Z"
   },
   {
    "duration": 11,
    "start_time": "2022-10-15T18:13:20.384Z"
   },
   {
    "duration": 4,
    "start_time": "2022-10-15T18:13:20.994Z"
   },
   {
    "duration": 1999,
    "start_time": "2022-10-15T18:13:23.409Z"
   },
   {
    "duration": 5,
    "start_time": "2022-10-15T18:13:26.557Z"
   },
   {
    "duration": 9,
    "start_time": "2022-10-15T18:13:30.657Z"
   },
   {
    "duration": 20,
    "start_time": "2022-10-15T18:13:32.576Z"
   },
   {
    "duration": 219,
    "start_time": "2022-10-15T18:13:33.065Z"
   },
   {
    "duration": 17,
    "start_time": "2022-10-15T18:13:39.522Z"
   },
   {
    "duration": 7,
    "start_time": "2022-10-15T18:13:40.534Z"
   },
   {
    "duration": 7,
    "start_time": "2022-10-15T18:14:35.135Z"
   },
   {
    "duration": 4,
    "start_time": "2022-10-15T18:14:51.052Z"
   },
   {
    "duration": 67,
    "start_time": "2022-10-15T18:14:54.086Z"
   },
   {
    "duration": 213,
    "start_time": "2022-10-15T18:15:02.310Z"
   },
   {
    "duration": 21,
    "start_time": "2022-10-15T18:15:11.730Z"
   },
   {
    "duration": 636,
    "start_time": "2022-10-15T18:16:08.265Z"
   },
   {
    "duration": 1398,
    "start_time": "2022-10-15T18:16:19.552Z"
   },
   {
    "duration": 43,
    "start_time": "2022-10-15T18:16:20.952Z"
   },
   {
    "duration": 9,
    "start_time": "2022-10-15T18:16:20.997Z"
   },
   {
    "duration": 8,
    "start_time": "2022-10-15T18:16:21.053Z"
   },
   {
    "duration": 7,
    "start_time": "2022-10-15T18:16:21.233Z"
   },
   {
    "duration": 6,
    "start_time": "2022-10-15T18:16:21.654Z"
   },
   {
    "duration": 209,
    "start_time": "2022-10-15T18:16:42.027Z"
   },
   {
    "duration": 8,
    "start_time": "2022-10-15T18:16:45.648Z"
   },
   {
    "duration": 3,
    "start_time": "2022-10-15T18:16:47.479Z"
   },
   {
    "duration": 4,
    "start_time": "2022-10-15T18:16:48.209Z"
   },
   {
    "duration": 6,
    "start_time": "2022-10-15T18:16:49.248Z"
   },
   {
    "duration": 2,
    "start_time": "2022-10-15T18:16:51.113Z"
   },
   {
    "duration": 129,
    "start_time": "2022-10-15T18:16:52.297Z"
   },
   {
    "duration": 2,
    "start_time": "2022-10-15T18:17:11.010Z"
   },
   {
    "duration": 347,
    "start_time": "2022-10-15T18:17:12.731Z"
   },
   {
    "duration": 18,
    "start_time": "2022-10-15T18:17:17.818Z"
   },
   {
    "duration": 20,
    "start_time": "2022-10-15T18:17:22.077Z"
   },
   {
    "duration": 6,
    "start_time": "2022-10-15T18:17:23.321Z"
   },
   {
    "duration": 12,
    "start_time": "2022-10-15T18:17:23.895Z"
   },
   {
    "duration": 4,
    "start_time": "2022-10-15T18:17:25.373Z"
   },
   {
    "duration": 6,
    "start_time": "2022-10-15T18:17:25.578Z"
   },
   {
    "duration": 11,
    "start_time": "2022-10-15T18:17:25.789Z"
   },
   {
    "duration": 3,
    "start_time": "2022-10-15T18:17:29.820Z"
   },
   {
    "duration": 8,
    "start_time": "2022-10-15T18:17:34.912Z"
   },
   {
    "duration": 5,
    "start_time": "2022-10-15T18:17:36.352Z"
   },
   {
    "duration": 2492,
    "start_time": "2022-10-15T18:17:37.514Z"
   },
   {
    "duration": 4,
    "start_time": "2022-10-15T18:17:40.007Z"
   },
   {
    "duration": 9,
    "start_time": "2022-10-15T18:17:42.854Z"
   },
   {
    "duration": 19,
    "start_time": "2022-10-15T18:17:43.819Z"
   },
   {
    "duration": 178,
    "start_time": "2022-10-15T18:17:44.220Z"
   },
   {
    "duration": 5,
    "start_time": "2022-10-15T18:17:50.322Z"
   },
   {
    "duration": 5,
    "start_time": "2022-10-15T18:17:50.883Z"
   },
   {
    "duration": 35,
    "start_time": "2022-10-15T18:17:51.930Z"
   },
   {
    "duration": 204,
    "start_time": "2022-10-15T18:17:53.097Z"
   },
   {
    "duration": 23,
    "start_time": "2022-10-15T18:17:55.587Z"
   },
   {
    "duration": 3,
    "start_time": "2022-10-15T18:21:15.754Z"
   },
   {
    "duration": 629,
    "start_time": "2022-10-15T18:21:37.964Z"
   },
   {
    "duration": 1317,
    "start_time": "2022-10-15T18:21:54.972Z"
   },
   {
    "duration": 43,
    "start_time": "2022-10-15T18:21:56.290Z"
   },
   {
    "duration": 10,
    "start_time": "2022-10-15T18:21:56.334Z"
   },
   {
    "duration": 11,
    "start_time": "2022-10-15T18:21:56.345Z"
   },
   {
    "duration": 6,
    "start_time": "2022-10-15T18:21:56.427Z"
   },
   {
    "duration": 5,
    "start_time": "2022-10-15T18:21:57.033Z"
   },
   {
    "duration": 3,
    "start_time": "2022-10-15T18:21:57.883Z"
   },
   {
    "duration": 3,
    "start_time": "2022-10-15T18:22:14.906Z"
   },
   {
    "duration": 757,
    "start_time": "2022-10-15T18:22:34.213Z"
   },
   {
    "duration": 46,
    "start_time": "2022-10-15T18:22:56.832Z"
   },
   {
    "duration": 9,
    "start_time": "2022-10-15T18:23:04.402Z"
   },
   {
    "duration": 216,
    "start_time": "2022-10-15T18:23:12.108Z"
   },
   {
    "duration": 691,
    "start_time": "2022-10-15T18:24:19.606Z"
   },
   {
    "duration": 3,
    "start_time": "2022-10-15T18:24:36.570Z"
   },
   {
    "duration": 43,
    "start_time": "2022-10-15T18:24:37.339Z"
   },
   {
    "duration": 132,
    "start_time": "2022-10-15T18:24:39.368Z"
   },
   {
    "duration": 659,
    "start_time": "2022-10-15T18:24:39.841Z"
   },
   {
    "duration": 1310,
    "start_time": "2022-10-15T18:26:19.551Z"
   },
   {
    "duration": 44,
    "start_time": "2022-10-15T18:26:20.863Z"
   },
   {
    "duration": 11,
    "start_time": "2022-10-15T18:26:20.909Z"
   },
   {
    "duration": 8,
    "start_time": "2022-10-15T18:26:20.922Z"
   },
   {
    "duration": 7,
    "start_time": "2022-10-15T18:26:21.070Z"
   },
   {
    "duration": 5,
    "start_time": "2022-10-15T18:26:21.506Z"
   },
   {
    "duration": 3,
    "start_time": "2022-10-15T18:26:22.466Z"
   },
   {
    "duration": 4,
    "start_time": "2022-10-15T18:26:22.925Z"
   },
   {
    "duration": 752,
    "start_time": "2022-10-15T18:26:23.679Z"
   },
   {
    "duration": 336,
    "start_time": "2022-10-15T18:26:24.433Z"
   },
   {
    "duration": 415,
    "start_time": "2022-10-15T18:26:25.385Z"
   },
   {
    "duration": 1598,
    "start_time": "2022-10-15T18:26:27.410Z"
   },
   {
    "duration": 1499,
    "start_time": "2022-10-15T18:26:29.010Z"
   },
   {
    "duration": 97,
    "start_time": "2022-10-15T18:26:30.515Z"
   },
   {
    "duration": 192,
    "start_time": "2022-10-15T18:27:50.492Z"
   },
   {
    "duration": 7,
    "start_time": "2022-10-15T18:28:05.333Z"
   },
   {
    "duration": 214,
    "start_time": "2022-10-15T18:28:41.565Z"
   },
   {
    "duration": 8,
    "start_time": "2022-10-15T18:28:45.045Z"
   },
   {
    "duration": 3,
    "start_time": "2022-10-15T18:28:49.475Z"
   },
   {
    "duration": 3,
    "start_time": "2022-10-15T18:30:11.363Z"
   },
   {
    "duration": 3,
    "start_time": "2022-10-15T18:30:32.312Z"
   },
   {
    "duration": 8,
    "start_time": "2022-10-15T18:30:32.755Z"
   },
   {
    "duration": 709,
    "start_time": "2022-10-15T18:30:42.292Z"
   },
   {
    "duration": 418,
    "start_time": "2022-10-15T18:33:06.300Z"
   },
   {
    "duration": 443,
    "start_time": "2022-10-15T18:33:13.773Z"
   },
   {
    "duration": 3,
    "start_time": "2022-10-15T18:36:14.303Z"
   },
   {
    "duration": 261,
    "start_time": "2022-10-15T18:36:51.489Z"
   },
   {
    "duration": 22,
    "start_time": "2022-10-15T18:37:57.663Z"
   },
   {
    "duration": 7,
    "start_time": "2022-10-15T18:38:17.212Z"
   },
   {
    "duration": 13,
    "start_time": "2022-10-15T18:38:19.628Z"
   },
   {
    "duration": 4,
    "start_time": "2022-10-15T18:39:20.116Z"
   },
   {
    "duration": 6,
    "start_time": "2022-10-15T18:39:20.672Z"
   },
   {
    "duration": 3,
    "start_time": "2022-10-15T18:39:25.505Z"
   },
   {
    "duration": 8,
    "start_time": "2022-10-15T18:39:33.339Z"
   },
   {
    "duration": 4,
    "start_time": "2022-10-15T18:39:33.812Z"
   },
   {
    "duration": 2028,
    "start_time": "2022-10-15T18:39:40.600Z"
   },
   {
    "duration": 5,
    "start_time": "2022-10-15T18:39:43.548Z"
   },
   {
    "duration": 122,
    "start_time": "2022-10-15T18:39:47.638Z"
   },
   {
    "duration": 6,
    "start_time": "2022-10-15T18:41:04.954Z"
   },
   {
    "duration": 8,
    "start_time": "2022-10-15T18:41:31.608Z"
   },
   {
    "duration": 6,
    "start_time": "2022-10-15T18:41:53.620Z"
   },
   {
    "duration": 66,
    "start_time": "2022-10-15T18:41:54.171Z"
   },
   {
    "duration": 10,
    "start_time": "2022-10-15T18:42:06.814Z"
   },
   {
    "duration": 204,
    "start_time": "2022-10-15T18:42:17.450Z"
   },
   {
    "duration": 3,
    "start_time": "2022-10-15T18:43:06.685Z"
   },
   {
    "duration": 20,
    "start_time": "2022-10-15T18:43:07.721Z"
   },
   {
    "duration": 20,
    "start_time": "2022-10-15T18:43:22.930Z"
   },
   {
    "duration": 3,
    "start_time": "2022-10-15T18:48:59.411Z"
   },
   {
    "duration": 4,
    "start_time": "2022-10-15T18:49:46.007Z"
   },
   {
    "duration": 42,
    "start_time": "2022-10-15T18:49:47.271Z"
   },
   {
    "duration": 11,
    "start_time": "2022-10-15T18:50:15.821Z"
   },
   {
    "duration": 12213,
    "start_time": "2022-10-15T18:50:43.812Z"
   },
   {
    "duration": 315,
    "start_time": "2022-10-15T18:50:56.028Z"
   },
   {
    "duration": 4,
    "start_time": "2022-10-15T18:51:05.514Z"
   },
   {
    "duration": 80,
    "start_time": "2022-10-15T18:51:05.966Z"
   },
   {
    "duration": 4,
    "start_time": "2022-10-15T18:51:19.014Z"
   },
   {
    "duration": 78,
    "start_time": "2022-10-15T18:51:20.080Z"
   },
   {
    "duration": 3,
    "start_time": "2022-10-15T18:51:55.811Z"
   },
   {
    "duration": 55,
    "start_time": "2022-10-15T18:51:56.462Z"
   },
   {
    "duration": 3,
    "start_time": "2022-10-15T18:52:33.710Z"
   },
   {
    "duration": 3,
    "start_time": "2022-10-15T18:52:40.333Z"
   },
   {
    "duration": 68,
    "start_time": "2022-10-15T18:52:40.862Z"
   },
   {
    "duration": 3,
    "start_time": "2022-10-15T18:52:57.313Z"
   },
   {
    "duration": 305094,
    "start_time": "2022-10-15T18:52:57.838Z"
   },
   {
    "duration": 4,
    "start_time": "2022-10-15T19:00:31.695Z"
   },
   {
    "duration": 2,
    "start_time": "2022-10-15T19:00:44.733Z"
   },
   {
    "duration": 1496,
    "start_time": "2022-10-15T19:01:46.649Z"
   },
   {
    "duration": 30,
    "start_time": "2022-10-15T19:03:15.975Z"
   },
   {
    "duration": 3,
    "start_time": "2022-10-15T19:03:39.510Z"
   },
   {
    "duration": 30,
    "start_time": "2022-10-15T19:03:39.990Z"
   },
   {
    "duration": 5,
    "start_time": "2022-10-15T19:04:16.429Z"
   },
   {
    "duration": 780,
    "start_time": "2022-10-15T19:04:21.612Z"
   },
   {
    "duration": 503,
    "start_time": "2022-10-15T19:04:42.464Z"
   },
   {
    "duration": 52,
    "start_time": "2022-10-15T19:06:07.559Z"
   },
   {
    "duration": 4,
    "start_time": "2022-10-15T19:06:34.784Z"
   },
   {
    "duration": 50,
    "start_time": "2022-10-15T19:06:41.438Z"
   },
   {
    "duration": 6,
    "start_time": "2022-10-15T19:07:15.407Z"
   },
   {
    "duration": 53,
    "start_time": "2022-10-15T19:07:18.464Z"
   },
   {
    "duration": 149,
    "start_time": "2022-10-15T19:08:01.839Z"
   },
   {
    "duration": 77,
    "start_time": "2022-10-15T19:08:08.510Z"
   },
   {
    "duration": 2219,
    "start_time": "2022-10-15T19:11:47.809Z"
   },
   {
    "duration": 3199,
    "start_time": "2022-10-15T19:11:51.754Z"
   },
   {
    "duration": 94,
    "start_time": "2022-10-15T19:11:54.955Z"
   },
   {
    "duration": 10,
    "start_time": "2022-10-15T19:11:55.050Z"
   },
   {
    "duration": 13,
    "start_time": "2022-10-15T19:11:55.061Z"
   },
   {
    "duration": 6,
    "start_time": "2022-10-15T19:11:55.075Z"
   },
   {
    "duration": 16,
    "start_time": "2022-10-15T19:11:55.083Z"
   },
   {
    "duration": 3,
    "start_time": "2022-10-15T19:11:55.688Z"
   },
   {
    "duration": 488,
    "start_time": "2022-10-15T19:12:03.430Z"
   },
   {
    "duration": 954,
    "start_time": "2022-10-15T19:12:21.771Z"
   },
   {
    "duration": 203,
    "start_time": "2022-10-15T19:12:34.058Z"
   },
   {
    "duration": 10,
    "start_time": "2022-10-15T19:12:35.031Z"
   },
   {
    "duration": 2,
    "start_time": "2022-10-15T19:12:35.738Z"
   },
   {
    "duration": 4,
    "start_time": "2022-10-15T19:12:36.211Z"
   },
   {
    "duration": 9,
    "start_time": "2022-10-15T19:12:36.699Z"
   },
   {
    "duration": 30,
    "start_time": "2022-10-15T19:12:37.712Z"
   },
   {
    "duration": 21,
    "start_time": "2022-10-15T19:12:47.658Z"
   },
   {
    "duration": 299,
    "start_time": "2022-10-15T19:12:56.444Z"
   },
   {
    "duration": 507,
    "start_time": "2022-10-15T19:12:57.061Z"
   },
   {
    "duration": 3,
    "start_time": "2022-10-15T19:13:01.014Z"
   },
   {
    "duration": 457,
    "start_time": "2022-10-15T19:13:01.254Z"
   },
   {
    "duration": 2235,
    "start_time": "2022-10-15T19:13:15.330Z"
   },
   {
    "duration": 1726,
    "start_time": "2022-10-15T19:13:17.567Z"
   },
   {
    "duration": 45,
    "start_time": "2022-10-15T19:13:19.295Z"
   },
   {
    "duration": 10,
    "start_time": "2022-10-15T19:13:19.342Z"
   },
   {
    "duration": 63,
    "start_time": "2022-10-15T19:13:19.353Z"
   },
   {
    "duration": 36,
    "start_time": "2022-10-15T19:13:19.417Z"
   },
   {
    "duration": 20,
    "start_time": "2022-10-15T19:13:19.454Z"
   },
   {
    "duration": 13,
    "start_time": "2022-10-15T19:13:19.476Z"
   },
   {
    "duration": 23,
    "start_time": "2022-10-15T19:13:19.490Z"
   },
   {
    "duration": 676,
    "start_time": "2022-10-15T19:13:19.516Z"
   },
   {
    "duration": 399,
    "start_time": "2022-10-15T19:13:20.194Z"
   },
   {
    "duration": 495,
    "start_time": "2022-10-15T19:13:20.595Z"
   },
   {
    "duration": 1427,
    "start_time": "2022-10-15T19:13:21.092Z"
   },
   {
    "duration": 2101,
    "start_time": "2022-10-15T19:13:22.610Z"
   },
   {
    "duration": 98,
    "start_time": "2022-10-15T19:13:24.714Z"
   },
   {
    "duration": 261,
    "start_time": "2022-10-15T19:13:24.815Z"
   },
   {
    "duration": 8,
    "start_time": "2022-10-15T19:13:25.078Z"
   },
   {
    "duration": 21,
    "start_time": "2022-10-15T19:13:25.088Z"
   },
   {
    "duration": 29,
    "start_time": "2022-10-15T19:13:25.111Z"
   },
   {
    "duration": 34,
    "start_time": "2022-10-15T19:13:25.142Z"
   },
   {
    "duration": 767,
    "start_time": "2022-10-15T19:13:25.178Z"
   },
   {
    "duration": 328,
    "start_time": "2022-10-15T19:13:25.947Z"
   },
   {
    "duration": 1334,
    "start_time": "2022-10-15T19:13:26.276Z"
   },
   {
    "duration": 3,
    "start_time": "2022-10-15T19:13:27.612Z"
   },
   {
    "duration": 363,
    "start_time": "2022-10-15T19:13:27.617Z"
   },
   {
    "duration": 22,
    "start_time": "2022-10-15T19:13:43.501Z"
   },
   {
    "duration": 7,
    "start_time": "2022-10-15T19:13:46.151Z"
   },
   {
    "duration": 13,
    "start_time": "2022-10-15T19:13:46.504Z"
   },
   {
    "duration": 4,
    "start_time": "2022-10-15T19:13:47.511Z"
   },
   {
    "duration": 7,
    "start_time": "2022-10-15T19:13:47.990Z"
   },
   {
    "duration": 3,
    "start_time": "2022-10-15T19:13:48.473Z"
   },
   {
    "duration": 32,
    "start_time": "2022-10-15T19:13:50.954Z"
   },
   {
    "duration": 3,
    "start_time": "2022-10-15T19:13:51.447Z"
   },
   {
    "duration": 1992,
    "start_time": "2022-10-15T19:13:54.991Z"
   },
   {
    "duration": 4,
    "start_time": "2022-10-15T19:13:56.985Z"
   },
   {
    "duration": 5,
    "start_time": "2022-10-15T19:14:05.326Z"
   },
   {
    "duration": 2646,
    "start_time": "2022-10-15T19:18:06.290Z"
   },
   {
    "duration": 3268,
    "start_time": "2022-10-15T19:18:08.939Z"
   },
   {
    "duration": 95,
    "start_time": "2022-10-15T19:18:12.209Z"
   },
   {
    "duration": 11,
    "start_time": "2022-10-15T19:18:12.306Z"
   },
   {
    "duration": 15,
    "start_time": "2022-10-15T19:18:12.319Z"
   },
   {
    "duration": 18,
    "start_time": "2022-10-15T19:18:12.335Z"
   },
   {
    "duration": 15,
    "start_time": "2022-10-15T19:18:12.354Z"
   },
   {
    "duration": 7,
    "start_time": "2022-10-15T19:18:12.371Z"
   },
   {
    "duration": 5,
    "start_time": "2022-10-15T19:18:12.379Z"
   },
   {
    "duration": 747,
    "start_time": "2022-10-15T19:18:12.386Z"
   },
   {
    "duration": 427,
    "start_time": "2022-10-15T19:18:13.134Z"
   },
   {
    "duration": 4315,
    "start_time": "2022-10-15T19:18:13.563Z"
   },
   {
    "duration": 1942,
    "start_time": "2022-10-15T19:18:17.880Z"
   },
   {
    "duration": 1784,
    "start_time": "2022-10-15T19:18:19.825Z"
   },
   {
    "duration": 11,
    "start_time": "2022-10-15T19:18:21.610Z"
   },
   {
    "duration": 396,
    "start_time": "2022-10-15T19:18:21.622Z"
   },
   {
    "duration": 8,
    "start_time": "2022-10-15T19:18:22.019Z"
   },
   {
    "duration": 5,
    "start_time": "2022-10-15T19:18:22.029Z"
   },
   {
    "duration": 7,
    "start_time": "2022-10-15T19:18:22.036Z"
   },
   {
    "duration": 14,
    "start_time": "2022-10-15T19:18:22.044Z"
   },
   {
    "duration": 774,
    "start_time": "2022-10-15T19:18:22.060Z"
   },
   {
    "duration": 330,
    "start_time": "2022-10-15T19:18:22.836Z"
   },
   {
    "duration": 2325,
    "start_time": "2022-10-15T19:18:23.167Z"
   },
   {
    "duration": 3,
    "start_time": "2022-10-15T19:18:25.493Z"
   },
   {
    "duration": 360,
    "start_time": "2022-10-15T19:18:25.509Z"
   },
   {
    "duration": 20,
    "start_time": "2022-10-15T19:18:25.871Z"
   },
   {
    "duration": 20,
    "start_time": "2022-10-15T19:18:25.892Z"
   },
   {
    "duration": 13,
    "start_time": "2022-10-15T19:18:25.915Z"
   },
   {
    "duration": 8,
    "start_time": "2022-10-15T19:18:25.929Z"
   },
   {
    "duration": 8,
    "start_time": "2022-10-15T19:18:25.939Z"
   },
   {
    "duration": 6,
    "start_time": "2022-10-15T19:18:25.949Z"
   },
   {
    "duration": 32,
    "start_time": "2022-10-15T19:18:25.957Z"
   },
   {
    "duration": 5,
    "start_time": "2022-10-15T19:18:26.009Z"
   },
   {
    "duration": 2121,
    "start_time": "2022-10-15T19:18:26.016Z"
   },
   {
    "duration": 2114,
    "start_time": "2022-10-15T19:19:00.724Z"
   },
   {
    "duration": 5,
    "start_time": "2022-10-15T19:19:02.840Z"
   },
   {
    "duration": 176,
    "start_time": "2022-10-15T19:21:11.367Z"
   },
   {
    "duration": 359,
    "start_time": "2022-10-15T19:21:26.617Z"
   },
   {
    "duration": 318,
    "start_time": "2022-10-15T19:21:43.651Z"
   },
   {
    "duration": 305,
    "start_time": "2022-10-15T19:22:00.258Z"
   },
   {
    "duration": 350,
    "start_time": "2022-10-15T19:22:30.338Z"
   },
   {
    "duration": 360,
    "start_time": "2022-10-15T19:23:08.703Z"
   },
   {
    "duration": 330,
    "start_time": "2022-10-15T19:23:27.349Z"
   },
   {
    "duration": 46,
    "start_time": "2022-10-15T19:28:40.676Z"
   },
   {
    "duration": 411,
    "start_time": "2022-10-15T19:28:54.194Z"
   },
   {
    "duration": 491,
    "start_time": "2022-10-15T19:29:16.501Z"
   },
   {
    "duration": 577,
    "start_time": "2022-10-15T19:29:23.931Z"
   },
   {
    "duration": 3,
    "start_time": "2022-10-15T19:29:41.303Z"
   },
   {
    "duration": 6,
    "start_time": "2022-10-15T19:29:41.755Z"
   },
   {
    "duration": 3054,
    "start_time": "2022-10-15T19:30:02.955Z"
   },
   {
    "duration": 964,
    "start_time": "2022-10-15T19:30:16.609Z"
   },
   {
    "duration": 698,
    "start_time": "2022-10-15T19:30:26.865Z"
   },
   {
    "duration": 581,
    "start_time": "2022-10-15T19:30:34.672Z"
   },
   {
    "duration": 779,
    "start_time": "2022-10-15T19:30:41.474Z"
   },
   {
    "duration": 1031,
    "start_time": "2022-10-15T19:30:52.106Z"
   },
   {
    "duration": 4,
    "start_time": "2022-10-15T19:30:58.350Z"
   },
   {
    "duration": 5,
    "start_time": "2022-10-15T19:30:59.564Z"
   },
   {
    "duration": 18,
    "start_time": "2022-10-15T19:31:28.151Z"
   },
   {
    "duration": 391,
    "start_time": "2022-10-15T19:31:40.952Z"
   },
   {
    "duration": 863,
    "start_time": "2022-10-15T19:31:51.095Z"
   },
   {
    "duration": 638,
    "start_time": "2022-10-15T19:31:59.115Z"
   },
   {
    "duration": 533,
    "start_time": "2022-10-15T19:32:05.704Z"
   },
   {
    "duration": 3,
    "start_time": "2022-10-15T19:32:12.617Z"
   },
   {
    "duration": 7,
    "start_time": "2022-10-15T19:32:13.107Z"
   },
   {
    "duration": 5,
    "start_time": "2022-10-15T19:34:25.990Z"
   },
   {
    "duration": 93,
    "start_time": "2022-10-15T19:35:00.449Z"
   },
   {
    "duration": 4,
    "start_time": "2022-10-15T19:35:17.372Z"
   },
   {
    "duration": 331132,
    "start_time": "2022-10-15T19:35:18.133Z"
   },
   {
    "duration": 4,
    "start_time": "2022-10-15T19:41:27.667Z"
   },
   {
    "duration": 7690,
    "start_time": "2022-10-15T19:41:31.327Z"
   },
   {
    "duration": 5,
    "start_time": "2022-10-15T19:41:44.303Z"
   },
   {
    "duration": 3,
    "start_time": "2022-10-15T19:41:57.326Z"
   },
   {
    "duration": 5,
    "start_time": "2022-10-15T19:41:58.265Z"
   },
   {
    "duration": 2,
    "start_time": "2022-10-15T19:42:01.352Z"
   },
   {
    "duration": 5,
    "start_time": "2022-10-15T19:42:02.157Z"
   },
   {
    "duration": 681,
    "start_time": "2022-10-15T19:42:46.300Z"
   },
   {
    "duration": 2232,
    "start_time": "2022-10-15T19:42:56.369Z"
   },
   {
    "duration": 1816,
    "start_time": "2022-10-15T19:42:58.603Z"
   },
   {
    "duration": 43,
    "start_time": "2022-10-15T19:43:00.421Z"
   },
   {
    "duration": 9,
    "start_time": "2022-10-15T19:43:00.466Z"
   },
   {
    "duration": 70,
    "start_time": "2022-10-15T19:43:00.476Z"
   },
   {
    "duration": 40,
    "start_time": "2022-10-15T19:43:00.548Z"
   },
   {
    "duration": 38,
    "start_time": "2022-10-15T19:43:00.590Z"
   },
   {
    "duration": 72,
    "start_time": "2022-10-15T19:43:00.630Z"
   },
   {
    "duration": 18,
    "start_time": "2022-10-15T19:43:00.703Z"
   },
   {
    "duration": 713,
    "start_time": "2022-10-15T19:43:00.724Z"
   },
   {
    "duration": 443,
    "start_time": "2022-10-15T19:43:01.439Z"
   },
   {
    "duration": 1239,
    "start_time": "2022-10-15T19:43:01.884Z"
   },
   {
    "duration": 1388,
    "start_time": "2022-10-15T19:43:03.124Z"
   },
   {
    "duration": 1796,
    "start_time": "2022-10-15T19:43:04.515Z"
   },
   {
    "duration": 96,
    "start_time": "2022-10-15T19:43:06.317Z"
   },
   {
    "duration": 212,
    "start_time": "2022-10-15T19:43:11.535Z"
   },
   {
    "duration": 7,
    "start_time": "2022-10-15T19:43:14.767Z"
   },
   {
    "duration": 2,
    "start_time": "2022-10-15T19:43:17.165Z"
   },
   {
    "duration": 3,
    "start_time": "2022-10-15T19:43:23.350Z"
   },
   {
    "duration": 4,
    "start_time": "2022-10-15T19:43:24.430Z"
   },
   {
    "duration": 7,
    "start_time": "2022-10-15T19:43:25.000Z"
   },
   {
    "duration": 654,
    "start_time": "2022-10-15T19:43:28.947Z"
   },
   {
    "duration": 310,
    "start_time": "2022-10-15T19:43:35.071Z"
   },
   {
    "duration": 404,
    "start_time": "2022-10-15T19:43:36.699Z"
   },
   {
    "duration": 2,
    "start_time": "2022-10-15T19:43:44.744Z"
   },
   {
    "duration": 366,
    "start_time": "2022-10-15T19:43:45.384Z"
   },
   {
    "duration": 19,
    "start_time": "2022-10-15T19:43:48.564Z"
   },
   {
    "duration": 6,
    "start_time": "2022-10-15T19:43:50.734Z"
   },
   {
    "duration": 15,
    "start_time": "2022-10-15T19:43:51.209Z"
   },
   {
    "duration": 4,
    "start_time": "2022-10-15T19:43:53.568Z"
   },
   {
    "duration": 6,
    "start_time": "2022-10-15T19:43:53.777Z"
   },
   {
    "duration": 3,
    "start_time": "2022-10-15T19:43:54.033Z"
   },
   {
    "duration": 8,
    "start_time": "2022-10-15T19:43:57.416Z"
   },
   {
    "duration": 4,
    "start_time": "2022-10-15T19:43:58.299Z"
   },
   {
    "duration": 2221,
    "start_time": "2022-10-15T19:44:12.684Z"
   },
   {
    "duration": 1749,
    "start_time": "2022-10-15T19:44:14.907Z"
   },
   {
    "duration": 45,
    "start_time": "2022-10-15T19:44:16.658Z"
   },
   {
    "duration": 8,
    "start_time": "2022-10-15T19:44:16.705Z"
   },
   {
    "duration": 8,
    "start_time": "2022-10-15T19:44:16.716Z"
   },
   {
    "duration": 6,
    "start_time": "2022-10-15T19:44:16.726Z"
   },
   {
    "duration": 14,
    "start_time": "2022-10-15T19:44:16.733Z"
   },
   {
    "duration": 7,
    "start_time": "2022-10-15T19:44:16.749Z"
   },
   {
    "duration": 15,
    "start_time": "2022-10-15T19:44:16.758Z"
   },
   {
    "duration": 708,
    "start_time": "2022-10-15T19:44:16.775Z"
   },
   {
    "duration": 417,
    "start_time": "2022-10-15T19:44:17.485Z"
   },
   {
    "duration": 700,
    "start_time": "2022-10-15T19:44:17.903Z"
   },
   {
    "duration": 1314,
    "start_time": "2022-10-15T19:44:18.604Z"
   },
   {
    "duration": 1603,
    "start_time": "2022-10-15T19:44:20.014Z"
   },
   {
    "duration": 97,
    "start_time": "2022-10-15T19:44:21.619Z"
   },
   {
    "duration": 195,
    "start_time": "2022-10-15T19:44:24.901Z"
   },
   {
    "duration": 7,
    "start_time": "2022-10-15T19:44:27.786Z"
   },
   {
    "duration": 3,
    "start_time": "2022-10-15T19:44:32.184Z"
   },
   {
    "duration": 4,
    "start_time": "2022-10-15T19:44:33.100Z"
   },
   {
    "duration": 9,
    "start_time": "2022-10-15T19:44:34.071Z"
   },
   {
    "duration": 666,
    "start_time": "2022-10-15T19:44:37.638Z"
   },
   {
    "duration": 316,
    "start_time": "2022-10-15T19:44:46.825Z"
   },
   {
    "duration": 469,
    "start_time": "2022-10-15T19:44:51.132Z"
   },
   {
    "duration": 2,
    "start_time": "2022-10-15T19:44:55.495Z"
   },
   {
    "duration": 364,
    "start_time": "2022-10-15T19:44:55.707Z"
   },
   {
    "duration": 20,
    "start_time": "2022-10-15T19:44:57.148Z"
   },
   {
    "duration": 7,
    "start_time": "2022-10-15T19:44:57.620Z"
   },
   {
    "duration": 12,
    "start_time": "2022-10-15T19:44:57.946Z"
   },
   {
    "duration": 4,
    "start_time": "2022-10-15T19:44:58.526Z"
   },
   {
    "duration": 6,
    "start_time": "2022-10-15T19:44:58.765Z"
   },
   {
    "duration": 3,
    "start_time": "2022-10-15T19:44:59.145Z"
   },
   {
    "duration": 9,
    "start_time": "2022-10-15T19:45:00.090Z"
   },
   {
    "duration": 5,
    "start_time": "2022-10-15T19:45:01.056Z"
   },
   {
    "duration": 2406,
    "start_time": "2022-10-15T19:46:50.965Z"
   },
   {
    "duration": 1773,
    "start_time": "2022-10-15T19:46:53.373Z"
   },
   {
    "duration": 45,
    "start_time": "2022-10-15T19:46:55.148Z"
   },
   {
    "duration": 13,
    "start_time": "2022-10-15T19:46:55.196Z"
   },
   {
    "duration": 30,
    "start_time": "2022-10-15T19:46:55.211Z"
   },
   {
    "duration": 14,
    "start_time": "2022-10-15T19:46:55.242Z"
   },
   {
    "duration": 26,
    "start_time": "2022-10-15T19:46:55.258Z"
   },
   {
    "duration": 23,
    "start_time": "2022-10-15T19:46:55.286Z"
   },
   {
    "duration": 33,
    "start_time": "2022-10-15T19:46:55.310Z"
   },
   {
    "duration": 718,
    "start_time": "2022-10-15T19:46:55.345Z"
   },
   {
    "duration": 396,
    "start_time": "2022-10-15T19:46:56.065Z"
   },
   {
    "duration": 601,
    "start_time": "2022-10-15T19:46:56.462Z"
   },
   {
    "duration": 1448,
    "start_time": "2022-10-15T19:46:57.065Z"
   },
   {
    "duration": 1696,
    "start_time": "2022-10-15T19:46:58.515Z"
   },
   {
    "duration": 99,
    "start_time": "2022-10-15T19:47:00.217Z"
   },
   {
    "duration": 304,
    "start_time": "2022-10-15T19:49:34.347Z"
   },
   {
    "duration": 443,
    "start_time": "2022-10-15T19:49:59.150Z"
   },
   {
    "duration": 159,
    "start_time": "2022-10-15T19:57:26.925Z"
   },
   {
    "duration": 654,
    "start_time": "2022-10-15T19:58:13.971Z"
   },
   {
    "duration": 209,
    "start_time": "2022-10-15T19:58:24.553Z"
   },
   {
    "duration": 167,
    "start_time": "2022-10-15T19:58:38.987Z"
   },
   {
    "duration": 146,
    "start_time": "2022-10-15T19:58:59.598Z"
   },
   {
    "duration": 144,
    "start_time": "2022-10-15T19:59:09.168Z"
   },
   {
    "duration": 2254,
    "start_time": "2022-10-15T19:59:24.066Z"
   },
   {
    "duration": 1751,
    "start_time": "2022-10-15T19:59:26.322Z"
   },
   {
    "duration": 45,
    "start_time": "2022-10-15T19:59:28.074Z"
   },
   {
    "duration": 10,
    "start_time": "2022-10-15T19:59:28.120Z"
   },
   {
    "duration": 15,
    "start_time": "2022-10-15T19:59:28.132Z"
   },
   {
    "duration": 7,
    "start_time": "2022-10-15T19:59:28.149Z"
   },
   {
    "duration": 8,
    "start_time": "2022-10-15T19:59:28.158Z"
   },
   {
    "duration": 5,
    "start_time": "2022-10-15T19:59:28.167Z"
   },
   {
    "duration": 5,
    "start_time": "2022-10-15T19:59:28.174Z"
   },
   {
    "duration": 695,
    "start_time": "2022-10-15T19:59:28.208Z"
   },
   {
    "duration": 422,
    "start_time": "2022-10-15T19:59:28.908Z"
   },
   {
    "duration": 525,
    "start_time": "2022-10-15T19:59:29.332Z"
   },
   {
    "duration": 1555,
    "start_time": "2022-10-15T19:59:29.858Z"
   },
   {
    "duration": 1794,
    "start_time": "2022-10-15T19:59:31.417Z"
   },
   {
    "duration": 97,
    "start_time": "2022-10-15T19:59:33.216Z"
   },
   {
    "duration": 382,
    "start_time": "2022-10-15T19:59:33.529Z"
   },
   {
    "duration": 206,
    "start_time": "2022-10-15T20:09:19.042Z"
   },
   {
    "duration": 8,
    "start_time": "2022-10-15T20:09:19.945Z"
   },
   {
    "duration": 3,
    "start_time": "2022-10-15T20:09:20.689Z"
   },
   {
    "duration": 4,
    "start_time": "2022-10-15T20:09:21.798Z"
   },
   {
    "duration": 8,
    "start_time": "2022-10-15T20:09:22.370Z"
   },
   {
    "duration": 2253,
    "start_time": "2022-10-15T20:09:32.346Z"
   },
   {
    "duration": 1767,
    "start_time": "2022-10-15T20:09:34.601Z"
   },
   {
    "duration": 44,
    "start_time": "2022-10-15T20:09:36.369Z"
   },
   {
    "duration": 10,
    "start_time": "2022-10-15T20:09:36.415Z"
   },
   {
    "duration": 9,
    "start_time": "2022-10-15T20:09:36.426Z"
   },
   {
    "duration": 6,
    "start_time": "2022-10-15T20:09:36.436Z"
   },
   {
    "duration": 9,
    "start_time": "2022-10-15T20:09:36.443Z"
   },
   {
    "duration": 5,
    "start_time": "2022-10-15T20:09:36.453Z"
   },
   {
    "duration": 4,
    "start_time": "2022-10-15T20:09:36.460Z"
   },
   {
    "duration": 712,
    "start_time": "2022-10-15T20:09:36.467Z"
   },
   {
    "duration": 400,
    "start_time": "2022-10-15T20:09:37.181Z"
   },
   {
    "duration": 474,
    "start_time": "2022-10-15T20:09:37.582Z"
   },
   {
    "duration": 1960,
    "start_time": "2022-10-15T20:09:38.057Z"
   },
   {
    "duration": 2391,
    "start_time": "2022-10-15T20:09:40.019Z"
   },
   {
    "duration": 97,
    "start_time": "2022-10-15T20:09:42.412Z"
   },
   {
    "duration": 187,
    "start_time": "2022-10-15T20:09:43.295Z"
   },
   {
    "duration": 8,
    "start_time": "2022-10-15T20:09:44.183Z"
   },
   {
    "duration": 2,
    "start_time": "2022-10-15T20:09:44.636Z"
   },
   {
    "duration": 3,
    "start_time": "2022-10-15T20:09:45.171Z"
   },
   {
    "duration": 2258,
    "start_time": "2022-10-15T20:09:58.935Z"
   },
   {
    "duration": 1857,
    "start_time": "2022-10-15T20:10:01.196Z"
   },
   {
    "duration": 44,
    "start_time": "2022-10-15T20:10:03.055Z"
   },
   {
    "duration": 10,
    "start_time": "2022-10-15T20:10:03.101Z"
   },
   {
    "duration": 9,
    "start_time": "2022-10-15T20:10:03.113Z"
   },
   {
    "duration": 23,
    "start_time": "2022-10-15T20:10:03.123Z"
   },
   {
    "duration": 9,
    "start_time": "2022-10-15T20:10:03.148Z"
   },
   {
    "duration": 14,
    "start_time": "2022-10-15T20:10:03.158Z"
   },
   {
    "duration": 11,
    "start_time": "2022-10-15T20:10:03.174Z"
   },
   {
    "duration": 686,
    "start_time": "2022-10-15T20:10:03.187Z"
   },
   {
    "duration": 427,
    "start_time": "2022-10-15T20:10:03.875Z"
   },
   {
    "duration": 550,
    "start_time": "2022-10-15T20:10:04.308Z"
   },
   {
    "duration": 1456,
    "start_time": "2022-10-15T20:10:04.859Z"
   },
   {
    "duration": 1690,
    "start_time": "2022-10-15T20:10:06.320Z"
   },
   {
    "duration": 97,
    "start_time": "2022-10-15T20:10:08.012Z"
   },
   {
    "duration": 186,
    "start_time": "2022-10-15T20:10:11.078Z"
   },
   {
    "duration": 8,
    "start_time": "2022-10-15T20:10:11.936Z"
   },
   {
    "duration": 3,
    "start_time": "2022-10-15T20:10:13.360Z"
   },
   {
    "duration": 3,
    "start_time": "2022-10-15T20:10:14.364Z"
   },
   {
    "duration": 7,
    "start_time": "2022-10-15T20:10:15.235Z"
   },
   {
    "duration": 681,
    "start_time": "2022-10-15T20:10:19.403Z"
   },
   {
    "duration": 349,
    "start_time": "2022-10-15T20:10:27.498Z"
   },
   {
    "duration": 542,
    "start_time": "2022-10-15T20:10:33.013Z"
   },
   {
    "duration": 166,
    "start_time": "2022-10-15T20:12:03.780Z"
   },
   {
    "duration": 1075,
    "start_time": "2022-10-15T20:13:50.689Z"
   },
   {
    "duration": 742,
    "start_time": "2022-10-15T20:14:03.593Z"
   },
   {
    "duration": 4,
    "start_time": "2022-10-15T20:14:42.228Z"
   },
   {
    "duration": 14,
    "start_time": "2022-10-15T20:14:45.934Z"
   },
   {
    "duration": 7,
    "start_time": "2022-10-15T20:15:00.350Z"
   },
   {
    "duration": 5,
    "start_time": "2022-10-15T20:15:15.940Z"
   },
   {
    "duration": 2292,
    "start_time": "2022-10-15T20:16:21.715Z"
   },
   {
    "duration": 1762,
    "start_time": "2022-10-15T20:16:24.009Z"
   },
   {
    "duration": 44,
    "start_time": "2022-10-15T20:16:25.773Z"
   },
   {
    "duration": 10,
    "start_time": "2022-10-15T20:16:25.819Z"
   },
   {
    "duration": 11,
    "start_time": "2022-10-15T20:16:25.830Z"
   },
   {
    "duration": 6,
    "start_time": "2022-10-15T20:16:25.843Z"
   },
   {
    "duration": 6,
    "start_time": "2022-10-15T20:16:25.851Z"
   },
   {
    "duration": 5,
    "start_time": "2022-10-15T20:16:25.859Z"
   },
   {
    "duration": 7,
    "start_time": "2022-10-15T20:16:25.865Z"
   },
   {
    "duration": 707,
    "start_time": "2022-10-15T20:16:25.874Z"
   },
   {
    "duration": 408,
    "start_time": "2022-10-15T20:16:26.583Z"
   },
   {
    "duration": 497,
    "start_time": "2022-10-15T20:16:26.993Z"
   },
   {
    "duration": 1321,
    "start_time": "2022-10-15T20:16:27.492Z"
   },
   {
    "duration": 1798,
    "start_time": "2022-10-15T20:16:28.815Z"
   },
   {
    "duration": 99,
    "start_time": "2022-10-15T20:16:30.614Z"
   },
   {
    "duration": 204,
    "start_time": "2022-10-15T20:16:30.715Z"
   },
   {
    "duration": 7,
    "start_time": "2022-10-15T20:16:30.920Z"
   },
   {
    "duration": 27,
    "start_time": "2022-10-15T20:16:30.929Z"
   },
   {
    "duration": 36,
    "start_time": "2022-10-15T20:16:30.957Z"
   },
   {
    "duration": 27,
    "start_time": "2022-10-15T20:16:30.995Z"
   },
   {
    "duration": 673,
    "start_time": "2022-10-15T20:16:31.024Z"
   },
   {
    "duration": 350,
    "start_time": "2022-10-15T20:16:31.698Z"
   },
   {
    "duration": 696,
    "start_time": "2022-10-15T20:16:32.050Z"
   },
   {
    "duration": 2538,
    "start_time": "2022-10-15T20:16:32.747Z"
   },
   {
    "duration": 2218,
    "start_time": "2022-10-15T20:16:35.287Z"
   },
   {
    "duration": 2239,
    "start_time": "2022-10-15T20:16:43.354Z"
   },
   {
    "duration": 5,
    "start_time": "2022-10-15T20:16:50.863Z"
   },
   {
    "duration": 736,
    "start_time": "2022-10-15T20:16:52.947Z"
   },
   {
    "duration": 747,
    "start_time": "2022-10-15T20:18:09.253Z"
   },
   {
    "duration": 808,
    "start_time": "2022-10-15T20:18:19.079Z"
   },
   {
    "duration": 809,
    "start_time": "2022-10-15T20:22:31.479Z"
   },
   {
    "duration": 2200,
    "start_time": "2022-10-15T20:23:13.349Z"
   },
   {
    "duration": 1745,
    "start_time": "2022-10-15T20:23:15.551Z"
   },
   {
    "duration": 50,
    "start_time": "2022-10-15T20:23:17.297Z"
   },
   {
    "duration": 10,
    "start_time": "2022-10-15T20:23:17.349Z"
   },
   {
    "duration": 10,
    "start_time": "2022-10-15T20:23:17.360Z"
   },
   {
    "duration": 6,
    "start_time": "2022-10-15T20:23:17.371Z"
   },
   {
    "duration": 9,
    "start_time": "2022-10-15T20:23:17.379Z"
   },
   {
    "duration": 21,
    "start_time": "2022-10-15T20:23:17.389Z"
   },
   {
    "duration": 26,
    "start_time": "2022-10-15T20:23:17.412Z"
   },
   {
    "duration": 687,
    "start_time": "2022-10-15T20:23:17.441Z"
   },
   {
    "duration": 416,
    "start_time": "2022-10-15T20:23:18.129Z"
   },
   {
    "duration": 650,
    "start_time": "2022-10-15T20:23:18.546Z"
   },
   {
    "duration": 1605,
    "start_time": "2022-10-15T20:23:19.208Z"
   },
   {
    "duration": 1496,
    "start_time": "2022-10-15T20:23:20.814Z"
   },
   {
    "duration": 99,
    "start_time": "2022-10-15T20:23:22.317Z"
   },
   {
    "duration": 231,
    "start_time": "2022-10-15T20:23:22.418Z"
   },
   {
    "duration": 10,
    "start_time": "2022-10-15T20:23:22.651Z"
   },
   {
    "duration": 6,
    "start_time": "2022-10-15T20:23:22.662Z"
   },
   {
    "duration": 8,
    "start_time": "2022-10-15T20:23:22.670Z"
   },
   {
    "duration": 12,
    "start_time": "2022-10-15T20:23:22.680Z"
   },
   {
    "duration": 696,
    "start_time": "2022-10-15T20:23:22.693Z"
   },
   {
    "duration": 347,
    "start_time": "2022-10-15T20:23:23.391Z"
   },
   {
    "duration": 577,
    "start_time": "2022-10-15T20:23:23.739Z"
   },
   {
    "duration": 863,
    "start_time": "2022-10-15T20:23:56.227Z"
   },
   {
    "duration": 765,
    "start_time": "2022-10-15T20:24:08.644Z"
   },
   {
    "duration": 798,
    "start_time": "2022-10-15T20:24:16.511Z"
   },
   {
    "duration": 914,
    "start_time": "2022-10-15T20:24:36.043Z"
   },
   {
    "duration": 1193,
    "start_time": "2022-10-15T20:26:11.220Z"
   },
   {
    "duration": 1034,
    "start_time": "2022-10-15T20:27:17.386Z"
   },
   {
    "duration": 2270,
    "start_time": "2022-10-15T20:28:13.356Z"
   },
   {
    "duration": 1781,
    "start_time": "2022-10-15T20:28:15.629Z"
   },
   {
    "duration": 45,
    "start_time": "2022-10-15T20:28:17.411Z"
   },
   {
    "duration": 9,
    "start_time": "2022-10-15T20:28:17.459Z"
   },
   {
    "duration": 20,
    "start_time": "2022-10-15T20:28:17.470Z"
   },
   {
    "duration": 13,
    "start_time": "2022-10-15T20:28:17.491Z"
   },
   {
    "duration": 21,
    "start_time": "2022-10-15T20:28:17.505Z"
   },
   {
    "duration": 17,
    "start_time": "2022-10-15T20:28:17.527Z"
   },
   {
    "duration": 17,
    "start_time": "2022-10-15T20:28:17.546Z"
   },
   {
    "duration": 694,
    "start_time": "2022-10-15T20:28:17.565Z"
   },
   {
    "duration": 393,
    "start_time": "2022-10-15T20:28:18.260Z"
   },
   {
    "duration": 611,
    "start_time": "2022-10-15T20:28:18.655Z"
   },
   {
    "duration": 1642,
    "start_time": "2022-10-15T20:28:19.268Z"
   },
   {
    "duration": 1594,
    "start_time": "2022-10-15T20:28:20.915Z"
   },
   {
    "duration": 99,
    "start_time": "2022-10-15T20:28:22.511Z"
   },
   {
    "duration": 237,
    "start_time": "2022-10-15T20:28:22.612Z"
   },
   {
    "duration": 7,
    "start_time": "2022-10-15T20:28:22.851Z"
   },
   {
    "duration": 6,
    "start_time": "2022-10-15T20:28:22.859Z"
   },
   {
    "duration": 7,
    "start_time": "2022-10-15T20:28:22.867Z"
   },
   {
    "duration": 12,
    "start_time": "2022-10-15T20:28:22.876Z"
   },
   {
    "duration": 704,
    "start_time": "2022-10-15T20:28:22.890Z"
   },
   {
    "duration": 362,
    "start_time": "2022-10-15T20:28:23.595Z"
   },
   {
    "duration": 517,
    "start_time": "2022-10-15T20:28:23.958Z"
   },
   {
    "duration": 924,
    "start_time": "2022-10-15T20:28:24.477Z"
   },
   {
    "duration": 3,
    "start_time": "2022-10-15T20:28:33.833Z"
   },
   {
    "duration": 263,
    "start_time": "2022-10-15T20:28:34.490Z"
   },
   {
    "duration": 20,
    "start_time": "2022-10-15T20:28:37.305Z"
   },
   {
    "duration": 7,
    "start_time": "2022-10-15T20:28:37.900Z"
   },
   {
    "duration": 13,
    "start_time": "2022-10-15T20:28:38.149Z"
   },
   {
    "duration": 5,
    "start_time": "2022-10-15T20:28:39.037Z"
   },
   {
    "duration": 6,
    "start_time": "2022-10-15T20:28:39.619Z"
   },
   {
    "duration": 3,
    "start_time": "2022-10-15T20:28:39.903Z"
   },
   {
    "duration": 8,
    "start_time": "2022-10-15T20:28:40.732Z"
   },
   {
    "duration": 4,
    "start_time": "2022-10-15T20:28:41.227Z"
   },
   {
    "duration": 2016,
    "start_time": "2022-10-15T20:28:42.899Z"
   },
   {
    "duration": 4,
    "start_time": "2022-10-15T20:28:44.917Z"
   },
   {
    "duration": 3,
    "start_time": "2022-10-15T20:28:45.917Z"
   },
   {
    "duration": 161,
    "start_time": "2022-10-15T20:29:22.982Z"
   },
   {
    "duration": 2,
    "start_time": "2022-10-15T20:29:45.765Z"
   },
   {
    "duration": 5,
    "start_time": "2022-10-15T20:29:46.736Z"
   },
   {
    "duration": 2240,
    "start_time": "2022-10-15T20:33:46.009Z"
   },
   {
    "duration": 1722,
    "start_time": "2022-10-15T20:33:48.251Z"
   },
   {
    "duration": 43,
    "start_time": "2022-10-15T20:33:49.975Z"
   },
   {
    "duration": 10,
    "start_time": "2022-10-15T20:33:50.020Z"
   },
   {
    "duration": 9,
    "start_time": "2022-10-15T20:33:50.033Z"
   },
   {
    "duration": 7,
    "start_time": "2022-10-15T20:33:50.043Z"
   },
   {
    "duration": 11,
    "start_time": "2022-10-15T20:33:50.051Z"
   },
   {
    "duration": 6,
    "start_time": "2022-10-15T20:33:50.063Z"
   },
   {
    "duration": 5,
    "start_time": "2022-10-15T20:33:50.071Z"
   },
   {
    "duration": 720,
    "start_time": "2022-10-15T20:33:50.077Z"
   },
   {
    "duration": 441,
    "start_time": "2022-10-15T20:33:50.798Z"
   },
   {
    "duration": 516,
    "start_time": "2022-10-15T20:33:51.240Z"
   },
   {
    "duration": 1860,
    "start_time": "2022-10-15T20:33:51.757Z"
   },
   {
    "duration": 1594,
    "start_time": "2022-10-15T20:33:53.619Z"
   },
   {
    "duration": 98,
    "start_time": "2022-10-15T20:33:55.217Z"
   },
   {
    "duration": 188,
    "start_time": "2022-10-15T20:33:57.903Z"
   },
   {
    "duration": 7,
    "start_time": "2022-10-15T20:34:00.384Z"
   },
   {
    "duration": 7,
    "start_time": "2022-10-15T20:34:04.686Z"
   },
   {
    "duration": 202,
    "start_time": "2022-10-15T20:34:10.871Z"
   },
   {
    "duration": 10,
    "start_time": "2022-10-15T20:34:13.807Z"
   },
   {
    "duration": 2,
    "start_time": "2022-10-15T20:34:14.926Z"
   },
   {
    "duration": 3,
    "start_time": "2022-10-15T20:34:15.432Z"
   },
   {
    "duration": 7,
    "start_time": "2022-10-15T20:34:16.576Z"
   },
   {
    "duration": 662,
    "start_time": "2022-10-15T20:34:23.083Z"
   },
   {
    "duration": 334,
    "start_time": "2022-10-15T20:34:28.320Z"
   },
   {
    "duration": 788,
    "start_time": "2022-10-15T20:34:32.512Z"
   },
   {
    "duration": 3,
    "start_time": "2022-10-15T20:34:54.296Z"
   },
   {
    "duration": 269,
    "start_time": "2022-10-15T20:34:54.878Z"
   },
   {
    "duration": 20,
    "start_time": "2022-10-15T20:34:59.124Z"
   },
   {
    "duration": 7,
    "start_time": "2022-10-15T20:35:01.136Z"
   },
   {
    "duration": 14,
    "start_time": "2022-10-15T20:35:01.500Z"
   },
   {
    "duration": 5,
    "start_time": "2022-10-15T20:35:02.634Z"
   },
   {
    "duration": 6,
    "start_time": "2022-10-15T20:35:03.037Z"
   },
   {
    "duration": 4,
    "start_time": "2022-10-15T20:35:04.921Z"
   },
   {
    "duration": 11,
    "start_time": "2022-10-15T20:35:05.981Z"
   },
   {
    "duration": 4,
    "start_time": "2022-10-15T20:35:06.598Z"
   },
   {
    "duration": 1998,
    "start_time": "2022-10-15T20:35:08.962Z"
   },
   {
    "duration": 4,
    "start_time": "2022-10-15T20:35:10.962Z"
   },
   {
    "duration": 2,
    "start_time": "2022-10-15T20:35:16.502Z"
   },
   {
    "duration": 7,
    "start_time": "2022-10-15T20:35:17.404Z"
   },
   {
    "duration": 175,
    "start_time": "2022-10-15T20:39:06.067Z"
   },
   {
    "duration": 839,
    "start_time": "2022-10-15T20:39:14.873Z"
   },
   {
    "duration": 920,
    "start_time": "2022-10-15T20:39:21.401Z"
   },
   {
    "duration": 3604,
    "start_time": "2022-10-15T20:39:41.596Z"
   },
   {
    "duration": 16408,
    "start_time": "2022-10-16T10:17:34.884Z"
   },
   {
    "duration": 2451,
    "start_time": "2022-10-16T10:17:51.295Z"
   },
   {
    "duration": 154,
    "start_time": "2022-10-16T10:17:53.748Z"
   },
   {
    "duration": 9,
    "start_time": "2022-10-16T10:17:53.904Z"
   },
   {
    "duration": 8,
    "start_time": "2022-10-16T10:17:53.915Z"
   },
   {
    "duration": 5,
    "start_time": "2022-10-16T10:17:53.925Z"
   },
   {
    "duration": 8,
    "start_time": "2022-10-16T10:17:53.931Z"
   },
   {
    "duration": 5,
    "start_time": "2022-10-16T10:17:53.940Z"
   },
   {
    "duration": 6,
    "start_time": "2022-10-16T10:17:53.947Z"
   },
   {
    "duration": 750,
    "start_time": "2022-10-16T10:17:53.955Z"
   },
   {
    "duration": 439,
    "start_time": "2022-10-16T10:17:54.706Z"
   },
   {
    "duration": 537,
    "start_time": "2022-10-16T10:17:55.147Z"
   },
   {
    "duration": 1410,
    "start_time": "2022-10-16T10:17:55.686Z"
   },
   {
    "duration": 1602,
    "start_time": "2022-10-16T10:17:57.101Z"
   },
   {
    "duration": 10,
    "start_time": "2022-10-16T10:17:58.796Z"
   },
   {
    "duration": 291,
    "start_time": "2022-10-16T10:17:58.807Z"
   },
   {
    "duration": 8,
    "start_time": "2022-10-16T10:17:59.100Z"
   },
   {
    "duration": 6,
    "start_time": "2022-10-16T10:17:59.110Z"
   },
   {
    "duration": 5,
    "start_time": "2022-10-16T10:17:59.118Z"
   },
   {
    "duration": 10,
    "start_time": "2022-10-16T10:17:59.125Z"
   },
   {
    "duration": 646,
    "start_time": "2022-10-16T10:17:59.136Z"
   },
   {
    "duration": 349,
    "start_time": "2022-10-16T10:17:59.784Z"
   },
   {
    "duration": 545,
    "start_time": "2022-10-16T10:18:00.136Z"
   },
   {
    "duration": 925,
    "start_time": "2022-10-16T10:18:00.683Z"
   },
   {
    "duration": 2,
    "start_time": "2022-10-16T10:18:01.611Z"
   },
   {
    "duration": 7,
    "start_time": "2022-10-16T10:18:01.614Z"
   },
   {
    "duration": 12,
    "start_time": "2022-10-16T10:18:01.622Z"
   },
   {
    "duration": 264,
    "start_time": "2022-10-16T10:18:01.638Z"
   },
   {
    "duration": 23,
    "start_time": "2022-10-16T10:18:01.904Z"
   },
   {
    "duration": 6,
    "start_time": "2022-10-16T10:18:01.929Z"
   },
   {
    "duration": 14,
    "start_time": "2022-10-16T10:18:01.936Z"
   },
   {
    "duration": 6,
    "start_time": "2022-10-16T10:18:01.952Z"
   },
   {
    "duration": 12,
    "start_time": "2022-10-16T10:18:01.960Z"
   },
   {
    "duration": 21,
    "start_time": "2022-10-16T10:18:01.974Z"
   },
   {
    "duration": 11,
    "start_time": "2022-10-16T10:18:01.997Z"
   },
   {
    "duration": 95,
    "start_time": "2022-10-16T10:18:02.009Z"
   },
   {
    "duration": 1639,
    "start_time": "2022-10-16T10:18:02.195Z"
   },
   {
    "duration": 4,
    "start_time": "2022-10-16T10:18:03.836Z"
   },
   {
    "duration": 10,
    "start_time": "2022-10-16T10:18:03.841Z"
   },
   {
    "duration": 203664,
    "start_time": "2022-10-16T10:18:03.852Z"
   },
   {
    "duration": 4,
    "start_time": "2022-10-16T10:21:27.518Z"
   },
   {
    "duration": 6,
    "start_time": "2022-10-16T10:21:27.524Z"
   },
   {
    "duration": 1480,
    "start_time": "2022-10-16T10:21:27.532Z"
   },
   {
    "duration": 32,
    "start_time": "2022-10-16T10:21:29.014Z"
   },
   {
    "duration": 7,
    "start_time": "2022-10-16T10:21:29.048Z"
   },
   {
    "duration": 6,
    "start_time": "2022-10-16T10:21:29.057Z"
   },
   {
    "duration": 34,
    "start_time": "2022-10-16T10:21:29.065Z"
   },
   {
    "duration": 263,
    "start_time": "2022-10-16T10:21:29.101Z"
   },
   {
    "duration": 329,
    "start_time": "2022-10-16T10:21:29.366Z"
   },
   {
    "duration": 786,
    "start_time": "2022-10-16T10:21:29.696Z"
   },
   {
    "duration": 4,
    "start_time": "2022-10-16T10:21:30.483Z"
   },
   {
    "duration": 203926,
    "start_time": "2022-10-16T10:21:30.489Z"
   },
   {
    "duration": 4,
    "start_time": "2022-10-16T10:24:54.417Z"
   },
   {
    "duration": 974,
    "start_time": "2022-10-16T10:24:54.422Z"
   },
   {
    "duration": 6,
    "start_time": "2022-10-16T10:24:55.398Z"
   },
   {
    "duration": 9,
    "start_time": "2022-10-16T10:24:55.406Z"
   },
   {
    "duration": 21,
    "start_time": "2022-10-16T10:24:55.417Z"
   },
   {
    "duration": 3,
    "start_time": "2022-10-16T10:25:53.114Z"
   },
   {
    "duration": 32,
    "start_time": "2022-10-16T10:25:53.658Z"
   },
   {
    "duration": 189,
    "start_time": "2022-10-16T10:28:45.064Z"
   },
   {
    "duration": 196,
    "start_time": "2022-10-16T10:29:07.290Z"
   },
   {
    "duration": 695,
    "start_time": "2022-10-16T12:20:35.040Z"
   },
   {
    "duration": 2083,
    "start_time": "2022-10-16T12:20:46.295Z"
   },
   {
    "duration": 1805,
    "start_time": "2022-10-16T12:20:48.380Z"
   },
   {
    "duration": 54,
    "start_time": "2022-10-16T12:20:50.186Z"
   },
   {
    "duration": 11,
    "start_time": "2022-10-16T12:20:50.242Z"
   },
   {
    "duration": 9,
    "start_time": "2022-10-16T12:20:50.255Z"
   },
   {
    "duration": 8,
    "start_time": "2022-10-16T12:20:50.265Z"
   },
   {
    "duration": 7,
    "start_time": "2022-10-16T12:20:50.274Z"
   },
   {
    "duration": 3,
    "start_time": "2022-10-16T12:20:50.296Z"
   },
   {
    "duration": 7,
    "start_time": "2022-10-16T12:20:50.301Z"
   },
   {
    "duration": 677,
    "start_time": "2022-10-16T12:20:50.310Z"
   },
   {
    "duration": 436,
    "start_time": "2022-10-16T12:20:50.988Z"
   },
   {
    "duration": 522,
    "start_time": "2022-10-16T12:20:51.425Z"
   },
   {
    "duration": 1356,
    "start_time": "2022-10-16T12:20:51.949Z"
   },
   {
    "duration": 1600,
    "start_time": "2022-10-16T12:20:53.396Z"
   },
   {
    "duration": 99,
    "start_time": "2022-10-16T12:20:54.998Z"
   },
   {
    "duration": 203,
    "start_time": "2022-10-16T12:20:55.099Z"
   },
   {
    "duration": 8,
    "start_time": "2022-10-16T12:20:55.304Z"
   },
   {
    "duration": 9,
    "start_time": "2022-10-16T12:20:55.313Z"
   },
   {
    "duration": 5,
    "start_time": "2022-10-16T12:20:55.324Z"
   },
   {
    "duration": 10,
    "start_time": "2022-10-16T12:20:55.331Z"
   },
   {
    "duration": 649,
    "start_time": "2022-10-16T12:20:55.342Z"
   },
   {
    "duration": 343,
    "start_time": "2022-10-16T12:20:55.993Z"
   },
   {
    "duration": 555,
    "start_time": "2022-10-16T12:20:56.337Z"
   },
   {
    "duration": 903,
    "start_time": "2022-10-16T12:20:56.893Z"
   },
   {
    "duration": 2,
    "start_time": "2022-10-16T12:20:57.799Z"
   },
   {
    "duration": 7,
    "start_time": "2022-10-16T12:20:57.803Z"
   },
   {
    "duration": 10,
    "start_time": "2022-10-16T12:20:57.812Z"
   },
   {
    "duration": 278,
    "start_time": "2022-10-16T12:20:57.825Z"
   },
   {
    "duration": 22,
    "start_time": "2022-10-16T12:20:58.105Z"
   },
   {
    "duration": 7,
    "start_time": "2022-10-16T12:20:58.128Z"
   },
   {
    "duration": 14,
    "start_time": "2022-10-16T12:20:58.136Z"
   },
   {
    "duration": 6,
    "start_time": "2022-10-16T12:20:58.151Z"
   },
   {
    "duration": 15,
    "start_time": "2022-10-16T12:20:58.159Z"
   },
   {
    "duration": 4,
    "start_time": "2022-10-16T12:20:58.196Z"
   },
   {
    "duration": 12,
    "start_time": "2022-10-16T12:20:58.202Z"
   },
   {
    "duration": 10,
    "start_time": "2022-10-16T12:20:58.215Z"
   },
   {
    "duration": 1781,
    "start_time": "2022-10-16T12:20:58.227Z"
   },
   {
    "duration": 4,
    "start_time": "2022-10-16T12:21:00.010Z"
   },
   {
    "duration": 9,
    "start_time": "2022-10-16T12:21:00.016Z"
   },
   {
    "duration": 210359,
    "start_time": "2022-10-16T12:21:00.026Z"
   },
   {
    "duration": 9,
    "start_time": "2022-10-16T12:24:30.387Z"
   },
   {
    "duration": 20,
    "start_time": "2022-10-16T12:24:30.398Z"
   },
   {
    "duration": 1300,
    "start_time": "2022-10-16T12:24:30.420Z"
   },
   {
    "duration": 38,
    "start_time": "2022-10-16T12:24:31.721Z"
   },
   {
    "duration": 793,
    "start_time": "2022-10-16T12:24:31.761Z"
   },
   {
    "duration": 4,
    "start_time": "2022-10-16T12:24:32.556Z"
   },
   {
    "duration": 687902,
    "start_time": "2022-10-16T12:24:32.562Z"
   },
   {
    "duration": 4,
    "start_time": "2022-10-16T12:36:00.466Z"
   },
   {
    "duration": 1381,
    "start_time": "2022-10-16T12:36:00.472Z"
   },
   {
    "duration": 5,
    "start_time": "2022-10-16T12:36:01.855Z"
   },
   {
    "duration": 9,
    "start_time": "2022-10-16T12:36:01.861Z"
   },
   {
    "duration": 43,
    "start_time": "2022-10-16T12:36:01.872Z"
   },
   {
    "duration": 197,
    "start_time": "2022-10-16T12:36:01.917Z"
   },
   {
    "duration": 119,
    "start_time": "2022-10-16T14:34:05.705Z"
   },
   {
    "duration": 7,
    "start_time": "2022-10-16T14:35:29.854Z"
   },
   {
    "duration": 7319,
    "start_time": "2022-10-16T14:35:35.509Z"
   },
   {
    "duration": 9,
    "start_time": "2022-10-16T14:36:31.584Z"
   },
   {
    "duration": 541128,
    "start_time": "2022-10-16T14:36:34.189Z"
   },
   {
    "duration": 8,
    "start_time": "2022-10-16T14:45:47.712Z"
   },
   {
    "duration": 1570680,
    "start_time": "2022-10-16T14:45:48.863Z"
   },
   {
    "duration": 12,
    "start_time": "2022-10-16T15:14:11.832Z"
   },
   {
    "duration": 358,
    "start_time": "2022-10-16T15:14:28.819Z"
   },
   {
    "duration": 2153,
    "start_time": "2022-10-16T15:16:42.828Z"
   },
   {
    "duration": 1896,
    "start_time": "2022-10-16T15:16:44.983Z"
   },
   {
    "duration": 59,
    "start_time": "2022-10-16T15:16:46.880Z"
   },
   {
    "duration": 11,
    "start_time": "2022-10-16T15:16:46.940Z"
   },
   {
    "duration": 8,
    "start_time": "2022-10-16T15:16:46.953Z"
   },
   {
    "duration": 7,
    "start_time": "2022-10-16T15:16:46.963Z"
   },
   {
    "duration": 7,
    "start_time": "2022-10-16T15:16:46.972Z"
   },
   {
    "duration": 5,
    "start_time": "2022-10-16T15:16:46.980Z"
   },
   {
    "duration": 7,
    "start_time": "2022-10-16T15:16:46.995Z"
   },
   {
    "duration": 719,
    "start_time": "2022-10-16T15:16:47.004Z"
   },
   {
    "duration": 450,
    "start_time": "2022-10-16T15:16:47.725Z"
   },
   {
    "duration": 1485,
    "start_time": "2022-10-16T15:16:48.176Z"
   },
   {
    "duration": 2839,
    "start_time": "2022-10-16T15:16:49.663Z"
   },
   {
    "duration": 3301,
    "start_time": "2022-10-16T15:16:52.508Z"
   },
   {
    "duration": 97,
    "start_time": "2022-10-16T15:16:55.811Z"
   },
   {
    "duration": 271,
    "start_time": "2022-10-16T15:16:55.910Z"
   },
   {
    "duration": 24,
    "start_time": "2022-10-16T15:16:56.183Z"
   },
   {
    "duration": 4,
    "start_time": "2022-10-16T15:16:56.209Z"
   },
   {
    "duration": 5,
    "start_time": "2022-10-16T15:16:56.214Z"
   },
   {
    "duration": 12,
    "start_time": "2022-10-16T15:16:56.221Z"
   },
   {
    "duration": 734,
    "start_time": "2022-10-16T15:16:56.234Z"
   },
   {
    "duration": 375,
    "start_time": "2022-10-16T15:16:56.971Z"
   },
   {
    "duration": 1404,
    "start_time": "2022-10-16T15:16:57.348Z"
   },
   {
    "duration": 1687,
    "start_time": "2022-10-16T15:16:58.754Z"
   },
   {
    "duration": 2,
    "start_time": "2022-10-16T15:17:00.442Z"
   },
   {
    "duration": 33,
    "start_time": "2022-10-16T15:17:00.446Z"
   },
   {
    "duration": 12,
    "start_time": "2022-10-16T15:17:00.481Z"
   },
   {
    "duration": 312,
    "start_time": "2022-10-16T15:17:00.495Z"
   },
   {
    "duration": 26,
    "start_time": "2022-10-16T15:17:00.808Z"
   },
   {
    "duration": 8,
    "start_time": "2022-10-16T15:17:00.836Z"
   },
   {
    "duration": 20,
    "start_time": "2022-10-16T15:17:00.845Z"
   },
   {
    "duration": 37,
    "start_time": "2022-10-16T15:17:00.867Z"
   },
   {
    "duration": 14,
    "start_time": "2022-10-16T15:17:00.906Z"
   },
   {
    "duration": 23,
    "start_time": "2022-10-16T15:17:00.921Z"
   },
   {
    "duration": 16,
    "start_time": "2022-10-16T15:17:00.946Z"
   },
   {
    "duration": 43,
    "start_time": "2022-10-16T15:17:00.964Z"
   },
   {
    "duration": 1861,
    "start_time": "2022-10-16T15:17:01.008Z"
   },
   {
    "duration": 4,
    "start_time": "2022-10-16T15:17:02.871Z"
   },
   {
    "duration": 8,
    "start_time": "2022-10-16T15:17:02.877Z"
   },
   {
    "duration": 262230,
    "start_time": "2022-10-16T15:17:02.895Z"
   },
   {
    "duration": 5,
    "start_time": "2022-10-16T15:21:25.128Z"
   },
   {
    "duration": 6,
    "start_time": "2022-10-16T15:21:25.134Z"
   },
   {
    "duration": 1450,
    "start_time": "2022-10-16T15:21:25.141Z"
   },
   {
    "duration": 53,
    "start_time": "2022-10-16T15:21:26.595Z"
   },
   {
    "duration": 810,
    "start_time": "2022-10-16T15:21:26.651Z"
   },
   {
    "duration": 4,
    "start_time": "2022-10-16T15:21:27.463Z"
   },
   {
    "duration": 153541,
    "start_time": "2022-10-16T15:21:27.468Z"
   },
   {
    "duration": 6,
    "start_time": "2022-10-16T15:24:01.011Z"
   },
   {
    "duration": 669,
    "start_time": "2022-10-16T15:24:01.019Z"
   },
   {
    "duration": 10,
    "start_time": "2022-10-16T15:24:01.689Z"
   },
   {
    "duration": 11,
    "start_time": "2022-10-16T15:24:01.706Z"
   },
   {
    "duration": 40,
    "start_time": "2022-10-16T15:24:01.719Z"
   },
   {
    "duration": 199,
    "start_time": "2022-10-16T15:24:01.760Z"
   },
   {
    "duration": 9,
    "start_time": "2022-10-16T15:32:08.314Z"
   },
   {
    "duration": 750,
    "start_time": "2022-10-16T15:32:09.895Z"
   },
   {
    "duration": 2126,
    "start_time": "2022-10-16T15:32:19.605Z"
   },
   {
    "duration": 1821,
    "start_time": "2022-10-16T15:32:21.734Z"
   },
   {
    "duration": 56,
    "start_time": "2022-10-16T15:32:23.557Z"
   },
   {
    "duration": 10,
    "start_time": "2022-10-16T15:32:23.615Z"
   },
   {
    "duration": 8,
    "start_time": "2022-10-16T15:32:23.627Z"
   },
   {
    "duration": 10,
    "start_time": "2022-10-16T15:32:23.637Z"
   },
   {
    "duration": 9,
    "start_time": "2022-10-16T15:32:23.649Z"
   },
   {
    "duration": 8,
    "start_time": "2022-10-16T15:32:23.661Z"
   },
   {
    "duration": 5,
    "start_time": "2022-10-16T15:32:23.695Z"
   },
   {
    "duration": 696,
    "start_time": "2022-10-16T15:32:23.704Z"
   },
   {
    "duration": 490,
    "start_time": "2022-10-16T15:32:24.401Z"
   },
   {
    "duration": 1399,
    "start_time": "2022-10-16T15:32:24.896Z"
   },
   {
    "duration": 1400,
    "start_time": "2022-10-16T15:32:26.296Z"
   },
   {
    "duration": 1498,
    "start_time": "2022-10-16T15:32:27.698Z"
   },
   {
    "duration": 99,
    "start_time": "2022-10-16T15:32:29.198Z"
   },
   {
    "duration": 232,
    "start_time": "2022-10-16T15:32:29.298Z"
   },
   {
    "duration": 8,
    "start_time": "2022-10-16T15:32:29.531Z"
   },
   {
    "duration": 6,
    "start_time": "2022-10-16T15:32:29.541Z"
   },
   {
    "duration": 6,
    "start_time": "2022-10-16T15:32:29.549Z"
   },
   {
    "duration": 9,
    "start_time": "2022-10-16T15:32:29.557Z"
   },
   {
    "duration": 736,
    "start_time": "2022-10-16T15:32:29.567Z"
   },
   {
    "duration": 361,
    "start_time": "2022-10-16T15:32:30.305Z"
   },
   {
    "duration": 945,
    "start_time": "2022-10-16T15:32:30.667Z"
   },
   {
    "duration": 1004,
    "start_time": "2022-10-16T15:32:31.613Z"
   },
   {
    "duration": 3,
    "start_time": "2022-10-16T15:32:32.619Z"
   },
   {
    "duration": 8,
    "start_time": "2022-10-16T15:32:32.625Z"
   },
   {
    "duration": 5,
    "start_time": "2022-10-16T15:32:32.634Z"
   },
   {
    "duration": 11,
    "start_time": "2022-10-16T15:32:32.642Z"
   },
   {
    "duration": 332,
    "start_time": "2022-10-16T15:32:32.655Z"
   },
   {
    "duration": 264,
    "start_time": "2022-10-16T15:35:25.839Z"
   },
   {
    "duration": 212,
    "start_time": "2022-10-16T15:36:29.214Z"
   },
   {
    "duration": 277,
    "start_time": "2022-10-16T15:36:48.933Z"
   },
   {
    "duration": 295,
    "start_time": "2022-10-16T15:37:05.502Z"
   },
   {
    "duration": 401,
    "start_time": "2022-10-16T15:37:38.417Z"
   },
   {
    "duration": 205,
    "start_time": "2022-10-16T15:37:38.820Z"
   },
   {
    "duration": 244,
    "start_time": "2022-10-16T15:38:08.872Z"
   },
   {
    "duration": 318,
    "start_time": "2022-10-16T15:38:26.767Z"
   },
   {
    "duration": 266,
    "start_time": "2022-10-16T15:39:32.963Z"
   },
   {
    "duration": 268,
    "start_time": "2022-10-16T15:40:34.913Z"
   },
   {
    "duration": 365,
    "start_time": "2022-10-16T15:41:06.288Z"
   },
   {
    "duration": 262,
    "start_time": "2022-10-16T15:41:14.909Z"
   },
   {
    "duration": 264,
    "start_time": "2022-10-16T15:41:40.020Z"
   },
   {
    "duration": 6,
    "start_time": "2022-10-16T15:48:40.716Z"
   },
   {
    "duration": 230,
    "start_time": "2022-10-16T15:49:03.401Z"
   },
   {
    "duration": 218,
    "start_time": "2022-10-16T15:49:23.609Z"
   },
   {
    "duration": 2332,
    "start_time": "2022-10-16T15:49:45.900Z"
   },
   {
    "duration": 1784,
    "start_time": "2022-10-16T15:49:48.234Z"
   },
   {
    "duration": 55,
    "start_time": "2022-10-16T15:49:50.019Z"
   },
   {
    "duration": 9,
    "start_time": "2022-10-16T15:49:50.076Z"
   },
   {
    "duration": 9,
    "start_time": "2022-10-16T15:49:50.087Z"
   },
   {
    "duration": 10,
    "start_time": "2022-10-16T15:49:50.097Z"
   },
   {
    "duration": 11,
    "start_time": "2022-10-16T15:49:50.110Z"
   },
   {
    "duration": 9,
    "start_time": "2022-10-16T15:49:50.122Z"
   },
   {
    "duration": 5,
    "start_time": "2022-10-16T15:49:50.132Z"
   },
   {
    "duration": 692,
    "start_time": "2022-10-16T15:49:50.140Z"
   },
   {
    "duration": 443,
    "start_time": "2022-10-16T15:49:50.834Z"
   },
   {
    "duration": 779,
    "start_time": "2022-10-16T15:49:51.279Z"
   },
   {
    "duration": 3052,
    "start_time": "2022-10-16T15:49:52.060Z"
   },
   {
    "duration": 3097,
    "start_time": "2022-10-16T15:49:55.202Z"
   },
   {
    "duration": 98,
    "start_time": "2022-10-16T15:49:58.300Z"
   },
   {
    "duration": 210,
    "start_time": "2022-10-16T15:49:58.400Z"
   },
   {
    "duration": 8,
    "start_time": "2022-10-16T15:49:58.611Z"
   },
   {
    "duration": 147,
    "start_time": "2022-10-16T15:49:58.620Z"
   },
   {
    "duration": 0,
    "start_time": "2022-10-16T15:49:58.769Z"
   },
   {
    "duration": 0,
    "start_time": "2022-10-16T15:49:58.770Z"
   },
   {
    "duration": 0,
    "start_time": "2022-10-16T15:49:58.771Z"
   },
   {
    "duration": 0,
    "start_time": "2022-10-16T15:49:58.772Z"
   },
   {
    "duration": 0,
    "start_time": "2022-10-16T15:49:58.773Z"
   },
   {
    "duration": 0,
    "start_time": "2022-10-16T15:49:58.774Z"
   },
   {
    "duration": 0,
    "start_time": "2022-10-16T15:49:58.775Z"
   },
   {
    "duration": 0,
    "start_time": "2022-10-16T15:49:58.776Z"
   },
   {
    "duration": 0,
    "start_time": "2022-10-16T15:49:58.777Z"
   },
   {
    "duration": 0,
    "start_time": "2022-10-16T15:49:58.778Z"
   },
   {
    "duration": 18,
    "start_time": "2022-10-16T15:50:16.491Z"
   },
   {
    "duration": 3,
    "start_time": "2022-10-16T15:50:18.164Z"
   },
   {
    "duration": 8,
    "start_time": "2022-10-16T15:50:18.545Z"
   },
   {
    "duration": 744,
    "start_time": "2022-10-16T15:50:19.666Z"
   },
   {
    "duration": 1208,
    "start_time": "2022-10-16T15:50:23.506Z"
   },
   {
    "duration": 2,
    "start_time": "2022-10-16T15:50:24.716Z"
   },
   {
    "duration": 2,
    "start_time": "2022-10-16T15:50:24.946Z"
   },
   {
    "duration": 5,
    "start_time": "2022-10-16T15:50:26.797Z"
   },
   {
    "duration": 12,
    "start_time": "2022-10-16T15:50:28.189Z"
   },
   {
    "duration": 5,
    "start_time": "2022-10-16T15:50:29.046Z"
   },
   {
    "duration": 382,
    "start_time": "2022-10-16T15:50:30.006Z"
   },
   {
    "duration": 1340,
    "start_time": "2022-10-16T15:51:08.139Z"
   },
   {
    "duration": 0,
    "start_time": "2022-10-16T15:51:09.481Z"
   },
   {
    "duration": 5,
    "start_time": "2022-10-16T15:51:23.158Z"
   },
   {
    "duration": 229,
    "start_time": "2022-10-16T15:51:25.680Z"
   },
   {
    "duration": 271,
    "start_time": "2022-10-16T15:52:01.713Z"
   },
   {
    "duration": 107,
    "start_time": "2022-10-16T15:52:20.644Z"
   },
   {
    "duration": 2142,
    "start_time": "2022-10-16T15:58:13.905Z"
   },
   {
    "duration": 1815,
    "start_time": "2022-10-16T15:58:16.050Z"
   },
   {
    "duration": 58,
    "start_time": "2022-10-16T15:58:17.867Z"
   },
   {
    "duration": 10,
    "start_time": "2022-10-16T15:58:17.926Z"
   },
   {
    "duration": 10,
    "start_time": "2022-10-16T15:58:17.937Z"
   },
   {
    "duration": 6,
    "start_time": "2022-10-16T15:58:17.948Z"
   },
   {
    "duration": 7,
    "start_time": "2022-10-16T15:58:17.956Z"
   },
   {
    "duration": 8,
    "start_time": "2022-10-16T15:58:17.964Z"
   },
   {
    "duration": 34,
    "start_time": "2022-10-16T15:58:17.974Z"
   },
   {
    "duration": 704,
    "start_time": "2022-10-16T15:58:18.010Z"
   },
   {
    "duration": 448,
    "start_time": "2022-10-16T15:58:18.716Z"
   },
   {
    "duration": 1313,
    "start_time": "2022-10-16T15:58:19.166Z"
   },
   {
    "duration": 2622,
    "start_time": "2022-10-16T15:58:20.480Z"
   },
   {
    "duration": 3016,
    "start_time": "2022-10-16T15:58:23.194Z"
   },
   {
    "duration": 86,
    "start_time": "2022-10-16T15:58:26.211Z"
   },
   {
    "duration": 208,
    "start_time": "2022-10-16T15:58:26.299Z"
   },
   {
    "duration": 12,
    "start_time": "2022-10-16T15:58:26.513Z"
   },
   {
    "duration": 10,
    "start_time": "2022-10-16T15:58:26.527Z"
   },
   {
    "duration": 10,
    "start_time": "2022-10-16T15:58:26.538Z"
   },
   {
    "duration": 19,
    "start_time": "2022-10-16T15:58:26.550Z"
   },
   {
    "duration": 205,
    "start_time": "2022-10-16T15:58:26.571Z"
   },
   {
    "duration": 0,
    "start_time": "2022-10-16T15:58:26.779Z"
   },
   {
    "duration": 0,
    "start_time": "2022-10-16T15:58:26.780Z"
   },
   {
    "duration": 0,
    "start_time": "2022-10-16T15:58:26.782Z"
   },
   {
    "duration": 0,
    "start_time": "2022-10-16T15:58:26.783Z"
   },
   {
    "duration": 0,
    "start_time": "2022-10-16T15:58:26.799Z"
   },
   {
    "duration": 0,
    "start_time": "2022-10-16T15:58:26.800Z"
   },
   {
    "duration": 0,
    "start_time": "2022-10-16T15:58:26.802Z"
   },
   {
    "duration": 0,
    "start_time": "2022-10-16T15:58:26.803Z"
   },
   {
    "duration": 0,
    "start_time": "2022-10-16T15:58:26.807Z"
   },
   {
    "duration": 0,
    "start_time": "2022-10-16T15:58:26.809Z"
   },
   {
    "duration": 0,
    "start_time": "2022-10-16T15:58:26.810Z"
   },
   {
    "duration": 0,
    "start_time": "2022-10-16T15:58:26.813Z"
   },
   {
    "duration": 0,
    "start_time": "2022-10-16T15:58:26.814Z"
   },
   {
    "duration": 0,
    "start_time": "2022-10-16T15:58:26.815Z"
   },
   {
    "duration": 0,
    "start_time": "2022-10-16T15:58:26.817Z"
   },
   {
    "duration": 0,
    "start_time": "2022-10-16T15:58:26.819Z"
   },
   {
    "duration": 0,
    "start_time": "2022-10-16T15:58:26.820Z"
   },
   {
    "duration": 199,
    "start_time": "2022-10-16T16:00:30.039Z"
   },
   {
    "duration": 2041,
    "start_time": "2022-10-16T16:25:16.995Z"
   },
   {
    "duration": 1773,
    "start_time": "2022-10-16T16:25:19.038Z"
   },
   {
    "duration": 56,
    "start_time": "2022-10-16T16:25:20.812Z"
   },
   {
    "duration": 10,
    "start_time": "2022-10-16T16:25:20.870Z"
   },
   {
    "duration": 14,
    "start_time": "2022-10-16T16:25:20.881Z"
   },
   {
    "duration": 6,
    "start_time": "2022-10-16T16:25:20.896Z"
   },
   {
    "duration": 9,
    "start_time": "2022-10-16T16:25:20.904Z"
   },
   {
    "duration": 11,
    "start_time": "2022-10-16T16:25:20.915Z"
   },
   {
    "duration": 7,
    "start_time": "2022-10-16T16:25:20.928Z"
   },
   {
    "duration": 756,
    "start_time": "2022-10-16T16:25:20.937Z"
   },
   {
    "duration": 454,
    "start_time": "2022-10-16T16:25:21.695Z"
   },
   {
    "duration": 547,
    "start_time": "2022-10-16T16:25:22.150Z"
   },
   {
    "duration": 1398,
    "start_time": "2022-10-16T16:25:22.699Z"
   },
   {
    "duration": 1598,
    "start_time": "2022-10-16T16:25:24.099Z"
   },
   {
    "duration": 102,
    "start_time": "2022-10-16T16:25:25.701Z"
   },
   {
    "duration": 217,
    "start_time": "2022-10-16T16:25:25.805Z"
   },
   {
    "duration": 8,
    "start_time": "2022-10-16T16:25:26.023Z"
   },
   {
    "duration": 7,
    "start_time": "2022-10-16T16:25:26.033Z"
   },
   {
    "duration": 6,
    "start_time": "2022-10-16T16:25:26.042Z"
   },
   {
    "duration": 13,
    "start_time": "2022-10-16T16:25:26.049Z"
   },
   {
    "duration": 818,
    "start_time": "2022-10-16T16:25:26.064Z"
   },
   {
    "duration": 928,
    "start_time": "2022-10-16T16:25:26.884Z"
   },
   {
    "duration": 3,
    "start_time": "2022-10-16T16:25:27.814Z"
   },
   {
    "duration": 6,
    "start_time": "2022-10-16T16:25:27.818Z"
   },
   {
    "duration": 6,
    "start_time": "2022-10-16T16:25:27.825Z"
   },
   {
    "duration": 9,
    "start_time": "2022-10-16T16:25:27.832Z"
   },
   {
    "duration": 4,
    "start_time": "2022-10-16T16:25:27.842Z"
   },
   {
    "duration": 451,
    "start_time": "2022-10-16T16:25:27.849Z"
   },
   {
    "duration": 22,
    "start_time": "2022-10-16T16:25:28.302Z"
   },
   {
    "duration": 6,
    "start_time": "2022-10-16T16:25:28.326Z"
   },
   {
    "duration": 13,
    "start_time": "2022-10-16T16:25:28.334Z"
   },
   {
    "duration": 5,
    "start_time": "2022-10-16T16:25:28.349Z"
   },
   {
    "duration": 8,
    "start_time": "2022-10-16T16:25:28.355Z"
   },
   {
    "duration": 31,
    "start_time": "2022-10-16T16:25:28.365Z"
   },
   {
    "duration": 13,
    "start_time": "2022-10-16T16:25:28.398Z"
   },
   {
    "duration": 8,
    "start_time": "2022-10-16T16:25:28.412Z"
   },
   {
    "duration": 1907,
    "start_time": "2022-10-16T16:25:28.421Z"
   },
   {
    "duration": 4,
    "start_time": "2022-10-16T16:25:30.330Z"
   },
   {
    "duration": 12,
    "start_time": "2022-10-16T16:25:30.335Z"
   },
   {
    "duration": 208150,
    "start_time": "2022-10-16T16:25:30.348Z"
   },
   {
    "duration": 4,
    "start_time": "2022-10-16T16:28:58.500Z"
   },
   {
    "duration": 5,
    "start_time": "2022-10-16T16:28:58.506Z"
   },
   {
    "duration": 802,
    "start_time": "2022-10-16T16:28:58.513Z"
   },
   {
    "duration": 26,
    "start_time": "2022-10-16T16:28:59.317Z"
   },
   {
    "duration": 937,
    "start_time": "2022-10-16T16:28:59.345Z"
   },
   {
    "duration": 3,
    "start_time": "2022-10-16T16:29:00.284Z"
   },
   {
    "duration": 113851,
    "start_time": "2022-10-16T16:29:00.288Z"
   },
   {
    "duration": 4,
    "start_time": "2022-10-16T16:30:54.141Z"
   },
   {
    "duration": 557,
    "start_time": "2022-10-16T16:30:54.146Z"
   },
   {
    "duration": 4,
    "start_time": "2022-10-16T16:30:54.705Z"
   },
   {
    "duration": 4,
    "start_time": "2022-10-16T16:30:54.711Z"
   },
   {
    "duration": 26,
    "start_time": "2022-10-16T16:30:54.716Z"
   },
   {
    "duration": 203,
    "start_time": "2022-10-16T16:30:54.744Z"
   },
   {
    "duration": 12698,
    "start_time": "2022-10-17T09:24:01.788Z"
   },
   {
    "duration": 2028,
    "start_time": "2022-10-17T09:24:14.487Z"
   },
   {
    "duration": 162,
    "start_time": "2022-10-17T09:24:16.517Z"
   },
   {
    "duration": 8,
    "start_time": "2022-10-17T09:24:16.681Z"
   },
   {
    "duration": 14,
    "start_time": "2022-10-17T09:24:16.690Z"
   },
   {
    "duration": 5,
    "start_time": "2022-10-17T09:24:16.706Z"
   },
   {
    "duration": 10,
    "start_time": "2022-10-17T09:24:16.712Z"
   },
   {
    "duration": 5,
    "start_time": "2022-10-17T09:24:16.724Z"
   },
   {
    "duration": 5,
    "start_time": "2022-10-17T09:24:16.731Z"
   },
   {
    "duration": 576,
    "start_time": "2022-10-17T09:24:16.738Z"
   },
   {
    "duration": 628,
    "start_time": "2022-10-17T09:24:55.988Z"
   },
   {
    "duration": 616,
    "start_time": "2022-10-17T09:25:10.823Z"
   },
   {
    "duration": 606,
    "start_time": "2022-10-17T09:25:25.360Z"
   },
   {
    "duration": 303,
    "start_time": "2022-10-17T09:25:45.624Z"
   },
   {
    "duration": 192,
    "start_time": "2022-10-17T09:25:54.801Z"
   },
   {
    "duration": 627,
    "start_time": "2022-10-17T09:26:05.829Z"
   },
   {
    "duration": 2937,
    "start_time": "2022-10-17T09:35:09.062Z"
   },
   {
    "duration": 5,
    "start_time": "2022-10-17T09:35:12.001Z"
   },
   {
    "duration": 63,
    "start_time": "2022-10-17T09:35:12.007Z"
   },
   {
    "duration": 9,
    "start_time": "2022-10-17T09:35:12.072Z"
   },
   {
    "duration": 10,
    "start_time": "2022-10-17T09:35:12.082Z"
   },
   {
    "duration": 9,
    "start_time": "2022-10-17T09:35:12.094Z"
   },
   {
    "duration": 7,
    "start_time": "2022-10-17T09:35:12.104Z"
   },
   {
    "duration": 14,
    "start_time": "2022-10-17T09:35:12.112Z"
   },
   {
    "duration": 10,
    "start_time": "2022-10-17T09:35:12.127Z"
   },
   {
    "duration": 813,
    "start_time": "2022-10-17T09:35:12.139Z"
   },
   {
    "duration": 355,
    "start_time": "2022-10-17T09:35:12.954Z"
   },
   {
    "duration": 559,
    "start_time": "2022-10-17T09:35:13.311Z"
   },
   {
    "duration": 2217,
    "start_time": "2022-10-17T09:35:13.871Z"
   },
   {
    "duration": 2505,
    "start_time": "2022-10-17T09:35:16.090Z"
   },
   {
    "duration": 100,
    "start_time": "2022-10-17T09:35:18.686Z"
   },
   {
    "duration": 2,
    "start_time": "2022-10-17T09:35:24.345Z"
   },
   {
    "duration": 3,
    "start_time": "2022-10-17T09:35:25.066Z"
   },
   {
    "duration": 2,
    "start_time": "2022-10-17T09:35:25.505Z"
   },
   {
    "duration": 2,
    "start_time": "2022-10-17T09:35:26.505Z"
   },
   {
    "duration": 14,
    "start_time": "2022-10-17T09:35:29.029Z"
   },
   {
    "duration": 834,
    "start_time": "2022-10-17T09:35:39.939Z"
   },
   {
    "duration": 8,
    "start_time": "2022-10-17T09:36:14.828Z"
   },
   {
    "duration": 1287,
    "start_time": "2022-10-17T09:37:20.626Z"
   },
   {
    "duration": 5,
    "start_time": "2022-10-17T09:37:30.016Z"
   },
   {
    "duration": 1470,
    "start_time": "2022-10-17T09:37:32.551Z"
   },
   {
    "duration": 249,
    "start_time": "2022-10-17T09:37:46.567Z"
   },
   {
    "duration": 228,
    "start_time": "2022-10-17T09:38:01.459Z"
   },
   {
    "duration": 312,
    "start_time": "2022-10-17T09:38:17.115Z"
   },
   {
    "duration": 5,
    "start_time": "2022-10-17T09:39:24.601Z"
   },
   {
    "duration": 230,
    "start_time": "2022-10-17T09:39:26.471Z"
   },
   {
    "duration": 5,
    "start_time": "2022-10-17T09:39:46.987Z"
   },
   {
    "duration": 5,
    "start_time": "2022-10-17T09:41:27.746Z"
   },
   {
    "duration": 22,
    "start_time": "2022-10-17T09:42:27.801Z"
   },
   {
    "duration": 36,
    "start_time": "2022-10-17T09:43:33.063Z"
   },
   {
    "duration": 256,
    "start_time": "2022-10-17T09:43:41.212Z"
   },
   {
    "duration": 248,
    "start_time": "2022-10-17T09:43:52.177Z"
   },
   {
    "duration": 7,
    "start_time": "2022-10-17T09:44:11.350Z"
   },
   {
    "duration": 36,
    "start_time": "2022-10-17T09:45:12.437Z"
   },
   {
    "duration": 258,
    "start_time": "2022-10-17T09:45:16.490Z"
   },
   {
    "duration": 251,
    "start_time": "2022-10-17T09:45:32.372Z"
   },
   {
    "duration": 36,
    "start_time": "2022-10-17T09:45:49.220Z"
   },
   {
    "duration": 352,
    "start_time": "2022-10-17T09:45:50.675Z"
   },
   {
    "duration": 602,
    "start_time": "2022-10-17T09:47:24.955Z"
   },
   {
    "duration": 7,
    "start_time": "2022-10-17T09:47:44.435Z"
   },
   {
    "duration": 249,
    "start_time": "2022-10-17T09:47:49.243Z"
   },
   {
    "duration": 7,
    "start_time": "2022-10-17T09:48:42.981Z"
   },
   {
    "duration": 253,
    "start_time": "2022-10-17T09:48:44.479Z"
   },
   {
    "duration": 1179,
    "start_time": "2022-10-17T09:51:01.546Z"
   },
   {
    "duration": 20,
    "start_time": "2022-10-17T09:51:15.689Z"
   },
   {
    "duration": 70,
    "start_time": "2022-10-17T09:52:16.345Z"
   },
   {
    "duration": 4,
    "start_time": "2022-10-17T09:52:28.361Z"
   },
   {
    "duration": 6,
    "start_time": "2022-10-17T09:52:30.461Z"
   },
   {
    "duration": 12,
    "start_time": "2022-10-17T09:52:31.306Z"
   },
   {
    "duration": 4,
    "start_time": "2022-10-17T09:52:46.320Z"
   },
   {
    "duration": 15,
    "start_time": "2022-10-17T09:52:46.737Z"
   },
   {
    "duration": 6,
    "start_time": "2022-10-17T09:53:03.344Z"
   },
   {
    "duration": 4,
    "start_time": "2022-10-17T09:53:04.925Z"
   },
   {
    "duration": 8,
    "start_time": "2022-10-17T09:53:08.969Z"
   },
   {
    "duration": 3,
    "start_time": "2022-10-17T09:53:09.737Z"
   },
   {
    "duration": 1193,
    "start_time": "2022-10-17T09:53:13.652Z"
   },
   {
    "duration": 4,
    "start_time": "2022-10-17T09:53:14.846Z"
   },
   {
    "duration": 3,
    "start_time": "2022-10-17T09:54:29.275Z"
   },
   {
    "duration": 2,
    "start_time": "2022-10-17T09:54:32.177Z"
   },
   {
    "duration": 3,
    "start_time": "2022-10-17T09:54:36.381Z"
   },
   {
    "duration": 2,
    "start_time": "2022-10-17T09:54:39.504Z"
   },
   {
    "duration": 2,
    "start_time": "2022-10-17T09:54:45.114Z"
   },
   {
    "duration": 2,
    "start_time": "2022-10-17T09:54:59.403Z"
   },
   {
    "duration": 3,
    "start_time": "2022-10-17T09:55:58.025Z"
   },
   {
    "duration": 2,
    "start_time": "2022-10-17T09:56:03.017Z"
   },
   {
    "duration": 2,
    "start_time": "2022-10-17T09:56:05.608Z"
   },
   {
    "duration": 3,
    "start_time": "2022-10-17T09:56:09.811Z"
   },
   {
    "duration": 2,
    "start_time": "2022-10-17T09:56:14.543Z"
   },
   {
    "duration": 3,
    "start_time": "2022-10-17T09:56:22.132Z"
   },
   {
    "duration": 20,
    "start_time": "2022-10-17T09:56:23.545Z"
   },
   {
    "duration": 181,
    "start_time": "2022-10-17T09:56:27.671Z"
   },
   {
    "duration": 77,
    "start_time": "2022-10-17T09:58:42.158Z"
   },
   {
    "duration": 3,
    "start_time": "2022-10-17T09:59:00.495Z"
   },
   {
    "duration": 4,
    "start_time": "2022-10-17T09:59:37.777Z"
   },
   {
    "duration": 6,
    "start_time": "2022-10-17T09:59:39.472Z"
   },
   {
    "duration": 3,
    "start_time": "2022-10-17T09:59:40.298Z"
   },
   {
    "duration": 19,
    "start_time": "2022-10-17T09:59:40.810Z"
   },
   {
    "duration": 1338,
    "start_time": "2022-10-17T10:01:07.892Z"
   },
   {
    "duration": 23,
    "start_time": "2022-10-17T10:01:09.328Z"
   },
   {
    "duration": 177,
    "start_time": "2022-10-17T10:01:18.652Z"
   },
   {
    "duration": 2449,
    "start_time": "2022-10-17T10:01:39.655Z"
   },
   {
    "duration": 4,
    "start_time": "2022-10-17T10:01:42.105Z"
   },
   {
    "duration": 1237,
    "start_time": "2022-10-17T10:01:46.573Z"
   },
   {
    "duration": 5,
    "start_time": "2022-10-17T10:01:47.812Z"
   },
   {
    "duration": 3593,
    "start_time": "2022-10-17T10:01:52.569Z"
   },
   {
    "duration": 23,
    "start_time": "2022-10-17T10:01:56.164Z"
   },
   {
    "duration": 5961,
    "start_time": "2022-10-17T10:02:02.308Z"
   },
   {
    "duration": 14,
    "start_time": "2022-10-17T10:02:08.271Z"
   },
   {
    "duration": 4874,
    "start_time": "2022-10-17T10:02:14.348Z"
   },
   {
    "duration": 4,
    "start_time": "2022-10-17T10:02:19.224Z"
   },
   {
    "duration": 3620,
    "start_time": "2022-10-17T10:02:24.591Z"
   },
   {
    "duration": 4,
    "start_time": "2022-10-17T10:02:28.212Z"
   },
   {
    "duration": 2454,
    "start_time": "2022-10-17T10:02:33.787Z"
   },
   {
    "duration": 4,
    "start_time": "2022-10-17T10:02:36.242Z"
   },
   {
    "duration": 2673,
    "start_time": "2022-10-17T10:02:46.613Z"
   },
   {
    "duration": 32,
    "start_time": "2022-10-17T10:02:49.288Z"
   },
   {
    "duration": 1183,
    "start_time": "2022-10-17T10:03:01.471Z"
   },
   {
    "duration": 4,
    "start_time": "2022-10-17T10:03:02.656Z"
   },
   {
    "duration": 7,
    "start_time": "2022-10-17T10:03:36.731Z"
   },
   {
    "duration": 7,
    "start_time": "2022-10-17T10:03:38.426Z"
   },
   {
    "duration": 175,
    "start_time": "2022-10-17T10:03:45.821Z"
   },
   {
    "duration": 19,
    "start_time": "2022-10-17T10:04:21.654Z"
   },
   {
    "duration": 15,
    "start_time": "2022-10-17T10:04:25.386Z"
   },
   {
    "duration": 7,
    "start_time": "2022-10-17T10:04:29.554Z"
   },
   {
    "duration": 16,
    "start_time": "2022-10-17T10:04:29.906Z"
   },
   {
    "duration": 4,
    "start_time": "2022-10-17T10:04:32.952Z"
   },
   {
    "duration": 7,
    "start_time": "2022-10-17T10:04:33.232Z"
   },
   {
    "duration": 3,
    "start_time": "2022-10-17T10:04:33.858Z"
   },
   {
    "duration": 10,
    "start_time": "2022-10-17T10:04:36.780Z"
   },
   {
    "duration": 5,
    "start_time": "2022-10-17T10:04:37.897Z"
   },
   {
    "duration": 1774,
    "start_time": "2022-10-17T10:04:39.115Z"
   },
   {
    "duration": 5,
    "start_time": "2022-10-17T10:04:40.891Z"
   },
   {
    "duration": 751,
    "start_time": "2022-10-17T10:04:47.208Z"
   },
   {
    "duration": 7,
    "start_time": "2022-10-17T10:05:05.582Z"
   },
   {
    "duration": 6,
    "start_time": "2022-10-17T10:05:06.641Z"
   },
   {
    "duration": 4,
    "start_time": "2022-10-17T10:05:16.770Z"
   },
   {
    "duration": 5,
    "start_time": "2022-10-17T10:05:17.423Z"
   },
   {
    "duration": 9,
    "start_time": "2022-10-17T10:05:18.220Z"
   },
   {
    "duration": 6,
    "start_time": "2022-10-17T10:05:18.979Z"
   },
   {
    "duration": 2036,
    "start_time": "2022-10-17T10:05:41.322Z"
   },
   {
    "duration": 1750,
    "start_time": "2022-10-17T10:05:43.359Z"
   },
   {
    "duration": 54,
    "start_time": "2022-10-17T10:05:45.110Z"
   },
   {
    "duration": 10,
    "start_time": "2022-10-17T10:05:45.166Z"
   },
   {
    "duration": 15,
    "start_time": "2022-10-17T10:05:45.177Z"
   },
   {
    "duration": 7,
    "start_time": "2022-10-17T10:05:45.195Z"
   },
   {
    "duration": 10,
    "start_time": "2022-10-17T10:05:45.203Z"
   },
   {
    "duration": 6,
    "start_time": "2022-10-17T10:05:45.215Z"
   },
   {
    "duration": 9,
    "start_time": "2022-10-17T10:05:45.222Z"
   },
   {
    "duration": 687,
    "start_time": "2022-10-17T10:05:45.233Z"
   },
   {
    "duration": 409,
    "start_time": "2022-10-17T10:05:45.922Z"
   },
   {
    "duration": 540,
    "start_time": "2022-10-17T10:05:46.332Z"
   },
   {
    "duration": 1411,
    "start_time": "2022-10-17T10:05:46.874Z"
   },
   {
    "duration": 1706,
    "start_time": "2022-10-17T10:05:48.287Z"
   },
   {
    "duration": 99,
    "start_time": "2022-10-17T10:05:49.995Z"
   },
   {
    "duration": 14,
    "start_time": "2022-10-17T10:05:50.185Z"
   },
   {
    "duration": 12,
    "start_time": "2022-10-17T10:05:50.200Z"
   },
   {
    "duration": 8,
    "start_time": "2022-10-17T10:05:50.214Z"
   },
   {
    "duration": 7,
    "start_time": "2022-10-17T10:05:50.224Z"
   },
   {
    "duration": 854,
    "start_time": "2022-10-17T10:05:50.232Z"
   },
   {
    "duration": 3,
    "start_time": "2022-10-17T10:05:51.088Z"
   },
   {
    "duration": 16,
    "start_time": "2022-10-17T10:05:51.093Z"
   },
   {
    "duration": 21,
    "start_time": "2022-10-17T10:05:51.110Z"
   },
   {
    "duration": 320,
    "start_time": "2022-10-17T10:05:51.135Z"
   },
   {
    "duration": 33,
    "start_time": "2022-10-17T10:05:51.457Z"
   },
   {
    "duration": 5,
    "start_time": "2022-10-17T10:05:51.491Z"
   },
   {
    "duration": 10,
    "start_time": "2022-10-17T10:05:51.497Z"
   },
   {
    "duration": 16,
    "start_time": "2022-10-17T10:05:51.508Z"
   },
   {
    "duration": 14,
    "start_time": "2022-10-17T10:05:51.525Z"
   },
   {
    "duration": 9,
    "start_time": "2022-10-17T10:05:51.540Z"
   },
   {
    "duration": 23,
    "start_time": "2022-10-17T10:05:51.550Z"
   },
   {
    "duration": 13,
    "start_time": "2022-10-17T10:05:51.575Z"
   },
   {
    "duration": 8,
    "start_time": "2022-10-17T10:05:51.590Z"
   },
   {
    "duration": 1924,
    "start_time": "2022-10-17T10:05:51.600Z"
   },
   {
    "duration": 4,
    "start_time": "2022-10-17T10:05:53.526Z"
   },
   {
    "duration": 9,
    "start_time": "2022-10-17T10:05:53.531Z"
   },
   {
    "duration": 6,
    "start_time": "2022-10-17T10:05:53.542Z"
   },
   {
    "duration": 5,
    "start_time": "2022-10-17T10:05:53.550Z"
   },
   {
    "duration": 4,
    "start_time": "2022-10-17T10:05:53.556Z"
   },
   {
    "duration": 9,
    "start_time": "2022-10-17T10:05:53.562Z"
   },
   {
    "duration": 9,
    "start_time": "2022-10-17T10:05:53.572Z"
   },
   {
    "duration": 767,
    "start_time": "2022-10-17T10:05:53.582Z"
   },
   {
    "duration": 3,
    "start_time": "2022-10-17T10:05:54.350Z"
   },
   {
    "duration": 11,
    "start_time": "2022-10-17T10:05:54.354Z"
   },
   {
    "duration": 15,
    "start_time": "2022-10-17T10:05:54.366Z"
   },
   {
    "duration": 7,
    "start_time": "2022-10-17T10:05:54.382Z"
   },
   {
    "duration": 10,
    "start_time": "2022-10-17T10:05:54.391Z"
   },
   {
    "duration": 9,
    "start_time": "2022-10-17T10:05:54.402Z"
   },
   {
    "duration": 7,
    "start_time": "2022-10-17T10:05:54.412Z"
   },
   {
    "duration": 16,
    "start_time": "2022-10-17T10:05:54.420Z"
   },
   {
    "duration": 7,
    "start_time": "2022-10-17T10:05:54.438Z"
   },
   {
    "duration": 285,
    "start_time": "2022-10-17T10:05:54.447Z"
   },
   {
    "duration": 2131,
    "start_time": "2022-10-17T10:06:34.805Z"
   },
   {
    "duration": 27,
    "start_time": "2022-10-17T10:06:36.938Z"
   },
   {
    "duration": 9,
    "start_time": "2022-10-17T10:06:49.488Z"
   },
   {
    "duration": 7,
    "start_time": "2022-10-17T10:06:50.789Z"
   },
   {
    "duration": 647,
    "start_time": "2022-10-17T10:07:06.001Z"
   },
   {
    "duration": 5,
    "start_time": "2022-10-17T10:07:19.144Z"
   },
   {
    "duration": 1989,
    "start_time": "2022-10-17T10:07:49.951Z"
   },
   {
    "duration": 1825,
    "start_time": "2022-10-17T10:07:51.942Z"
   },
   {
    "duration": 59,
    "start_time": "2022-10-17T10:07:53.768Z"
   },
   {
    "duration": 10,
    "start_time": "2022-10-17T10:07:53.830Z"
   },
   {
    "duration": 9,
    "start_time": "2022-10-17T10:07:53.841Z"
   },
   {
    "duration": 6,
    "start_time": "2022-10-17T10:07:53.851Z"
   },
   {
    "duration": 6,
    "start_time": "2022-10-17T10:07:53.859Z"
   },
   {
    "duration": 3,
    "start_time": "2022-10-17T10:07:53.885Z"
   },
   {
    "duration": 6,
    "start_time": "2022-10-17T10:07:53.889Z"
   },
   {
    "duration": 705,
    "start_time": "2022-10-17T10:07:53.898Z"
   },
   {
    "duration": 447,
    "start_time": "2022-10-17T10:07:54.605Z"
   },
   {
    "duration": 477,
    "start_time": "2022-10-17T10:07:55.053Z"
   },
   {
    "duration": 1054,
    "start_time": "2022-10-17T10:07:55.531Z"
   },
   {
    "duration": 1600,
    "start_time": "2022-10-17T10:07:56.587Z"
   },
   {
    "duration": 94,
    "start_time": "2022-10-17T10:07:58.191Z"
   },
   {
    "duration": 4,
    "start_time": "2022-10-17T10:07:58.287Z"
   },
   {
    "duration": 6,
    "start_time": "2022-10-17T10:07:58.292Z"
   },
   {
    "duration": 5,
    "start_time": "2022-10-17T10:07:58.299Z"
   },
   {
    "duration": 9,
    "start_time": "2022-10-17T10:07:58.305Z"
   },
   {
    "duration": 864,
    "start_time": "2022-10-17T10:07:58.315Z"
   },
   {
    "duration": 4,
    "start_time": "2022-10-17T10:07:59.181Z"
   },
   {
    "duration": 11,
    "start_time": "2022-10-17T10:07:59.186Z"
   },
   {
    "duration": 9,
    "start_time": "2022-10-17T10:07:59.198Z"
   },
   {
    "duration": 339,
    "start_time": "2022-10-17T10:07:59.209Z"
   },
   {
    "duration": 43,
    "start_time": "2022-10-17T10:07:59.550Z"
   },
   {
    "duration": 4,
    "start_time": "2022-10-17T10:07:59.595Z"
   },
   {
    "duration": 13,
    "start_time": "2022-10-17T10:07:59.601Z"
   },
   {
    "duration": 21,
    "start_time": "2022-10-17T10:07:59.617Z"
   },
   {
    "duration": 5,
    "start_time": "2022-10-17T10:07:59.639Z"
   },
   {
    "duration": 8,
    "start_time": "2022-10-17T10:07:59.646Z"
   },
   {
    "duration": 6,
    "start_time": "2022-10-17T10:07:59.656Z"
   },
   {
    "duration": 25,
    "start_time": "2022-10-17T10:07:59.663Z"
   },
   {
    "duration": 3,
    "start_time": "2022-10-17T10:07:59.690Z"
   },
   {
    "duration": 3027,
    "start_time": "2022-10-17T10:07:59.695Z"
   },
   {
    "duration": 4,
    "start_time": "2022-10-17T10:08:02.724Z"
   },
   {
    "duration": 7,
    "start_time": "2022-10-17T10:08:02.730Z"
   },
   {
    "duration": 8,
    "start_time": "2022-10-17T10:08:02.738Z"
   },
   {
    "duration": 5,
    "start_time": "2022-10-17T10:08:02.747Z"
   },
   {
    "duration": 5,
    "start_time": "2022-10-17T10:08:02.754Z"
   },
   {
    "duration": 5,
    "start_time": "2022-10-17T10:08:02.761Z"
   },
   {
    "duration": 6,
    "start_time": "2022-10-17T10:08:02.768Z"
   },
   {
    "duration": 817,
    "start_time": "2022-10-17T10:08:02.784Z"
   },
   {
    "duration": 3,
    "start_time": "2022-10-17T10:08:03.602Z"
   },
   {
    "duration": 15,
    "start_time": "2022-10-17T10:08:03.606Z"
   },
   {
    "duration": 6,
    "start_time": "2022-10-17T10:08:03.622Z"
   },
   {
    "duration": 6,
    "start_time": "2022-10-17T10:08:03.629Z"
   },
   {
    "duration": 5,
    "start_time": "2022-10-17T10:08:03.636Z"
   },
   {
    "duration": 12,
    "start_time": "2022-10-17T10:08:03.643Z"
   },
   {
    "duration": 11,
    "start_time": "2022-10-17T10:08:03.656Z"
   },
   {
    "duration": 12,
    "start_time": "2022-10-17T10:08:03.669Z"
   },
   {
    "duration": 8,
    "start_time": "2022-10-17T10:08:03.685Z"
   },
   {
    "duration": 355,
    "start_time": "2022-10-17T10:08:03.694Z"
   },
   {
    "duration": 31,
    "start_time": "2022-10-17T10:09:00.855Z"
   },
   {
    "duration": 153,
    "start_time": "2022-10-17T10:09:00.889Z"
   },
   {
    "duration": 0,
    "start_time": "2022-10-17T10:09:01.045Z"
   },
   {
    "duration": 0,
    "start_time": "2022-10-17T10:09:01.046Z"
   },
   {
    "duration": 0,
    "start_time": "2022-10-17T10:09:01.047Z"
   },
   {
    "duration": 0,
    "start_time": "2022-10-17T10:09:01.047Z"
   },
   {
    "duration": 0,
    "start_time": "2022-10-17T10:09:01.048Z"
   },
   {
    "duration": 0,
    "start_time": "2022-10-17T10:09:01.049Z"
   },
   {
    "duration": 0,
    "start_time": "2022-10-17T10:09:01.050Z"
   },
   {
    "duration": 0,
    "start_time": "2022-10-17T10:09:01.051Z"
   },
   {
    "duration": 0,
    "start_time": "2022-10-17T10:09:01.052Z"
   },
   {
    "duration": 0,
    "start_time": "2022-10-17T10:09:01.054Z"
   },
   {
    "duration": 0,
    "start_time": "2022-10-17T10:09:01.055Z"
   },
   {
    "duration": 0,
    "start_time": "2022-10-17T10:09:01.056Z"
   },
   {
    "duration": 0,
    "start_time": "2022-10-17T10:09:01.057Z"
   },
   {
    "duration": 0,
    "start_time": "2022-10-17T10:09:01.084Z"
   },
   {
    "duration": 0,
    "start_time": "2022-10-17T10:09:01.086Z"
   },
   {
    "duration": 0,
    "start_time": "2022-10-17T10:09:01.087Z"
   },
   {
    "duration": 0,
    "start_time": "2022-10-17T10:09:01.088Z"
   },
   {
    "duration": 0,
    "start_time": "2022-10-17T10:09:01.089Z"
   },
   {
    "duration": 0,
    "start_time": "2022-10-17T10:09:01.090Z"
   },
   {
    "duration": 0,
    "start_time": "2022-10-17T10:09:01.091Z"
   },
   {
    "duration": 0,
    "start_time": "2022-10-17T10:09:01.092Z"
   },
   {
    "duration": 0,
    "start_time": "2022-10-17T10:09:01.092Z"
   },
   {
    "duration": 0,
    "start_time": "2022-10-17T10:09:01.093Z"
   },
   {
    "duration": 0,
    "start_time": "2022-10-17T10:09:01.094Z"
   },
   {
    "duration": 0,
    "start_time": "2022-10-17T10:09:01.095Z"
   },
   {
    "duration": 0,
    "start_time": "2022-10-17T10:09:01.096Z"
   },
   {
    "duration": 6,
    "start_time": "2022-10-17T10:14:45.576Z"
   },
   {
    "duration": 38,
    "start_time": "2022-10-17T10:14:45.584Z"
   },
   {
    "duration": 10,
    "start_time": "2022-10-17T10:14:45.624Z"
   },
   {
    "duration": 10,
    "start_time": "2022-10-17T10:14:45.635Z"
   },
   {
    "duration": 19,
    "start_time": "2022-10-17T10:14:45.647Z"
   },
   {
    "duration": 14,
    "start_time": "2022-10-17T10:14:45.667Z"
   },
   {
    "duration": 9,
    "start_time": "2022-10-17T10:14:45.685Z"
   },
   {
    "duration": 3050,
    "start_time": "2022-10-17T10:14:45.696Z"
   },
   {
    "duration": 4,
    "start_time": "2022-10-17T10:14:48.748Z"
   },
   {
    "duration": 8,
    "start_time": "2022-10-17T10:14:48.753Z"
   },
   {
    "duration": 10,
    "start_time": "2022-10-17T10:14:48.762Z"
   },
   {
    "duration": 8,
    "start_time": "2022-10-17T10:14:48.773Z"
   },
   {
    "duration": 10,
    "start_time": "2022-10-17T10:14:48.783Z"
   },
   {
    "duration": 5,
    "start_time": "2022-10-17T10:14:48.796Z"
   },
   {
    "duration": 8,
    "start_time": "2022-10-17T10:14:48.803Z"
   },
   {
    "duration": 709,
    "start_time": "2022-10-17T10:14:48.812Z"
   },
   {
    "duration": 2,
    "start_time": "2022-10-17T10:14:49.523Z"
   },
   {
    "duration": 9,
    "start_time": "2022-10-17T10:14:49.526Z"
   },
   {
    "duration": 9,
    "start_time": "2022-10-17T10:14:49.537Z"
   },
   {
    "duration": 21,
    "start_time": "2022-10-17T10:14:49.547Z"
   },
   {
    "duration": 18,
    "start_time": "2022-10-17T10:14:49.569Z"
   },
   {
    "duration": 7,
    "start_time": "2022-10-17T10:14:49.589Z"
   },
   {
    "duration": 9,
    "start_time": "2022-10-17T10:14:49.597Z"
   },
   {
    "duration": 15,
    "start_time": "2022-10-17T10:14:49.607Z"
   },
   {
    "duration": 64,
    "start_time": "2022-10-17T10:14:49.624Z"
   },
   {
    "duration": 278,
    "start_time": "2022-10-17T10:14:49.690Z"
   },
   {
    "duration": 1992,
    "start_time": "2022-10-17T10:28:52.166Z"
   },
   {
    "duration": 1766,
    "start_time": "2022-10-17T10:28:54.160Z"
   },
   {
    "duration": 52,
    "start_time": "2022-10-17T10:28:55.928Z"
   },
   {
    "duration": 8,
    "start_time": "2022-10-17T10:28:55.982Z"
   },
   {
    "duration": 16,
    "start_time": "2022-10-17T10:28:55.992Z"
   },
   {
    "duration": 27,
    "start_time": "2022-10-17T10:28:56.010Z"
   },
   {
    "duration": 19,
    "start_time": "2022-10-17T10:28:56.038Z"
   },
   {
    "duration": 19,
    "start_time": "2022-10-17T10:28:56.059Z"
   },
   {
    "duration": 14,
    "start_time": "2022-10-17T10:28:56.079Z"
   },
   {
    "duration": 664,
    "start_time": "2022-10-17T10:28:56.095Z"
   },
   {
    "duration": 433,
    "start_time": "2022-10-17T10:28:56.760Z"
   },
   {
    "duration": 570,
    "start_time": "2022-10-17T10:28:57.195Z"
   },
   {
    "duration": 1628,
    "start_time": "2022-10-17T10:28:57.766Z"
   },
   {
    "duration": 1596,
    "start_time": "2022-10-17T10:28:59.490Z"
   },
   {
    "duration": 99,
    "start_time": "2022-10-17T10:29:01.087Z"
   },
   {
    "duration": 3,
    "start_time": "2022-10-17T10:29:01.187Z"
   },
   {
    "duration": 8,
    "start_time": "2022-10-17T10:29:01.191Z"
   },
   {
    "duration": 14,
    "start_time": "2022-10-17T10:29:01.200Z"
   },
   {
    "duration": 20,
    "start_time": "2022-10-17T10:29:01.215Z"
   },
   {
    "duration": 826,
    "start_time": "2022-10-17T10:29:01.236Z"
   },
   {
    "duration": 2,
    "start_time": "2022-10-17T10:29:02.064Z"
   },
   {
    "duration": 102,
    "start_time": "2022-10-17T10:29:02.068Z"
   },
   {
    "duration": 38,
    "start_time": "2022-10-17T10:29:02.171Z"
   },
   {
    "duration": 369,
    "start_time": "2022-10-17T10:29:02.210Z"
   },
   {
    "duration": 23,
    "start_time": "2022-10-17T10:29:02.581Z"
   },
   {
    "duration": 4,
    "start_time": "2022-10-17T10:29:02.605Z"
   },
   {
    "duration": 9,
    "start_time": "2022-10-17T10:29:02.610Z"
   },
   {
    "duration": 27,
    "start_time": "2022-10-17T10:29:02.622Z"
   },
   {
    "duration": 21,
    "start_time": "2022-10-17T10:29:02.650Z"
   },
   {
    "duration": 8,
    "start_time": "2022-10-17T10:29:02.673Z"
   },
   {
    "duration": 9,
    "start_time": "2022-10-17T10:29:02.682Z"
   },
   {
    "duration": 22,
    "start_time": "2022-10-17T10:29:02.693Z"
   },
   {
    "duration": 10,
    "start_time": "2022-10-17T10:29:02.717Z"
   },
   {
    "duration": 1452,
    "start_time": "2022-10-17T10:29:02.728Z"
   },
   {
    "duration": 4,
    "start_time": "2022-10-17T10:29:04.184Z"
   },
   {
    "duration": 19,
    "start_time": "2022-10-17T10:29:04.189Z"
   },
   {
    "duration": 35,
    "start_time": "2022-10-17T10:29:04.209Z"
   },
   {
    "duration": 44,
    "start_time": "2022-10-17T10:29:04.246Z"
   },
   {
    "duration": 37,
    "start_time": "2022-10-17T10:29:04.292Z"
   },
   {
    "duration": 23,
    "start_time": "2022-10-17T10:29:04.331Z"
   },
   {
    "duration": 16,
    "start_time": "2022-10-17T10:29:04.356Z"
   },
   {
    "duration": 776,
    "start_time": "2022-10-17T10:29:04.374Z"
   },
   {
    "duration": 2,
    "start_time": "2022-10-17T10:29:05.152Z"
   },
   {
    "duration": 32,
    "start_time": "2022-10-17T10:29:05.156Z"
   },
   {
    "duration": 13,
    "start_time": "2022-10-17T10:29:05.190Z"
   },
   {
    "duration": 28,
    "start_time": "2022-10-17T10:29:05.204Z"
   },
   {
    "duration": 23,
    "start_time": "2022-10-17T10:29:05.233Z"
   },
   {
    "duration": 20,
    "start_time": "2022-10-17T10:29:05.257Z"
   },
   {
    "duration": 27,
    "start_time": "2022-10-17T10:29:05.279Z"
   },
   {
    "duration": 24,
    "start_time": "2022-10-17T10:29:05.307Z"
   },
   {
    "duration": 18,
    "start_time": "2022-10-17T10:29:05.332Z"
   },
   {
    "duration": 249,
    "start_time": "2022-10-17T10:29:05.352Z"
   },
   {
    "duration": 20,
    "start_time": "2022-10-17T10:31:15.242Z"
   },
   {
    "duration": 138,
    "start_time": "2022-10-17T10:31:18.114Z"
   },
   {
    "duration": 5,
    "start_time": "2022-10-17T10:31:18.834Z"
   },
   {
    "duration": 12,
    "start_time": "2022-10-17T10:31:22.050Z"
   },
   {
    "duration": 4,
    "start_time": "2022-10-17T10:31:59.896Z"
   },
   {
    "duration": 5,
    "start_time": "2022-10-17T10:32:00.415Z"
   },
   {
    "duration": 3,
    "start_time": "2022-10-17T10:32:01.094Z"
   },
   {
    "duration": 8,
    "start_time": "2022-10-17T10:32:03.479Z"
   },
   {
    "duration": 3,
    "start_time": "2022-10-17T10:32:04.050Z"
   },
   {
    "duration": 1376,
    "start_time": "2022-10-17T10:32:05.902Z"
   },
   {
    "duration": 6,
    "start_time": "2022-10-17T10:32:07.280Z"
   },
   {
    "duration": 3,
    "start_time": "2022-10-17T10:32:10.825Z"
   },
   {
    "duration": 3,
    "start_time": "2022-10-17T10:32:11.745Z"
   },
   {
    "duration": 2,
    "start_time": "2022-10-17T10:32:12.002Z"
   },
   {
    "duration": 3,
    "start_time": "2022-10-17T10:32:12.277Z"
   },
   {
    "duration": 2,
    "start_time": "2022-10-17T10:32:12.602Z"
   },
   {
    "duration": 2,
    "start_time": "2022-10-17T10:32:13.134Z"
   },
   {
    "duration": 810,
    "start_time": "2022-10-17T10:32:14.674Z"
   },
   {
    "duration": 4,
    "start_time": "2022-10-17T10:32:19.995Z"
   },
   {
    "duration": 3,
    "start_time": "2022-10-17T10:32:20.258Z"
   },
   {
    "duration": 2,
    "start_time": "2022-10-17T10:32:20.799Z"
   },
   {
    "duration": 2,
    "start_time": "2022-10-17T10:32:21.027Z"
   },
   {
    "duration": 3,
    "start_time": "2022-10-17T10:32:21.254Z"
   },
   {
    "duration": 3,
    "start_time": "2022-10-17T10:32:22.587Z"
   },
   {
    "duration": 5,
    "start_time": "2022-10-17T10:32:23.747Z"
   },
   {
    "duration": 7,
    "start_time": "2022-10-17T10:32:24.253Z"
   },
   {
    "duration": 6,
    "start_time": "2022-10-17T10:32:25.294Z"
   },
   {
    "duration": 21,
    "start_time": "2022-10-17T10:32:45.477Z"
   },
   {
    "duration": 14,
    "start_time": "2022-10-17T10:32:52.502Z"
   },
   {
    "duration": 6,
    "start_time": "2022-10-17T10:32:53.038Z"
   },
   {
    "duration": 12,
    "start_time": "2022-10-17T10:32:53.703Z"
   },
   {
    "duration": 4,
    "start_time": "2022-10-17T10:32:57.619Z"
   },
   {
    "duration": 5,
    "start_time": "2022-10-17T10:32:58.232Z"
   },
   {
    "duration": 4,
    "start_time": "2022-10-17T10:32:58.792Z"
   },
   {
    "duration": 9,
    "start_time": "2022-10-17T10:33:00.924Z"
   },
   {
    "duration": 4,
    "start_time": "2022-10-17T10:33:01.343Z"
   },
   {
    "duration": 1559,
    "start_time": "2022-10-17T10:33:02.880Z"
   },
   {
    "duration": 4,
    "start_time": "2022-10-17T10:33:04.441Z"
   },
   {
    "duration": 2,
    "start_time": "2022-10-17T10:33:06.079Z"
   },
   {
    "duration": 2,
    "start_time": "2022-10-17T10:33:06.754Z"
   },
   {
    "duration": 3,
    "start_time": "2022-10-17T10:33:06.998Z"
   },
   {
    "duration": 2,
    "start_time": "2022-10-17T10:33:07.241Z"
   },
   {
    "duration": 2,
    "start_time": "2022-10-17T10:33:07.494Z"
   },
   {
    "duration": 3,
    "start_time": "2022-10-17T10:33:07.751Z"
   },
   {
    "duration": 699,
    "start_time": "2022-10-17T10:33:08.331Z"
   },
   {
    "duration": 3,
    "start_time": "2022-10-17T10:33:09.663Z"
   },
   {
    "duration": 2,
    "start_time": "2022-10-17T10:33:13.564Z"
   },
   {
    "duration": 3,
    "start_time": "2022-10-17T10:33:13.809Z"
   },
   {
    "duration": 2,
    "start_time": "2022-10-17T10:33:14.005Z"
   },
   {
    "duration": 2,
    "start_time": "2022-10-17T10:33:14.211Z"
   },
   {
    "duration": 4,
    "start_time": "2022-10-17T10:33:16.831Z"
   },
   {
    "duration": 5,
    "start_time": "2022-10-17T10:33:17.421Z"
   },
   {
    "duration": 7,
    "start_time": "2022-10-17T10:33:17.849Z"
   },
   {
    "duration": 7,
    "start_time": "2022-10-17T10:33:19.500Z"
   },
   {
    "duration": 174,
    "start_time": "2022-10-17T10:33:21.559Z"
   },
   {
    "duration": 19,
    "start_time": "2022-10-17T10:33:44.086Z"
   },
   {
    "duration": 14,
    "start_time": "2022-10-17T10:33:46.046Z"
   },
   {
    "duration": 6,
    "start_time": "2022-10-17T10:33:46.294Z"
   },
   {
    "duration": 13,
    "start_time": "2022-10-17T10:33:46.501Z"
   },
   {
    "duration": 5,
    "start_time": "2022-10-17T10:33:46.969Z"
   },
   {
    "duration": 6,
    "start_time": "2022-10-17T10:33:47.194Z"
   },
   {
    "duration": 3,
    "start_time": "2022-10-17T10:33:47.414Z"
   },
   {
    "duration": 8,
    "start_time": "2022-10-17T10:33:48.096Z"
   },
   {
    "duration": 4,
    "start_time": "2022-10-17T10:33:48.317Z"
   },
   {
    "duration": 1536,
    "start_time": "2022-10-17T10:33:48.781Z"
   },
   {
    "duration": 5,
    "start_time": "2022-10-17T10:33:50.319Z"
   },
   {
    "duration": 2,
    "start_time": "2022-10-17T10:33:53.311Z"
   },
   {
    "duration": 2,
    "start_time": "2022-10-17T10:33:53.799Z"
   },
   {
    "duration": 3,
    "start_time": "2022-10-17T10:33:54.053Z"
   },
   {
    "duration": 3,
    "start_time": "2022-10-17T10:33:54.299Z"
   },
   {
    "duration": 3,
    "start_time": "2022-10-17T10:33:54.552Z"
   },
   {
    "duration": 3,
    "start_time": "2022-10-17T10:33:54.843Z"
   },
   {
    "duration": 643,
    "start_time": "2022-10-17T10:33:55.344Z"
   },
   {
    "duration": 2,
    "start_time": "2022-10-17T10:33:55.989Z"
   },
   {
    "duration": 3,
    "start_time": "2022-10-17T10:33:56.400Z"
   },
   {
    "duration": 3,
    "start_time": "2022-10-17T10:33:56.537Z"
   },
   {
    "duration": 2,
    "start_time": "2022-10-17T10:33:56.797Z"
   },
   {
    "duration": 3,
    "start_time": "2022-10-17T10:33:57.254Z"
   },
   {
    "duration": 3,
    "start_time": "2022-10-17T10:33:58.345Z"
   },
   {
    "duration": 5,
    "start_time": "2022-10-17T10:33:58.862Z"
   },
   {
    "duration": 8,
    "start_time": "2022-10-17T10:33:59.114Z"
   },
   {
    "duration": 6,
    "start_time": "2022-10-17T10:34:00.077Z"
   },
   {
    "duration": 179,
    "start_time": "2022-10-17T10:34:02.299Z"
   },
   {
    "duration": 24,
    "start_time": "2022-10-17T10:34:18.367Z"
   },
   {
    "duration": 14,
    "start_time": "2022-10-17T10:34:19.400Z"
   },
   {
    "duration": 6,
    "start_time": "2022-10-17T10:34:19.645Z"
   },
   {
    "duration": 18,
    "start_time": "2022-10-17T10:34:19.861Z"
   },
   {
    "duration": 4,
    "start_time": "2022-10-17T10:34:20.314Z"
   },
   {
    "duration": 8,
    "start_time": "2022-10-17T10:34:20.562Z"
   },
   {
    "duration": 3,
    "start_time": "2022-10-17T10:34:20.839Z"
   },
   {
    "duration": 8,
    "start_time": "2022-10-17T10:34:21.580Z"
   },
   {
    "duration": 5,
    "start_time": "2022-10-17T10:34:21.813Z"
   },
   {
    "duration": 1952,
    "start_time": "2022-10-17T10:34:22.310Z"
   },
   {
    "duration": 3,
    "start_time": "2022-10-17T10:34:24.264Z"
   },
   {
    "duration": 13,
    "start_time": "2022-10-17T10:34:24.268Z"
   },
   {
    "duration": 30,
    "start_time": "2022-10-17T10:34:24.282Z"
   },
   {
    "duration": 41,
    "start_time": "2022-10-17T10:34:24.313Z"
   },
   {
    "duration": 18,
    "start_time": "2022-10-17T10:34:24.356Z"
   },
   {
    "duration": 2,
    "start_time": "2022-10-17T10:34:24.456Z"
   },
   {
    "duration": 3,
    "start_time": "2022-10-17T10:34:24.723Z"
   },
   {
    "duration": 800,
    "start_time": "2022-10-17T10:34:25.247Z"
   },
   {
    "duration": 3,
    "start_time": "2022-10-17T10:34:26.049Z"
   },
   {
    "duration": 45,
    "start_time": "2022-10-17T10:34:26.053Z"
   },
   {
    "duration": 34,
    "start_time": "2022-10-17T10:34:26.099Z"
   },
   {
    "duration": 2,
    "start_time": "2022-10-17T10:34:26.319Z"
   },
   {
    "duration": 3,
    "start_time": "2022-10-17T10:34:26.566Z"
   },
   {
    "duration": 4,
    "start_time": "2022-10-17T10:34:27.379Z"
   },
   {
    "duration": 5,
    "start_time": "2022-10-17T10:34:27.688Z"
   },
   {
    "duration": 8,
    "start_time": "2022-10-17T10:34:27.966Z"
   },
   {
    "duration": 6,
    "start_time": "2022-10-17T10:34:28.231Z"
   },
   {
    "duration": 193,
    "start_time": "2022-10-17T10:34:29.463Z"
   },
   {
    "duration": 24,
    "start_time": "2022-10-17T10:34:52.172Z"
   },
   {
    "duration": 13,
    "start_time": "2022-10-17T10:34:58.224Z"
   },
   {
    "duration": 5,
    "start_time": "2022-10-17T10:34:58.456Z"
   },
   {
    "duration": 16,
    "start_time": "2022-10-17T10:34:58.694Z"
   },
   {
    "duration": 4,
    "start_time": "2022-10-17T10:34:59.201Z"
   },
   {
    "duration": 6,
    "start_time": "2022-10-17T10:34:59.452Z"
   },
   {
    "duration": 3,
    "start_time": "2022-10-17T10:34:59.712Z"
   },
   {
    "duration": 8,
    "start_time": "2022-10-17T10:35:00.531Z"
   },
   {
    "duration": 4,
    "start_time": "2022-10-17T10:35:00.796Z"
   },
   {
    "duration": 1789,
    "start_time": "2022-10-17T10:35:01.299Z"
   },
   {
    "duration": 3,
    "start_time": "2022-10-17T10:35:03.090Z"
   },
   {
    "duration": 26,
    "start_time": "2022-10-17T10:35:03.094Z"
   },
   {
    "duration": 16,
    "start_time": "2022-10-17T10:35:03.122Z"
   },
   {
    "duration": 32,
    "start_time": "2022-10-17T10:35:03.139Z"
   },
   {
    "duration": 25,
    "start_time": "2022-10-17T10:35:03.173Z"
   },
   {
    "duration": 2,
    "start_time": "2022-10-17T10:35:03.270Z"
   },
   {
    "duration": 2,
    "start_time": "2022-10-17T10:35:03.519Z"
   },
   {
    "duration": 2174,
    "start_time": "2022-10-17T10:35:04.023Z"
   },
   {
    "duration": 3,
    "start_time": "2022-10-17T10:35:06.198Z"
   },
   {
    "duration": 25,
    "start_time": "2022-10-17T10:35:06.202Z"
   },
   {
    "duration": 17,
    "start_time": "2022-10-17T10:35:06.229Z"
   },
   {
    "duration": 8,
    "start_time": "2022-10-17T10:35:06.248Z"
   },
   {
    "duration": 10,
    "start_time": "2022-10-17T10:35:06.258Z"
   },
   {
    "duration": 8,
    "start_time": "2022-10-17T10:35:06.270Z"
   },
   {
    "duration": 5,
    "start_time": "2022-10-17T10:35:06.693Z"
   },
   {
    "duration": 9,
    "start_time": "2022-10-17T10:35:07.103Z"
   },
   {
    "duration": 6,
    "start_time": "2022-10-17T10:35:09.351Z"
   },
   {
    "duration": 179,
    "start_time": "2022-10-17T10:35:10.859Z"
   },
   {
    "duration": 2170,
    "start_time": "2022-10-17T10:35:17.644Z"
   },
   {
    "duration": 1845,
    "start_time": "2022-10-17T10:35:19.817Z"
   },
   {
    "duration": 51,
    "start_time": "2022-10-17T10:35:21.663Z"
   },
   {
    "duration": 10,
    "start_time": "2022-10-17T10:35:21.716Z"
   },
   {
    "duration": 8,
    "start_time": "2022-10-17T10:35:21.728Z"
   },
   {
    "duration": 8,
    "start_time": "2022-10-17T10:35:21.737Z"
   },
   {
    "duration": 11,
    "start_time": "2022-10-17T10:35:21.746Z"
   },
   {
    "duration": 9,
    "start_time": "2022-10-17T10:35:21.759Z"
   },
   {
    "duration": 4,
    "start_time": "2022-10-17T10:35:21.785Z"
   },
   {
    "duration": 658,
    "start_time": "2022-10-17T10:35:21.791Z"
   },
   {
    "duration": 426,
    "start_time": "2022-10-17T10:35:22.451Z"
   },
   {
    "duration": 687,
    "start_time": "2022-10-17T10:35:22.879Z"
   },
   {
    "duration": 1719,
    "start_time": "2022-10-17T10:35:23.567Z"
   },
   {
    "duration": 1897,
    "start_time": "2022-10-17T10:35:25.288Z"
   },
   {
    "duration": 97,
    "start_time": "2022-10-17T10:35:27.187Z"
   },
   {
    "duration": 4,
    "start_time": "2022-10-17T10:35:27.286Z"
   },
   {
    "duration": 6,
    "start_time": "2022-10-17T10:35:27.292Z"
   },
   {
    "duration": 5,
    "start_time": "2022-10-17T10:35:27.299Z"
   },
   {
    "duration": 5,
    "start_time": "2022-10-17T10:35:27.305Z"
   },
   {
    "duration": 853,
    "start_time": "2022-10-17T10:35:27.311Z"
   },
   {
    "duration": 3,
    "start_time": "2022-10-17T10:35:28.165Z"
   },
   {
    "duration": 17,
    "start_time": "2022-10-17T10:35:28.169Z"
   },
   {
    "duration": 7,
    "start_time": "2022-10-17T10:35:28.187Z"
   },
   {
    "duration": 322,
    "start_time": "2022-10-17T10:35:28.195Z"
   },
   {
    "duration": 22,
    "start_time": "2022-10-17T10:35:28.518Z"
   },
   {
    "duration": 4,
    "start_time": "2022-10-17T10:35:28.542Z"
   },
   {
    "duration": 6,
    "start_time": "2022-10-17T10:35:28.547Z"
   },
   {
    "duration": 31,
    "start_time": "2022-10-17T10:35:28.556Z"
   },
   {
    "duration": 13,
    "start_time": "2022-10-17T10:35:28.588Z"
   },
   {
    "duration": 11,
    "start_time": "2022-10-17T10:35:28.603Z"
   },
   {
    "duration": 8,
    "start_time": "2022-10-17T10:35:28.615Z"
   },
   {
    "duration": 11,
    "start_time": "2022-10-17T10:35:28.624Z"
   },
   {
    "duration": 8,
    "start_time": "2022-10-17T10:35:28.636Z"
   },
   {
    "duration": 1572,
    "start_time": "2022-10-17T10:35:28.645Z"
   },
   {
    "duration": 4,
    "start_time": "2022-10-17T10:35:30.218Z"
   },
   {
    "duration": 14,
    "start_time": "2022-10-17T10:35:30.224Z"
   },
   {
    "duration": 11,
    "start_time": "2022-10-17T10:35:30.240Z"
   },
   {
    "duration": 10,
    "start_time": "2022-10-17T10:35:30.253Z"
   },
   {
    "duration": 11,
    "start_time": "2022-10-17T10:35:30.264Z"
   },
   {
    "duration": 8,
    "start_time": "2022-10-17T10:35:30.277Z"
   },
   {
    "duration": 8,
    "start_time": "2022-10-17T10:35:30.287Z"
   },
   {
    "duration": 902,
    "start_time": "2022-10-17T10:35:30.296Z"
   },
   {
    "duration": 3,
    "start_time": "2022-10-17T10:35:31.199Z"
   },
   {
    "duration": 36,
    "start_time": "2022-10-17T10:35:31.203Z"
   },
   {
    "duration": 26,
    "start_time": "2022-10-17T10:35:31.241Z"
   },
   {
    "duration": 31,
    "start_time": "2022-10-17T10:35:31.269Z"
   },
   {
    "duration": 14,
    "start_time": "2022-10-17T10:35:31.301Z"
   },
   {
    "duration": 20,
    "start_time": "2022-10-17T10:35:31.316Z"
   },
   {
    "duration": 29,
    "start_time": "2022-10-17T10:35:31.339Z"
   },
   {
    "duration": 60,
    "start_time": "2022-10-17T10:35:31.370Z"
   },
   {
    "duration": 20,
    "start_time": "2022-10-17T10:35:31.432Z"
   },
   {
    "duration": 312,
    "start_time": "2022-10-17T10:35:31.454Z"
   },
   {
    "duration": 19,
    "start_time": "2022-10-17T10:37:28.065Z"
   },
   {
    "duration": 1954,
    "start_time": "2022-10-17T10:37:41.253Z"
   },
   {
    "duration": 1750,
    "start_time": "2022-10-17T10:37:43.209Z"
   },
   {
    "duration": 51,
    "start_time": "2022-10-17T10:37:44.961Z"
   },
   {
    "duration": 10,
    "start_time": "2022-10-17T10:37:45.014Z"
   },
   {
    "duration": 15,
    "start_time": "2022-10-17T10:37:45.025Z"
   },
   {
    "duration": 6,
    "start_time": "2022-10-17T10:37:45.041Z"
   },
   {
    "duration": 16,
    "start_time": "2022-10-17T10:37:45.048Z"
   },
   {
    "duration": 12,
    "start_time": "2022-10-17T10:37:45.065Z"
   },
   {
    "duration": 8,
    "start_time": "2022-10-17T10:37:45.079Z"
   },
   {
    "duration": 651,
    "start_time": "2022-10-17T10:37:45.090Z"
   },
   {
    "duration": 428,
    "start_time": "2022-10-17T10:37:45.742Z"
   },
   {
    "duration": 493,
    "start_time": "2022-10-17T10:37:46.171Z"
   },
   {
    "duration": 1628,
    "start_time": "2022-10-17T10:37:46.665Z"
   },
   {
    "duration": 1691,
    "start_time": "2022-10-17T10:37:48.295Z"
   },
   {
    "duration": 98,
    "start_time": "2022-10-17T10:37:49.987Z"
   },
   {
    "duration": 2,
    "start_time": "2022-10-17T10:37:50.087Z"
   },
   {
    "duration": 14,
    "start_time": "2022-10-17T10:37:50.090Z"
   },
   {
    "duration": 7,
    "start_time": "2022-10-17T10:37:50.105Z"
   },
   {
    "duration": 4,
    "start_time": "2022-10-17T10:37:50.113Z"
   },
   {
    "duration": 827,
    "start_time": "2022-10-17T10:37:50.119Z"
   },
   {
    "duration": 2,
    "start_time": "2022-10-17T10:37:50.947Z"
   },
   {
    "duration": 10,
    "start_time": "2022-10-17T10:37:50.950Z"
   },
   {
    "duration": 7,
    "start_time": "2022-10-17T10:37:50.961Z"
   },
   {
    "duration": 321,
    "start_time": "2022-10-17T10:37:50.969Z"
   },
   {
    "duration": 20,
    "start_time": "2022-10-17T10:37:51.292Z"
   },
   {
    "duration": 4,
    "start_time": "2022-10-17T10:37:51.313Z"
   },
   {
    "duration": 7,
    "start_time": "2022-10-17T10:37:51.318Z"
   },
   {
    "duration": 14,
    "start_time": "2022-10-17T10:37:51.328Z"
   },
   {
    "duration": 12,
    "start_time": "2022-10-17T10:37:51.343Z"
   },
   {
    "duration": 13,
    "start_time": "2022-10-17T10:37:51.356Z"
   },
   {
    "duration": 15,
    "start_time": "2022-10-17T10:37:51.370Z"
   },
   {
    "duration": 7,
    "start_time": "2022-10-17T10:37:51.386Z"
   },
   {
    "duration": 4,
    "start_time": "2022-10-17T10:37:51.394Z"
   },
   {
    "duration": 1238,
    "start_time": "2022-10-17T10:37:51.400Z"
   },
   {
    "duration": 4,
    "start_time": "2022-10-17T10:37:52.640Z"
   },
   {
    "duration": 37,
    "start_time": "2022-10-17T10:37:52.645Z"
   },
   {
    "duration": 14,
    "start_time": "2022-10-17T10:37:52.684Z"
   },
   {
    "duration": 27,
    "start_time": "2022-10-17T10:37:52.699Z"
   },
   {
    "duration": 25,
    "start_time": "2022-10-17T10:37:52.728Z"
   },
   {
    "duration": 26,
    "start_time": "2022-10-17T10:37:52.755Z"
   },
   {
    "duration": 34,
    "start_time": "2022-10-17T10:37:52.782Z"
   },
   {
    "duration": 660,
    "start_time": "2022-10-17T10:37:52.817Z"
   },
   {
    "duration": 2,
    "start_time": "2022-10-17T10:37:53.479Z"
   },
   {
    "duration": 9,
    "start_time": "2022-10-17T10:37:53.482Z"
   },
   {
    "duration": 5,
    "start_time": "2022-10-17T10:37:53.492Z"
   },
   {
    "duration": 4,
    "start_time": "2022-10-17T10:37:53.498Z"
   },
   {
    "duration": 4,
    "start_time": "2022-10-17T10:37:53.504Z"
   },
   {
    "duration": 5,
    "start_time": "2022-10-17T10:37:53.510Z"
   },
   {
    "duration": 5,
    "start_time": "2022-10-17T10:37:53.516Z"
   },
   {
    "duration": 8,
    "start_time": "2022-10-17T10:37:53.523Z"
   },
   {
    "duration": 5,
    "start_time": "2022-10-17T10:37:53.532Z"
   },
   {
    "duration": 263,
    "start_time": "2022-10-17T10:37:53.539Z"
   },
   {
    "duration": 891,
    "start_time": "2022-10-17T10:40:12.097Z"
   },
   {
    "duration": 1014,
    "start_time": "2022-10-17T10:40:30.499Z"
   },
   {
    "duration": 813,
    "start_time": "2022-10-17T10:40:39.382Z"
   },
   {
    "duration": 646,
    "start_time": "2022-10-17T10:40:47.216Z"
   },
   {
    "duration": 1219,
    "start_time": "2022-10-17T10:40:57.821Z"
   },
   {
    "duration": 722,
    "start_time": "2022-10-17T10:41:10.854Z"
   },
   {
    "duration": 586,
    "start_time": "2022-10-17T10:41:19.704Z"
   },
   {
    "duration": 677,
    "start_time": "2022-10-17T10:41:39.408Z"
   },
   {
    "duration": 6,
    "start_time": "2022-10-17T10:41:40.476Z"
   },
   {
    "duration": 9,
    "start_time": "2022-10-17T10:41:51.167Z"
   },
   {
    "duration": 5,
    "start_time": "2022-10-17T10:41:52.126Z"
   },
   {
    "duration": 1263,
    "start_time": "2022-10-17T10:42:19.200Z"
   },
   {
    "duration": 19,
    "start_time": "2022-10-17T10:42:22.873Z"
   },
   {
    "duration": 8,
    "start_time": "2022-10-17T10:42:34.066Z"
   },
   {
    "duration": 6,
    "start_time": "2022-10-17T10:42:34.569Z"
   },
   {
    "duration": 131,
    "start_time": "2022-10-17T10:51:25.677Z"
   },
   {
    "duration": 141,
    "start_time": "2022-10-17T10:51:56.329Z"
   },
   {
    "duration": 15,
    "start_time": "2022-10-17T10:57:44.468Z"
   },
   {
    "duration": 14,
    "start_time": "2022-10-17T10:59:18.923Z"
   },
   {
    "duration": 13,
    "start_time": "2022-10-17T11:00:03.331Z"
   },
   {
    "duration": 14,
    "start_time": "2022-10-17T11:00:50.551Z"
   },
   {
    "duration": 13,
    "start_time": "2022-10-17T11:01:53.753Z"
   },
   {
    "duration": 14,
    "start_time": "2022-10-17T11:02:32.727Z"
   },
   {
    "duration": 589,
    "start_time": "2022-10-17T11:03:16.928Z"
   },
   {
    "duration": 7,
    "start_time": "2022-10-17T11:03:50.846Z"
   },
   {
    "duration": 699,
    "start_time": "2022-10-17T11:03:53.122Z"
   },
   {
    "duration": 14,
    "start_time": "2022-10-17T11:04:32.079Z"
   },
   {
    "duration": 12,
    "start_time": "2022-10-17T11:05:23.419Z"
   },
   {
    "duration": 17,
    "start_time": "2022-10-17T11:05:43.179Z"
   },
   {
    "duration": 14,
    "start_time": "2022-10-17T11:06:55.950Z"
   },
   {
    "duration": 16,
    "start_time": "2022-10-17T11:07:16.554Z"
   },
   {
    "duration": 16,
    "start_time": "2022-10-17T11:07:27.059Z"
   },
   {
    "duration": 6,
    "start_time": "2022-10-17T11:09:27.630Z"
   },
   {
    "duration": 344,
    "start_time": "2022-10-17T11:09:33.152Z"
   },
   {
    "duration": 15,
    "start_time": "2022-10-17T11:10:30.784Z"
   },
   {
    "duration": 7,
    "start_time": "2022-10-17T11:10:39.214Z"
   },
   {
    "duration": 360,
    "start_time": "2022-10-17T11:10:43.740Z"
   },
   {
    "duration": 29,
    "start_time": "2022-10-17T11:11:07.464Z"
   },
   {
    "duration": 12,
    "start_time": "2022-10-17T11:11:29.654Z"
   },
   {
    "duration": 6,
    "start_time": "2022-10-17T11:13:26.366Z"
   },
   {
    "duration": 331,
    "start_time": "2022-10-17T11:13:29.806Z"
   },
   {
    "duration": 2048,
    "start_time": "2022-10-17T11:13:40.568Z"
   },
   {
    "duration": 1782,
    "start_time": "2022-10-17T11:13:42.619Z"
   },
   {
    "duration": 51,
    "start_time": "2022-10-17T11:13:44.402Z"
   },
   {
    "duration": 9,
    "start_time": "2022-10-17T11:13:44.455Z"
   },
   {
    "duration": 25,
    "start_time": "2022-10-17T11:13:44.465Z"
   },
   {
    "duration": 21,
    "start_time": "2022-10-17T11:13:44.492Z"
   },
   {
    "duration": 24,
    "start_time": "2022-10-17T11:13:44.514Z"
   },
   {
    "duration": 7,
    "start_time": "2022-10-17T11:13:44.540Z"
   },
   {
    "duration": 5,
    "start_time": "2022-10-17T11:13:44.549Z"
   },
   {
    "duration": 642,
    "start_time": "2022-10-17T11:13:44.556Z"
   },
   {
    "duration": 419,
    "start_time": "2022-10-17T11:13:45.199Z"
   },
   {
    "duration": 511,
    "start_time": "2022-10-17T11:13:45.620Z"
   },
   {
    "duration": 1952,
    "start_time": "2022-10-17T11:13:46.133Z"
   },
   {
    "duration": 1799,
    "start_time": "2022-10-17T11:13:48.089Z"
   },
   {
    "duration": 93,
    "start_time": "2022-10-17T11:13:49.893Z"
   },
   {
    "duration": 19,
    "start_time": "2022-10-17T11:13:49.988Z"
   },
   {
    "duration": 44,
    "start_time": "2022-10-17T11:13:50.009Z"
   },
   {
    "duration": 23,
    "start_time": "2022-10-17T11:13:50.055Z"
   },
   {
    "duration": 20,
    "start_time": "2022-10-17T11:13:50.080Z"
   },
   {
    "duration": 832,
    "start_time": "2022-10-17T11:13:50.102Z"
   },
   {
    "duration": 2,
    "start_time": "2022-10-17T11:13:50.936Z"
   },
   {
    "duration": 31,
    "start_time": "2022-10-17T11:13:50.939Z"
   },
   {
    "duration": 33,
    "start_time": "2022-10-17T11:13:50.972Z"
   },
   {
    "duration": 323,
    "start_time": "2022-10-17T11:13:51.006Z"
   },
   {
    "duration": 19,
    "start_time": "2022-10-17T11:13:51.331Z"
   },
   {
    "duration": 25,
    "start_time": "2022-10-17T11:13:51.352Z"
   },
   {
    "duration": 21,
    "start_time": "2022-10-17T11:13:51.383Z"
   },
   {
    "duration": 26,
    "start_time": "2022-10-17T11:13:51.407Z"
   },
   {
    "duration": 20,
    "start_time": "2022-10-17T11:13:51.434Z"
   },
   {
    "duration": 23,
    "start_time": "2022-10-17T11:13:51.455Z"
   },
   {
    "duration": 25,
    "start_time": "2022-10-17T11:13:51.479Z"
   },
   {
    "duration": 12,
    "start_time": "2022-10-17T11:13:51.506Z"
   },
   {
    "duration": 28,
    "start_time": "2022-10-17T11:13:51.519Z"
   },
   {
    "duration": 1235,
    "start_time": "2022-10-17T11:13:51.548Z"
   },
   {
    "duration": 4,
    "start_time": "2022-10-17T11:13:52.784Z"
   },
   {
    "duration": 6,
    "start_time": "2022-10-17T11:13:52.790Z"
   },
   {
    "duration": 6,
    "start_time": "2022-10-17T11:13:52.797Z"
   },
   {
    "duration": 4,
    "start_time": "2022-10-17T11:13:52.805Z"
   },
   {
    "duration": 4,
    "start_time": "2022-10-17T11:13:52.810Z"
   },
   {
    "duration": 5,
    "start_time": "2022-10-17T11:13:52.815Z"
   },
   {
    "duration": 5,
    "start_time": "2022-10-17T11:13:52.821Z"
   },
   {
    "duration": 909,
    "start_time": "2022-10-17T11:13:52.828Z"
   },
   {
    "duration": 2,
    "start_time": "2022-10-17T11:13:53.739Z"
   },
   {
    "duration": 8,
    "start_time": "2022-10-17T11:13:53.743Z"
   },
   {
    "duration": 6,
    "start_time": "2022-10-17T11:13:53.752Z"
   },
   {
    "duration": 5,
    "start_time": "2022-10-17T11:13:53.759Z"
   },
   {
    "duration": 5,
    "start_time": "2022-10-17T11:13:53.766Z"
   },
   {
    "duration": 92,
    "start_time": "2022-10-17T11:13:53.772Z"
   },
   {
    "duration": 135,
    "start_time": "2022-10-17T11:13:53.865Z"
   },
   {
    "duration": 0,
    "start_time": "2022-10-17T11:13:54.002Z"
   },
   {
    "duration": 0,
    "start_time": "2022-10-17T11:13:54.004Z"
   },
   {
    "duration": 0,
    "start_time": "2022-10-17T11:13:54.005Z"
   },
   {
    "duration": 0,
    "start_time": "2022-10-17T11:13:54.007Z"
   },
   {
    "duration": 0,
    "start_time": "2022-10-17T11:13:54.008Z"
   },
   {
    "duration": 15,
    "start_time": "2022-10-17T11:14:54.100Z"
   },
   {
    "duration": 2373,
    "start_time": "2022-10-17T11:15:02.057Z"
   },
   {
    "duration": 2008,
    "start_time": "2022-10-17T11:15:12.973Z"
   },
   {
    "duration": 1761,
    "start_time": "2022-10-17T11:15:14.984Z"
   },
   {
    "duration": 53,
    "start_time": "2022-10-17T11:15:16.746Z"
   },
   {
    "duration": 8,
    "start_time": "2022-10-17T11:15:16.802Z"
   },
   {
    "duration": 11,
    "start_time": "2022-10-17T11:15:16.811Z"
   },
   {
    "duration": 7,
    "start_time": "2022-10-17T11:15:16.823Z"
   },
   {
    "duration": 10,
    "start_time": "2022-10-17T11:15:16.831Z"
   },
   {
    "duration": 6,
    "start_time": "2022-10-17T11:15:16.843Z"
   },
   {
    "duration": 8,
    "start_time": "2022-10-17T11:15:16.850Z"
   },
   {
    "duration": 720,
    "start_time": "2022-10-17T11:15:16.862Z"
   },
   {
    "duration": 445,
    "start_time": "2022-10-17T11:15:17.583Z"
   },
   {
    "duration": 532,
    "start_time": "2022-10-17T11:15:18.029Z"
   },
   {
    "duration": 1531,
    "start_time": "2022-10-17T11:15:18.562Z"
   },
   {
    "duration": 1692,
    "start_time": "2022-10-17T11:15:20.094Z"
   },
   {
    "duration": 98,
    "start_time": "2022-10-17T11:15:21.788Z"
   },
   {
    "duration": 7,
    "start_time": "2022-10-17T11:15:21.888Z"
   },
   {
    "duration": 8,
    "start_time": "2022-10-17T11:15:21.896Z"
   },
   {
    "duration": 6,
    "start_time": "2022-10-17T11:15:21.905Z"
   },
   {
    "duration": 7,
    "start_time": "2022-10-17T11:15:21.912Z"
   },
   {
    "duration": 843,
    "start_time": "2022-10-17T11:15:21.921Z"
   },
   {
    "duration": 3,
    "start_time": "2022-10-17T11:15:22.765Z"
   },
   {
    "duration": 16,
    "start_time": "2022-10-17T11:15:22.769Z"
   },
   {
    "duration": 6,
    "start_time": "2022-10-17T11:15:22.787Z"
   },
   {
    "duration": 366,
    "start_time": "2022-10-17T11:15:22.794Z"
   },
   {
    "duration": 28,
    "start_time": "2022-10-17T11:15:23.162Z"
   },
   {
    "duration": 5,
    "start_time": "2022-10-17T11:15:23.191Z"
   },
   {
    "duration": 7,
    "start_time": "2022-10-17T11:15:23.198Z"
   },
   {
    "duration": 12,
    "start_time": "2022-10-17T11:15:23.208Z"
   },
   {
    "duration": 6,
    "start_time": "2022-10-17T11:15:23.221Z"
   },
   {
    "duration": 8,
    "start_time": "2022-10-17T11:15:23.228Z"
   },
   {
    "duration": 6,
    "start_time": "2022-10-17T11:15:23.237Z"
   },
   {
    "duration": 41,
    "start_time": "2022-10-17T11:15:23.244Z"
   },
   {
    "duration": 4,
    "start_time": "2022-10-17T11:15:23.287Z"
   },
   {
    "duration": 1264,
    "start_time": "2022-10-17T11:15:23.293Z"
   },
   {
    "duration": 4,
    "start_time": "2022-10-17T11:15:24.559Z"
   },
   {
    "duration": 6,
    "start_time": "2022-10-17T11:15:24.564Z"
   },
   {
    "duration": 16,
    "start_time": "2022-10-17T11:15:24.572Z"
   },
   {
    "duration": 8,
    "start_time": "2022-10-17T11:15:24.590Z"
   },
   {
    "duration": 9,
    "start_time": "2022-10-17T11:15:24.600Z"
   },
   {
    "duration": 19,
    "start_time": "2022-10-17T11:15:24.611Z"
   },
   {
    "duration": 30,
    "start_time": "2022-10-17T11:15:24.631Z"
   },
   {
    "duration": 675,
    "start_time": "2022-10-17T11:15:24.663Z"
   },
   {
    "duration": 2,
    "start_time": "2022-10-17T11:15:25.339Z"
   },
   {
    "duration": 8,
    "start_time": "2022-10-17T11:15:25.343Z"
   },
   {
    "duration": 6,
    "start_time": "2022-10-17T11:15:25.352Z"
   },
   {
    "duration": 4,
    "start_time": "2022-10-17T11:15:25.359Z"
   },
   {
    "duration": 4,
    "start_time": "2022-10-17T11:15:25.365Z"
   },
   {
    "duration": 82,
    "start_time": "2022-10-17T11:15:25.371Z"
   },
   {
    "duration": 139,
    "start_time": "2022-10-17T11:15:25.454Z"
   },
   {
    "duration": 0,
    "start_time": "2022-10-17T11:15:25.594Z"
   },
   {
    "duration": 0,
    "start_time": "2022-10-17T11:15:25.596Z"
   },
   {
    "duration": 0,
    "start_time": "2022-10-17T11:15:25.597Z"
   },
   {
    "duration": 0,
    "start_time": "2022-10-17T11:15:25.598Z"
   },
   {
    "duration": 0,
    "start_time": "2022-10-17T11:15:25.599Z"
   },
   {
    "duration": 16,
    "start_time": "2022-10-17T11:18:49.720Z"
   },
   {
    "duration": 2040,
    "start_time": "2022-10-17T11:19:05.700Z"
   },
   {
    "duration": 1689,
    "start_time": "2022-10-17T11:19:07.742Z"
   },
   {
    "duration": 52,
    "start_time": "2022-10-17T11:19:09.432Z"
   },
   {
    "duration": 9,
    "start_time": "2022-10-17T11:19:09.487Z"
   },
   {
    "duration": 8,
    "start_time": "2022-10-17T11:19:09.498Z"
   },
   {
    "duration": 7,
    "start_time": "2022-10-17T11:19:09.507Z"
   },
   {
    "duration": 8,
    "start_time": "2022-10-17T11:19:09.515Z"
   },
   {
    "duration": 5,
    "start_time": "2022-10-17T11:19:09.525Z"
   },
   {
    "duration": 6,
    "start_time": "2022-10-17T11:19:09.532Z"
   },
   {
    "duration": 328,
    "start_time": "2022-10-17T11:19:15.195Z"
   },
   {
    "duration": 2043,
    "start_time": "2022-10-17T11:19:15.526Z"
   },
   {
    "duration": 6,
    "start_time": "2022-10-17T11:19:17.571Z"
   },
   {
    "duration": 61,
    "start_time": "2022-10-17T11:19:17.579Z"
   },
   {
    "duration": 10,
    "start_time": "2022-10-17T11:19:17.642Z"
   },
   {
    "duration": 8,
    "start_time": "2022-10-17T11:19:17.653Z"
   },
   {
    "duration": 7,
    "start_time": "2022-10-17T11:19:17.663Z"
   },
   {
    "duration": 7,
    "start_time": "2022-10-17T11:19:17.671Z"
   },
   {
    "duration": 7,
    "start_time": "2022-10-17T11:19:17.680Z"
   },
   {
    "duration": 7,
    "start_time": "2022-10-17T11:19:17.689Z"
   },
   {
    "duration": 681,
    "start_time": "2022-10-17T11:19:17.698Z"
   },
   {
    "duration": 444,
    "start_time": "2022-10-17T11:19:18.380Z"
   },
   {
    "duration": 510,
    "start_time": "2022-10-17T11:19:18.825Z"
   },
   {
    "duration": 1256,
    "start_time": "2022-10-17T11:19:19.337Z"
   },
   {
    "duration": 1310,
    "start_time": "2022-10-17T11:19:20.684Z"
   },
   {
    "duration": 98,
    "start_time": "2022-10-17T11:19:21.996Z"
   },
   {
    "duration": 6,
    "start_time": "2022-10-17T11:19:22.185Z"
   },
   {
    "duration": 4,
    "start_time": "2022-10-17T11:19:22.193Z"
   },
   {
    "duration": 9,
    "start_time": "2022-10-17T11:19:22.198Z"
   },
   {
    "duration": 7,
    "start_time": "2022-10-17T11:19:22.208Z"
   },
   {
    "duration": 850,
    "start_time": "2022-10-17T11:19:22.217Z"
   },
   {
    "duration": 2,
    "start_time": "2022-10-17T11:19:23.068Z"
   },
   {
    "duration": 14,
    "start_time": "2022-10-17T11:19:23.072Z"
   },
   {
    "duration": 7,
    "start_time": "2022-10-17T11:19:23.087Z"
   },
   {
    "duration": 246,
    "start_time": "2022-10-17T11:19:45.967Z"
   },
   {
    "duration": 8,
    "start_time": "2022-10-17T11:21:06.712Z"
   },
   {
    "duration": 259,
    "start_time": "2022-10-17T11:21:13.418Z"
   },
   {
    "duration": 7,
    "start_time": "2022-10-17T11:21:49.766Z"
   },
   {
    "duration": 7,
    "start_time": "2022-10-17T11:21:50.537Z"
   },
   {
    "duration": 254,
    "start_time": "2022-10-17T11:21:53.156Z"
   },
   {
    "duration": 6,
    "start_time": "2022-10-17T11:22:13.739Z"
   },
   {
    "duration": 7,
    "start_time": "2022-10-17T11:22:14.575Z"
   },
   {
    "duration": 281,
    "start_time": "2022-10-17T11:22:16.658Z"
   },
   {
    "duration": 6,
    "start_time": "2022-10-17T11:22:53.902Z"
   },
   {
    "duration": 251,
    "start_time": "2022-10-17T11:22:56.089Z"
   },
   {
    "duration": 7,
    "start_time": "2022-10-17T11:23:09.013Z"
   },
   {
    "duration": 254,
    "start_time": "2022-10-17T11:23:10.752Z"
   },
   {
    "duration": 72,
    "start_time": "2022-10-17T11:24:42.523Z"
   },
   {
    "duration": 6,
    "start_time": "2022-10-17T11:24:52.057Z"
   },
   {
    "duration": 250,
    "start_time": "2022-10-17T11:24:55.435Z"
   },
   {
    "duration": 23,
    "start_time": "2022-10-17T11:25:33.237Z"
   },
   {
    "duration": 5,
    "start_time": "2022-10-17T11:25:36.282Z"
   },
   {
    "duration": 5,
    "start_time": "2022-10-17T11:25:36.770Z"
   },
   {
    "duration": 12,
    "start_time": "2022-10-17T11:25:37.170Z"
   },
   {
    "duration": 4,
    "start_time": "2022-10-17T11:25:39.146Z"
   },
   {
    "duration": 7,
    "start_time": "2022-10-17T11:25:39.420Z"
   },
   {
    "duration": 4,
    "start_time": "2022-10-17T11:25:39.486Z"
   },
   {
    "duration": 9,
    "start_time": "2022-10-17T11:25:40.855Z"
   },
   {
    "duration": 3,
    "start_time": "2022-10-17T11:25:41.324Z"
   },
   {
    "duration": 1157,
    "start_time": "2022-10-17T11:25:42.715Z"
   },
   {
    "duration": 4,
    "start_time": "2022-10-17T11:25:43.874Z"
   },
   {
    "duration": 3,
    "start_time": "2022-10-17T11:25:45.375Z"
   },
   {
    "duration": 3,
    "start_time": "2022-10-17T11:25:45.899Z"
   },
   {
    "duration": 2,
    "start_time": "2022-10-17T11:25:46.179Z"
   },
   {
    "duration": 2,
    "start_time": "2022-10-17T11:25:46.470Z"
   },
   {
    "duration": 2,
    "start_time": "2022-10-17T11:25:46.759Z"
   },
   {
    "duration": 2,
    "start_time": "2022-10-17T11:25:47.042Z"
   },
   {
    "duration": 605,
    "start_time": "2022-10-17T11:25:47.589Z"
   },
   {
    "duration": 3,
    "start_time": "2022-10-17T11:25:48.195Z"
   },
   {
    "duration": 2,
    "start_time": "2022-10-17T11:25:48.492Z"
   },
   {
    "duration": 3,
    "start_time": "2022-10-17T11:25:48.781Z"
   },
   {
    "duration": 3,
    "start_time": "2022-10-17T11:25:49.239Z"
   },
   {
    "duration": 3,
    "start_time": "2022-10-17T11:25:49.518Z"
   },
   {
    "duration": 81,
    "start_time": "2022-10-17T11:25:50.082Z"
   },
   {
    "duration": 5,
    "start_time": "2022-10-17T11:26:27.189Z"
   },
   {
    "duration": 5,
    "start_time": "2022-10-17T11:26:27.670Z"
   },
   {
    "duration": 7,
    "start_time": "2022-10-17T11:26:28.210Z"
   },
   {
    "duration": 6,
    "start_time": "2022-10-17T11:26:28.901Z"
   },
   {
    "duration": 8,
    "start_time": "2022-10-17T11:28:26.756Z"
   },
   {
    "duration": 12060,
    "start_time": "2022-10-17T11:28:27.716Z"
   },
   {
    "duration": 8,
    "start_time": "2022-10-17T11:29:09.857Z"
   },
   {
    "duration": 380382,
    "start_time": "2022-10-17T11:29:10.620Z"
   },
   {
    "duration": 785,
    "start_time": "2022-10-17T11:41:06.175Z"
   },
   {
    "duration": 5,
    "start_time": "2022-10-17T11:41:08.770Z"
   },
   {
    "duration": 7,
    "start_time": "2022-10-17T11:41:19.642Z"
   },
   {
    "duration": 6,
    "start_time": "2022-10-17T11:41:20.076Z"
   },
   {
    "duration": 5,
    "start_time": "2022-10-17T11:42:08.827Z"
   },
   {
    "duration": 6,
    "start_time": "2022-10-17T11:42:10.191Z"
   },
   {
    "duration": 3,
    "start_time": "2022-10-17T11:42:10.830Z"
   },
   {
    "duration": 9,
    "start_time": "2022-10-17T11:42:12.590Z"
   },
   {
    "duration": 3,
    "start_time": "2022-10-17T11:42:13.136Z"
   },
   {
    "duration": 1038,
    "start_time": "2022-10-17T11:42:14.907Z"
   },
   {
    "duration": 4,
    "start_time": "2022-10-17T11:42:15.947Z"
   },
   {
    "duration": 3,
    "start_time": "2022-10-17T11:42:16.160Z"
   },
   {
    "duration": 2,
    "start_time": "2022-10-17T11:42:16.995Z"
   },
   {
    "duration": 2,
    "start_time": "2022-10-17T11:42:17.256Z"
   },
   {
    "duration": 2,
    "start_time": "2022-10-17T11:42:17.504Z"
   },
   {
    "duration": 2,
    "start_time": "2022-10-17T11:42:17.780Z"
   },
   {
    "duration": 3,
    "start_time": "2022-10-17T11:42:18.066Z"
   },
   {
    "duration": 580,
    "start_time": "2022-10-17T11:42:18.627Z"
   },
   {
    "duration": 3,
    "start_time": "2022-10-17T11:42:19.505Z"
   },
   {
    "duration": 2,
    "start_time": "2022-10-17T11:42:20.116Z"
   },
   {
    "duration": 2,
    "start_time": "2022-10-17T11:42:20.427Z"
   },
   {
    "duration": 3,
    "start_time": "2022-10-17T11:42:20.693Z"
   },
   {
    "duration": 3,
    "start_time": "2022-10-17T11:42:20.967Z"
   },
   {
    "duration": 4,
    "start_time": "2022-10-17T11:42:22.793Z"
   },
   {
    "duration": 5,
    "start_time": "2022-10-17T11:42:23.286Z"
   },
   {
    "duration": 7,
    "start_time": "2022-10-17T11:42:24.583Z"
   },
   {
    "duration": 6,
    "start_time": "2022-10-17T11:42:29.792Z"
   },
   {
    "duration": 195,
    "start_time": "2022-10-17T11:42:32.452Z"
   },
   {
    "duration": 7,
    "start_time": "2022-10-17T11:43:42.377Z"
   },
   {
    "duration": 6,
    "start_time": "2022-10-17T11:43:43.312Z"
   },
   {
    "duration": 4,
    "start_time": "2022-10-17T11:44:45.355Z"
   },
   {
    "duration": 5,
    "start_time": "2022-10-17T11:44:46.628Z"
   },
   {
    "duration": 4,
    "start_time": "2022-10-17T11:44:48.076Z"
   },
   {
    "duration": 4,
    "start_time": "2022-10-17T11:44:59.747Z"
   },
   {
    "duration": 7,
    "start_time": "2022-10-17T11:45:00.549Z"
   },
   {
    "duration": 3,
    "start_time": "2022-10-17T11:45:01.197Z"
   },
   {
    "duration": 9,
    "start_time": "2022-10-17T11:45:07.405Z"
   },
   {
    "duration": 4,
    "start_time": "2022-10-17T11:45:07.909Z"
   },
   {
    "duration": 1020,
    "start_time": "2022-10-17T11:45:09.129Z"
   },
   {
    "duration": 5,
    "start_time": "2022-10-17T11:45:10.151Z"
   },
   {
    "duration": 709,
    "start_time": "2022-10-17T11:45:15.243Z"
   },
   {
    "duration": 7,
    "start_time": "2022-10-17T11:45:21.253Z"
   },
   {
    "duration": 6,
    "start_time": "2022-10-17T11:45:22.065Z"
   },
   {
    "duration": 180,
    "start_time": "2022-10-17T11:45:23.842Z"
   },
   {
    "duration": 4,
    "start_time": "2022-10-17T11:46:35.458Z"
   },
   {
    "duration": 6,
    "start_time": "2022-10-17T11:46:35.682Z"
   },
   {
    "duration": 4,
    "start_time": "2022-10-17T11:46:35.884Z"
   },
   {
    "duration": 8,
    "start_time": "2022-10-17T11:46:36.624Z"
   },
   {
    "duration": 4,
    "start_time": "2022-10-17T11:46:36.881Z"
   },
   {
    "duration": 1137,
    "start_time": "2022-10-17T11:46:37.334Z"
   },
   {
    "duration": 4,
    "start_time": "2022-10-17T11:46:38.474Z"
   },
   {
    "duration": 8,
    "start_time": "2022-10-17T11:46:38.485Z"
   },
   {
    "duration": 3,
    "start_time": "2022-10-17T11:46:39.320Z"
   },
   {
    "duration": 3,
    "start_time": "2022-10-17T11:46:39.572Z"
   },
   {
    "duration": 3,
    "start_time": "2022-10-17T11:46:39.800Z"
   },
   {
    "duration": 2,
    "start_time": "2022-10-17T11:46:40.028Z"
   },
   {
    "duration": 2,
    "start_time": "2022-10-17T11:46:40.255Z"
   },
   {
    "duration": 819,
    "start_time": "2022-10-17T11:46:40.704Z"
   },
   {
    "duration": 2,
    "start_time": "2022-10-17T11:46:41.526Z"
   },
   {
    "duration": 12,
    "start_time": "2022-10-17T11:46:41.530Z"
   },
   {
    "duration": 2,
    "start_time": "2022-10-17T11:46:41.660Z"
   },
   {
    "duration": 3,
    "start_time": "2022-10-17T11:46:41.872Z"
   },
   {
    "duration": 2,
    "start_time": "2022-10-17T11:46:42.285Z"
   },
   {
    "duration": 5,
    "start_time": "2022-10-17T11:47:01.730Z"
   },
   {
    "duration": 5,
    "start_time": "2022-10-17T11:47:02.723Z"
   },
   {
    "duration": 8,
    "start_time": "2022-10-17T11:47:03.970Z"
   },
   {
    "duration": 6,
    "start_time": "2022-10-17T11:47:05.048Z"
   },
   {
    "duration": 17,
    "start_time": "2022-10-17T11:48:32.691Z"
   },
   {
    "duration": 16,
    "start_time": "2022-10-17T11:48:34.817Z"
   },
   {
    "duration": 6,
    "start_time": "2022-10-17T11:48:35.915Z"
   },
   {
    "duration": 13,
    "start_time": "2022-10-17T11:48:36.217Z"
   },
   {
    "duration": 5,
    "start_time": "2022-10-17T11:48:37.028Z"
   },
   {
    "duration": 5,
    "start_time": "2022-10-17T11:48:40.155Z"
   },
   {
    "duration": 3,
    "start_time": "2022-10-17T11:48:40.783Z"
   },
   {
    "duration": 12,
    "start_time": "2022-10-17T11:48:44.447Z"
   },
   {
    "duration": 5,
    "start_time": "2022-10-17T11:48:44.792Z"
   },
   {
    "duration": 1070,
    "start_time": "2022-10-17T11:48:46.548Z"
   },
   {
    "duration": 3,
    "start_time": "2022-10-17T11:48:47.620Z"
   },
   {
    "duration": 3,
    "start_time": "2022-10-17T11:48:48.625Z"
   },
   {
    "duration": 2,
    "start_time": "2022-10-17T11:48:49.343Z"
   },
   {
    "duration": 3,
    "start_time": "2022-10-17T11:48:49.651Z"
   },
   {
    "duration": 3,
    "start_time": "2022-10-17T11:48:49.906Z"
   },
   {
    "duration": 2,
    "start_time": "2022-10-17T11:48:50.145Z"
   },
   {
    "duration": 3,
    "start_time": "2022-10-17T11:48:50.401Z"
   },
   {
    "duration": 787,
    "start_time": "2022-10-17T11:48:50.977Z"
   },
   {
    "duration": 3,
    "start_time": "2022-10-17T11:48:51.765Z"
   },
   {
    "duration": 2,
    "start_time": "2022-10-17T11:48:51.967Z"
   },
   {
    "duration": 3,
    "start_time": "2022-10-17T11:48:52.722Z"
   },
   {
    "duration": 2,
    "start_time": "2022-10-17T11:48:53.243Z"
   },
   {
    "duration": 2,
    "start_time": "2022-10-17T11:48:53.575Z"
   },
   {
    "duration": 4,
    "start_time": "2022-10-17T11:48:55.131Z"
   },
   {
    "duration": 4,
    "start_time": "2022-10-17T11:48:55.424Z"
   },
   {
    "duration": 8,
    "start_time": "2022-10-17T11:48:55.671Z"
   },
   {
    "duration": 6,
    "start_time": "2022-10-17T11:48:56.666Z"
   },
   {
    "duration": 7,
    "start_time": "2022-10-17T11:49:13.324Z"
   },
   {
    "duration": 7,
    "start_time": "2022-10-17T11:49:23.448Z"
   },
   {
    "duration": 214,
    "start_time": "2022-10-17T11:52:10.608Z"
   },
   {
    "duration": 8,
    "start_time": "2022-10-17T11:56:57.882Z"
   },
   {
    "duration": 6,
    "start_time": "2022-10-17T11:56:58.903Z"
   },
   {
    "duration": 228,
    "start_time": "2022-10-17T11:56:59.792Z"
   },
   {
    "duration": 6,
    "start_time": "2022-10-17T11:57:15.902Z"
   },
   {
    "duration": 215,
    "start_time": "2022-10-17T11:57:16.597Z"
   },
   {
    "duration": 6,
    "start_time": "2022-10-17T11:58:29.573Z"
   },
   {
    "duration": 6,
    "start_time": "2022-10-17T11:58:30.581Z"
   },
   {
    "duration": 210,
    "start_time": "2022-10-17T11:58:31.197Z"
   },
   {
    "duration": 1004,
    "start_time": "2022-10-17T11:59:34.510Z"
   },
   {
    "duration": 38,
    "start_time": "2022-10-17T11:59:37.123Z"
   },
   {
    "duration": 8,
    "start_time": "2022-10-17T11:59:45.469Z"
   },
   {
    "duration": 5,
    "start_time": "2022-10-17T11:59:46.101Z"
   },
   {
    "duration": 2005,
    "start_time": "2022-10-17T12:00:52.445Z"
   },
   {
    "duration": 1722,
    "start_time": "2022-10-17T12:00:54.453Z"
   },
   {
    "duration": 53,
    "start_time": "2022-10-17T12:00:56.177Z"
   },
   {
    "duration": 9,
    "start_time": "2022-10-17T12:00:56.234Z"
   },
   {
    "duration": 12,
    "start_time": "2022-10-17T12:00:56.245Z"
   },
   {
    "duration": 6,
    "start_time": "2022-10-17T12:00:56.259Z"
   },
   {
    "duration": 7,
    "start_time": "2022-10-17T12:00:56.267Z"
   },
   {
    "duration": 11,
    "start_time": "2022-10-17T12:00:56.275Z"
   },
   {
    "duration": 6,
    "start_time": "2022-10-17T12:00:56.288Z"
   },
   {
    "duration": 697,
    "start_time": "2022-10-17T12:00:56.296Z"
   },
   {
    "duration": 436,
    "start_time": "2022-10-17T12:00:56.995Z"
   },
   {
    "duration": 541,
    "start_time": "2022-10-17T12:00:57.432Z"
   },
   {
    "duration": 1411,
    "start_time": "2022-10-17T12:00:57.975Z"
   },
   {
    "duration": 1598,
    "start_time": "2022-10-17T12:00:59.388Z"
   },
   {
    "duration": 97,
    "start_time": "2022-10-17T12:01:00.988Z"
   },
   {
    "duration": 2,
    "start_time": "2022-10-17T12:01:01.087Z"
   },
   {
    "duration": 18,
    "start_time": "2022-10-17T12:01:01.091Z"
   },
   {
    "duration": 21,
    "start_time": "2022-10-17T12:01:01.110Z"
   },
   {
    "duration": 31,
    "start_time": "2022-10-17T12:01:01.132Z"
   },
   {
    "duration": 818,
    "start_time": "2022-10-17T12:01:01.164Z"
   },
   {
    "duration": 2,
    "start_time": "2022-10-17T12:01:01.984Z"
   },
   {
    "duration": 70,
    "start_time": "2022-10-17T12:01:01.987Z"
   },
   {
    "duration": 37,
    "start_time": "2022-10-17T12:01:02.059Z"
   },
   {
    "duration": 344,
    "start_time": "2022-10-17T12:01:02.098Z"
   },
   {
    "duration": 21,
    "start_time": "2022-10-17T12:01:02.443Z"
   },
   {
    "duration": 21,
    "start_time": "2022-10-17T12:01:02.465Z"
   },
   {
    "duration": 20,
    "start_time": "2022-10-17T12:01:02.488Z"
   },
   {
    "duration": 31,
    "start_time": "2022-10-17T12:01:02.512Z"
   },
   {
    "duration": 37,
    "start_time": "2022-10-17T12:01:02.544Z"
   },
   {
    "duration": 39,
    "start_time": "2022-10-17T12:01:02.583Z"
   },
   {
    "duration": 37,
    "start_time": "2022-10-17T12:01:02.624Z"
   },
   {
    "duration": 37,
    "start_time": "2022-10-17T12:01:02.662Z"
   },
   {
    "duration": 25,
    "start_time": "2022-10-17T12:01:02.701Z"
   },
   {
    "duration": 1136,
    "start_time": "2022-10-17T12:01:02.727Z"
   },
   {
    "duration": 4,
    "start_time": "2022-10-17T12:01:03.865Z"
   },
   {
    "duration": 6,
    "start_time": "2022-10-17T12:01:03.870Z"
   },
   {
    "duration": 8,
    "start_time": "2022-10-17T12:01:03.877Z"
   },
   {
    "duration": 7,
    "start_time": "2022-10-17T12:01:03.887Z"
   },
   {
    "duration": 5,
    "start_time": "2022-10-17T12:01:03.895Z"
   },
   {
    "duration": 5,
    "start_time": "2022-10-17T12:01:03.902Z"
   },
   {
    "duration": 5,
    "start_time": "2022-10-17T12:01:03.908Z"
   },
   {
    "duration": 650,
    "start_time": "2022-10-17T12:01:03.915Z"
   },
   {
    "duration": 3,
    "start_time": "2022-10-17T12:01:04.566Z"
   },
   {
    "duration": 11,
    "start_time": "2022-10-17T12:01:04.570Z"
   },
   {
    "duration": 8,
    "start_time": "2022-10-17T12:01:04.583Z"
   },
   {
    "duration": 6,
    "start_time": "2022-10-17T12:01:04.592Z"
   },
   {
    "duration": 5,
    "start_time": "2022-10-17T12:01:04.600Z"
   },
   {
    "duration": 12,
    "start_time": "2022-10-17T12:01:04.606Z"
   },
   {
    "duration": 8,
    "start_time": "2022-10-17T12:01:04.619Z"
   },
   {
    "duration": 13,
    "start_time": "2022-10-17T12:01:04.629Z"
   },
   {
    "duration": 44,
    "start_time": "2022-10-17T12:01:04.643Z"
   },
   {
    "duration": 274,
    "start_time": "2022-10-17T12:01:04.688Z"
   },
   {
    "duration": 234,
    "start_time": "2022-10-17T12:03:34.791Z"
   },
   {
    "duration": 184,
    "start_time": "2022-10-17T12:04:14.371Z"
   },
   {
    "duration": 186,
    "start_time": "2022-10-17T12:04:27.696Z"
   },
   {
    "duration": 4,
    "start_time": "2022-10-17T12:05:14.575Z"
   },
   {
    "duration": 178,
    "start_time": "2022-10-17T12:05:34.804Z"
   },
   {
    "duration": 185,
    "start_time": "2022-10-17T12:06:15.554Z"
   },
   {
    "duration": 123,
    "start_time": "2022-10-17T12:06:58.517Z"
   },
   {
    "duration": 4,
    "start_time": "2022-10-17T12:07:16.518Z"
   },
   {
    "duration": 595,
    "start_time": "2022-10-17T12:08:37.447Z"
   },
   {
    "duration": 5,
    "start_time": "2022-10-17T12:08:39.318Z"
   },
   {
    "duration": 7,
    "start_time": "2022-10-17T12:08:48.628Z"
   },
   {
    "duration": 8,
    "start_time": "2022-10-17T12:08:49.796Z"
   },
   {
    "duration": 16353,
    "start_time": "2022-10-18T10:03:30.760Z"
   },
   {
    "duration": 2004,
    "start_time": "2022-10-18T10:03:47.116Z"
   },
   {
    "duration": 161,
    "start_time": "2022-10-18T10:03:49.122Z"
   },
   {
    "duration": 11,
    "start_time": "2022-10-18T10:03:49.285Z"
   },
   {
    "duration": 9,
    "start_time": "2022-10-18T10:03:49.297Z"
   },
   {
    "duration": 10,
    "start_time": "2022-10-18T10:03:49.308Z"
   },
   {
    "duration": 13,
    "start_time": "2022-10-18T10:03:49.320Z"
   },
   {
    "duration": 5,
    "start_time": "2022-10-18T10:03:49.335Z"
   },
   {
    "duration": 7,
    "start_time": "2022-10-18T10:03:49.342Z"
   },
   {
    "duration": 896,
    "start_time": "2022-10-18T10:03:56.584Z"
   },
   {
    "duration": 731,
    "start_time": "2022-10-18T10:04:18.722Z"
   },
   {
    "duration": 691,
    "start_time": "2022-10-18T10:04:57.467Z"
   },
   {
    "duration": 755,
    "start_time": "2022-10-18T10:05:10.997Z"
   },
   {
    "duration": 784,
    "start_time": "2022-10-18T10:05:45.132Z"
   },
   {
    "duration": 705,
    "start_time": "2022-10-18T10:06:00.837Z"
   },
   {
    "duration": 1019,
    "start_time": "2022-10-18T10:07:33.211Z"
   },
   {
    "duration": 3,
    "start_time": "2022-10-18T10:07:35.863Z"
   },
   {
    "duration": 10,
    "start_time": "2022-10-18T10:07:36.189Z"
   },
   {
    "duration": 8,
    "start_time": "2022-10-18T10:07:36.676Z"
   },
   {
    "duration": 392,
    "start_time": "2022-10-18T10:07:41.587Z"
   },
   {
    "duration": 26,
    "start_time": "2022-10-18T10:08:12.629Z"
   },
   {
    "duration": 5,
    "start_time": "2022-10-18T10:08:27.264Z"
   },
   {
    "duration": 9,
    "start_time": "2022-10-18T10:08:30.935Z"
   },
   {
    "duration": 13,
    "start_time": "2022-10-18T10:08:31.340Z"
   },
   {
    "duration": 4,
    "start_time": "2022-10-18T10:08:33.447Z"
   },
   {
    "duration": 10,
    "start_time": "2022-10-18T10:08:33.847Z"
   },
   {
    "duration": 5,
    "start_time": "2022-10-18T10:08:34.247Z"
   },
   {
    "duration": 12,
    "start_time": "2022-10-18T10:08:45.748Z"
   },
   {
    "duration": 6,
    "start_time": "2022-10-18T10:08:46.179Z"
   },
   {
    "duration": 1386,
    "start_time": "2022-10-18T10:08:48.360Z"
   },
   {
    "duration": 4,
    "start_time": "2022-10-18T10:08:49.748Z"
   },
   {
    "duration": 768,
    "start_time": "2022-10-18T10:08:53.616Z"
   },
   {
    "duration": 9,
    "start_time": "2022-10-18T10:08:59.633Z"
   },
   {
    "duration": 7,
    "start_time": "2022-10-18T10:09:00.148Z"
   },
   {
    "duration": 239,
    "start_time": "2022-10-18T10:09:01.624Z"
   },
   {
    "duration": 59,
    "start_time": "2022-10-18T10:10:06.428Z"
   },
   {
    "duration": 167,
    "start_time": "2022-10-18T10:10:08.708Z"
   },
   {
    "duration": 9,
    "start_time": "2022-10-18T10:10:10.043Z"
   },
   {
    "duration": 36,
    "start_time": "2022-10-18T10:10:10.584Z"
   },
   {
    "duration": 5,
    "start_time": "2022-10-18T10:10:11.885Z"
   },
   {
    "duration": 6,
    "start_time": "2022-10-18T10:10:12.954Z"
   },
   {
    "duration": 4,
    "start_time": "2022-10-18T10:10:13.354Z"
   },
   {
    "duration": 93,
    "start_time": "2022-10-18T10:10:14.812Z"
   },
   {
    "duration": 5,
    "start_time": "2022-10-18T10:10:15.394Z"
   },
   {
    "duration": 4986,
    "start_time": "2022-10-18T10:10:16.705Z"
   },
   {
    "duration": 4,
    "start_time": "2022-10-18T10:10:21.693Z"
   },
   {
    "duration": 840,
    "start_time": "2022-10-18T10:10:23.631Z"
   },
   {
    "duration": 10,
    "start_time": "2022-10-18T10:10:37.960Z"
   },
   {
    "duration": 10,
    "start_time": "2022-10-18T10:10:46.001Z"
   },
   {
    "duration": 16,
    "start_time": "2022-10-18T10:10:46.553Z"
   },
   {
    "duration": 5064,
    "start_time": "2022-10-18T10:10:55.099Z"
   },
   {
    "duration": 23,
    "start_time": "2022-10-18T10:11:10.123Z"
   },
   {
    "duration": 204,
    "start_time": "2022-10-18T10:11:12.636Z"
   },
   {
    "duration": 4917,
    "start_time": "2022-10-18T10:11:21.714Z"
   },
   {
    "duration": 33,
    "start_time": "2022-10-18T10:11:26.634Z"
   },
   {
    "duration": 226,
    "start_time": "2022-10-18T10:11:27.935Z"
   },
   {
    "duration": 2395,
    "start_time": "2022-10-18T10:11:40.707Z"
   },
   {
    "duration": 1899,
    "start_time": "2022-10-18T10:11:43.108Z"
   },
   {
    "duration": 58,
    "start_time": "2022-10-18T10:11:45.009Z"
   },
   {
    "duration": 12,
    "start_time": "2022-10-18T10:11:45.070Z"
   },
   {
    "duration": 15,
    "start_time": "2022-10-18T10:11:45.085Z"
   },
   {
    "duration": 26,
    "start_time": "2022-10-18T10:11:45.103Z"
   },
   {
    "duration": 15,
    "start_time": "2022-10-18T10:11:45.131Z"
   },
   {
    "duration": 11,
    "start_time": "2022-10-18T10:11:45.147Z"
   },
   {
    "duration": 15,
    "start_time": "2022-10-18T10:11:45.159Z"
   },
   {
    "duration": 722,
    "start_time": "2022-10-18T10:11:45.177Z"
   },
   {
    "duration": 445,
    "start_time": "2022-10-18T10:11:45.901Z"
   },
   {
    "duration": 751,
    "start_time": "2022-10-18T10:11:46.348Z"
   },
   {
    "duration": 1800,
    "start_time": "2022-10-18T10:11:47.101Z"
   },
   {
    "duration": 1993,
    "start_time": "2022-10-18T10:11:48.903Z"
   },
   {
    "duration": 96,
    "start_time": "2022-10-18T10:11:50.899Z"
   },
   {
    "duration": 5,
    "start_time": "2022-10-18T10:11:50.997Z"
   },
   {
    "duration": 6,
    "start_time": "2022-10-18T10:11:51.004Z"
   },
   {
    "duration": 9,
    "start_time": "2022-10-18T10:11:51.012Z"
   },
   {
    "duration": 15,
    "start_time": "2022-10-18T10:11:51.022Z"
   },
   {
    "duration": 1133,
    "start_time": "2022-10-18T10:11:51.038Z"
   },
   {
    "duration": 3,
    "start_time": "2022-10-18T10:11:52.172Z"
   },
   {
    "duration": 17,
    "start_time": "2022-10-18T10:11:52.177Z"
   },
   {
    "duration": 8,
    "start_time": "2022-10-18T10:11:52.196Z"
   },
   {
    "duration": 380,
    "start_time": "2022-10-18T10:11:52.206Z"
   },
   {
    "duration": 77,
    "start_time": "2022-10-18T10:11:52.588Z"
   },
   {
    "duration": 8,
    "start_time": "2022-10-18T10:11:52.667Z"
   },
   {
    "duration": 23,
    "start_time": "2022-10-18T10:11:52.677Z"
   },
   {
    "duration": 38,
    "start_time": "2022-10-18T10:11:52.706Z"
   },
   {
    "duration": 6,
    "start_time": "2022-10-18T10:11:52.746Z"
   },
   {
    "duration": 8,
    "start_time": "2022-10-18T10:11:52.753Z"
   },
   {
    "duration": 33,
    "start_time": "2022-10-18T10:11:52.763Z"
   },
   {
    "duration": 198,
    "start_time": "2022-10-18T10:11:52.797Z"
   },
   {
    "duration": 5,
    "start_time": "2022-10-18T10:11:52.997Z"
   },
   {
    "duration": 4866,
    "start_time": "2022-10-18T10:11:53.003Z"
   },
   {
    "duration": 4,
    "start_time": "2022-10-18T10:11:57.871Z"
   },
   {
    "duration": 812,
    "start_time": "2022-10-18T10:11:57.877Z"
   },
   {
    "duration": 3,
    "start_time": "2022-10-18T10:11:58.691Z"
   },
   {
    "duration": 5,
    "start_time": "2022-10-18T10:11:58.696Z"
   },
   {
    "duration": 5,
    "start_time": "2022-10-18T10:11:58.703Z"
   },
   {
    "duration": 9,
    "start_time": "2022-10-18T10:11:58.710Z"
   },
   {
    "duration": 5,
    "start_time": "2022-10-18T10:11:58.721Z"
   },
   {
    "duration": 4614,
    "start_time": "2022-10-18T10:11:58.727Z"
   },
   {
    "duration": 28,
    "start_time": "2022-10-18T10:12:03.343Z"
   },
   {
    "duration": 225,
    "start_time": "2022-10-18T10:12:03.373Z"
   },
   {
    "duration": 859,
    "start_time": "2022-10-18T10:13:33.092Z"
   },
   {
    "duration": 11,
    "start_time": "2022-10-18T10:13:36.791Z"
   },
   {
    "duration": 20,
    "start_time": "2022-10-18T10:13:53.497Z"
   },
   {
    "duration": 17,
    "start_time": "2022-10-18T10:13:54.662Z"
   },
   {
    "duration": 248,
    "start_time": "2022-10-18T10:13:56.481Z"
   }
  ],
  "kernelspec": {
   "display_name": "Python 3 (ipykernel)",
   "language": "python",
   "name": "python3"
  },
  "language_info": {
   "codemirror_mode": {
    "name": "ipython",
    "version": 3
   },
   "file_extension": ".py",
   "mimetype": "text/x-python",
   "name": "python",
   "nbconvert_exporter": "python",
   "pygments_lexer": "ipython3",
   "version": "3.9.5"
  },
  "toc": {
   "base_numbering": 1,
   "nav_menu": {},
   "number_sections": true,
   "sideBar": true,
   "skip_h1_title": true,
   "title_cell": "Содержание",
   "title_sidebar": "Contents",
   "toc_cell": true,
   "toc_position": {
    "height": "calc(100% - 180px)",
    "left": "10px",
    "top": "150px",
    "width": "408.889px"
   },
   "toc_section_display": true,
   "toc_window_display": false
  }
 },
 "nbformat": 4,
 "nbformat_minor": 2
}
